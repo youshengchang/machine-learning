{
 "cells": [
  {
   "cell_type": "code",
   "execution_count": 1,
   "metadata": {
    "collapsed": true
   },
   "outputs": [],
   "source": [
    "import graphlab"
   ]
  },
  {
   "cell_type": "code",
   "execution_count": 2,
   "metadata": {
    "collapsed": false
   },
   "outputs": [
    {
     "name": "stderr",
     "output_type": "stream",
     "text": [
      "[INFO] graphlab.cython.cy_server: GraphLab Create v2.1 started. Logging: /tmp/graphlab_server_1496272541.log\n"
     ]
    },
    {
     "name": "stdout",
     "output_type": "stream",
     "text": [
      "This non-commercial license of GraphLab Create for academic use is assigned to changyousheng@yahoo.com and will expire on February 11, 2018.\n"
     ]
    }
   ],
   "source": [
    "products = graphlab.SFrame('amazon_baby.gl/')"
   ]
  },
  {
   "cell_type": "code",
   "execution_count": 3,
   "metadata": {
    "collapsed": false
   },
   "outputs": [
    {
     "data": {
      "text/html": [
       "<div style=\"max-height:1000px;max-width:1500px;overflow:auto;\"><table frame=\"box\" rules=\"cols\">\n",
       "    <tr>\n",
       "        <th style=\"padding-left: 1em; padding-right: 1em; text-align: center\">name</th>\n",
       "        <th style=\"padding-left: 1em; padding-right: 1em; text-align: center\">review</th>\n",
       "        <th style=\"padding-left: 1em; padding-right: 1em; text-align: center\">rating</th>\n",
       "    </tr>\n",
       "    <tr>\n",
       "        <td style=\"padding-left: 1em; padding-right: 1em; text-align: center; vertical-align: top\">Planetwise Flannel Wipes</td>\n",
       "        <td style=\"padding-left: 1em; padding-right: 1em; text-align: center; vertical-align: top\">These flannel wipes are<br>OK, but in my opinion ...</td>\n",
       "        <td style=\"padding-left: 1em; padding-right: 1em; text-align: center; vertical-align: top\">3.0</td>\n",
       "    </tr>\n",
       "    <tr>\n",
       "        <td style=\"padding-left: 1em; padding-right: 1em; text-align: center; vertical-align: top\">Planetwise Wipe Pouch</td>\n",
       "        <td style=\"padding-left: 1em; padding-right: 1em; text-align: center; vertical-align: top\">it came early and was not<br>disappointed. i love ...</td>\n",
       "        <td style=\"padding-left: 1em; padding-right: 1em; text-align: center; vertical-align: top\">5.0</td>\n",
       "    </tr>\n",
       "    <tr>\n",
       "        <td style=\"padding-left: 1em; padding-right: 1em; text-align: center; vertical-align: top\">Annas Dream Full Quilt<br>with 2 Shams ...</td>\n",
       "        <td style=\"padding-left: 1em; padding-right: 1em; text-align: center; vertical-align: top\">Very soft and comfortable<br>and warmer than it ...</td>\n",
       "        <td style=\"padding-left: 1em; padding-right: 1em; text-align: center; vertical-align: top\">5.0</td>\n",
       "    </tr>\n",
       "    <tr>\n",
       "        <td style=\"padding-left: 1em; padding-right: 1em; text-align: center; vertical-align: top\">Stop Pacifier Sucking<br>without tears with ...</td>\n",
       "        <td style=\"padding-left: 1em; padding-right: 1em; text-align: center; vertical-align: top\">This is a product well<br>worth the purchase.  I ...</td>\n",
       "        <td style=\"padding-left: 1em; padding-right: 1em; text-align: center; vertical-align: top\">5.0</td>\n",
       "    </tr>\n",
       "    <tr>\n",
       "        <td style=\"padding-left: 1em; padding-right: 1em; text-align: center; vertical-align: top\">Stop Pacifier Sucking<br>without tears with ...</td>\n",
       "        <td style=\"padding-left: 1em; padding-right: 1em; text-align: center; vertical-align: top\">All of my kids have cried<br>non-stop when I tried to ...</td>\n",
       "        <td style=\"padding-left: 1em; padding-right: 1em; text-align: center; vertical-align: top\">5.0</td>\n",
       "    </tr>\n",
       "    <tr>\n",
       "        <td style=\"padding-left: 1em; padding-right: 1em; text-align: center; vertical-align: top\">Stop Pacifier Sucking<br>without tears with ...</td>\n",
       "        <td style=\"padding-left: 1em; padding-right: 1em; text-align: center; vertical-align: top\">When the Binky Fairy came<br>to our house, we didn't ...</td>\n",
       "        <td style=\"padding-left: 1em; padding-right: 1em; text-align: center; vertical-align: top\">5.0</td>\n",
       "    </tr>\n",
       "    <tr>\n",
       "        <td style=\"padding-left: 1em; padding-right: 1em; text-align: center; vertical-align: top\">A Tale of Baby's Days<br>with Peter Rabbit ...</td>\n",
       "        <td style=\"padding-left: 1em; padding-right: 1em; text-align: center; vertical-align: top\">Lovely book, it's bound<br>tightly so you may no ...</td>\n",
       "        <td style=\"padding-left: 1em; padding-right: 1em; text-align: center; vertical-align: top\">4.0</td>\n",
       "    </tr>\n",
       "    <tr>\n",
       "        <td style=\"padding-left: 1em; padding-right: 1em; text-align: center; vertical-align: top\">Baby Tracker&amp;reg; - Daily<br>Childcare Journal, ...</td>\n",
       "        <td style=\"padding-left: 1em; padding-right: 1em; text-align: center; vertical-align: top\">Perfect for new parents.<br>We were able to keep ...</td>\n",
       "        <td style=\"padding-left: 1em; padding-right: 1em; text-align: center; vertical-align: top\">5.0</td>\n",
       "    </tr>\n",
       "    <tr>\n",
       "        <td style=\"padding-left: 1em; padding-right: 1em; text-align: center; vertical-align: top\">Baby Tracker&amp;reg; - Daily<br>Childcare Journal, ...</td>\n",
       "        <td style=\"padding-left: 1em; padding-right: 1em; text-align: center; vertical-align: top\">A friend of mine pinned<br>this product on Pinte ...</td>\n",
       "        <td style=\"padding-left: 1em; padding-right: 1em; text-align: center; vertical-align: top\">5.0</td>\n",
       "    </tr>\n",
       "    <tr>\n",
       "        <td style=\"padding-left: 1em; padding-right: 1em; text-align: center; vertical-align: top\">Baby Tracker&amp;reg; - Daily<br>Childcare Journal, ...</td>\n",
       "        <td style=\"padding-left: 1em; padding-right: 1em; text-align: center; vertical-align: top\">This has been an easy way<br>for my nanny to record ...</td>\n",
       "        <td style=\"padding-left: 1em; padding-right: 1em; text-align: center; vertical-align: top\">4.0</td>\n",
       "    </tr>\n",
       "</table>\n",
       "[10 rows x 3 columns]<br/>\n",
       "</div>"
      ],
      "text/plain": [
       "Columns:\n",
       "\tname\tstr\n",
       "\treview\tstr\n",
       "\trating\tfloat\n",
       "\n",
       "Rows: 10\n",
       "\n",
       "Data:\n",
       "+-------------------------------+-------------------------------+--------+\n",
       "|              name             |             review            | rating |\n",
       "+-------------------------------+-------------------------------+--------+\n",
       "|    Planetwise Flannel Wipes   | These flannel wipes are OK... |  3.0   |\n",
       "|     Planetwise Wipe Pouch     | it came early and was not ... |  5.0   |\n",
       "| Annas Dream Full Quilt wit... | Very soft and comfortable ... |  5.0   |\n",
       "| Stop Pacifier Sucking with... | This is a product well wor... |  5.0   |\n",
       "| Stop Pacifier Sucking with... | All of my kids have cried ... |  5.0   |\n",
       "| Stop Pacifier Sucking with... | When the Binky Fairy came ... |  5.0   |\n",
       "| A Tale of Baby's Days with... | Lovely book, it's bound ti... |  4.0   |\n",
       "| Baby Tracker&reg; - Daily ... | Perfect for new parents. W... |  5.0   |\n",
       "| Baby Tracker&reg; - Daily ... | A friend of mine pinned th... |  5.0   |\n",
       "| Baby Tracker&reg; - Daily ... | This has been an easy way ... |  4.0   |\n",
       "+-------------------------------+-------------------------------+--------+\n",
       "[10 rows x 3 columns]"
      ]
     },
     "execution_count": 3,
     "metadata": {},
     "output_type": "execute_result"
    }
   ],
   "source": [
    "products.head()"
   ]
  },
  {
   "cell_type": "code",
   "execution_count": 4,
   "metadata": {
    "collapsed": true
   },
   "outputs": [],
   "source": [
    "selected_words = ['awesome', 'great', 'fantastic', 'amazing', 'love', 'horrible', 'bad', 'terrible', 'awful', 'wow', 'hate']"
   ]
  },
  {
   "cell_type": "code",
   "execution_count": 5,
   "metadata": {
    "collapsed": false
   },
   "outputs": [
    {
     "data": {
      "text/plain": [
       "['awesome',\n",
       " 'great',\n",
       " 'fantastic',\n",
       " 'amazing',\n",
       " 'love',\n",
       " 'horrible',\n",
       " 'bad',\n",
       " 'terrible',\n",
       " 'awful',\n",
       " 'wow',\n",
       " 'hate']"
      ]
     },
     "execution_count": 5,
     "metadata": {},
     "output_type": "execute_result"
    }
   ],
   "source": [
    "selected_words"
   ]
  },
  {
   "cell_type": "code",
   "execution_count": 6,
   "metadata": {
    "collapsed": true
   },
   "outputs": [],
   "source": [
    "products['word_count'] = graphlab.text_analytics.count_words(products['review'])"
   ]
  },
  {
   "cell_type": "code",
   "execution_count": 7,
   "metadata": {
    "collapsed": false
   },
   "outputs": [
    {
     "data": {
      "text/html": [
       "<div style=\"max-height:1000px;max-width:1500px;overflow:auto;\"><table frame=\"box\" rules=\"cols\">\n",
       "    <tr>\n",
       "        <th style=\"padding-left: 1em; padding-right: 1em; text-align: center\">name</th>\n",
       "        <th style=\"padding-left: 1em; padding-right: 1em; text-align: center\">review</th>\n",
       "        <th style=\"padding-left: 1em; padding-right: 1em; text-align: center\">rating</th>\n",
       "        <th style=\"padding-left: 1em; padding-right: 1em; text-align: center\">word_count</th>\n",
       "    </tr>\n",
       "    <tr>\n",
       "        <td style=\"padding-left: 1em; padding-right: 1em; text-align: center; vertical-align: top\">Planetwise Flannel Wipes</td>\n",
       "        <td style=\"padding-left: 1em; padding-right: 1em; text-align: center; vertical-align: top\">These flannel wipes are<br>OK, but in my opinion ...</td>\n",
       "        <td style=\"padding-left: 1em; padding-right: 1em; text-align: center; vertical-align: top\">3.0</td>\n",
       "        <td style=\"padding-left: 1em; padding-right: 1em; text-align: center; vertical-align: top\">{'and': 5, '6': 1,<br>'stink': 1, 'because' ...</td>\n",
       "    </tr>\n",
       "    <tr>\n",
       "        <td style=\"padding-left: 1em; padding-right: 1em; text-align: center; vertical-align: top\">Planetwise Wipe Pouch</td>\n",
       "        <td style=\"padding-left: 1em; padding-right: 1em; text-align: center; vertical-align: top\">it came early and was not<br>disappointed. i love ...</td>\n",
       "        <td style=\"padding-left: 1em; padding-right: 1em; text-align: center; vertical-align: top\">5.0</td>\n",
       "        <td style=\"padding-left: 1em; padding-right: 1em; text-align: center; vertical-align: top\">{'and': 3, 'love': 1,<br>'it': 2, 'highly': 1, ...</td>\n",
       "    </tr>\n",
       "    <tr>\n",
       "        <td style=\"padding-left: 1em; padding-right: 1em; text-align: center; vertical-align: top\">Annas Dream Full Quilt<br>with 2 Shams ...</td>\n",
       "        <td style=\"padding-left: 1em; padding-right: 1em; text-align: center; vertical-align: top\">Very soft and comfortable<br>and warmer than it ...</td>\n",
       "        <td style=\"padding-left: 1em; padding-right: 1em; text-align: center; vertical-align: top\">5.0</td>\n",
       "        <td style=\"padding-left: 1em; padding-right: 1em; text-align: center; vertical-align: top\">{'and': 2, 'quilt': 1,<br>'it': 1, 'comfortable': ...</td>\n",
       "    </tr>\n",
       "    <tr>\n",
       "        <td style=\"padding-left: 1em; padding-right: 1em; text-align: center; vertical-align: top\">Stop Pacifier Sucking<br>without tears with ...</td>\n",
       "        <td style=\"padding-left: 1em; padding-right: 1em; text-align: center; vertical-align: top\">This is a product well<br>worth the purchase.  I ...</td>\n",
       "        <td style=\"padding-left: 1em; padding-right: 1em; text-align: center; vertical-align: top\">5.0</td>\n",
       "        <td style=\"padding-left: 1em; padding-right: 1em; text-align: center; vertical-align: top\">{'ingenious': 1, 'and':<br>3, 'love': 2, ...</td>\n",
       "    </tr>\n",
       "    <tr>\n",
       "        <td style=\"padding-left: 1em; padding-right: 1em; text-align: center; vertical-align: top\">Stop Pacifier Sucking<br>without tears with ...</td>\n",
       "        <td style=\"padding-left: 1em; padding-right: 1em; text-align: center; vertical-align: top\">All of my kids have cried<br>non-stop when I tried to ...</td>\n",
       "        <td style=\"padding-left: 1em; padding-right: 1em; text-align: center; vertical-align: top\">5.0</td>\n",
       "        <td style=\"padding-left: 1em; padding-right: 1em; text-align: center; vertical-align: top\">{'and': 2, 'parents!!':<br>1, 'all': 2, 'puppet.': ...</td>\n",
       "    </tr>\n",
       "    <tr>\n",
       "        <td style=\"padding-left: 1em; padding-right: 1em; text-align: center; vertical-align: top\">Stop Pacifier Sucking<br>without tears with ...</td>\n",
       "        <td style=\"padding-left: 1em; padding-right: 1em; text-align: center; vertical-align: top\">When the Binky Fairy came<br>to our house, we didn't ...</td>\n",
       "        <td style=\"padding-left: 1em; padding-right: 1em; text-align: center; vertical-align: top\">5.0</td>\n",
       "        <td style=\"padding-left: 1em; padding-right: 1em; text-align: center; vertical-align: top\">{'and': 2, 'this': 2,<br>'her': 1, 'help': 2, ...</td>\n",
       "    </tr>\n",
       "    <tr>\n",
       "        <td style=\"padding-left: 1em; padding-right: 1em; text-align: center; vertical-align: top\">A Tale of Baby's Days<br>with Peter Rabbit ...</td>\n",
       "        <td style=\"padding-left: 1em; padding-right: 1em; text-align: center; vertical-align: top\">Lovely book, it's bound<br>tightly so you may no ...</td>\n",
       "        <td style=\"padding-left: 1em; padding-right: 1em; text-align: center; vertical-align: top\">4.0</td>\n",
       "        <td style=\"padding-left: 1em; padding-right: 1em; text-align: center; vertical-align: top\">{'shop': 1, 'noble': 1,<br>'is': 1, 'it': 1, 'as': ...</td>\n",
       "    </tr>\n",
       "    <tr>\n",
       "        <td style=\"padding-left: 1em; padding-right: 1em; text-align: center; vertical-align: top\">Baby Tracker&amp;reg; - Daily<br>Childcare Journal, ...</td>\n",
       "        <td style=\"padding-left: 1em; padding-right: 1em; text-align: center; vertical-align: top\">Perfect for new parents.<br>We were able to keep ...</td>\n",
       "        <td style=\"padding-left: 1em; padding-right: 1em; text-align: center; vertical-align: top\">5.0</td>\n",
       "        <td style=\"padding-left: 1em; padding-right: 1em; text-align: center; vertical-align: top\">{'and': 2, 'all': 1,<br>'right': 1, 'when': 1, ...</td>\n",
       "    </tr>\n",
       "    <tr>\n",
       "        <td style=\"padding-left: 1em; padding-right: 1em; text-align: center; vertical-align: top\">Baby Tracker&amp;reg; - Daily<br>Childcare Journal, ...</td>\n",
       "        <td style=\"padding-left: 1em; padding-right: 1em; text-align: center; vertical-align: top\">A friend of mine pinned<br>this product on Pinte ...</td>\n",
       "        <td style=\"padding-left: 1em; padding-right: 1em; text-align: center; vertical-align: top\">5.0</td>\n",
       "        <td style=\"padding-left: 1em; padding-right: 1em; text-align: center; vertical-align: top\">{'and': 1, 'help': 1,<br>'give': 1, 'is': 1, ' ...</td>\n",
       "    </tr>\n",
       "    <tr>\n",
       "        <td style=\"padding-left: 1em; padding-right: 1em; text-align: center; vertical-align: top\">Baby Tracker&amp;reg; - Daily<br>Childcare Journal, ...</td>\n",
       "        <td style=\"padding-left: 1em; padding-right: 1em; text-align: center; vertical-align: top\">This has been an easy way<br>for my nanny to record ...</td>\n",
       "        <td style=\"padding-left: 1em; padding-right: 1em; text-align: center; vertical-align: top\">4.0</td>\n",
       "        <td style=\"padding-left: 1em; padding-right: 1em; text-align: center; vertical-align: top\">{'journal.': 1, 'nanny':<br>1, 'standarad': 1, ...</td>\n",
       "    </tr>\n",
       "</table>\n",
       "[183531 rows x 4 columns]<br/>Note: Only the head of the SFrame is printed.<br/>You can use print_rows(num_rows=m, num_columns=n) to print more rows and columns.\n",
       "</div>"
      ],
      "text/plain": [
       "Columns:\n",
       "\tname\tstr\n",
       "\treview\tstr\n",
       "\trating\tfloat\n",
       "\tword_count\tdict\n",
       "\n",
       "Rows: 183531\n",
       "\n",
       "Data:\n",
       "+-------------------------------+-------------------------------+--------+\n",
       "|              name             |             review            | rating |\n",
       "+-------------------------------+-------------------------------+--------+\n",
       "|    Planetwise Flannel Wipes   | These flannel wipes are OK... |  3.0   |\n",
       "|     Planetwise Wipe Pouch     | it came early and was not ... |  5.0   |\n",
       "| Annas Dream Full Quilt wit... | Very soft and comfortable ... |  5.0   |\n",
       "| Stop Pacifier Sucking with... | This is a product well wor... |  5.0   |\n",
       "| Stop Pacifier Sucking with... | All of my kids have cried ... |  5.0   |\n",
       "| Stop Pacifier Sucking with... | When the Binky Fairy came ... |  5.0   |\n",
       "| A Tale of Baby's Days with... | Lovely book, it's bound ti... |  4.0   |\n",
       "| Baby Tracker&reg; - Daily ... | Perfect for new parents. W... |  5.0   |\n",
       "| Baby Tracker&reg; - Daily ... | A friend of mine pinned th... |  5.0   |\n",
       "| Baby Tracker&reg; - Daily ... | This has been an easy way ... |  4.0   |\n",
       "+-------------------------------+-------------------------------+--------+\n",
       "+-------------------------------+\n",
       "|           word_count          |\n",
       "+-------------------------------+\n",
       "| {'and': 5, '6': 1, 'stink'... |\n",
       "| {'and': 3, 'love': 1, 'it'... |\n",
       "| {'and': 2, 'quilt': 1, 'it... |\n",
       "| {'ingenious': 1, 'and': 3,... |\n",
       "| {'and': 2, 'parents!!': 1,... |\n",
       "| {'and': 2, 'this': 2, 'her... |\n",
       "| {'shop': 1, 'noble': 1, 'i... |\n",
       "| {'and': 2, 'all': 1, 'righ... |\n",
       "| {'and': 1, 'help': 1, 'giv... |\n",
       "| {'journal.': 1, 'nanny': 1... |\n",
       "+-------------------------------+\n",
       "[183531 rows x 4 columns]\n",
       "Note: Only the head of the SFrame is printed.\n",
       "You can use print_rows(num_rows=m, num_columns=n) to print more rows and columns."
      ]
     },
     "execution_count": 7,
     "metadata": {},
     "output_type": "execute_result"
    }
   ],
   "source": [
    "products"
   ]
  },
  {
   "cell_type": "code",
   "execution_count": 8,
   "metadata": {
    "collapsed": true
   },
   "outputs": [],
   "source": [
    "dict = products['word_count']"
   ]
  },
  {
   "cell_type": "code",
   "execution_count": 9,
   "metadata": {
    "collapsed": false
   },
   "outputs": [
    {
     "data": {
      "text/plain": [
       "dtype: dict\n",
       "Rows: 183531\n",
       "[{'and': 5L, 'stink': 1L, 'because': 1L, 'ordered': 1L, 'just': 1L, 'had': 2L, 'wipes-ocean': 1L, 'hands': 1L, 'wipes,': 1L, 'replace': 1L, 'fab': 1L, 'softer': 1L, 'are': 3L, 'have': 2L, 'in': 1L, 'need': 1L, 'been': 1L, 'rough': 1L, 'ok,': 1L, 'issues': 1L, 'seemed': 1L, 'use': 1L, 'blue-12': 1L, 'vimse': 1L, 'for': 2L, 'to': 2L, 'that': 1L, 'larger,': 1L, 'texture': 1L, 'also': 1L, 'someimse': 1L, 'quality.': 1L, 'no': 1L, 'boyfor': 1L, 'worth': 1L, 'higher': 1L, 'them': 1L, 'get': 1L, 'keeping.': 1L, 'countwhich': 1L, '6': 1L, 'but': 1L, 'cloth': 2L, 'usingthirsties': 1L, '8': 1L, 'they': 1L, 'opinion': 1L, 'not': 1L, 'now': 1L, 'flannel': 1L, 'a': 2L, 'about': 1L, 'nicer,': 1L, 'longer': 1L, 'these': 1L, 'starting': 1L, 'months': 1L, 'wipes': 2L, 'i': 2L, 'while': 1L, 'stripping': 1L, 'faces': 1L, 'handles.': 1L, 'my': 1L, 'pack': 1L}, {'and': 3L, 'love': 1L, 'it': 2L, 'highly': 1L, 'osocozy': 1L, 'bags': 1L, 'holder.': 1L, 'moist': 1L, 'does': 1L, 'recommend': 1L, 'was': 1L, 'wipes': 1L, 'it.': 1L, 'early': 1L, 'disappointed.': 1L, 'not': 2L, 'now': 1L, 'wipe': 1L, 'keps': 1L, 'wise': 1L, 'i': 1L, 'leak.': 1L, 'planet': 1L, 'my': 2L, 'came': 1L}, {'and': 2L, 'quilt': 1L, 'it': 1L, 'comfortable': 1L, 'warmer': 1L, 'size': 1L, 'anyone': 1L, 'for': 1L, 'looking': 1L, 'to': 1L, 'recommend': 1L, 'type': 1L, 'full': 1L, 'very': 1L, 'looks...fit': 1L, 'than': 1L, 'perfectly...would': 1L, 'this': 1L, 'of': 1L, 'bed': 1L, 'the': 1L, 'soft': 1L}, {'ingenious': 1L, 'and': 3L, 'love': 2L, 'positive,': 1L, 'is': 4L, 'it': 1L, 'losing': 1L, 'fairy.': 1L, 'have': 1L, 'in': 2L, 'rid': 1L, 'what': 1L, 'her': 1L, 'how': 1L, 'to': 1L, 'much': 1L, 'has': 1L, 'approach': 2L, 'worth': 1L, 'she': 1L, 'tool.': 1L, 'product': 2L, 'clever': 1L, 'chart': 1L, 'else': 1L, 'most': 1L, 'artwork,': 1L, 'ownership': 1L, 'not': 1L, 'little': 1L, 'purchase.': 1L, 'herself,': 1L, 'a': 2L, 'about': 1L, 'daughter': 1L, 'like': 1L, 'anything': 1L, 'getting': 1L, 'this': 3L, 'of': 3L, 'proud': 1L, 'well': 1L, 'this,': 1L, 'i': 3L, 'back,': 1L, 'so': 1L, 'binky.': 2L, 'loves': 1L, 'found': 1L, 'the': 7L, 'my': 1L}, {'and': 2L, 'parents!!': 1L, 'all': 2L, 'puppet.': 1L, 'help': 1L, 'cried': 1L, 'is': 3L, 'it': 1L, 'soo': 1L, 'rock!!': 1L, 'way': 1L, 'have': 1L, 'pacifier': 1L, 'my': 1L, 'your': 1L, 'tried': 1L, 'from': 1L, 'for': 2L, 'their': 2L, 'when': 1L, 'to': 5L, 'going': 1L, 'easy': 1L, 'pacifier,': 1L, 'you': 2L, 'save': 1L, 'until': 1L, \"love's\": 1L, 'book!': 1L, 'them': 4L, 'buy': 1L, 'ween': 1L, 'book,': 1L, 'part': 1L, 'understand': 1L, 'it.this': 1L, 'binky': 1L, 'an': 1L, 'with': 1L, 'must': 1L, 'a': 2L, 'great': 1L, 'kids': 2L, 'off': 1L, 'gift': 1L, 'this': 1L, 'many': 1L, 'work': 1L, 'non-stop': 1L, 'thumbuddy': 1L, 'will': 1L, 'i': 2L, 'expecting': 1L, 'allow': 1L, 'of': 1L, 'found': 1L, 'fairy': 1L, 'where': 1L, 'headaches.thanks': 1L}, {'and': 2L, 'cute': 1L, 'help': 2L, 'doll': 1L, 'is': 2L, \"didn't\": 1L, 'it': 1L, 'house,': 1L, 'highly': 1L, 'product': 1L, 'have': 1L, 'pacifier': 1L, 'comes.': 1L, 'your': 1L, 'special': 1L, 'happens': 1L, 'what': 1L, 'thumb': 1L, 'would': 1L, 'to': 6L, 'lots': 1L, 'explain': 1L, 'when': 2L, 'habit.': 1L, 'any': 2L, 'how': 1L, 'book': 2L, 'item.': 1L, 'recommend': 1L, 'pacifier.': 1L, 'adorable': 1L, 'we': 2L, 'sucking': 1L, 'parent': 1L, 'our': 2L, 'stop': 1L, 'great': 1L, 'movies': 1L, 'break': 1L, 'job': 1L, 'important': 1L, 'child': 1L, 'telling': 1L, 'using': 1L, 'binky': 3L, 'trying': 1L, 'with': 1L, 'the': 6L, 'a': 2L, 'loss': 1L, 'about': 2L, 'made': 1L, 'daughter': 1L, 'her': 1L, 'gift': 1L, 'i': 1L, 'of': 2L, 'favorite': 1L, 'their': 1L, 'this': 2L, 'prepare': 1L, 'does': 1L, 'fairy': 3L, 'or': 1L, 'came': 1L, 'for': 2L}, {'shop': 1L, 'be': 1L, 'is': 1L, 'it': 1L, 'as': 1L, 'spaces': 1L, 'at': 1L, 'in': 1L, 'before': 1L, 'from': 1L, 'for': 1L, '&': 1L, '29.95!': 1L, 'barnes': 1L, 'currently': 1L, 'able': 1L, 'aside': 1L, 'tightly': 1L, 'to': 1L, 'add': 1L, 'listed': 1L, 'you': 2L, 'lovely': 1L, 'noble': 1L, 'photos/cards': 1L, 'around': 1L, 'may': 1L, 'designated': 1L, 'book,': 1L, 'book.': 1L, 'bound': 1L, 'not': 1L, 'purchase,': 1L, 'of': 1L, 'so': 1L, 'alot': 1L, \"it's\": 1L, 'the': 2L}, {'feeding,': 1L, 'and': 2L, 'all': 1L, 'right': 1L, 'able': 1L, 'we': 2L, 'two': 1L, 'because': 1L, 'sleep': 1L, 'questions': 1L, 'perfect': 1L, 'her': 1L, 'doctor': 1L, 'when': 1L, 'there!': 1L, 'for': 2L, 'to': 1L, 'new': 1L, 'easier': 1L, 'life': 1L, 'schedule': 1L, 'track': 1L, 'it': 1L, 'diaper': 1L, 'half': 1L, 'ask': 1L, \"baby's\": 1L, 'change': 1L, 'had': 1L, 'a': 1L, 'about': 1L, 'made': 1L, 'would': 1L, 'of': 2L, 'months': 1L, 'keep': 1L, 'habits': 1L, 'were': 1L, 'life.': 1L, 'the': 2L, 'parents.': 1L, 'first': 1L}, {'and': 1L, 'help': 1L, 'give': 1L, 'is': 1L, 'mine': 1L, 'decided': 1L, 'are': 1L, 'if': 1L, 'pinterest': 1L, 'pinned': 1L, 'to': 1L, 'feedings,': 1L, 'new': 1L, 'you': 2L, 'friend': 1L, 'product': 1L, 'like!': 1L, 'track': 1L, 'fantastic!': 1L, 'whirl!': 1L, 'it': 2L, 'diaper': 1L, 'a': 3L, 'on': 1L, 'i': 1L, 'of': 2L, 'parent,': 1L, 'keep': 1L, 'will': 1L, 'this': 2L, 'so': 1L, 'the': 1L, 'changes': 1L}, {'journal.': 1L, 'all': 1L, 'standarad': 1L, 'another': 1L, 'informed': 1L, 'is': 2L, 'some': 1L, 'it': 1L, 'one': 1L, 'not': 2L, 'because': 1L, 'at': 1L, 'have': 1L, 'in': 1L, 'happen': 1L, 'your': 1L, 'out': 1L, 'options.i': 1L, \"you're\": 1L, 'what': 1L, 'for': 1L, 'record': 1L, 'ordering': 1L, 'there': 1L, 'when': 2L, 'while': 1L, 'been': 2L, 'the': 1L, 'to': 4L, 'only': 1L, '5': 1L, 'easy': 1L, 'recommend': 1L, 'has': 1L, 'home.': 1L, 'events': 1L, 'more': 1L, 'wants': 1L, 'we': 1L, 'someone': 1L, 'run': 1L, 'way': 1L, 'that': 1L, 'who': 1L, 'stay': 1L, 'reason': 1L, 'pre-printed': 1L, 'key': 1L, 'baby': 2L, 'highly': 1L, 'with': 1L, 'pages': 1L, 'a': 1L, 'on': 1L, 'would': 1L, 'this': 3L, 'plan': 1L, 'could': 1L, 'up': 1L, 'i': 1L, 'home.the': 1L, 'of': 2L, 'an': 1L, \"i'm\": 1L, 'my': 2L, 'think': 1L, \"isn't\": 1L, 'nanny': 1L}, {'all': 1L, 'forget': 1L, 'just': 1L, \"daughter's\": 1L, 'sleep': 1L, 'milk': 1L, 'weekly': 1L, 'layout': 1L, 'had': 1L, 'hot': 1L, 'to': 11L, 'add': 1L, 'easy': 1L, 'has': 2L, 'real': 1L, 'complaint': 1L, 'etc.)': 1L, 'food': 1L, 'overall': 1L, 'sleep,': 1L, 'nanny,': 1L, 'now': 1L, 'older).my': 1L, 'today)': 1L, 'instructions': 1L, 'notes': 1L, 'all,': 1L, 'leave': 1L, 'she': 3L, 'night': 1L, 'often': 1L, 'back': 1L, 'design': 1L, 'our': 2L, 'out': 1L, 'what': 1L, 'and/or': 1L, 'for': 2L, 'space': 1L, 'sun': 1L, 'comments': 2L, 'time,': 1L, \"nanny's\": 1L, 'day,': 1L, 'reply': 1L, 'previous': 1L, 'screen': 1L, 'knowing': 1L, 'we': 1L, 'eating': 1L, 'schedule': 1L, 'journal': 1L, 'communicate': 1L, 'nanny': 2L, 'rash,': 1L, 'ask': 1L, 'on': 3L, 'about': 1L, '(please': 1L, 'column': 1L, 'of': 4L, 'amount': 1L, 'changes': 1L, 'or': 2L, 'love': 2L, \"baby's\": 2L, 'time--tummy': 1L, 'highly': 1L, 'specifics': 1L, 'morning.': 1L, 'use': 2L, 'notes.': 1L, 'her': 2L, \"it's\": 1L, 'there': 1L, 'took,': 1L, 'quickly': 1L, 'recommend': 1L, 'tracker.': 1L, '(i.e.': 3L, 'naturally': 1L, 'only': 1L, 'that': 2L, \"didn't\": 1L, 'stick': 1L, 'baby': 4L, 'with': 1L, 'specify': 1L, 'rush': 1L, 'this': 2L, 'tell': 1L, 'etc)': 1L, 'my': 2L, 'and': 5L, 'activities.': 1L, 'is': 2L, 'post-its': 1L, 'moved': 1L, 'it': 3L, 'as': 2L, 'want': 1L, 'in': 5L, 'everyday': 1L, 'fill': 1L, 'patterns': 1L, 'make': 1L, '-': 1L, 'walk': 1L, 'also': 1L, 'nap': 1L, 'other': 2L, 'details': 2L, 'gets': 1L, 'play': 1L, 'track': 2L, 'uses': 1L, 'lunch,': 1L, 'a': 1L, 'no': 1L, 'i': 7L, 'sometimes': 1L, 'well': 1L, 'park,': 1L, 'time': 1L, 'very': 1L, 'the': 9L}, {'and': 1L, 'this': 3L, 'is': 1L, 'mom,': 1L, 'back': 1L, 'changes,': 1L, 'in': 1L, 'perfect!': 1L, 'would': 1L, 'doctor': 1L, \"it's\": 1L, 'to': 1L, 'enough': 1L, 'book': 2L, 'easy': 1L, 'recommend': 1L, 'feedings,': 1L, 'new': 2L, 'that': 1L, 'track': 1L, 'it': 1L, 'moms.': 1L, 'diaper': 2L, \"i'm\": 1L, 'sleep.': 1L, 'throw': 1L, 'a': 1L, 'made': 1L, 'for': 2L, 'i': 1L, 'of': 1L, 'so': 1L, 'keep': 1L, 'visits.': 1L, 'definitely': 1L, 'plus': 1L, 'time': 1L, 'small': 1L, 'the': 1L, 'first': 1L}, {'all': 1L, 'just': 1L, 'when': 2L, 'one.': 1L, 'front': 1L, 'paper': 1L, '6pm': 1L, 'provided.': 1L, 'before': 1L, 'perfect': 2L, 'fit': 1L, 'how': 2L, 'information.': 1L, 'day,': 1L, 'him': 1L, 'better': 1L, 'to': 9L, 'only': 1L, 'pretty': 2L, 'has': 1L, 'gave': 1L, 'real': 1L, 'shorthand,': 1L, '7': 2L, 'emergency': 1L, 'get': 1L, 'very': 1L, 'big': 1L, 'me': 1L, 'they': 1L, 'not': 1L, 'now': 1L, 'complain': 1L, 'entire': 1L, 'helpful': 1L, 'try': 1L, 'situation.': 1L, 'she': 4L, 'also,': 1L, 'each': 1L, 'small': 1L, 'works': 1L, 'page': 1L, \"isn't\": 1L, 'incomplete/inaccurate': 1L, 'because': 1L, 'me,': 1L, 'wohld': 1L, 'some': 2L, 'home': 1L, 'leave': 1L, 'for': 7L, 'space': 2L, 'section': 1L, 'behind': 1L, 'goes': 1L, 'ends': 1L, 'use': 2L, 'reported': 1L, 'phone.': 1L, 'nanny': 2L, 'wanted': 2L, 'on': 1L, 'about': 1L, 'her': 1L, 'getting': 2L, 'of': 6L, 'could': 1L, \"it's\": 1L, \"i'm\": 2L, 'out.': 1L, 'control': 1L, 'useful': 1L, 'info.': 1L, 'app': 1L, 'daycare/nanny/caregiver': 1L, '6.': 1L, 'deal.': 1L, 'down': 1L, 'little': 2L, 'from': 2L, 'additional': 1L, 'would': 2L, 'transfer': 1L, 'format.': 1L, 'there': 1L, 'two': 1L, 'much': 1L, 'too': 1L, 'way': 1L, '6': 1L, '6pm.': 1L, 'was': 2L, 'baby.': 1L, 'park': 1L, 'but': 2L, 'phone': 1L, 'with': 2L, 'info': 2L, 'this': 5L, 'originally': 1L, 'up': 1L, 'reviews': 1L, 'suppose': 1L, 'starts': 1L, 'problem': 1L, 'my': 4L, 'example': 1L, 'at': 2L, 'and': 5L, 'is': 3L, 'changes.': 1L, 'it': 2L, 'an': 2L, 'complaint:': 1L, 'something': 1L, 'have': 1L, 'in': 1L, 'if': 1L, 'information': 3L, 'documents': 1L, 'end': 1L, 'provide': 1L, 'solution!': 1L, '-': 6L, 'write': 1L, 'also': 2L, 'other': 1L, 'pad': 2L, 'take': 2L, 'you': 2L, 'fill': 1L, 'day': 1L, 'difficult': 1L, 'track': 1L, 'notebook': 1L, 'pouch': 1L, 'pages': 1L, 'a': 8L, '7am': 2L, 'tracking': 1L, 'remember': 1L, 'i': 7L, 'naps/feedings/diaper': 1L, 'contact': 1L, 'time': 1L, 'the': 15L, 'wanted.': 1L}, {'forget': 1L, 'just': 1L, \"don't\": 1L, '-': 6L, 'month': 1L, '(i': 1L, 'sleep': 2L, 'perfect': 1L, '(helpful': 1L, 'also': 1L, 'pen': 1L, '(granted': 1L, 'better': 1L, 'to': 5L, 'either,': 1L, 'connect).': 1L, \"haven't\": 1L, 'hit': 1L, '(baby': 1L, 'every': 1L, 'not': 1L, 'him': 1L, 'like': 1L, 'all,': 1L, 'serves': 1L, 'morning': 1L, 'grab': 1L, 'side': 1L, 'often': 2L, 'me.': 1L, 'been': 1L, 'are': 2L, 'satisfaction).': 1L, 'close': 1L, 'really': 1L, 'what': 2L, 'perverse': 1L, 'for': 2L, 'consistently': 1L, '3': 1L, 'nurse': 1L, 'example,': 1L, 'handwritten': 1L, 'be': 1L, 'we': 3L, \"you're\": 2L, 'journal': 1L, 'by': 1L, 'on': 2L, 'about': 1L, 'feeling': 1L, 'last': 1L, 'deprived': 1L, 'taking': 1L, 'keep': 1L, 'thing': 1L, \"i'd\": 1L, 'place': 1L, \"i'm\": 1L, 'think': 1L, 'useful': 1L, 'simple': 1L, 'app': 2L, 'skilled': 1L, 'yourself': 1L, 'long': 1L, 'feedings': 1L, '177': 1L, 'your': 2L, 'training).': 1L, 'time.)2.)': 1L, 'would': 1L, \"it's\": 1L, 'least': 2L, 'start': 1L, 'tell': 2L, 'gives': 1L, 'on.': 1L, 'breastfeeding,': 1L, 'that': 4L, 'started': 2L, 'entertained.': 1L, 'but': 2L, 'phone': 2L, 'with': 1L, 'than': 2L, \"here's\": 1L, 'me': 4L, 'keeping': 1L, 'look': 1L, 'this': 2L, 'when': 1L, 'can': 3L, 'of': 1L, 'more': 1L, 'and': 4L, 'side,': 1L, 'in': 2L, 'it': 3L, 'as': 1L, 'at': 5L, 'have': 5L, '*both*': 1L, 'times': 1L, 'nursed': 1L, 'data.': 1L, 'no': 1L, 'able': 1L, 'same': 1L, 'how': 1L, 'other': 1L, 'button.3.)': 1L, 'why:1.)': 1L, 'you': 3L, 'if': 1L, 'nice': 1L, 'used': 1L, 'notebook': 1L, 'purpose': 1L, 'nice.': 1L, 'a': 5L, 'mindlessly': 1L, 'i': 7L, 'average': 1L, 'or': 1L, 'thought': 1L, 'so': 2L, 'time': 1L, 'the': 4L}, {'it.': 1L, 'info': 1L, 'what': 1L, 'exactly': 1L, 'useful': 1L, 'and': 1L, 'for': 1L, 'space': 1L, 'i': 1L, 'come': 1L, 'is': 1L, 'wanted!!': 1L, 'with': 1L, 'it': 1L, 'photos,': 1L, 'monthly': 1L, 'a': 1L, 'lot': 1L, 'of': 1L, 'stickers': 1L}, {'and': 3L, 'there': 1L, 'useful': 1L, 'calender': 2L, 'just': 1L, 'photo': 1L, 'is': 3L, 'placed.': 1L, 'it': 3L, 'whatever': 1L, 'one': 1L, 'date': 1L, 'as': 4L, 'well.': 1L, 'likes': 1L, 'have': 2L, 'fine': 1L, 'event': 1L, 'special': 1L, 'before': 1L, 'baby': 1L, 'write': 1L, 'what': 1L, 'do.': 1L, 'would': 1L, 'also': 1L, 'not': 1L, 'stickers': 1L, 'weight,': 1L, 'for': 5L, 'day.': 1L, 'to': 3L, 'only': 1L, 'does': 1L, 'asterisks': 1L, 'has': 1L, 'sticker': 1L, 'friend': 1L, 'happened': 1L, 'be': 1L, 'complaint': 1L, 'colorful': 1L, 'that': 2L, 'very': 2L, 'some': 1L, 'like,': 1L, 'but': 1L, 'boxes': 1L, 'son.': 1L, 'put': 1L, 'writing.': 1L, 'a': 3L, 'on': 2L, 'myself': 1L, 'room': 3L, 'i': 4L, 'many': 1L, 'second': 1L, 'height,': 1L, 'this': 1L, 'she': 1L, 'each': 2L, 'found': 1L, 'the': 1L, 'bought': 2L, 'my': 2L, 'page': 2L}, {'and': 1L, 'the': 2L, 'all': 1L, 'love': 1L, 'like': 1L, 'i': 2L, 'of': 2L, \"baby's\": 1L, 'little': 1L, 'too.': 1L, 'keep': 1L, 'this': 1L, 'track': 1L, 'can': 1L, 'you': 1L, 'stickers': 1L, 'illustrations,': 1L, 'firsts.': 1L, 'calender,': 1L}, {'and': 1L, 'this': 2L, 'there': 1L, 'one': 3L, 'second': 1L, 'are': 1L, 'calender': 1L, 'year': 1L, 'still': 1L, 'find': 1L, 'note': 1L, 'for': 2L, 'things': 1L, 'him.': 1L, 'better': 1L, 'to': 2L, 'only': 1L, 'got': 1L, 'cause': 1L, 'was': 2L, 'after': 1L, 'year.': 1L, 'they': 1L, 'wanted': 1L, 'than': 1L, 'i': 3L, 'many': 1L, 'could': 1L, 'turn': 1L, 'continue': 1L, 'so': 1L, 'did': 1L, 'the': 4L, 'first': 2L, '1.': 1L}, {'and': 5L, 'all': 3L, 'have': 1L, 'moments': 1L, 'in': 1L, 'it': 1L, 'second': 1L, 'something': 1L, 'questions': 1L, 'year': 2L, 'calendar': 2L, 'still': 1L, 'stickers': 1L, 'enjoyed': 1L, 'special': 2L, 'really': 2L, 'layout': 1L, 'want': 1L, 'to': 2L, \"it's\": 1L, 'since': 1L, '-': 2L, 'least': 1L, 'day.': 1L, 'doing': 1L, 'amazing': 1L, 'much': 1L, 'you': 1L, 'might': 1L, \"son's\": 1L, 'his': 1L, 'moments!': 1L, 'that': 1L, 'completed': 1L, 'tracking': 1L, 'every': 1L, 'milestone': 1L, 'not': 1L, 'wanted': 1L, 'those': 1L, 'like': 1L, 'a': 1L, 'milestones': 1L, 'for': 1L, 'i': 3L, 'of': 2L, \"he's\": 1L, 'simple': 1L, 'keep': 1L, 'recording': 1L, 'while': 1L, 'continue': 1L, 'so': 2L, 'things': 1L, 'fun': 1L, 'the': 4L, 'first': 1L, 'my': 1L, 'at': 1L}, {'and': 2L, 'cute': 1L, 'there': 2L, 'is': 1L, 'something': 1L, 'our': 1L, 'keep': 1L, 'out': 1L, 'option.': 1L, 'what': 1L, 'wanted': 1L, 'get': 1L, 'to': 2L, 'does': 1L, 'we': 2L, \"child's\": 1L, 'track': 1L, 'exactly': 1L, \"aren't\": 1L, 'a': 1L, 'milestones': 1L, 'this': 2L, 'of': 1L, 'choices': 1L, 'many': 1L, 'other': 1L, 'wanted.': 1L}, {'and': 3L, 'all': 1L, 'memories.': 1L, 'reference': 1L, 'do': 2L, 'is': 3L, 'hard': 1L, 'some': 1L, 'it': 2L, 'one': 1L, 'milestones...and': 1L, 'put': 1L, 'as': 2L, 'vs': 1L, 'have': 1L, 'year': 1L, 'calendar': 1L, 'find': 1L, 'down': 1L, 'out': 1L, 'little': 1L, 'to': 5L, 'much': 1L, 'that': 1L, 'had': 1L, 'two': 1L, 'write': 1L, 'everything': 1L, 'enough': 1L, 'book': 1L, 'way': 1L, 'finding': 1L, 'you': 1L, 'fill': 1L, 'across': 1L, 'so!': 1L, 'picture': 1L, 'only': 1L, 'jot': 1L, 'squares': 1L, 'on': 1L, 'track': 1L, 'big': 1L, 'spot': 1L, 'book.': 1L, 'great!': 1L, 'they': 1L, 'baby': 2L, 'years': 1L, 'change': 1L, 'a': 6L, 'ones!': 1L, 'great': 1L, 'has': 1L, 'in': 2L, 'like': 1L, 'this': 3L, 'of': 1L, 'later': 1L, 'well': 1L, 'second': 1L, 'keep': 1L, 'large': 1L, 'i': 5L, 'easier': 1L, 'calendar,': 1L, 'so': 2L, 'can': 2L, \"month's\": 1L, 'time': 1L, 'the': 5L, 'came': 1L, 'first': 1L}, {'and': 1L, 'cute': 1L, 'because': 2L, 'just': 1L, 'second-year': 2L, 'is': 1L, 'lack': 1L, 'some': 1L, 'it': 2L, 'one': 3L, 'certain': 1L, 'calendar.': 1L, 'finish': 1L, 'are': 1L, 'purchased': 1L, 'in': 1L, 'general,': 1L, 'calendar': 1L, 'stickers': 1L, 'really': 1L, 'for': 4L, 'come': 1L, 'old-fashioned': 1L, 'had': 1L, 'pages': 2L, 'write': 1L, 'to': 1L, 'only': 2L, 'other': 1L, 'pretty': 1L, 'hopefully': 1L, 'selection': 1L, 'got': 1L, 'out': 1L, 'was': 2L, 'an': 1L, 'available': 1L, 'son': 1L, 'looking.': 1L, 'okay': 1L, 'which': 1L, 'with': 3L, 'pens.': 1L, 'calendars': 2L, 'makes': 1L, 'they': 1L, \"aren't\": 1L, 'disappointed': 1L, 'purchasers.': 1L, 'a': 1L, 'on': 2L, 'daughter.': 1L, 'hard': 1L, 'i': 4L, 'of': 2L, 'ones.': 1L, 'will': 1L, 'this': 1L, 'future': 1L, 'so': 1L, 'glossy': 1L, \"it's\": 1L, 'very': 1L, 'the': 6L, 'my': 2L}, {'and': 4L, 'cute': 1L, 'stop': 1L, 'on': 2L, 'love': 1L, 'reocording': 1L, 'just': 1L, 'is': 2L, \"nature's\": 1L, 'year': 4L, 'one.': 1L, 'highly': 1L, 'helped': 1L, 'not': 1L, 'second': 2L, 'are': 2L, 'want': 1L, '1st': 1L, 'calendar': 2L, 'stickers': 1L, 'calendar!': 1L, 'out': 1L, 'perfect': 1L, 'recording': 1L, 'gender.': 1L, 'for': 3L, \"it's\": 1L, 'own.': 1L, 'there': 2L, 'to': 2L, 'wonderful': 1L, 'lullabies': 1L, 'recommend': 1L, 'might': 1L, 'events': 2L, \"son's\": 1L, 'continuing': 1L, 'his': 1L, 'that': 2L, 'with': 1L, \"didn't\": 1L, 'calendars': 1L, 'keeping.': 1L, 'plenty': 1L, 'baby': 1L, 'now': 1L, 'super': 1L, 'he': 1L, 'me': 1L, 'loved': 1L, 'milestones': 1L, 'brat': 1L, 'i': 4L, 'of': 6L, 'this': 2L, 'daily': 1L, 'thought': 1L, 'record': 2L, 'plus': 1L, 'either': 1L, 'have': 1L, 'life.': 1L, 'the': 1L, 'my': 2L, 'think': 1L, 'first': 1L}, {'just': 1L, 'use.': 1L, 'is': 1L, 'it': 2L, 'as': 1L, 'looks': 1L, 'calendar': 1L, 'stickers': 1L, 'find': 1L, 'lots': 1L, 'there': 1L, 'to': 2L, 'was': 1L, 'nice': 1L, 'be': 1L, 'very': 1L, 'exactly': 1L, 'but': 1L, 'disappointed': 1L, 'described,': 1L, 'look': 1L, 'i': 2L, 'of': 2L, 'cheap.': 2L, 'so': 1L, 'the': 1L, 'are': 1L}, {'and': 2L, 'dont': 1L, 'just': 1L, 'sticker': 1L, 'it': 1L, 'as': 1L, 'spaces': 1L, 'down,': 1L, 'have': 1L, 'actually': 1L, 'stickers': 1L, 'out': 1L, 'option.': 1L, 'comes': 1L, 'use': 1L, 'for': 3L, 'sit': 1L, 'scrap': 1L, 'mark': 1L, 'to': 3L, 'enough': 1L, 'ton': 1L, 'easy': 1L, 'scrapbook': 1L, 'borders': 1L, 'is': 1L, 'booking': 1L, 'well.': 1L, 'lot': 1L, 'very': 1L, 'who': 1L, 'new': 1L, 'includes': 1L, 'photos': 1L, 'haul': 1L, 'milestone': 1L, 'with': 1L, 'a': 3L, 'moms': 1L, 'especially': 1L, 'wife': 1L, 'this': 1L, 'of': 2L, 'photos,': 1L, 'calender.': 1L, 'supplies': 1L, 'firsts.': 1L, 'loves': 1L, 'time': 1L, 'the': 1L, 'options': 1L, 'etc,': 1L}, {'and': 2L, 'one-year': 1L, 'work': 1L, 'art': 1L, '-': 2L, 'keepsake.': 1L, '1st': 1L, 'nearing': 1L, 'son': 1L, 'calendar.': 1L, 'second': 1L, 'ago.': 1L, 'thanks': 1L, 'year': 3L, 'tender': 1L, 'calendar': 1L, 'stickers': 1L, 'fill': 1L, 'i': 1L, 'her': 3L, 'record': 1L, 'had': 1L, 'looking': 1L, 'to': 4L, 'wonderful': 1L, 'sweet': 1L, 'fill.': 1L, 'was': 3L, 'over': 1L, 'nice': 1L, 'it.': 1L, 'his': 2L, 'get': 1L, 'amazon': 1L, 'birthday': 1L, 'baby': 1L, 'unique': 1L, 'pages': 1L, 'milestones.': 1L, 'helpful': 1L, 'a': 6L, 'daughter': 1L, 'for': 3L, 'gift': 1L, 'this': 1L, 'when': 1L, 'up': 1L, 'able': 1L, 'old!': 1L, 'did': 1L, 'she': 3L, 'loves': 1L, 'my': 1L, 'receive': 1L, 'first': 2L}, {'and': 1L, 'remembering': 1L, 'tired': 1L, 'ate,': 1L, 'helped': 1L, 'not': 1L, 'as': 1L, 'through': 1L, 'long': 1L, 'mom,': 1L, 'useful!': 1L, 'inexpedient,': 1L, 'two': 1L, 'months.': 1L, 'how': 1L, 'new': 1L, 'a': 1L, 'me': 1L, 'baby': 1L, 'extremely': 1L, 'ago': 1L, 'this': 1L, 'definitely': 1L, 'the': 1L, 'first': 1L}, {'and': 4L, 'right': 1L, 'just': 2L, 'peek': 1L, 'pretend': 1L, 'face.maybe': 1L, 'it': 2L, 'son': 1L, 'hair': 1L, 'will': 1L, 'shakes': 1L, 'through': 1L, 'at': 2L, 'mirror': 1L, 'perfect!': 1L, 'if': 2L, 'around.': 1L, \"doesn't\": 1L, 'end': 1L, 'takes': 1L, 'would': 1L, \"he's\": 1L, 'make': 1L, 'show': 1L, 'when': 2L, 'him.': 1L, 'does': 1L, 'enough': 1L, 'book': 4L, '9': 1L, 'be': 1L, 'his': 1L, 'though': 1L, 'blow-kisses': 1L, 'however': 1L, 'but': 1L, 'gestures': 1L, 'most': 1L, 'cover.': 1L, 'fan': 1L, 'hands': 1L, 'front': 1L, 'now': 1L, 'with': 1L, 'him': 1L, 'he': 5L, 'a': 1L, 'also': 1L, 'peekaboo': 1L, 'engage': 1L, 'like': 1L, 'older': 1L, 'i': 4L, 'of': 1L, 'age': 1L, 'months': 1L, 'cover': 1L, 'flip': 2L, 'thought': 1L, 'this': 3L, 'seems.': 1L, 'so': 1L, 'flaps': 1L, 'loves': 1L, 'boo': 1L, 'the': 10L, 'my': 1L, 'towards': 1L, 'likes': 2L}, {'and': 2L, 'because': 1L, 'family': 1L, 'people': 1L, \"baby's\": 1L, 'is': 1L, 'some': 1L, 'it': 1L, 'one': 1L, 'see': 1L, 'washable!': 1L, 'in': 1L, 'star': 1L, 'your': 1L, 'perfect': 1L, 'just': 1L, 'less': 1L, '-': 1L, '1': 1L, 'to': 1L, 'white': 1L, 'gave': 1L, 'diversity': 1L, 'not': 1L, ';)': 1L, 'than': 1L, 'like': 1L, 'books,': 1L, 'of': 1L, 'favorite': 1L, 'i': 1L, \"i'd\": 1L, 'the': 1L, 'typical': 1L, 'first': 1L}, {'family': 1L, 'over': 1L, 'it': 2L, 'seat': 1L, 'hook': 1L, 'members.': 1L, 'go': 1L, 'your': 1L, 'attach': 1L, '-': 1L, 'to': 3L, 'book': 1L, 'way': 1L, 'has': 1L, 'wont': 1L, 'get': 1L, 'lost.': 1L, 'how': 1L, 'a': 1L, 'great': 1L, 'like': 1L, 'i': 1L, 'car': 1L, 'stroller': 1L, 'the': 1L, 'or': 1L}, {'beautiful': 1L, 'saying': 1L, 'love': 1L, 'it': 1L, 'are': 1L, 'little': 2L, 'interacting': 1L, 'when': 1L, 'actually': 1L, 'to': 1L, 'you': 1L, 'it.': 1L, 'then': 1L, 'attention': 1L, 'story': 1L, 'book.': 1L, 'and': 2L, 'finished': 1L, 'baby': 2L, 'hold': 1L, 'with': 1L, 'pages': 1L, 'a': 1L, 'on': 1L, 'great': 1L, 'short': 1L, 'you....keeps': 1L, 'i': 1L, 'of': 1L, 'turn': 1L, 'can': 1L, 'the': 4L}, {'and': 1L, 'page.': 1L, 'says': 1L, 'cute': 1L, 'is': 1L, 'money.': 1L, 'it': 2L, 'born': 1L, 'are': 1L, 'open': 1L, 'before.': 1L, 'for': 1L, \"it's\": 1L, 'there': 1L, 'to': 4L, 'book': 1L, 'worth': 1L, 'be': 1L, '9+': 1L, 'very': 1L, 'use': 1L, 'but': 1L, 'every': 1L, 'baby': 1L, 'wait': 1L, 'box': 1L, 'on': 2L, 'i': 1L, 'months': 1L, 'this': 1L, 'try': 1L, 'interactive!': 1L, 'so': 2L, 'flaps': 1L, 'the': 2L, 'my': 1L, \"can't\": 1L}, {'and': 3L, 'chew': 1L, 'one-year-old': 1L, 'house!': 1L, 'love': 1L, 'just': 1L, 'simple': 1L, 'over': 1L, 'it': 3L, 'rip': 1L, 'carry': 1L, 'paper': 1L, 'learning': 1L, 'chunks': 1L, 'our': 1L, '\"puppy,\"': 1L, 'open': 1L, 'out': 1L, '\"daddy,\"': 1L, 'for': 1L, 'all': 1L, \"it's\": 1L, 'bite': 1L, 'book': 2L, 'board': 1L, 'got': 1L, 'is': 1L, 'nice': 1L, 'it.': 2L, 'we': 2L, 'that': 2L, 'she': 5L, 'little': 1L, 'it,': 2L, 'one.': 1L, 'words': 1L, 'pull': 1L, 'a': 2L, 'on': 2L, 'like': 3L, 'this': 1L, 'of': 1L, 'flaps': 1L, 'so': 1L, 'can': 2L, 'loves': 2L, '\"mommy,\"': 1L, 'the': 2L, 'etc.': 1L, 'or': 1L, \"can't\": 1L}, {'and': 2L, 'overnight.': 1L, 'is': 2L, 'detergent.': 1L, 'older.': 1L, '6months': 1L, 'in': 1L, 'perfect': 1L, 'and/or': 1L, 'for': 1L, 'material.': 1L, 'only': 1L, 'book': 2L, 'was': 1L, 'then': 1L, 'colorful': 1L, \"didn't\": 1L, 'let': 1L, 'dunked': 1L, 'strong': 1L, 'pages': 1L, 'dry': 1L, 'like': 1L, 'i': 2L, 'smell': 1L, 'thing': 1L, 'of': 1L, 'dyes': 1L, 'the': 6L}, {'and': 3L, 'family': 1L, 'is': 1L, 'some': 1L, 'we': 1L, 'one': 1L, 'hair': 1L, 'are': 1L, 'our': 1L, 'said,': 1L, 'brother)': 1L, 'huge': 1L, 'little': 1L, 'with': 1L, '(no': 1L, 'to': 1L, 'fans': 1L, 'book': 1L, 'out': 1L, 'cause': 1L, 'play': 1L, 'that': 1L, 'lamaze': 1L, 'hurt': 1L, 'possibly': 1L, 'members': 1L, 'baby': 1L, 'hands,': 1L, 'however,': 1L, 'cute,': 1L, 'products,': 1L, 'this': 1L, 'of': 1L, 'leaves': 1L, 'feelings.': 1L, 'can': 1L, 'loves': 1L, 'flaps!': 1L, 'the': 2L}, {'page.': 1L, \"couldn't\": 1L, 'be': 1L, 'is': 1L, 'moving': 1L, 'books': 2L, 'drool...so': 1L, 'another': 1L, 'your': 1L, 'flap': 1L, 'perfect': 1L, 'looking': 1L, 'what': 1L, 'adds': 1L, 'for': 3L, 'been': 1L, 'plastic': 1L, 'baby!': 1L, 'to': 1L, 'book': 3L, 'babies!': 1L, \"old's\": 1L, 'which': 1L, 'options.': 1L, 'damaged': 1L, 'cloth': 2L, 'part': 1L, 'every': 1L, 'by': 1L, '10-month': 1L, 'a': 1L, 'on': 1L, 'great': 1L, 'level': 1L, 'this': 2L, \"i'd\": 1L, 'were': 1L, 'fun': 1L, 'book--a': 1L, 'interactive': 1L, 'my': 3L, 'or': 2L, 'usual': 1L}, {'all': 1L, 'being': 1L, 'course': 1L, 'still': 1L, 'perfect': 1L, 'now': 2L, \"he's\": 1L, 'to': 1L, 'only': 2L, 'board': 1L, 'teaching': 1L, 'his': 2L, 'lamaze': 2L, 'nearly': 1L, 'they': 1L, 'not': 2L, 'one': 2L, 'like': 1L, 'this': 4L, 'them,': 1L, 'enjoy': 1L, 'chew': 1L, 'because': 1L, 'books': 1L, 'are': 2L, 'out': 1L, 'for': 4L, 'parent.i': 1L, 'does': 1L, 'reading': 1L, 'discovery': 1L, 'peek': 1L, 'we': 2L, 'of': 3L, 'book,': 1L, 'members': 1L, 'infant.': 1L, 'on': 1L, 'about': 1L, 'etc.': 1L, \"i'd\": 1L, 'liked': 1L, 'love': 1L, 'family': 1L, 'son': 3L, 'names': 1L, \"doesn't\": 1L, 'additional': 1L, 'would': 1L, 'two': 1L, 'lot': 1L, 'was': 3L, 'flap': 1L, 'series,': 1L, 'that': 3L, 'much,': 1L, 'but': 4L, 'lift': 1L, 'child': 1L, 'with': 2L, 'he': 3L, 'loved': 1L, 'look': 1L, 'books,': 1L, 'cat,': 1L, 'as': 3L, 'well.': 1L, 'learn': 1L, 'fun': 2L, 'favorites.': 1L, 'my': 3L, 'and': 6L, 'sister,': 1L, \"didn't\": 1L, 'it': 6L, 'an': 1L, 'say': 1L, 'issue.': 1L, 'at': 1L, 'have': 1L, 'grandparents,': 1L, 'book': 2L, 'destroy': 1L, 'used': 1L, 'again.': 1L, 'farm': 1L, 'a': 3L, 'i': 1L, 'dog': 1L, 'boo,': 1L, 'the': 5L, 'playing': 1L}, {'and': 1L, 'it': 3L, 'our': 1L, 'for': 1L, '&': 1L, 'own.': 1L, 'when': 1L, 'to': 1L, 'him,': 1L, 'book': 1L, 'enjoys': 2L, 'has': 1L, '...': 1L, 'his': 1L, 'loved': 1L, 'read': 1L, 'baby': 1L, 'now': 1L, 'with': 1L, 'he': 1L, 'a': 1L, 'on': 1L, 'this': 1L, 'i': 1L, 'while': 1L, 'loves': 1L, 'playing': 1L}, {}, {'a': 1L, 'brushing': 1L, 'play': 1L, 'kids': 1L, ':)': 1L, 'almost': 1L, 'with': 1L, 'haha': 1L, 'son': 1L, 'too': 1L, 'to': 1L, 'book': 1L, 'let': 1L, 'likes': 1L, 'of': 1L, 'the': 1L, \"elmo's\": 1L, 'my': 1L, 'teeth.': 1L, 'nice': 1L}, {'and': 3L, 'imaginative': 1L, 'old': 1L, 'grandchildren.': 1L, 'it': 2L, 'through': 1L, 'are': 1L, 'year': 1L, 'go': 1L, 'love': 1L, 'would': 1L, 'sit': 1L, 'pictures': 1L, 'young': 1L, '.': 1L, 'to': 1L, 'book': 1L, 'themselves': 1L, 'appeal': 1L, 'was': 1L, 'buy': 1L, 'again!': 1L, 'birthday': 1L, 'they': 1L, 'children.': 1L, '2': 1L, 'by': 1L, 'present': 1L, 'a': 1L, 'for': 1L, 'this': 2L, 'will': 1L, 'the': 1L, 'my': 1L, 'page': 2L}, {'and': 3L, 'cute': 1L, 'rating': 1L, 'have': 1L, 'just': 1L, 'give': 1L, 'battery': 1L, 'is': 1L, \"disappointment....it's\": 1L, 'it': 6L, 'dead': 1L, 'down': 1L, 'batteries': 1L, 'growled': 1L, 'other': 1L, 'something': 1L, 'giggled': 1L, 'in': 1L, 'handle': 1L, 'saw': 1L, 'find': 1L, 'simple': 1L, 'if': 2L, 'even': 1L, 'would': 2L, 'no': 1L, \"it's\": 1L, 'absolutely': 1L, 'when': 1L, 'now!': 1L, 'actually': 1L, 'to': 2L, 'going': 1L, '5': 1L, 'take': 1L, 'mail': 1L, 'adorable': 1L, 'kenzie,': 1L, 'star': 1L, 'was': 2L, 'bear': 1L, 'back': 1L, 'how': 1L, 'but': 1L, 'got': 1L, 'was!': 1L, 'such': 1L, 'new': 1L, 'day': 1L, 'a': 4L, 'super': 1L, 'like': 1L, 'gift': 1L, 'this': 1L, 'my': 1L, 'could': 1L, 'as': 2L, 'excited': 1L, 'granddaughter,': 1L, 'i': 6L, 'suppose': 1L, 'place': 1L, 'the': 3L, 'to!': 2L, 'where': 1L, 'or': 1L, \"can't\": 1L}, {'and': 4L, 'soft': 1L, 'all': 1L, 'would': 1L, 'hides': 1L, 'elmo': 3L, 'too.': 1L, 'is': 5L, 'it': 2L, 'one': 1L, 'illustrated': 1L, 'baby': 1L, 'featured': 1L, 'street': 1L, 'are': 1L, 'another': 1L, 'beautifully': 1L, 'fun,': 1L, '(which': 1L, 'page,': 1L, 'seemed': 1L, 'perfect': 1L, 'little': 1L, 'lovers': 1L, 'because': 1L, 'price).': 1L, 'for': 3L, 'twinkle': 1L, 'absolutely': 1L, 'character': 1L, 'right:': 1L, 'also': 2L, 'time.': 1L, 'book': 3L, 'which': 1L, 'recommend': 1L, 'he': 1L, 'was': 1L, 'happy': 1L, 'available': 1L, 'centric': 1L, '\"reads\"': 1L, 'to': 1L, 'that': 1L, 'each': 1L, 'amazon': 1L, '\"twinkle,': 1L, 'everywhere': 1L, 'characters': 1L, 'street/elmo': 1L, 'the': 3L, 'great,': 1L, 'a': 1L, 'on': 2L, 'great': 1L, 'main': 1L, 'takes': 1L, 'her.': 1L, 'i': 2L, 'my': 2L, 'say': 1L, 'elmo\"': 1L, 'sesame': 2L, 'this': 2L, 'while': 1L, 'so': 2L, 'loves': 1L, 'of': 2L, \"i'm\": 1L, 'nice': 1L, 'interactive,': 1L, 'other': 1L}, {'and': 2L, 'bright': 1L, 'love': 1L, 'is': 1L, 'colors': 1L, 'are': 1L, 'any': 1L, \"doesn't\": 1L, 'for': 2L, 'two': 1L, 'book': 1L, 'lastly,': 1L, 'baby,': 1L, 'bought': 1L, 'who': 1L, 'baby': 1L, 'showers!': 1L, 'recent': 1L, 'great': 1L, 'i': 1L, 'soft': 1L, 'elmo!': 1L, 'the': 2L, 'interactive,': 1L, 'beautiful.': 1L}, {'and': 2L, 'another': 1L, 'elmo': 1L, 'is': 2L, 'one': 1L, 'creative.': 1L, 'softplay': 1L, 'fun,': 1L, 'birds': 1L, 'variety': 1L, 'two': 1L, 'to': 1L, 'only': 1L, 'book': 2L, 'has': 1L, 'bird': 1L, 'more': 2L, 'we': 2L, 'get': 1L, 'big': 2L, 'book,': 1L, 'but': 1L, 'wanted': 1L, 'friends': 1L, 'like': 1L, 'this': 1L, 'books.': 1L, 'found': 1L, 'the': 3L}, {'and': 1L, 'a': 1L, 'little': 1L, 'soft.': 1L, 'safe.': 1L, 'for': 1L, 'cute': 1L, 'this': 1L, \"it's\": 2L, 'is': 2L, 'easy': 1L, 'story': 1L, 'book.': 1L, 'handle.': 1L, 'to': 1L, 'it': 1L, 'peek-a-boo': 1L, 'baby': 1L}, {'and': 7L, 'old': 1L, 'elmo': 1L, 'is': 1L, 'laughs': 1L, 'we': 3L, 'month': 1L, 'say': 1L, 'books': 1L, 'have': 1L, 'find': 1L, 'different': 1L, '&#34;peekaboo': 1L, 'for': 1L, 'few': 1L, 'to': 1L, '3': 1L, '5': 1L, 'stars': 1L, 'it': 1L, 'over': 2L, 'sure.': 1L, 'smiles': 1L, 'it,': 1L, 'elmo!&#34;': 1L, 'colorful': 1L, 'read': 1L, 'book.': 1L, 'read.': 1L, 'most': 1L, 'every': 1L, 'baby': 1L, 'son': 1L, 'he': 1L, 'a': 1L, 'adores': 1L, 'this': 2L, 'my': 1L, 'so': 1L, 'loves': 1L, 'time': 1L, 'fun': 1L, 'the': 1L, 'soft': 1L}, {'book!': 2L, 'great': 1L, 'colorful': 1L, 'for': 1L, '&': 1L, 'very': 1L, 'make': 1L, 'bright': 1L, 'son': 1L, 'this': 2L, 'toddlers.': 1L, 'cute': 1L, 'loves': 1L, 'babies': 1L, 'illustrations': 1L, 'the': 1L, 'my': 1L, 'interactive': 1L}, {'and': 2L, 'over.': 1L, 'all': 1L, 'love': 2L, 'they': 8L, 'safe.': 1L, 'elmo': 1L, 'mos,': 1L, 'play': 1L, 'high': 1L, 'as': 1L, 'are': 3L, 'still': 1L, 'if': 1L, 'use': 1L, 'now': 1L, 'for': 1L, 'how': 1L, 'before': 1L, 'when': 2L, 'two': 1L, 'to': 2L, 'time.': 1L, '9': 1L, 'got': 1L, 'reading': 1L, 'bought': 1L, 'soft,': 1L, 'we': 1L, 'buy': 1L, 'blocks': 1L, 'see': 1L, 'book,': 1L, 'it': 1L, 'them': 1L, 'granddauchildren': 1L, 'kiss': 1L, 'fall': 1L, 'baby': 1L, 'falls': 1L, 'with': 2L, 'stack': 1L, 'a': 1L, 'on': 1L, 'elmo.': 1L, 'i': 1L, 'present.': 1L, 'so': 1L, 'can': 1L, 'were': 1L, 'fun': 1L, 'them.': 2L, 'the': 4L, 'them,': 1L, 'having': 1L}, {'and': 5L, 'chew': 1L, 'all': 1L, 'the,': 2L, 'have': 1L, 'over': 2L, \"didn't\": 1L, 'baby': 1L, 'teething': 1L, 'crawling.': 1L, 'letting': 1L, 'bank.': 1L, 'for': 3L, 'to': 2L, 'their': 1L, 'encourage': 1L, 'setting': 1L, 'ruining': 1L, 'babies': 1L, 'christmas': 1L, 'them': 2L, 'great': 3L, 'about': 1L, 'break': 1L, 'they': 1L, 'rolling': 1L, 'entertaining': 1L, 'younger': 1L, 'off': 1L, 'gift': 1L, 'these': 1L, 'worrying': 1L, 'droll': 1L, 'i': 1L, 'without': 1L, 'were': 2L, 'them.': 1L, 'the': 2L, 'side': 1L}, {'a': 1L, 'boring.': 1L, 'would': 1L, 'to': 1L, 'i': 1L, 'of': 1L, 'is': 2L, 'money.': 1L, 'it': 2L, 'this': 1L, 'granddaughter.': 1L, 'book': 1L, 'nothing': 1L, 'recommend': 1L, 'not': 1L, 'waste': 1L, 'my': 1L, 'stimulate': 1L}, {'old': 1L, 'want': 1L, 'show': 1L, 'is': 2L, 'hard': 1L, 'it': 1L, 'one': 1L, 'not': 1L, 'books': 1L, 'looks': 1L, 'have': 1L, 'year': 1L, 'images': 1L, 'our': 1L, 'find': 1L, 'looking': 1L, 'what': 3L, 'animals/objects': 1L, 'unrealistic': 1L, '1': 1L, 'to': 2L, 'for!!when': 1L, 'is,': 1L, '\"lion\"': 1L, 'many': 1L, 'real': 2L, 'we': 3L, 'fantastic.': 1L, 'that': 1L, 'portrayals': 1L, 'like,': 1L, 'exactly': 1L, 'lion...': 1L, 'but': 1L, 'cloth': 1L, 'were': 1L, 'nothing': 1L, 'teach': 1L, 'with': 1L, 'him': 1L, 'like': 1L, 'a': 4L, 'on': 1L, 'actual': 1L, 'look': 1L, 'this': 1L, 'lion.': 1L, 'so': 2L, 'them!': 1L, 'of': 1L, 'drawing': 1L}, {'is': 1L, 'something': 1L, 'cute...so': 1L, '&#34;': 1L, 'for': 1L, 'no': 1L, 'memories': 1L, 'there': 1L, 'young': 1L, 'destroying..many': 1L, 'reading': 1L, 'happy': 2L, 'them': 1L, 'very': 1L, 'little': 1L, 'chance': 1L, 'they': 1L, 'child,': 1L, 'of': 1L, 'read&#34;': 1L, 'can': 1L, 'the': 1L, 'or': 1L}, {'cute': 1L, 'thought.': 1L, 'old': 1L, 'bad': 1L, 'i': 1L, 'interesting': 1L, 'anyway': 1L, 'but': 2L, 'mot': 1L, 'to': 1L, 'as': 2L, '[texture,': 1L, 'not': 2L, 'my': 1L, 'etc]': 1L, '1-year': 1L, 'interactive': 1L}, {'and': 1L, 'be': 1L, 'great': 1L, 'love': 1L, 'daughter': 1L, 'this': 1L, \"it's\": 1L, 'when': 1L, 'it!': 1L, 'will': 1L, 'me': 1L, 'so': 1L, 'a': 2L, 'our': 1L, 'fun': 1L, 'born.': 1L, 'calendar': 1L, 'bought': 1L, 'was': 1L, 'friend': 1L, 'momento.': 1L}, {'a': 2L, 'and': 1L, 'little': 1L, 'milestones': 1L, 'especially': 1L, 'for': 1L, 'all': 1L, 'with': 1L, 'of': 1L, 'first-time': 1L, 'one,': 1L, 'up': 1L, 'keep': 1L, 'to': 1L, 'mom.': 1L, 'easy': 1L, 'quick': 1L, 'the': 1L, 'busy,': 1L, 'first': 1L}, {'remembering': 1L, 'and': 4L, 'reviews.': 1L, 'pictures.': 1L, 'personalization': 1L, 'am': 1L, 'back': 1L, 'month': 1L, 'down': 1L, 'year': 1L, 'calendar': 1L, 'throughout': 1L, 'perfect': 1L, 'based': 1L, 'for': 3L, 'to': 1L, 'memories': 1L, 'did.': 1L, \"baby's\": 1L, 'spots': 1L, 'jotting': 1L, 'also': 1L, 'high': 1L, 'low': 1L, 'has': 1L, 'happy': 1L, 'be': 1L, 'on.': 1L, 'that': 1L, '&#34;firsts&#34;.': 1L, 'quick': 1L, 'one': 1L, 'a': 1L, 'on': 2L, 'dates': 1L, 'look': 1L, 'i': 3L, 'of': 1L, 'will': 1L, 'this': 1L, 'so': 1L, 'searched': 1L, 'fun': 1L, 'the': 2L, 'settled': 1L, 'first': 1L}, {'enjoy': 1L, 'would': 1L, 'give': 1L, 'children.': 1L, 'is': 2L, 'it': 1L, 'one': 1L, 'born': 1L, 'as': 3L, 'are': 1L, 'want': 1L, 'from': 1L, 'i': 1L, 'for': 2L, 'their': 1L, 'had': 1L, 'looking': 1L, 'to': 3L, 'parents': 2L, 'themselves.': 1L, 'new': 1L, 'you': 1L, 'start': 1L, '&#34;firsts&#34;': 1L, 'good': 1L, 'that': 1L, 'very': 2L, 'calendars': 1L, 'chart': 1L, 'soon': 1L, '&#34;firsts&#34;.': 1L, 'five': 1L, 'they': 3L, 'baby': 1L, 'now': 1L, 'beginning': 1L, 'mother.': 1L, 'a': 2L, 'especially': 1L, 'gift': 1L, 'this': 1L, 'of': 2L, 'up': 1L, 'these': 1L, 'so': 1L, 'can': 1L, 'each': 1L, 'the': 3L, 'my': 1L}, {}, {'and': 2L, 'it.': 1L, 'all': 1L, 'love': 1L, 'version': 1L, 'absolutely': 1L, 'it': 1L, 'born': 1L, 'purchased': 1L, 'in': 1L, 'for': 1L, 'when': 1L, 'same': 1L, 'to': 1L, 'book': 1L, 'scripture': 1L, 'daughter-in-law': 1L, 'again.': 1L, 'was': 2L, 'thrilled': 1L, 'baby': 1L, 'he': 1L, 'boy': 1L, 'grandson': 1L, 'i': 1L, 'of': 1L, 'receive': 1L, 'the': 3L, 'my': 2L}, {'simple': 1L, 'down.': 1L, 'verses': 1L, 'as': 1L, 'at': 1L, 'in': 1L, 'pages.': 1L, 'law.': 1L, 'for': 1L, 'bottom': 1L, 'memories': 1L, 'to': 1L, 'bought': 1L, 'it.': 1L, 'but': 1L, 'important': 1L, 'put': 1L, 'a': 2L, 'loved': 2L, 'daughter': 1L, 'gift': 1L, 'i': 1L, 'of': 1L, 'place': 1L, 'she': 1L, 'the': 1L, 'my': 1L}, {'all': 1L, 'right': 1L, 'memories,': 1L, 'prayers': 1L, 'almost': 1L, 'etc.).': 1L, 'ages': 1L, 'are': 1L, 'have': 1L, 'religious': 1L, 'out': 1L, 'fir': 1L, 'lifestyle,': 1L, 'some': 1L, 'i': 3L, 'for': 3L, 'product,': 1L, 'realize': 1L, 'book': 1L, '(not': 1L, 'has': 1L, 'was': 1L, 'baby,': 1L, 'it.': 2L, 'that,': 1L, 'we': 1L, 'sure': 1L, 'returned': 1L, 'that': 2L, \"didn't\": 1L, 'but': 2L, 'ask': 1L, 'with': 1L, 'pages': 1L, 'a': 1L, 'keeping': 1L, 'anything': 1L, \"wasn't\": 1L, 'of': 1L, 'favorite': 1L, 'against': 1L, 'this': 1L, 'so': 2L, 'scripture,': 1L, 'the': 4L}, {'and': 4L, 'cute': 1L, 'liked': 1L, 'when': 2L, 'is': 3L, 'gift!': 1L, 'one.': 1L, 'one': 1L, 'locks': 1L, 'want': 1L, 'your': 2L, 'perfect': 1L, 'little': 2L, 'for': 4L, 'also': 1L, 'memories': 1L, 'had': 1L, 'hair....etc!': 1L, 'to': 2L, 'asking': 1L, 'foot': 1L, 'which': 1L, 'main': 1L, 'questions.': 1L, 'you': 1L, 'has': 1L, 'book!': 1L, 'we': 1L, 'prints': 1L, 'even': 1L, 'it': 2L, 'reason': 1L, 'keepsakes': 1L, 'baby': 3L, 'hand': 1L, 'why': 1L, 'bigger': 1L, 'a': 2L, 'loved': 1L, 'great': 1L, 'gets': 1L, 'remember': 1L, 'places': 1L, 'born': 1L, 'this': 2L, 'of': 1L, 'put': 1L, 'omg.....we': 1L, 'shower': 1L, 'so': 1L, 'place': 1L, 'pockets': 1L, 'starts': 1L, 'the': 2L, 'first': 1L}, {'pink': 1L, 'pastel': 1L, 'life': 1L, 'love': 1L, 'to': 1L, 'i': 1L, 'with': 1L, 'cherished': 1L, 'book,': 1L, 'great': 1L, 'granddaughters': 1L, 'record': 1L, 'beautiful': 2L, 'in': 1L, 'it': 1L, 'the': 1L, 'color.': 1L, 'my': 1L, 'times': 1L}, {'and': 2L, 'mini': 1L, 'happy!': 1L, 'is': 2L, 'one.': 1L, 'an': 1L, 'firsts...and': 1L, 'really': 1L, 'maternity': 1L, 'hair,': 1L, 'in': 1L, 'fill': 1L, 'perfect': 1L, 'bracelet...really': 1L, 'for': 1L, 'with': 1L, 'family,': 1L, 'looking': 1L, 'to': 2L, 'book': 1L, 'lot': 1L, ':': 1L, 'was': 1L, 'happy': 1L, 'preserve': 1L, 'flammish)': 1L, 'french': 1L, 'baby': 1L, 'purchase.': 1L, 'info': 1L, 'i': 1L, 'of': 1L, 'this': 2L, 'pockets': 1L, 'english': 1L, 'the': 2L, 'daddy': 1L, \"(i'm\": 1L}, {'and': 2L, 'photographs': 1L, 'detailed': 1L, 'everyone': 1L, 'is': 1L, 'child': 1L, 'it': 1L, 'serving': 1L, 'through': 1L, 'are': 1L, 'questions': 1L, 'in': 1L, '\"my': 1L, 'its': 1L, 'perfect': 1L, 'kindergartener.': 1L, 'for': 2L, 'record': 2L, 'your': 2L, 'kindergarten': 2L, 'to': 3L, 'book': 2L, 'way': 1L, 'recommend': 1L, 'answer': 1L, 'receiving': 1L, 'was': 1L, 'surprised': 1L, \"one's\": 1L, 'entitled,': 1L, \"parent.i'd\": 1L, \"child's\": 1L, 'very': 1L, 'memory': 1L, 'upon': 1L, 'important': 1L, 'purpose': 1L, 'life.': 1L, 'with': 1L, 'pleasantly': 1L, 'a': 1L, 'i': 1L, 'of': 1L, 'experience': 1L, 'this': 2L, 'while': 1L, 'time': 1L, 'fun': 1L, 'year\".': 1L, 'the': 4L, 'descriptions': 1L}, {'and': 1L, 'already': 1L, 'it': 1L, 'years': 1L, 'see': 1L, 'questions': 1L, 'stumbled': 1L, 'how': 1L, 'answering': 1L, 'answered': 1L, 'memory': 1L, 'questions.': 1L, 'has': 1L, 'be': 1L, 'to': 2L, 'started': 1L, 'upon': 1L, 'back': 1L, 'son': 1L, 'the': 1L, 'glad': 1L, 'he': 1L, 'a': 1L, 'great': 1L, 'look': 1L, 'i': 2L, 'later': 1L, 'think': 1L, 'will': 1L, 'these': 1L, 'so': 1L, \"i'm\": 1L, 'my': 1L, 'gem.': 1L}, {'and': 1L, 'page.': 1L, 'old': 1L, 'just': 2L, 'character': 1L, 'is': 1L, 'it': 1L, 'son.': 1L, 'month': 1L, 'as': 1L, 'have': 1L, 'toy': 1L, \"he's\": 1L, 'when': 1L, 'long': 1L, 'pages': 1L, 'few': 2L, 'enough': 1L, 'book': 2L, 'stuffed': 1L, 'elephant': 1L, 'neat': 1L, 'be': 1L, 'we': 1L, 'attention': 1L, 'to': 3L, '6': 1L, 'realization': 1L, 'words': 1L, 'with': 1L, 'between': 1L, 'association': 1L, 'a': 2L, 'short': 1L, 'older': 1L, 'of': 2L, 'well': 1L, 'see': 1L, 'keep': 1L, 'will': 1L, 'so': 1L, 'each': 1L, 'the': 7L, 'my': 1L}, {'and': 1L, 'is': 1L, 'gift.': 1L, 'pretty,.': 1L, 'for': 1L, 'also': 1L, 'recommend': 1L, 'gives': 1L, 'be': 1L, 'used': 1L, 'very': 1L, 'it': 3L, 'years...i': 1L, 'a': 3L, 'great': 1L, 'made': 1L, 'this': 1L, 'light': 1L, 'well': 1L, 'will': 1L, 'highly.': 1L, 'nice': 1L, 'makes': 1L}, {'affordable': 1L, 'try': 1L, '!easy': 1L, 'and': 2L, 'for': 1L, 'wall': 1L, 'spring': 1L, 'a': 1L, '...fine': 1L, 'up': 1L, '**********': 1L, 'room..': 1L, 'decals': 1L, 'this': 1L, ',fun': 1L, 'brightens': 1L, '5+': 1L, 'quality': 1L, 'project': 1L, 'any': 1L, 'out': 1L}, {'all': 1L, 'because': 1L, 'reason:small': 1L, 'wall': 1L, 'money': 1L, 'is': 1L, 'it': 1L, 'one': 1L, 'second': 1L, 'in': 2L, 'apply': 1L, 'flowers': 1L, 'flower': 1L, 'floor': 1L, 'when': 1L, 'to': 1L, 'only': 1L, 'you': 1L, 'waste': 1L, 'roll.': 1L, 'most': 1L, 'fell': 1L, 'know': 1L, 'pieceyou': 1L, 'day': 1L, 'a': 1L, 'on': 2L, 'sizehard': 1L, 'of': 1L, 'see': 1L, 'morning': 1L, 'will': 1L, 'part': 1L, 'how': 1L, 'the': 4L}, {'and': 1L, 'wall': 1L, 'coming': 1L, 'decals': 1L, 'as': 1L, 'thick': 1L, 'recommend.': 1L, 'again': 1L, 'would': 2L, 'literally': 1L, 'stayed': 1L, 'plastic': 1L, 'stuck': 1L, '5': 1L, 'was': 1L, 'then': 1L, 'almost': 1L, 'started': 1L, 'peeling': 1L, 'like': 1L, 'stick!': 1L, 'not': 2L, 'off': 1L, 'off.': 1L, 'purchase': 1L, 'about': 1L, 'applying': 1L, 'for': 1L, 'i': 1L, 'them!': 1L, 'were': 2L, 'the': 3L, 'minutes': 1L, 'or': 1L}, {'and': 3L, 'fantastic': 1L, 'themed': 1L, 'winnie': 1L, 'paintwork.': 1L, 'cost': 1L, 'at': 1L, 'in': 1L, '&#34;look&#34;': 1L, 'stickers': 2L, 'impressed': 1L, 'decor': 1L, 'with.': 1L, \"don't\": 1L, '-': 1L, 'seamless': 1L, 'to': 1L, 'that': 1L, 'easy': 1L, 'new': 1L, 'was': 1L, 'a': 1L, 'option': 1L, 'get': 1L, 'very': 4L, 'stick': 1L, 'they': 2L, 'not': 1L, 'pooh': 1L, 'wall': 2L, 'like': 1L, 'zealand': 1L, 'on': 3L, 'look': 1L, 'effective': 1L, 'i': 2L, 'all.': 1L, 'could': 1L, 'these': 2L, 'were': 2L, 'professional': 1L, 'the': 3L}, {'page.': 1L, 'on': 1L, 'about': 1L, 'said': 1L, 'and': 1L, 'i': 2L, 'came': 1L, 'ir': 1L, 'grat': 1L, 'satisfied': 1L, 'reccomend': 1L, 'very': 1L, 'as': 1L, 'product,': 2L, 'it': 1L, 'follow': 1L, 'more.': 1L, 'highly': 1L, 'design,': 1L, 'the': 2L, 'buying': 1L}, {'love': 1L, 'chain': 1L, 'jesus': 1L, 'lives!': 1L, 'in': 1L, 'need': 1L, 'our': 1L, 'divine': 3L, 'your': 1L, 'jesuswho': 1L, 'for': 1L, 'pray': 1L, 'god': 1L, 'to': 1L, 'offers': 1L, 'neck.': 1L, 'you': 1L, 'nice': 1L, 'an': 1L, 'around': 1L, 'mercy': 2L, 'very': 1L, 'it!': 1L, 'pendant': 1L, 'mercy.': 1L, 'now': 1L, 'him': 1L, 'on': 1L, 'of': 2L, 'country.': 1L, 'us': 1L, 'ocean': 1L, 'represents': 1L, 'my': 1L}, {\"i'll\": 1L, 'soft': 1L, 'right': 1L, 'love': 1L, 'simple': 1L, 'wipes.': 2L, 'are': 3L, 'changes.': 1L, 'our': 1L, 'done.': 1L, 'find': 1L, 'and': 4L, 'for': 2L, 'ordering': 1L, 'get': 1L, 'now!': 1L, 'actually': 1L, 'other': 1L, 'more': 1L, 'a': 2L, 'them': 2L, 'million': 1L, 'that': 1L, 'price': 1L, 'after': 1L, 'uses': 1L, 'know': 1L, 'they': 3L, 'baby': 1L, 'during': 1L, 'reusable': 1L, 'dry': 1L, 'great': 1L, 'these': 1L, 'of': 1L, 'days': 1L, 'i': 2L, 'so': 1L, 'clean': 1L, \"i'm\": 1L, 'my': 1L, 'diaper': 2L}, {'and': 2L, 'thought,': 1L, 'smaller': 1L, 'just': 1L, 'is': 1L, 'it': 2L, 'wall.': 1L, 'looks': 1L, 'measurements.': 1L, 'what': 1L, 'was': 2L, 'nice': 1L, 'that': 1L, 'but': 1L, 'not': 1L, 'bit': 1L, 'than': 1L, 'a': 1L, 'on': 1L, 'great': 1L, 'i': 1L, 'fault': 1L, 'taking': 1L, 'the': 1L, 'my': 2L}, {'and': 2L, 'old': 1L, 'significantly': 1L, 'them': 1L, 'one': 1L, 'high': 1L, 'as': 1L, 'are': 1L, 'broken': 1L, 'year': 1L, 'seem': 1L, 'open': 3L, 'size': 1L, 'given': 1L, 'for': 1L, 'needed': 1L, 'package...': 1L, 'that': 1L, 'able': 1L, 'their': 1L, 'only': 1L, 'of': 2L, 'safety': 1L, 'normal': 1L, '6': 1L, 'pins': 3L, 'new': 1L, 'learned': 1L, 'has': 1L, 'was': 2L, 'bought': 1L, 'we': 2L, 'his': 1L, 'to': 4L, 'though': 1L, 'price': 1L, 'night': 1L, 'use': 1L, 'clothes.': 1L, 'break': 1L, 'how': 1L, 'bit': 1L, 'son': 1L, 'than': 1L, 'he': 2L, 'a': 1L, 'on': 1L, 'open.': 1L, 'autistic': 1L, 'sturdy': 1L, 'these': 1L, 'recall': 1L, \"hasn't\": 1L, 'shipping': 1L, 'side': 1L, 'i': 1L, 'reasonable': 1L, 'time': 1L, 'the': 4L, 'more': 2L, 'my': 1L, 'or': 1L, 'once': 1L}, {'and': 1L, 'duty--able': 1L, 'quality--worked': 1L, 'good': 1L, 'fine--heavy': 1L, 'to': 1L, 'in': 1L, 'no': 1L, 'these': 1L, 'others': 1L, 'needed': 1L, 'as': 1L, 'used': 1L, 'way': 1L, 'were': 1L, 'need': 1L, 'be': 1L, 'my': 1L, 'any': 1L, 'filled': 1L}, {'and': 1L, 'a': 3L, 'great': 2L, 'has': 1L, 'colors': 1L, 'for': 1L, 'dozen.': 1L, 'that': 1L, 'lots': 1L, 'of': 1L, 'easy': 1L, 'bargain': 1L, 'to': 1L, 'bright': 1L, 'safety': 1L, 'pin': 1L, 'uses.': 1L, 'with': 1L, 'find': 1L}, {'and': 1L, 'not': 1L, 'are': 2L, 'in': 1L, 'thick': 1L, 'little': 1L, 'fabric': 1L, 'no': 2L, 'fortunately': 1L, 'there': 1L, 'to': 1L, 'flimsy': 1L, 'stuck.': 1L, 'pins': 2L, 'was': 2L, 'them': 1L, 'used': 1L, 'on.': 1L, 'involved,': 1L, 'received': 1L, 'diaper': 1L, 'baby': 1L, 'attractive,': 1L, 'hold': 1L, 'on': 1L, 'i': 2L, 'metal': 1L, 'up': 1L, 'did': 1L, 'while': 1L, 'so': 1L, 'the': 4L}, {'honduras,': 1L, 'honduras': 1L, 'sent.': 1L, 'is': 1L, 'it': 1L, 'kits': 1L, 'have': 1L, 'in': 2L, 'our': 1L, 'find': 1L, 'also': 1L, 'with': 1L, 'appreciated': 1L, 'to': 3L, 'pins': 2L, 'sent': 1L, 'difficult': 1L, 'do': 1L, 'we': 2L, 'diapers': 1L, 'cloth': 1L, 'diaper': 2L, 'they': 2L, 'not': 1L, '&#34;pampers&#34;.': 1L, 'hold': 1L, '&#34;disposable&#34;': 1L, 'went': 1L, 'age.': 1L, 'these': 1L, 'the': 3L, 'missionaries.': 1L}, {'and': 3L, 'dressmaker': 1L, 'since': 1L, 'have': 1L, 'pin': 1L, 'up': 1L, 'it': 1L, 'socks': 2L, 'years': 1L, 'course': 1L, 'through': 2L, 'a': 1L, 'using': 1L, 'open': 1L, 'your': 1L, 'cycle.': 1L, 'yet.': 1L, 'little': 1L, 'working': 1L, 'to': 4L, 'that': 1L, 'been': 1L, 'pins,': 1L, 'needed': 1L, 'recommended': 1L, 'tended': 1L, 'pins': 2L, 'perfectly': 1L, 'was': 2L, 'do': 1L, 'staying': 1L, 'tried': 1L, 'get': 1L, 'never': 1L, \"thery're\": 1L, 'washing.': 1L, '&#34;friended': 1L, 'we': 2L, 'but': 3L, 'they': 2L, 'during': 1L, 'brass': 1L, 'one': 1L, 'matter': 1L, 'tricky': 1L, 'open,': 1L, 'has': 1L, 'like': 1L, 'lost': 1L, 'wash': 2L, 'up&#34;.': 1L, 'of': 2L, 'wife': 1L, 'suggested': 1L, 'together': 2L, 'keep': 1L, 'idea.': 1L, 'i': 2L, 'can': 1L, 'many': 1L, 'them.': 1L, 'the': 4L, 'my': 2L, 'fact': 1L, 'diaper': 2L}, {'and': 4L, 'the': 11L, 'reviews.': 1L, 'have': 1L, 'pin': 2L, \"don't\": 1L, 'clothespins,': 1L, 'sock': 1L, 'into': 1L, 'each': 1L, 'am': 1L, 'idea': 1L, 'socks': 6L, 'one': 1L, 'as': 2L, 'done': 1L, 'are': 2L, 'another': 1L, 'reviewer': 1L, 'my': 2L, 'dried,': 1L, 'still': 1L, 'saved': 1L, 'hamper': 1L, 'out': 1L, 'washer,': 1L, 'these': 1L, 'use': 1L, 'now': 1L, 'just': 2L, 'open': 1L, 'line.': 1L, 'with': 2L, 'noted,': 1L, 'had': 1L, 'matching': 1L, 'to': 2L, 'feet.': 1L, 'lot': 1L, 'before': 1L, 'hamper,': 1L, 'has': 1L, 'it.': 1L, 'dry': 2L, 'them': 1L, 'after': 1L, 'on.': 1L, 'stay': 1L, 'read': 1L, 'hang': 2L, 'of': 4L, 'shelf.': 1L, 'great': 2L, 'here': 1L, 'it': 1L, 'by': 1L, 'pins': 1L, 'mismatched': 1L, 'they': 2L, 'put': 1L, 'line': 1L, 'washing.': 1L, 'come': 1L, 'grab': 1L, 'glad': 1L, 'a': 3L, 'on': 5L, 'about': 1L, 'for': 1L, 'lost': 1L, 'this': 2L, 'wish': 1L, 'side': 1L, 'leave': 1L, 'i': 7L, 'without': 1L, 'dirty': 1L, 'time': 1L, 'life.': 1L, 'problem': 1L, 'whole': 1L, 'or': 1L, 'once': 1L}, {'fabric.': 1L, 'work': 1L, 'old': 1L, 'is': 1L, 'hard': 1L, 'it': 1L, 'through': 1L, 'at': 1L, 'still': 1L, 'pins,': 1L, 'recommend.': 1L, 'would': 1L, 'thicker': 1L, 'to': 1L, 'which': 1L, 'steel': 1L, 'have.': 1L, 'very': 1L, 'part': 1L, 'diaper': 1L, 'not': 2L, 'strong': 1L, 'a': 1L, 'unlike': 1L, 'i': 1L, 'all,': 1L, 'the': 2L}, {'there': 1L, 'am': 1L, 'back': 1L, 'really': 1L, 'are': 2L, 'have': 1L, 'in': 1L, '10.': 1L, 'should': 1L, 'out': 1L, 'thought': 1L, 'use': 1L, 'that': 1L, 'when': 1L, 'mark': 1L, 'to': 2L, 'only': 2L, 'going': 1L, 'safety': 1L, 'pins': 1L, 'pins.': 1L, 'was': 1L, 'be': 1L, 'them': 1L, 'dozen': 1L, 'pins..turns': 1L, 'overpriced.': 1L, 'regular': 1L, 'they': 1L, 'crochet': 1L, 'sad..and': 1L, 'a': 1L, 'getting': 1L, 'i': 8L, 'yarn': 1L, 'counted': 1L, 'will': 1L, 'so': 1L, 'picture..as': 1L, 'the': 2L, 'think': 1L}, {'because': 1L, 'anymore.': 1L, 'tabs': 1L, 'is': 1L, 'am': 1L, 'them': 1L, 'through': 2L, 'bend': 1L, 'sharp': 1L, 'said,': 1L, \"doesn't\": 1L, 'pain.': 1L, 'which': 1L, 'dislike': 1L, '=': 2L, 'ends': 1L, 'that': 2L, 'pushing': 1L, 'diapers': 2L, 'velcro': 2L, 'easier.': 1L, 'sides': 1L, 'a': 1L, 'on': 1L, 'pierce': 1L, 'like': 1L, 'older': 1L, 'i': 1L, 'work': 1L, 'the': 2L, 'my': 2L}, {'and': 1L, 'right': 1L, 'happy,': 1L, 'bends': 1L, 'is': 1L, 'am': 2L, 'as': 2L, 'are': 1L, 'for': 1L, 'these,': 1L, 'expected.': 1L, 'steel': 1L, 'needle': 1L, 'material': 1L, 'color,': 1L, 'but': 1L, 'not': 2L, 'strong': 1L, 'with': 1L, 'easily,': 1L, 'a': 1L, 'on': 1L, 'i': 3L, 'dog': 1L, 'bed': 1L, 'pinning': 1L, 'these': 1L, 'so': 1L, 'diapers.': 1L, 'the': 3L}, {'a': 1L, 'useful': 1L, 'to': 2L, 'no': 1L, 'this': 1L, 'item': 1L, 'is': 1L, 'hard': 1L, '-': 1L, 'locally!': 1L, 'matter': 1L, 'have': 1L, 'diaper': 1L, 'purpose...': 1L, 'pins': 1L, 'the': 1L, 'find': 1L, 'are': 1L}, {\"don't\": 1L, 'just': 1L, 'be': 1L, 'wall': 1L, 'of': 1L, 'hand.': 1L, 'am': 1L, 'it': 6L, 'an': 4L, 'not': 1L, 'as': 3L, 'design': 1L, 'at': 1L, 'have': 1L, 'sense': 2L, 'seen': 1L, 'pleased': 1L, \"doesn't\": 1L, 'compared': 1L, 'start': 1L, 'make': 2L, 'give': 1L, 'had': 2L, 'actually': 1L, 'to': 3L, 'difference': 1L, '2': 1L, 'actual': 1L, 'way': 1L, 'hold': 1L, 'was': 1L, 'sort': 1L, 'a': 1L, 'any': 1L, 'far': 1L, 'peeled': 1L, 'about': 1L, 'free': 1L, 'you': 2L, 'putting': 1L, 'they': 1L, 'half': 1L, 'put': 1L, 'branches': 1L, 'aligned': 1L, 'with': 2L, 'weeks': 1L, 'bigger': 1L, 'ago': 1L, 'picture': 2L, 'made': 1L, 'off': 1L, 'i': 4L, 'all.': 1L, 'could': 1L, 'instruction': 1L, 'up': 3L, 'together': 1L, '--': 2L, 'so': 1L, 'wish': 1L, 'the': 5L, 'my': 1L, 'numbers': 1L}, {'do': 1L, 'them': 1L, 'peel': 1L, 'start': 1L, 'these': 1L, 'soon': 1L, 'wall.': 2L, 'to': 3L, 'as': 2L, 'stick': 2L, 'they': 1L, 'not': 1L, 'you': 1L, 'the': 2L}, {'money': 1L, 'frustrating!': 1L, 'when': 1L, 'is': 1L, \"wouldn't\": 1L, 'it': 2L, 'sticky': 1L, 'ended': 1L, 'at': 1L, 'bedroom': 1L, 'bedroom!': 1L, 'glue': 1L, 'wall...very': 1L, 'for': 1L, 'not': 1L, 'girls': 1L, 'to': 3L, 'disappointing.': 1L, 'got': 1L, 'waste': 1L, 'was': 2L, 'excited': 1L, 'it.': 1L, 'floor!': 1L, 'product': 1L, 'get': 1L, 'very': 2L, 'back': 1L, 'every': 1L, 'baby': 1L, 'picking': 1L, 'pieces': 1L, 'super': 1L, 'on': 1L, 'off': 1L, 'all!': 1L, 'i': 4L, 'of': 1L, 'into': 1L, 'up': 2L, 'walked': 1L, 'having': 1L, 'this': 1L, 'so': 1L, 'time': 2L, 'the': 5L, 'my': 1L, 'or': 1L}, {'and': 3L, 'heart': 1L, 'because': 1L, 'blessed': 1L, 'pope': 2L, 'photo': 1L, 'is': 2L, 'am': 1L, 'it': 4L, 'as': 1L, 'in': 3L, 'ordered': 1L, 'between': 1L, 'to': 1L, 'again': 1L, 'strong': 1L, 'just': 1L, 'would': 1L, 'untier': 1L, 'giving': 1L, 'disappointed': 1L, 'whom': 1L, 'francis.': 1L, 'recommend': 1L, 'has': 1L, 'was': 1L, 'knotted': 1L, 'friend': 2L, 'lady': 1L, 'fathers.': 1L, 'buy': 1L, 'devotion.': 1L, 'crystal,': 1L, 'our': 2L, 'novena': 1L, 'beat.': 1L, 'made': 1L, 'not': 1L, 'along': 1L, 'francis': 1L, 'with': 2L, 'by': 1L, 'copy': 1L, 'a': 4L, 'lovely': 1L, 'rosary': 2L, 'for': 2L, 'undoer)': 1L, 'i': 4L, 'of': 3L, 'looked': 1L, 'this': 3L, 'definitely': 1L, '(or': 1L, 'the': 3L, 'my': 1L, 'beautiful,': 1L, 'knots,': 1L}, {'and': 2L, 'all': 1L, 'right': 1L, 'price.': 1L, 'just': 1L, 'scapular': 1L, 'some': 1L, 'an': 1L, 'quality': 1L, 'for': 2L, 'to': 1L, 'more': 1L, 'wearing': 1L, 'brown': 1L, 'around': 1L, 'blessing': 1L, 'precious.': 1L, 'excellent': 1L, 'a': 1L, 'neck': 1L, 'makes': 1L, 'value': 1L, 'item': 1L, 'the': 5L, 'such.': 1L, 'or': 1L, 'orattaching': 1L}, {'beautiful': 2L, 'and': 3L, 'love': 1L, \"don't\": 1L, 'recognize': 1L, 'is': 4L, 'me.': 1L, 'am': 3L, 'it': 4L, 'an': 1L, 'down': 1L, 'as': 2L, 'someone': 1L, 'through': 1L, 'fast': 1L, 'have': 1L, '$25.00.': 1L, 'still': 1L, 'if': 3L, 'even': 1L, 'song.': 1L, 'slow': 1L, 'would': 2L, 'box.': 1L, 'there': 2L, 'had': 3L, 'been': 2L, 'for': 1L, 'to': 5L, 'finally': 1L, 'item.': 1L, 'too': 1L, 'way': 2L, 'beware...': 1L, 'music': 4L, 'watching': 1L, 'was': 1L, 'tell': 1L, 'happy': 2L, 'be': 1L, 'play': 1L, 'nativity.': 1L, 'get': 1L, 'very': 1L, 'about': 1L, 'but': 1L, 'excuse': 1L, 'know': 1L, 'box;': 1L, 'not': 3L, 'song': 1L, 'with': 1L, 'the': 7L, 'a': 2L, 'nativity': 1L, 'great': 1L, 'look': 1L, 'this': 1L, 'wish': 1L, 'right.buyer': 1L, 'months': 1L, 'excited': 2L, 'i': 10L, 'so': 3L, 'of': 1L, 'nativity;': 1L, 'spend': 1L, 'once': 1L}, {'and': 2L, 'slid': 1L, 'tough': 2L, 'fit.': 1L, 'over': 1L, 'am': 1L, 'product': 1L, 'hair': 1L, 'snug': 1L, 'are': 2L, 'have': 2L, 'love': 1L, 'shipping!': 1L, 'satisfied': 1L, 'pleased': 1L, 'size': 1L, 'fit': 1L, 'bangle': 1L, 'had': 1L, 'fitting': 1L, 'fast': 1L, '.': 1L, 'to': 3L, 'lotion.': 1L, 'whew': 1L, 'bangles': 1L, 'small.': 1L, 'was': 1L, 'hand.': 1L, 'them': 1L, 'get': 1L, 'got': 1L, 'were': 1L, 'overall': 1L, 'however': 1L, 'but': 2L, 'like': 1L, 'if': 1L, 'adult': 1L, 'they': 4L, 'hands': 1L, 'bit': 1L, 'hand': 1L, 'with': 3L, 'bigger': 1L, 'kid': 1L, 'a': 3L, 'on': 2L, 'for': 1L, 'i': 5L, \"wouldn't\": 1L, 'large': 1L, 'these': 1L, 'stay.': 1L, 'also.': 1L, 'product.': 1L, 'small': 2L, 'wrist': 1L, 'the': 3L, 'my': 1L, 'on!!': 1L}, {'and': 2L, 'set': 1L, 'old': 1L, 'cooking.': 1L, 'for': 1L, '2': 1L, 'lot': 1L, 'has': 1L, 'was': 1L, 'granddaughter': 1L, 'with': 1L, 'a': 1L, 'great': 1L, 'yr.': 1L, 'this': 1L, 'of': 1L, 'pretend': 1L, 'she': 1L, 'fun': 1L, 'the': 1L, 'my': 1L, 'playing': 1L}, {'and': 1L, 'is': 1L, 'wash': 1L, 'are': 1L, 'also': 1L, 'useful.': 1L, 'to': 1L, 'easy': 1L, 'awesome.': 1L, 'them': 1L, 'dry.': 1L, 'very': 2L, 'price': 1L, 'much.': 1L, 'bibs.': 1L, 'they': 1L, 'friends': 1L, 'those': 1L, 'like': 2L, 'i': 1L, 'the': 1L, 'my': 1L}, {'beautiful': 1L, 'old': 1L, 'too.': 1L, 'curls': 1L, 'is': 1L, 'wash': 1L, 'good': 1L, 'in': 1L, 'messy': 1L, 'mouth.': 1L, 'provided': 1L, '20': 1L, 'for': 1L, 'to': 2L, 'front': 1L, 'boy': 1L, 'when': 1L, 'eaters,': 1L, 'bibs,': 1L, 'easy': 1L, 'elbows': 1L, 'his': 2L, 'missing': 1L, 'very': 1L, 'who': 1L, 'pasta': 2L, 'pocket': 1L, 'marinara': 1L, 'protections': 1L, 'fall': 1L, 'fingers.': 1L, 'bibs': 1L, 'with': 1L, 'eat': 1L, 'a': 1L, 'loved': 1L, 'daughter': 1L, 'grandson': 1L, 'this': 2L, 'months': 1L, 'loves': 1L, 'the': 2L, 'my': 2L, 'or': 1L}, {'perfect': 1L, 'and': 1L, 'i': 1L, 'collection!': 1L, 'collect': 1L, 'this': 2L, 'tree!': 1L, 'is': 2L, 'it': 1L, 'for': 1L, 'nativity': 2L, 'to': 2L, 'add': 1L, 'cute': 1L, 'a': 1L, 'ornaments': 1L, 'ornament,': 1L, 'such': 1L, 'my': 2L, \"can't\": 1L, 'wait': 1L}, ... ]"
      ]
     },
     "execution_count": 9,
     "metadata": {},
     "output_type": "execute_result"
    }
   ],
   "source": [
    "dict"
   ]
  },
  {
   "cell_type": "code",
   "execution_count": 10,
   "metadata": {
    "collapsed": false
   },
   "outputs": [
    {
     "ename": "IndexError",
     "evalue": "Invalid type to use for indexing",
     "output_type": "error",
     "traceback": [
      "\u001b[1;31m---------------------------------------------------------------------------\u001b[0m",
      "\u001b[1;31mIndexError\u001b[0m                                Traceback (most recent call last)",
      "\u001b[1;32m<ipython-input-10-638d3c85caa0>\u001b[0m in \u001b[0;36m<module>\u001b[1;34m()\u001b[0m\n\u001b[1;32m----> 1\u001b[1;33m \u001b[0mdict\u001b[0m\u001b[1;33m[\u001b[0m\u001b[1;34m'and'\u001b[0m\u001b[1;33m]\u001b[0m\u001b[1;33m\u001b[0m\u001b[0m\n\u001b[0m",
      "\u001b[1;32mC:\\Users\\eugene chang\\Anaconda2\\envs\\gl-env\\lib\\site-packages\\graphlab\\data_structures\\sarray.pyc\u001b[0m in \u001b[0;36m__getitem__\u001b[1;34m(self, other)\u001b[0m\n\u001b[0;32m   1264\u001b[0m             \u001b[1;32mreturn\u001b[0m \u001b[0mSArray\u001b[0m\u001b[1;33m(\u001b[0m\u001b[0m_proxy\u001b[0m \u001b[1;33m=\u001b[0m \u001b[0mself\u001b[0m\u001b[1;33m.\u001b[0m\u001b[0m__proxy__\u001b[0m\u001b[1;33m.\u001b[0m\u001b[0mcopy_range\u001b[0m\u001b[1;33m(\u001b[0m\u001b[0mstart\u001b[0m\u001b[1;33m,\u001b[0m \u001b[0mstep\u001b[0m\u001b[1;33m,\u001b[0m \u001b[0mstop\u001b[0m\u001b[1;33m)\u001b[0m\u001b[1;33m)\u001b[0m\u001b[1;33m\u001b[0m\u001b[0m\n\u001b[0;32m   1265\u001b[0m         \u001b[1;32melse\u001b[0m\u001b[1;33m:\u001b[0m\u001b[1;33m\u001b[0m\u001b[0m\n\u001b[1;32m-> 1266\u001b[1;33m             \u001b[1;32mraise\u001b[0m \u001b[0mIndexError\u001b[0m\u001b[1;33m(\u001b[0m\u001b[1;34m\"Invalid type to use for indexing\"\u001b[0m\u001b[1;33m)\u001b[0m\u001b[1;33m\u001b[0m\u001b[0m\n\u001b[0m\u001b[0;32m   1267\u001b[0m \u001b[1;33m\u001b[0m\u001b[0m\n\u001b[0;32m   1268\u001b[0m     \u001b[1;32mdef\u001b[0m \u001b[0mmaterialize\u001b[0m\u001b[1;33m(\u001b[0m\u001b[0mself\u001b[0m\u001b[1;33m)\u001b[0m\u001b[1;33m:\u001b[0m\u001b[1;33m\u001b[0m\u001b[0m\n",
      "\u001b[1;31mIndexError\u001b[0m: Invalid type to use for indexing"
     ]
    }
   ],
   "source": [
    "dict['and']"
   ]
  },
  {
   "cell_type": "code",
   "execution_count": 10,
   "metadata": {
    "collapsed": false
   },
   "outputs": [
    {
     "data": {
      "text/plain": [
       "5L"
      ]
     },
     "execution_count": 10,
     "metadata": {},
     "output_type": "execute_result"
    }
   ],
   "source": [
    "dict[0]['and']"
   ]
  },
  {
   "cell_type": "code",
   "execution_count": 11,
   "metadata": {
    "collapsed": true
   },
   "outputs": [],
   "source": [
    "def awesome_count(dict):\n",
    "    if 'awesome' in dict:\n",
    "        return dict['awesome']\n",
    "    else:\n",
    "        return 0\n",
    "    "
   ]
  },
  {
   "cell_type": "code",
   "execution_count": 12,
   "metadata": {
    "collapsed": false
   },
   "outputs": [],
   "source": [
    "products['awesome'] = products['word_count'].apply(awesome_count)"
   ]
  },
  {
   "cell_type": "code",
   "execution_count": 13,
   "metadata": {
    "collapsed": false
   },
   "outputs": [
    {
     "data": {
      "text/html": [
       "<div style=\"max-height:1000px;max-width:1500px;overflow:auto;\"><table frame=\"box\" rules=\"cols\">\n",
       "    <tr>\n",
       "        <th style=\"padding-left: 1em; padding-right: 1em; text-align: center\">name</th>\n",
       "        <th style=\"padding-left: 1em; padding-right: 1em; text-align: center\">review</th>\n",
       "        <th style=\"padding-left: 1em; padding-right: 1em; text-align: center\">rating</th>\n",
       "        <th style=\"padding-left: 1em; padding-right: 1em; text-align: center\">word_count</th>\n",
       "        <th style=\"padding-left: 1em; padding-right: 1em; text-align: center\">awesome</th>\n",
       "    </tr>\n",
       "    <tr>\n",
       "        <td style=\"padding-left: 1em; padding-right: 1em; text-align: center; vertical-align: top\">Pedal Farm Tractor</td>\n",
       "        <td style=\"padding-left: 1em; padding-right: 1em; text-align: center; vertical-align: top\">I bought this for my son<br>when he was 3 years old. ...</td>\n",
       "        <td style=\"padding-left: 1em; padding-right: 1em; text-align: center; vertical-align: top\">5.0</td>\n",
       "        <td style=\"padding-left: 1em; padding-right: 1em; text-align: center; vertical-align: top\">{'and': 3L, 'this': 2L,<br>'old': 1L, 'purchased': ...</td>\n",
       "        <td style=\"padding-left: 1em; padding-right: 1em; text-align: center; vertical-align: top\">1</td>\n",
       "    </tr>\n",
       "    <tr>\n",
       "        <td style=\"padding-left: 1em; padding-right: 1em; text-align: center; vertical-align: top\">Thomas &amp;amp; Friends - 3<br>Piece Dinnerware Set- ...</td>\n",
       "        <td style=\"padding-left: 1em; padding-right: 1em; text-align: center; vertical-align: top\">This dining ware set is<br>awesome for the Thomas ...</td>\n",
       "        <td style=\"padding-left: 1em; padding-right: 1em; text-align: center; vertical-align: top\">5.0</td>\n",
       "        <td style=\"padding-left: 1em; padding-right: 1em; text-align: center; vertical-align: top\">{'and': 1L, 'thomas': 1L,<br>'set': 1L, 'awesome': ...</td>\n",
       "        <td style=\"padding-left: 1em; padding-right: 1em; text-align: center; vertical-align: top\">1</td>\n",
       "    </tr>\n",
       "    <tr>\n",
       "        <td style=\"padding-left: 1em; padding-right: 1em; text-align: center; vertical-align: top\">Munchkin Mozart Magic<br>Cube ...</td>\n",
       "        <td style=\"padding-left: 1em; padding-right: 1em; text-align: center; vertical-align: top\">The Mozart magic cube is<br>an AWESOME toy for my ...</td>\n",
       "        <td style=\"padding-left: 1em; padding-right: 1em; text-align: center; vertical-align: top\">5.0</td>\n",
       "        <td style=\"padding-left: 1em; padding-right: 1em; text-align: center; vertical-align: top\">{'and': 3L, 'old': 2L,<br>'classic': 1L, 'enough': ...</td>\n",
       "        <td style=\"padding-left: 1em; padding-right: 1em; text-align: center; vertical-align: top\">1</td>\n",
       "    </tr>\n",
       "    <tr>\n",
       "        <td style=\"padding-left: 1em; padding-right: 1em; text-align: center; vertical-align: top\">Munchkin Mozart Magic<br>Cube ...</td>\n",
       "        <td style=\"padding-left: 1em; padding-right: 1em; text-align: center; vertical-align: top\">Our daughter got this toy<br>for her first birthday. ...</td>\n",
       "        <td style=\"padding-left: 1em; padding-right: 1em; text-align: center; vertical-align: top\">4.0</td>\n",
       "        <td style=\"padding-left: 1em; padding-right: 1em; text-align: center; vertical-align: top\">{'and': 4L,<br>'grandfather!': 1L, ...</td>\n",
       "        <td style=\"padding-left: 1em; padding-right: 1em; text-align: center; vertical-align: top\">1</td>\n",
       "    </tr>\n",
       "    <tr>\n",
       "        <td style=\"padding-left: 1em; padding-right: 1em; text-align: center; vertical-align: top\">Evenflo Top of Stair Gate</td>\n",
       "        <td style=\"padding-left: 1em; padding-right: 1em; text-align: center; vertical-align: top\">Awesome gate.  It is<br>sturdy, so its very well ...</td>\n",
       "        <td style=\"padding-left: 1em; padding-right: 1em; text-align: center; vertical-align: top\">5.0</td>\n",
       "        <td style=\"padding-left: 1em; padding-right: 1em; text-align: center; vertical-align: top\">{'and': 1L, 'the': 4L,<br>'childproof': 1L, ...</td>\n",
       "        <td style=\"padding-left: 1em; padding-right: 1em; text-align: center; vertical-align: top\">1</td>\n",
       "    </tr>\n",
       "    <tr>\n",
       "        <td style=\"padding-left: 1em; padding-right: 1em; text-align: center; vertical-align: top\">Animal Planet's Big Tub<br>of Dinosaurs ...</td>\n",
       "        <td style=\"padding-left: 1em; padding-right: 1em; text-align: center; vertical-align: top\">This is an awesome<br>complete set of dinos ...</td>\n",
       "        <td style=\"padding-left: 1em; padding-right: 1em; text-align: center; vertical-align: top\">5.0</td>\n",
       "        <td style=\"padding-left: 1em; padding-right: 1em; text-align: center; vertical-align: top\">{'we': 1L, 'set': 1L,<br>'price.': 1L, ...</td>\n",
       "        <td style=\"padding-left: 1em; padding-right: 1em; text-align: center; vertical-align: top\">1</td>\n",
       "    </tr>\n",
       "    <tr>\n",
       "        <td style=\"padding-left: 1em; padding-right: 1em; text-align: center; vertical-align: top\">Graco TotBloc Pack 'N<br>Play with Carry Bag,  ...</td>\n",
       "        <td style=\"padding-left: 1em; padding-right: 1em; text-align: center; vertical-align: top\">I ordered this because my<br>23 lb 30 inch long 7 ...</td>\n",
       "        <td style=\"padding-left: 1em; padding-right: 1em; text-align: center; vertical-align: top\">1.0</td>\n",
       "        <td style=\"padding-left: 1em; padding-right: 1em; text-align: center; vertical-align: top\">{'month': 1L, 'sleep':<br>1L, 'still': 1L, 'its': ...</td>\n",
       "        <td style=\"padding-left: 1em; padding-right: 1em; text-align: center; vertical-align: top\">1</td>\n",
       "    </tr>\n",
       "    <tr>\n",
       "        <td style=\"padding-left: 1em; padding-right: 1em; text-align: center; vertical-align: top\">Philips AVENT Isis On The<br>Go Set ...</td>\n",
       "        <td style=\"padding-left: 1em; padding-right: 1em; text-align: center; vertical-align: top\">I based my decision to<br>purchase this pump based ...</td>\n",
       "        <td style=\"padding-left: 1em; padding-right: 1em; text-align: center; vertical-align: top\">2.0</td>\n",
       "        <td style=\"padding-left: 1em; padding-right: 1em; text-align: center; vertical-align: top\">{'all': 3L, \"don't\": 1L,<br>'baby': 1L, 'ounces': ...</td>\n",
       "        <td style=\"padding-left: 1em; padding-right: 1em; text-align: center; vertical-align: top\">1</td>\n",
       "    </tr>\n",
       "    <tr>\n",
       "        <td style=\"padding-left: 1em; padding-right: 1em; text-align: center; vertical-align: top\">Philips AVENT Isis On The<br>Go Set ...</td>\n",
       "        <td style=\"padding-left: 1em; padding-right: 1em; text-align: center; vertical-align: top\">I loved this pump. I had<br>my first child this past ...</td>\n",
       "        <td style=\"padding-left: 1em; padding-right: 1em; text-align: center; vertical-align: top\">5.0</td>\n",
       "        <td style=\"padding-left: 1em; padding-right: 1em; text-align: center; vertical-align: top\">{'feed': 2L, 'and': 5L,<br>'inexpensive.': 1L, ...</td>\n",
       "        <td style=\"padding-left: 1em; padding-right: 1em; text-align: center; vertical-align: top\">1</td>\n",
       "    </tr>\n",
       "    <tr>\n",
       "        <td style=\"padding-left: 1em; padding-right: 1em; text-align: center; vertical-align: top\">The First Years Nature<br>Sensations Lullaby Pl ...</td>\n",
       "        <td style=\"padding-left: 1em; padding-right: 1em; text-align: center; vertical-align: top\">Our son had problems<br>falling asleep and ...</td>\n",
       "        <td style=\"padding-left: 1em; padding-right: 1em; text-align: center; vertical-align: top\">5.0</td>\n",
       "        <td style=\"padding-left: 1em; padding-right: 1em; text-align: center; vertical-align: top\">{'all': 1L, 'just': 1L,<br>'saver': 1L, 'toy.and': ...</td>\n",
       "        <td style=\"padding-left: 1em; padding-right: 1em; text-align: center; vertical-align: top\">1</td>\n",
       "    </tr>\n",
       "</table>\n",
       "[? rows x 5 columns]<br/>Note: Only the head of the SFrame is printed. This SFrame is lazily evaluated.<br/>You can use sf.materialize() to force materialization.\n",
       "</div>"
      ],
      "text/plain": [
       "Columns:\n",
       "\tname\tstr\n",
       "\treview\tstr\n",
       "\trating\tfloat\n",
       "\tword_count\tdict\n",
       "\tawesome\tint\n",
       "\n",
       "Rows: Unknown\n",
       "\n",
       "Data:\n",
       "+-------------------------------+-------------------------------+--------+\n",
       "|              name             |             review            | rating |\n",
       "+-------------------------------+-------------------------------+--------+\n",
       "|       Pedal Farm Tractor      | I bought this for my son w... |  5.0   |\n",
       "| Thomas &amp; Friends - 3 P... | This dining ware set is aw... |  5.0   |\n",
       "|   Munchkin Mozart Magic Cube  | The Mozart magic cube is a... |  5.0   |\n",
       "|   Munchkin Mozart Magic Cube  | Our daughter got this toy ... |  4.0   |\n",
       "|   Evenflo Top of Stair Gate   | Awesome gate.  It is sturd... |  5.0   |\n",
       "| Animal Planet's Big Tub of... | This is an awesome complet... |  5.0   |\n",
       "| Graco TotBloc Pack 'N Play... | I ordered this because my ... |  1.0   |\n",
       "| Philips AVENT Isis On The ... | I based my decision to pur... |  2.0   |\n",
       "| Philips AVENT Isis On The ... | I loved this pump. I had m... |  5.0   |\n",
       "| The First Years Nature Sen... | Our son had problems falli... |  5.0   |\n",
       "+-------------------------------+-------------------------------+--------+\n",
       "+-------------------------------+---------+\n",
       "|           word_count          | awesome |\n",
       "+-------------------------------+---------+\n",
       "| {'and': 3L, 'this': 2L, 'o... |    1    |\n",
       "| {'and': 1L, 'thomas': 1L, ... |    1    |\n",
       "| {'and': 3L, 'old': 2L, 'cl... |    1    |\n",
       "| {'and': 4L, 'grandfather!'... |    1    |\n",
       "| {'and': 1L, 'the': 4L, 'ch... |    1    |\n",
       "| {'we': 1L, 'set': 1L, 'pri... |    1    |\n",
       "| {'month': 1L, 'sleep': 1L,... |    1    |\n",
       "| {'all': 3L, \"don't\": 1L, '... |    1    |\n",
       "| {'feed': 2L, 'and': 5L, 'i... |    1    |\n",
       "| {'all': 1L, 'just': 1L, 's... |    1    |\n",
       "+-------------------------------+---------+\n",
       "[? rows x 5 columns]\n",
       "Note: Only the head of the SFrame is printed. This SFrame is lazily evaluated.\n",
       "You can use sf.materialize() to force materialization."
      ]
     },
     "execution_count": 13,
     "metadata": {},
     "output_type": "execute_result"
    }
   ],
   "source": [
    "products[products['awesome'] > 0]"
   ]
  },
  {
   "cell_type": "code",
   "execution_count": 14,
   "metadata": {
    "collapsed": true
   },
   "outputs": [],
   "source": [
    "def great_count(dict):\n",
    "    if 'great' in dict:\n",
    "        return dict['great']\n",
    "    else:\n",
    "        return 0"
   ]
  },
  {
   "cell_type": "code",
   "execution_count": 15,
   "metadata": {
    "collapsed": true
   },
   "outputs": [],
   "source": [
    "def fantastic_count(dict):\n",
    "    if 'fantastic' in dict:\n",
    "        return dict['fantastic']\n",
    "    else:\n",
    "        return 0"
   ]
  },
  {
   "cell_type": "code",
   "execution_count": 16,
   "metadata": {
    "collapsed": true
   },
   "outputs": [],
   "source": [
    "def amazing_count(dict):\n",
    "    if 'amazing' in dict:\n",
    "        return dict['amazing']\n",
    "    else:\n",
    "        return 0"
   ]
  },
  {
   "cell_type": "code",
   "execution_count": 17,
   "metadata": {
    "collapsed": true
   },
   "outputs": [],
   "source": [
    "def love_count(dict):\n",
    "    if 'love' in dict:\n",
    "        return dict['love']\n",
    "    else:\n",
    "        return 0"
   ]
  },
  {
   "cell_type": "code",
   "execution_count": 18,
   "metadata": {
    "collapsed": true
   },
   "outputs": [],
   "source": [
    "def horrible_count(dict):\n",
    "    if 'horrible' in dict:\n",
    "        return dict['horrible']\n",
    "    else:\n",
    "        return 0"
   ]
  },
  {
   "cell_type": "code",
   "execution_count": 19,
   "metadata": {
    "collapsed": true
   },
   "outputs": [],
   "source": [
    "def bad_count(dict):\n",
    "    if 'bad' in dict:\n",
    "        return dict['bad']\n",
    "    else:\n",
    "        return 0"
   ]
  },
  {
   "cell_type": "code",
   "execution_count": 20,
   "metadata": {
    "collapsed": true
   },
   "outputs": [],
   "source": [
    "def terrible_count(dict):\n",
    "    if 'terrible' in dict:\n",
    "        return dict['terrible']\n",
    "    else:\n",
    "        return 0"
   ]
  },
  {
   "cell_type": "code",
   "execution_count": 21,
   "metadata": {
    "collapsed": true
   },
   "outputs": [],
   "source": [
    "def awful_count(dict):\n",
    "    if 'awful' in dict:\n",
    "        return dict['awful']\n",
    "    else:\n",
    "        return 0"
   ]
  },
  {
   "cell_type": "code",
   "execution_count": 22,
   "metadata": {
    "collapsed": true
   },
   "outputs": [],
   "source": [
    "def wow_count(dict):\n",
    "    if 'wow' in dict:\n",
    "        return dict['wow']\n",
    "    else:\n",
    "        return 0"
   ]
  },
  {
   "cell_type": "code",
   "execution_count": 23,
   "metadata": {
    "collapsed": true
   },
   "outputs": [],
   "source": [
    "def hate_count(dict):\n",
    "    if 'hate' in dict:\n",
    "        return dict['hate']\n",
    "    else:\n",
    "        return 0"
   ]
  },
  {
   "cell_type": "code",
   "execution_count": 24,
   "metadata": {
    "collapsed": true
   },
   "outputs": [],
   "source": [
    "products['great'] = products['word_count'].apply(great_count)"
   ]
  },
  {
   "cell_type": "code",
   "execution_count": 25,
   "metadata": {
    "collapsed": true
   },
   "outputs": [],
   "source": [
    "products['fantastic'] = products['word_count'].apply(fantastic_count)"
   ]
  },
  {
   "cell_type": "code",
   "execution_count": 26,
   "metadata": {
    "collapsed": true
   },
   "outputs": [],
   "source": [
    "products['amazing'] = products['word_count'].apply(amazing_count)"
   ]
  },
  {
   "cell_type": "code",
   "execution_count": 27,
   "metadata": {
    "collapsed": true
   },
   "outputs": [],
   "source": [
    "products['love'] = products['word_count'].apply(love_count)"
   ]
  },
  {
   "cell_type": "code",
   "execution_count": 28,
   "metadata": {
    "collapsed": true
   },
   "outputs": [],
   "source": [
    "products['horrible'] = products['word_count'].apply(horrible_count)"
   ]
  },
  {
   "cell_type": "code",
   "execution_count": 29,
   "metadata": {
    "collapsed": true
   },
   "outputs": [],
   "source": [
    "products['bad'] = products['word_count'].apply(bad_count)"
   ]
  },
  {
   "cell_type": "code",
   "execution_count": 30,
   "metadata": {
    "collapsed": true
   },
   "outputs": [],
   "source": [
    "products['terrible'] = products['word_count'].apply(terrible_count)"
   ]
  },
  {
   "cell_type": "code",
   "execution_count": 31,
   "metadata": {
    "collapsed": true
   },
   "outputs": [],
   "source": [
    "products['awful'] = products['word_count'].apply(awful_count)"
   ]
  },
  {
   "cell_type": "code",
   "execution_count": 32,
   "metadata": {
    "collapsed": true
   },
   "outputs": [],
   "source": [
    "products['wow'] = products['word_count'].apply(wow_count)"
   ]
  },
  {
   "cell_type": "code",
   "execution_count": 33,
   "metadata": {
    "collapsed": true
   },
   "outputs": [],
   "source": [
    "products['hate'] = products['word_count'].apply(hate_count)"
   ]
  },
  {
   "cell_type": "code",
   "execution_count": 34,
   "metadata": {
    "collapsed": false
   },
   "outputs": [
    {
     "data": {
      "text/html": [
       "<div style=\"max-height:1000px;max-width:1500px;overflow:auto;\"><table frame=\"box\" rules=\"cols\">\n",
       "    <tr>\n",
       "        <th style=\"padding-left: 1em; padding-right: 1em; text-align: center\">name</th>\n",
       "        <th style=\"padding-left: 1em; padding-right: 1em; text-align: center\">review</th>\n",
       "        <th style=\"padding-left: 1em; padding-right: 1em; text-align: center\">rating</th>\n",
       "        <th style=\"padding-left: 1em; padding-right: 1em; text-align: center\">word_count</th>\n",
       "        <th style=\"padding-left: 1em; padding-right: 1em; text-align: center\">awesome</th>\n",
       "        <th style=\"padding-left: 1em; padding-right: 1em; text-align: center\">great</th>\n",
       "        <th style=\"padding-left: 1em; padding-right: 1em; text-align: center\">fantastic</th>\n",
       "    </tr>\n",
       "    <tr>\n",
       "        <td style=\"padding-left: 1em; padding-right: 1em; text-align: center; vertical-align: top\">Planetwise Flannel Wipes</td>\n",
       "        <td style=\"padding-left: 1em; padding-right: 1em; text-align: center; vertical-align: top\">These flannel wipes are<br>OK, but in my opinion ...</td>\n",
       "        <td style=\"padding-left: 1em; padding-right: 1em; text-align: center; vertical-align: top\">3.0</td>\n",
       "        <td style=\"padding-left: 1em; padding-right: 1em; text-align: center; vertical-align: top\">{'and': 5L, 'stink': 1L,<br>'because': 1L, 'order ...</td>\n",
       "        <td style=\"padding-left: 1em; padding-right: 1em; text-align: center; vertical-align: top\">0</td>\n",
       "        <td style=\"padding-left: 1em; padding-right: 1em; text-align: center; vertical-align: top\">0</td>\n",
       "        <td style=\"padding-left: 1em; padding-right: 1em; text-align: center; vertical-align: top\">0</td>\n",
       "    </tr>\n",
       "    <tr>\n",
       "        <td style=\"padding-left: 1em; padding-right: 1em; text-align: center; vertical-align: top\">Planetwise Wipe Pouch</td>\n",
       "        <td style=\"padding-left: 1em; padding-right: 1em; text-align: center; vertical-align: top\">it came early and was not<br>disappointed. i love ...</td>\n",
       "        <td style=\"padding-left: 1em; padding-right: 1em; text-align: center; vertical-align: top\">5.0</td>\n",
       "        <td style=\"padding-left: 1em; padding-right: 1em; text-align: center; vertical-align: top\">{'and': 3L, 'love': 1L,<br>'it': 2L, 'highly': 1L, ...</td>\n",
       "        <td style=\"padding-left: 1em; padding-right: 1em; text-align: center; vertical-align: top\">0</td>\n",
       "        <td style=\"padding-left: 1em; padding-right: 1em; text-align: center; vertical-align: top\">0</td>\n",
       "        <td style=\"padding-left: 1em; padding-right: 1em; text-align: center; vertical-align: top\">0</td>\n",
       "    </tr>\n",
       "    <tr>\n",
       "        <td style=\"padding-left: 1em; padding-right: 1em; text-align: center; vertical-align: top\">Annas Dream Full Quilt<br>with 2 Shams ...</td>\n",
       "        <td style=\"padding-left: 1em; padding-right: 1em; text-align: center; vertical-align: top\">Very soft and comfortable<br>and warmer than it ...</td>\n",
       "        <td style=\"padding-left: 1em; padding-right: 1em; text-align: center; vertical-align: top\">5.0</td>\n",
       "        <td style=\"padding-left: 1em; padding-right: 1em; text-align: center; vertical-align: top\">{'and': 2L, 'quilt': 1L,<br>'it': 1L, 'comfortable': ...</td>\n",
       "        <td style=\"padding-left: 1em; padding-right: 1em; text-align: center; vertical-align: top\">0</td>\n",
       "        <td style=\"padding-left: 1em; padding-right: 1em; text-align: center; vertical-align: top\">0</td>\n",
       "        <td style=\"padding-left: 1em; padding-right: 1em; text-align: center; vertical-align: top\">0</td>\n",
       "    </tr>\n",
       "    <tr>\n",
       "        <td style=\"padding-left: 1em; padding-right: 1em; text-align: center; vertical-align: top\">Stop Pacifier Sucking<br>without tears with ...</td>\n",
       "        <td style=\"padding-left: 1em; padding-right: 1em; text-align: center; vertical-align: top\">This is a product well<br>worth the purchase.  I ...</td>\n",
       "        <td style=\"padding-left: 1em; padding-right: 1em; text-align: center; vertical-align: top\">5.0</td>\n",
       "        <td style=\"padding-left: 1em; padding-right: 1em; text-align: center; vertical-align: top\">{'ingenious': 1L, 'and':<br>3L, 'love': 2L, ...</td>\n",
       "        <td style=\"padding-left: 1em; padding-right: 1em; text-align: center; vertical-align: top\">0</td>\n",
       "        <td style=\"padding-left: 1em; padding-right: 1em; text-align: center; vertical-align: top\">0</td>\n",
       "        <td style=\"padding-left: 1em; padding-right: 1em; text-align: center; vertical-align: top\">0</td>\n",
       "    </tr>\n",
       "    <tr>\n",
       "        <td style=\"padding-left: 1em; padding-right: 1em; text-align: center; vertical-align: top\">Stop Pacifier Sucking<br>without tears with ...</td>\n",
       "        <td style=\"padding-left: 1em; padding-right: 1em; text-align: center; vertical-align: top\">All of my kids have cried<br>non-stop when I tried to ...</td>\n",
       "        <td style=\"padding-left: 1em; padding-right: 1em; text-align: center; vertical-align: top\">5.0</td>\n",
       "        <td style=\"padding-left: 1em; padding-right: 1em; text-align: center; vertical-align: top\">{'and': 2L, 'parents!!':<br>1L, 'all': 2L, 'puppe ...</td>\n",
       "        <td style=\"padding-left: 1em; padding-right: 1em; text-align: center; vertical-align: top\">0</td>\n",
       "        <td style=\"padding-left: 1em; padding-right: 1em; text-align: center; vertical-align: top\">1</td>\n",
       "        <td style=\"padding-left: 1em; padding-right: 1em; text-align: center; vertical-align: top\">0</td>\n",
       "    </tr>\n",
       "    <tr>\n",
       "        <td style=\"padding-left: 1em; padding-right: 1em; text-align: center; vertical-align: top\">Stop Pacifier Sucking<br>without tears with ...</td>\n",
       "        <td style=\"padding-left: 1em; padding-right: 1em; text-align: center; vertical-align: top\">When the Binky Fairy came<br>to our house, we didn't ...</td>\n",
       "        <td style=\"padding-left: 1em; padding-right: 1em; text-align: center; vertical-align: top\">5.0</td>\n",
       "        <td style=\"padding-left: 1em; padding-right: 1em; text-align: center; vertical-align: top\">{'and': 2L, 'cute': 1L,<br>'help': 2L, 'doll': 1L, ...</td>\n",
       "        <td style=\"padding-left: 1em; padding-right: 1em; text-align: center; vertical-align: top\">0</td>\n",
       "        <td style=\"padding-left: 1em; padding-right: 1em; text-align: center; vertical-align: top\">1</td>\n",
       "        <td style=\"padding-left: 1em; padding-right: 1em; text-align: center; vertical-align: top\">0</td>\n",
       "    </tr>\n",
       "    <tr>\n",
       "        <td style=\"padding-left: 1em; padding-right: 1em; text-align: center; vertical-align: top\">A Tale of Baby's Days<br>with Peter Rabbit ...</td>\n",
       "        <td style=\"padding-left: 1em; padding-right: 1em; text-align: center; vertical-align: top\">Lovely book, it's bound<br>tightly so you may no ...</td>\n",
       "        <td style=\"padding-left: 1em; padding-right: 1em; text-align: center; vertical-align: top\">4.0</td>\n",
       "        <td style=\"padding-left: 1em; padding-right: 1em; text-align: center; vertical-align: top\">{'shop': 1L, 'be': 1L,<br>'is': 1L, 'it': 1L, ' ...</td>\n",
       "        <td style=\"padding-left: 1em; padding-right: 1em; text-align: center; vertical-align: top\">0</td>\n",
       "        <td style=\"padding-left: 1em; padding-right: 1em; text-align: center; vertical-align: top\">0</td>\n",
       "        <td style=\"padding-left: 1em; padding-right: 1em; text-align: center; vertical-align: top\">0</td>\n",
       "    </tr>\n",
       "    <tr>\n",
       "        <td style=\"padding-left: 1em; padding-right: 1em; text-align: center; vertical-align: top\">Baby Tracker&amp;reg; - Daily<br>Childcare Journal, ...</td>\n",
       "        <td style=\"padding-left: 1em; padding-right: 1em; text-align: center; vertical-align: top\">Perfect for new parents.<br>We were able to keep ...</td>\n",
       "        <td style=\"padding-left: 1em; padding-right: 1em; text-align: center; vertical-align: top\">5.0</td>\n",
       "        <td style=\"padding-left: 1em; padding-right: 1em; text-align: center; vertical-align: top\">{'feeding,': 1L, 'and':<br>2L, 'all': 1L, 'right': ...</td>\n",
       "        <td style=\"padding-left: 1em; padding-right: 1em; text-align: center; vertical-align: top\">0</td>\n",
       "        <td style=\"padding-left: 1em; padding-right: 1em; text-align: center; vertical-align: top\">0</td>\n",
       "        <td style=\"padding-left: 1em; padding-right: 1em; text-align: center; vertical-align: top\">0</td>\n",
       "    </tr>\n",
       "    <tr>\n",
       "        <td style=\"padding-left: 1em; padding-right: 1em; text-align: center; vertical-align: top\">Baby Tracker&amp;reg; - Daily<br>Childcare Journal, ...</td>\n",
       "        <td style=\"padding-left: 1em; padding-right: 1em; text-align: center; vertical-align: top\">A friend of mine pinned<br>this product on Pinte ...</td>\n",
       "        <td style=\"padding-left: 1em; padding-right: 1em; text-align: center; vertical-align: top\">5.0</td>\n",
       "        <td style=\"padding-left: 1em; padding-right: 1em; text-align: center; vertical-align: top\">{'and': 1L, 'help': 1L,<br>'give': 1L, 'is': 1L, ...</td>\n",
       "        <td style=\"padding-left: 1em; padding-right: 1em; text-align: center; vertical-align: top\">0</td>\n",
       "        <td style=\"padding-left: 1em; padding-right: 1em; text-align: center; vertical-align: top\">0</td>\n",
       "        <td style=\"padding-left: 1em; padding-right: 1em; text-align: center; vertical-align: top\">0</td>\n",
       "    </tr>\n",
       "    <tr>\n",
       "        <td style=\"padding-left: 1em; padding-right: 1em; text-align: center; vertical-align: top\">Baby Tracker&amp;reg; - Daily<br>Childcare Journal, ...</td>\n",
       "        <td style=\"padding-left: 1em; padding-right: 1em; text-align: center; vertical-align: top\">This has been an easy way<br>for my nanny to record ...</td>\n",
       "        <td style=\"padding-left: 1em; padding-right: 1em; text-align: center; vertical-align: top\">4.0</td>\n",
       "        <td style=\"padding-left: 1em; padding-right: 1em; text-align: center; vertical-align: top\">{'journal.': 1L, 'all':<br>1L, 'standarad': 1L, ...</td>\n",
       "        <td style=\"padding-left: 1em; padding-right: 1em; text-align: center; vertical-align: top\">0</td>\n",
       "        <td style=\"padding-left: 1em; padding-right: 1em; text-align: center; vertical-align: top\">0</td>\n",
       "        <td style=\"padding-left: 1em; padding-right: 1em; text-align: center; vertical-align: top\">0</td>\n",
       "    </tr>\n",
       "</table>\n",
       "<table frame=\"box\" rules=\"cols\">\n",
       "    <tr>\n",
       "        <th style=\"padding-left: 1em; padding-right: 1em; text-align: center\">amazing</th>\n",
       "        <th style=\"padding-left: 1em; padding-right: 1em; text-align: center\">love</th>\n",
       "        <th style=\"padding-left: 1em; padding-right: 1em; text-align: center\">horrible</th>\n",
       "        <th style=\"padding-left: 1em; padding-right: 1em; text-align: center\">bad</th>\n",
       "        <th style=\"padding-left: 1em; padding-right: 1em; text-align: center\">terrible</th>\n",
       "        <th style=\"padding-left: 1em; padding-right: 1em; text-align: center\">awful</th>\n",
       "        <th style=\"padding-left: 1em; padding-right: 1em; text-align: center\">wow</th>\n",
       "        <th style=\"padding-left: 1em; padding-right: 1em; text-align: center\">hate</th>\n",
       "    </tr>\n",
       "    <tr>\n",
       "        <td style=\"padding-left: 1em; padding-right: 1em; text-align: center; vertical-align: top\">0</td>\n",
       "        <td style=\"padding-left: 1em; padding-right: 1em; text-align: center; vertical-align: top\">0</td>\n",
       "        <td style=\"padding-left: 1em; padding-right: 1em; text-align: center; vertical-align: top\">0</td>\n",
       "        <td style=\"padding-left: 1em; padding-right: 1em; text-align: center; vertical-align: top\">0</td>\n",
       "        <td style=\"padding-left: 1em; padding-right: 1em; text-align: center; vertical-align: top\">0</td>\n",
       "        <td style=\"padding-left: 1em; padding-right: 1em; text-align: center; vertical-align: top\">0</td>\n",
       "        <td style=\"padding-left: 1em; padding-right: 1em; text-align: center; vertical-align: top\">0</td>\n",
       "        <td style=\"padding-left: 1em; padding-right: 1em; text-align: center; vertical-align: top\">0</td>\n",
       "    </tr>\n",
       "    <tr>\n",
       "        <td style=\"padding-left: 1em; padding-right: 1em; text-align: center; vertical-align: top\">0</td>\n",
       "        <td style=\"padding-left: 1em; padding-right: 1em; text-align: center; vertical-align: top\">1</td>\n",
       "        <td style=\"padding-left: 1em; padding-right: 1em; text-align: center; vertical-align: top\">0</td>\n",
       "        <td style=\"padding-left: 1em; padding-right: 1em; text-align: center; vertical-align: top\">0</td>\n",
       "        <td style=\"padding-left: 1em; padding-right: 1em; text-align: center; vertical-align: top\">0</td>\n",
       "        <td style=\"padding-left: 1em; padding-right: 1em; text-align: center; vertical-align: top\">0</td>\n",
       "        <td style=\"padding-left: 1em; padding-right: 1em; text-align: center; vertical-align: top\">0</td>\n",
       "        <td style=\"padding-left: 1em; padding-right: 1em; text-align: center; vertical-align: top\">0</td>\n",
       "    </tr>\n",
       "    <tr>\n",
       "        <td style=\"padding-left: 1em; padding-right: 1em; text-align: center; vertical-align: top\">0</td>\n",
       "        <td style=\"padding-left: 1em; padding-right: 1em; text-align: center; vertical-align: top\">0</td>\n",
       "        <td style=\"padding-left: 1em; padding-right: 1em; text-align: center; vertical-align: top\">0</td>\n",
       "        <td style=\"padding-left: 1em; padding-right: 1em; text-align: center; vertical-align: top\">0</td>\n",
       "        <td style=\"padding-left: 1em; padding-right: 1em; text-align: center; vertical-align: top\">0</td>\n",
       "        <td style=\"padding-left: 1em; padding-right: 1em; text-align: center; vertical-align: top\">0</td>\n",
       "        <td style=\"padding-left: 1em; padding-right: 1em; text-align: center; vertical-align: top\">0</td>\n",
       "        <td style=\"padding-left: 1em; padding-right: 1em; text-align: center; vertical-align: top\">0</td>\n",
       "    </tr>\n",
       "    <tr>\n",
       "        <td style=\"padding-left: 1em; padding-right: 1em; text-align: center; vertical-align: top\">0</td>\n",
       "        <td style=\"padding-left: 1em; padding-right: 1em; text-align: center; vertical-align: top\">2</td>\n",
       "        <td style=\"padding-left: 1em; padding-right: 1em; text-align: center; vertical-align: top\">0</td>\n",
       "        <td style=\"padding-left: 1em; padding-right: 1em; text-align: center; vertical-align: top\">0</td>\n",
       "        <td style=\"padding-left: 1em; padding-right: 1em; text-align: center; vertical-align: top\">0</td>\n",
       "        <td style=\"padding-left: 1em; padding-right: 1em; text-align: center; vertical-align: top\">0</td>\n",
       "        <td style=\"padding-left: 1em; padding-right: 1em; text-align: center; vertical-align: top\">0</td>\n",
       "        <td style=\"padding-left: 1em; padding-right: 1em; text-align: center; vertical-align: top\">0</td>\n",
       "    </tr>\n",
       "    <tr>\n",
       "        <td style=\"padding-left: 1em; padding-right: 1em; text-align: center; vertical-align: top\">0</td>\n",
       "        <td style=\"padding-left: 1em; padding-right: 1em; text-align: center; vertical-align: top\">0</td>\n",
       "        <td style=\"padding-left: 1em; padding-right: 1em; text-align: center; vertical-align: top\">0</td>\n",
       "        <td style=\"padding-left: 1em; padding-right: 1em; text-align: center; vertical-align: top\">0</td>\n",
       "        <td style=\"padding-left: 1em; padding-right: 1em; text-align: center; vertical-align: top\">0</td>\n",
       "        <td style=\"padding-left: 1em; padding-right: 1em; text-align: center; vertical-align: top\">0</td>\n",
       "        <td style=\"padding-left: 1em; padding-right: 1em; text-align: center; vertical-align: top\">0</td>\n",
       "        <td style=\"padding-left: 1em; padding-right: 1em; text-align: center; vertical-align: top\">0</td>\n",
       "    </tr>\n",
       "    <tr>\n",
       "        <td style=\"padding-left: 1em; padding-right: 1em; text-align: center; vertical-align: top\">0</td>\n",
       "        <td style=\"padding-left: 1em; padding-right: 1em; text-align: center; vertical-align: top\">0</td>\n",
       "        <td style=\"padding-left: 1em; padding-right: 1em; text-align: center; vertical-align: top\">0</td>\n",
       "        <td style=\"padding-left: 1em; padding-right: 1em; text-align: center; vertical-align: top\">0</td>\n",
       "        <td style=\"padding-left: 1em; padding-right: 1em; text-align: center; vertical-align: top\">0</td>\n",
       "        <td style=\"padding-left: 1em; padding-right: 1em; text-align: center; vertical-align: top\">0</td>\n",
       "        <td style=\"padding-left: 1em; padding-right: 1em; text-align: center; vertical-align: top\">0</td>\n",
       "        <td style=\"padding-left: 1em; padding-right: 1em; text-align: center; vertical-align: top\">0</td>\n",
       "    </tr>\n",
       "    <tr>\n",
       "        <td style=\"padding-left: 1em; padding-right: 1em; text-align: center; vertical-align: top\">0</td>\n",
       "        <td style=\"padding-left: 1em; padding-right: 1em; text-align: center; vertical-align: top\">0</td>\n",
       "        <td style=\"padding-left: 1em; padding-right: 1em; text-align: center; vertical-align: top\">0</td>\n",
       "        <td style=\"padding-left: 1em; padding-right: 1em; text-align: center; vertical-align: top\">0</td>\n",
       "        <td style=\"padding-left: 1em; padding-right: 1em; text-align: center; vertical-align: top\">0</td>\n",
       "        <td style=\"padding-left: 1em; padding-right: 1em; text-align: center; vertical-align: top\">0</td>\n",
       "        <td style=\"padding-left: 1em; padding-right: 1em; text-align: center; vertical-align: top\">0</td>\n",
       "        <td style=\"padding-left: 1em; padding-right: 1em; text-align: center; vertical-align: top\">0</td>\n",
       "    </tr>\n",
       "    <tr>\n",
       "        <td style=\"padding-left: 1em; padding-right: 1em; text-align: center; vertical-align: top\">0</td>\n",
       "        <td style=\"padding-left: 1em; padding-right: 1em; text-align: center; vertical-align: top\">0</td>\n",
       "        <td style=\"padding-left: 1em; padding-right: 1em; text-align: center; vertical-align: top\">0</td>\n",
       "        <td style=\"padding-left: 1em; padding-right: 1em; text-align: center; vertical-align: top\">0</td>\n",
       "        <td style=\"padding-left: 1em; padding-right: 1em; text-align: center; vertical-align: top\">0</td>\n",
       "        <td style=\"padding-left: 1em; padding-right: 1em; text-align: center; vertical-align: top\">0</td>\n",
       "        <td style=\"padding-left: 1em; padding-right: 1em; text-align: center; vertical-align: top\">0</td>\n",
       "        <td style=\"padding-left: 1em; padding-right: 1em; text-align: center; vertical-align: top\">0</td>\n",
       "    </tr>\n",
       "    <tr>\n",
       "        <td style=\"padding-left: 1em; padding-right: 1em; text-align: center; vertical-align: top\">0</td>\n",
       "        <td style=\"padding-left: 1em; padding-right: 1em; text-align: center; vertical-align: top\">0</td>\n",
       "        <td style=\"padding-left: 1em; padding-right: 1em; text-align: center; vertical-align: top\">0</td>\n",
       "        <td style=\"padding-left: 1em; padding-right: 1em; text-align: center; vertical-align: top\">0</td>\n",
       "        <td style=\"padding-left: 1em; padding-right: 1em; text-align: center; vertical-align: top\">0</td>\n",
       "        <td style=\"padding-left: 1em; padding-right: 1em; text-align: center; vertical-align: top\">0</td>\n",
       "        <td style=\"padding-left: 1em; padding-right: 1em; text-align: center; vertical-align: top\">0</td>\n",
       "        <td style=\"padding-left: 1em; padding-right: 1em; text-align: center; vertical-align: top\">0</td>\n",
       "    </tr>\n",
       "    <tr>\n",
       "        <td style=\"padding-left: 1em; padding-right: 1em; text-align: center; vertical-align: top\">0</td>\n",
       "        <td style=\"padding-left: 1em; padding-right: 1em; text-align: center; vertical-align: top\">0</td>\n",
       "        <td style=\"padding-left: 1em; padding-right: 1em; text-align: center; vertical-align: top\">0</td>\n",
       "        <td style=\"padding-left: 1em; padding-right: 1em; text-align: center; vertical-align: top\">0</td>\n",
       "        <td style=\"padding-left: 1em; padding-right: 1em; text-align: center; vertical-align: top\">0</td>\n",
       "        <td style=\"padding-left: 1em; padding-right: 1em; text-align: center; vertical-align: top\">0</td>\n",
       "        <td style=\"padding-left: 1em; padding-right: 1em; text-align: center; vertical-align: top\">0</td>\n",
       "        <td style=\"padding-left: 1em; padding-right: 1em; text-align: center; vertical-align: top\">0</td>\n",
       "    </tr>\n",
       "</table>\n",
       "[183531 rows x 15 columns]<br/>Note: Only the head of the SFrame is printed.<br/>You can use print_rows(num_rows=m, num_columns=n) to print more rows and columns.\n",
       "</div>"
      ],
      "text/plain": [
       "Columns:\n",
       "\tname\tstr\n",
       "\treview\tstr\n",
       "\trating\tfloat\n",
       "\tword_count\tdict\n",
       "\tawesome\tint\n",
       "\tgreat\tint\n",
       "\tfantastic\tint\n",
       "\tamazing\tint\n",
       "\tlove\tint\n",
       "\thorrible\tint\n",
       "\tbad\tint\n",
       "\tterrible\tint\n",
       "\tawful\tint\n",
       "\twow\tint\n",
       "\thate\tint\n",
       "\n",
       "Rows: 183531\n",
       "\n",
       "Data:\n",
       "+-------------------------------+-------------------------------+--------+\n",
       "|              name             |             review            | rating |\n",
       "+-------------------------------+-------------------------------+--------+\n",
       "|    Planetwise Flannel Wipes   | These flannel wipes are OK... |  3.0   |\n",
       "|     Planetwise Wipe Pouch     | it came early and was not ... |  5.0   |\n",
       "| Annas Dream Full Quilt wit... | Very soft and comfortable ... |  5.0   |\n",
       "| Stop Pacifier Sucking with... | This is a product well wor... |  5.0   |\n",
       "| Stop Pacifier Sucking with... | All of my kids have cried ... |  5.0   |\n",
       "| Stop Pacifier Sucking with... | When the Binky Fairy came ... |  5.0   |\n",
       "| A Tale of Baby's Days with... | Lovely book, it's bound ti... |  4.0   |\n",
       "| Baby Tracker&reg; - Daily ... | Perfect for new parents. W... |  5.0   |\n",
       "| Baby Tracker&reg; - Daily ... | A friend of mine pinned th... |  5.0   |\n",
       "| Baby Tracker&reg; - Daily ... | This has been an easy way ... |  4.0   |\n",
       "+-------------------------------+-------------------------------+--------+\n",
       "+-------------------------------+---------+-------+-----------+---------+------+\n",
       "|           word_count          | awesome | great | fantastic | amazing | love |\n",
       "+-------------------------------+---------+-------+-----------+---------+------+\n",
       "| {'and': 5L, 'stink': 1L, '... |    0    |   0   |     0     |    0    |  0   |\n",
       "| {'and': 3L, 'love': 1L, 'i... |    0    |   0   |     0     |    0    |  1   |\n",
       "| {'and': 2L, 'quilt': 1L, '... |    0    |   0   |     0     |    0    |  0   |\n",
       "| {'ingenious': 1L, 'and': 3... |    0    |   0   |     0     |    0    |  2   |\n",
       "| {'and': 2L, 'parents!!': 1... |    0    |   1   |     0     |    0    |  0   |\n",
       "| {'and': 2L, 'cute': 1L, 'h... |    0    |   1   |     0     |    0    |  0   |\n",
       "| {'shop': 1L, 'be': 1L, 'is... |    0    |   0   |     0     |    0    |  0   |\n",
       "| {'feeding,': 1L, 'and': 2L... |    0    |   0   |     0     |    0    |  0   |\n",
       "| {'and': 1L, 'help': 1L, 'g... |    0    |   0   |     0     |    0    |  0   |\n",
       "| {'journal.': 1L, 'all': 1L... |    0    |   0   |     0     |    0    |  0   |\n",
       "+-------------------------------+---------+-------+-----------+---------+------+\n",
       "+----------+-----+----------+-------+-----+------+\n",
       "| horrible | bad | terrible | awful | wow | hate |\n",
       "+----------+-----+----------+-------+-----+------+\n",
       "|    0     |  0  |    0     |   0   |  0  |  0   |\n",
       "|    0     |  0  |    0     |   0   |  0  |  0   |\n",
       "|    0     |  0  |    0     |   0   |  0  |  0   |\n",
       "|    0     |  0  |    0     |   0   |  0  |  0   |\n",
       "|    0     |  0  |    0     |   0   |  0  |  0   |\n",
       "|    0     |  0  |    0     |   0   |  0  |  0   |\n",
       "|    0     |  0  |    0     |   0   |  0  |  0   |\n",
       "|    0     |  0  |    0     |   0   |  0  |  0   |\n",
       "|    0     |  0  |    0     |   0   |  0  |  0   |\n",
       "|    0     |  0  |    0     |   0   |  0  |  0   |\n",
       "+----------+-----+----------+-------+-----+------+\n",
       "[183531 rows x 15 columns]\n",
       "Note: Only the head of the SFrame is printed.\n",
       "You can use print_rows(num_rows=m, num_columns=n) to print more rows and columns."
      ]
     },
     "execution_count": 34,
     "metadata": {},
     "output_type": "execute_result"
    }
   ],
   "source": [
    "products"
   ]
  },
  {
   "cell_type": "code",
   "execution_count": 35,
   "metadata": {
    "collapsed": false
   },
   "outputs": [
    {
     "data": {
      "text/plain": [
       "2090L"
      ]
     },
     "execution_count": 35,
     "metadata": {},
     "output_type": "execute_result"
    }
   ],
   "source": [
    "products['awesome'].sum()"
   ]
  },
  {
   "cell_type": "code",
   "execution_count": 87,
   "metadata": {
    "collapsed": true
   },
   "outputs": [],
   "source": [
    "products['sentiment'] = products['rating'] >=4"
   ]
  },
  {
   "cell_type": "code",
   "execution_count": 88,
   "metadata": {
    "collapsed": false
   },
   "outputs": [
    {
     "data": {
      "text/html": [
       "<div style=\"max-height:1000px;max-width:1500px;overflow:auto;\"><table frame=\"box\" rules=\"cols\">\n",
       "    <tr>\n",
       "        <th style=\"padding-left: 1em; padding-right: 1em; text-align: center\">name</th>\n",
       "        <th style=\"padding-left: 1em; padding-right: 1em; text-align: center\">review</th>\n",
       "        <th style=\"padding-left: 1em; padding-right: 1em; text-align: center\">rating</th>\n",
       "        <th style=\"padding-left: 1em; padding-right: 1em; text-align: center\">word_count</th>\n",
       "        <th style=\"padding-left: 1em; padding-right: 1em; text-align: center\">awesome</th>\n",
       "        <th style=\"padding-left: 1em; padding-right: 1em; text-align: center\">great</th>\n",
       "        <th style=\"padding-left: 1em; padding-right: 1em; text-align: center\">fantastic</th>\n",
       "    </tr>\n",
       "    <tr>\n",
       "        <td style=\"padding-left: 1em; padding-right: 1em; text-align: center; vertical-align: top\">Planetwise Flannel Wipes</td>\n",
       "        <td style=\"padding-left: 1em; padding-right: 1em; text-align: center; vertical-align: top\">These flannel wipes are<br>OK, but in my opinion ...</td>\n",
       "        <td style=\"padding-left: 1em; padding-right: 1em; text-align: center; vertical-align: top\">3.0</td>\n",
       "        <td style=\"padding-left: 1em; padding-right: 1em; text-align: center; vertical-align: top\">{'and': 5L, 'stink': 1L,<br>'because': 1L, 'order ...</td>\n",
       "        <td style=\"padding-left: 1em; padding-right: 1em; text-align: center; vertical-align: top\">0</td>\n",
       "        <td style=\"padding-left: 1em; padding-right: 1em; text-align: center; vertical-align: top\">0</td>\n",
       "        <td style=\"padding-left: 1em; padding-right: 1em; text-align: center; vertical-align: top\">0</td>\n",
       "    </tr>\n",
       "    <tr>\n",
       "        <td style=\"padding-left: 1em; padding-right: 1em; text-align: center; vertical-align: top\">Planetwise Wipe Pouch</td>\n",
       "        <td style=\"padding-left: 1em; padding-right: 1em; text-align: center; vertical-align: top\">it came early and was not<br>disappointed. i love ...</td>\n",
       "        <td style=\"padding-left: 1em; padding-right: 1em; text-align: center; vertical-align: top\">5.0</td>\n",
       "        <td style=\"padding-left: 1em; padding-right: 1em; text-align: center; vertical-align: top\">{'and': 3L, 'love': 1L,<br>'it': 2L, 'highly': 1L, ...</td>\n",
       "        <td style=\"padding-left: 1em; padding-right: 1em; text-align: center; vertical-align: top\">0</td>\n",
       "        <td style=\"padding-left: 1em; padding-right: 1em; text-align: center; vertical-align: top\">0</td>\n",
       "        <td style=\"padding-left: 1em; padding-right: 1em; text-align: center; vertical-align: top\">0</td>\n",
       "    </tr>\n",
       "    <tr>\n",
       "        <td style=\"padding-left: 1em; padding-right: 1em; text-align: center; vertical-align: top\">Annas Dream Full Quilt<br>with 2 Shams ...</td>\n",
       "        <td style=\"padding-left: 1em; padding-right: 1em; text-align: center; vertical-align: top\">Very soft and comfortable<br>and warmer than it ...</td>\n",
       "        <td style=\"padding-left: 1em; padding-right: 1em; text-align: center; vertical-align: top\">5.0</td>\n",
       "        <td style=\"padding-left: 1em; padding-right: 1em; text-align: center; vertical-align: top\">{'and': 2L, 'quilt': 1L,<br>'it': 1L, 'comfortable': ...</td>\n",
       "        <td style=\"padding-left: 1em; padding-right: 1em; text-align: center; vertical-align: top\">0</td>\n",
       "        <td style=\"padding-left: 1em; padding-right: 1em; text-align: center; vertical-align: top\">0</td>\n",
       "        <td style=\"padding-left: 1em; padding-right: 1em; text-align: center; vertical-align: top\">0</td>\n",
       "    </tr>\n",
       "    <tr>\n",
       "        <td style=\"padding-left: 1em; padding-right: 1em; text-align: center; vertical-align: top\">Stop Pacifier Sucking<br>without tears with ...</td>\n",
       "        <td style=\"padding-left: 1em; padding-right: 1em; text-align: center; vertical-align: top\">This is a product well<br>worth the purchase.  I ...</td>\n",
       "        <td style=\"padding-left: 1em; padding-right: 1em; text-align: center; vertical-align: top\">5.0</td>\n",
       "        <td style=\"padding-left: 1em; padding-right: 1em; text-align: center; vertical-align: top\">{'ingenious': 1L, 'and':<br>3L, 'love': 2L, ...</td>\n",
       "        <td style=\"padding-left: 1em; padding-right: 1em; text-align: center; vertical-align: top\">0</td>\n",
       "        <td style=\"padding-left: 1em; padding-right: 1em; text-align: center; vertical-align: top\">0</td>\n",
       "        <td style=\"padding-left: 1em; padding-right: 1em; text-align: center; vertical-align: top\">0</td>\n",
       "    </tr>\n",
       "    <tr>\n",
       "        <td style=\"padding-left: 1em; padding-right: 1em; text-align: center; vertical-align: top\">Stop Pacifier Sucking<br>without tears with ...</td>\n",
       "        <td style=\"padding-left: 1em; padding-right: 1em; text-align: center; vertical-align: top\">All of my kids have cried<br>non-stop when I tried to ...</td>\n",
       "        <td style=\"padding-left: 1em; padding-right: 1em; text-align: center; vertical-align: top\">5.0</td>\n",
       "        <td style=\"padding-left: 1em; padding-right: 1em; text-align: center; vertical-align: top\">{'and': 2L, 'parents!!':<br>1L, 'all': 2L, 'puppe ...</td>\n",
       "        <td style=\"padding-left: 1em; padding-right: 1em; text-align: center; vertical-align: top\">0</td>\n",
       "        <td style=\"padding-left: 1em; padding-right: 1em; text-align: center; vertical-align: top\">1</td>\n",
       "        <td style=\"padding-left: 1em; padding-right: 1em; text-align: center; vertical-align: top\">0</td>\n",
       "    </tr>\n",
       "    <tr>\n",
       "        <td style=\"padding-left: 1em; padding-right: 1em; text-align: center; vertical-align: top\">Stop Pacifier Sucking<br>without tears with ...</td>\n",
       "        <td style=\"padding-left: 1em; padding-right: 1em; text-align: center; vertical-align: top\">When the Binky Fairy came<br>to our house, we didn't ...</td>\n",
       "        <td style=\"padding-left: 1em; padding-right: 1em; text-align: center; vertical-align: top\">5.0</td>\n",
       "        <td style=\"padding-left: 1em; padding-right: 1em; text-align: center; vertical-align: top\">{'and': 2L, 'cute': 1L,<br>'help': 2L, 'doll': 1L, ...</td>\n",
       "        <td style=\"padding-left: 1em; padding-right: 1em; text-align: center; vertical-align: top\">0</td>\n",
       "        <td style=\"padding-left: 1em; padding-right: 1em; text-align: center; vertical-align: top\">1</td>\n",
       "        <td style=\"padding-left: 1em; padding-right: 1em; text-align: center; vertical-align: top\">0</td>\n",
       "    </tr>\n",
       "    <tr>\n",
       "        <td style=\"padding-left: 1em; padding-right: 1em; text-align: center; vertical-align: top\">A Tale of Baby's Days<br>with Peter Rabbit ...</td>\n",
       "        <td style=\"padding-left: 1em; padding-right: 1em; text-align: center; vertical-align: top\">Lovely book, it's bound<br>tightly so you may no ...</td>\n",
       "        <td style=\"padding-left: 1em; padding-right: 1em; text-align: center; vertical-align: top\">4.0</td>\n",
       "        <td style=\"padding-left: 1em; padding-right: 1em; text-align: center; vertical-align: top\">{'shop': 1L, 'be': 1L,<br>'is': 1L, 'it': 1L, ' ...</td>\n",
       "        <td style=\"padding-left: 1em; padding-right: 1em; text-align: center; vertical-align: top\">0</td>\n",
       "        <td style=\"padding-left: 1em; padding-right: 1em; text-align: center; vertical-align: top\">0</td>\n",
       "        <td style=\"padding-left: 1em; padding-right: 1em; text-align: center; vertical-align: top\">0</td>\n",
       "    </tr>\n",
       "    <tr>\n",
       "        <td style=\"padding-left: 1em; padding-right: 1em; text-align: center; vertical-align: top\">Baby Tracker&amp;reg; - Daily<br>Childcare Journal, ...</td>\n",
       "        <td style=\"padding-left: 1em; padding-right: 1em; text-align: center; vertical-align: top\">Perfect for new parents.<br>We were able to keep ...</td>\n",
       "        <td style=\"padding-left: 1em; padding-right: 1em; text-align: center; vertical-align: top\">5.0</td>\n",
       "        <td style=\"padding-left: 1em; padding-right: 1em; text-align: center; vertical-align: top\">{'feeding,': 1L, 'and':<br>2L, 'all': 1L, 'right': ...</td>\n",
       "        <td style=\"padding-left: 1em; padding-right: 1em; text-align: center; vertical-align: top\">0</td>\n",
       "        <td style=\"padding-left: 1em; padding-right: 1em; text-align: center; vertical-align: top\">0</td>\n",
       "        <td style=\"padding-left: 1em; padding-right: 1em; text-align: center; vertical-align: top\">0</td>\n",
       "    </tr>\n",
       "    <tr>\n",
       "        <td style=\"padding-left: 1em; padding-right: 1em; text-align: center; vertical-align: top\">Baby Tracker&amp;reg; - Daily<br>Childcare Journal, ...</td>\n",
       "        <td style=\"padding-left: 1em; padding-right: 1em; text-align: center; vertical-align: top\">A friend of mine pinned<br>this product on Pinte ...</td>\n",
       "        <td style=\"padding-left: 1em; padding-right: 1em; text-align: center; vertical-align: top\">5.0</td>\n",
       "        <td style=\"padding-left: 1em; padding-right: 1em; text-align: center; vertical-align: top\">{'and': 1L, 'help': 1L,<br>'give': 1L, 'is': 1L, ...</td>\n",
       "        <td style=\"padding-left: 1em; padding-right: 1em; text-align: center; vertical-align: top\">0</td>\n",
       "        <td style=\"padding-left: 1em; padding-right: 1em; text-align: center; vertical-align: top\">0</td>\n",
       "        <td style=\"padding-left: 1em; padding-right: 1em; text-align: center; vertical-align: top\">0</td>\n",
       "    </tr>\n",
       "    <tr>\n",
       "        <td style=\"padding-left: 1em; padding-right: 1em; text-align: center; vertical-align: top\">Baby Tracker&amp;reg; - Daily<br>Childcare Journal, ...</td>\n",
       "        <td style=\"padding-left: 1em; padding-right: 1em; text-align: center; vertical-align: top\">This has been an easy way<br>for my nanny to record ...</td>\n",
       "        <td style=\"padding-left: 1em; padding-right: 1em; text-align: center; vertical-align: top\">4.0</td>\n",
       "        <td style=\"padding-left: 1em; padding-right: 1em; text-align: center; vertical-align: top\">{'journal.': 1L, 'all':<br>1L, 'standarad': 1L, ...</td>\n",
       "        <td style=\"padding-left: 1em; padding-right: 1em; text-align: center; vertical-align: top\">0</td>\n",
       "        <td style=\"padding-left: 1em; padding-right: 1em; text-align: center; vertical-align: top\">0</td>\n",
       "        <td style=\"padding-left: 1em; padding-right: 1em; text-align: center; vertical-align: top\">0</td>\n",
       "    </tr>\n",
       "</table>\n",
       "<table frame=\"box\" rules=\"cols\">\n",
       "    <tr>\n",
       "        <th style=\"padding-left: 1em; padding-right: 1em; text-align: center\">amazing</th>\n",
       "        <th style=\"padding-left: 1em; padding-right: 1em; text-align: center\">love</th>\n",
       "        <th style=\"padding-left: 1em; padding-right: 1em; text-align: center\">horrible</th>\n",
       "        <th style=\"padding-left: 1em; padding-right: 1em; text-align: center\">bad</th>\n",
       "        <th style=\"padding-left: 1em; padding-right: 1em; text-align: center\">terrible</th>\n",
       "        <th style=\"padding-left: 1em; padding-right: 1em; text-align: center\">awful</th>\n",
       "        <th style=\"padding-left: 1em; padding-right: 1em; text-align: center\">wow</th>\n",
       "        <th style=\"padding-left: 1em; padding-right: 1em; text-align: center\">hate</th>\n",
       "        <th style=\"padding-left: 1em; padding-right: 1em; text-align: center\">sentiment</th>\n",
       "    </tr>\n",
       "    <tr>\n",
       "        <td style=\"padding-left: 1em; padding-right: 1em; text-align: center; vertical-align: top\">0</td>\n",
       "        <td style=\"padding-left: 1em; padding-right: 1em; text-align: center; vertical-align: top\">0</td>\n",
       "        <td style=\"padding-left: 1em; padding-right: 1em; text-align: center; vertical-align: top\">0</td>\n",
       "        <td style=\"padding-left: 1em; padding-right: 1em; text-align: center; vertical-align: top\">0</td>\n",
       "        <td style=\"padding-left: 1em; padding-right: 1em; text-align: center; vertical-align: top\">0</td>\n",
       "        <td style=\"padding-left: 1em; padding-right: 1em; text-align: center; vertical-align: top\">0</td>\n",
       "        <td style=\"padding-left: 1em; padding-right: 1em; text-align: center; vertical-align: top\">0</td>\n",
       "        <td style=\"padding-left: 1em; padding-right: 1em; text-align: center; vertical-align: top\">0</td>\n",
       "        <td style=\"padding-left: 1em; padding-right: 1em; text-align: center; vertical-align: top\">0</td>\n",
       "    </tr>\n",
       "    <tr>\n",
       "        <td style=\"padding-left: 1em; padding-right: 1em; text-align: center; vertical-align: top\">0</td>\n",
       "        <td style=\"padding-left: 1em; padding-right: 1em; text-align: center; vertical-align: top\">1</td>\n",
       "        <td style=\"padding-left: 1em; padding-right: 1em; text-align: center; vertical-align: top\">0</td>\n",
       "        <td style=\"padding-left: 1em; padding-right: 1em; text-align: center; vertical-align: top\">0</td>\n",
       "        <td style=\"padding-left: 1em; padding-right: 1em; text-align: center; vertical-align: top\">0</td>\n",
       "        <td style=\"padding-left: 1em; padding-right: 1em; text-align: center; vertical-align: top\">0</td>\n",
       "        <td style=\"padding-left: 1em; padding-right: 1em; text-align: center; vertical-align: top\">0</td>\n",
       "        <td style=\"padding-left: 1em; padding-right: 1em; text-align: center; vertical-align: top\">0</td>\n",
       "        <td style=\"padding-left: 1em; padding-right: 1em; text-align: center; vertical-align: top\">1</td>\n",
       "    </tr>\n",
       "    <tr>\n",
       "        <td style=\"padding-left: 1em; padding-right: 1em; text-align: center; vertical-align: top\">0</td>\n",
       "        <td style=\"padding-left: 1em; padding-right: 1em; text-align: center; vertical-align: top\">0</td>\n",
       "        <td style=\"padding-left: 1em; padding-right: 1em; text-align: center; vertical-align: top\">0</td>\n",
       "        <td style=\"padding-left: 1em; padding-right: 1em; text-align: center; vertical-align: top\">0</td>\n",
       "        <td style=\"padding-left: 1em; padding-right: 1em; text-align: center; vertical-align: top\">0</td>\n",
       "        <td style=\"padding-left: 1em; padding-right: 1em; text-align: center; vertical-align: top\">0</td>\n",
       "        <td style=\"padding-left: 1em; padding-right: 1em; text-align: center; vertical-align: top\">0</td>\n",
       "        <td style=\"padding-left: 1em; padding-right: 1em; text-align: center; vertical-align: top\">0</td>\n",
       "        <td style=\"padding-left: 1em; padding-right: 1em; text-align: center; vertical-align: top\">1</td>\n",
       "    </tr>\n",
       "    <tr>\n",
       "        <td style=\"padding-left: 1em; padding-right: 1em; text-align: center; vertical-align: top\">0</td>\n",
       "        <td style=\"padding-left: 1em; padding-right: 1em; text-align: center; vertical-align: top\">2</td>\n",
       "        <td style=\"padding-left: 1em; padding-right: 1em; text-align: center; vertical-align: top\">0</td>\n",
       "        <td style=\"padding-left: 1em; padding-right: 1em; text-align: center; vertical-align: top\">0</td>\n",
       "        <td style=\"padding-left: 1em; padding-right: 1em; text-align: center; vertical-align: top\">0</td>\n",
       "        <td style=\"padding-left: 1em; padding-right: 1em; text-align: center; vertical-align: top\">0</td>\n",
       "        <td style=\"padding-left: 1em; padding-right: 1em; text-align: center; vertical-align: top\">0</td>\n",
       "        <td style=\"padding-left: 1em; padding-right: 1em; text-align: center; vertical-align: top\">0</td>\n",
       "        <td style=\"padding-left: 1em; padding-right: 1em; text-align: center; vertical-align: top\">1</td>\n",
       "    </tr>\n",
       "    <tr>\n",
       "        <td style=\"padding-left: 1em; padding-right: 1em; text-align: center; vertical-align: top\">0</td>\n",
       "        <td style=\"padding-left: 1em; padding-right: 1em; text-align: center; vertical-align: top\">0</td>\n",
       "        <td style=\"padding-left: 1em; padding-right: 1em; text-align: center; vertical-align: top\">0</td>\n",
       "        <td style=\"padding-left: 1em; padding-right: 1em; text-align: center; vertical-align: top\">0</td>\n",
       "        <td style=\"padding-left: 1em; padding-right: 1em; text-align: center; vertical-align: top\">0</td>\n",
       "        <td style=\"padding-left: 1em; padding-right: 1em; text-align: center; vertical-align: top\">0</td>\n",
       "        <td style=\"padding-left: 1em; padding-right: 1em; text-align: center; vertical-align: top\">0</td>\n",
       "        <td style=\"padding-left: 1em; padding-right: 1em; text-align: center; vertical-align: top\">0</td>\n",
       "        <td style=\"padding-left: 1em; padding-right: 1em; text-align: center; vertical-align: top\">1</td>\n",
       "    </tr>\n",
       "    <tr>\n",
       "        <td style=\"padding-left: 1em; padding-right: 1em; text-align: center; vertical-align: top\">0</td>\n",
       "        <td style=\"padding-left: 1em; padding-right: 1em; text-align: center; vertical-align: top\">0</td>\n",
       "        <td style=\"padding-left: 1em; padding-right: 1em; text-align: center; vertical-align: top\">0</td>\n",
       "        <td style=\"padding-left: 1em; padding-right: 1em; text-align: center; vertical-align: top\">0</td>\n",
       "        <td style=\"padding-left: 1em; padding-right: 1em; text-align: center; vertical-align: top\">0</td>\n",
       "        <td style=\"padding-left: 1em; padding-right: 1em; text-align: center; vertical-align: top\">0</td>\n",
       "        <td style=\"padding-left: 1em; padding-right: 1em; text-align: center; vertical-align: top\">0</td>\n",
       "        <td style=\"padding-left: 1em; padding-right: 1em; text-align: center; vertical-align: top\">0</td>\n",
       "        <td style=\"padding-left: 1em; padding-right: 1em; text-align: center; vertical-align: top\">1</td>\n",
       "    </tr>\n",
       "    <tr>\n",
       "        <td style=\"padding-left: 1em; padding-right: 1em; text-align: center; vertical-align: top\">0</td>\n",
       "        <td style=\"padding-left: 1em; padding-right: 1em; text-align: center; vertical-align: top\">0</td>\n",
       "        <td style=\"padding-left: 1em; padding-right: 1em; text-align: center; vertical-align: top\">0</td>\n",
       "        <td style=\"padding-left: 1em; padding-right: 1em; text-align: center; vertical-align: top\">0</td>\n",
       "        <td style=\"padding-left: 1em; padding-right: 1em; text-align: center; vertical-align: top\">0</td>\n",
       "        <td style=\"padding-left: 1em; padding-right: 1em; text-align: center; vertical-align: top\">0</td>\n",
       "        <td style=\"padding-left: 1em; padding-right: 1em; text-align: center; vertical-align: top\">0</td>\n",
       "        <td style=\"padding-left: 1em; padding-right: 1em; text-align: center; vertical-align: top\">0</td>\n",
       "        <td style=\"padding-left: 1em; padding-right: 1em; text-align: center; vertical-align: top\">1</td>\n",
       "    </tr>\n",
       "    <tr>\n",
       "        <td style=\"padding-left: 1em; padding-right: 1em; text-align: center; vertical-align: top\">0</td>\n",
       "        <td style=\"padding-left: 1em; padding-right: 1em; text-align: center; vertical-align: top\">0</td>\n",
       "        <td style=\"padding-left: 1em; padding-right: 1em; text-align: center; vertical-align: top\">0</td>\n",
       "        <td style=\"padding-left: 1em; padding-right: 1em; text-align: center; vertical-align: top\">0</td>\n",
       "        <td style=\"padding-left: 1em; padding-right: 1em; text-align: center; vertical-align: top\">0</td>\n",
       "        <td style=\"padding-left: 1em; padding-right: 1em; text-align: center; vertical-align: top\">0</td>\n",
       "        <td style=\"padding-left: 1em; padding-right: 1em; text-align: center; vertical-align: top\">0</td>\n",
       "        <td style=\"padding-left: 1em; padding-right: 1em; text-align: center; vertical-align: top\">0</td>\n",
       "        <td style=\"padding-left: 1em; padding-right: 1em; text-align: center; vertical-align: top\">1</td>\n",
       "    </tr>\n",
       "    <tr>\n",
       "        <td style=\"padding-left: 1em; padding-right: 1em; text-align: center; vertical-align: top\">0</td>\n",
       "        <td style=\"padding-left: 1em; padding-right: 1em; text-align: center; vertical-align: top\">0</td>\n",
       "        <td style=\"padding-left: 1em; padding-right: 1em; text-align: center; vertical-align: top\">0</td>\n",
       "        <td style=\"padding-left: 1em; padding-right: 1em; text-align: center; vertical-align: top\">0</td>\n",
       "        <td style=\"padding-left: 1em; padding-right: 1em; text-align: center; vertical-align: top\">0</td>\n",
       "        <td style=\"padding-left: 1em; padding-right: 1em; text-align: center; vertical-align: top\">0</td>\n",
       "        <td style=\"padding-left: 1em; padding-right: 1em; text-align: center; vertical-align: top\">0</td>\n",
       "        <td style=\"padding-left: 1em; padding-right: 1em; text-align: center; vertical-align: top\">0</td>\n",
       "        <td style=\"padding-left: 1em; padding-right: 1em; text-align: center; vertical-align: top\">1</td>\n",
       "    </tr>\n",
       "    <tr>\n",
       "        <td style=\"padding-left: 1em; padding-right: 1em; text-align: center; vertical-align: top\">0</td>\n",
       "        <td style=\"padding-left: 1em; padding-right: 1em; text-align: center; vertical-align: top\">0</td>\n",
       "        <td style=\"padding-left: 1em; padding-right: 1em; text-align: center; vertical-align: top\">0</td>\n",
       "        <td style=\"padding-left: 1em; padding-right: 1em; text-align: center; vertical-align: top\">0</td>\n",
       "        <td style=\"padding-left: 1em; padding-right: 1em; text-align: center; vertical-align: top\">0</td>\n",
       "        <td style=\"padding-left: 1em; padding-right: 1em; text-align: center; vertical-align: top\">0</td>\n",
       "        <td style=\"padding-left: 1em; padding-right: 1em; text-align: center; vertical-align: top\">0</td>\n",
       "        <td style=\"padding-left: 1em; padding-right: 1em; text-align: center; vertical-align: top\">0</td>\n",
       "        <td style=\"padding-left: 1em; padding-right: 1em; text-align: center; vertical-align: top\">1</td>\n",
       "    </tr>\n",
       "</table>\n",
       "[183531 rows x 16 columns]<br/>Note: Only the head of the SFrame is printed.<br/>You can use print_rows(num_rows=m, num_columns=n) to print more rows and columns.\n",
       "</div>"
      ],
      "text/plain": [
       "Columns:\n",
       "\tname\tstr\n",
       "\treview\tstr\n",
       "\trating\tfloat\n",
       "\tword_count\tdict\n",
       "\tawesome\tint\n",
       "\tgreat\tint\n",
       "\tfantastic\tint\n",
       "\tamazing\tint\n",
       "\tlove\tint\n",
       "\thorrible\tint\n",
       "\tbad\tint\n",
       "\tterrible\tint\n",
       "\tawful\tint\n",
       "\twow\tint\n",
       "\thate\tint\n",
       "\tsentiment\tint\n",
       "\n",
       "Rows: 183531\n",
       "\n",
       "Data:\n",
       "+-------------------------------+-------------------------------+--------+\n",
       "|              name             |             review            | rating |\n",
       "+-------------------------------+-------------------------------+--------+\n",
       "|    Planetwise Flannel Wipes   | These flannel wipes are OK... |  3.0   |\n",
       "|     Planetwise Wipe Pouch     | it came early and was not ... |  5.0   |\n",
       "| Annas Dream Full Quilt wit... | Very soft and comfortable ... |  5.0   |\n",
       "| Stop Pacifier Sucking with... | This is a product well wor... |  5.0   |\n",
       "| Stop Pacifier Sucking with... | All of my kids have cried ... |  5.0   |\n",
       "| Stop Pacifier Sucking with... | When the Binky Fairy came ... |  5.0   |\n",
       "| A Tale of Baby's Days with... | Lovely book, it's bound ti... |  4.0   |\n",
       "| Baby Tracker&reg; - Daily ... | Perfect for new parents. W... |  5.0   |\n",
       "| Baby Tracker&reg; - Daily ... | A friend of mine pinned th... |  5.0   |\n",
       "| Baby Tracker&reg; - Daily ... | This has been an easy way ... |  4.0   |\n",
       "+-------------------------------+-------------------------------+--------+\n",
       "+-------------------------------+---------+-------+-----------+---------+------+\n",
       "|           word_count          | awesome | great | fantastic | amazing | love |\n",
       "+-------------------------------+---------+-------+-----------+---------+------+\n",
       "| {'and': 5L, 'stink': 1L, '... |    0    |   0   |     0     |    0    |  0   |\n",
       "| {'and': 3L, 'love': 1L, 'i... |    0    |   0   |     0     |    0    |  1   |\n",
       "| {'and': 2L, 'quilt': 1L, '... |    0    |   0   |     0     |    0    |  0   |\n",
       "| {'ingenious': 1L, 'and': 3... |    0    |   0   |     0     |    0    |  2   |\n",
       "| {'and': 2L, 'parents!!': 1... |    0    |   1   |     0     |    0    |  0   |\n",
       "| {'and': 2L, 'cute': 1L, 'h... |    0    |   1   |     0     |    0    |  0   |\n",
       "| {'shop': 1L, 'be': 1L, 'is... |    0    |   0   |     0     |    0    |  0   |\n",
       "| {'feeding,': 1L, 'and': 2L... |    0    |   0   |     0     |    0    |  0   |\n",
       "| {'and': 1L, 'help': 1L, 'g... |    0    |   0   |     0     |    0    |  0   |\n",
       "| {'journal.': 1L, 'all': 1L... |    0    |   0   |     0     |    0    |  0   |\n",
       "+-------------------------------+---------+-------+-----------+---------+------+\n",
       "+----------+-----+----------+-------+-----+------+-----------+\n",
       "| horrible | bad | terrible | awful | wow | hate | sentiment |\n",
       "+----------+-----+----------+-------+-----+------+-----------+\n",
       "|    0     |  0  |    0     |   0   |  0  |  0   |     0     |\n",
       "|    0     |  0  |    0     |   0   |  0  |  0   |     1     |\n",
       "|    0     |  0  |    0     |   0   |  0  |  0   |     1     |\n",
       "|    0     |  0  |    0     |   0   |  0  |  0   |     1     |\n",
       "|    0     |  0  |    0     |   0   |  0  |  0   |     1     |\n",
       "|    0     |  0  |    0     |   0   |  0  |  0   |     1     |\n",
       "|    0     |  0  |    0     |   0   |  0  |  0   |     1     |\n",
       "|    0     |  0  |    0     |   0   |  0  |  0   |     1     |\n",
       "|    0     |  0  |    0     |   0   |  0  |  0   |     1     |\n",
       "|    0     |  0  |    0     |   0   |  0  |  0   |     1     |\n",
       "+----------+-----+----------+-------+-----+------+-----------+\n",
       "[183531 rows x 16 columns]\n",
       "Note: Only the head of the SFrame is printed.\n",
       "You can use print_rows(num_rows=m, num_columns=n) to print more rows and columns."
      ]
     },
     "execution_count": 88,
     "metadata": {},
     "output_type": "execute_result"
    }
   ],
   "source": [
    "products"
   ]
  },
  {
   "cell_type": "code",
   "execution_count": 36,
   "metadata": {
    "collapsed": false
   },
   "outputs": [
    {
     "name": "stdout",
     "output_type": "stream",
     "text": [
      "awesome: 2090\n",
      "great: 45206\n",
      "fantastic: 932\n",
      "amazing: 1363\n",
      "love: 42065\n",
      "horrible: 734\n",
      "bad: 3724\n",
      "terrible: 748\n",
      "awful: 383\n",
      "wow: 144\n",
      "hate: 1220\n"
     ]
    }
   ],
   "source": [
    "for word in selected_words:\n",
    "    print word +': ' + str(products[word].sum())"
   ]
  },
  {
   "cell_type": "code",
   "execution_count": 86,
   "metadata": {
    "collapsed": true
   },
   "outputs": [],
   "source": [
    "train_data,test_data = products.random_split(.8, seed=0)"
   ]
  },
  {
   "cell_type": "code",
   "execution_count": 89,
   "metadata": {
    "collapsed": false
   },
   "outputs": [
    {
     "data": {
      "text/html": [
       "<pre>Logistic regression:</pre>"
      ],
      "text/plain": [
       "Logistic regression:"
      ]
     },
     "metadata": {},
     "output_type": "display_data"
    },
    {
     "data": {
      "text/html": [
       "<pre>--------------------------------------------------------</pre>"
      ],
      "text/plain": [
       "--------------------------------------------------------"
      ]
     },
     "metadata": {},
     "output_type": "display_data"
    },
    {
     "data": {
      "text/html": [
       "<pre>Number of examples          : 146861</pre>"
      ],
      "text/plain": [
       "Number of examples          : 146861"
      ]
     },
     "metadata": {},
     "output_type": "display_data"
    },
    {
     "data": {
      "text/html": [
       "<pre>Number of classes           : 2</pre>"
      ],
      "text/plain": [
       "Number of classes           : 2"
      ]
     },
     "metadata": {},
     "output_type": "display_data"
    },
    {
     "data": {
      "text/html": [
       "<pre>Number of feature columns   : 11</pre>"
      ],
      "text/plain": [
       "Number of feature columns   : 11"
      ]
     },
     "metadata": {},
     "output_type": "display_data"
    },
    {
     "data": {
      "text/html": [
       "<pre>Number of unpacked features : 11</pre>"
      ],
      "text/plain": [
       "Number of unpacked features : 11"
      ]
     },
     "metadata": {},
     "output_type": "display_data"
    },
    {
     "data": {
      "text/html": [
       "<pre>Number of coefficients    : 12</pre>"
      ],
      "text/plain": [
       "Number of coefficients    : 12"
      ]
     },
     "metadata": {},
     "output_type": "display_data"
    },
    {
     "data": {
      "text/html": [
       "<pre>Starting Newton Method</pre>"
      ],
      "text/plain": [
       "Starting Newton Method"
      ]
     },
     "metadata": {},
     "output_type": "display_data"
    },
    {
     "data": {
      "text/html": [
       "<pre>--------------------------------------------------------</pre>"
      ],
      "text/plain": [
       "--------------------------------------------------------"
      ]
     },
     "metadata": {},
     "output_type": "display_data"
    },
    {
     "data": {
      "text/html": [
       "<pre>+-----------+----------+--------------+-------------------+---------------------+</pre>"
      ],
      "text/plain": [
       "+-----------+----------+--------------+-------------------+---------------------+"
      ]
     },
     "metadata": {},
     "output_type": "display_data"
    },
    {
     "data": {
      "text/html": [
       "<pre>| Iteration | Passes   | Elapsed Time | Training-accuracy | Validation-accuracy |</pre>"
      ],
      "text/plain": [
       "| Iteration | Passes   | Elapsed Time | Training-accuracy | Validation-accuracy |"
      ]
     },
     "metadata": {},
     "output_type": "display_data"
    },
    {
     "data": {
      "text/html": [
       "<pre>+-----------+----------+--------------+-------------------+---------------------+</pre>"
      ],
      "text/plain": [
       "+-----------+----------+--------------+-------------------+---------------------+"
      ]
     },
     "metadata": {},
     "output_type": "display_data"
    },
    {
     "data": {
      "text/html": [
       "<pre>| 1         | 2        | 0.279188     | 0.768182          | 0.767903            |</pre>"
      ],
      "text/plain": [
       "| 1         | 2        | 0.279188     | 0.768182          | 0.767903            |"
      ]
     },
     "metadata": {},
     "output_type": "display_data"
    },
    {
     "data": {
      "text/html": [
       "<pre>| 2         | 3        | 0.495324     | 0.768332          | 0.767985            |</pre>"
      ],
      "text/plain": [
       "| 2         | 3        | 0.495324     | 0.768332          | 0.767985            |"
      ]
     },
     "metadata": {},
     "output_type": "display_data"
    },
    {
     "data": {
      "text/html": [
       "<pre>| 3         | 4        | 0.691462     | 0.768747          | 0.767712            |</pre>"
      ],
      "text/plain": [
       "| 3         | 4        | 0.691462     | 0.768747          | 0.767712            |"
      ]
     },
     "metadata": {},
     "output_type": "display_data"
    },
    {
     "data": {
      "text/html": [
       "<pre>| 4         | 5        | 0.902612     | 0.768747          | 0.767712            |</pre>"
      ],
      "text/plain": [
       "| 4         | 5        | 0.902612     | 0.768747          | 0.767712            |"
      ]
     },
     "metadata": {},
     "output_type": "display_data"
    },
    {
     "data": {
      "text/html": [
       "<pre>| 5         | 6        | 1.089746     | 0.768747          | 0.767712            |</pre>"
      ],
      "text/plain": [
       "| 5         | 6        | 1.089746     | 0.768747          | 0.767712            |"
      ]
     },
     "metadata": {},
     "output_type": "display_data"
    },
    {
     "data": {
      "text/html": [
       "<pre>+-----------+----------+--------------+-------------------+---------------------+</pre>"
      ],
      "text/plain": [
       "+-----------+----------+--------------+-------------------+---------------------+"
      ]
     },
     "metadata": {},
     "output_type": "display_data"
    },
    {
     "data": {
      "text/html": [
       "<pre>SUCCESS: Optimal solution found.</pre>"
      ],
      "text/plain": [
       "SUCCESS: Optimal solution found."
      ]
     },
     "metadata": {},
     "output_type": "display_data"
    }
   ],
   "source": [
    "selected_words_model = graphlab.logistic_classifier.create(train_data,\n",
    "                                                     target='sentiment',\n",
    "                                                     features= selected_words,\n",
    "                                                     validation_set=test_data)"
   ]
  },
  {
   "cell_type": "code",
   "execution_count": 50,
   "metadata": {
    "collapsed": true
   },
   "outputs": [],
   "source": []
  },
  {
   "cell_type": "code",
   "execution_count": 51,
   "metadata": {
    "collapsed": false
   },
   "outputs": [
    {
     "data": {
      "text/html": [
       "<div style=\"max-height:1000px;max-width:1500px;overflow:auto;\"><table frame=\"box\" rules=\"cols\">\n",
       "    <tr>\n",
       "        <th style=\"padding-left: 1em; padding-right: 1em; text-align: center\">name</th>\n",
       "        <th style=\"padding-left: 1em; padding-right: 1em; text-align: center\">review</th>\n",
       "        <th style=\"padding-left: 1em; padding-right: 1em; text-align: center\">rating</th>\n",
       "        <th style=\"padding-left: 1em; padding-right: 1em; text-align: center\">word_count</th>\n",
       "        <th style=\"padding-left: 1em; padding-right: 1em; text-align: center\">awesome</th>\n",
       "        <th style=\"padding-left: 1em; padding-right: 1em; text-align: center\">great</th>\n",
       "        <th style=\"padding-left: 1em; padding-right: 1em; text-align: center\">fantastic</th>\n",
       "    </tr>\n",
       "    <tr>\n",
       "        <td style=\"padding-left: 1em; padding-right: 1em; text-align: center; vertical-align: top\">Planetwise Flannel Wipes</td>\n",
       "        <td style=\"padding-left: 1em; padding-right: 1em; text-align: center; vertical-align: top\">These flannel wipes are<br>OK, but in my opinion ...</td>\n",
       "        <td style=\"padding-left: 1em; padding-right: 1em; text-align: center; vertical-align: top\">3.0</td>\n",
       "        <td style=\"padding-left: 1em; padding-right: 1em; text-align: center; vertical-align: top\">{'and': 5L, 'stink': 1L,<br>'because': 1L, 'order ...</td>\n",
       "        <td style=\"padding-left: 1em; padding-right: 1em; text-align: center; vertical-align: top\">0</td>\n",
       "        <td style=\"padding-left: 1em; padding-right: 1em; text-align: center; vertical-align: top\">0</td>\n",
       "        <td style=\"padding-left: 1em; padding-right: 1em; text-align: center; vertical-align: top\">0</td>\n",
       "    </tr>\n",
       "    <tr>\n",
       "        <td style=\"padding-left: 1em; padding-right: 1em; text-align: center; vertical-align: top\">Planetwise Wipe Pouch</td>\n",
       "        <td style=\"padding-left: 1em; padding-right: 1em; text-align: center; vertical-align: top\">it came early and was not<br>disappointed. i love ...</td>\n",
       "        <td style=\"padding-left: 1em; padding-right: 1em; text-align: center; vertical-align: top\">5.0</td>\n",
       "        <td style=\"padding-left: 1em; padding-right: 1em; text-align: center; vertical-align: top\">{'and': 3L, 'love': 1L,<br>'it': 2L, 'highly': 1L, ...</td>\n",
       "        <td style=\"padding-left: 1em; padding-right: 1em; text-align: center; vertical-align: top\">0</td>\n",
       "        <td style=\"padding-left: 1em; padding-right: 1em; text-align: center; vertical-align: top\">0</td>\n",
       "        <td style=\"padding-left: 1em; padding-right: 1em; text-align: center; vertical-align: top\">0</td>\n",
       "    </tr>\n",
       "    <tr>\n",
       "        <td style=\"padding-left: 1em; padding-right: 1em; text-align: center; vertical-align: top\">Annas Dream Full Quilt<br>with 2 Shams ...</td>\n",
       "        <td style=\"padding-left: 1em; padding-right: 1em; text-align: center; vertical-align: top\">Very soft and comfortable<br>and warmer than it ...</td>\n",
       "        <td style=\"padding-left: 1em; padding-right: 1em; text-align: center; vertical-align: top\">5.0</td>\n",
       "        <td style=\"padding-left: 1em; padding-right: 1em; text-align: center; vertical-align: top\">{'and': 2L, 'quilt': 1L,<br>'it': 1L, 'comfortable': ...</td>\n",
       "        <td style=\"padding-left: 1em; padding-right: 1em; text-align: center; vertical-align: top\">0</td>\n",
       "        <td style=\"padding-left: 1em; padding-right: 1em; text-align: center; vertical-align: top\">0</td>\n",
       "        <td style=\"padding-left: 1em; padding-right: 1em; text-align: center; vertical-align: top\">0</td>\n",
       "    </tr>\n",
       "    <tr>\n",
       "        <td style=\"padding-left: 1em; padding-right: 1em; text-align: center; vertical-align: top\">Stop Pacifier Sucking<br>without tears with ...</td>\n",
       "        <td style=\"padding-left: 1em; padding-right: 1em; text-align: center; vertical-align: top\">This is a product well<br>worth the purchase.  I ...</td>\n",
       "        <td style=\"padding-left: 1em; padding-right: 1em; text-align: center; vertical-align: top\">5.0</td>\n",
       "        <td style=\"padding-left: 1em; padding-right: 1em; text-align: center; vertical-align: top\">{'ingenious': 1L, 'and':<br>3L, 'love': 2L, ...</td>\n",
       "        <td style=\"padding-left: 1em; padding-right: 1em; text-align: center; vertical-align: top\">0</td>\n",
       "        <td style=\"padding-left: 1em; padding-right: 1em; text-align: center; vertical-align: top\">0</td>\n",
       "        <td style=\"padding-left: 1em; padding-right: 1em; text-align: center; vertical-align: top\">0</td>\n",
       "    </tr>\n",
       "    <tr>\n",
       "        <td style=\"padding-left: 1em; padding-right: 1em; text-align: center; vertical-align: top\">Stop Pacifier Sucking<br>without tears with ...</td>\n",
       "        <td style=\"padding-left: 1em; padding-right: 1em; text-align: center; vertical-align: top\">All of my kids have cried<br>non-stop when I tried to ...</td>\n",
       "        <td style=\"padding-left: 1em; padding-right: 1em; text-align: center; vertical-align: top\">5.0</td>\n",
       "        <td style=\"padding-left: 1em; padding-right: 1em; text-align: center; vertical-align: top\">{'and': 2L, 'parents!!':<br>1L, 'all': 2L, 'puppe ...</td>\n",
       "        <td style=\"padding-left: 1em; padding-right: 1em; text-align: center; vertical-align: top\">0</td>\n",
       "        <td style=\"padding-left: 1em; padding-right: 1em; text-align: center; vertical-align: top\">1</td>\n",
       "        <td style=\"padding-left: 1em; padding-right: 1em; text-align: center; vertical-align: top\">0</td>\n",
       "    </tr>\n",
       "    <tr>\n",
       "        <td style=\"padding-left: 1em; padding-right: 1em; text-align: center; vertical-align: top\">Stop Pacifier Sucking<br>without tears with ...</td>\n",
       "        <td style=\"padding-left: 1em; padding-right: 1em; text-align: center; vertical-align: top\">When the Binky Fairy came<br>to our house, we didn't ...</td>\n",
       "        <td style=\"padding-left: 1em; padding-right: 1em; text-align: center; vertical-align: top\">5.0</td>\n",
       "        <td style=\"padding-left: 1em; padding-right: 1em; text-align: center; vertical-align: top\">{'and': 2L, 'cute': 1L,<br>'help': 2L, 'doll': 1L, ...</td>\n",
       "        <td style=\"padding-left: 1em; padding-right: 1em; text-align: center; vertical-align: top\">0</td>\n",
       "        <td style=\"padding-left: 1em; padding-right: 1em; text-align: center; vertical-align: top\">1</td>\n",
       "        <td style=\"padding-left: 1em; padding-right: 1em; text-align: center; vertical-align: top\">0</td>\n",
       "    </tr>\n",
       "    <tr>\n",
       "        <td style=\"padding-left: 1em; padding-right: 1em; text-align: center; vertical-align: top\">A Tale of Baby's Days<br>with Peter Rabbit ...</td>\n",
       "        <td style=\"padding-left: 1em; padding-right: 1em; text-align: center; vertical-align: top\">Lovely book, it's bound<br>tightly so you may no ...</td>\n",
       "        <td style=\"padding-left: 1em; padding-right: 1em; text-align: center; vertical-align: top\">4.0</td>\n",
       "        <td style=\"padding-left: 1em; padding-right: 1em; text-align: center; vertical-align: top\">{'shop': 1L, 'be': 1L,<br>'is': 1L, 'it': 1L, ' ...</td>\n",
       "        <td style=\"padding-left: 1em; padding-right: 1em; text-align: center; vertical-align: top\">0</td>\n",
       "        <td style=\"padding-left: 1em; padding-right: 1em; text-align: center; vertical-align: top\">0</td>\n",
       "        <td style=\"padding-left: 1em; padding-right: 1em; text-align: center; vertical-align: top\">0</td>\n",
       "    </tr>\n",
       "    <tr>\n",
       "        <td style=\"padding-left: 1em; padding-right: 1em; text-align: center; vertical-align: top\">Baby Tracker&amp;reg; - Daily<br>Childcare Journal, ...</td>\n",
       "        <td style=\"padding-left: 1em; padding-right: 1em; text-align: center; vertical-align: top\">Perfect for new parents.<br>We were able to keep ...</td>\n",
       "        <td style=\"padding-left: 1em; padding-right: 1em; text-align: center; vertical-align: top\">5.0</td>\n",
       "        <td style=\"padding-left: 1em; padding-right: 1em; text-align: center; vertical-align: top\">{'feeding,': 1L, 'and':<br>2L, 'all': 1L, 'right': ...</td>\n",
       "        <td style=\"padding-left: 1em; padding-right: 1em; text-align: center; vertical-align: top\">0</td>\n",
       "        <td style=\"padding-left: 1em; padding-right: 1em; text-align: center; vertical-align: top\">0</td>\n",
       "        <td style=\"padding-left: 1em; padding-right: 1em; text-align: center; vertical-align: top\">0</td>\n",
       "    </tr>\n",
       "    <tr>\n",
       "        <td style=\"padding-left: 1em; padding-right: 1em; text-align: center; vertical-align: top\">Baby Tracker&amp;reg; - Daily<br>Childcare Journal, ...</td>\n",
       "        <td style=\"padding-left: 1em; padding-right: 1em; text-align: center; vertical-align: top\">A friend of mine pinned<br>this product on Pinte ...</td>\n",
       "        <td style=\"padding-left: 1em; padding-right: 1em; text-align: center; vertical-align: top\">5.0</td>\n",
       "        <td style=\"padding-left: 1em; padding-right: 1em; text-align: center; vertical-align: top\">{'and': 1L, 'help': 1L,<br>'give': 1L, 'is': 1L, ...</td>\n",
       "        <td style=\"padding-left: 1em; padding-right: 1em; text-align: center; vertical-align: top\">0</td>\n",
       "        <td style=\"padding-left: 1em; padding-right: 1em; text-align: center; vertical-align: top\">0</td>\n",
       "        <td style=\"padding-left: 1em; padding-right: 1em; text-align: center; vertical-align: top\">0</td>\n",
       "    </tr>\n",
       "    <tr>\n",
       "        <td style=\"padding-left: 1em; padding-right: 1em; text-align: center; vertical-align: top\">Baby Tracker&amp;reg; - Daily<br>Childcare Journal, ...</td>\n",
       "        <td style=\"padding-left: 1em; padding-right: 1em; text-align: center; vertical-align: top\">This has been an easy way<br>for my nanny to record ...</td>\n",
       "        <td style=\"padding-left: 1em; padding-right: 1em; text-align: center; vertical-align: top\">4.0</td>\n",
       "        <td style=\"padding-left: 1em; padding-right: 1em; text-align: center; vertical-align: top\">{'journal.': 1L, 'all':<br>1L, 'standarad': 1L, ...</td>\n",
       "        <td style=\"padding-left: 1em; padding-right: 1em; text-align: center; vertical-align: top\">0</td>\n",
       "        <td style=\"padding-left: 1em; padding-right: 1em; text-align: center; vertical-align: top\">0</td>\n",
       "        <td style=\"padding-left: 1em; padding-right: 1em; text-align: center; vertical-align: top\">0</td>\n",
       "    </tr>\n",
       "</table>\n",
       "<table frame=\"box\" rules=\"cols\">\n",
       "    <tr>\n",
       "        <th style=\"padding-left: 1em; padding-right: 1em; text-align: center\">amazing</th>\n",
       "        <th style=\"padding-left: 1em; padding-right: 1em; text-align: center\">love</th>\n",
       "        <th style=\"padding-left: 1em; padding-right: 1em; text-align: center\">horrible</th>\n",
       "        <th style=\"padding-left: 1em; padding-right: 1em; text-align: center\">bad</th>\n",
       "        <th style=\"padding-left: 1em; padding-right: 1em; text-align: center\">terrible</th>\n",
       "        <th style=\"padding-left: 1em; padding-right: 1em; text-align: center\">awful</th>\n",
       "        <th style=\"padding-left: 1em; padding-right: 1em; text-align: center\">wow</th>\n",
       "        <th style=\"padding-left: 1em; padding-right: 1em; text-align: center\">hate</th>\n",
       "        <th style=\"padding-left: 1em; padding-right: 1em; text-align: center\">sentiment</th>\n",
       "    </tr>\n",
       "    <tr>\n",
       "        <td style=\"padding-left: 1em; padding-right: 1em; text-align: center; vertical-align: top\">0</td>\n",
       "        <td style=\"padding-left: 1em; padding-right: 1em; text-align: center; vertical-align: top\">0</td>\n",
       "        <td style=\"padding-left: 1em; padding-right: 1em; text-align: center; vertical-align: top\">0</td>\n",
       "        <td style=\"padding-left: 1em; padding-right: 1em; text-align: center; vertical-align: top\">0</td>\n",
       "        <td style=\"padding-left: 1em; padding-right: 1em; text-align: center; vertical-align: top\">0</td>\n",
       "        <td style=\"padding-left: 1em; padding-right: 1em; text-align: center; vertical-align: top\">0</td>\n",
       "        <td style=\"padding-left: 1em; padding-right: 1em; text-align: center; vertical-align: top\">0</td>\n",
       "        <td style=\"padding-left: 1em; padding-right: 1em; text-align: center; vertical-align: top\">0</td>\n",
       "        <td style=\"padding-left: 1em; padding-right: 1em; text-align: center; vertical-align: top\">3.0</td>\n",
       "    </tr>\n",
       "    <tr>\n",
       "        <td style=\"padding-left: 1em; padding-right: 1em; text-align: center; vertical-align: top\">0</td>\n",
       "        <td style=\"padding-left: 1em; padding-right: 1em; text-align: center; vertical-align: top\">1</td>\n",
       "        <td style=\"padding-left: 1em; padding-right: 1em; text-align: center; vertical-align: top\">0</td>\n",
       "        <td style=\"padding-left: 1em; padding-right: 1em; text-align: center; vertical-align: top\">0</td>\n",
       "        <td style=\"padding-left: 1em; padding-right: 1em; text-align: center; vertical-align: top\">0</td>\n",
       "        <td style=\"padding-left: 1em; padding-right: 1em; text-align: center; vertical-align: top\">0</td>\n",
       "        <td style=\"padding-left: 1em; padding-right: 1em; text-align: center; vertical-align: top\">0</td>\n",
       "        <td style=\"padding-left: 1em; padding-right: 1em; text-align: center; vertical-align: top\">0</td>\n",
       "        <td style=\"padding-left: 1em; padding-right: 1em; text-align: center; vertical-align: top\">5.0</td>\n",
       "    </tr>\n",
       "    <tr>\n",
       "        <td style=\"padding-left: 1em; padding-right: 1em; text-align: center; vertical-align: top\">0</td>\n",
       "        <td style=\"padding-left: 1em; padding-right: 1em; text-align: center; vertical-align: top\">0</td>\n",
       "        <td style=\"padding-left: 1em; padding-right: 1em; text-align: center; vertical-align: top\">0</td>\n",
       "        <td style=\"padding-left: 1em; padding-right: 1em; text-align: center; vertical-align: top\">0</td>\n",
       "        <td style=\"padding-left: 1em; padding-right: 1em; text-align: center; vertical-align: top\">0</td>\n",
       "        <td style=\"padding-left: 1em; padding-right: 1em; text-align: center; vertical-align: top\">0</td>\n",
       "        <td style=\"padding-left: 1em; padding-right: 1em; text-align: center; vertical-align: top\">0</td>\n",
       "        <td style=\"padding-left: 1em; padding-right: 1em; text-align: center; vertical-align: top\">0</td>\n",
       "        <td style=\"padding-left: 1em; padding-right: 1em; text-align: center; vertical-align: top\">5.0</td>\n",
       "    </tr>\n",
       "    <tr>\n",
       "        <td style=\"padding-left: 1em; padding-right: 1em; text-align: center; vertical-align: top\">0</td>\n",
       "        <td style=\"padding-left: 1em; padding-right: 1em; text-align: center; vertical-align: top\">2</td>\n",
       "        <td style=\"padding-left: 1em; padding-right: 1em; text-align: center; vertical-align: top\">0</td>\n",
       "        <td style=\"padding-left: 1em; padding-right: 1em; text-align: center; vertical-align: top\">0</td>\n",
       "        <td style=\"padding-left: 1em; padding-right: 1em; text-align: center; vertical-align: top\">0</td>\n",
       "        <td style=\"padding-left: 1em; padding-right: 1em; text-align: center; vertical-align: top\">0</td>\n",
       "        <td style=\"padding-left: 1em; padding-right: 1em; text-align: center; vertical-align: top\">0</td>\n",
       "        <td style=\"padding-left: 1em; padding-right: 1em; text-align: center; vertical-align: top\">0</td>\n",
       "        <td style=\"padding-left: 1em; padding-right: 1em; text-align: center; vertical-align: top\">5.0</td>\n",
       "    </tr>\n",
       "    <tr>\n",
       "        <td style=\"padding-left: 1em; padding-right: 1em; text-align: center; vertical-align: top\">0</td>\n",
       "        <td style=\"padding-left: 1em; padding-right: 1em; text-align: center; vertical-align: top\">0</td>\n",
       "        <td style=\"padding-left: 1em; padding-right: 1em; text-align: center; vertical-align: top\">0</td>\n",
       "        <td style=\"padding-left: 1em; padding-right: 1em; text-align: center; vertical-align: top\">0</td>\n",
       "        <td style=\"padding-left: 1em; padding-right: 1em; text-align: center; vertical-align: top\">0</td>\n",
       "        <td style=\"padding-left: 1em; padding-right: 1em; text-align: center; vertical-align: top\">0</td>\n",
       "        <td style=\"padding-left: 1em; padding-right: 1em; text-align: center; vertical-align: top\">0</td>\n",
       "        <td style=\"padding-left: 1em; padding-right: 1em; text-align: center; vertical-align: top\">0</td>\n",
       "        <td style=\"padding-left: 1em; padding-right: 1em; text-align: center; vertical-align: top\">5.0</td>\n",
       "    </tr>\n",
       "    <tr>\n",
       "        <td style=\"padding-left: 1em; padding-right: 1em; text-align: center; vertical-align: top\">0</td>\n",
       "        <td style=\"padding-left: 1em; padding-right: 1em; text-align: center; vertical-align: top\">0</td>\n",
       "        <td style=\"padding-left: 1em; padding-right: 1em; text-align: center; vertical-align: top\">0</td>\n",
       "        <td style=\"padding-left: 1em; padding-right: 1em; text-align: center; vertical-align: top\">0</td>\n",
       "        <td style=\"padding-left: 1em; padding-right: 1em; text-align: center; vertical-align: top\">0</td>\n",
       "        <td style=\"padding-left: 1em; padding-right: 1em; text-align: center; vertical-align: top\">0</td>\n",
       "        <td style=\"padding-left: 1em; padding-right: 1em; text-align: center; vertical-align: top\">0</td>\n",
       "        <td style=\"padding-left: 1em; padding-right: 1em; text-align: center; vertical-align: top\">0</td>\n",
       "        <td style=\"padding-left: 1em; padding-right: 1em; text-align: center; vertical-align: top\">5.0</td>\n",
       "    </tr>\n",
       "    <tr>\n",
       "        <td style=\"padding-left: 1em; padding-right: 1em; text-align: center; vertical-align: top\">0</td>\n",
       "        <td style=\"padding-left: 1em; padding-right: 1em; text-align: center; vertical-align: top\">0</td>\n",
       "        <td style=\"padding-left: 1em; padding-right: 1em; text-align: center; vertical-align: top\">0</td>\n",
       "        <td style=\"padding-left: 1em; padding-right: 1em; text-align: center; vertical-align: top\">0</td>\n",
       "        <td style=\"padding-left: 1em; padding-right: 1em; text-align: center; vertical-align: top\">0</td>\n",
       "        <td style=\"padding-left: 1em; padding-right: 1em; text-align: center; vertical-align: top\">0</td>\n",
       "        <td style=\"padding-left: 1em; padding-right: 1em; text-align: center; vertical-align: top\">0</td>\n",
       "        <td style=\"padding-left: 1em; padding-right: 1em; text-align: center; vertical-align: top\">0</td>\n",
       "        <td style=\"padding-left: 1em; padding-right: 1em; text-align: center; vertical-align: top\">4.0</td>\n",
       "    </tr>\n",
       "    <tr>\n",
       "        <td style=\"padding-left: 1em; padding-right: 1em; text-align: center; vertical-align: top\">0</td>\n",
       "        <td style=\"padding-left: 1em; padding-right: 1em; text-align: center; vertical-align: top\">0</td>\n",
       "        <td style=\"padding-left: 1em; padding-right: 1em; text-align: center; vertical-align: top\">0</td>\n",
       "        <td style=\"padding-left: 1em; padding-right: 1em; text-align: center; vertical-align: top\">0</td>\n",
       "        <td style=\"padding-left: 1em; padding-right: 1em; text-align: center; vertical-align: top\">0</td>\n",
       "        <td style=\"padding-left: 1em; padding-right: 1em; text-align: center; vertical-align: top\">0</td>\n",
       "        <td style=\"padding-left: 1em; padding-right: 1em; text-align: center; vertical-align: top\">0</td>\n",
       "        <td style=\"padding-left: 1em; padding-right: 1em; text-align: center; vertical-align: top\">0</td>\n",
       "        <td style=\"padding-left: 1em; padding-right: 1em; text-align: center; vertical-align: top\">5.0</td>\n",
       "    </tr>\n",
       "    <tr>\n",
       "        <td style=\"padding-left: 1em; padding-right: 1em; text-align: center; vertical-align: top\">0</td>\n",
       "        <td style=\"padding-left: 1em; padding-right: 1em; text-align: center; vertical-align: top\">0</td>\n",
       "        <td style=\"padding-left: 1em; padding-right: 1em; text-align: center; vertical-align: top\">0</td>\n",
       "        <td style=\"padding-left: 1em; padding-right: 1em; text-align: center; vertical-align: top\">0</td>\n",
       "        <td style=\"padding-left: 1em; padding-right: 1em; text-align: center; vertical-align: top\">0</td>\n",
       "        <td style=\"padding-left: 1em; padding-right: 1em; text-align: center; vertical-align: top\">0</td>\n",
       "        <td style=\"padding-left: 1em; padding-right: 1em; text-align: center; vertical-align: top\">0</td>\n",
       "        <td style=\"padding-left: 1em; padding-right: 1em; text-align: center; vertical-align: top\">0</td>\n",
       "        <td style=\"padding-left: 1em; padding-right: 1em; text-align: center; vertical-align: top\">5.0</td>\n",
       "    </tr>\n",
       "    <tr>\n",
       "        <td style=\"padding-left: 1em; padding-right: 1em; text-align: center; vertical-align: top\">0</td>\n",
       "        <td style=\"padding-left: 1em; padding-right: 1em; text-align: center; vertical-align: top\">0</td>\n",
       "        <td style=\"padding-left: 1em; padding-right: 1em; text-align: center; vertical-align: top\">0</td>\n",
       "        <td style=\"padding-left: 1em; padding-right: 1em; text-align: center; vertical-align: top\">0</td>\n",
       "        <td style=\"padding-left: 1em; padding-right: 1em; text-align: center; vertical-align: top\">0</td>\n",
       "        <td style=\"padding-left: 1em; padding-right: 1em; text-align: center; vertical-align: top\">0</td>\n",
       "        <td style=\"padding-left: 1em; padding-right: 1em; text-align: center; vertical-align: top\">0</td>\n",
       "        <td style=\"padding-left: 1em; padding-right: 1em; text-align: center; vertical-align: top\">0</td>\n",
       "        <td style=\"padding-left: 1em; padding-right: 1em; text-align: center; vertical-align: top\">4.0</td>\n",
       "    </tr>\n",
       "</table>\n",
       "[183531 rows x 16 columns]<br/>Note: Only the head of the SFrame is printed.<br/>You can use print_rows(num_rows=m, num_columns=n) to print more rows and columns.\n",
       "</div>"
      ],
      "text/plain": [
       "Columns:\n",
       "\tname\tstr\n",
       "\treview\tstr\n",
       "\trating\tfloat\n",
       "\tword_count\tdict\n",
       "\tawesome\tint\n",
       "\tgreat\tint\n",
       "\tfantastic\tint\n",
       "\tamazing\tint\n",
       "\tlove\tint\n",
       "\thorrible\tint\n",
       "\tbad\tint\n",
       "\tterrible\tint\n",
       "\tawful\tint\n",
       "\twow\tint\n",
       "\thate\tint\n",
       "\tsentiment\tfloat\n",
       "\n",
       "Rows: 183531\n",
       "\n",
       "Data:\n",
       "+-------------------------------+-------------------------------+--------+\n",
       "|              name             |             review            | rating |\n",
       "+-------------------------------+-------------------------------+--------+\n",
       "|    Planetwise Flannel Wipes   | These flannel wipes are OK... |  3.0   |\n",
       "|     Planetwise Wipe Pouch     | it came early and was not ... |  5.0   |\n",
       "| Annas Dream Full Quilt wit... | Very soft and comfortable ... |  5.0   |\n",
       "| Stop Pacifier Sucking with... | This is a product well wor... |  5.0   |\n",
       "| Stop Pacifier Sucking with... | All of my kids have cried ... |  5.0   |\n",
       "| Stop Pacifier Sucking with... | When the Binky Fairy came ... |  5.0   |\n",
       "| A Tale of Baby's Days with... | Lovely book, it's bound ti... |  4.0   |\n",
       "| Baby Tracker&reg; - Daily ... | Perfect for new parents. W... |  5.0   |\n",
       "| Baby Tracker&reg; - Daily ... | A friend of mine pinned th... |  5.0   |\n",
       "| Baby Tracker&reg; - Daily ... | This has been an easy way ... |  4.0   |\n",
       "+-------------------------------+-------------------------------+--------+\n",
       "+-------------------------------+---------+-------+-----------+---------+------+\n",
       "|           word_count          | awesome | great | fantastic | amazing | love |\n",
       "+-------------------------------+---------+-------+-----------+---------+------+\n",
       "| {'and': 5L, 'stink': 1L, '... |    0    |   0   |     0     |    0    |  0   |\n",
       "| {'and': 3L, 'love': 1L, 'i... |    0    |   0   |     0     |    0    |  1   |\n",
       "| {'and': 2L, 'quilt': 1L, '... |    0    |   0   |     0     |    0    |  0   |\n",
       "| {'ingenious': 1L, 'and': 3... |    0    |   0   |     0     |    0    |  2   |\n",
       "| {'and': 2L, 'parents!!': 1... |    0    |   1   |     0     |    0    |  0   |\n",
       "| {'and': 2L, 'cute': 1L, 'h... |    0    |   1   |     0     |    0    |  0   |\n",
       "| {'shop': 1L, 'be': 1L, 'is... |    0    |   0   |     0     |    0    |  0   |\n",
       "| {'feeding,': 1L, 'and': 2L... |    0    |   0   |     0     |    0    |  0   |\n",
       "| {'and': 1L, 'help': 1L, 'g... |    0    |   0   |     0     |    0    |  0   |\n",
       "| {'journal.': 1L, 'all': 1L... |    0    |   0   |     0     |    0    |  0   |\n",
       "+-------------------------------+---------+-------+-----------+---------+------+\n",
       "+----------+-----+----------+-------+-----+------+-----------+\n",
       "| horrible | bad | terrible | awful | wow | hate | sentiment |\n",
       "+----------+-----+----------+-------+-----+------+-----------+\n",
       "|    0     |  0  |    0     |   0   |  0  |  0   |    3.0    |\n",
       "|    0     |  0  |    0     |   0   |  0  |  0   |    5.0    |\n",
       "|    0     |  0  |    0     |   0   |  0  |  0   |    5.0    |\n",
       "|    0     |  0  |    0     |   0   |  0  |  0   |    5.0    |\n",
       "|    0     |  0  |    0     |   0   |  0  |  0   |    5.0    |\n",
       "|    0     |  0  |    0     |   0   |  0  |  0   |    5.0    |\n",
       "|    0     |  0  |    0     |   0   |  0  |  0   |    4.0    |\n",
       "|    0     |  0  |    0     |   0   |  0  |  0   |    5.0    |\n",
       "|    0     |  0  |    0     |   0   |  0  |  0   |    5.0    |\n",
       "|    0     |  0  |    0     |   0   |  0  |  0   |    4.0    |\n",
       "+----------+-----+----------+-------+-----+------+-----------+\n",
       "[183531 rows x 16 columns]\n",
       "Note: Only the head of the SFrame is printed.\n",
       "You can use print_rows(num_rows=m, num_columns=n) to print more rows and columns."
      ]
     },
     "execution_count": 51,
     "metadata": {},
     "output_type": "execute_result"
    }
   ],
   "source": []
  },
  {
   "cell_type": "code",
   "execution_count": 56,
   "metadata": {
    "collapsed": false
   },
   "outputs": [
    {
     "ename": "ToolkitError",
     "evalue": "The following columns were expected but are missing: ['sentiment']",
     "output_type": "error",
     "traceback": [
      "\u001b[1;31m---------------------------------------------------------------------------\u001b[0m",
      "\u001b[1;31mToolkitError\u001b[0m                              Traceback (most recent call last)",
      "\u001b[1;32m<ipython-input-56-f3cf543cbb6f>\u001b[0m in \u001b[0;36m<module>\u001b[1;34m()\u001b[0m\n\u001b[0;32m      2\u001b[0m                                                      \u001b[0mtarget\u001b[0m\u001b[1;33m=\u001b[0m\u001b[1;34m'sentiment'\u001b[0m\u001b[1;33m,\u001b[0m\u001b[1;33m\u001b[0m\u001b[0m\n\u001b[0;32m      3\u001b[0m                                                      \u001b[0mfeatures\u001b[0m\u001b[1;33m=\u001b[0m \u001b[0mselected_words\u001b[0m\u001b[1;33m,\u001b[0m\u001b[1;33m\u001b[0m\u001b[0m\n\u001b[1;32m----> 4\u001b[1;33m                                                      validation_set=test_data)\n\u001b[0m",
      "\u001b[1;32mC:\\Users\\eugene chang\\Anaconda2\\envs\\gl-env\\lib\\site-packages\\graphlab\\toolkits\\classifier\\logistic_classifier.pyc\u001b[0m in \u001b[0;36mcreate\u001b[1;34m(dataset, target, features, l2_penalty, l1_penalty, solver, feature_rescaling, convergence_threshold, step_size, lbfgs_memory_level, max_iterations, class_weights, validation_set, verbose)\u001b[0m\n\u001b[0;32m    306\u001b[0m                         \u001b[0mlbfgs_memory_level\u001b[0m \u001b[1;33m=\u001b[0m \u001b[0mlbfgs_memory_level\u001b[0m\u001b[1;33m,\u001b[0m\u001b[1;33m\u001b[0m\u001b[0m\n\u001b[0;32m    307\u001b[0m                         \u001b[0mmax_iterations\u001b[0m \u001b[1;33m=\u001b[0m \u001b[0mmax_iterations\u001b[0m\u001b[1;33m,\u001b[0m\u001b[1;33m\u001b[0m\u001b[0m\n\u001b[1;32m--> 308\u001b[1;33m                         class_weights = class_weights)\n\u001b[0m\u001b[0;32m    309\u001b[0m \u001b[1;33m\u001b[0m\u001b[0m\n\u001b[0;32m    310\u001b[0m     \u001b[1;32mreturn\u001b[0m \u001b[0mLogisticClassifier\u001b[0m\u001b[1;33m(\u001b[0m\u001b[0mmodel\u001b[0m\u001b[1;33m.\u001b[0m\u001b[0m__proxy__\u001b[0m\u001b[1;33m)\u001b[0m\u001b[1;33m\u001b[0m\u001b[0m\n",
      "\u001b[1;32mC:\\Users\\eugene chang\\Anaconda2\\envs\\gl-env\\lib\\site-packages\\graphlab\\toolkits\\_supervised_learning.pyc\u001b[0m in \u001b[0;36mcreate\u001b[1;34m(dataset, target, model_name, features, validation_set, verbose, distributed, **kwargs)\u001b[0m\n\u001b[0;32m    398\u001b[0m \u001b[1;33m\u001b[0m\u001b[0m\n\u001b[0;32m    399\u001b[0m     \u001b[1;31m# Target\u001b[0m\u001b[1;33m\u001b[0m\u001b[1;33m\u001b[0m\u001b[0m\n\u001b[1;32m--> 400\u001b[1;33m     \u001b[0mtarget_sframe\u001b[0m \u001b[1;33m=\u001b[0m \u001b[0m_toolkits_select_columns\u001b[0m\u001b[1;33m(\u001b[0m\u001b[0mdataset\u001b[0m\u001b[1;33m,\u001b[0m \u001b[1;33m[\u001b[0m\u001b[0mtarget\u001b[0m\u001b[1;33m]\u001b[0m\u001b[1;33m)\u001b[0m\u001b[1;33m\u001b[0m\u001b[0m\n\u001b[0m\u001b[0;32m    401\u001b[0m \u001b[1;33m\u001b[0m\u001b[0m\n\u001b[0;32m    402\u001b[0m     \u001b[1;31m# Features\u001b[0m\u001b[1;33m\u001b[0m\u001b[1;33m\u001b[0m\u001b[0m\n",
      "\u001b[1;32mC:\\Users\\eugene chang\\Anaconda2\\envs\\gl-env\\lib\\site-packages\\graphlab\\toolkits\\_internal_utils.pyc\u001b[0m in \u001b[0;36m_toolkits_select_columns\u001b[1;34m(dataset, columns)\u001b[0m\n\u001b[0;32m    352\u001b[0m         \u001b[0mmissing_features\u001b[0m \u001b[1;33m=\u001b[0m \u001b[0mlist\u001b[0m\u001b[1;33m(\u001b[0m\u001b[0mset\u001b[0m\u001b[1;33m(\u001b[0m\u001b[0mcolumns\u001b[0m\u001b[1;33m)\u001b[0m\u001b[1;33m.\u001b[0m\u001b[0mdifference\u001b[0m\u001b[1;33m(\u001b[0m\u001b[0mset\u001b[0m\u001b[1;33m(\u001b[0m\u001b[0mdataset\u001b[0m\u001b[1;33m.\u001b[0m\u001b[0mcolumn_names\u001b[0m\u001b[1;33m(\u001b[0m\u001b[1;33m)\u001b[0m\u001b[1;33m)\u001b[0m\u001b[1;33m)\u001b[0m\u001b[1;33m)\u001b[0m\u001b[1;33m\u001b[0m\u001b[0m\n\u001b[0;32m    353\u001b[0m         raise ToolkitError(\"The following columns were expected but are \" +\n\u001b[1;32m--> 354\u001b[1;33m                            \"missing: {}\".format(missing_features))\n\u001b[0m\u001b[0;32m    355\u001b[0m \u001b[1;33m\u001b[0m\u001b[0m\n\u001b[0;32m    356\u001b[0m def _raise_error_if_column_exists(dataset, column_name = 'dataset',\n",
      "\u001b[1;31mToolkitError\u001b[0m: The following columns were expected but are missing: ['sentiment']"
     ]
    }
   ],
   "source": []
  },
  {
   "cell_type": "code",
   "execution_count": 55,
   "metadata": {
    "collapsed": false
   },
   "outputs": [
    {
     "data": {
      "text/plain": [
       "dtype: int\n",
       "Rows: 183531\n",
       "[0L, 1L, 1L, 1L, 1L, 1L, 1L, 1L, 1L, 1L, 1L, 1L, 1L, 0L, 1L, 1L, 1L, 1L, 1L, 1L, 1L, 0L, 1L, 0L, 1L, 1L, 1L, 0L, 1L, 1L, 1L, 1L, 1L, 1L, 0L, 1L, 1L, 1L, 1L, 1L, 1L, 0L, 1L, 1L, 1L, 1L, 1L, 1L, 1L, 1L, 0L, 1L, 1L, 0L, 1L, 1L, 1L, 1L, 1L, 1L, 1L, 0L, 1L, 1L, 1L, 1L, 1L, 1L, 1L, 1L, 0L, 0L, 1L, 1L, 1L, 1L, 1L, 1L, 0L, 1L, 0L, 1L, 1L, 1L, 0L, 0L, 1L, 0L, 1L, 0L, 0L, 0L, 1L, 1L, 0L, 1L, 1L, 1L, 1L, 1L, ... ]"
      ]
     },
     "execution_count": 55,
     "metadata": {},
     "output_type": "execute_result"
    }
   ],
   "source": []
  },
  {
   "cell_type": "code",
   "execution_count": 54,
   "metadata": {
    "collapsed": true
   },
   "outputs": [],
   "source": []
  },
  {
   "cell_type": "code",
   "execution_count": 57,
   "metadata": {
    "collapsed": false
   },
   "outputs": [
    {
     "data": {
      "text/html": [
       "<div style=\"max-height:1000px;max-width:1500px;overflow:auto;\"><table frame=\"box\" rules=\"cols\">\n",
       "    <tr>\n",
       "        <th style=\"padding-left: 1em; padding-right: 1em; text-align: center\">name</th>\n",
       "        <th style=\"padding-left: 1em; padding-right: 1em; text-align: center\">review</th>\n",
       "        <th style=\"padding-left: 1em; padding-right: 1em; text-align: center\">rating</th>\n",
       "        <th style=\"padding-left: 1em; padding-right: 1em; text-align: center\">word_count</th>\n",
       "        <th style=\"padding-left: 1em; padding-right: 1em; text-align: center\">awesome</th>\n",
       "        <th style=\"padding-left: 1em; padding-right: 1em; text-align: center\">great</th>\n",
       "        <th style=\"padding-left: 1em; padding-right: 1em; text-align: center\">fantastic</th>\n",
       "    </tr>\n",
       "    <tr>\n",
       "        <td style=\"padding-left: 1em; padding-right: 1em; text-align: center; vertical-align: top\">Planetwise Flannel Wipes</td>\n",
       "        <td style=\"padding-left: 1em; padding-right: 1em; text-align: center; vertical-align: top\">These flannel wipes are<br>OK, but in my opinion ...</td>\n",
       "        <td style=\"padding-left: 1em; padding-right: 1em; text-align: center; vertical-align: top\">3.0</td>\n",
       "        <td style=\"padding-left: 1em; padding-right: 1em; text-align: center; vertical-align: top\">{'and': 5L, 'stink': 1L,<br>'because': 1L, 'order ...</td>\n",
       "        <td style=\"padding-left: 1em; padding-right: 1em; text-align: center; vertical-align: top\">0</td>\n",
       "        <td style=\"padding-left: 1em; padding-right: 1em; text-align: center; vertical-align: top\">0</td>\n",
       "        <td style=\"padding-left: 1em; padding-right: 1em; text-align: center; vertical-align: top\">0</td>\n",
       "    </tr>\n",
       "    <tr>\n",
       "        <td style=\"padding-left: 1em; padding-right: 1em; text-align: center; vertical-align: top\">Planetwise Wipe Pouch</td>\n",
       "        <td style=\"padding-left: 1em; padding-right: 1em; text-align: center; vertical-align: top\">it came early and was not<br>disappointed. i love ...</td>\n",
       "        <td style=\"padding-left: 1em; padding-right: 1em; text-align: center; vertical-align: top\">5.0</td>\n",
       "        <td style=\"padding-left: 1em; padding-right: 1em; text-align: center; vertical-align: top\">{'and': 3L, 'love': 1L,<br>'it': 2L, 'highly': 1L, ...</td>\n",
       "        <td style=\"padding-left: 1em; padding-right: 1em; text-align: center; vertical-align: top\">0</td>\n",
       "        <td style=\"padding-left: 1em; padding-right: 1em; text-align: center; vertical-align: top\">0</td>\n",
       "        <td style=\"padding-left: 1em; padding-right: 1em; text-align: center; vertical-align: top\">0</td>\n",
       "    </tr>\n",
       "    <tr>\n",
       "        <td style=\"padding-left: 1em; padding-right: 1em; text-align: center; vertical-align: top\">Annas Dream Full Quilt<br>with 2 Shams ...</td>\n",
       "        <td style=\"padding-left: 1em; padding-right: 1em; text-align: center; vertical-align: top\">Very soft and comfortable<br>and warmer than it ...</td>\n",
       "        <td style=\"padding-left: 1em; padding-right: 1em; text-align: center; vertical-align: top\">5.0</td>\n",
       "        <td style=\"padding-left: 1em; padding-right: 1em; text-align: center; vertical-align: top\">{'and': 2L, 'quilt': 1L,<br>'it': 1L, 'comfortable': ...</td>\n",
       "        <td style=\"padding-left: 1em; padding-right: 1em; text-align: center; vertical-align: top\">0</td>\n",
       "        <td style=\"padding-left: 1em; padding-right: 1em; text-align: center; vertical-align: top\">0</td>\n",
       "        <td style=\"padding-left: 1em; padding-right: 1em; text-align: center; vertical-align: top\">0</td>\n",
       "    </tr>\n",
       "    <tr>\n",
       "        <td style=\"padding-left: 1em; padding-right: 1em; text-align: center; vertical-align: top\">Stop Pacifier Sucking<br>without tears with ...</td>\n",
       "        <td style=\"padding-left: 1em; padding-right: 1em; text-align: center; vertical-align: top\">This is a product well<br>worth the purchase.  I ...</td>\n",
       "        <td style=\"padding-left: 1em; padding-right: 1em; text-align: center; vertical-align: top\">5.0</td>\n",
       "        <td style=\"padding-left: 1em; padding-right: 1em; text-align: center; vertical-align: top\">{'ingenious': 1L, 'and':<br>3L, 'love': 2L, ...</td>\n",
       "        <td style=\"padding-left: 1em; padding-right: 1em; text-align: center; vertical-align: top\">0</td>\n",
       "        <td style=\"padding-left: 1em; padding-right: 1em; text-align: center; vertical-align: top\">0</td>\n",
       "        <td style=\"padding-left: 1em; padding-right: 1em; text-align: center; vertical-align: top\">0</td>\n",
       "    </tr>\n",
       "    <tr>\n",
       "        <td style=\"padding-left: 1em; padding-right: 1em; text-align: center; vertical-align: top\">Stop Pacifier Sucking<br>without tears with ...</td>\n",
       "        <td style=\"padding-left: 1em; padding-right: 1em; text-align: center; vertical-align: top\">All of my kids have cried<br>non-stop when I tried to ...</td>\n",
       "        <td style=\"padding-left: 1em; padding-right: 1em; text-align: center; vertical-align: top\">5.0</td>\n",
       "        <td style=\"padding-left: 1em; padding-right: 1em; text-align: center; vertical-align: top\">{'and': 2L, 'parents!!':<br>1L, 'all': 2L, 'puppe ...</td>\n",
       "        <td style=\"padding-left: 1em; padding-right: 1em; text-align: center; vertical-align: top\">0</td>\n",
       "        <td style=\"padding-left: 1em; padding-right: 1em; text-align: center; vertical-align: top\">1</td>\n",
       "        <td style=\"padding-left: 1em; padding-right: 1em; text-align: center; vertical-align: top\">0</td>\n",
       "    </tr>\n",
       "    <tr>\n",
       "        <td style=\"padding-left: 1em; padding-right: 1em; text-align: center; vertical-align: top\">Stop Pacifier Sucking<br>without tears with ...</td>\n",
       "        <td style=\"padding-left: 1em; padding-right: 1em; text-align: center; vertical-align: top\">When the Binky Fairy came<br>to our house, we didn't ...</td>\n",
       "        <td style=\"padding-left: 1em; padding-right: 1em; text-align: center; vertical-align: top\">5.0</td>\n",
       "        <td style=\"padding-left: 1em; padding-right: 1em; text-align: center; vertical-align: top\">{'and': 2L, 'cute': 1L,<br>'help': 2L, 'doll': 1L, ...</td>\n",
       "        <td style=\"padding-left: 1em; padding-right: 1em; text-align: center; vertical-align: top\">0</td>\n",
       "        <td style=\"padding-left: 1em; padding-right: 1em; text-align: center; vertical-align: top\">1</td>\n",
       "        <td style=\"padding-left: 1em; padding-right: 1em; text-align: center; vertical-align: top\">0</td>\n",
       "    </tr>\n",
       "    <tr>\n",
       "        <td style=\"padding-left: 1em; padding-right: 1em; text-align: center; vertical-align: top\">A Tale of Baby's Days<br>with Peter Rabbit ...</td>\n",
       "        <td style=\"padding-left: 1em; padding-right: 1em; text-align: center; vertical-align: top\">Lovely book, it's bound<br>tightly so you may no ...</td>\n",
       "        <td style=\"padding-left: 1em; padding-right: 1em; text-align: center; vertical-align: top\">4.0</td>\n",
       "        <td style=\"padding-left: 1em; padding-right: 1em; text-align: center; vertical-align: top\">{'shop': 1L, 'be': 1L,<br>'is': 1L, 'it': 1L, ' ...</td>\n",
       "        <td style=\"padding-left: 1em; padding-right: 1em; text-align: center; vertical-align: top\">0</td>\n",
       "        <td style=\"padding-left: 1em; padding-right: 1em; text-align: center; vertical-align: top\">0</td>\n",
       "        <td style=\"padding-left: 1em; padding-right: 1em; text-align: center; vertical-align: top\">0</td>\n",
       "    </tr>\n",
       "    <tr>\n",
       "        <td style=\"padding-left: 1em; padding-right: 1em; text-align: center; vertical-align: top\">Baby Tracker&amp;reg; - Daily<br>Childcare Journal, ...</td>\n",
       "        <td style=\"padding-left: 1em; padding-right: 1em; text-align: center; vertical-align: top\">Perfect for new parents.<br>We were able to keep ...</td>\n",
       "        <td style=\"padding-left: 1em; padding-right: 1em; text-align: center; vertical-align: top\">5.0</td>\n",
       "        <td style=\"padding-left: 1em; padding-right: 1em; text-align: center; vertical-align: top\">{'feeding,': 1L, 'and':<br>2L, 'all': 1L, 'right': ...</td>\n",
       "        <td style=\"padding-left: 1em; padding-right: 1em; text-align: center; vertical-align: top\">0</td>\n",
       "        <td style=\"padding-left: 1em; padding-right: 1em; text-align: center; vertical-align: top\">0</td>\n",
       "        <td style=\"padding-left: 1em; padding-right: 1em; text-align: center; vertical-align: top\">0</td>\n",
       "    </tr>\n",
       "    <tr>\n",
       "        <td style=\"padding-left: 1em; padding-right: 1em; text-align: center; vertical-align: top\">Baby Tracker&amp;reg; - Daily<br>Childcare Journal, ...</td>\n",
       "        <td style=\"padding-left: 1em; padding-right: 1em; text-align: center; vertical-align: top\">A friend of mine pinned<br>this product on Pinte ...</td>\n",
       "        <td style=\"padding-left: 1em; padding-right: 1em; text-align: center; vertical-align: top\">5.0</td>\n",
       "        <td style=\"padding-left: 1em; padding-right: 1em; text-align: center; vertical-align: top\">{'and': 1L, 'help': 1L,<br>'give': 1L, 'is': 1L, ...</td>\n",
       "        <td style=\"padding-left: 1em; padding-right: 1em; text-align: center; vertical-align: top\">0</td>\n",
       "        <td style=\"padding-left: 1em; padding-right: 1em; text-align: center; vertical-align: top\">0</td>\n",
       "        <td style=\"padding-left: 1em; padding-right: 1em; text-align: center; vertical-align: top\">0</td>\n",
       "    </tr>\n",
       "    <tr>\n",
       "        <td style=\"padding-left: 1em; padding-right: 1em; text-align: center; vertical-align: top\">Baby Tracker&amp;reg; - Daily<br>Childcare Journal, ...</td>\n",
       "        <td style=\"padding-left: 1em; padding-right: 1em; text-align: center; vertical-align: top\">This has been an easy way<br>for my nanny to record ...</td>\n",
       "        <td style=\"padding-left: 1em; padding-right: 1em; text-align: center; vertical-align: top\">4.0</td>\n",
       "        <td style=\"padding-left: 1em; padding-right: 1em; text-align: center; vertical-align: top\">{'journal.': 1L, 'all':<br>1L, 'standarad': 1L, ...</td>\n",
       "        <td style=\"padding-left: 1em; padding-right: 1em; text-align: center; vertical-align: top\">0</td>\n",
       "        <td style=\"padding-left: 1em; padding-right: 1em; text-align: center; vertical-align: top\">0</td>\n",
       "        <td style=\"padding-left: 1em; padding-right: 1em; text-align: center; vertical-align: top\">0</td>\n",
       "    </tr>\n",
       "</table>\n",
       "<table frame=\"box\" rules=\"cols\">\n",
       "    <tr>\n",
       "        <th style=\"padding-left: 1em; padding-right: 1em; text-align: center\">amazing</th>\n",
       "        <th style=\"padding-left: 1em; padding-right: 1em; text-align: center\">love</th>\n",
       "        <th style=\"padding-left: 1em; padding-right: 1em; text-align: center\">horrible</th>\n",
       "        <th style=\"padding-left: 1em; padding-right: 1em; text-align: center\">bad</th>\n",
       "        <th style=\"padding-left: 1em; padding-right: 1em; text-align: center\">terrible</th>\n",
       "        <th style=\"padding-left: 1em; padding-right: 1em; text-align: center\">awful</th>\n",
       "        <th style=\"padding-left: 1em; padding-right: 1em; text-align: center\">wow</th>\n",
       "        <th style=\"padding-left: 1em; padding-right: 1em; text-align: center\">hate</th>\n",
       "        <th style=\"padding-left: 1em; padding-right: 1em; text-align: center\">sentiment</th>\n",
       "    </tr>\n",
       "    <tr>\n",
       "        <td style=\"padding-left: 1em; padding-right: 1em; text-align: center; vertical-align: top\">0</td>\n",
       "        <td style=\"padding-left: 1em; padding-right: 1em; text-align: center; vertical-align: top\">0</td>\n",
       "        <td style=\"padding-left: 1em; padding-right: 1em; text-align: center; vertical-align: top\">0</td>\n",
       "        <td style=\"padding-left: 1em; padding-right: 1em; text-align: center; vertical-align: top\">0</td>\n",
       "        <td style=\"padding-left: 1em; padding-right: 1em; text-align: center; vertical-align: top\">0</td>\n",
       "        <td style=\"padding-left: 1em; padding-right: 1em; text-align: center; vertical-align: top\">0</td>\n",
       "        <td style=\"padding-left: 1em; padding-right: 1em; text-align: center; vertical-align: top\">0</td>\n",
       "        <td style=\"padding-left: 1em; padding-right: 1em; text-align: center; vertical-align: top\">0</td>\n",
       "        <td style=\"padding-left: 1em; padding-right: 1em; text-align: center; vertical-align: top\">0</td>\n",
       "    </tr>\n",
       "    <tr>\n",
       "        <td style=\"padding-left: 1em; padding-right: 1em; text-align: center; vertical-align: top\">0</td>\n",
       "        <td style=\"padding-left: 1em; padding-right: 1em; text-align: center; vertical-align: top\">1</td>\n",
       "        <td style=\"padding-left: 1em; padding-right: 1em; text-align: center; vertical-align: top\">0</td>\n",
       "        <td style=\"padding-left: 1em; padding-right: 1em; text-align: center; vertical-align: top\">0</td>\n",
       "        <td style=\"padding-left: 1em; padding-right: 1em; text-align: center; vertical-align: top\">0</td>\n",
       "        <td style=\"padding-left: 1em; padding-right: 1em; text-align: center; vertical-align: top\">0</td>\n",
       "        <td style=\"padding-left: 1em; padding-right: 1em; text-align: center; vertical-align: top\">0</td>\n",
       "        <td style=\"padding-left: 1em; padding-right: 1em; text-align: center; vertical-align: top\">0</td>\n",
       "        <td style=\"padding-left: 1em; padding-right: 1em; text-align: center; vertical-align: top\">1</td>\n",
       "    </tr>\n",
       "    <tr>\n",
       "        <td style=\"padding-left: 1em; padding-right: 1em; text-align: center; vertical-align: top\">0</td>\n",
       "        <td style=\"padding-left: 1em; padding-right: 1em; text-align: center; vertical-align: top\">0</td>\n",
       "        <td style=\"padding-left: 1em; padding-right: 1em; text-align: center; vertical-align: top\">0</td>\n",
       "        <td style=\"padding-left: 1em; padding-right: 1em; text-align: center; vertical-align: top\">0</td>\n",
       "        <td style=\"padding-left: 1em; padding-right: 1em; text-align: center; vertical-align: top\">0</td>\n",
       "        <td style=\"padding-left: 1em; padding-right: 1em; text-align: center; vertical-align: top\">0</td>\n",
       "        <td style=\"padding-left: 1em; padding-right: 1em; text-align: center; vertical-align: top\">0</td>\n",
       "        <td style=\"padding-left: 1em; padding-right: 1em; text-align: center; vertical-align: top\">0</td>\n",
       "        <td style=\"padding-left: 1em; padding-right: 1em; text-align: center; vertical-align: top\">1</td>\n",
       "    </tr>\n",
       "    <tr>\n",
       "        <td style=\"padding-left: 1em; padding-right: 1em; text-align: center; vertical-align: top\">0</td>\n",
       "        <td style=\"padding-left: 1em; padding-right: 1em; text-align: center; vertical-align: top\">2</td>\n",
       "        <td style=\"padding-left: 1em; padding-right: 1em; text-align: center; vertical-align: top\">0</td>\n",
       "        <td style=\"padding-left: 1em; padding-right: 1em; text-align: center; vertical-align: top\">0</td>\n",
       "        <td style=\"padding-left: 1em; padding-right: 1em; text-align: center; vertical-align: top\">0</td>\n",
       "        <td style=\"padding-left: 1em; padding-right: 1em; text-align: center; vertical-align: top\">0</td>\n",
       "        <td style=\"padding-left: 1em; padding-right: 1em; text-align: center; vertical-align: top\">0</td>\n",
       "        <td style=\"padding-left: 1em; padding-right: 1em; text-align: center; vertical-align: top\">0</td>\n",
       "        <td style=\"padding-left: 1em; padding-right: 1em; text-align: center; vertical-align: top\">1</td>\n",
       "    </tr>\n",
       "    <tr>\n",
       "        <td style=\"padding-left: 1em; padding-right: 1em; text-align: center; vertical-align: top\">0</td>\n",
       "        <td style=\"padding-left: 1em; padding-right: 1em; text-align: center; vertical-align: top\">0</td>\n",
       "        <td style=\"padding-left: 1em; padding-right: 1em; text-align: center; vertical-align: top\">0</td>\n",
       "        <td style=\"padding-left: 1em; padding-right: 1em; text-align: center; vertical-align: top\">0</td>\n",
       "        <td style=\"padding-left: 1em; padding-right: 1em; text-align: center; vertical-align: top\">0</td>\n",
       "        <td style=\"padding-left: 1em; padding-right: 1em; text-align: center; vertical-align: top\">0</td>\n",
       "        <td style=\"padding-left: 1em; padding-right: 1em; text-align: center; vertical-align: top\">0</td>\n",
       "        <td style=\"padding-left: 1em; padding-right: 1em; text-align: center; vertical-align: top\">0</td>\n",
       "        <td style=\"padding-left: 1em; padding-right: 1em; text-align: center; vertical-align: top\">1</td>\n",
       "    </tr>\n",
       "    <tr>\n",
       "        <td style=\"padding-left: 1em; padding-right: 1em; text-align: center; vertical-align: top\">0</td>\n",
       "        <td style=\"padding-left: 1em; padding-right: 1em; text-align: center; vertical-align: top\">0</td>\n",
       "        <td style=\"padding-left: 1em; padding-right: 1em; text-align: center; vertical-align: top\">0</td>\n",
       "        <td style=\"padding-left: 1em; padding-right: 1em; text-align: center; vertical-align: top\">0</td>\n",
       "        <td style=\"padding-left: 1em; padding-right: 1em; text-align: center; vertical-align: top\">0</td>\n",
       "        <td style=\"padding-left: 1em; padding-right: 1em; text-align: center; vertical-align: top\">0</td>\n",
       "        <td style=\"padding-left: 1em; padding-right: 1em; text-align: center; vertical-align: top\">0</td>\n",
       "        <td style=\"padding-left: 1em; padding-right: 1em; text-align: center; vertical-align: top\">0</td>\n",
       "        <td style=\"padding-left: 1em; padding-right: 1em; text-align: center; vertical-align: top\">1</td>\n",
       "    </tr>\n",
       "    <tr>\n",
       "        <td style=\"padding-left: 1em; padding-right: 1em; text-align: center; vertical-align: top\">0</td>\n",
       "        <td style=\"padding-left: 1em; padding-right: 1em; text-align: center; vertical-align: top\">0</td>\n",
       "        <td style=\"padding-left: 1em; padding-right: 1em; text-align: center; vertical-align: top\">0</td>\n",
       "        <td style=\"padding-left: 1em; padding-right: 1em; text-align: center; vertical-align: top\">0</td>\n",
       "        <td style=\"padding-left: 1em; padding-right: 1em; text-align: center; vertical-align: top\">0</td>\n",
       "        <td style=\"padding-left: 1em; padding-right: 1em; text-align: center; vertical-align: top\">0</td>\n",
       "        <td style=\"padding-left: 1em; padding-right: 1em; text-align: center; vertical-align: top\">0</td>\n",
       "        <td style=\"padding-left: 1em; padding-right: 1em; text-align: center; vertical-align: top\">0</td>\n",
       "        <td style=\"padding-left: 1em; padding-right: 1em; text-align: center; vertical-align: top\">1</td>\n",
       "    </tr>\n",
       "    <tr>\n",
       "        <td style=\"padding-left: 1em; padding-right: 1em; text-align: center; vertical-align: top\">0</td>\n",
       "        <td style=\"padding-left: 1em; padding-right: 1em; text-align: center; vertical-align: top\">0</td>\n",
       "        <td style=\"padding-left: 1em; padding-right: 1em; text-align: center; vertical-align: top\">0</td>\n",
       "        <td style=\"padding-left: 1em; padding-right: 1em; text-align: center; vertical-align: top\">0</td>\n",
       "        <td style=\"padding-left: 1em; padding-right: 1em; text-align: center; vertical-align: top\">0</td>\n",
       "        <td style=\"padding-left: 1em; padding-right: 1em; text-align: center; vertical-align: top\">0</td>\n",
       "        <td style=\"padding-left: 1em; padding-right: 1em; text-align: center; vertical-align: top\">0</td>\n",
       "        <td style=\"padding-left: 1em; padding-right: 1em; text-align: center; vertical-align: top\">0</td>\n",
       "        <td style=\"padding-left: 1em; padding-right: 1em; text-align: center; vertical-align: top\">1</td>\n",
       "    </tr>\n",
       "    <tr>\n",
       "        <td style=\"padding-left: 1em; padding-right: 1em; text-align: center; vertical-align: top\">0</td>\n",
       "        <td style=\"padding-left: 1em; padding-right: 1em; text-align: center; vertical-align: top\">0</td>\n",
       "        <td style=\"padding-left: 1em; padding-right: 1em; text-align: center; vertical-align: top\">0</td>\n",
       "        <td style=\"padding-left: 1em; padding-right: 1em; text-align: center; vertical-align: top\">0</td>\n",
       "        <td style=\"padding-left: 1em; padding-right: 1em; text-align: center; vertical-align: top\">0</td>\n",
       "        <td style=\"padding-left: 1em; padding-right: 1em; text-align: center; vertical-align: top\">0</td>\n",
       "        <td style=\"padding-left: 1em; padding-right: 1em; text-align: center; vertical-align: top\">0</td>\n",
       "        <td style=\"padding-left: 1em; padding-right: 1em; text-align: center; vertical-align: top\">0</td>\n",
       "        <td style=\"padding-left: 1em; padding-right: 1em; text-align: center; vertical-align: top\">1</td>\n",
       "    </tr>\n",
       "    <tr>\n",
       "        <td style=\"padding-left: 1em; padding-right: 1em; text-align: center; vertical-align: top\">0</td>\n",
       "        <td style=\"padding-left: 1em; padding-right: 1em; text-align: center; vertical-align: top\">0</td>\n",
       "        <td style=\"padding-left: 1em; padding-right: 1em; text-align: center; vertical-align: top\">0</td>\n",
       "        <td style=\"padding-left: 1em; padding-right: 1em; text-align: center; vertical-align: top\">0</td>\n",
       "        <td style=\"padding-left: 1em; padding-right: 1em; text-align: center; vertical-align: top\">0</td>\n",
       "        <td style=\"padding-left: 1em; padding-right: 1em; text-align: center; vertical-align: top\">0</td>\n",
       "        <td style=\"padding-left: 1em; padding-right: 1em; text-align: center; vertical-align: top\">0</td>\n",
       "        <td style=\"padding-left: 1em; padding-right: 1em; text-align: center; vertical-align: top\">0</td>\n",
       "        <td style=\"padding-left: 1em; padding-right: 1em; text-align: center; vertical-align: top\">1</td>\n",
       "    </tr>\n",
       "</table>\n",
       "[183531 rows x 16 columns]<br/>Note: Only the head of the SFrame is printed.<br/>You can use print_rows(num_rows=m, num_columns=n) to print more rows and columns.\n",
       "</div>"
      ],
      "text/plain": [
       "Columns:\n",
       "\tname\tstr\n",
       "\treview\tstr\n",
       "\trating\tfloat\n",
       "\tword_count\tdict\n",
       "\tawesome\tint\n",
       "\tgreat\tint\n",
       "\tfantastic\tint\n",
       "\tamazing\tint\n",
       "\tlove\tint\n",
       "\thorrible\tint\n",
       "\tbad\tint\n",
       "\tterrible\tint\n",
       "\tawful\tint\n",
       "\twow\tint\n",
       "\thate\tint\n",
       "\tsentiment\tint\n",
       "\n",
       "Rows: 183531\n",
       "\n",
       "Data:\n",
       "+-------------------------------+-------------------------------+--------+\n",
       "|              name             |             review            | rating |\n",
       "+-------------------------------+-------------------------------+--------+\n",
       "|    Planetwise Flannel Wipes   | These flannel wipes are OK... |  3.0   |\n",
       "|     Planetwise Wipe Pouch     | it came early and was not ... |  5.0   |\n",
       "| Annas Dream Full Quilt wit... | Very soft and comfortable ... |  5.0   |\n",
       "| Stop Pacifier Sucking with... | This is a product well wor... |  5.0   |\n",
       "| Stop Pacifier Sucking with... | All of my kids have cried ... |  5.0   |\n",
       "| Stop Pacifier Sucking with... | When the Binky Fairy came ... |  5.0   |\n",
       "| A Tale of Baby's Days with... | Lovely book, it's bound ti... |  4.0   |\n",
       "| Baby Tracker&reg; - Daily ... | Perfect for new parents. W... |  5.0   |\n",
       "| Baby Tracker&reg; - Daily ... | A friend of mine pinned th... |  5.0   |\n",
       "| Baby Tracker&reg; - Daily ... | This has been an easy way ... |  4.0   |\n",
       "+-------------------------------+-------------------------------+--------+\n",
       "+-------------------------------+---------+-------+-----------+---------+------+\n",
       "|           word_count          | awesome | great | fantastic | amazing | love |\n",
       "+-------------------------------+---------+-------+-----------+---------+------+\n",
       "| {'and': 5L, 'stink': 1L, '... |    0    |   0   |     0     |    0    |  0   |\n",
       "| {'and': 3L, 'love': 1L, 'i... |    0    |   0   |     0     |    0    |  1   |\n",
       "| {'and': 2L, 'quilt': 1L, '... |    0    |   0   |     0     |    0    |  0   |\n",
       "| {'ingenious': 1L, 'and': 3... |    0    |   0   |     0     |    0    |  2   |\n",
       "| {'and': 2L, 'parents!!': 1... |    0    |   1   |     0     |    0    |  0   |\n",
       "| {'and': 2L, 'cute': 1L, 'h... |    0    |   1   |     0     |    0    |  0   |\n",
       "| {'shop': 1L, 'be': 1L, 'is... |    0    |   0   |     0     |    0    |  0   |\n",
       "| {'feeding,': 1L, 'and': 2L... |    0    |   0   |     0     |    0    |  0   |\n",
       "| {'and': 1L, 'help': 1L, 'g... |    0    |   0   |     0     |    0    |  0   |\n",
       "| {'journal.': 1L, 'all': 1L... |    0    |   0   |     0     |    0    |  0   |\n",
       "+-------------------------------+---------+-------+-----------+---------+------+\n",
       "+----------+-----+----------+-------+-----+------+-----------+\n",
       "| horrible | bad | terrible | awful | wow | hate | sentiment |\n",
       "+----------+-----+----------+-------+-----+------+-----------+\n",
       "|    0     |  0  |    0     |   0   |  0  |  0   |     0     |\n",
       "|    0     |  0  |    0     |   0   |  0  |  0   |     1     |\n",
       "|    0     |  0  |    0     |   0   |  0  |  0   |     1     |\n",
       "|    0     |  0  |    0     |   0   |  0  |  0   |     1     |\n",
       "|    0     |  0  |    0     |   0   |  0  |  0   |     1     |\n",
       "|    0     |  0  |    0     |   0   |  0  |  0   |     1     |\n",
       "|    0     |  0  |    0     |   0   |  0  |  0   |     1     |\n",
       "|    0     |  0  |    0     |   0   |  0  |  0   |     1     |\n",
       "|    0     |  0  |    0     |   0   |  0  |  0   |     1     |\n",
       "|    0     |  0  |    0     |   0   |  0  |  0   |     1     |\n",
       "+----------+-----+----------+-------+-----+------+-----------+\n",
       "[183531 rows x 16 columns]\n",
       "Note: Only the head of the SFrame is printed.\n",
       "You can use print_rows(num_rows=m, num_columns=n) to print more rows and columns."
      ]
     },
     "execution_count": 57,
     "metadata": {},
     "output_type": "execute_result"
    }
   ],
   "source": []
  },
  {
   "cell_type": "code",
   "execution_count": 61,
   "metadata": {
    "collapsed": false
   },
   "outputs": [
    {
     "data": {
      "text/html": [
       "<pre>Logistic regression:</pre>"
      ],
      "text/plain": [
       "Logistic regression:"
      ]
     },
     "metadata": {},
     "output_type": "display_data"
    },
    {
     "data": {
      "text/html": [
       "<pre>--------------------------------------------------------</pre>"
      ],
      "text/plain": [
       "--------------------------------------------------------"
      ]
     },
     "metadata": {},
     "output_type": "display_data"
    },
    {
     "data": {
      "text/html": [
       "<pre>Number of examples          : 146861</pre>"
      ],
      "text/plain": [
       "Number of examples          : 146861"
      ]
     },
     "metadata": {},
     "output_type": "display_data"
    },
    {
     "data": {
      "text/html": [
       "<pre>Number of classes           : 2</pre>"
      ],
      "text/plain": [
       "Number of classes           : 2"
      ]
     },
     "metadata": {},
     "output_type": "display_data"
    },
    {
     "data": {
      "text/html": [
       "<pre>Number of feature columns   : 11</pre>"
      ],
      "text/plain": [
       "Number of feature columns   : 11"
      ]
     },
     "metadata": {},
     "output_type": "display_data"
    },
    {
     "data": {
      "text/html": [
       "<pre>Number of unpacked features : 11</pre>"
      ],
      "text/plain": [
       "Number of unpacked features : 11"
      ]
     },
     "metadata": {},
     "output_type": "display_data"
    },
    {
     "data": {
      "text/html": [
       "<pre>Number of coefficients    : 12</pre>"
      ],
      "text/plain": [
       "Number of coefficients    : 12"
      ]
     },
     "metadata": {},
     "output_type": "display_data"
    },
    {
     "data": {
      "text/html": [
       "<pre>Starting Newton Method</pre>"
      ],
      "text/plain": [
       "Starting Newton Method"
      ]
     },
     "metadata": {},
     "output_type": "display_data"
    },
    {
     "data": {
      "text/html": [
       "<pre>--------------------------------------------------------</pre>"
      ],
      "text/plain": [
       "--------------------------------------------------------"
      ]
     },
     "metadata": {},
     "output_type": "display_data"
    },
    {
     "data": {
      "text/html": [
       "<pre>+-----------+----------+--------------+-------------------+---------------------+</pre>"
      ],
      "text/plain": [
       "+-----------+----------+--------------+-------------------+---------------------+"
      ]
     },
     "metadata": {},
     "output_type": "display_data"
    },
    {
     "data": {
      "text/html": [
       "<pre>| Iteration | Passes   | Elapsed Time | Training-accuracy | Validation-accuracy |</pre>"
      ],
      "text/plain": [
       "| Iteration | Passes   | Elapsed Time | Training-accuracy | Validation-accuracy |"
      ]
     },
     "metadata": {},
     "output_type": "display_data"
    },
    {
     "data": {
      "text/html": [
       "<pre>+-----------+----------+--------------+-------------------+---------------------+</pre>"
      ],
      "text/plain": [
       "+-----------+----------+--------------+-------------------+---------------------+"
      ]
     },
     "metadata": {},
     "output_type": "display_data"
    },
    {
     "data": {
      "text/html": [
       "<pre>| 1         | 2        | 1.388152     | 0.768182          | 0.767903            |</pre>"
      ],
      "text/plain": [
       "| 1         | 2        | 1.388152     | 0.768182          | 0.767903            |"
      ]
     },
     "metadata": {},
     "output_type": "display_data"
    },
    {
     "data": {
      "text/html": [
       "<pre>| 2         | 3        | 1.574987     | 0.768332          | 0.767985            |</pre>"
      ],
      "text/plain": [
       "| 2         | 3        | 1.574987     | 0.768332          | 0.767985            |"
      ]
     },
     "metadata": {},
     "output_type": "display_data"
    },
    {
     "data": {
      "text/html": [
       "<pre>| 3         | 4        | 1.748585     | 0.768747          | 0.767712            |</pre>"
      ],
      "text/plain": [
       "| 3         | 4        | 1.748585     | 0.768747          | 0.767712            |"
      ]
     },
     "metadata": {},
     "output_type": "display_data"
    },
    {
     "data": {
      "text/html": [
       "<pre>| 4         | 5        | 1.957329     | 0.768747          | 0.767712            |</pre>"
      ],
      "text/plain": [
       "| 4         | 5        | 1.957329     | 0.768747          | 0.767712            |"
      ]
     },
     "metadata": {},
     "output_type": "display_data"
    },
    {
     "data": {
      "text/html": [
       "<pre>| 5         | 6        | 2.155052     | 0.768747          | 0.767712            |</pre>"
      ],
      "text/plain": [
       "| 5         | 6        | 2.155052     | 0.768747          | 0.767712            |"
      ]
     },
     "metadata": {},
     "output_type": "display_data"
    },
    {
     "data": {
      "text/html": [
       "<pre>+-----------+----------+--------------+-------------------+---------------------+</pre>"
      ],
      "text/plain": [
       "+-----------+----------+--------------+-------------------+---------------------+"
      ]
     },
     "metadata": {},
     "output_type": "display_data"
    },
    {
     "data": {
      "text/html": [
       "<pre>SUCCESS: Optimal solution found.</pre>"
      ],
      "text/plain": [
       "SUCCESS: Optimal solution found."
      ]
     },
     "metadata": {},
     "output_type": "display_data"
    },
    {
     "data": {
      "text/html": [
       "<pre></pre>"
      ],
      "text/plain": []
     },
     "metadata": {},
     "output_type": "display_data"
    }
   ],
   "source": []
  },
  {
   "cell_type": "code",
   "execution_count": 90,
   "metadata": {
    "collapsed": false
   },
   "outputs": [
    {
     "data": {
      "text/html": [
       "<pre></pre>"
      ],
      "text/plain": []
     },
     "metadata": {},
     "output_type": "display_data"
    },
    {
     "data": {
      "text/html": [
       "<div style=\"max-height:1000px;max-width:1500px;overflow:auto;\"><table frame=\"box\" rules=\"cols\">\n",
       "    <tr>\n",
       "        <th style=\"padding-left: 1em; padding-right: 1em; text-align: center\">name</th>\n",
       "        <th style=\"padding-left: 1em; padding-right: 1em; text-align: center\">index</th>\n",
       "        <th style=\"padding-left: 1em; padding-right: 1em; text-align: center\">class</th>\n",
       "        <th style=\"padding-left: 1em; padding-right: 1em; text-align: center\">value</th>\n",
       "        <th style=\"padding-left: 1em; padding-right: 1em; text-align: center\">stderr</th>\n",
       "    </tr>\n",
       "    <tr>\n",
       "        <td style=\"padding-left: 1em; padding-right: 1em; text-align: center; vertical-align: top\">(intercept)</td>\n",
       "        <td style=\"padding-left: 1em; padding-right: 1em; text-align: center; vertical-align: top\">None</td>\n",
       "        <td style=\"padding-left: 1em; padding-right: 1em; text-align: center; vertical-align: top\">1</td>\n",
       "        <td style=\"padding-left: 1em; padding-right: 1em; text-align: center; vertical-align: top\">0.899735119511</td>\n",
       "        <td style=\"padding-left: 1em; padding-right: 1em; text-align: center; vertical-align: top\">0.00717026186532</td>\n",
       "    </tr>\n",
       "    <tr>\n",
       "        <td style=\"padding-left: 1em; padding-right: 1em; text-align: center; vertical-align: top\">awesome</td>\n",
       "        <td style=\"padding-left: 1em; padding-right: 1em; text-align: center; vertical-align: top\">None</td>\n",
       "        <td style=\"padding-left: 1em; padding-right: 1em; text-align: center; vertical-align: top\">1</td>\n",
       "        <td style=\"padding-left: 1em; padding-right: 1em; text-align: center; vertical-align: top\">1.00625649388</td>\n",
       "        <td style=\"padding-left: 1em; padding-right: 1em; text-align: center; vertical-align: top\">0.0865938486142</td>\n",
       "    </tr>\n",
       "    <tr>\n",
       "        <td style=\"padding-left: 1em; padding-right: 1em; text-align: center; vertical-align: top\">great</td>\n",
       "        <td style=\"padding-left: 1em; padding-right: 1em; text-align: center; vertical-align: top\">None</td>\n",
       "        <td style=\"padding-left: 1em; padding-right: 1em; text-align: center; vertical-align: top\">1</td>\n",
       "        <td style=\"padding-left: 1em; padding-right: 1em; text-align: center; vertical-align: top\">0.699683829426</td>\n",
       "        <td style=\"padding-left: 1em; padding-right: 1em; text-align: center; vertical-align: top\">0.0159519289269</td>\n",
       "    </tr>\n",
       "    <tr>\n",
       "        <td style=\"padding-left: 1em; padding-right: 1em; text-align: center; vertical-align: top\">fantastic</td>\n",
       "        <td style=\"padding-left: 1em; padding-right: 1em; text-align: center; vertical-align: top\">None</td>\n",
       "        <td style=\"padding-left: 1em; padding-right: 1em; text-align: center; vertical-align: top\">1</td>\n",
       "        <td style=\"padding-left: 1em; padding-right: 1em; text-align: center; vertical-align: top\">0.699443114061</td>\n",
       "        <td style=\"padding-left: 1em; padding-right: 1em; text-align: center; vertical-align: top\">0.115103829798</td>\n",
       "    </tr>\n",
       "    <tr>\n",
       "        <td style=\"padding-left: 1em; padding-right: 1em; text-align: center; vertical-align: top\">amazing</td>\n",
       "        <td style=\"padding-left: 1em; padding-right: 1em; text-align: center; vertical-align: top\">None</td>\n",
       "        <td style=\"padding-left: 1em; padding-right: 1em; text-align: center; vertical-align: top\">1</td>\n",
       "        <td style=\"padding-left: 1em; padding-right: 1em; text-align: center; vertical-align: top\">0.892025920947</td>\n",
       "        <td style=\"padding-left: 1em; padding-right: 1em; text-align: center; vertical-align: top\">0.102852435149</td>\n",
       "    </tr>\n",
       "    <tr>\n",
       "        <td style=\"padding-left: 1em; padding-right: 1em; text-align: center; vertical-align: top\">love</td>\n",
       "        <td style=\"padding-left: 1em; padding-right: 1em; text-align: center; vertical-align: top\">None</td>\n",
       "        <td style=\"padding-left: 1em; padding-right: 1em; text-align: center; vertical-align: top\">1</td>\n",
       "        <td style=\"padding-left: 1em; padding-right: 1em; text-align: center; vertical-align: top\">1.15720106058</td>\n",
       "        <td style=\"padding-left: 1em; padding-right: 1em; text-align: center; vertical-align: top\">0.0202619223313</td>\n",
       "    </tr>\n",
       "    <tr>\n",
       "        <td style=\"padding-left: 1em; padding-right: 1em; text-align: center; vertical-align: top\">horrible</td>\n",
       "        <td style=\"padding-left: 1em; padding-right: 1em; text-align: center; vertical-align: top\">None</td>\n",
       "        <td style=\"padding-left: 1em; padding-right: 1em; text-align: center; vertical-align: top\">1</td>\n",
       "        <td style=\"padding-left: 1em; padding-right: 1em; text-align: center; vertical-align: top\">-1.75774666269</td>\n",
       "        <td style=\"padding-left: 1em; padding-right: 1em; text-align: center; vertical-align: top\">0.0948804076821</td>\n",
       "    </tr>\n",
       "    <tr>\n",
       "        <td style=\"padding-left: 1em; padding-right: 1em; text-align: center; vertical-align: top\">bad</td>\n",
       "        <td style=\"padding-left: 1em; padding-right: 1em; text-align: center; vertical-align: top\">None</td>\n",
       "        <td style=\"padding-left: 1em; padding-right: 1em; text-align: center; vertical-align: top\">1</td>\n",
       "        <td style=\"padding-left: 1em; padding-right: 1em; text-align: center; vertical-align: top\">-0.904090478755</td>\n",
       "        <td style=\"padding-left: 1em; padding-right: 1em; text-align: center; vertical-align: top\">0.0383264123099</td>\n",
       "    </tr>\n",
       "    <tr>\n",
       "        <td style=\"padding-left: 1em; padding-right: 1em; text-align: center; vertical-align: top\">terrible</td>\n",
       "        <td style=\"padding-left: 1em; padding-right: 1em; text-align: center; vertical-align: top\">None</td>\n",
       "        <td style=\"padding-left: 1em; padding-right: 1em; text-align: center; vertical-align: top\">1</td>\n",
       "        <td style=\"padding-left: 1em; padding-right: 1em; text-align: center; vertical-align: top\">-1.73568678121</td>\n",
       "        <td style=\"padding-left: 1em; padding-right: 1em; text-align: center; vertical-align: top\">0.0918085586601</td>\n",
       "    </tr>\n",
       "    <tr>\n",
       "        <td style=\"padding-left: 1em; padding-right: 1em; text-align: center; vertical-align: top\">awful</td>\n",
       "        <td style=\"padding-left: 1em; padding-right: 1em; text-align: center; vertical-align: top\">None</td>\n",
       "        <td style=\"padding-left: 1em; padding-right: 1em; text-align: center; vertical-align: top\">1</td>\n",
       "        <td style=\"padding-left: 1em; padding-right: 1em; text-align: center; vertical-align: top\">-1.43812417008</td>\n",
       "        <td style=\"padding-left: 1em; padding-right: 1em; text-align: center; vertical-align: top\">0.126616629284</td>\n",
       "    </tr>\n",
       "</table>\n",
       "[12 rows x 5 columns]<br/>Note: Only the head of the SFrame is printed.<br/>You can use print_rows(num_rows=m, num_columns=n) to print more rows and columns.\n",
       "</div>"
      ],
      "text/plain": [
       "Columns:\n",
       "\tname\tstr\n",
       "\tindex\tstr\n",
       "\tclass\tint\n",
       "\tvalue\tfloat\n",
       "\tstderr\tfloat\n",
       "\n",
       "Rows: 12\n",
       "\n",
       "Data:\n",
       "+-------------+-------+-------+-----------------+------------------+\n",
       "|     name    | index | class |      value      |      stderr      |\n",
       "+-------------+-------+-------+-----------------+------------------+\n",
       "| (intercept) |  None |   1   |  0.899735119511 | 0.00717026186532 |\n",
       "|   awesome   |  None |   1   |  1.00625649388  | 0.0865938486142  |\n",
       "|    great    |  None |   1   |  0.699683829426 | 0.0159519289269  |\n",
       "|  fantastic  |  None |   1   |  0.699443114061 |  0.115103829798  |\n",
       "|   amazing   |  None |   1   |  0.892025920947 |  0.102852435149  |\n",
       "|     love    |  None |   1   |  1.15720106058  | 0.0202619223313  |\n",
       "|   horrible  |  None |   1   |  -1.75774666269 | 0.0948804076821  |\n",
       "|     bad     |  None |   1   | -0.904090478755 | 0.0383264123099  |\n",
       "|   terrible  |  None |   1   |  -1.73568678121 | 0.0918085586601  |\n",
       "|    awful    |  None |   1   |  -1.43812417008 |  0.126616629284  |\n",
       "+-------------+-------+-------+-----------------+------------------+\n",
       "[12 rows x 5 columns]\n",
       "Note: Only the head of the SFrame is printed.\n",
       "You can use print_rows(num_rows=m, num_columns=n) to print more rows and columns."
      ]
     },
     "execution_count": 90,
     "metadata": {},
     "output_type": "execute_result"
    }
   ],
   "source": [
    "selected_words_model['coefficients']\n"
   ]
  },
  {
   "cell_type": "code",
   "execution_count": 91,
   "metadata": {
    "collapsed": true
   },
   "outputs": [],
   "source": [
    "selected_words_review = selected_words_model['coefficients']"
   ]
  },
  {
   "cell_type": "code",
   "execution_count": 92,
   "metadata": {
    "collapsed": false
   },
   "outputs": [
    {
     "data": {
      "text/html": [
       "<div style=\"max-height:1000px;max-width:1500px;overflow:auto;\"><table frame=\"box\" rules=\"cols\">\n",
       "    <tr>\n",
       "        <th style=\"padding-left: 1em; padding-right: 1em; text-align: center\">name</th>\n",
       "        <th style=\"padding-left: 1em; padding-right: 1em; text-align: center\">index</th>\n",
       "        <th style=\"padding-left: 1em; padding-right: 1em; text-align: center\">class</th>\n",
       "        <th style=\"padding-left: 1em; padding-right: 1em; text-align: center\">value</th>\n",
       "        <th style=\"padding-left: 1em; padding-right: 1em; text-align: center\">stderr</th>\n",
       "    </tr>\n",
       "    <tr>\n",
       "        <td style=\"padding-left: 1em; padding-right: 1em; text-align: center; vertical-align: top\">(intercept)</td>\n",
       "        <td style=\"padding-left: 1em; padding-right: 1em; text-align: center; vertical-align: top\">None</td>\n",
       "        <td style=\"padding-left: 1em; padding-right: 1em; text-align: center; vertical-align: top\">1</td>\n",
       "        <td style=\"padding-left: 1em; padding-right: 1em; text-align: center; vertical-align: top\">0.899735119511</td>\n",
       "        <td style=\"padding-left: 1em; padding-right: 1em; text-align: center; vertical-align: top\">0.00717026186532</td>\n",
       "    </tr>\n",
       "    <tr>\n",
       "        <td style=\"padding-left: 1em; padding-right: 1em; text-align: center; vertical-align: top\">awesome</td>\n",
       "        <td style=\"padding-left: 1em; padding-right: 1em; text-align: center; vertical-align: top\">None</td>\n",
       "        <td style=\"padding-left: 1em; padding-right: 1em; text-align: center; vertical-align: top\">1</td>\n",
       "        <td style=\"padding-left: 1em; padding-right: 1em; text-align: center; vertical-align: top\">1.00625649388</td>\n",
       "        <td style=\"padding-left: 1em; padding-right: 1em; text-align: center; vertical-align: top\">0.0865938486142</td>\n",
       "    </tr>\n",
       "    <tr>\n",
       "        <td style=\"padding-left: 1em; padding-right: 1em; text-align: center; vertical-align: top\">great</td>\n",
       "        <td style=\"padding-left: 1em; padding-right: 1em; text-align: center; vertical-align: top\">None</td>\n",
       "        <td style=\"padding-left: 1em; padding-right: 1em; text-align: center; vertical-align: top\">1</td>\n",
       "        <td style=\"padding-left: 1em; padding-right: 1em; text-align: center; vertical-align: top\">0.699683829426</td>\n",
       "        <td style=\"padding-left: 1em; padding-right: 1em; text-align: center; vertical-align: top\">0.0159519289269</td>\n",
       "    </tr>\n",
       "    <tr>\n",
       "        <td style=\"padding-left: 1em; padding-right: 1em; text-align: center; vertical-align: top\">fantastic</td>\n",
       "        <td style=\"padding-left: 1em; padding-right: 1em; text-align: center; vertical-align: top\">None</td>\n",
       "        <td style=\"padding-left: 1em; padding-right: 1em; text-align: center; vertical-align: top\">1</td>\n",
       "        <td style=\"padding-left: 1em; padding-right: 1em; text-align: center; vertical-align: top\">0.699443114061</td>\n",
       "        <td style=\"padding-left: 1em; padding-right: 1em; text-align: center; vertical-align: top\">0.115103829798</td>\n",
       "    </tr>\n",
       "    <tr>\n",
       "        <td style=\"padding-left: 1em; padding-right: 1em; text-align: center; vertical-align: top\">amazing</td>\n",
       "        <td style=\"padding-left: 1em; padding-right: 1em; text-align: center; vertical-align: top\">None</td>\n",
       "        <td style=\"padding-left: 1em; padding-right: 1em; text-align: center; vertical-align: top\">1</td>\n",
       "        <td style=\"padding-left: 1em; padding-right: 1em; text-align: center; vertical-align: top\">0.892025920947</td>\n",
       "        <td style=\"padding-left: 1em; padding-right: 1em; text-align: center; vertical-align: top\">0.102852435149</td>\n",
       "    </tr>\n",
       "    <tr>\n",
       "        <td style=\"padding-left: 1em; padding-right: 1em; text-align: center; vertical-align: top\">love</td>\n",
       "        <td style=\"padding-left: 1em; padding-right: 1em; text-align: center; vertical-align: top\">None</td>\n",
       "        <td style=\"padding-left: 1em; padding-right: 1em; text-align: center; vertical-align: top\">1</td>\n",
       "        <td style=\"padding-left: 1em; padding-right: 1em; text-align: center; vertical-align: top\">1.15720106058</td>\n",
       "        <td style=\"padding-left: 1em; padding-right: 1em; text-align: center; vertical-align: top\">0.0202619223313</td>\n",
       "    </tr>\n",
       "    <tr>\n",
       "        <td style=\"padding-left: 1em; padding-right: 1em; text-align: center; vertical-align: top\">horrible</td>\n",
       "        <td style=\"padding-left: 1em; padding-right: 1em; text-align: center; vertical-align: top\">None</td>\n",
       "        <td style=\"padding-left: 1em; padding-right: 1em; text-align: center; vertical-align: top\">1</td>\n",
       "        <td style=\"padding-left: 1em; padding-right: 1em; text-align: center; vertical-align: top\">-1.75774666269</td>\n",
       "        <td style=\"padding-left: 1em; padding-right: 1em; text-align: center; vertical-align: top\">0.0948804076821</td>\n",
       "    </tr>\n",
       "    <tr>\n",
       "        <td style=\"padding-left: 1em; padding-right: 1em; text-align: center; vertical-align: top\">bad</td>\n",
       "        <td style=\"padding-left: 1em; padding-right: 1em; text-align: center; vertical-align: top\">None</td>\n",
       "        <td style=\"padding-left: 1em; padding-right: 1em; text-align: center; vertical-align: top\">1</td>\n",
       "        <td style=\"padding-left: 1em; padding-right: 1em; text-align: center; vertical-align: top\">-0.904090478755</td>\n",
       "        <td style=\"padding-left: 1em; padding-right: 1em; text-align: center; vertical-align: top\">0.0383264123099</td>\n",
       "    </tr>\n",
       "    <tr>\n",
       "        <td style=\"padding-left: 1em; padding-right: 1em; text-align: center; vertical-align: top\">terrible</td>\n",
       "        <td style=\"padding-left: 1em; padding-right: 1em; text-align: center; vertical-align: top\">None</td>\n",
       "        <td style=\"padding-left: 1em; padding-right: 1em; text-align: center; vertical-align: top\">1</td>\n",
       "        <td style=\"padding-left: 1em; padding-right: 1em; text-align: center; vertical-align: top\">-1.73568678121</td>\n",
       "        <td style=\"padding-left: 1em; padding-right: 1em; text-align: center; vertical-align: top\">0.0918085586601</td>\n",
       "    </tr>\n",
       "    <tr>\n",
       "        <td style=\"padding-left: 1em; padding-right: 1em; text-align: center; vertical-align: top\">awful</td>\n",
       "        <td style=\"padding-left: 1em; padding-right: 1em; text-align: center; vertical-align: top\">None</td>\n",
       "        <td style=\"padding-left: 1em; padding-right: 1em; text-align: center; vertical-align: top\">1</td>\n",
       "        <td style=\"padding-left: 1em; padding-right: 1em; text-align: center; vertical-align: top\">-1.43812417008</td>\n",
       "        <td style=\"padding-left: 1em; padding-right: 1em; text-align: center; vertical-align: top\">0.126616629284</td>\n",
       "    </tr>\n",
       "</table>\n",
       "[12 rows x 5 columns]<br/>Note: Only the head of the SFrame is printed.<br/>You can use print_rows(num_rows=m, num_columns=n) to print more rows and columns.\n",
       "</div>"
      ],
      "text/plain": [
       "Columns:\n",
       "\tname\tstr\n",
       "\tindex\tstr\n",
       "\tclass\tint\n",
       "\tvalue\tfloat\n",
       "\tstderr\tfloat\n",
       "\n",
       "Rows: 12\n",
       "\n",
       "Data:\n",
       "+-------------+-------+-------+-----------------+------------------+\n",
       "|     name    | index | class |      value      |      stderr      |\n",
       "+-------------+-------+-------+-----------------+------------------+\n",
       "| (intercept) |  None |   1   |  0.899735119511 | 0.00717026186532 |\n",
       "|   awesome   |  None |   1   |  1.00625649388  | 0.0865938486142  |\n",
       "|    great    |  None |   1   |  0.699683829426 | 0.0159519289269  |\n",
       "|  fantastic  |  None |   1   |  0.699443114061 |  0.115103829798  |\n",
       "|   amazing   |  None |   1   |  0.892025920947 |  0.102852435149  |\n",
       "|     love    |  None |   1   |  1.15720106058  | 0.0202619223313  |\n",
       "|   horrible  |  None |   1   |  -1.75774666269 | 0.0948804076821  |\n",
       "|     bad     |  None |   1   | -0.904090478755 | 0.0383264123099  |\n",
       "|   terrible  |  None |   1   |  -1.73568678121 | 0.0918085586601  |\n",
       "|    awful    |  None |   1   |  -1.43812417008 |  0.126616629284  |\n",
       "+-------------+-------+-------+-----------------+------------------+\n",
       "[12 rows x 5 columns]\n",
       "Note: Only the head of the SFrame is printed.\n",
       "You can use print_rows(num_rows=m, num_columns=n) to print more rows and columns."
      ]
     },
     "execution_count": 92,
     "metadata": {},
     "output_type": "execute_result"
    }
   ],
   "source": [
    "selected_words_review"
   ]
  },
  {
   "cell_type": "code",
   "execution_count": 74,
   "metadata": {
    "collapsed": false
   },
   "outputs": [
    {
     "data": {
      "text/html": [
       "<div style=\"max-height:1000px;max-width:1500px;overflow:auto;\"><table frame=\"box\" rules=\"cols\">\n",
       "    <tr>\n",
       "        <th style=\"padding-left: 1em; padding-right: 1em; text-align: center\">name</th>\n",
       "        <th style=\"padding-left: 1em; padding-right: 1em; text-align: center\">index</th>\n",
       "        <th style=\"padding-left: 1em; padding-right: 1em; text-align: center\">class</th>\n",
       "        <th style=\"padding-left: 1em; padding-right: 1em; text-align: center\">value</th>\n",
       "        <th style=\"padding-left: 1em; padding-right: 1em; text-align: center\">stderr</th>\n",
       "    </tr>\n",
       "    <tr>\n",
       "        <td style=\"padding-left: 1em; padding-right: 1em; text-align: center; vertical-align: top\">love</td>\n",
       "        <td style=\"padding-left: 1em; padding-right: 1em; text-align: center; vertical-align: top\">None</td>\n",
       "        <td style=\"padding-left: 1em; padding-right: 1em; text-align: center; vertical-align: top\">1</td>\n",
       "        <td style=\"padding-left: 1em; padding-right: 1em; text-align: center; vertical-align: top\">1.15720106058</td>\n",
       "        <td style=\"padding-left: 1em; padding-right: 1em; text-align: center; vertical-align: top\">0.0202619223313</td>\n",
       "    </tr>\n",
       "    <tr>\n",
       "        <td style=\"padding-left: 1em; padding-right: 1em; text-align: center; vertical-align: top\">awesome</td>\n",
       "        <td style=\"padding-left: 1em; padding-right: 1em; text-align: center; vertical-align: top\">None</td>\n",
       "        <td style=\"padding-left: 1em; padding-right: 1em; text-align: center; vertical-align: top\">1</td>\n",
       "        <td style=\"padding-left: 1em; padding-right: 1em; text-align: center; vertical-align: top\">1.00625649388</td>\n",
       "        <td style=\"padding-left: 1em; padding-right: 1em; text-align: center; vertical-align: top\">0.0865938486142</td>\n",
       "    </tr>\n",
       "    <tr>\n",
       "        <td style=\"padding-left: 1em; padding-right: 1em; text-align: center; vertical-align: top\">(intercept)</td>\n",
       "        <td style=\"padding-left: 1em; padding-right: 1em; text-align: center; vertical-align: top\">None</td>\n",
       "        <td style=\"padding-left: 1em; padding-right: 1em; text-align: center; vertical-align: top\">1</td>\n",
       "        <td style=\"padding-left: 1em; padding-right: 1em; text-align: center; vertical-align: top\">0.899735119511</td>\n",
       "        <td style=\"padding-left: 1em; padding-right: 1em; text-align: center; vertical-align: top\">0.00717026186532</td>\n",
       "    </tr>\n",
       "    <tr>\n",
       "        <td style=\"padding-left: 1em; padding-right: 1em; text-align: center; vertical-align: top\">amazing</td>\n",
       "        <td style=\"padding-left: 1em; padding-right: 1em; text-align: center; vertical-align: top\">None</td>\n",
       "        <td style=\"padding-left: 1em; padding-right: 1em; text-align: center; vertical-align: top\">1</td>\n",
       "        <td style=\"padding-left: 1em; padding-right: 1em; text-align: center; vertical-align: top\">0.892025920947</td>\n",
       "        <td style=\"padding-left: 1em; padding-right: 1em; text-align: center; vertical-align: top\">0.102852435149</td>\n",
       "    </tr>\n",
       "    <tr>\n",
       "        <td style=\"padding-left: 1em; padding-right: 1em; text-align: center; vertical-align: top\">great</td>\n",
       "        <td style=\"padding-left: 1em; padding-right: 1em; text-align: center; vertical-align: top\">None</td>\n",
       "        <td style=\"padding-left: 1em; padding-right: 1em; text-align: center; vertical-align: top\">1</td>\n",
       "        <td style=\"padding-left: 1em; padding-right: 1em; text-align: center; vertical-align: top\">0.699683829426</td>\n",
       "        <td style=\"padding-left: 1em; padding-right: 1em; text-align: center; vertical-align: top\">0.0159519289269</td>\n",
       "    </tr>\n",
       "    <tr>\n",
       "        <td style=\"padding-left: 1em; padding-right: 1em; text-align: center; vertical-align: top\">fantastic</td>\n",
       "        <td style=\"padding-left: 1em; padding-right: 1em; text-align: center; vertical-align: top\">None</td>\n",
       "        <td style=\"padding-left: 1em; padding-right: 1em; text-align: center; vertical-align: top\">1</td>\n",
       "        <td style=\"padding-left: 1em; padding-right: 1em; text-align: center; vertical-align: top\">0.699443114061</td>\n",
       "        <td style=\"padding-left: 1em; padding-right: 1em; text-align: center; vertical-align: top\">0.115103829798</td>\n",
       "    </tr>\n",
       "    <tr>\n",
       "        <td style=\"padding-left: 1em; padding-right: 1em; text-align: center; vertical-align: top\">wow</td>\n",
       "        <td style=\"padding-left: 1em; padding-right: 1em; text-align: center; vertical-align: top\">None</td>\n",
       "        <td style=\"padding-left: 1em; padding-right: 1em; text-align: center; vertical-align: top\">1</td>\n",
       "        <td style=\"padding-left: 1em; padding-right: 1em; text-align: center; vertical-align: top\">0.324810598259</td>\n",
       "        <td style=\"padding-left: 1em; padding-right: 1em; text-align: center; vertical-align: top\">0.237588211695</td>\n",
       "    </tr>\n",
       "    <tr>\n",
       "        <td style=\"padding-left: 1em; padding-right: 1em; text-align: center; vertical-align: top\">bad</td>\n",
       "        <td style=\"padding-left: 1em; padding-right: 1em; text-align: center; vertical-align: top\">None</td>\n",
       "        <td style=\"padding-left: 1em; padding-right: 1em; text-align: center; vertical-align: top\">1</td>\n",
       "        <td style=\"padding-left: 1em; padding-right: 1em; text-align: center; vertical-align: top\">-0.904090478755</td>\n",
       "        <td style=\"padding-left: 1em; padding-right: 1em; text-align: center; vertical-align: top\">0.0383264123099</td>\n",
       "    </tr>\n",
       "    <tr>\n",
       "        <td style=\"padding-left: 1em; padding-right: 1em; text-align: center; vertical-align: top\">hate</td>\n",
       "        <td style=\"padding-left: 1em; padding-right: 1em; text-align: center; vertical-align: top\">None</td>\n",
       "        <td style=\"padding-left: 1em; padding-right: 1em; text-align: center; vertical-align: top\">1</td>\n",
       "        <td style=\"padding-left: 1em; padding-right: 1em; text-align: center; vertical-align: top\">-1.28297165251</td>\n",
       "        <td style=\"padding-left: 1em; padding-right: 1em; text-align: center; vertical-align: top\">0.0689552424211</td>\n",
       "    </tr>\n",
       "    <tr>\n",
       "        <td style=\"padding-left: 1em; padding-right: 1em; text-align: center; vertical-align: top\">awful</td>\n",
       "        <td style=\"padding-left: 1em; padding-right: 1em; text-align: center; vertical-align: top\">None</td>\n",
       "        <td style=\"padding-left: 1em; padding-right: 1em; text-align: center; vertical-align: top\">1</td>\n",
       "        <td style=\"padding-left: 1em; padding-right: 1em; text-align: center; vertical-align: top\">-1.43812417008</td>\n",
       "        <td style=\"padding-left: 1em; padding-right: 1em; text-align: center; vertical-align: top\">0.126616629284</td>\n",
       "    </tr>\n",
       "</table>\n",
       "[12 rows x 5 columns]<br/>Note: Only the head of the SFrame is printed.<br/>You can use print_rows(num_rows=m, num_columns=n) to print more rows and columns.\n",
       "</div>"
      ],
      "text/plain": [
       "Columns:\n",
       "\tname\tstr\n",
       "\tindex\tstr\n",
       "\tclass\tint\n",
       "\tvalue\tfloat\n",
       "\tstderr\tfloat\n",
       "\n",
       "Rows: 12\n",
       "\n",
       "Data:\n",
       "+-------------+-------+-------+-----------------+------------------+\n",
       "|     name    | index | class |      value      |      stderr      |\n",
       "+-------------+-------+-------+-----------------+------------------+\n",
       "|     love    |  None |   1   |  1.15720106058  | 0.0202619223313  |\n",
       "|   awesome   |  None |   1   |  1.00625649388  | 0.0865938486142  |\n",
       "| (intercept) |  None |   1   |  0.899735119511 | 0.00717026186532 |\n",
       "|   amazing   |  None |   1   |  0.892025920947 |  0.102852435149  |\n",
       "|    great    |  None |   1   |  0.699683829426 | 0.0159519289269  |\n",
       "|  fantastic  |  None |   1   |  0.699443114061 |  0.115103829798  |\n",
       "|     wow     |  None |   1   |  0.324810598259 |  0.237588211695  |\n",
       "|     bad     |  None |   1   | -0.904090478755 | 0.0383264123099  |\n",
       "|     hate    |  None |   1   |  -1.28297165251 | 0.0689552424211  |\n",
       "|    awful    |  None |   1   |  -1.43812417008 |  0.126616629284  |\n",
       "+-------------+-------+-------+-----------------+------------------+\n",
       "[12 rows x 5 columns]\n",
       "Note: Only the head of the SFrame is printed.\n",
       "You can use print_rows(num_rows=m, num_columns=n) to print more rows and columns."
      ]
     },
     "execution_count": 74,
     "metadata": {},
     "output_type": "execute_result"
    }
   ],
   "source": [
    "selected_words_review.sort('value', ascending=False)"
   ]
  },
  {
   "cell_type": "code",
   "execution_count": 75,
   "metadata": {
    "collapsed": false
   },
   "outputs": [
    {
     "data": {
      "text/plain": [
       "{'roc_curve': Columns:\n",
       " \tthreshold\tfloat\n",
       " \tfpr\tfloat\n",
       " \ttpr\tfloat\n",
       " \tp\tint\n",
       " \tn\tint\n",
       " \n",
       " Rows: 100001\n",
       " \n",
       " Data:\n",
       " +-----------+-----+-----+-------+------+\n",
       " | threshold | fpr | tpr |   p   |  n   |\n",
       " +-----------+-----+-----+-------+------+\n",
       " |    0.0    | 1.0 | 1.0 | 28005 | 8665 |\n",
       " |   1e-05   | 1.0 | 1.0 | 28005 | 8665 |\n",
       " |   2e-05   | 1.0 | 1.0 | 28005 | 8665 |\n",
       " |   3e-05   | 1.0 | 1.0 | 28005 | 8665 |\n",
       " |   4e-05   | 1.0 | 1.0 | 28005 | 8665 |\n",
       " |   5e-05   | 1.0 | 1.0 | 28005 | 8665 |\n",
       " |   6e-05   | 1.0 | 1.0 | 28005 | 8665 |\n",
       " |   7e-05   | 1.0 | 1.0 | 28005 | 8665 |\n",
       " |   8e-05   | 1.0 | 1.0 | 28005 | 8665 |\n",
       " |   9e-05   | 1.0 | 1.0 | 28005 | 8665 |\n",
       " +-----------+-----+-----+-------+------+\n",
       " [100001 rows x 5 columns]\n",
       " Note: Only the head of the SFrame is printed.\n",
       " You can use print_rows(num_rows=m, num_columns=n) to print more rows and columns.}"
      ]
     },
     "execution_count": 75,
     "metadata": {},
     "output_type": "execute_result"
    }
   ],
   "source": [
    "selected_words_model.evaluate(test_data, metric='roc_curve')"
   ]
  },
  {
   "cell_type": "code",
   "execution_count": 76,
   "metadata": {
    "collapsed": false
   },
   "outputs": [
    {
     "data": {
      "application/javascript": [
       "$(\"head\").append($(\"<link/>\").attr({\n",
       "  rel:  \"stylesheet\",\n",
       "  type: \"text/css\",\n",
       "  href: \"//cdnjs.cloudflare.com/ajax/libs/font-awesome/4.1.0/css/font-awesome.min.css\"\n",
       "}));\n",
       "$(\"head\").append($(\"<link/>\").attr({\n",
       "  rel:  \"stylesheet\",\n",
       "  type: \"text/css\",\n",
       "  href: \"https://static.turi.com/products/graphlab-create/2.1/canvas/css/canvas.css\"\n",
       "}));\n",
       "\n",
       "            (function(){\n",
       "\n",
       "                var e = null;\n",
       "                if (typeof element == 'undefined') {\n",
       "                    var scripts = document.getElementsByTagName('script');\n",
       "                    var thisScriptTag = scripts[scripts.length-1];\n",
       "                    var parentDiv = thisScriptTag.parentNode;\n",
       "                    e = document.createElement('div');\n",
       "                    parentDiv.appendChild(e);\n",
       "                } else {\n",
       "                    e = element[0];\n",
       "                }\n",
       "\n",
       "                if (typeof requirejs !== 'undefined') {\n",
       "                    // disable load timeout; ipython_app.js is large and can take a while to load.\n",
       "                    requirejs.config({waitSeconds: 0});\n",
       "                }\n",
       "\n",
       "                require(['https://static.turi.com/products/graphlab-create/2.1/canvas/js/ipython_app.js'], function(IPythonApp){\n",
       "                    var app = new IPythonApp();\n",
       "                    app.attachView('model','Evaluation', {\"comparison\": null, \"selected_variable\": {\"comparison\": null, \"name\": [\"selected_words_model\"], \"view_file\": \"model\", \"view_component\": \"Evaluation\", \"view_params\": {\"model_type\": \"regression\", \"view\": \"Evaluation\"}, \"view_components\": [\"Summary\", \"Evaluation\", \"Comparison\"], \"model_type\": \"regression\", \"attributes\": {\"section_titles\": [\"Schema\", \"Hyperparameters\", \"Training Summary\", \"Settings\", \"Highest Positive Coefficients\", \"Lowest Negative Coefficients\"], \"sections\": [[[\"Number of coefficients\", 12], [\"Number of examples\", 146861], [\"Number of classes\", 2], [\"Number of feature columns\", 11], [\"Number of unpacked features\", 11]], [[\"L1 penalty\", 0.0], [\"L2 penalty\", 0.01]], [[\"Solver\", \"newton\"], [\"Solver iterations\", 5], [\"Solver status\", \"SUCCESS: Optimal solution found.\"], [\"Training time (sec)\", 2.2233]], [[\"Log-likelihood\", 75402.828]], [[\"love\", 1.1572], [\"awesome\", 1.0063], [\"(intercept)\", 0.8997], [\"amazing\", 0.892], [\"great\", 0.6997]], [[\"horrible\", -1.7577], [\"terrible\", -1.7357], [\"awful\", -1.4381], [\"hate\", -1.283], [\"bad\", -0.9041]]]}, \"evaluations\": [[\"test_data\", {\"roc_curve\": [{\"threshold\": 0.0, \"p\": 28005, \"fpr\": 1.0, \"tpr\": 1.0, \"n\": 8665}, {\"threshold\": 0.001, \"p\": 28005, \"fpr\": 0.9998845931909983, \"tpr\": 1.0, \"n\": 8665}, {\"threshold\": 0.002, \"p\": 28005, \"fpr\": 0.9998845931909983, \"tpr\": 1.0, \"n\": 8665}, {\"threshold\": 0.003, \"p\": 28005, \"fpr\": 0.9997691863819965, \"tpr\": 1.0, \"n\": 8665}, {\"threshold\": 0.004, \"p\": 28005, \"fpr\": 0.9997691863819965, \"tpr\": 1.0, \"n\": 8665}, {\"threshold\": 0.005, \"p\": 28005, \"fpr\": 0.9997691863819965, \"tpr\": 1.0, \"n\": 8665}, {\"threshold\": 0.006, \"p\": 28005, \"fpr\": 0.9997691863819965, \"tpr\": 1.0, \"n\": 8665}, {\"threshold\": 0.007, \"p\": 28005, \"fpr\": 0.9997691863819965, \"tpr\": 1.0, \"n\": 8665}, {\"threshold\": 0.008, \"p\": 28005, \"fpr\": 0.9997691863819965, \"tpr\": 1.0, \"n\": 8665}, {\"threshold\": 0.009, \"p\": 28005, \"fpr\": 0.9997691863819965, \"tpr\": 1.0, \"n\": 8665}, {\"threshold\": 0.01, \"p\": 28005, \"fpr\": 0.9997691863819965, \"tpr\": 1.0, \"n\": 8665}, {\"threshold\": 0.011, \"p\": 28005, \"fpr\": 0.9997691863819965, \"tpr\": 1.0, \"n\": 8665}, {\"threshold\": 0.012, \"p\": 28005, \"fpr\": 0.9997691863819965, \"tpr\": 1.0, \"n\": 8665}, {\"threshold\": 0.013, \"p\": 28005, \"fpr\": 0.9996537795729948, \"tpr\": 1.0, \"n\": 8665}, {\"threshold\": 0.014, \"p\": 28005, \"fpr\": 0.999538372763993, \"tpr\": 1.0, \"n\": 8665}, {\"threshold\": 0.015, \"p\": 28005, \"fpr\": 0.999538372763993, \"tpr\": 1.0, \"n\": 8665}, {\"threshold\": 0.016, \"p\": 28005, \"fpr\": 0.999538372763993, \"tpr\": 1.0, \"n\": 8665}, {\"threshold\": 0.017, \"p\": 28005, \"fpr\": 0.999538372763993, \"tpr\": 1.0, \"n\": 8665}, {\"threshold\": 0.018, \"p\": 28005, \"fpr\": 0.999538372763993, \"tpr\": 1.0, \"n\": 8665}, {\"threshold\": 0.019, \"p\": 28005, \"fpr\": 0.9994229659549914, \"tpr\": 1.0, \"n\": 8665}, {\"threshold\": 0.02, \"p\": 28005, \"fpr\": 0.9994229659549914, \"tpr\": 1.0, \"n\": 8665}, {\"threshold\": 0.021, \"p\": 28005, \"fpr\": 0.9993075591459896, \"tpr\": 1.0, \"n\": 8665}, {\"threshold\": 0.022, \"p\": 28005, \"fpr\": 0.9993075591459896, \"tpr\": 1.0, \"n\": 8665}, {\"threshold\": 0.023, \"p\": 28005, \"fpr\": 0.9993075591459896, \"tpr\": 1.0, \"n\": 8665}, {\"threshold\": 0.024, \"p\": 28005, \"fpr\": 0.9993075591459896, \"tpr\": 1.0, \"n\": 8665}, {\"threshold\": 0.025, \"p\": 28005, \"fpr\": 0.9993075591459896, \"tpr\": 1.0, \"n\": 8665}, {\"threshold\": 0.026, \"p\": 28005, \"fpr\": 0.9993075591459896, \"tpr\": 1.0, \"n\": 8665}, {\"threshold\": 0.027, \"p\": 28005, \"fpr\": 0.9993075591459896, \"tpr\": 1.0, \"n\": 8665}, {\"threshold\": 0.028, \"p\": 28005, \"fpr\": 0.9993075591459896, \"tpr\": 1.0, \"n\": 8665}, {\"threshold\": 0.029, \"p\": 28005, \"fpr\": 0.9993075591459896, \"tpr\": 0.999964292090698, \"n\": 8665}, {\"threshold\": 0.03, \"p\": 28005, \"fpr\": 0.9993075591459896, \"tpr\": 0.999964292090698, \"n\": 8665}, {\"threshold\": 0.031, \"p\": 28005, \"fpr\": 0.9993075591459896, \"tpr\": 0.999964292090698, \"n\": 8665}, {\"threshold\": 0.032, \"p\": 28005, \"fpr\": 0.9993075591459896, \"tpr\": 0.999964292090698, \"n\": 8665}, {\"threshold\": 0.033, \"p\": 28005, \"fpr\": 0.9993075591459896, \"tpr\": 0.999964292090698, \"n\": 8665}, {\"threshold\": 0.034, \"p\": 28005, \"fpr\": 0.9993075591459896, \"tpr\": 0.999964292090698, \"n\": 8665}, {\"threshold\": 0.035, \"p\": 28005, \"fpr\": 0.9993075591459896, \"tpr\": 0.999964292090698, \"n\": 8665}, {\"threshold\": 0.036, \"p\": 28005, \"fpr\": 0.9993075591459896, \"tpr\": 0.999964292090698, \"n\": 8665}, {\"threshold\": 0.037, \"p\": 28005, \"fpr\": 0.9993075591459896, \"tpr\": 0.999964292090698, \"n\": 8665}, {\"threshold\": 0.038, \"p\": 28005, \"fpr\": 0.9993075591459896, \"tpr\": 0.999964292090698, \"n\": 8665}, {\"threshold\": 0.039, \"p\": 28005, \"fpr\": 0.9993075591459896, \"tpr\": 0.999964292090698, \"n\": 8665}, {\"threshold\": 0.04, \"p\": 28005, \"fpr\": 0.9993075591459896, \"tpr\": 0.999964292090698, \"n\": 8665}, {\"threshold\": 0.041, \"p\": 28005, \"fpr\": 0.9993075591459896, \"tpr\": 0.999964292090698, \"n\": 8665}, {\"threshold\": 0.042, \"p\": 28005, \"fpr\": 0.9993075591459896, \"tpr\": 0.9999285841813962, \"n\": 8665}, {\"threshold\": 0.043, \"p\": 28005, \"fpr\": 0.9991921523369879, \"tpr\": 0.9999285841813962, \"n\": 8665}, {\"threshold\": 0.044, \"p\": 28005, \"fpr\": 0.9991921523369879, \"tpr\": 0.9999285841813962, \"n\": 8665}, {\"threshold\": 0.045, \"p\": 28005, \"fpr\": 0.9991921523369879, \"tpr\": 0.9999285841813962, \"n\": 8665}, {\"threshold\": 0.046, \"p\": 28005, \"fpr\": 0.9991921523369879, \"tpr\": 0.9999285841813962, \"n\": 8665}, {\"threshold\": 0.047, \"p\": 28005, \"fpr\": 0.9991921523369879, \"tpr\": 0.9999285841813962, \"n\": 8665}, {\"threshold\": 0.048, \"p\": 28005, \"fpr\": 0.9991921523369879, \"tpr\": 0.9999285841813962, \"n\": 8665}, {\"threshold\": 0.049, \"p\": 28005, \"fpr\": 0.9991921523369879, \"tpr\": 0.9999285841813962, \"n\": 8665}, {\"threshold\": 0.05, \"p\": 28005, \"fpr\": 0.9991921523369879, \"tpr\": 0.9999285841813962, \"n\": 8665}, {\"threshold\": 0.051, \"p\": 28005, \"fpr\": 0.9991921523369879, \"tpr\": 0.9999285841813962, \"n\": 8665}, {\"threshold\": 0.052, \"p\": 28005, \"fpr\": 0.9991921523369879, \"tpr\": 0.9999285841813962, \"n\": 8665}, {\"threshold\": 0.053, \"p\": 28005, \"fpr\": 0.9991921523369879, \"tpr\": 0.9999285841813962, \"n\": 8665}, {\"threshold\": 0.054, \"p\": 28005, \"fpr\": 0.9991921523369879, \"tpr\": 0.9999285841813962, \"n\": 8665}, {\"threshold\": 0.055, \"p\": 28005, \"fpr\": 0.9991921523369879, \"tpr\": 0.9999285841813962, \"n\": 8665}, {\"threshold\": 0.056, \"p\": 28005, \"fpr\": 0.9991921523369879, \"tpr\": 0.9999285841813962, \"n\": 8665}, {\"threshold\": 0.057, \"p\": 28005, \"fpr\": 0.9991921523369879, \"tpr\": 0.9999285841813962, \"n\": 8665}, {\"threshold\": 0.058, \"p\": 28005, \"fpr\": 0.9991921523369879, \"tpr\": 0.9999285841813962, \"n\": 8665}, {\"threshold\": 0.059, \"p\": 28005, \"fpr\": 0.9991921523369879, \"tpr\": 0.9999285841813962, \"n\": 8665}, {\"threshold\": 0.06, \"p\": 28005, \"fpr\": 0.9991921523369879, \"tpr\": 0.9999285841813962, \"n\": 8665}, {\"threshold\": 0.061, \"p\": 28005, \"fpr\": 0.9991921523369879, \"tpr\": 0.9999285841813962, \"n\": 8665}, {\"threshold\": 0.062, \"p\": 28005, \"fpr\": 0.9991921523369879, \"tpr\": 0.9999285841813962, \"n\": 8665}, {\"threshold\": 0.063, \"p\": 28005, \"fpr\": 0.9991921523369879, \"tpr\": 0.9999285841813962, \"n\": 8665}, {\"threshold\": 0.064, \"p\": 28005, \"fpr\": 0.9991921523369879, \"tpr\": 0.9999285841813962, \"n\": 8665}, {\"threshold\": 0.065, \"p\": 28005, \"fpr\": 0.9991921523369879, \"tpr\": 0.9998571683627924, \"n\": 8665}, {\"threshold\": 0.066, \"p\": 28005, \"fpr\": 0.9991921523369879, \"tpr\": 0.9998571683627924, \"n\": 8665}, {\"threshold\": 0.067, \"p\": 28005, \"fpr\": 0.9990767455279862, \"tpr\": 0.9998571683627924, \"n\": 8665}, {\"threshold\": 0.068, \"p\": 28005, \"fpr\": 0.9990767455279862, \"tpr\": 0.9998571683627924, \"n\": 8665}, {\"threshold\": 0.069, \"p\": 28005, \"fpr\": 0.9989613387189844, \"tpr\": 0.9997857525441886, \"n\": 8665}, {\"threshold\": 0.07, \"p\": 28005, \"fpr\": 0.9988459319099827, \"tpr\": 0.9997857525441886, \"n\": 8665}, {\"threshold\": 0.071, \"p\": 28005, \"fpr\": 0.9983843046739758, \"tpr\": 0.9997857525441886, \"n\": 8665}, {\"threshold\": 0.072, \"p\": 28005, \"fpr\": 0.9983843046739758, \"tpr\": 0.9997857525441886, \"n\": 8665}, {\"threshold\": 0.073, \"p\": 28005, \"fpr\": 0.9983843046739758, \"tpr\": 0.9997857525441886, \"n\": 8665}, {\"threshold\": 0.074, \"p\": 28005, \"fpr\": 0.9983843046739758, \"tpr\": 0.9997857525441886, \"n\": 8665}, {\"threshold\": 0.075, \"p\": 28005, \"fpr\": 0.9983843046739758, \"tpr\": 0.9997857525441886, \"n\": 8665}, {\"threshold\": 0.076, \"p\": 28005, \"fpr\": 0.9983843046739758, \"tpr\": 0.9997857525441886, \"n\": 8665}, {\"threshold\": 0.077, \"p\": 28005, \"fpr\": 0.9983843046739758, \"tpr\": 0.9997857525441886, \"n\": 8665}, {\"threshold\": 0.078, \"p\": 28005, \"fpr\": 0.9983843046739758, \"tpr\": 0.9997857525441886, \"n\": 8665}, {\"threshold\": 0.079, \"p\": 28005, \"fpr\": 0.9983843046739758, \"tpr\": 0.9997857525441886, \"n\": 8665}, {\"threshold\": 0.08, \"p\": 28005, \"fpr\": 0.9983843046739758, \"tpr\": 0.9997857525441886, \"n\": 8665}, {\"threshold\": 0.081, \"p\": 28005, \"fpr\": 0.9983843046739758, \"tpr\": 0.9997857525441886, \"n\": 8665}, {\"threshold\": 0.082, \"p\": 28005, \"fpr\": 0.9983843046739758, \"tpr\": 0.9997857525441886, \"n\": 8665}, {\"threshold\": 0.083, \"p\": 28005, \"fpr\": 0.9983843046739758, \"tpr\": 0.9997857525441886, \"n\": 8665}, {\"threshold\": 0.084, \"p\": 28005, \"fpr\": 0.9983843046739758, \"tpr\": 0.9997857525441886, \"n\": 8665}, {\"threshold\": 0.085, \"p\": 28005, \"fpr\": 0.9983843046739758, \"tpr\": 0.9997857525441886, \"n\": 8665}, {\"threshold\": 0.086, \"p\": 28005, \"fpr\": 0.9983843046739758, \"tpr\": 0.9997857525441886, \"n\": 8665}, {\"threshold\": 0.087, \"p\": 28005, \"fpr\": 0.9982688978649741, \"tpr\": 0.9997857525441886, \"n\": 8665}, {\"threshold\": 0.088, \"p\": 28005, \"fpr\": 0.9982688978649741, \"tpr\": 0.9997857525441886, \"n\": 8665}, {\"threshold\": 0.089, \"p\": 28005, \"fpr\": 0.9982688978649741, \"tpr\": 0.9997857525441886, \"n\": 8665}, {\"threshold\": 0.09, \"p\": 28005, \"fpr\": 0.9982688978649741, \"tpr\": 0.9997857525441886, \"n\": 8665}, {\"threshold\": 0.091, \"p\": 28005, \"fpr\": 0.9982688978649741, \"tpr\": 0.9997857525441886, \"n\": 8665}, {\"threshold\": 0.092, \"p\": 28005, \"fpr\": 0.9981534910559723, \"tpr\": 0.9997143367255847, \"n\": 8665}, {\"threshold\": 0.093, \"p\": 28005, \"fpr\": 0.9981534910559723, \"tpr\": 0.9997143367255847, \"n\": 8665}, {\"threshold\": 0.094, \"p\": 28005, \"fpr\": 0.9981534910559723, \"tpr\": 0.9997143367255847, \"n\": 8665}, {\"threshold\": 0.095, \"p\": 28005, \"fpr\": 0.9981534910559723, \"tpr\": 0.9997143367255847, \"n\": 8665}, {\"threshold\": 0.096, \"p\": 28005, \"fpr\": 0.9981534910559723, \"tpr\": 0.9997143367255847, \"n\": 8665}, {\"threshold\": 0.097, \"p\": 28005, \"fpr\": 0.9981534910559723, \"tpr\": 0.9997143367255847, \"n\": 8665}, {\"threshold\": 0.098, \"p\": 28005, \"fpr\": 0.9981534910559723, \"tpr\": 0.9997143367255847, \"n\": 8665}, {\"threshold\": 0.099, \"p\": 28005, \"fpr\": 0.9981534910559723, \"tpr\": 0.9997143367255847, \"n\": 8665}, {\"threshold\": 0.1, \"p\": 28005, \"fpr\": 0.9981534910559723, \"tpr\": 0.9997143367255847, \"n\": 8665}, {\"threshold\": 0.101, \"p\": 28005, \"fpr\": 0.9981534910559723, \"tpr\": 0.9997143367255847, \"n\": 8665}, {\"threshold\": 0.102, \"p\": 28005, \"fpr\": 0.9981534910559723, \"tpr\": 0.9997143367255847, \"n\": 8665}, {\"threshold\": 0.103, \"p\": 28005, \"fpr\": 0.9981534910559723, \"tpr\": 0.9997143367255847, \"n\": 8665}, {\"threshold\": 0.104, \"p\": 28005, \"fpr\": 0.9981534910559723, \"tpr\": 0.9997143367255847, \"n\": 8665}, {\"threshold\": 0.105, \"p\": 28005, \"fpr\": 0.9981534910559723, \"tpr\": 0.9997143367255847, \"n\": 8665}, {\"threshold\": 0.106, \"p\": 28005, \"fpr\": 0.9981534910559723, \"tpr\": 0.9996786288162828, \"n\": 8665}, {\"threshold\": 0.107, \"p\": 28005, \"fpr\": 0.9981534910559723, \"tpr\": 0.9996786288162828, \"n\": 8665}, {\"threshold\": 0.108, \"p\": 28005, \"fpr\": 0.9979226774379688, \"tpr\": 0.9996786288162828, \"n\": 8665}, {\"threshold\": 0.109, \"p\": 28005, \"fpr\": 0.9979226774379688, \"tpr\": 0.9996786288162828, \"n\": 8665}, {\"threshold\": 0.11, \"p\": 28005, \"fpr\": 0.9979226774379688, \"tpr\": 0.9996786288162828, \"n\": 8665}, {\"threshold\": 0.111, \"p\": 28005, \"fpr\": 0.9979226774379688, \"tpr\": 0.9996786288162828, \"n\": 8665}, {\"threshold\": 0.112, \"p\": 28005, \"fpr\": 0.9979226774379688, \"tpr\": 0.9996786288162828, \"n\": 8665}, {\"threshold\": 0.113, \"p\": 28005, \"fpr\": 0.9979226774379688, \"tpr\": 0.9996786288162828, \"n\": 8665}, {\"threshold\": 0.114, \"p\": 28005, \"fpr\": 0.9979226774379688, \"tpr\": 0.9996786288162828, \"n\": 8665}, {\"threshold\": 0.115, \"p\": 28005, \"fpr\": 0.9979226774379688, \"tpr\": 0.9996786288162828, \"n\": 8665}, {\"threshold\": 0.116, \"p\": 28005, \"fpr\": 0.9979226774379688, \"tpr\": 0.9996786288162828, \"n\": 8665}, {\"threshold\": 0.117, \"p\": 28005, \"fpr\": 0.9979226774379688, \"tpr\": 0.9996786288162828, \"n\": 8665}, {\"threshold\": 0.118, \"p\": 28005, \"fpr\": 0.9979226774379688, \"tpr\": 0.9996786288162828, \"n\": 8665}, {\"threshold\": 0.119, \"p\": 28005, \"fpr\": 0.9979226774379688, \"tpr\": 0.9996786288162828, \"n\": 8665}, {\"threshold\": 0.12, \"p\": 28005, \"fpr\": 0.9979226774379688, \"tpr\": 0.9996786288162828, \"n\": 8665}, {\"threshold\": 0.121, \"p\": 28005, \"fpr\": 0.9979226774379688, \"tpr\": 0.9996786288162828, \"n\": 8665}, {\"threshold\": 0.122, \"p\": 28005, \"fpr\": 0.9978072706289671, \"tpr\": 0.9996786288162828, \"n\": 8665}, {\"threshold\": 0.123, \"p\": 28005, \"fpr\": 0.9976918638199653, \"tpr\": 0.9996786288162828, \"n\": 8665}, {\"threshold\": 0.124, \"p\": 28005, \"fpr\": 0.9976918638199653, \"tpr\": 0.9996786288162828, \"n\": 8665}, {\"threshold\": 0.125, \"p\": 28005, \"fpr\": 0.9976918638199653, \"tpr\": 0.9996786288162828, \"n\": 8665}, {\"threshold\": 0.126, \"p\": 28005, \"fpr\": 0.9976918638199653, \"tpr\": 0.9996786288162828, \"n\": 8665}, {\"threshold\": 0.127, \"p\": 28005, \"fpr\": 0.9976918638199653, \"tpr\": 0.9996786288162828, \"n\": 8665}, {\"threshold\": 0.128, \"p\": 28005, \"fpr\": 0.9976918638199653, \"tpr\": 0.9996786288162828, \"n\": 8665}, {\"threshold\": 0.129, \"p\": 28005, \"fpr\": 0.9976918638199653, \"tpr\": 0.9996786288162828, \"n\": 8665}, {\"threshold\": 0.13, \"p\": 28005, \"fpr\": 0.9976918638199653, \"tpr\": 0.9996786288162828, \"n\": 8665}, {\"threshold\": 0.131, \"p\": 28005, \"fpr\": 0.9976918638199653, \"tpr\": 0.9996786288162828, \"n\": 8665}, {\"threshold\": 0.132, \"p\": 28005, \"fpr\": 0.9976918638199653, \"tpr\": 0.9996786288162828, \"n\": 8665}, {\"threshold\": 0.133, \"p\": 28005, \"fpr\": 0.9976918638199653, \"tpr\": 0.9996786288162828, \"n\": 8665}, {\"threshold\": 0.134, \"p\": 28005, \"fpr\": 0.9975764570109636, \"tpr\": 0.9996786288162828, \"n\": 8665}, {\"threshold\": 0.135, \"p\": 28005, \"fpr\": 0.9975764570109636, \"tpr\": 0.9996786288162828, \"n\": 8665}, {\"threshold\": 0.136, \"p\": 28005, \"fpr\": 0.9975764570109636, \"tpr\": 0.9996786288162828, \"n\": 8665}, {\"threshold\": 0.137, \"p\": 28005, \"fpr\": 0.9975764570109636, \"tpr\": 0.9996786288162828, \"n\": 8665}, {\"threshold\": 0.138, \"p\": 28005, \"fpr\": 0.9975764570109636, \"tpr\": 0.9996786288162828, \"n\": 8665}, {\"threshold\": 0.139, \"p\": 28005, \"fpr\": 0.9975764570109636, \"tpr\": 0.9996786288162828, \"n\": 8665}, {\"threshold\": 0.14, \"p\": 28005, \"fpr\": 0.997461050201962, \"tpr\": 0.9996786288162828, \"n\": 8665}, {\"threshold\": 0.141, \"p\": 28005, \"fpr\": 0.9972302365839585, \"tpr\": 0.9996786288162828, \"n\": 8665}, {\"threshold\": 0.142, \"p\": 28005, \"fpr\": 0.9972302365839585, \"tpr\": 0.9996786288162828, \"n\": 8665}, {\"threshold\": 0.143, \"p\": 28005, \"fpr\": 0.9972302365839585, \"tpr\": 0.9996786288162828, \"n\": 8665}, {\"threshold\": 0.144, \"p\": 28005, \"fpr\": 0.9972302365839585, \"tpr\": 0.9996786288162828, \"n\": 8665}, {\"threshold\": 0.145, \"p\": 28005, \"fpr\": 0.9972302365839585, \"tpr\": 0.9996786288162828, \"n\": 8665}, {\"threshold\": 0.146, \"p\": 28005, \"fpr\": 0.9972302365839585, \"tpr\": 0.9996786288162828, \"n\": 8665}, {\"threshold\": 0.147, \"p\": 28005, \"fpr\": 0.9971148297749567, \"tpr\": 0.9995715050883771, \"n\": 8665}, {\"threshold\": 0.148, \"p\": 28005, \"fpr\": 0.9971148297749567, \"tpr\": 0.9995715050883771, \"n\": 8665}, {\"threshold\": 0.149, \"p\": 28005, \"fpr\": 0.9971148297749567, \"tpr\": 0.9995715050883771, \"n\": 8665}, {\"threshold\": 0.15, \"p\": 28005, \"fpr\": 0.9968840161569532, \"tpr\": 0.9995715050883771, \"n\": 8665}, {\"threshold\": 0.151, \"p\": 28005, \"fpr\": 0.9968840161569532, \"tpr\": 0.9995715050883771, \"n\": 8665}, {\"threshold\": 0.152, \"p\": 28005, \"fpr\": 0.9968840161569532, \"tpr\": 0.9995715050883771, \"n\": 8665}, {\"threshold\": 0.153, \"p\": 28005, \"fpr\": 0.9968840161569532, \"tpr\": 0.9995715050883771, \"n\": 8665}, {\"threshold\": 0.154, \"p\": 28005, \"fpr\": 0.9968840161569532, \"tpr\": 0.9995715050883771, \"n\": 8665}, {\"threshold\": 0.155, \"p\": 28005, \"fpr\": 0.9968840161569532, \"tpr\": 0.9995715050883771, \"n\": 8665}, {\"threshold\": 0.156, \"p\": 28005, \"fpr\": 0.9968840161569532, \"tpr\": 0.9995715050883771, \"n\": 8665}, {\"threshold\": 0.157, \"p\": 28005, \"fpr\": 0.9968840161569532, \"tpr\": 0.9995715050883771, \"n\": 8665}, {\"threshold\": 0.158, \"p\": 28005, \"fpr\": 0.9968840161569532, \"tpr\": 0.9995715050883771, \"n\": 8665}, {\"threshold\": 0.159, \"p\": 28005, \"fpr\": 0.9963069821119446, \"tpr\": 0.9995715050883771, \"n\": 8665}, {\"threshold\": 0.16, \"p\": 28005, \"fpr\": 0.9963069821119446, \"tpr\": 0.9995715050883771, \"n\": 8665}, {\"threshold\": 0.161, \"p\": 28005, \"fpr\": 0.9963069821119446, \"tpr\": 0.9995715050883771, \"n\": 8665}, {\"threshold\": 0.162, \"p\": 28005, \"fpr\": 0.9963069821119446, \"tpr\": 0.9995715050883771, \"n\": 8665}, {\"threshold\": 0.163, \"p\": 28005, \"fpr\": 0.9963069821119446, \"tpr\": 0.9995715050883771, \"n\": 8665}, {\"threshold\": 0.164, \"p\": 28005, \"fpr\": 0.9963069821119446, \"tpr\": 0.9995715050883771, \"n\": 8665}, {\"threshold\": 0.165, \"p\": 28005, \"fpr\": 0.9963069821119446, \"tpr\": 0.9995715050883771, \"n\": 8665}, {\"threshold\": 0.166, \"p\": 28005, \"fpr\": 0.9963069821119446, \"tpr\": 0.9995715050883771, \"n\": 8665}, {\"threshold\": 0.167, \"p\": 28005, \"fpr\": 0.9963069821119446, \"tpr\": 0.9995715050883771, \"n\": 8665}, {\"threshold\": 0.168, \"p\": 28005, \"fpr\": 0.9963069821119446, \"tpr\": 0.9995715050883771, \"n\": 8665}, {\"threshold\": 0.169, \"p\": 28005, \"fpr\": 0.9963069821119446, \"tpr\": 0.9995715050883771, \"n\": 8665}, {\"threshold\": 0.17, \"p\": 28005, \"fpr\": 0.9963069821119446, \"tpr\": 0.9995715050883771, \"n\": 8665}, {\"threshold\": 0.171, \"p\": 28005, \"fpr\": 0.9963069821119446, \"tpr\": 0.9995715050883771, \"n\": 8665}, {\"threshold\": 0.172, \"p\": 28005, \"fpr\": 0.9963069821119446, \"tpr\": 0.9995715050883771, \"n\": 8665}, {\"threshold\": 0.173, \"p\": 28005, \"fpr\": 0.9963069821119446, \"tpr\": 0.9995715050883771, \"n\": 8665}, {\"threshold\": 0.174, \"p\": 28005, \"fpr\": 0.9963069821119446, \"tpr\": 0.9995357971790751, \"n\": 8665}, {\"threshold\": 0.175, \"p\": 28005, \"fpr\": 0.9963069821119446, \"tpr\": 0.9995357971790751, \"n\": 8665}, {\"threshold\": 0.176, \"p\": 28005, \"fpr\": 0.9963069821119446, \"tpr\": 0.9995357971790751, \"n\": 8665}, {\"threshold\": 0.177, \"p\": 28005, \"fpr\": 0.9963069821119446, \"tpr\": 0.9995357971790751, \"n\": 8665}, {\"threshold\": 0.178, \"p\": 28005, \"fpr\": 0.9963069821119446, \"tpr\": 0.9995357971790751, \"n\": 8665}, {\"threshold\": 0.179, \"p\": 28005, \"fpr\": 0.9963069821119446, \"tpr\": 0.9995357971790751, \"n\": 8665}, {\"threshold\": 0.18, \"p\": 28005, \"fpr\": 0.9963069821119446, \"tpr\": 0.9995357971790751, \"n\": 8665}, {\"threshold\": 0.181, \"p\": 28005, \"fpr\": 0.9963069821119446, \"tpr\": 0.9995357971790751, \"n\": 8665}, {\"threshold\": 0.182, \"p\": 28005, \"fpr\": 0.9963069821119446, \"tpr\": 0.9995357971790751, \"n\": 8665}, {\"threshold\": 0.183, \"p\": 28005, \"fpr\": 0.9963069821119446, \"tpr\": 0.9995357971790751, \"n\": 8665}, {\"threshold\": 0.184, \"p\": 28005, \"fpr\": 0.9963069821119446, \"tpr\": 0.9995357971790751, \"n\": 8665}, {\"threshold\": 0.185, \"p\": 28005, \"fpr\": 0.9963069821119446, \"tpr\": 0.9995357971790751, \"n\": 8665}, {\"threshold\": 0.186, \"p\": 28005, \"fpr\": 0.9963069821119446, \"tpr\": 0.9995357971790751, \"n\": 8665}, {\"threshold\": 0.187, \"p\": 28005, \"fpr\": 0.9963069821119446, \"tpr\": 0.9995357971790751, \"n\": 8665}, {\"threshold\": 0.188, \"p\": 28005, \"fpr\": 0.9963069821119446, \"tpr\": 0.9995357971790751, \"n\": 8665}, {\"threshold\": 0.189, \"p\": 28005, \"fpr\": 0.9963069821119446, \"tpr\": 0.9995357971790751, \"n\": 8665}, {\"threshold\": 0.19, \"p\": 28005, \"fpr\": 0.9963069821119446, \"tpr\": 0.9995357971790751, \"n\": 8665}, {\"threshold\": 0.191, \"p\": 28005, \"fpr\": 0.9963069821119446, \"tpr\": 0.9995357971790751, \"n\": 8665}, {\"threshold\": 0.192, \"p\": 28005, \"fpr\": 0.9961915753029429, \"tpr\": 0.9995000892697733, \"n\": 8665}, {\"threshold\": 0.193, \"p\": 28005, \"fpr\": 0.9961915753029429, \"tpr\": 0.9994643813604713, \"n\": 8665}, {\"threshold\": 0.194, \"p\": 28005, \"fpr\": 0.9961915753029429, \"tpr\": 0.9994643813604713, \"n\": 8665}, {\"threshold\": 0.195, \"p\": 28005, \"fpr\": 0.9961915753029429, \"tpr\": 0.9994643813604713, \"n\": 8665}, {\"threshold\": 0.196, \"p\": 28005, \"fpr\": 0.9960761684939411, \"tpr\": 0.9994286734511695, \"n\": 8665}, {\"threshold\": 0.197, \"p\": 28005, \"fpr\": 0.9960761684939411, \"tpr\": 0.9994286734511695, \"n\": 8665}, {\"threshold\": 0.198, \"p\": 28005, \"fpr\": 0.9960761684939411, \"tpr\": 0.9994286734511695, \"n\": 8665}, {\"threshold\": 0.199, \"p\": 28005, \"fpr\": 0.9960761684939411, \"tpr\": 0.9994286734511695, \"n\": 8665}, {\"threshold\": 0.2, \"p\": 28005, \"fpr\": 0.9960761684939411, \"tpr\": 0.9994286734511695, \"n\": 8665}, {\"threshold\": 0.201, \"p\": 28005, \"fpr\": 0.9960761684939411, \"tpr\": 0.9994286734511695, \"n\": 8665}, {\"threshold\": 0.202, \"p\": 28005, \"fpr\": 0.9960761684939411, \"tpr\": 0.9994286734511695, \"n\": 8665}, {\"threshold\": 0.203, \"p\": 28005, \"fpr\": 0.9960761684939411, \"tpr\": 0.9994286734511695, \"n\": 8665}, {\"threshold\": 0.204, \"p\": 28005, \"fpr\": 0.9960761684939411, \"tpr\": 0.9994286734511695, \"n\": 8665}, {\"threshold\": 0.205, \"p\": 28005, \"fpr\": 0.9960761684939411, \"tpr\": 0.9994286734511695, \"n\": 8665}, {\"threshold\": 0.206, \"p\": 28005, \"fpr\": 0.9960761684939411, \"tpr\": 0.9994286734511695, \"n\": 8665}, {\"threshold\": 0.207, \"p\": 28005, \"fpr\": 0.9960761684939411, \"tpr\": 0.9994286734511695, \"n\": 8665}, {\"threshold\": 0.208, \"p\": 28005, \"fpr\": 0.9960761684939411, \"tpr\": 0.9994286734511695, \"n\": 8665}, {\"threshold\": 0.209, \"p\": 28005, \"fpr\": 0.9960761684939411, \"tpr\": 0.9994286734511695, \"n\": 8665}, {\"threshold\": 0.21, \"p\": 28005, \"fpr\": 0.9960761684939411, \"tpr\": 0.9994286734511695, \"n\": 8665}, {\"threshold\": 0.211, \"p\": 28005, \"fpr\": 0.9960761684939411, \"tpr\": 0.9994286734511695, \"n\": 8665}, {\"threshold\": 0.212, \"p\": 28005, \"fpr\": 0.9960761684939411, \"tpr\": 0.9994286734511695, \"n\": 8665}, {\"threshold\": 0.213, \"p\": 28005, \"fpr\": 0.9960761684939411, \"tpr\": 0.9994286734511695, \"n\": 8665}, {\"threshold\": 0.214, \"p\": 28005, \"fpr\": 0.9960761684939411, \"tpr\": 0.9994286734511695, \"n\": 8665}, {\"threshold\": 0.215, \"p\": 28005, \"fpr\": 0.9960761684939411, \"tpr\": 0.9994286734511695, \"n\": 8665}, {\"threshold\": 0.216, \"p\": 28005, \"fpr\": 0.9960761684939411, \"tpr\": 0.9994286734511695, \"n\": 8665}, {\"threshold\": 0.217, \"p\": 28005, \"fpr\": 0.9951529140219273, \"tpr\": 0.9993572576325657, \"n\": 8665}, {\"threshold\": 0.218, \"p\": 28005, \"fpr\": 0.9951529140219273, \"tpr\": 0.9993572576325657, \"n\": 8665}, {\"threshold\": 0.219, \"p\": 28005, \"fpr\": 0.9950375072129256, \"tpr\": 0.9993215497232637, \"n\": 8665}, {\"threshold\": 0.22, \"p\": 28005, \"fpr\": 0.9950375072129256, \"tpr\": 0.9993215497232637, \"n\": 8665}, {\"threshold\": 0.221, \"p\": 28005, \"fpr\": 0.9950375072129256, \"tpr\": 0.9993215497232637, \"n\": 8665}, {\"threshold\": 0.222, \"p\": 28005, \"fpr\": 0.9950375072129256, \"tpr\": 0.9993215497232637, \"n\": 8665}, {\"threshold\": 0.223, \"p\": 28005, \"fpr\": 0.9950375072129256, \"tpr\": 0.9993215497232637, \"n\": 8665}, {\"threshold\": 0.224, \"p\": 28005, \"fpr\": 0.9950375072129256, \"tpr\": 0.9993215497232637, \"n\": 8665}, {\"threshold\": 0.225, \"p\": 28005, \"fpr\": 0.9950375072129256, \"tpr\": 0.9993215497232637, \"n\": 8665}, {\"threshold\": 0.226, \"p\": 28005, \"fpr\": 0.9950375072129256, \"tpr\": 0.9993215497232637, \"n\": 8665}, {\"threshold\": 0.227, \"p\": 28005, \"fpr\": 0.9950375072129256, \"tpr\": 0.9993215497232637, \"n\": 8665}, {\"threshold\": 0.228, \"p\": 28005, \"fpr\": 0.9950375072129256, \"tpr\": 0.9993215497232637, \"n\": 8665}, {\"threshold\": 0.229, \"p\": 28005, \"fpr\": 0.9950375072129256, \"tpr\": 0.9993215497232637, \"n\": 8665}, {\"threshold\": 0.23, \"p\": 28005, \"fpr\": 0.9950375072129256, \"tpr\": 0.9993215497232637, \"n\": 8665}, {\"threshold\": 0.231, \"p\": 28005, \"fpr\": 0.9950375072129256, \"tpr\": 0.9993215497232637, \"n\": 8665}, {\"threshold\": 0.232, \"p\": 28005, \"fpr\": 0.9950375072129256, \"tpr\": 0.9993215497232637, \"n\": 8665}, {\"threshold\": 0.233, \"p\": 28005, \"fpr\": 0.9950375072129256, \"tpr\": 0.9993215497232637, \"n\": 8665}, {\"threshold\": 0.234, \"p\": 28005, \"fpr\": 0.9950375072129256, \"tpr\": 0.9993215497232637, \"n\": 8665}, {\"threshold\": 0.235, \"p\": 28005, \"fpr\": 0.9950375072129256, \"tpr\": 0.9993215497232637, \"n\": 8665}, {\"threshold\": 0.236, \"p\": 28005, \"fpr\": 0.9950375072129256, \"tpr\": 0.9993215497232637, \"n\": 8665}, {\"threshold\": 0.237, \"p\": 28005, \"fpr\": 0.9950375072129256, \"tpr\": 0.9993215497232637, \"n\": 8665}, {\"threshold\": 0.238, \"p\": 28005, \"fpr\": 0.9950375072129256, \"tpr\": 0.9993215497232637, \"n\": 8665}, {\"threshold\": 0.239, \"p\": 28005, \"fpr\": 0.9950375072129256, \"tpr\": 0.9993215497232637, \"n\": 8665}, {\"threshold\": 0.24, \"p\": 28005, \"fpr\": 0.9950375072129256, \"tpr\": 0.9993215497232637, \"n\": 8665}, {\"threshold\": 0.241, \"p\": 28005, \"fpr\": 0.9950375072129256, \"tpr\": 0.9993215497232637, \"n\": 8665}, {\"threshold\": 0.242, \"p\": 28005, \"fpr\": 0.9950375072129256, \"tpr\": 0.9993215497232637, \"n\": 8665}, {\"threshold\": 0.243, \"p\": 28005, \"fpr\": 0.9950375072129256, \"tpr\": 0.9993215497232637, \"n\": 8665}, {\"threshold\": 0.244, \"p\": 28005, \"fpr\": 0.9950375072129256, \"tpr\": 0.9993215497232637, \"n\": 8665}, {\"threshold\": 0.245, \"p\": 28005, \"fpr\": 0.9950375072129256, \"tpr\": 0.9993215497232637, \"n\": 8665}, {\"threshold\": 0.246, \"p\": 28005, \"fpr\": 0.9950375072129256, \"tpr\": 0.9993215497232637, \"n\": 8665}, {\"threshold\": 0.247, \"p\": 28005, \"fpr\": 0.9950375072129256, \"tpr\": 0.9993215497232637, \"n\": 8665}, {\"threshold\": 0.248, \"p\": 28005, \"fpr\": 0.9949221004039238, \"tpr\": 0.9993215497232637, \"n\": 8665}, {\"threshold\": 0.249, \"p\": 28005, \"fpr\": 0.9949221004039238, \"tpr\": 0.9993215497232637, \"n\": 8665}, {\"threshold\": 0.25, \"p\": 28005, \"fpr\": 0.9949221004039238, \"tpr\": 0.9993215497232637, \"n\": 8665}, {\"threshold\": 0.251, \"p\": 28005, \"fpr\": 0.9949221004039238, \"tpr\": 0.9993215497232637, \"n\": 8665}, {\"threshold\": 0.252, \"p\": 28005, \"fpr\": 0.9949221004039238, \"tpr\": 0.9993215497232637, \"n\": 8665}, {\"threshold\": 0.253, \"p\": 28005, \"fpr\": 0.9949221004039238, \"tpr\": 0.9993215497232637, \"n\": 8665}, {\"threshold\": 0.254, \"p\": 28005, \"fpr\": 0.9949221004039238, \"tpr\": 0.9993215497232637, \"n\": 8665}, {\"threshold\": 0.255, \"p\": 28005, \"fpr\": 0.9949221004039238, \"tpr\": 0.9993215497232637, \"n\": 8665}, {\"threshold\": 0.256, \"p\": 28005, \"fpr\": 0.9949221004039238, \"tpr\": 0.9993215497232637, \"n\": 8665}, {\"threshold\": 0.257, \"p\": 28005, \"fpr\": 0.9949221004039238, \"tpr\": 0.9993215497232637, \"n\": 8665}, {\"threshold\": 0.258, \"p\": 28005, \"fpr\": 0.9949221004039238, \"tpr\": 0.9993215497232637, \"n\": 8665}, {\"threshold\": 0.259, \"p\": 28005, \"fpr\": 0.9949221004039238, \"tpr\": 0.9993215497232637, \"n\": 8665}, {\"threshold\": 0.26, \"p\": 28005, \"fpr\": 0.9949221004039238, \"tpr\": 0.9993215497232637, \"n\": 8665}, {\"threshold\": 0.261, \"p\": 28005, \"fpr\": 0.9949221004039238, \"tpr\": 0.9993215497232637, \"n\": 8665}, {\"threshold\": 0.262, \"p\": 28005, \"fpr\": 0.9949221004039238, \"tpr\": 0.9993215497232637, \"n\": 8665}, {\"threshold\": 0.263, \"p\": 28005, \"fpr\": 0.9949221004039238, \"tpr\": 0.9993215497232637, \"n\": 8665}, {\"threshold\": 0.264, \"p\": 28005, \"fpr\": 0.9949221004039238, \"tpr\": 0.9993215497232637, \"n\": 8665}, {\"threshold\": 0.265, \"p\": 28005, \"fpr\": 0.9949221004039238, \"tpr\": 0.9993215497232637, \"n\": 8665}, {\"threshold\": 0.266, \"p\": 28005, \"fpr\": 0.9949221004039238, \"tpr\": 0.9993215497232637, \"n\": 8665}, {\"threshold\": 0.267, \"p\": 28005, \"fpr\": 0.9949221004039238, \"tpr\": 0.9993215497232637, \"n\": 8665}, {\"threshold\": 0.268, \"p\": 28005, \"fpr\": 0.9949221004039238, \"tpr\": 0.9993215497232637, \"n\": 8665}, {\"threshold\": 0.269, \"p\": 28005, \"fpr\": 0.9949221004039238, \"tpr\": 0.9993215497232637, \"n\": 8665}, {\"threshold\": 0.27, \"p\": 28005, \"fpr\": 0.9949221004039238, \"tpr\": 0.9993215497232637, \"n\": 8665}, {\"threshold\": 0.271, \"p\": 28005, \"fpr\": 0.9949221004039238, \"tpr\": 0.9993215497232637, \"n\": 8665}, {\"threshold\": 0.272, \"p\": 28005, \"fpr\": 0.9949221004039238, \"tpr\": 0.9993215497232637, \"n\": 8665}, {\"threshold\": 0.273, \"p\": 28005, \"fpr\": 0.9949221004039238, \"tpr\": 0.9993215497232637, \"n\": 8665}, {\"threshold\": 0.274, \"p\": 28005, \"fpr\": 0.9949221004039238, \"tpr\": 0.9993215497232637, \"n\": 8665}, {\"threshold\": 0.275, \"p\": 28005, \"fpr\": 0.9949221004039238, \"tpr\": 0.9993215497232637, \"n\": 8665}, {\"threshold\": 0.276, \"p\": 28005, \"fpr\": 0.9949221004039238, \"tpr\": 0.9993215497232637, \"n\": 8665}, {\"threshold\": 0.277, \"p\": 28005, \"fpr\": 0.9949221004039238, \"tpr\": 0.9993215497232637, \"n\": 8665}, {\"threshold\": 0.278, \"p\": 28005, \"fpr\": 0.9949221004039238, \"tpr\": 0.9993215497232637, \"n\": 8665}, {\"threshold\": 0.279, \"p\": 28005, \"fpr\": 0.9949221004039238, \"tpr\": 0.9993215497232637, \"n\": 8665}, {\"threshold\": 0.28, \"p\": 28005, \"fpr\": 0.9949221004039238, \"tpr\": 0.9993215497232637, \"n\": 8665}, {\"threshold\": 0.281, \"p\": 28005, \"fpr\": 0.9949221004039238, \"tpr\": 0.9993215497232637, \"n\": 8665}, {\"threshold\": 0.282, \"p\": 28005, \"fpr\": 0.9949221004039238, \"tpr\": 0.9993215497232637, \"n\": 8665}, {\"threshold\": 0.283, \"p\": 28005, \"fpr\": 0.9949221004039238, \"tpr\": 0.9993215497232637, \"n\": 8665}, {\"threshold\": 0.284, \"p\": 28005, \"fpr\": 0.9949221004039238, \"tpr\": 0.9993215497232637, \"n\": 8665}, {\"threshold\": 0.285, \"p\": 28005, \"fpr\": 0.9949221004039238, \"tpr\": 0.9993215497232637, \"n\": 8665}, {\"threshold\": 0.286, \"p\": 28005, \"fpr\": 0.9949221004039238, \"tpr\": 0.9993215497232637, \"n\": 8665}, {\"threshold\": 0.287, \"p\": 28005, \"fpr\": 0.9949221004039238, \"tpr\": 0.9993215497232637, \"n\": 8665}, {\"threshold\": 0.288, \"p\": 28005, \"fpr\": 0.9934218118869014, \"tpr\": 0.9990715943581503, \"n\": 8665}, {\"threshold\": 0.289, \"p\": 28005, \"fpr\": 0.9934218118869014, \"tpr\": 0.9990715943581503, \"n\": 8665}, {\"threshold\": 0.29, \"p\": 28005, \"fpr\": 0.9934218118869014, \"tpr\": 0.9990715943581503, \"n\": 8665}, {\"threshold\": 0.291, \"p\": 28005, \"fpr\": 0.9934218118869014, \"tpr\": 0.9990715943581503, \"n\": 8665}, {\"threshold\": 0.292, \"p\": 28005, \"fpr\": 0.9934218118869014, \"tpr\": 0.9990715943581503, \"n\": 8665}, {\"threshold\": 0.293, \"p\": 28005, \"fpr\": 0.9934218118869014, \"tpr\": 0.9990715943581503, \"n\": 8665}, {\"threshold\": 0.294, \"p\": 28005, \"fpr\": 0.9934218118869014, \"tpr\": 0.9990715943581503, \"n\": 8665}, {\"threshold\": 0.295, \"p\": 28005, \"fpr\": 0.9934218118869014, \"tpr\": 0.9990715943581503, \"n\": 8665}, {\"threshold\": 0.296, \"p\": 28005, \"fpr\": 0.9934218118869014, \"tpr\": 0.9990715943581503, \"n\": 8665}, {\"threshold\": 0.297, \"p\": 28005, \"fpr\": 0.9934218118869014, \"tpr\": 0.9990715943581503, \"n\": 8665}, {\"threshold\": 0.298, \"p\": 28005, \"fpr\": 0.9854587420657819, \"tpr\": 0.9982860203535083, \"n\": 8665}, {\"threshold\": 0.299, \"p\": 28005, \"fpr\": 0.9854587420657819, \"tpr\": 0.9982860203535083, \"n\": 8665}, {\"threshold\": 0.3, \"p\": 28005, \"fpr\": 0.9854587420657819, \"tpr\": 0.9982860203535083, \"n\": 8665}, {\"threshold\": 0.301, \"p\": 28005, \"fpr\": 0.9854587420657819, \"tpr\": 0.9982860203535083, \"n\": 8665}, {\"threshold\": 0.302, \"p\": 28005, \"fpr\": 0.9854587420657819, \"tpr\": 0.9982860203535083, \"n\": 8665}, {\"threshold\": 0.303, \"p\": 28005, \"fpr\": 0.9779572994806693, \"tpr\": 0.9973219068023568, \"n\": 8665}, {\"threshold\": 0.304, \"p\": 28005, \"fpr\": 0.9779572994806693, \"tpr\": 0.9973219068023568, \"n\": 8665}, {\"threshold\": 0.305, \"p\": 28005, \"fpr\": 0.9779572994806693, \"tpr\": 0.9973219068023568, \"n\": 8665}, {\"threshold\": 0.306, \"p\": 28005, \"fpr\": 0.9779572994806693, \"tpr\": 0.9973219068023568, \"n\": 8665}, {\"threshold\": 0.307, \"p\": 28005, \"fpr\": 0.9779572994806693, \"tpr\": 0.9973219068023568, \"n\": 8665}, {\"threshold\": 0.308, \"p\": 28005, \"fpr\": 0.9779572994806693, \"tpr\": 0.9973219068023568, \"n\": 8665}, {\"threshold\": 0.309, \"p\": 28005, \"fpr\": 0.9779572994806693, \"tpr\": 0.9973219068023568, \"n\": 8665}, {\"threshold\": 0.31, \"p\": 28005, \"fpr\": 0.9779572994806693, \"tpr\": 0.9973219068023568, \"n\": 8665}, {\"threshold\": 0.311, \"p\": 28005, \"fpr\": 0.9779572994806693, \"tpr\": 0.9973219068023568, \"n\": 8665}, {\"threshold\": 0.312, \"p\": 28005, \"fpr\": 0.9779572994806693, \"tpr\": 0.9973219068023568, \"n\": 8665}, {\"threshold\": 0.313, \"p\": 28005, \"fpr\": 0.9779572994806693, \"tpr\": 0.9973219068023568, \"n\": 8665}, {\"threshold\": 0.314, \"p\": 28005, \"fpr\": 0.9779572994806693, \"tpr\": 0.9973219068023568, \"n\": 8665}, {\"threshold\": 0.315, \"p\": 28005, \"fpr\": 0.9779572994806693, \"tpr\": 0.9973219068023568, \"n\": 8665}, {\"threshold\": 0.316, \"p\": 28005, \"fpr\": 0.9779572994806693, \"tpr\": 0.9973219068023568, \"n\": 8665}, {\"threshold\": 0.317, \"p\": 28005, \"fpr\": 0.9779572994806693, \"tpr\": 0.9973219068023568, \"n\": 8665}, {\"threshold\": 0.318, \"p\": 28005, \"fpr\": 0.9779572994806693, \"tpr\": 0.9973219068023568, \"n\": 8665}, {\"threshold\": 0.319, \"p\": 28005, \"fpr\": 0.9779572994806693, \"tpr\": 0.9973219068023568, \"n\": 8665}, {\"threshold\": 0.32, \"p\": 28005, \"fpr\": 0.9779572994806693, \"tpr\": 0.9973219068023568, \"n\": 8665}, {\"threshold\": 0.321, \"p\": 28005, \"fpr\": 0.9779572994806693, \"tpr\": 0.9973219068023568, \"n\": 8665}, {\"threshold\": 0.322, \"p\": 28005, \"fpr\": 0.9779572994806693, \"tpr\": 0.9973219068023568, \"n\": 8665}, {\"threshold\": 0.323, \"p\": 28005, \"fpr\": 0.9777264858626659, \"tpr\": 0.9972861988930548, \"n\": 8665}, {\"threshold\": 0.324, \"p\": 28005, \"fpr\": 0.9777264858626659, \"tpr\": 0.9972861988930548, \"n\": 8665}, {\"threshold\": 0.325, \"p\": 28005, \"fpr\": 0.9777264858626659, \"tpr\": 0.9972861988930548, \"n\": 8665}, {\"threshold\": 0.326, \"p\": 28005, \"fpr\": 0.9777264858626659, \"tpr\": 0.9972861988930548, \"n\": 8665}, {\"threshold\": 0.327, \"p\": 28005, \"fpr\": 0.9777264858626659, \"tpr\": 0.9972861988930548, \"n\": 8665}, {\"threshold\": 0.328, \"p\": 28005, \"fpr\": 0.9777264858626659, \"tpr\": 0.9972861988930548, \"n\": 8665}, {\"threshold\": 0.329, \"p\": 28005, \"fpr\": 0.9777264858626659, \"tpr\": 0.9972861988930548, \"n\": 8665}, {\"threshold\": 0.33, \"p\": 28005, \"fpr\": 0.9777264858626659, \"tpr\": 0.9972861988930548, \"n\": 8665}, {\"threshold\": 0.331, \"p\": 28005, \"fpr\": 0.9777264858626659, \"tpr\": 0.9972861988930548, \"n\": 8665}, {\"threshold\": 0.332, \"p\": 28005, \"fpr\": 0.9777264858626659, \"tpr\": 0.9972861988930548, \"n\": 8665}, {\"threshold\": 0.333, \"p\": 28005, \"fpr\": 0.9777264858626659, \"tpr\": 0.9972861988930548, \"n\": 8665}, {\"threshold\": 0.334, \"p\": 28005, \"fpr\": 0.9777264858626659, \"tpr\": 0.9972861988930548, \"n\": 8665}, {\"threshold\": 0.335, \"p\": 28005, \"fpr\": 0.9777264858626659, \"tpr\": 0.9972861988930548, \"n\": 8665}, {\"threshold\": 0.336, \"p\": 28005, \"fpr\": 0.9777264858626659, \"tpr\": 0.9972861988930548, \"n\": 8665}, {\"threshold\": 0.337, \"p\": 28005, \"fpr\": 0.9777264858626659, \"tpr\": 0.9972861988930548, \"n\": 8665}, {\"threshold\": 0.338, \"p\": 28005, \"fpr\": 0.9777264858626659, \"tpr\": 0.9972861988930548, \"n\": 8665}, {\"threshold\": 0.339, \"p\": 28005, \"fpr\": 0.9777264858626659, \"tpr\": 0.9972861988930548, \"n\": 8665}, {\"threshold\": 0.34, \"p\": 28005, \"fpr\": 0.9777264858626659, \"tpr\": 0.9972861988930548, \"n\": 8665}, {\"threshold\": 0.341, \"p\": 28005, \"fpr\": 0.9777264858626659, \"tpr\": 0.9972861988930548, \"n\": 8665}, {\"threshold\": 0.342, \"p\": 28005, \"fpr\": 0.9777264858626659, \"tpr\": 0.9972861988930548, \"n\": 8665}, {\"threshold\": 0.343, \"p\": 28005, \"fpr\": 0.9777264858626659, \"tpr\": 0.9972861988930548, \"n\": 8665}, {\"threshold\": 0.344, \"p\": 28005, \"fpr\": 0.9777264858626659, \"tpr\": 0.9972861988930548, \"n\": 8665}, {\"threshold\": 0.345, \"p\": 28005, \"fpr\": 0.9777264858626659, \"tpr\": 0.9972861988930548, \"n\": 8665}, {\"threshold\": 0.346, \"p\": 28005, \"fpr\": 0.9777264858626659, \"tpr\": 0.9972861988930548, \"n\": 8665}, {\"threshold\": 0.347, \"p\": 28005, \"fpr\": 0.9777264858626659, \"tpr\": 0.9972861988930548, \"n\": 8665}, {\"threshold\": 0.348, \"p\": 28005, \"fpr\": 0.9777264858626659, \"tpr\": 0.9972861988930548, \"n\": 8665}, {\"threshold\": 0.349, \"p\": 28005, \"fpr\": 0.9777264858626659, \"tpr\": 0.9972861988930548, \"n\": 8665}, {\"threshold\": 0.35, \"p\": 28005, \"fpr\": 0.9777264858626659, \"tpr\": 0.9972861988930548, \"n\": 8665}, {\"threshold\": 0.351, \"p\": 28005, \"fpr\": 0.9777264858626659, \"tpr\": 0.9972861988930548, \"n\": 8665}, {\"threshold\": 0.352, \"p\": 28005, \"fpr\": 0.9777264858626659, \"tpr\": 0.9972861988930548, \"n\": 8665}, {\"threshold\": 0.353, \"p\": 28005, \"fpr\": 0.9777264858626659, \"tpr\": 0.9972861988930548, \"n\": 8665}, {\"threshold\": 0.354, \"p\": 28005, \"fpr\": 0.9777264858626659, \"tpr\": 0.9972861988930548, \"n\": 8665}, {\"threshold\": 0.355, \"p\": 28005, \"fpr\": 0.9777264858626659, \"tpr\": 0.9972861988930548, \"n\": 8665}, {\"threshold\": 0.356, \"p\": 28005, \"fpr\": 0.9777264858626659, \"tpr\": 0.9972861988930548, \"n\": 8665}, {\"threshold\": 0.357, \"p\": 28005, \"fpr\": 0.9777264858626659, \"tpr\": 0.9972861988930548, \"n\": 8665}, {\"threshold\": 0.358, \"p\": 28005, \"fpr\": 0.9774956722446624, \"tpr\": 0.9972504909837528, \"n\": 8665}, {\"threshold\": 0.359, \"p\": 28005, \"fpr\": 0.9774956722446624, \"tpr\": 0.997214783074451, \"n\": 8665}, {\"threshold\": 0.36, \"p\": 28005, \"fpr\": 0.9774956722446624, \"tpr\": 0.997214783074451, \"n\": 8665}, {\"threshold\": 0.361, \"p\": 28005, \"fpr\": 0.9774956722446624, \"tpr\": 0.997214783074451, \"n\": 8665}, {\"threshold\": 0.362, \"p\": 28005, \"fpr\": 0.9774956722446624, \"tpr\": 0.997214783074451, \"n\": 8665}, {\"threshold\": 0.363, \"p\": 28005, \"fpr\": 0.9774956722446624, \"tpr\": 0.997214783074451, \"n\": 8665}, {\"threshold\": 0.364, \"p\": 28005, \"fpr\": 0.9774956722446624, \"tpr\": 0.997214783074451, \"n\": 8665}, {\"threshold\": 0.365, \"p\": 28005, \"fpr\": 0.9774956722446624, \"tpr\": 0.997214783074451, \"n\": 8665}, {\"threshold\": 0.366, \"p\": 28005, \"fpr\": 0.9774956722446624, \"tpr\": 0.997214783074451, \"n\": 8665}, {\"threshold\": 0.367, \"p\": 28005, \"fpr\": 0.9774956722446624, \"tpr\": 0.997214783074451, \"n\": 8665}, {\"threshold\": 0.368, \"p\": 28005, \"fpr\": 0.9774956722446624, \"tpr\": 0.997214783074451, \"n\": 8665}, {\"threshold\": 0.369, \"p\": 28005, \"fpr\": 0.9742642815926139, \"tpr\": 0.9968577039814319, \"n\": 8665}, {\"threshold\": 0.37, \"p\": 28005, \"fpr\": 0.9742642815926139, \"tpr\": 0.9968577039814319, \"n\": 8665}, {\"threshold\": 0.371, \"p\": 28005, \"fpr\": 0.9742642815926139, \"tpr\": 0.9968577039814319, \"n\": 8665}, {\"threshold\": 0.372, \"p\": 28005, \"fpr\": 0.9742642815926139, \"tpr\": 0.9968577039814319, \"n\": 8665}, {\"threshold\": 0.373, \"p\": 28005, \"fpr\": 0.9742642815926139, \"tpr\": 0.9968577039814319, \"n\": 8665}, {\"threshold\": 0.374, \"p\": 28005, \"fpr\": 0.9742642815926139, \"tpr\": 0.9968577039814319, \"n\": 8665}, {\"threshold\": 0.375, \"p\": 28005, \"fpr\": 0.9742642815926139, \"tpr\": 0.9968577039814319, \"n\": 8665}, {\"threshold\": 0.376, \"p\": 28005, \"fpr\": 0.9741488747836122, \"tpr\": 0.9968577039814319, \"n\": 8665}, {\"threshold\": 0.377, \"p\": 28005, \"fpr\": 0.9741488747836122, \"tpr\": 0.9968577039814319, \"n\": 8665}, {\"threshold\": 0.378, \"p\": 28005, \"fpr\": 0.9741488747836122, \"tpr\": 0.9968577039814319, \"n\": 8665}, {\"threshold\": 0.379, \"p\": 28005, \"fpr\": 0.9741488747836122, \"tpr\": 0.9968577039814319, \"n\": 8665}, {\"threshold\": 0.38, \"p\": 28005, \"fpr\": 0.9741488747836122, \"tpr\": 0.9968577039814319, \"n\": 8665}, {\"threshold\": 0.381, \"p\": 28005, \"fpr\": 0.9741488747836122, \"tpr\": 0.9968577039814319, \"n\": 8665}, {\"threshold\": 0.382, \"p\": 28005, \"fpr\": 0.9741488747836122, \"tpr\": 0.9968577039814319, \"n\": 8665}, {\"threshold\": 0.383, \"p\": 28005, \"fpr\": 0.9741488747836122, \"tpr\": 0.9968577039814319, \"n\": 8665}, {\"threshold\": 0.384, \"p\": 28005, \"fpr\": 0.9741488747836122, \"tpr\": 0.9968577039814319, \"n\": 8665}, {\"threshold\": 0.385, \"p\": 28005, \"fpr\": 0.9741488747836122, \"tpr\": 0.9968577039814319, \"n\": 8665}, {\"threshold\": 0.386, \"p\": 28005, \"fpr\": 0.9741488747836122, \"tpr\": 0.9968577039814319, \"n\": 8665}, {\"threshold\": 0.387, \"p\": 28005, \"fpr\": 0.9741488747836122, \"tpr\": 0.9968577039814319, \"n\": 8665}, {\"threshold\": 0.388, \"p\": 28005, \"fpr\": 0.9741488747836122, \"tpr\": 0.9968577039814319, \"n\": 8665}, {\"threshold\": 0.389, \"p\": 28005, \"fpr\": 0.9741488747836122, \"tpr\": 0.9968577039814319, \"n\": 8665}, {\"threshold\": 0.39, \"p\": 28005, \"fpr\": 0.9741488747836122, \"tpr\": 0.9968577039814319, \"n\": 8665}, {\"threshold\": 0.391, \"p\": 28005, \"fpr\": 0.9741488747836122, \"tpr\": 0.9968577039814319, \"n\": 8665}, {\"threshold\": 0.392, \"p\": 28005, \"fpr\": 0.9741488747836122, \"tpr\": 0.9968577039814319, \"n\": 8665}, {\"threshold\": 0.393, \"p\": 28005, \"fpr\": 0.9741488747836122, \"tpr\": 0.9968577039814319, \"n\": 8665}, {\"threshold\": 0.394, \"p\": 28005, \"fpr\": 0.9741488747836122, \"tpr\": 0.9968577039814319, \"n\": 8665}, {\"threshold\": 0.395, \"p\": 28005, \"fpr\": 0.9741488747836122, \"tpr\": 0.9968577039814319, \"n\": 8665}, {\"threshold\": 0.396, \"p\": 28005, \"fpr\": 0.9741488747836122, \"tpr\": 0.9968577039814319, \"n\": 8665}, {\"threshold\": 0.397, \"p\": 28005, \"fpr\": 0.9741488747836122, \"tpr\": 0.9968577039814319, \"n\": 8665}, {\"threshold\": 0.398, \"p\": 28005, \"fpr\": 0.9741488747836122, \"tpr\": 0.9968577039814319, \"n\": 8665}, {\"threshold\": 0.399, \"p\": 28005, \"fpr\": 0.9741488747836122, \"tpr\": 0.9968577039814319, \"n\": 8665}, {\"threshold\": 0.4, \"p\": 28005, \"fpr\": 0.9741488747836122, \"tpr\": 0.9968577039814319, \"n\": 8665}, {\"threshold\": 0.401, \"p\": 28005, \"fpr\": 0.9741488747836122, \"tpr\": 0.9968577039814319, \"n\": 8665}, {\"threshold\": 0.402, \"p\": 28005, \"fpr\": 0.9741488747836122, \"tpr\": 0.9968577039814319, \"n\": 8665}, {\"threshold\": 0.403, \"p\": 28005, \"fpr\": 0.9741488747836122, \"tpr\": 0.9968577039814319, \"n\": 8665}, {\"threshold\": 0.404, \"p\": 28005, \"fpr\": 0.9741488747836122, \"tpr\": 0.9968577039814319, \"n\": 8665}, {\"threshold\": 0.405, \"p\": 28005, \"fpr\": 0.9741488747836122, \"tpr\": 0.9968577039814319, \"n\": 8665}, {\"threshold\": 0.406, \"p\": 28005, \"fpr\": 0.9664166185804962, \"tpr\": 0.9950723085163363, \"n\": 8665}, {\"threshold\": 0.407, \"p\": 28005, \"fpr\": 0.9664166185804962, \"tpr\": 0.9950723085163363, \"n\": 8665}, {\"threshold\": 0.408, \"p\": 28005, \"fpr\": 0.9664166185804962, \"tpr\": 0.9950723085163363, \"n\": 8665}, {\"threshold\": 0.409, \"p\": 28005, \"fpr\": 0.9664166185804962, \"tpr\": 0.9950723085163363, \"n\": 8665}, {\"threshold\": 0.41, \"p\": 28005, \"fpr\": 0.9664166185804962, \"tpr\": 0.9950723085163363, \"n\": 8665}, {\"threshold\": 0.411, \"p\": 28005, \"fpr\": 0.9664166185804962, \"tpr\": 0.9950723085163363, \"n\": 8665}, {\"threshold\": 0.412, \"p\": 28005, \"fpr\": 0.9664166185804962, \"tpr\": 0.9950723085163363, \"n\": 8665}, {\"threshold\": 0.413, \"p\": 28005, \"fpr\": 0.9664166185804962, \"tpr\": 0.9950723085163363, \"n\": 8665}, {\"threshold\": 0.414, \"p\": 28005, \"fpr\": 0.9664166185804962, \"tpr\": 0.9950723085163363, \"n\": 8665}, {\"threshold\": 0.415, \"p\": 28005, \"fpr\": 0.9664166185804962, \"tpr\": 0.9950723085163363, \"n\": 8665}, {\"threshold\": 0.416, \"p\": 28005, \"fpr\": 0.9664166185804962, \"tpr\": 0.9950723085163363, \"n\": 8665}, {\"threshold\": 0.417, \"p\": 28005, \"fpr\": 0.9664166185804962, \"tpr\": 0.9950723085163363, \"n\": 8665}, {\"threshold\": 0.418, \"p\": 28005, \"fpr\": 0.9664166185804962, \"tpr\": 0.9950723085163363, \"n\": 8665}, {\"threshold\": 0.419, \"p\": 28005, \"fpr\": 0.9664166185804962, \"tpr\": 0.9950723085163363, \"n\": 8665}, {\"threshold\": 0.42, \"p\": 28005, \"fpr\": 0.9664166185804962, \"tpr\": 0.9950723085163363, \"n\": 8665}, {\"threshold\": 0.421, \"p\": 28005, \"fpr\": 0.9664166185804962, \"tpr\": 0.9950723085163363, \"n\": 8665}, {\"threshold\": 0.422, \"p\": 28005, \"fpr\": 0.9664166185804962, \"tpr\": 0.9950723085163363, \"n\": 8665}, {\"threshold\": 0.423, \"p\": 28005, \"fpr\": 0.9664166185804962, \"tpr\": 0.9950723085163363, \"n\": 8665}, {\"threshold\": 0.424, \"p\": 28005, \"fpr\": 0.9664166185804962, \"tpr\": 0.9950723085163363, \"n\": 8665}, {\"threshold\": 0.425, \"p\": 28005, \"fpr\": 0.9664166185804962, \"tpr\": 0.9950723085163363, \"n\": 8665}, {\"threshold\": 0.426, \"p\": 28005, \"fpr\": 0.9664166185804962, \"tpr\": 0.9950723085163363, \"n\": 8665}, {\"threshold\": 0.427, \"p\": 28005, \"fpr\": 0.9664166185804962, \"tpr\": 0.9950723085163363, \"n\": 8665}, {\"threshold\": 0.428, \"p\": 28005, \"fpr\": 0.9664166185804962, \"tpr\": 0.9950723085163363, \"n\": 8665}, {\"threshold\": 0.429, \"p\": 28005, \"fpr\": 0.9664166185804962, \"tpr\": 0.9950723085163363, \"n\": 8665}, {\"threshold\": 0.43, \"p\": 28005, \"fpr\": 0.9664166185804962, \"tpr\": 0.9950723085163363, \"n\": 8665}, {\"threshold\": 0.431, \"p\": 28005, \"fpr\": 0.9664166185804962, \"tpr\": 0.9950723085163363, \"n\": 8665}, {\"threshold\": 0.432, \"p\": 28005, \"fpr\": 0.9664166185804962, \"tpr\": 0.9950723085163363, \"n\": 8665}, {\"threshold\": 0.433, \"p\": 28005, \"fpr\": 0.9664166185804962, \"tpr\": 0.9950723085163363, \"n\": 8665}, {\"threshold\": 0.434, \"p\": 28005, \"fpr\": 0.9664166185804962, \"tpr\": 0.9950723085163363, \"n\": 8665}, {\"threshold\": 0.435, \"p\": 28005, \"fpr\": 0.9664166185804962, \"tpr\": 0.9950723085163363, \"n\": 8665}, {\"threshold\": 0.436, \"p\": 28005, \"fpr\": 0.9664166185804962, \"tpr\": 0.9950723085163363, \"n\": 8665}, {\"threshold\": 0.437, \"p\": 28005, \"fpr\": 0.9664166185804962, \"tpr\": 0.9950723085163363, \"n\": 8665}, {\"threshold\": 0.438, \"p\": 28005, \"fpr\": 0.9664166185804962, \"tpr\": 0.9950723085163363, \"n\": 8665}, {\"threshold\": 0.439, \"p\": 28005, \"fpr\": 0.9664166185804962, \"tpr\": 0.9950723085163363, \"n\": 8665}, {\"threshold\": 0.44, \"p\": 28005, \"fpr\": 0.9664166185804962, \"tpr\": 0.9950723085163363, \"n\": 8665}, {\"threshold\": 0.441, \"p\": 28005, \"fpr\": 0.9664166185804962, \"tpr\": 0.9950723085163363, \"n\": 8665}, {\"threshold\": 0.442, \"p\": 28005, \"fpr\": 0.9664166185804962, \"tpr\": 0.9950723085163363, \"n\": 8665}, {\"threshold\": 0.443, \"p\": 28005, \"fpr\": 0.9664166185804962, \"tpr\": 0.9950723085163363, \"n\": 8665}, {\"threshold\": 0.444, \"p\": 28005, \"fpr\": 0.9664166185804962, \"tpr\": 0.9950723085163363, \"n\": 8665}, {\"threshold\": 0.445, \"p\": 28005, \"fpr\": 0.9664166185804962, \"tpr\": 0.9950723085163363, \"n\": 8665}, {\"threshold\": 0.446, \"p\": 28005, \"fpr\": 0.9664166185804962, \"tpr\": 0.9950723085163363, \"n\": 8665}, {\"threshold\": 0.447, \"p\": 28005, \"fpr\": 0.9664166185804962, \"tpr\": 0.9950723085163363, \"n\": 8665}, {\"threshold\": 0.448, \"p\": 28005, \"fpr\": 0.9661858049624927, \"tpr\": 0.9949651847884307, \"n\": 8665}, {\"threshold\": 0.449, \"p\": 28005, \"fpr\": 0.9661858049624927, \"tpr\": 0.9949651847884307, \"n\": 8665}, {\"threshold\": 0.45, \"p\": 28005, \"fpr\": 0.9661858049624927, \"tpr\": 0.9949651847884307, \"n\": 8665}, {\"threshold\": 0.451, \"p\": 28005, \"fpr\": 0.9661858049624927, \"tpr\": 0.9949651847884307, \"n\": 8665}, {\"threshold\": 0.452, \"p\": 28005, \"fpr\": 0.9661858049624927, \"tpr\": 0.9949651847884307, \"n\": 8665}, {\"threshold\": 0.453, \"p\": 28005, \"fpr\": 0.9661858049624927, \"tpr\": 0.9949651847884307, \"n\": 8665}, {\"threshold\": 0.454, \"p\": 28005, \"fpr\": 0.9661858049624927, \"tpr\": 0.9949651847884307, \"n\": 8665}, {\"threshold\": 0.455, \"p\": 28005, \"fpr\": 0.9661858049624927, \"tpr\": 0.9949651847884307, \"n\": 8665}, {\"threshold\": 0.456, \"p\": 28005, \"fpr\": 0.9661858049624927, \"tpr\": 0.9949651847884307, \"n\": 8665}, {\"threshold\": 0.457, \"p\": 28005, \"fpr\": 0.9661858049624927, \"tpr\": 0.9949651847884307, \"n\": 8665}, {\"threshold\": 0.458, \"p\": 28005, \"fpr\": 0.9661858049624927, \"tpr\": 0.9949651847884307, \"n\": 8665}, {\"threshold\": 0.459, \"p\": 28005, \"fpr\": 0.9661858049624927, \"tpr\": 0.9949651847884307, \"n\": 8665}, {\"threshold\": 0.46, \"p\": 28005, \"fpr\": 0.9661858049624927, \"tpr\": 0.9949651847884307, \"n\": 8665}, {\"threshold\": 0.461, \"p\": 28005, \"fpr\": 0.9656087709174841, \"tpr\": 0.9948937689698268, \"n\": 8665}, {\"threshold\": 0.462, \"p\": 28005, \"fpr\": 0.9656087709174841, \"tpr\": 0.9948937689698268, \"n\": 8665}, {\"threshold\": 0.463, \"p\": 28005, \"fpr\": 0.9656087709174841, \"tpr\": 0.9948937689698268, \"n\": 8665}, {\"threshold\": 0.464, \"p\": 28005, \"fpr\": 0.9656087709174841, \"tpr\": 0.9948937689698268, \"n\": 8665}, {\"threshold\": 0.465, \"p\": 28005, \"fpr\": 0.9656087709174841, \"tpr\": 0.9948937689698268, \"n\": 8665}, {\"threshold\": 0.466, \"p\": 28005, \"fpr\": 0.9645701096364685, \"tpr\": 0.9947509373326192, \"n\": 8665}, {\"threshold\": 0.467, \"p\": 28005, \"fpr\": 0.9645701096364685, \"tpr\": 0.9947509373326192, \"n\": 8665}, {\"threshold\": 0.468, \"p\": 28005, \"fpr\": 0.9645701096364685, \"tpr\": 0.9947152294233172, \"n\": 8665}, {\"threshold\": 0.469, \"p\": 28005, \"fpr\": 0.9645701096364685, \"tpr\": 0.9947152294233172, \"n\": 8665}, {\"threshold\": 0.47, \"p\": 28005, \"fpr\": 0.9645701096364685, \"tpr\": 0.9947152294233172, \"n\": 8665}, {\"threshold\": 0.471, \"p\": 28005, \"fpr\": 0.9645701096364685, \"tpr\": 0.9947152294233172, \"n\": 8665}, {\"threshold\": 0.472, \"p\": 28005, \"fpr\": 0.9645701096364685, \"tpr\": 0.9947152294233172, \"n\": 8665}, {\"threshold\": 0.473, \"p\": 28005, \"fpr\": 0.9645701096364685, \"tpr\": 0.9947152294233172, \"n\": 8665}, {\"threshold\": 0.474, \"p\": 28005, \"fpr\": 0.9645701096364685, \"tpr\": 0.9947152294233172, \"n\": 8665}, {\"threshold\": 0.475, \"p\": 28005, \"fpr\": 0.9645701096364685, \"tpr\": 0.9947152294233172, \"n\": 8665}, {\"threshold\": 0.476, \"p\": 28005, \"fpr\": 0.9645701096364685, \"tpr\": 0.9947152294233172, \"n\": 8665}, {\"threshold\": 0.477, \"p\": 28005, \"fpr\": 0.9645701096364685, \"tpr\": 0.9947152294233172, \"n\": 8665}, {\"threshold\": 0.478, \"p\": 28005, \"fpr\": 0.9645701096364685, \"tpr\": 0.9947152294233172, \"n\": 8665}, {\"threshold\": 0.479, \"p\": 28005, \"fpr\": 0.9645701096364685, \"tpr\": 0.9947152294233172, \"n\": 8665}, {\"threshold\": 0.48, \"p\": 28005, \"fpr\": 0.9645701096364685, \"tpr\": 0.9947152294233172, \"n\": 8665}, {\"threshold\": 0.481, \"p\": 28005, \"fpr\": 0.9645701096364685, \"tpr\": 0.9947152294233172, \"n\": 8665}, {\"threshold\": 0.482, \"p\": 28005, \"fpr\": 0.9645701096364685, \"tpr\": 0.9947152294233172, \"n\": 8665}, {\"threshold\": 0.483, \"p\": 28005, \"fpr\": 0.9645701096364685, \"tpr\": 0.9947152294233172, \"n\": 8665}, {\"threshold\": 0.484, \"p\": 28005, \"fpr\": 0.9645701096364685, \"tpr\": 0.9947152294233172, \"n\": 8665}, {\"threshold\": 0.485, \"p\": 28005, \"fpr\": 0.9645701096364685, \"tpr\": 0.9947152294233172, \"n\": 8665}, {\"threshold\": 0.486, \"p\": 28005, \"fpr\": 0.9645701096364685, \"tpr\": 0.9947152294233172, \"n\": 8665}, {\"threshold\": 0.487, \"p\": 28005, \"fpr\": 0.9645701096364685, \"tpr\": 0.9947152294233172, \"n\": 8665}, {\"threshold\": 0.488, \"p\": 28005, \"fpr\": 0.9645701096364685, \"tpr\": 0.9947152294233172, \"n\": 8665}, {\"threshold\": 0.489, \"p\": 28005, \"fpr\": 0.9645701096364685, \"tpr\": 0.9947152294233172, \"n\": 8665}, {\"threshold\": 0.49, \"p\": 28005, \"fpr\": 0.9645701096364685, \"tpr\": 0.9947152294233172, \"n\": 8665}, {\"threshold\": 0.491, \"p\": 28005, \"fpr\": 0.9645701096364685, \"tpr\": 0.9947152294233172, \"n\": 8665}, {\"threshold\": 0.492, \"p\": 28005, \"fpr\": 0.9645701096364685, \"tpr\": 0.9947152294233172, \"n\": 8665}, {\"threshold\": 0.493, \"p\": 28005, \"fpr\": 0.9645701096364685, \"tpr\": 0.9947152294233172, \"n\": 8665}, {\"threshold\": 0.494, \"p\": 28005, \"fpr\": 0.9645701096364685, \"tpr\": 0.9947152294233172, \"n\": 8665}, {\"threshold\": 0.495, \"p\": 28005, \"fpr\": 0.9645701096364685, \"tpr\": 0.9947152294233172, \"n\": 8665}, {\"threshold\": 0.496, \"p\": 28005, \"fpr\": 0.9645701096364685, \"tpr\": 0.9947152294233172, \"n\": 8665}, {\"threshold\": 0.497, \"p\": 28005, \"fpr\": 0.9645701096364685, \"tpr\": 0.9947152294233172, \"n\": 8665}, {\"threshold\": 0.498, \"p\": 28005, \"fpr\": 0.9645701096364685, \"tpr\": 0.9947152294233172, \"n\": 8665}, {\"threshold\": 0.499, \"p\": 28005, \"fpr\": 0.9407963069821119, \"tpr\": 0.9869309051955008, \"n\": 8665}, {\"threshold\": 0.5, \"p\": 28005, \"fpr\": 0.9407963069821119, \"tpr\": 0.9869309051955008, \"n\": 8665}, {\"threshold\": 0.501, \"p\": 28005, \"fpr\": 0.9407963069821119, \"tpr\": 0.9869309051955008, \"n\": 8665}, {\"threshold\": 0.502, \"p\": 28005, \"fpr\": 0.9407963069821119, \"tpr\": 0.9869309051955008, \"n\": 8665}, {\"threshold\": 0.503, \"p\": 28005, \"fpr\": 0.9407963069821119, \"tpr\": 0.9869309051955008, \"n\": 8665}, {\"threshold\": 0.504, \"p\": 28005, \"fpr\": 0.9407963069821119, \"tpr\": 0.9869309051955008, \"n\": 8665}, {\"threshold\": 0.505, \"p\": 28005, \"fpr\": 0.9407963069821119, \"tpr\": 0.9869309051955008, \"n\": 8665}, {\"threshold\": 0.506, \"p\": 28005, \"fpr\": 0.9407963069821119, \"tpr\": 0.9869309051955008, \"n\": 8665}, {\"threshold\": 0.507, \"p\": 28005, \"fpr\": 0.9407963069821119, \"tpr\": 0.9869309051955008, \"n\": 8665}, {\"threshold\": 0.508, \"p\": 28005, \"fpr\": 0.9407963069821119, \"tpr\": 0.9869309051955008, \"n\": 8665}, {\"threshold\": 0.509, \"p\": 28005, \"fpr\": 0.9407963069821119, \"tpr\": 0.9868951972861989, \"n\": 8665}, {\"threshold\": 0.51, \"p\": 28005, \"fpr\": 0.9407963069821119, \"tpr\": 0.9868951972861989, \"n\": 8665}, {\"threshold\": 0.511, \"p\": 28005, \"fpr\": 0.9407963069821119, \"tpr\": 0.9868951972861989, \"n\": 8665}, {\"threshold\": 0.512, \"p\": 28005, \"fpr\": 0.9407963069821119, \"tpr\": 0.9868594893768969, \"n\": 8665}, {\"threshold\": 0.513, \"p\": 28005, \"fpr\": 0.9407963069821119, \"tpr\": 0.9868594893768969, \"n\": 8665}, {\"threshold\": 0.514, \"p\": 28005, \"fpr\": 0.9407963069821119, \"tpr\": 0.9868594893768969, \"n\": 8665}, {\"threshold\": 0.515, \"p\": 28005, \"fpr\": 0.9407963069821119, \"tpr\": 0.9868594893768969, \"n\": 8665}, {\"threshold\": 0.516, \"p\": 28005, \"fpr\": 0.9407963069821119, \"tpr\": 0.9868594893768969, \"n\": 8665}, {\"threshold\": 0.517, \"p\": 28005, \"fpr\": 0.9407963069821119, \"tpr\": 0.9868594893768969, \"n\": 8665}, {\"threshold\": 0.518, \"p\": 28005, \"fpr\": 0.9407963069821119, \"tpr\": 0.9868594893768969, \"n\": 8665}, {\"threshold\": 0.519, \"p\": 28005, \"fpr\": 0.9407963069821119, \"tpr\": 0.9868594893768969, \"n\": 8665}, {\"threshold\": 0.52, \"p\": 28005, \"fpr\": 0.9407963069821119, \"tpr\": 0.9868594893768969, \"n\": 8665}, {\"threshold\": 0.521, \"p\": 28005, \"fpr\": 0.9407963069821119, \"tpr\": 0.9868594893768969, \"n\": 8665}, {\"threshold\": 0.522, \"p\": 28005, \"fpr\": 0.9407963069821119, \"tpr\": 0.9868594893768969, \"n\": 8665}, {\"threshold\": 0.523, \"p\": 28005, \"fpr\": 0.9407963069821119, \"tpr\": 0.9868594893768969, \"n\": 8665}, {\"threshold\": 0.524, \"p\": 28005, \"fpr\": 0.9407963069821119, \"tpr\": 0.9868594893768969, \"n\": 8665}, {\"threshold\": 0.525, \"p\": 28005, \"fpr\": 0.9407963069821119, \"tpr\": 0.9868594893768969, \"n\": 8665}, {\"threshold\": 0.526, \"p\": 28005, \"fpr\": 0.9407963069821119, \"tpr\": 0.9868594893768969, \"n\": 8665}, {\"threshold\": 0.527, \"p\": 28005, \"fpr\": 0.9407963069821119, \"tpr\": 0.9868594893768969, \"n\": 8665}, {\"threshold\": 0.528, \"p\": 28005, \"fpr\": 0.9407963069821119, \"tpr\": 0.9868594893768969, \"n\": 8665}, {\"threshold\": 0.529, \"p\": 28005, \"fpr\": 0.9407963069821119, \"tpr\": 0.9868594893768969, \"n\": 8665}, {\"threshold\": 0.53, \"p\": 28005, \"fpr\": 0.9407963069821119, \"tpr\": 0.9868594893768969, \"n\": 8665}, {\"threshold\": 0.531, \"p\": 28005, \"fpr\": 0.9407963069821119, \"tpr\": 0.9868594893768969, \"n\": 8665}, {\"threshold\": 0.532, \"p\": 28005, \"fpr\": 0.9407963069821119, \"tpr\": 0.9868594893768969, \"n\": 8665}, {\"threshold\": 0.533, \"p\": 28005, \"fpr\": 0.9407963069821119, \"tpr\": 0.9868594893768969, \"n\": 8665}, {\"threshold\": 0.534, \"p\": 28005, \"fpr\": 0.9407963069821119, \"tpr\": 0.9868594893768969, \"n\": 8665}, {\"threshold\": 0.535, \"p\": 28005, \"fpr\": 0.9407963069821119, \"tpr\": 0.9868594893768969, \"n\": 8665}, {\"threshold\": 0.536, \"p\": 28005, \"fpr\": 0.9407963069821119, \"tpr\": 0.9868594893768969, \"n\": 8665}, {\"threshold\": 0.537, \"p\": 28005, \"fpr\": 0.9407963069821119, \"tpr\": 0.9867880735582931, \"n\": 8665}, {\"threshold\": 0.538, \"p\": 28005, \"fpr\": 0.9407963069821119, \"tpr\": 0.9867880735582931, \"n\": 8665}, {\"threshold\": 0.539, \"p\": 28005, \"fpr\": 0.9407963069821119, \"tpr\": 0.9867880735582931, \"n\": 8665}, {\"threshold\": 0.54, \"p\": 28005, \"fpr\": 0.9407963069821119, \"tpr\": 0.9867880735582931, \"n\": 8665}, {\"threshold\": 0.541, \"p\": 28005, \"fpr\": 0.9404500865551068, \"tpr\": 0.9866095340117836, \"n\": 8665}, {\"threshold\": 0.542, \"p\": 28005, \"fpr\": 0.9404500865551068, \"tpr\": 0.9866095340117836, \"n\": 8665}, {\"threshold\": 0.543, \"p\": 28005, \"fpr\": 0.9403346797461051, \"tpr\": 0.9866095340117836, \"n\": 8665}, {\"threshold\": 0.544, \"p\": 28005, \"fpr\": 0.9403346797461051, \"tpr\": 0.9866095340117836, \"n\": 8665}, {\"threshold\": 0.545, \"p\": 28005, \"fpr\": 0.9403346797461051, \"tpr\": 0.9866095340117836, \"n\": 8665}, {\"threshold\": 0.546, \"p\": 28005, \"fpr\": 0.9403346797461051, \"tpr\": 0.9866095340117836, \"n\": 8665}, {\"threshold\": 0.547, \"p\": 28005, \"fpr\": 0.9403346797461051, \"tpr\": 0.9866095340117836, \"n\": 8665}, {\"threshold\": 0.548, \"p\": 28005, \"fpr\": 0.9403346797461051, \"tpr\": 0.9866095340117836, \"n\": 8665}, {\"threshold\": 0.549, \"p\": 28005, \"fpr\": 0.9403346797461051, \"tpr\": 0.9866095340117836, \"n\": 8665}, {\"threshold\": 0.55, \"p\": 28005, \"fpr\": 0.9403346797461051, \"tpr\": 0.9866095340117836, \"n\": 8665}, {\"threshold\": 0.551, \"p\": 28005, \"fpr\": 0.9403346797461051, \"tpr\": 0.9866095340117836, \"n\": 8665}, {\"threshold\": 0.552, \"p\": 28005, \"fpr\": 0.9403346797461051, \"tpr\": 0.9866095340117836, \"n\": 8665}, {\"threshold\": 0.553, \"p\": 28005, \"fpr\": 0.9403346797461051, \"tpr\": 0.9866095340117836, \"n\": 8665}, {\"threshold\": 0.554, \"p\": 28005, \"fpr\": 0.9403346797461051, \"tpr\": 0.9866095340117836, \"n\": 8665}, {\"threshold\": 0.555, \"p\": 28005, \"fpr\": 0.9403346797461051, \"tpr\": 0.9866095340117836, \"n\": 8665}, {\"threshold\": 0.556, \"p\": 28005, \"fpr\": 0.9403346797461051, \"tpr\": 0.9866095340117836, \"n\": 8665}, {\"threshold\": 0.557, \"p\": 28005, \"fpr\": 0.9403346797461051, \"tpr\": 0.9866095340117836, \"n\": 8665}, {\"threshold\": 0.558, \"p\": 28005, \"fpr\": 0.9403346797461051, \"tpr\": 0.9866095340117836, \"n\": 8665}, {\"threshold\": 0.559, \"p\": 28005, \"fpr\": 0.9403346797461051, \"tpr\": 0.9866095340117836, \"n\": 8665}, {\"threshold\": 0.56, \"p\": 28005, \"fpr\": 0.9403346797461051, \"tpr\": 0.9866095340117836, \"n\": 8665}, {\"threshold\": 0.561, \"p\": 28005, \"fpr\": 0.9403346797461051, \"tpr\": 0.9866095340117836, \"n\": 8665}, {\"threshold\": 0.562, \"p\": 28005, \"fpr\": 0.9402192729371033, \"tpr\": 0.9865738261024817, \"n\": 8665}, {\"threshold\": 0.563, \"p\": 28005, \"fpr\": 0.9402192729371033, \"tpr\": 0.9865738261024817, \"n\": 8665}, {\"threshold\": 0.564, \"p\": 28005, \"fpr\": 0.9402192729371033, \"tpr\": 0.9865738261024817, \"n\": 8665}, {\"threshold\": 0.565, \"p\": 28005, \"fpr\": 0.9402192729371033, \"tpr\": 0.9865738261024817, \"n\": 8665}, {\"threshold\": 0.566, \"p\": 28005, \"fpr\": 0.9402192729371033, \"tpr\": 0.9865738261024817, \"n\": 8665}, {\"threshold\": 0.567, \"p\": 28005, \"fpr\": 0.9402192729371033, \"tpr\": 0.9865738261024817, \"n\": 8665}, {\"threshold\": 0.568, \"p\": 28005, \"fpr\": 0.9402192729371033, \"tpr\": 0.9865738261024817, \"n\": 8665}, {\"threshold\": 0.569, \"p\": 28005, \"fpr\": 0.9402192729371033, \"tpr\": 0.9865738261024817, \"n\": 8665}, {\"threshold\": 0.57, \"p\": 28005, \"fpr\": 0.9402192729371033, \"tpr\": 0.9865738261024817, \"n\": 8665}, {\"threshold\": 0.571, \"p\": 28005, \"fpr\": 0.9402192729371033, \"tpr\": 0.9865738261024817, \"n\": 8665}, {\"threshold\": 0.572, \"p\": 28005, \"fpr\": 0.9402192729371033, \"tpr\": 0.9865738261024817, \"n\": 8665}, {\"threshold\": 0.573, \"p\": 28005, \"fpr\": 0.9402192729371033, \"tpr\": 0.9865738261024817, \"n\": 8665}, {\"threshold\": 0.574, \"p\": 28005, \"fpr\": 0.9402192729371033, \"tpr\": 0.9865738261024817, \"n\": 8665}, {\"threshold\": 0.575, \"p\": 28005, \"fpr\": 0.9398730525100981, \"tpr\": 0.9863952865559722, \"n\": 8665}, {\"threshold\": 0.576, \"p\": 28005, \"fpr\": 0.9398730525100981, \"tpr\": 0.9863952865559722, \"n\": 8665}, {\"threshold\": 0.577, \"p\": 28005, \"fpr\": 0.9398730525100981, \"tpr\": 0.9863952865559722, \"n\": 8665}, {\"threshold\": 0.578, \"p\": 28005, \"fpr\": 0.9398730525100981, \"tpr\": 0.9863952865559722, \"n\": 8665}, {\"threshold\": 0.579, \"p\": 28005, \"fpr\": 0.9392960184650895, \"tpr\": 0.9861810391001606, \"n\": 8665}, {\"threshold\": 0.58, \"p\": 28005, \"fpr\": 0.9388343912290825, \"tpr\": 0.9859667916443492, \"n\": 8665}, {\"threshold\": 0.581, \"p\": 28005, \"fpr\": 0.9388343912290825, \"tpr\": 0.9859667916443492, \"n\": 8665}, {\"threshold\": 0.582, \"p\": 28005, \"fpr\": 0.9388343912290825, \"tpr\": 0.9859667916443492, \"n\": 8665}, {\"threshold\": 0.583, \"p\": 28005, \"fpr\": 0.9388343912290825, \"tpr\": 0.9859667916443492, \"n\": 8665}, {\"threshold\": 0.584, \"p\": 28005, \"fpr\": 0.9388343912290825, \"tpr\": 0.9859667916443492, \"n\": 8665}, {\"threshold\": 0.585, \"p\": 28005, \"fpr\": 0.9388343912290825, \"tpr\": 0.9859667916443492, \"n\": 8665}, {\"threshold\": 0.586, \"p\": 28005, \"fpr\": 0.9388343912290825, \"tpr\": 0.9859667916443492, \"n\": 8665}, {\"threshold\": 0.587, \"p\": 28005, \"fpr\": 0.9388343912290825, \"tpr\": 0.9859667916443492, \"n\": 8665}, {\"threshold\": 0.588, \"p\": 28005, \"fpr\": 0.9388343912290825, \"tpr\": 0.9859310837350473, \"n\": 8665}, {\"threshold\": 0.589, \"p\": 28005, \"fpr\": 0.9388343912290825, \"tpr\": 0.9859310837350473, \"n\": 8665}, {\"threshold\": 0.59, \"p\": 28005, \"fpr\": 0.9388343912290825, \"tpr\": 0.9859310837350473, \"n\": 8665}, {\"threshold\": 0.591, \"p\": 28005, \"fpr\": 0.9388343912290825, \"tpr\": 0.9859310837350473, \"n\": 8665}, {\"threshold\": 0.592, \"p\": 28005, \"fpr\": 0.9388343912290825, \"tpr\": 0.9859310837350473, \"n\": 8665}, {\"threshold\": 0.593, \"p\": 28005, \"fpr\": 0.9388343912290825, \"tpr\": 0.9859310837350473, \"n\": 8665}, {\"threshold\": 0.594, \"p\": 28005, \"fpr\": 0.9388343912290825, \"tpr\": 0.9859310837350473, \"n\": 8665}, {\"threshold\": 0.595, \"p\": 28005, \"fpr\": 0.9388343912290825, \"tpr\": 0.9859310837350473, \"n\": 8665}, {\"threshold\": 0.596, \"p\": 28005, \"fpr\": 0.9388343912290825, \"tpr\": 0.9859310837350473, \"n\": 8665}, {\"threshold\": 0.597, \"p\": 28005, \"fpr\": 0.9388343912290825, \"tpr\": 0.9859310837350473, \"n\": 8665}, {\"threshold\": 0.598, \"p\": 28005, \"fpr\": 0.9388343912290825, \"tpr\": 0.9859310837350473, \"n\": 8665}, {\"threshold\": 0.599, \"p\": 28005, \"fpr\": 0.9388343912290825, \"tpr\": 0.9859310837350473, \"n\": 8665}, {\"threshold\": 0.6, \"p\": 28005, \"fpr\": 0.9388343912290825, \"tpr\": 0.9859310837350473, \"n\": 8665}, {\"threshold\": 0.601, \"p\": 28005, \"fpr\": 0.9388343912290825, \"tpr\": 0.9859310837350473, \"n\": 8665}, {\"threshold\": 0.602, \"p\": 28005, \"fpr\": 0.9388343912290825, \"tpr\": 0.9859310837350473, \"n\": 8665}, {\"threshold\": 0.603, \"p\": 28005, \"fpr\": 0.9388343912290825, \"tpr\": 0.9859310837350473, \"n\": 8665}, {\"threshold\": 0.604, \"p\": 28005, \"fpr\": 0.9388343912290825, \"tpr\": 0.9859310837350473, \"n\": 8665}, {\"threshold\": 0.605, \"p\": 28005, \"fpr\": 0.9388343912290825, \"tpr\": 0.9859310837350473, \"n\": 8665}, {\"threshold\": 0.606, \"p\": 28005, \"fpr\": 0.9388343912290825, \"tpr\": 0.9859310837350473, \"n\": 8665}, {\"threshold\": 0.607, \"p\": 28005, \"fpr\": 0.9388343912290825, \"tpr\": 0.9859310837350473, \"n\": 8665}, {\"threshold\": 0.608, \"p\": 28005, \"fpr\": 0.9388343912290825, \"tpr\": 0.9859310837350473, \"n\": 8665}, {\"threshold\": 0.609, \"p\": 28005, \"fpr\": 0.9388343912290825, \"tpr\": 0.9859310837350473, \"n\": 8665}, {\"threshold\": 0.61, \"p\": 28005, \"fpr\": 0.9388343912290825, \"tpr\": 0.9859310837350473, \"n\": 8665}, {\"threshold\": 0.611, \"p\": 28005, \"fpr\": 0.9388343912290825, \"tpr\": 0.9859310837350473, \"n\": 8665}, {\"threshold\": 0.612, \"p\": 28005, \"fpr\": 0.9388343912290825, \"tpr\": 0.9859310837350473, \"n\": 8665}, {\"threshold\": 0.613, \"p\": 28005, \"fpr\": 0.9388343912290825, \"tpr\": 0.9859310837350473, \"n\": 8665}, {\"threshold\": 0.614, \"p\": 28005, \"fpr\": 0.9388343912290825, \"tpr\": 0.9859310837350473, \"n\": 8665}, {\"threshold\": 0.615, \"p\": 28005, \"fpr\": 0.9387189844200808, \"tpr\": 0.9859310837350473, \"n\": 8665}, {\"threshold\": 0.616, \"p\": 28005, \"fpr\": 0.9387189844200808, \"tpr\": 0.9859310837350473, \"n\": 8665}, {\"threshold\": 0.617, \"p\": 28005, \"fpr\": 0.9387189844200808, \"tpr\": 0.9859310837350473, \"n\": 8665}, {\"threshold\": 0.618, \"p\": 28005, \"fpr\": 0.9387189844200808, \"tpr\": 0.9859310837350473, \"n\": 8665}, {\"threshold\": 0.619, \"p\": 28005, \"fpr\": 0.9387189844200808, \"tpr\": 0.9859310837350473, \"n\": 8665}, {\"threshold\": 0.62, \"p\": 28005, \"fpr\": 0.9387189844200808, \"tpr\": 0.9859310837350473, \"n\": 8665}, {\"threshold\": 0.621, \"p\": 28005, \"fpr\": 0.9387189844200808, \"tpr\": 0.9858953758257454, \"n\": 8665}, {\"threshold\": 0.622, \"p\": 28005, \"fpr\": 0.9387189844200808, \"tpr\": 0.9858953758257454, \"n\": 8665}, {\"threshold\": 0.623, \"p\": 28005, \"fpr\": 0.9387189844200808, \"tpr\": 0.9858953758257454, \"n\": 8665}, {\"threshold\": 0.624, \"p\": 28005, \"fpr\": 0.9387189844200808, \"tpr\": 0.9858953758257454, \"n\": 8665}, {\"threshold\": 0.625, \"p\": 28005, \"fpr\": 0.9384881708020774, \"tpr\": 0.9858239600071416, \"n\": 8665}, {\"threshold\": 0.626, \"p\": 28005, \"fpr\": 0.9384881708020774, \"tpr\": 0.9858239600071416, \"n\": 8665}, {\"threshold\": 0.627, \"p\": 28005, \"fpr\": 0.9384881708020774, \"tpr\": 0.9858239600071416, \"n\": 8665}, {\"threshold\": 0.628, \"p\": 28005, \"fpr\": 0.9384881708020774, \"tpr\": 0.9858239600071416, \"n\": 8665}, {\"threshold\": 0.629, \"p\": 28005, \"fpr\": 0.9384881708020774, \"tpr\": 0.9858239600071416, \"n\": 8665}, {\"threshold\": 0.63, \"p\": 28005, \"fpr\": 0.9384881708020774, \"tpr\": 0.9858239600071416, \"n\": 8665}, {\"threshold\": 0.631, \"p\": 28005, \"fpr\": 0.9384881708020774, \"tpr\": 0.9858239600071416, \"n\": 8665}, {\"threshold\": 0.632, \"p\": 28005, \"fpr\": 0.9384881708020774, \"tpr\": 0.9858239600071416, \"n\": 8665}, {\"threshold\": 0.633, \"p\": 28005, \"fpr\": 0.9384881708020774, \"tpr\": 0.9857882520978397, \"n\": 8665}, {\"threshold\": 0.634, \"p\": 28005, \"fpr\": 0.9384881708020774, \"tpr\": 0.9857882520978397, \"n\": 8665}, {\"threshold\": 0.635, \"p\": 28005, \"fpr\": 0.9384881708020774, \"tpr\": 0.9857882520978397, \"n\": 8665}, {\"threshold\": 0.636, \"p\": 28005, \"fpr\": 0.9384881708020774, \"tpr\": 0.9857882520978397, \"n\": 8665}, {\"threshold\": 0.637, \"p\": 28005, \"fpr\": 0.9384881708020774, \"tpr\": 0.9857882520978397, \"n\": 8665}, {\"threshold\": 0.638, \"p\": 28005, \"fpr\": 0.9382573571840739, \"tpr\": 0.9857525441885377, \"n\": 8665}, {\"threshold\": 0.639, \"p\": 28005, \"fpr\": 0.9382573571840739, \"tpr\": 0.9857525441885377, \"n\": 8665}, {\"threshold\": 0.64, \"p\": 28005, \"fpr\": 0.9382573571840739, \"tpr\": 0.9857525441885377, \"n\": 8665}, {\"threshold\": 0.641, \"p\": 28005, \"fpr\": 0.9382573571840739, \"tpr\": 0.9857525441885377, \"n\": 8665}, {\"threshold\": 0.642, \"p\": 28005, \"fpr\": 0.9382573571840739, \"tpr\": 0.9857525441885377, \"n\": 8665}, {\"threshold\": 0.643, \"p\": 28005, \"fpr\": 0.9382573571840739, \"tpr\": 0.9857525441885377, \"n\": 8665}, {\"threshold\": 0.644, \"p\": 28005, \"fpr\": 0.9382573571840739, \"tpr\": 0.9857525441885377, \"n\": 8665}, {\"threshold\": 0.645, \"p\": 28005, \"fpr\": 0.9382573571840739, \"tpr\": 0.9857525441885377, \"n\": 8665}, {\"threshold\": 0.646, \"p\": 28005, \"fpr\": 0.9382573571840739, \"tpr\": 0.9857525441885377, \"n\": 8665}, {\"threshold\": 0.647, \"p\": 28005, \"fpr\": 0.9382573571840739, \"tpr\": 0.9857525441885377, \"n\": 8665}, {\"threshold\": 0.648, \"p\": 28005, \"fpr\": 0.9382573571840739, \"tpr\": 0.9857525441885377, \"n\": 8665}, {\"threshold\": 0.649, \"p\": 28005, \"fpr\": 0.9382573571840739, \"tpr\": 0.9857525441885377, \"n\": 8665}, {\"threshold\": 0.65, \"p\": 28005, \"fpr\": 0.9382573571840739, \"tpr\": 0.9856454204606321, \"n\": 8665}, {\"threshold\": 0.651, \"p\": 28005, \"fpr\": 0.9380265435660704, \"tpr\": 0.9856097125513301, \"n\": 8665}, {\"threshold\": 0.652, \"p\": 28005, \"fpr\": 0.9380265435660704, \"tpr\": 0.9856097125513301, \"n\": 8665}, {\"threshold\": 0.653, \"p\": 28005, \"fpr\": 0.9380265435660704, \"tpr\": 0.9856097125513301, \"n\": 8665}, {\"threshold\": 0.654, \"p\": 28005, \"fpr\": 0.9380265435660704, \"tpr\": 0.9856097125513301, \"n\": 8665}, {\"threshold\": 0.655, \"p\": 28005, \"fpr\": 0.9380265435660704, \"tpr\": 0.9856097125513301, \"n\": 8665}, {\"threshold\": 0.656, \"p\": 28005, \"fpr\": 0.9380265435660704, \"tpr\": 0.9856097125513301, \"n\": 8665}, {\"threshold\": 0.657, \"p\": 28005, \"fpr\": 0.9379111367570687, \"tpr\": 0.9856097125513301, \"n\": 8665}, {\"threshold\": 0.658, \"p\": 28005, \"fpr\": 0.9379111367570687, \"tpr\": 0.9856097125513301, \"n\": 8665}, {\"threshold\": 0.659, \"p\": 28005, \"fpr\": 0.9379111367570687, \"tpr\": 0.9856097125513301, \"n\": 8665}, {\"threshold\": 0.66, \"p\": 28005, \"fpr\": 0.9379111367570687, \"tpr\": 0.9856097125513301, \"n\": 8665}, {\"threshold\": 0.661, \"p\": 28005, \"fpr\": 0.9379111367570687, \"tpr\": 0.9856097125513301, \"n\": 8665}, {\"threshold\": 0.662, \"p\": 28005, \"fpr\": 0.9379111367570687, \"tpr\": 0.9856097125513301, \"n\": 8665}, {\"threshold\": 0.663, \"p\": 28005, \"fpr\": 0.9379111367570687, \"tpr\": 0.9856097125513301, \"n\": 8665}, {\"threshold\": 0.664, \"p\": 28005, \"fpr\": 0.9379111367570687, \"tpr\": 0.9856097125513301, \"n\": 8665}, {\"threshold\": 0.665, \"p\": 28005, \"fpr\": 0.9379111367570687, \"tpr\": 0.9856097125513301, \"n\": 8665}, {\"threshold\": 0.666, \"p\": 28005, \"fpr\": 0.9379111367570687, \"tpr\": 0.9856097125513301, \"n\": 8665}, {\"threshold\": 0.667, \"p\": 28005, \"fpr\": 0.9377957299480669, \"tpr\": 0.9856097125513301, \"n\": 8665}, {\"threshold\": 0.668, \"p\": 28005, \"fpr\": 0.9347951529140219, \"tpr\": 0.9839314408141403, \"n\": 8665}, {\"threshold\": 0.669, \"p\": 28005, \"fpr\": 0.9347951529140219, \"tpr\": 0.9839314408141403, \"n\": 8665}, {\"threshold\": 0.67, \"p\": 28005, \"fpr\": 0.9347951529140219, \"tpr\": 0.9839314408141403, \"n\": 8665}, {\"threshold\": 0.671, \"p\": 28005, \"fpr\": 0.9347951529140219, \"tpr\": 0.9839314408141403, \"n\": 8665}, {\"threshold\": 0.672, \"p\": 28005, \"fpr\": 0.9347951529140219, \"tpr\": 0.9839314408141403, \"n\": 8665}, {\"threshold\": 0.673, \"p\": 28005, \"fpr\": 0.9347951529140219, \"tpr\": 0.9839314408141403, \"n\": 8665}, {\"threshold\": 0.674, \"p\": 28005, \"fpr\": 0.9347951529140219, \"tpr\": 0.9839314408141403, \"n\": 8665}, {\"threshold\": 0.675, \"p\": 28005, \"fpr\": 0.9347951529140219, \"tpr\": 0.9839314408141403, \"n\": 8665}, {\"threshold\": 0.676, \"p\": 28005, \"fpr\": 0.9347951529140219, \"tpr\": 0.9839314408141403, \"n\": 8665}, {\"threshold\": 0.677, \"p\": 28005, \"fpr\": 0.9347951529140219, \"tpr\": 0.9839314408141403, \"n\": 8665}, {\"threshold\": 0.678, \"p\": 28005, \"fpr\": 0.9347951529140219, \"tpr\": 0.9839314408141403, \"n\": 8665}, {\"threshold\": 0.679, \"p\": 28005, \"fpr\": 0.9347951529140219, \"tpr\": 0.9839314408141403, \"n\": 8665}, {\"threshold\": 0.68, \"p\": 28005, \"fpr\": 0.9347951529140219, \"tpr\": 0.9839314408141403, \"n\": 8665}, {\"threshold\": 0.681, \"p\": 28005, \"fpr\": 0.9347951529140219, \"tpr\": 0.9839314408141403, \"n\": 8665}, {\"threshold\": 0.682, \"p\": 28005, \"fpr\": 0.9347951529140219, \"tpr\": 0.9839314408141403, \"n\": 8665}, {\"threshold\": 0.683, \"p\": 28005, \"fpr\": 0.9347951529140219, \"tpr\": 0.9839314408141403, \"n\": 8665}, {\"threshold\": 0.684, \"p\": 28005, \"fpr\": 0.9347951529140219, \"tpr\": 0.9839314408141403, \"n\": 8665}, {\"threshold\": 0.685, \"p\": 28005, \"fpr\": 0.933064050778996, \"tpr\": 0.9830387430815926, \"n\": 8665}, {\"threshold\": 0.686, \"p\": 28005, \"fpr\": 0.933064050778996, \"tpr\": 0.9830387430815926, \"n\": 8665}, {\"threshold\": 0.687, \"p\": 28005, \"fpr\": 0.933064050778996, \"tpr\": 0.9830387430815926, \"n\": 8665}, {\"threshold\": 0.688, \"p\": 28005, \"fpr\": 0.933064050778996, \"tpr\": 0.9830387430815926, \"n\": 8665}, {\"threshold\": 0.689, \"p\": 28005, \"fpr\": 0.933064050778996, \"tpr\": 0.9830387430815926, \"n\": 8665}, {\"threshold\": 0.69, \"p\": 28005, \"fpr\": 0.933064050778996, \"tpr\": 0.9830387430815926, \"n\": 8665}, {\"threshold\": 0.691, \"p\": 28005, \"fpr\": 0.933064050778996, \"tpr\": 0.9830387430815926, \"n\": 8665}, {\"threshold\": 0.692, \"p\": 28005, \"fpr\": 0.933064050778996, \"tpr\": 0.9830387430815926, \"n\": 8665}, {\"threshold\": 0.693, \"p\": 28005, \"fpr\": 0.933064050778996, \"tpr\": 0.9830387430815926, \"n\": 8665}, {\"threshold\": 0.694, \"p\": 28005, \"fpr\": 0.933064050778996, \"tpr\": 0.9830387430815926, \"n\": 8665}, {\"threshold\": 0.695, \"p\": 28005, \"fpr\": 0.933064050778996, \"tpr\": 0.9830387430815926, \"n\": 8665}, {\"threshold\": 0.696, \"p\": 28005, \"fpr\": 0.933064050778996, \"tpr\": 0.9830387430815926, \"n\": 8665}, {\"threshold\": 0.697, \"p\": 28005, \"fpr\": 0.933064050778996, \"tpr\": 0.9830387430815926, \"n\": 8665}, {\"threshold\": 0.698, \"p\": 28005, \"fpr\": 0.933064050778996, \"tpr\": 0.9830387430815926, \"n\": 8665}, {\"threshold\": 0.699, \"p\": 28005, \"fpr\": 0.933064050778996, \"tpr\": 0.9830387430815926, \"n\": 8665}, {\"threshold\": 0.7, \"p\": 28005, \"fpr\": 0.933064050778996, \"tpr\": 0.9830387430815926, \"n\": 8665}, {\"threshold\": 0.701, \"p\": 28005, \"fpr\": 0.933064050778996, \"tpr\": 0.9830387430815926, \"n\": 8665}, {\"threshold\": 0.702, \"p\": 28005, \"fpr\": 0.933064050778996, \"tpr\": 0.9830387430815926, \"n\": 8665}, {\"threshold\": 0.703, \"p\": 28005, \"fpr\": 0.933064050778996, \"tpr\": 0.9830030351722907, \"n\": 8665}, {\"threshold\": 0.704, \"p\": 28005, \"fpr\": 0.933064050778996, \"tpr\": 0.9830030351722907, \"n\": 8665}, {\"threshold\": 0.705, \"p\": 28005, \"fpr\": 0.933064050778996, \"tpr\": 0.9830030351722907, \"n\": 8665}, {\"threshold\": 0.706, \"p\": 28005, \"fpr\": 0.933064050778996, \"tpr\": 0.9830030351722907, \"n\": 8665}, {\"threshold\": 0.707, \"p\": 28005, \"fpr\": 0.933064050778996, \"tpr\": 0.9830030351722907, \"n\": 8665}, {\"threshold\": 0.708, \"p\": 28005, \"fpr\": 0.933064050778996, \"tpr\": 0.9830030351722907, \"n\": 8665}, {\"threshold\": 0.709, \"p\": 28005, \"fpr\": 0.9328332371609925, \"tpr\": 0.9829316193536869, \"n\": 8665}, {\"threshold\": 0.71, \"p\": 28005, \"fpr\": 0.9328332371609925, \"tpr\": 0.9829316193536869, \"n\": 8665}, {\"threshold\": 0.711, \"p\": 28005, \"fpr\": 0.16814772071552223, \"tpr\": 0.4141760399928584, \"n\": 8665}, {\"threshold\": 0.712, \"p\": 28005, \"fpr\": 0.16814772071552223, \"tpr\": 0.4141760399928584, \"n\": 8665}, {\"threshold\": 0.713, \"p\": 28005, \"fpr\": 0.16814772071552223, \"tpr\": 0.4141760399928584, \"n\": 8665}, {\"threshold\": 0.714, \"p\": 28005, \"fpr\": 0.16814772071552223, \"tpr\": 0.4141760399928584, \"n\": 8665}, {\"threshold\": 0.715, \"p\": 28005, \"fpr\": 0.16814772071552223, \"tpr\": 0.4141760399928584, \"n\": 8665}, {\"threshold\": 0.716, \"p\": 28005, \"fpr\": 0.16814772071552223, \"tpr\": 0.4141760399928584, \"n\": 8665}, {\"threshold\": 0.717, \"p\": 28005, \"fpr\": 0.16814772071552223, \"tpr\": 0.4141760399928584, \"n\": 8665}, {\"threshold\": 0.718, \"p\": 28005, \"fpr\": 0.16814772071552223, \"tpr\": 0.4141760399928584, \"n\": 8665}, {\"threshold\": 0.719, \"p\": 28005, \"fpr\": 0.16814772071552223, \"tpr\": 0.4141760399928584, \"n\": 8665}, {\"threshold\": 0.72, \"p\": 28005, \"fpr\": 0.16814772071552223, \"tpr\": 0.4141760399928584, \"n\": 8665}, {\"threshold\": 0.721, \"p\": 28005, \"fpr\": 0.16814772071552223, \"tpr\": 0.4141760399928584, \"n\": 8665}, {\"threshold\": 0.722, \"p\": 28005, \"fpr\": 0.16814772071552223, \"tpr\": 0.4141760399928584, \"n\": 8665}, {\"threshold\": 0.723, \"p\": 28005, \"fpr\": 0.16814772071552223, \"tpr\": 0.4141760399928584, \"n\": 8665}, {\"threshold\": 0.724, \"p\": 28005, \"fpr\": 0.16814772071552223, \"tpr\": 0.4141760399928584, \"n\": 8665}, {\"threshold\": 0.725, \"p\": 28005, \"fpr\": 0.16814772071552223, \"tpr\": 0.4141760399928584, \"n\": 8665}, {\"threshold\": 0.726, \"p\": 28005, \"fpr\": 0.16814772071552223, \"tpr\": 0.4141760399928584, \"n\": 8665}, {\"threshold\": 0.727, \"p\": 28005, \"fpr\": 0.16814772071552223, \"tpr\": 0.4141760399928584, \"n\": 8665}, {\"threshold\": 0.728, \"p\": 28005, \"fpr\": 0.16814772071552223, \"tpr\": 0.4141760399928584, \"n\": 8665}, {\"threshold\": 0.729, \"p\": 28005, \"fpr\": 0.16814772071552223, \"tpr\": 0.4141760399928584, \"n\": 8665}, {\"threshold\": 0.73, \"p\": 28005, \"fpr\": 0.16814772071552223, \"tpr\": 0.4141760399928584, \"n\": 8665}, {\"threshold\": 0.731, \"p\": 28005, \"fpr\": 0.16791690709751875, \"tpr\": 0.4141046241742546, \"n\": 8665}, {\"threshold\": 0.732, \"p\": 28005, \"fpr\": 0.16791690709751875, \"tpr\": 0.4140332083556508, \"n\": 8665}, {\"threshold\": 0.733, \"p\": 28005, \"fpr\": 0.16791690709751875, \"tpr\": 0.4140332083556508, \"n\": 8665}, {\"threshold\": 0.734, \"p\": 28005, \"fpr\": 0.16791690709751875, \"tpr\": 0.4140332083556508, \"n\": 8665}, {\"threshold\": 0.735, \"p\": 28005, \"fpr\": 0.16791690709751875, \"tpr\": 0.41385466880914124, \"n\": 8665}, {\"threshold\": 0.736, \"p\": 28005, \"fpr\": 0.16780150028851704, \"tpr\": 0.4137832529905374, \"n\": 8665}, {\"threshold\": 0.737, \"p\": 28005, \"fpr\": 0.16780150028851704, \"tpr\": 0.4137832529905374, \"n\": 8665}, {\"threshold\": 0.738, \"p\": 28005, \"fpr\": 0.16780150028851704, \"tpr\": 0.4137832529905374, \"n\": 8665}, {\"threshold\": 0.739, \"p\": 28005, \"fpr\": 0.16780150028851704, \"tpr\": 0.4137832529905374, \"n\": 8665}, {\"threshold\": 0.74, \"p\": 28005, \"fpr\": 0.16780150028851704, \"tpr\": 0.4137832529905374, \"n\": 8665}, {\"threshold\": 0.741, \"p\": 28005, \"fpr\": 0.16780150028851704, \"tpr\": 0.4137832529905374, \"n\": 8665}, {\"threshold\": 0.742, \"p\": 28005, \"fpr\": 0.16780150028851704, \"tpr\": 0.4137832529905374, \"n\": 8665}, {\"threshold\": 0.743, \"p\": 28005, \"fpr\": 0.16780150028851704, \"tpr\": 0.4137832529905374, \"n\": 8665}, {\"threshold\": 0.744, \"p\": 28005, \"fpr\": 0.16780150028851704, \"tpr\": 0.4137832529905374, \"n\": 8665}, {\"threshold\": 0.745, \"p\": 28005, \"fpr\": 0.16780150028851704, \"tpr\": 0.4137832529905374, \"n\": 8665}, {\"threshold\": 0.746, \"p\": 28005, \"fpr\": 0.16780150028851704, \"tpr\": 0.4137832529905374, \"n\": 8665}, {\"threshold\": 0.747, \"p\": 28005, \"fpr\": 0.16780150028851704, \"tpr\": 0.4137832529905374, \"n\": 8665}, {\"threshold\": 0.748, \"p\": 28005, \"fpr\": 0.16780150028851704, \"tpr\": 0.4137832529905374, \"n\": 8665}, {\"threshold\": 0.749, \"p\": 28005, \"fpr\": 0.16780150028851704, \"tpr\": 0.4137832529905374, \"n\": 8665}, {\"threshold\": 0.75, \"p\": 28005, \"fpr\": 0.16780150028851704, \"tpr\": 0.4137832529905374, \"n\": 8665}, {\"threshold\": 0.751, \"p\": 28005, \"fpr\": 0.16780150028851704, \"tpr\": 0.4137832529905374, \"n\": 8665}, {\"threshold\": 0.752, \"p\": 28005, \"fpr\": 0.16780150028851704, \"tpr\": 0.4137832529905374, \"n\": 8665}, {\"threshold\": 0.753, \"p\": 28005, \"fpr\": 0.16780150028851704, \"tpr\": 0.4137832529905374, \"n\": 8665}, {\"threshold\": 0.754, \"p\": 28005, \"fpr\": 0.16780150028851704, \"tpr\": 0.4137832529905374, \"n\": 8665}, {\"threshold\": 0.755, \"p\": 28005, \"fpr\": 0.16780150028851704, \"tpr\": 0.4137832529905374, \"n\": 8665}, {\"threshold\": 0.756, \"p\": 28005, \"fpr\": 0.16780150028851704, \"tpr\": 0.4137832529905374, \"n\": 8665}, {\"threshold\": 0.757, \"p\": 28005, \"fpr\": 0.16780150028851704, \"tpr\": 0.4137832529905374, \"n\": 8665}, {\"threshold\": 0.758, \"p\": 28005, \"fpr\": 0.16780150028851704, \"tpr\": 0.4137832529905374, \"n\": 8665}, {\"threshold\": 0.759, \"p\": 28005, \"fpr\": 0.16780150028851704, \"tpr\": 0.4137832529905374, \"n\": 8665}, {\"threshold\": 0.76, \"p\": 28005, \"fpr\": 0.16780150028851704, \"tpr\": 0.4137832529905374, \"n\": 8665}, {\"threshold\": 0.761, \"p\": 28005, \"fpr\": 0.1663012117714945, \"tpr\": 0.4121763970719514, \"n\": 8665}, {\"threshold\": 0.762, \"p\": 28005, \"fpr\": 0.1663012117714945, \"tpr\": 0.4121763970719514, \"n\": 8665}, {\"threshold\": 0.763, \"p\": 28005, \"fpr\": 0.1663012117714945, \"tpr\": 0.4121763970719514, \"n\": 8665}, {\"threshold\": 0.764, \"p\": 28005, \"fpr\": 0.1663012117714945, \"tpr\": 0.4121763970719514, \"n\": 8665}, {\"threshold\": 0.765, \"p\": 28005, \"fpr\": 0.1663012117714945, \"tpr\": 0.4121763970719514, \"n\": 8665}, {\"threshold\": 0.766, \"p\": 28005, \"fpr\": 0.1663012117714945, \"tpr\": 0.4121763970719514, \"n\": 8665}, {\"threshold\": 0.767, \"p\": 28005, \"fpr\": 0.1663012117714945, \"tpr\": 0.4121763970719514, \"n\": 8665}, {\"threshold\": 0.768, \"p\": 28005, \"fpr\": 0.1663012117714945, \"tpr\": 0.4121763970719514, \"n\": 8665}, {\"threshold\": 0.769, \"p\": 28005, \"fpr\": 0.1663012117714945, \"tpr\": 0.4121763970719514, \"n\": 8665}, {\"threshold\": 0.77, \"p\": 28005, \"fpr\": 0.1663012117714945, \"tpr\": 0.4121763970719514, \"n\": 8665}, {\"threshold\": 0.771, \"p\": 28005, \"fpr\": 0.1663012117714945, \"tpr\": 0.4121763970719514, \"n\": 8665}, {\"threshold\": 0.772, \"p\": 28005, \"fpr\": 0.1663012117714945, \"tpr\": 0.4121763970719514, \"n\": 8665}, {\"threshold\": 0.773, \"p\": 28005, \"fpr\": 0.1654933641084824, \"tpr\": 0.41196214961613997, \"n\": 8665}, {\"threshold\": 0.774, \"p\": 28005, \"fpr\": 0.1654933641084824, \"tpr\": 0.41196214961613997, \"n\": 8665}, {\"threshold\": 0.775, \"p\": 28005, \"fpr\": 0.1654933641084824, \"tpr\": 0.41196214961613997, \"n\": 8665}, {\"threshold\": 0.776, \"p\": 28005, \"fpr\": 0.1654933641084824, \"tpr\": 0.41196214961613997, \"n\": 8665}, {\"threshold\": 0.777, \"p\": 28005, \"fpr\": 0.1654933641084824, \"tpr\": 0.41196214961613997, \"n\": 8665}, {\"threshold\": 0.778, \"p\": 28005, \"fpr\": 0.1654933641084824, \"tpr\": 0.41196214961613997, \"n\": 8665}, {\"threshold\": 0.779, \"p\": 28005, \"fpr\": 0.1654933641084824, \"tpr\": 0.41196214961613997, \"n\": 8665}, {\"threshold\": 0.78, \"p\": 28005, \"fpr\": 0.1654933641084824, \"tpr\": 0.41192644170683806, \"n\": 8665}, {\"threshold\": 0.781, \"p\": 28005, \"fpr\": 0.1654933641084824, \"tpr\": 0.41192644170683806, \"n\": 8665}, {\"threshold\": 0.782, \"p\": 28005, \"fpr\": 0.1654933641084824, \"tpr\": 0.41192644170683806, \"n\": 8665}, {\"threshold\": 0.783, \"p\": 28005, \"fpr\": 0.1654933641084824, \"tpr\": 0.41192644170683806, \"n\": 8665}, {\"threshold\": 0.784, \"p\": 28005, \"fpr\": 0.1654933641084824, \"tpr\": 0.41192644170683806, \"n\": 8665}, {\"threshold\": 0.785, \"p\": 28005, \"fpr\": 0.1654933641084824, \"tpr\": 0.41192644170683806, \"n\": 8665}, {\"threshold\": 0.786, \"p\": 28005, \"fpr\": 0.1654933641084824, \"tpr\": 0.41192644170683806, \"n\": 8665}, {\"threshold\": 0.787, \"p\": 28005, \"fpr\": 0.16537795729948068, \"tpr\": 0.41192644170683806, \"n\": 8665}, {\"threshold\": 0.788, \"p\": 28005, \"fpr\": 0.16537795729948068, \"tpr\": 0.41192644170683806, \"n\": 8665}, {\"threshold\": 0.789, \"p\": 28005, \"fpr\": 0.16526255049047894, \"tpr\": 0.41185502588823425, \"n\": 8665}, {\"threshold\": 0.79, \"p\": 28005, \"fpr\": 0.16526255049047894, \"tpr\": 0.41178361006963043, \"n\": 8665}, {\"threshold\": 0.791, \"p\": 28005, \"fpr\": 0.16526255049047894, \"tpr\": 0.41178361006963043, \"n\": 8665}, {\"threshold\": 0.792, \"p\": 28005, \"fpr\": 0.16526255049047894, \"tpr\": 0.41178361006963043, \"n\": 8665}, {\"threshold\": 0.793, \"p\": 28005, \"fpr\": 0.16526255049047894, \"tpr\": 0.41178361006963043, \"n\": 8665}, {\"threshold\": 0.794, \"p\": 28005, \"fpr\": 0.16526255049047894, \"tpr\": 0.41178361006963043, \"n\": 8665}, {\"threshold\": 0.795, \"p\": 28005, \"fpr\": 0.16526255049047894, \"tpr\": 0.41178361006963043, \"n\": 8665}, {\"threshold\": 0.796, \"p\": 28005, \"fpr\": 0.16526255049047894, \"tpr\": 0.41178361006963043, \"n\": 8665}, {\"threshold\": 0.797, \"p\": 28005, \"fpr\": 0.16526255049047894, \"tpr\": 0.41178361006963043, \"n\": 8665}, {\"threshold\": 0.798, \"p\": 28005, \"fpr\": 0.16526255049047894, \"tpr\": 0.41178361006963043, \"n\": 8665}, {\"threshold\": 0.799, \"p\": 28005, \"fpr\": 0.16526255049047894, \"tpr\": 0.41178361006963043, \"n\": 8665}, {\"threshold\": 0.8, \"p\": 28005, \"fpr\": 0.16526255049047894, \"tpr\": 0.41178361006963043, \"n\": 8665}, {\"threshold\": 0.801, \"p\": 28005, \"fpr\": 0.16526255049047894, \"tpr\": 0.41178361006963043, \"n\": 8665}, {\"threshold\": 0.802, \"p\": 28005, \"fpr\": 0.16480092325447201, \"tpr\": 0.4113194072487056, \"n\": 8665}, {\"threshold\": 0.803, \"p\": 28005, \"fpr\": 0.16480092325447201, \"tpr\": 0.4113194072487056, \"n\": 8665}, {\"threshold\": 0.804, \"p\": 28005, \"fpr\": 0.16480092325447201, \"tpr\": 0.4113194072487056, \"n\": 8665}, {\"threshold\": 0.805, \"p\": 28005, \"fpr\": 0.16480092325447201, \"tpr\": 0.4113194072487056, \"n\": 8665}, {\"threshold\": 0.806, \"p\": 28005, \"fpr\": 0.16480092325447201, \"tpr\": 0.4113194072487056, \"n\": 8665}, {\"threshold\": 0.807, \"p\": 28005, \"fpr\": 0.16480092325447201, \"tpr\": 0.4113194072487056, \"n\": 8665}, {\"threshold\": 0.808, \"p\": 28005, \"fpr\": 0.16480092325447201, \"tpr\": 0.4113194072487056, \"n\": 8665}, {\"threshold\": 0.809, \"p\": 28005, \"fpr\": 0.16480092325447201, \"tpr\": 0.4113194072487056, \"n\": 8665}, {\"threshold\": 0.81, \"p\": 28005, \"fpr\": 0.16480092325447201, \"tpr\": 0.4113194072487056, \"n\": 8665}, {\"threshold\": 0.811, \"p\": 28005, \"fpr\": 0.16480092325447201, \"tpr\": 0.41124799143010177, \"n\": 8665}, {\"threshold\": 0.812, \"p\": 28005, \"fpr\": 0.16480092325447201, \"tpr\": 0.41124799143010177, \"n\": 8665}, {\"threshold\": 0.813, \"p\": 28005, \"fpr\": 0.16480092325447201, \"tpr\": 0.41124799143010177, \"n\": 8665}, {\"threshold\": 0.814, \"p\": 28005, \"fpr\": 0.16457010963646856, \"tpr\": 0.4109980360649884, \"n\": 8665}, {\"threshold\": 0.815, \"p\": 28005, \"fpr\": 0.16457010963646856, \"tpr\": 0.4109980360649884, \"n\": 8665}, {\"threshold\": 0.816, \"p\": 28005, \"fpr\": 0.16457010963646856, \"tpr\": 0.4109980360649884, \"n\": 8665}, {\"threshold\": 0.817, \"p\": 28005, \"fpr\": 0.16457010963646856, \"tpr\": 0.4109980360649884, \"n\": 8665}, {\"threshold\": 0.818, \"p\": 28005, \"fpr\": 0.16457010963646856, \"tpr\": 0.4109980360649884, \"n\": 8665}, {\"threshold\": 0.819, \"p\": 28005, \"fpr\": 0.16457010963646856, \"tpr\": 0.4109980360649884, \"n\": 8665}, {\"threshold\": 0.82, \"p\": 28005, \"fpr\": 0.16457010963646856, \"tpr\": 0.4109980360649884, \"n\": 8665}, {\"threshold\": 0.821, \"p\": 28005, \"fpr\": 0.16457010963646856, \"tpr\": 0.4109980360649884, \"n\": 8665}, {\"threshold\": 0.822, \"p\": 28005, \"fpr\": 0.16457010963646856, \"tpr\": 0.4109980360649884, \"n\": 8665}, {\"threshold\": 0.823, \"p\": 28005, \"fpr\": 0.16457010963646856, \"tpr\": 0.4109980360649884, \"n\": 8665}, {\"threshold\": 0.824, \"p\": 28005, \"fpr\": 0.16457010963646856, \"tpr\": 0.4109980360649884, \"n\": 8665}, {\"threshold\": 0.825, \"p\": 28005, \"fpr\": 0.16457010963646856, \"tpr\": 0.4109980360649884, \"n\": 8665}, {\"threshold\": 0.826, \"p\": 28005, \"fpr\": 0.16457010963646856, \"tpr\": 0.4109980360649884, \"n\": 8665}, {\"threshold\": 0.827, \"p\": 28005, \"fpr\": 0.16457010963646856, \"tpr\": 0.4109980360649884, \"n\": 8665}, {\"threshold\": 0.828, \"p\": 28005, \"fpr\": 0.16457010963646856, \"tpr\": 0.4109980360649884, \"n\": 8665}, {\"threshold\": 0.829, \"p\": 28005, \"fpr\": 0.16457010963646856, \"tpr\": 0.4109980360649884, \"n\": 8665}, {\"threshold\": 0.83, \"p\": 28005, \"fpr\": 0.16457010963646856, \"tpr\": 0.4109980360649884, \"n\": 8665}, {\"threshold\": 0.831, \"p\": 28005, \"fpr\": 0.16445470282746683, \"tpr\": 0.4109980360649884, \"n\": 8665}, {\"threshold\": 0.832, \"p\": 28005, \"fpr\": 0.07974610502019619, \"tpr\": 0.265345474022496, \"n\": 8665}, {\"threshold\": 0.833, \"p\": 28005, \"fpr\": 0.07974610502019619, \"tpr\": 0.265345474022496, \"n\": 8665}, {\"threshold\": 0.834, \"p\": 28005, \"fpr\": 0.07974610502019619, \"tpr\": 0.265345474022496, \"n\": 8665}, {\"threshold\": 0.835, \"p\": 28005, \"fpr\": 0.07974610502019619, \"tpr\": 0.265345474022496, \"n\": 8665}, {\"threshold\": 0.836, \"p\": 28005, \"fpr\": 0.07974610502019619, \"tpr\": 0.26530976611319407, \"n\": 8665}, {\"threshold\": 0.837, \"p\": 28005, \"fpr\": 0.07974610502019619, \"tpr\": 0.26530976611319407, \"n\": 8665}, {\"threshold\": 0.838, \"p\": 28005, \"fpr\": 0.07974610502019619, \"tpr\": 0.26530976611319407, \"n\": 8665}, {\"threshold\": 0.839, \"p\": 28005, \"fpr\": 0.07963069821119446, \"tpr\": 0.26530976611319407, \"n\": 8665}, {\"threshold\": 0.84, \"p\": 28005, \"fpr\": 0.07963069821119446, \"tpr\": 0.26530976611319407, \"n\": 8665}, {\"threshold\": 0.841, \"p\": 28005, \"fpr\": 0.07963069821119446, \"tpr\": 0.26530976611319407, \"n\": 8665}, {\"threshold\": 0.842, \"p\": 28005, \"fpr\": 0.07963069821119446, \"tpr\": 0.26530976611319407, \"n\": 8665}, {\"threshold\": 0.843, \"p\": 28005, \"fpr\": 0.07963069821119446, \"tpr\": 0.26530976611319407, \"n\": 8665}, {\"threshold\": 0.844, \"p\": 28005, \"fpr\": 0.07963069821119446, \"tpr\": 0.26530976611319407, \"n\": 8665}, {\"threshold\": 0.845, \"p\": 28005, \"fpr\": 0.07963069821119446, \"tpr\": 0.26530976611319407, \"n\": 8665}, {\"threshold\": 0.846, \"p\": 28005, \"fpr\": 0.079399884593191, \"tpr\": 0.26530976611319407, \"n\": 8665}, {\"threshold\": 0.847, \"p\": 28005, \"fpr\": 0.079399884593191, \"tpr\": 0.26530976611319407, \"n\": 8665}, {\"threshold\": 0.848, \"p\": 28005, \"fpr\": 0.079399884593191, \"tpr\": 0.26527405820389216, \"n\": 8665}, {\"threshold\": 0.849, \"p\": 28005, \"fpr\": 0.07928447778418926, \"tpr\": 0.26527405820389216, \"n\": 8665}, {\"threshold\": 0.85, \"p\": 28005, \"fpr\": 0.07928447778418926, \"tpr\": 0.26527405820389216, \"n\": 8665}, {\"threshold\": 0.851, \"p\": 28005, \"fpr\": 0.07928447778418926, \"tpr\": 0.26527405820389216, \"n\": 8665}, {\"threshold\": 0.852, \"p\": 28005, \"fpr\": 0.07928447778418926, \"tpr\": 0.26527405820389216, \"n\": 8665}, {\"threshold\": 0.853, \"p\": 28005, \"fpr\": 0.07928447778418926, \"tpr\": 0.26527405820389216, \"n\": 8665}, {\"threshold\": 0.854, \"p\": 28005, \"fpr\": 0.07928447778418926, \"tpr\": 0.26527405820389216, \"n\": 8665}, {\"threshold\": 0.855, \"p\": 28005, \"fpr\": 0.07928447778418926, \"tpr\": 0.26527405820389216, \"n\": 8665}, {\"threshold\": 0.856, \"p\": 28005, \"fpr\": 0.07928447778418926, \"tpr\": 0.26520264238528835, \"n\": 8665}, {\"threshold\": 0.857, \"p\": 28005, \"fpr\": 0.07928447778418926, \"tpr\": 0.26520264238528835, \"n\": 8665}, {\"threshold\": 0.858, \"p\": 28005, \"fpr\": 0.07720715522215811, \"tpr\": 0.26116764863417247, \"n\": 8665}, {\"threshold\": 0.859, \"p\": 28005, \"fpr\": 0.07720715522215811, \"tpr\": 0.26116764863417247, \"n\": 8665}, {\"threshold\": 0.86, \"p\": 28005, \"fpr\": 0.07720715522215811, \"tpr\": 0.26116764863417247, \"n\": 8665}, {\"threshold\": 0.861, \"p\": 28005, \"fpr\": 0.07720715522215811, \"tpr\": 0.26116764863417247, \"n\": 8665}, {\"threshold\": 0.862, \"p\": 28005, \"fpr\": 0.07720715522215811, \"tpr\": 0.26116764863417247, \"n\": 8665}, {\"threshold\": 0.863, \"p\": 28005, \"fpr\": 0.07720715522215811, \"tpr\": 0.26116764863417247, \"n\": 8665}, {\"threshold\": 0.864, \"p\": 28005, \"fpr\": 0.07720715522215811, \"tpr\": 0.26116764863417247, \"n\": 8665}, {\"threshold\": 0.865, \"p\": 28005, \"fpr\": 0.07674552798615118, \"tpr\": 0.26056061417604, \"n\": 8665}, {\"threshold\": 0.866, \"p\": 28005, \"fpr\": 0.07674552798615118, \"tpr\": 0.26056061417604, \"n\": 8665}, {\"threshold\": 0.867, \"p\": 28005, \"fpr\": 0.07674552798615118, \"tpr\": 0.26056061417604, \"n\": 8665}, {\"threshold\": 0.868, \"p\": 28005, \"fpr\": 0.07674552798615118, \"tpr\": 0.26056061417604, \"n\": 8665}, {\"threshold\": 0.869, \"p\": 28005, \"fpr\": 0.07674552798615118, \"tpr\": 0.26056061417604, \"n\": 8665}, {\"threshold\": 0.87, \"p\": 28005, \"fpr\": 0.07674552798615118, \"tpr\": 0.26056061417604, \"n\": 8665}, {\"threshold\": 0.871, \"p\": 28005, \"fpr\": 0.07409117137911136, \"tpr\": 0.25413319050169614, \"n\": 8665}, {\"threshold\": 0.872, \"p\": 28005, \"fpr\": 0.07409117137911136, \"tpr\": 0.25413319050169614, \"n\": 8665}, {\"threshold\": 0.873, \"p\": 28005, \"fpr\": 0.07397576457010964, \"tpr\": 0.25413319050169614, \"n\": 8665}, {\"threshold\": 0.874, \"p\": 28005, \"fpr\": 0.07362954414310445, \"tpr\": 0.25391894304588464, \"n\": 8665}, {\"threshold\": 0.875, \"p\": 28005, \"fpr\": 0.07362954414310445, \"tpr\": 0.25391894304588464, \"n\": 8665}, {\"threshold\": 0.876, \"p\": 28005, \"fpr\": 0.07362954414310445, \"tpr\": 0.25391894304588464, \"n\": 8665}, {\"threshold\": 0.877, \"p\": 28005, \"fpr\": 0.07362954414310445, \"tpr\": 0.25391894304588464, \"n\": 8665}, {\"threshold\": 0.878, \"p\": 28005, \"fpr\": 0.07362954414310445, \"tpr\": 0.25391894304588464, \"n\": 8665}, {\"threshold\": 0.879, \"p\": 28005, \"fpr\": 0.07362954414310445, \"tpr\": 0.25391894304588464, \"n\": 8665}, {\"threshold\": 0.88, \"p\": 28005, \"fpr\": 0.07362954414310445, \"tpr\": 0.25391894304588464, \"n\": 8665}, {\"threshold\": 0.881, \"p\": 28005, \"fpr\": 0.07362954414310445, \"tpr\": 0.25391894304588464, \"n\": 8665}, {\"threshold\": 0.882, \"p\": 28005, \"fpr\": 0.07362954414310445, \"tpr\": 0.25391894304588464, \"n\": 8665}, {\"threshold\": 0.883, \"p\": 28005, \"fpr\": 0.07362954414310445, \"tpr\": 0.25388323513658273, \"n\": 8665}, {\"threshold\": 0.884, \"p\": 28005, \"fpr\": 0.07362954414310445, \"tpr\": 0.25388323513658273, \"n\": 8665}, {\"threshold\": 0.885, \"p\": 28005, \"fpr\": 0.07362954414310445, \"tpr\": 0.25388323513658273, \"n\": 8665}, {\"threshold\": 0.886, \"p\": 28005, \"fpr\": 0.07351413733410271, \"tpr\": 0.2538118193179789, \"n\": 8665}, {\"threshold\": 0.887, \"p\": 28005, \"fpr\": 0.027813040969417197, \"tpr\": 0.11690769505445456, \"n\": 8665}, {\"threshold\": 0.888, \"p\": 28005, \"fpr\": 0.027813040969417197, \"tpr\": 0.11690769505445456, \"n\": 8665}, {\"threshold\": 0.889, \"p\": 28005, \"fpr\": 0.027813040969417197, \"tpr\": 0.11690769505445456, \"n\": 8665}, {\"threshold\": 0.89, \"p\": 28005, \"fpr\": 0.027813040969417197, \"tpr\": 0.11690769505445456, \"n\": 8665}, {\"threshold\": 0.891, \"p\": 28005, \"fpr\": 0.027813040969417197, \"tpr\": 0.11683627923585074, \"n\": 8665}, {\"threshold\": 0.892, \"p\": 28005, \"fpr\": 0.027813040969417197, \"tpr\": 0.11683627923585074, \"n\": 8665}, {\"threshold\": 0.893, \"p\": 28005, \"fpr\": 0.027813040969417197, \"tpr\": 0.11680057132654884, \"n\": 8665}, {\"threshold\": 0.894, \"p\": 28005, \"fpr\": 0.027813040969417197, \"tpr\": 0.11680057132654884, \"n\": 8665}, {\"threshold\": 0.895, \"p\": 28005, \"fpr\": 0.027813040969417197, \"tpr\": 0.11680057132654884, \"n\": 8665}, {\"threshold\": 0.896, \"p\": 28005, \"fpr\": 0.027813040969417197, \"tpr\": 0.11680057132654884, \"n\": 8665}, {\"threshold\": 0.897, \"p\": 28005, \"fpr\": 0.027813040969417197, \"tpr\": 0.11680057132654884, \"n\": 8665}, {\"threshold\": 0.898, \"p\": 28005, \"fpr\": 0.027813040969417197, \"tpr\": 0.11680057132654884, \"n\": 8665}, {\"threshold\": 0.899, \"p\": 28005, \"fpr\": 0.027813040969417197, \"tpr\": 0.11680057132654884, \"n\": 8665}, {\"threshold\": 0.9, \"p\": 28005, \"fpr\": 0.027813040969417197, \"tpr\": 0.11680057132654884, \"n\": 8665}, {\"threshold\": 0.901, \"p\": 28005, \"fpr\": 0.027813040969417197, \"tpr\": 0.11680057132654884, \"n\": 8665}, {\"threshold\": 0.902, \"p\": 28005, \"fpr\": 0.027813040969417197, \"tpr\": 0.11680057132654884, \"n\": 8665}, {\"threshold\": 0.903, \"p\": 28005, \"fpr\": 0.027697634160415464, \"tpr\": 0.11680057132654884, \"n\": 8665}, {\"threshold\": 0.904, \"p\": 28005, \"fpr\": 0.027697634160415464, \"tpr\": 0.11680057132654884, \"n\": 8665}, {\"threshold\": 0.905, \"p\": 28005, \"fpr\": 0.027697634160415464, \"tpr\": 0.11680057132654884, \"n\": 8665}, {\"threshold\": 0.906, \"p\": 28005, \"fpr\": 0.027697634160415464, \"tpr\": 0.11680057132654884, \"n\": 8665}, {\"threshold\": 0.907, \"p\": 28005, \"fpr\": 0.027697634160415464, \"tpr\": 0.11680057132654884, \"n\": 8665}, {\"threshold\": 0.908, \"p\": 28005, \"fpr\": 0.027697634160415464, \"tpr\": 0.11680057132654884, \"n\": 8665}, {\"threshold\": 0.909, \"p\": 28005, \"fpr\": 0.01869590305828044, \"tpr\": 0.09287627209426888, \"n\": 8665}, {\"threshold\": 0.91, \"p\": 28005, \"fpr\": 0.018465089440276975, \"tpr\": 0.09230494554543832, \"n\": 8665}, {\"threshold\": 0.911, \"p\": 28005, \"fpr\": 0.018465089440276975, \"tpr\": 0.09230494554543832, \"n\": 8665}, {\"threshold\": 0.912, \"p\": 28005, \"fpr\": 0.018465089440276975, \"tpr\": 0.09230494554543832, \"n\": 8665}, {\"threshold\": 0.913, \"p\": 28005, \"fpr\": 0.018465089440276975, \"tpr\": 0.09230494554543832, \"n\": 8665}, {\"threshold\": 0.914, \"p\": 28005, \"fpr\": 0.018465089440276975, \"tpr\": 0.09230494554543832, \"n\": 8665}, {\"threshold\": 0.915, \"p\": 28005, \"fpr\": 0.018465089440276975, \"tpr\": 0.09230494554543832, \"n\": 8665}, {\"threshold\": 0.916, \"p\": 28005, \"fpr\": 0.018465089440276975, \"tpr\": 0.09219782181753258, \"n\": 8665}, {\"threshold\": 0.917, \"p\": 28005, \"fpr\": 0.018465089440276975, \"tpr\": 0.09219782181753258, \"n\": 8665}, {\"threshold\": 0.918, \"p\": 28005, \"fpr\": 0.018465089440276975, \"tpr\": 0.09219782181753258, \"n\": 8665}, {\"threshold\": 0.919, \"p\": 28005, \"fpr\": 0.018465089440276975, \"tpr\": 0.09216211390823068, \"n\": 8665}, {\"threshold\": 0.92, \"p\": 28005, \"fpr\": 0.018465089440276975, \"tpr\": 0.09216211390823068, \"n\": 8665}, {\"threshold\": 0.921, \"p\": 28005, \"fpr\": 0.018465089440276975, \"tpr\": 0.09216211390823068, \"n\": 8665}, {\"threshold\": 0.922, \"p\": 28005, \"fpr\": 0.018465089440276975, \"tpr\": 0.09216211390823068, \"n\": 8665}, {\"threshold\": 0.923, \"p\": 28005, \"fpr\": 0.018465089440276975, \"tpr\": 0.09212640599892877, \"n\": 8665}, {\"threshold\": 0.924, \"p\": 28005, \"fpr\": 0.018234275822273514, \"tpr\": 0.09109087662917337, \"n\": 8665}, {\"threshold\": 0.925, \"p\": 28005, \"fpr\": 0.018234275822273514, \"tpr\": 0.09109087662917337, \"n\": 8665}, {\"threshold\": 0.926, \"p\": 28005, \"fpr\": 0.018234275822273514, \"tpr\": 0.09109087662917337, \"n\": 8665}, {\"threshold\": 0.927, \"p\": 28005, \"fpr\": 0.018234275822273514, \"tpr\": 0.09109087662917337, \"n\": 8665}, {\"threshold\": 0.928, \"p\": 28005, \"fpr\": 0.018118869013271782, \"tpr\": 0.0908766291733619, \"n\": 8665}, {\"threshold\": 0.929, \"p\": 28005, \"fpr\": 0.018118869013271782, \"tpr\": 0.0908766291733619, \"n\": 8665}, {\"threshold\": 0.93, \"p\": 28005, \"fpr\": 0.018118869013271782, \"tpr\": 0.0908766291733619, \"n\": 8665}, {\"threshold\": 0.931, \"p\": 28005, \"fpr\": 0.018118869013271782, \"tpr\": 0.0908766291733619, \"n\": 8665}, {\"threshold\": 0.932, \"p\": 28005, \"fpr\": 0.01754183496826313, \"tpr\": 0.08959114443849313, \"n\": 8665}, {\"threshold\": 0.933, \"p\": 28005, \"fpr\": 0.017426428159261396, \"tpr\": 0.08959114443849313, \"n\": 8665}, {\"threshold\": 0.934, \"p\": 28005, \"fpr\": 0.017426428159261396, \"tpr\": 0.08959114443849313, \"n\": 8665}, {\"threshold\": 0.935, \"p\": 28005, \"fpr\": 0.017426428159261396, \"tpr\": 0.08959114443849313, \"n\": 8665}, {\"threshold\": 0.936, \"p\": 28005, \"fpr\": 0.017426428159261396, \"tpr\": 0.08959114443849313, \"n\": 8665}, {\"threshold\": 0.937, \"p\": 28005, \"fpr\": 0.017426428159261396, \"tpr\": 0.08948402071058739, \"n\": 8665}, {\"threshold\": 0.938, \"p\": 28005, \"fpr\": 0.017426428159261396, \"tpr\": 0.08948402071058739, \"n\": 8665}, {\"threshold\": 0.939, \"p\": 28005, \"fpr\": 0.017426428159261396, \"tpr\": 0.08948402071058739, \"n\": 8665}, {\"threshold\": 0.94, \"p\": 28005, \"fpr\": 0.017426428159261396, \"tpr\": 0.08948402071058739, \"n\": 8665}, {\"threshold\": 0.941, \"p\": 28005, \"fpr\": 0.010040392383150605, \"tpr\": 0.053133369041242634, \"n\": 8665}, {\"threshold\": 0.942, \"p\": 28005, \"fpr\": 0.010040392383150605, \"tpr\": 0.053133369041242634, \"n\": 8665}, {\"threshold\": 0.943, \"p\": 28005, \"fpr\": 0.010040392383150605, \"tpr\": 0.053026245313336905, \"n\": 8665}, {\"threshold\": 0.944, \"p\": 28005, \"fpr\": 0.010040392383150605, \"tpr\": 0.052990537404035, \"n\": 8665}, {\"threshold\": 0.945, \"p\": 28005, \"fpr\": 0.010040392383150605, \"tpr\": 0.052990537404035, \"n\": 8665}, {\"threshold\": 0.946, \"p\": 28005, \"fpr\": 0.010040392383150605, \"tpr\": 0.05295482949473308, \"n\": 8665}, {\"threshold\": 0.947, \"p\": 28005, \"fpr\": 0.010040392383150605, \"tpr\": 0.05295482949473308, \"n\": 8665}, {\"threshold\": 0.948, \"p\": 28005, \"fpr\": 0.009924985574148875, \"tpr\": 0.05295482949473308, \"n\": 8665}, {\"threshold\": 0.949, \"p\": 28005, \"fpr\": 0.009924985574148875, \"tpr\": 0.05281199785752544, \"n\": 8665}, {\"threshold\": 0.95, \"p\": 28005, \"fpr\": 0.009809578765147143, \"tpr\": 0.05281199785752544, \"n\": 8665}, {\"threshold\": 0.951, \"p\": 28005, \"fpr\": 0.00946335833814195, \"tpr\": 0.05159792894126049, \"n\": 8665}, {\"threshold\": 0.952, \"p\": 28005, \"fpr\": 0.00946335833814195, \"tpr\": 0.05159792894126049, \"n\": 8665}, {\"threshold\": 0.953, \"p\": 28005, \"fpr\": 0.008655510675129832, \"tpr\": 0.04763435100874844, \"n\": 8665}, {\"threshold\": 0.954, \"p\": 28005, \"fpr\": 0.008540103866128102, \"tpr\": 0.04759864309944653, \"n\": 8665}, {\"threshold\": 0.955, \"p\": 28005, \"fpr\": 0.008540103866128102, \"tpr\": 0.04759864309944653, \"n\": 8665}, {\"threshold\": 0.956, \"p\": 28005, \"fpr\": 0.008193883439122909, \"tpr\": 0.04563470808784146, \"n\": 8665}, {\"threshold\": 0.957, \"p\": 28005, \"fpr\": 0.008193883439122909, \"tpr\": 0.04556329226923764, \"n\": 8665}, {\"threshold\": 0.958, \"p\": 28005, \"fpr\": 0.008193883439122909, \"tpr\": 0.04552758435993572, \"n\": 8665}, {\"threshold\": 0.959, \"p\": 28005, \"fpr\": 0.008193883439122909, \"tpr\": 0.04552758435993572, \"n\": 8665}, {\"threshold\": 0.96, \"p\": 28005, \"fpr\": 0.008193883439122909, \"tpr\": 0.045491876450633816, \"n\": 8665}, {\"threshold\": 0.961, \"p\": 28005, \"fpr\": 0.007847663012117714, \"tpr\": 0.04527762899482235, \"n\": 8665}, {\"threshold\": 0.962, \"p\": 28005, \"fpr\": 0.004616272360069244, \"tpr\": 0.027352258525263348, \"n\": 8665}, {\"threshold\": 0.963, \"p\": 28005, \"fpr\": 0.004616272360069244, \"tpr\": 0.027245134797357615, \"n\": 8665}, {\"threshold\": 0.964, \"p\": 28005, \"fpr\": 0.004616272360069244, \"tpr\": 0.027245134797357615, \"n\": 8665}, {\"threshold\": 0.965, \"p\": 28005, \"fpr\": 0.004500865551067513, \"tpr\": 0.02695947152294233, \"n\": 8665}, {\"threshold\": 0.966, \"p\": 28005, \"fpr\": 0.004500865551067513, \"tpr\": 0.02695947152294233, \"n\": 8665}, {\"threshold\": 0.967, \"p\": 28005, \"fpr\": 0.004500865551067513, \"tpr\": 0.02695947152294233, \"n\": 8665}, {\"threshold\": 0.968, \"p\": 28005, \"fpr\": 0.004500865551067513, \"tpr\": 0.026923763613640423, \"n\": 8665}, {\"threshold\": 0.969, \"p\": 28005, \"fpr\": 0.004500865551067513, \"tpr\": 0.026923763613640423, \"n\": 8665}, {\"threshold\": 0.97, \"p\": 28005, \"fpr\": 0.003346797461050202, \"tpr\": 0.020067845027673628, \"n\": 8665}, {\"threshold\": 0.971, \"p\": 28005, \"fpr\": 0.003346797461050202, \"tpr\": 0.02003213711837172, \"n\": 8665}, {\"threshold\": 0.972, \"p\": 28005, \"fpr\": 0.003346797461050202, \"tpr\": 0.01999642920906981, \"n\": 8665}, {\"threshold\": 0.973, \"p\": 28005, \"fpr\": 0.003346797461050202, \"tpr\": 0.01999642920906981, \"n\": 8665}, {\"threshold\": 0.974, \"p\": 28005, \"fpr\": 0.003346797461050202, \"tpr\": 0.0199607212997679, \"n\": 8665}, {\"threshold\": 0.975, \"p\": 28005, \"fpr\": 0.003346797461050202, \"tpr\": 0.019603642206748796, \"n\": 8665}, {\"threshold\": 0.976, \"p\": 28005, \"fpr\": 0.003346797461050202, \"tpr\": 0.01910373147652205, \"n\": 8665}, {\"threshold\": 0.977, \"p\": 28005, \"fpr\": 0.003346797461050202, \"tpr\": 0.018996607748616317, \"n\": 8665}, {\"threshold\": 0.978, \"p\": 28005, \"fpr\": 0.003231390652048471, \"tpr\": 0.018496697018389574, \"n\": 8665}, {\"threshold\": 0.979, \"p\": 28005, \"fpr\": 0.003231390652048471, \"tpr\": 0.018496697018389574, \"n\": 8665}, {\"threshold\": 0.98, \"p\": 28005, \"fpr\": 0.003231390652048471, \"tpr\": 0.01838957329048384, \"n\": 8665}, {\"threshold\": 0.981, \"p\": 28005, \"fpr\": 0.002192729371032891, \"tpr\": 0.012890555257989645, \"n\": 8665}, {\"threshold\": 0.982, \"p\": 28005, \"fpr\": 0.002192729371032891, \"tpr\": 0.012854847348687734, \"n\": 8665}, {\"threshold\": 0.983, \"p\": 28005, \"fpr\": 0.002192729371032891, \"tpr\": 0.012819139439385823, \"n\": 8665}, {\"threshold\": 0.984, \"p\": 28005, \"fpr\": 0.00207732256203116, \"tpr\": 0.012676307802178183, \"n\": 8665}, {\"threshold\": 0.985, \"p\": 28005, \"fpr\": 0.0018465089440276976, \"tpr\": 0.01153365470451705, \"n\": 8665}, {\"threshold\": 0.986, \"p\": 28005, \"fpr\": 0.0017311021350259665, \"tpr\": 0.011247991430101767, \"n\": 8665}, {\"threshold\": 0.987, \"p\": 28005, \"fpr\": 0.0017311021350259665, \"tpr\": 0.011247991430101767, \"n\": 8665}, {\"threshold\": 0.988, \"p\": 28005, \"fpr\": 0.00103866128101558, \"tpr\": 0.00671308694875915, \"n\": 8665}, {\"threshold\": 0.989, \"p\": 28005, \"fpr\": 0.00103866128101558, \"tpr\": 0.00667737903945724, \"n\": 8665}, {\"threshold\": 0.99, \"p\": 28005, \"fpr\": 0.00103866128101558, \"tpr\": 0.00667737903945724, \"n\": 8665}, {\"threshold\": 0.991, \"p\": 28005, \"fpr\": 0.0009232544720138488, \"tpr\": 0.005249062667380825, \"n\": 8665}, {\"threshold\": 0.992, \"p\": 28005, \"fpr\": 0.0009232544720138488, \"tpr\": 0.005177646848777004, \"n\": 8665}, {\"threshold\": 0.993, \"p\": 28005, \"fpr\": 0.0008078476630121177, \"tpr\": 0.00478485984645599, \"n\": 8665}, {\"threshold\": 0.994, \"p\": 28005, \"fpr\": 0.0008078476630121177, \"tpr\": 0.00382074629530441, \"n\": 8665}, {\"threshold\": 0.995, \"p\": 28005, \"fpr\": 0.0008078476630121177, \"tpr\": 0.0034279592929833957, \"n\": 8665}, {\"threshold\": 0.996, \"p\": 28005, \"fpr\": 0.0005770340450086555, \"tpr\": 0.0029280485627566507, \"n\": 8665}, {\"threshold\": 0.997, \"p\": 28005, \"fpr\": 0.0001154068090017311, \"tpr\": 0.001535440099982146, \"n\": 8665}, {\"threshold\": 0.998, \"p\": 28005, \"fpr\": 0.0001154068090017311, \"tpr\": 0.0013926084627745045, \"n\": 8665}, {\"threshold\": 0.999, \"p\": 28005, \"fpr\": 0.0, \"tpr\": 0.0005356186395286556, \"n\": 8665}, {\"threshold\": 1.0, \"p\": 28005, \"fpr\": 0.0, \"tpr\": 0.0, \"n\": 8665}]}]], \"type\": \"Model\"}, \"ipython\": true, \"view_params\": {\"model_type\": \"regression\", \"view\": \"Evaluation\"}, \"model_type\": \"regression\", \"attributes\": {\"section_titles\": [\"Schema\", \"Hyperparameters\", \"Training Summary\", \"Settings\", \"Highest Positive Coefficients\", \"Lowest Negative Coefficients\"], \"sections\": [[[\"Number of coefficients\", 12], [\"Number of examples\", 146861], [\"Number of classes\", 2], [\"Number of feature columns\", 11], [\"Number of unpacked features\", 11]], [[\"L1 penalty\", 0.0], [\"L2 penalty\", 0.01]], [[\"Solver\", \"newton\"], [\"Solver iterations\", 5], [\"Solver status\", \"SUCCESS: Optimal solution found.\"], [\"Training time (sec)\", 2.2233]], [[\"Log-likelihood\", 75402.828]], [[\"love\", 1.1572], [\"awesome\", 1.0063], [\"(intercept)\", 0.8997], [\"amazing\", 0.892], [\"great\", 0.6997]], [[\"horrible\", -1.7577], [\"terrible\", -1.7357], [\"awful\", -1.4381], [\"hate\", -1.283], [\"bad\", -0.9041]]]}, \"evaluations\": [[\"test_data\", {\"roc_curve\": [{\"threshold\": 0.0, \"p\": 28005, \"fpr\": 1.0, \"tpr\": 1.0, \"n\": 8665}, {\"threshold\": 0.001, \"p\": 28005, \"fpr\": 0.9998845931909983, \"tpr\": 1.0, \"n\": 8665}, {\"threshold\": 0.002, \"p\": 28005, \"fpr\": 0.9998845931909983, \"tpr\": 1.0, \"n\": 8665}, {\"threshold\": 0.003, \"p\": 28005, \"fpr\": 0.9997691863819965, \"tpr\": 1.0, \"n\": 8665}, {\"threshold\": 0.004, \"p\": 28005, \"fpr\": 0.9997691863819965, \"tpr\": 1.0, \"n\": 8665}, {\"threshold\": 0.005, \"p\": 28005, \"fpr\": 0.9997691863819965, \"tpr\": 1.0, \"n\": 8665}, {\"threshold\": 0.006, \"p\": 28005, \"fpr\": 0.9997691863819965, \"tpr\": 1.0, \"n\": 8665}, {\"threshold\": 0.007, \"p\": 28005, \"fpr\": 0.9997691863819965, \"tpr\": 1.0, \"n\": 8665}, {\"threshold\": 0.008, \"p\": 28005, \"fpr\": 0.9997691863819965, \"tpr\": 1.0, \"n\": 8665}, {\"threshold\": 0.009, \"p\": 28005, \"fpr\": 0.9997691863819965, \"tpr\": 1.0, \"n\": 8665}, {\"threshold\": 0.01, \"p\": 28005, \"fpr\": 0.9997691863819965, \"tpr\": 1.0, \"n\": 8665}, {\"threshold\": 0.011, \"p\": 28005, \"fpr\": 0.9997691863819965, \"tpr\": 1.0, \"n\": 8665}, {\"threshold\": 0.012, \"p\": 28005, \"fpr\": 0.9997691863819965, \"tpr\": 1.0, \"n\": 8665}, {\"threshold\": 0.013, \"p\": 28005, \"fpr\": 0.9996537795729948, \"tpr\": 1.0, \"n\": 8665}, {\"threshold\": 0.014, \"p\": 28005, \"fpr\": 0.999538372763993, \"tpr\": 1.0, \"n\": 8665}, {\"threshold\": 0.015, \"p\": 28005, \"fpr\": 0.999538372763993, \"tpr\": 1.0, \"n\": 8665}, {\"threshold\": 0.016, \"p\": 28005, \"fpr\": 0.999538372763993, \"tpr\": 1.0, \"n\": 8665}, {\"threshold\": 0.017, \"p\": 28005, \"fpr\": 0.999538372763993, \"tpr\": 1.0, \"n\": 8665}, {\"threshold\": 0.018, \"p\": 28005, \"fpr\": 0.999538372763993, \"tpr\": 1.0, \"n\": 8665}, {\"threshold\": 0.019, \"p\": 28005, \"fpr\": 0.9994229659549914, \"tpr\": 1.0, \"n\": 8665}, {\"threshold\": 0.02, \"p\": 28005, \"fpr\": 0.9994229659549914, \"tpr\": 1.0, \"n\": 8665}, {\"threshold\": 0.021, \"p\": 28005, \"fpr\": 0.9993075591459896, \"tpr\": 1.0, \"n\": 8665}, {\"threshold\": 0.022, \"p\": 28005, \"fpr\": 0.9993075591459896, \"tpr\": 1.0, \"n\": 8665}, {\"threshold\": 0.023, \"p\": 28005, \"fpr\": 0.9993075591459896, \"tpr\": 1.0, \"n\": 8665}, {\"threshold\": 0.024, \"p\": 28005, \"fpr\": 0.9993075591459896, \"tpr\": 1.0, \"n\": 8665}, {\"threshold\": 0.025, \"p\": 28005, \"fpr\": 0.9993075591459896, \"tpr\": 1.0, \"n\": 8665}, {\"threshold\": 0.026, \"p\": 28005, \"fpr\": 0.9993075591459896, \"tpr\": 1.0, \"n\": 8665}, {\"threshold\": 0.027, \"p\": 28005, \"fpr\": 0.9993075591459896, \"tpr\": 1.0, \"n\": 8665}, {\"threshold\": 0.028, \"p\": 28005, \"fpr\": 0.9993075591459896, \"tpr\": 1.0, \"n\": 8665}, {\"threshold\": 0.029, \"p\": 28005, \"fpr\": 0.9993075591459896, \"tpr\": 0.999964292090698, \"n\": 8665}, {\"threshold\": 0.03, \"p\": 28005, \"fpr\": 0.9993075591459896, \"tpr\": 0.999964292090698, \"n\": 8665}, {\"threshold\": 0.031, \"p\": 28005, \"fpr\": 0.9993075591459896, \"tpr\": 0.999964292090698, \"n\": 8665}, {\"threshold\": 0.032, \"p\": 28005, \"fpr\": 0.9993075591459896, \"tpr\": 0.999964292090698, \"n\": 8665}, {\"threshold\": 0.033, \"p\": 28005, \"fpr\": 0.9993075591459896, \"tpr\": 0.999964292090698, \"n\": 8665}, {\"threshold\": 0.034, \"p\": 28005, \"fpr\": 0.9993075591459896, \"tpr\": 0.999964292090698, \"n\": 8665}, {\"threshold\": 0.035, \"p\": 28005, \"fpr\": 0.9993075591459896, \"tpr\": 0.999964292090698, \"n\": 8665}, {\"threshold\": 0.036, \"p\": 28005, \"fpr\": 0.9993075591459896, \"tpr\": 0.999964292090698, \"n\": 8665}, {\"threshold\": 0.037, \"p\": 28005, \"fpr\": 0.9993075591459896, \"tpr\": 0.999964292090698, \"n\": 8665}, {\"threshold\": 0.038, \"p\": 28005, \"fpr\": 0.9993075591459896, \"tpr\": 0.999964292090698, \"n\": 8665}, {\"threshold\": 0.039, \"p\": 28005, \"fpr\": 0.9993075591459896, \"tpr\": 0.999964292090698, \"n\": 8665}, {\"threshold\": 0.04, \"p\": 28005, \"fpr\": 0.9993075591459896, \"tpr\": 0.999964292090698, \"n\": 8665}, {\"threshold\": 0.041, \"p\": 28005, \"fpr\": 0.9993075591459896, \"tpr\": 0.999964292090698, \"n\": 8665}, {\"threshold\": 0.042, \"p\": 28005, \"fpr\": 0.9993075591459896, \"tpr\": 0.9999285841813962, \"n\": 8665}, {\"threshold\": 0.043, \"p\": 28005, \"fpr\": 0.9991921523369879, \"tpr\": 0.9999285841813962, \"n\": 8665}, {\"threshold\": 0.044, \"p\": 28005, \"fpr\": 0.9991921523369879, \"tpr\": 0.9999285841813962, \"n\": 8665}, {\"threshold\": 0.045, \"p\": 28005, \"fpr\": 0.9991921523369879, \"tpr\": 0.9999285841813962, \"n\": 8665}, {\"threshold\": 0.046, \"p\": 28005, \"fpr\": 0.9991921523369879, \"tpr\": 0.9999285841813962, \"n\": 8665}, {\"threshold\": 0.047, \"p\": 28005, \"fpr\": 0.9991921523369879, \"tpr\": 0.9999285841813962, \"n\": 8665}, {\"threshold\": 0.048, \"p\": 28005, \"fpr\": 0.9991921523369879, \"tpr\": 0.9999285841813962, \"n\": 8665}, {\"threshold\": 0.049, \"p\": 28005, \"fpr\": 0.9991921523369879, \"tpr\": 0.9999285841813962, \"n\": 8665}, {\"threshold\": 0.05, \"p\": 28005, \"fpr\": 0.9991921523369879, \"tpr\": 0.9999285841813962, \"n\": 8665}, {\"threshold\": 0.051, \"p\": 28005, \"fpr\": 0.9991921523369879, \"tpr\": 0.9999285841813962, \"n\": 8665}, {\"threshold\": 0.052, \"p\": 28005, \"fpr\": 0.9991921523369879, \"tpr\": 0.9999285841813962, \"n\": 8665}, {\"threshold\": 0.053, \"p\": 28005, \"fpr\": 0.9991921523369879, \"tpr\": 0.9999285841813962, \"n\": 8665}, {\"threshold\": 0.054, \"p\": 28005, \"fpr\": 0.9991921523369879, \"tpr\": 0.9999285841813962, \"n\": 8665}, {\"threshold\": 0.055, \"p\": 28005, \"fpr\": 0.9991921523369879, \"tpr\": 0.9999285841813962, \"n\": 8665}, {\"threshold\": 0.056, \"p\": 28005, \"fpr\": 0.9991921523369879, \"tpr\": 0.9999285841813962, \"n\": 8665}, {\"threshold\": 0.057, \"p\": 28005, \"fpr\": 0.9991921523369879, \"tpr\": 0.9999285841813962, \"n\": 8665}, {\"threshold\": 0.058, \"p\": 28005, \"fpr\": 0.9991921523369879, \"tpr\": 0.9999285841813962, \"n\": 8665}, {\"threshold\": 0.059, \"p\": 28005, \"fpr\": 0.9991921523369879, \"tpr\": 0.9999285841813962, \"n\": 8665}, {\"threshold\": 0.06, \"p\": 28005, \"fpr\": 0.9991921523369879, \"tpr\": 0.9999285841813962, \"n\": 8665}, {\"threshold\": 0.061, \"p\": 28005, \"fpr\": 0.9991921523369879, \"tpr\": 0.9999285841813962, \"n\": 8665}, {\"threshold\": 0.062, \"p\": 28005, \"fpr\": 0.9991921523369879, \"tpr\": 0.9999285841813962, \"n\": 8665}, {\"threshold\": 0.063, \"p\": 28005, \"fpr\": 0.9991921523369879, \"tpr\": 0.9999285841813962, \"n\": 8665}, {\"threshold\": 0.064, \"p\": 28005, \"fpr\": 0.9991921523369879, \"tpr\": 0.9999285841813962, \"n\": 8665}, {\"threshold\": 0.065, \"p\": 28005, \"fpr\": 0.9991921523369879, \"tpr\": 0.9998571683627924, \"n\": 8665}, {\"threshold\": 0.066, \"p\": 28005, \"fpr\": 0.9991921523369879, \"tpr\": 0.9998571683627924, \"n\": 8665}, {\"threshold\": 0.067, \"p\": 28005, \"fpr\": 0.9990767455279862, \"tpr\": 0.9998571683627924, \"n\": 8665}, {\"threshold\": 0.068, \"p\": 28005, \"fpr\": 0.9990767455279862, \"tpr\": 0.9998571683627924, \"n\": 8665}, {\"threshold\": 0.069, \"p\": 28005, \"fpr\": 0.9989613387189844, \"tpr\": 0.9997857525441886, \"n\": 8665}, {\"threshold\": 0.07, \"p\": 28005, \"fpr\": 0.9988459319099827, \"tpr\": 0.9997857525441886, \"n\": 8665}, {\"threshold\": 0.071, \"p\": 28005, \"fpr\": 0.9983843046739758, \"tpr\": 0.9997857525441886, \"n\": 8665}, {\"threshold\": 0.072, \"p\": 28005, \"fpr\": 0.9983843046739758, \"tpr\": 0.9997857525441886, \"n\": 8665}, {\"threshold\": 0.073, \"p\": 28005, \"fpr\": 0.9983843046739758, \"tpr\": 0.9997857525441886, \"n\": 8665}, {\"threshold\": 0.074, \"p\": 28005, \"fpr\": 0.9983843046739758, \"tpr\": 0.9997857525441886, \"n\": 8665}, {\"threshold\": 0.075, \"p\": 28005, \"fpr\": 0.9983843046739758, \"tpr\": 0.9997857525441886, \"n\": 8665}, {\"threshold\": 0.076, \"p\": 28005, \"fpr\": 0.9983843046739758, \"tpr\": 0.9997857525441886, \"n\": 8665}, {\"threshold\": 0.077, \"p\": 28005, \"fpr\": 0.9983843046739758, \"tpr\": 0.9997857525441886, \"n\": 8665}, {\"threshold\": 0.078, \"p\": 28005, \"fpr\": 0.9983843046739758, \"tpr\": 0.9997857525441886, \"n\": 8665}, {\"threshold\": 0.079, \"p\": 28005, \"fpr\": 0.9983843046739758, \"tpr\": 0.9997857525441886, \"n\": 8665}, {\"threshold\": 0.08, \"p\": 28005, \"fpr\": 0.9983843046739758, \"tpr\": 0.9997857525441886, \"n\": 8665}, {\"threshold\": 0.081, \"p\": 28005, \"fpr\": 0.9983843046739758, \"tpr\": 0.9997857525441886, \"n\": 8665}, {\"threshold\": 0.082, \"p\": 28005, \"fpr\": 0.9983843046739758, \"tpr\": 0.9997857525441886, \"n\": 8665}, {\"threshold\": 0.083, \"p\": 28005, \"fpr\": 0.9983843046739758, \"tpr\": 0.9997857525441886, \"n\": 8665}, {\"threshold\": 0.084, \"p\": 28005, \"fpr\": 0.9983843046739758, \"tpr\": 0.9997857525441886, \"n\": 8665}, {\"threshold\": 0.085, \"p\": 28005, \"fpr\": 0.9983843046739758, \"tpr\": 0.9997857525441886, \"n\": 8665}, {\"threshold\": 0.086, \"p\": 28005, \"fpr\": 0.9983843046739758, \"tpr\": 0.9997857525441886, \"n\": 8665}, {\"threshold\": 0.087, \"p\": 28005, \"fpr\": 0.9982688978649741, \"tpr\": 0.9997857525441886, \"n\": 8665}, {\"threshold\": 0.088, \"p\": 28005, \"fpr\": 0.9982688978649741, \"tpr\": 0.9997857525441886, \"n\": 8665}, {\"threshold\": 0.089, \"p\": 28005, \"fpr\": 0.9982688978649741, \"tpr\": 0.9997857525441886, \"n\": 8665}, {\"threshold\": 0.09, \"p\": 28005, \"fpr\": 0.9982688978649741, \"tpr\": 0.9997857525441886, \"n\": 8665}, {\"threshold\": 0.091, \"p\": 28005, \"fpr\": 0.9982688978649741, \"tpr\": 0.9997857525441886, \"n\": 8665}, {\"threshold\": 0.092, \"p\": 28005, \"fpr\": 0.9981534910559723, \"tpr\": 0.9997143367255847, \"n\": 8665}, {\"threshold\": 0.093, \"p\": 28005, \"fpr\": 0.9981534910559723, \"tpr\": 0.9997143367255847, \"n\": 8665}, {\"threshold\": 0.094, \"p\": 28005, \"fpr\": 0.9981534910559723, \"tpr\": 0.9997143367255847, \"n\": 8665}, {\"threshold\": 0.095, \"p\": 28005, \"fpr\": 0.9981534910559723, \"tpr\": 0.9997143367255847, \"n\": 8665}, {\"threshold\": 0.096, \"p\": 28005, \"fpr\": 0.9981534910559723, \"tpr\": 0.9997143367255847, \"n\": 8665}, {\"threshold\": 0.097, \"p\": 28005, \"fpr\": 0.9981534910559723, \"tpr\": 0.9997143367255847, \"n\": 8665}, {\"threshold\": 0.098, \"p\": 28005, \"fpr\": 0.9981534910559723, \"tpr\": 0.9997143367255847, \"n\": 8665}, {\"threshold\": 0.099, \"p\": 28005, \"fpr\": 0.9981534910559723, \"tpr\": 0.9997143367255847, \"n\": 8665}, {\"threshold\": 0.1, \"p\": 28005, \"fpr\": 0.9981534910559723, \"tpr\": 0.9997143367255847, \"n\": 8665}, {\"threshold\": 0.101, \"p\": 28005, \"fpr\": 0.9981534910559723, \"tpr\": 0.9997143367255847, \"n\": 8665}, {\"threshold\": 0.102, \"p\": 28005, \"fpr\": 0.9981534910559723, \"tpr\": 0.9997143367255847, \"n\": 8665}, {\"threshold\": 0.103, \"p\": 28005, \"fpr\": 0.9981534910559723, \"tpr\": 0.9997143367255847, \"n\": 8665}, {\"threshold\": 0.104, \"p\": 28005, \"fpr\": 0.9981534910559723, \"tpr\": 0.9997143367255847, \"n\": 8665}, {\"threshold\": 0.105, \"p\": 28005, \"fpr\": 0.9981534910559723, \"tpr\": 0.9997143367255847, \"n\": 8665}, {\"threshold\": 0.106, \"p\": 28005, \"fpr\": 0.9981534910559723, \"tpr\": 0.9996786288162828, \"n\": 8665}, {\"threshold\": 0.107, \"p\": 28005, \"fpr\": 0.9981534910559723, \"tpr\": 0.9996786288162828, \"n\": 8665}, {\"threshold\": 0.108, \"p\": 28005, \"fpr\": 0.9979226774379688, \"tpr\": 0.9996786288162828, \"n\": 8665}, {\"threshold\": 0.109, \"p\": 28005, \"fpr\": 0.9979226774379688, \"tpr\": 0.9996786288162828, \"n\": 8665}, {\"threshold\": 0.11, \"p\": 28005, \"fpr\": 0.9979226774379688, \"tpr\": 0.9996786288162828, \"n\": 8665}, {\"threshold\": 0.111, \"p\": 28005, \"fpr\": 0.9979226774379688, \"tpr\": 0.9996786288162828, \"n\": 8665}, {\"threshold\": 0.112, \"p\": 28005, \"fpr\": 0.9979226774379688, \"tpr\": 0.9996786288162828, \"n\": 8665}, {\"threshold\": 0.113, \"p\": 28005, \"fpr\": 0.9979226774379688, \"tpr\": 0.9996786288162828, \"n\": 8665}, {\"threshold\": 0.114, \"p\": 28005, \"fpr\": 0.9979226774379688, \"tpr\": 0.9996786288162828, \"n\": 8665}, {\"threshold\": 0.115, \"p\": 28005, \"fpr\": 0.9979226774379688, \"tpr\": 0.9996786288162828, \"n\": 8665}, {\"threshold\": 0.116, \"p\": 28005, \"fpr\": 0.9979226774379688, \"tpr\": 0.9996786288162828, \"n\": 8665}, {\"threshold\": 0.117, \"p\": 28005, \"fpr\": 0.9979226774379688, \"tpr\": 0.9996786288162828, \"n\": 8665}, {\"threshold\": 0.118, \"p\": 28005, \"fpr\": 0.9979226774379688, \"tpr\": 0.9996786288162828, \"n\": 8665}, {\"threshold\": 0.119, \"p\": 28005, \"fpr\": 0.9979226774379688, \"tpr\": 0.9996786288162828, \"n\": 8665}, {\"threshold\": 0.12, \"p\": 28005, \"fpr\": 0.9979226774379688, \"tpr\": 0.9996786288162828, \"n\": 8665}, {\"threshold\": 0.121, \"p\": 28005, \"fpr\": 0.9979226774379688, \"tpr\": 0.9996786288162828, \"n\": 8665}, {\"threshold\": 0.122, \"p\": 28005, \"fpr\": 0.9978072706289671, \"tpr\": 0.9996786288162828, \"n\": 8665}, {\"threshold\": 0.123, \"p\": 28005, \"fpr\": 0.9976918638199653, \"tpr\": 0.9996786288162828, \"n\": 8665}, {\"threshold\": 0.124, \"p\": 28005, \"fpr\": 0.9976918638199653, \"tpr\": 0.9996786288162828, \"n\": 8665}, {\"threshold\": 0.125, \"p\": 28005, \"fpr\": 0.9976918638199653, \"tpr\": 0.9996786288162828, \"n\": 8665}, {\"threshold\": 0.126, \"p\": 28005, \"fpr\": 0.9976918638199653, \"tpr\": 0.9996786288162828, \"n\": 8665}, {\"threshold\": 0.127, \"p\": 28005, \"fpr\": 0.9976918638199653, \"tpr\": 0.9996786288162828, \"n\": 8665}, {\"threshold\": 0.128, \"p\": 28005, \"fpr\": 0.9976918638199653, \"tpr\": 0.9996786288162828, \"n\": 8665}, {\"threshold\": 0.129, \"p\": 28005, \"fpr\": 0.9976918638199653, \"tpr\": 0.9996786288162828, \"n\": 8665}, {\"threshold\": 0.13, \"p\": 28005, \"fpr\": 0.9976918638199653, \"tpr\": 0.9996786288162828, \"n\": 8665}, {\"threshold\": 0.131, \"p\": 28005, \"fpr\": 0.9976918638199653, \"tpr\": 0.9996786288162828, \"n\": 8665}, {\"threshold\": 0.132, \"p\": 28005, \"fpr\": 0.9976918638199653, \"tpr\": 0.9996786288162828, \"n\": 8665}, {\"threshold\": 0.133, \"p\": 28005, \"fpr\": 0.9976918638199653, \"tpr\": 0.9996786288162828, \"n\": 8665}, {\"threshold\": 0.134, \"p\": 28005, \"fpr\": 0.9975764570109636, \"tpr\": 0.9996786288162828, \"n\": 8665}, {\"threshold\": 0.135, \"p\": 28005, \"fpr\": 0.9975764570109636, \"tpr\": 0.9996786288162828, \"n\": 8665}, {\"threshold\": 0.136, \"p\": 28005, \"fpr\": 0.9975764570109636, \"tpr\": 0.9996786288162828, \"n\": 8665}, {\"threshold\": 0.137, \"p\": 28005, \"fpr\": 0.9975764570109636, \"tpr\": 0.9996786288162828, \"n\": 8665}, {\"threshold\": 0.138, \"p\": 28005, \"fpr\": 0.9975764570109636, \"tpr\": 0.9996786288162828, \"n\": 8665}, {\"threshold\": 0.139, \"p\": 28005, \"fpr\": 0.9975764570109636, \"tpr\": 0.9996786288162828, \"n\": 8665}, {\"threshold\": 0.14, \"p\": 28005, \"fpr\": 0.997461050201962, \"tpr\": 0.9996786288162828, \"n\": 8665}, {\"threshold\": 0.141, \"p\": 28005, \"fpr\": 0.9972302365839585, \"tpr\": 0.9996786288162828, \"n\": 8665}, {\"threshold\": 0.142, \"p\": 28005, \"fpr\": 0.9972302365839585, \"tpr\": 0.9996786288162828, \"n\": 8665}, {\"threshold\": 0.143, \"p\": 28005, \"fpr\": 0.9972302365839585, \"tpr\": 0.9996786288162828, \"n\": 8665}, {\"threshold\": 0.144, \"p\": 28005, \"fpr\": 0.9972302365839585, \"tpr\": 0.9996786288162828, \"n\": 8665}, {\"threshold\": 0.145, \"p\": 28005, \"fpr\": 0.9972302365839585, \"tpr\": 0.9996786288162828, \"n\": 8665}, {\"threshold\": 0.146, \"p\": 28005, \"fpr\": 0.9972302365839585, \"tpr\": 0.9996786288162828, \"n\": 8665}, {\"threshold\": 0.147, \"p\": 28005, \"fpr\": 0.9971148297749567, \"tpr\": 0.9995715050883771, \"n\": 8665}, {\"threshold\": 0.148, \"p\": 28005, \"fpr\": 0.9971148297749567, \"tpr\": 0.9995715050883771, \"n\": 8665}, {\"threshold\": 0.149, \"p\": 28005, \"fpr\": 0.9971148297749567, \"tpr\": 0.9995715050883771, \"n\": 8665}, {\"threshold\": 0.15, \"p\": 28005, \"fpr\": 0.9968840161569532, \"tpr\": 0.9995715050883771, \"n\": 8665}, {\"threshold\": 0.151, \"p\": 28005, \"fpr\": 0.9968840161569532, \"tpr\": 0.9995715050883771, \"n\": 8665}, {\"threshold\": 0.152, \"p\": 28005, \"fpr\": 0.9968840161569532, \"tpr\": 0.9995715050883771, \"n\": 8665}, {\"threshold\": 0.153, \"p\": 28005, \"fpr\": 0.9968840161569532, \"tpr\": 0.9995715050883771, \"n\": 8665}, {\"threshold\": 0.154, \"p\": 28005, \"fpr\": 0.9968840161569532, \"tpr\": 0.9995715050883771, \"n\": 8665}, {\"threshold\": 0.155, \"p\": 28005, \"fpr\": 0.9968840161569532, \"tpr\": 0.9995715050883771, \"n\": 8665}, {\"threshold\": 0.156, \"p\": 28005, \"fpr\": 0.9968840161569532, \"tpr\": 0.9995715050883771, \"n\": 8665}, {\"threshold\": 0.157, \"p\": 28005, \"fpr\": 0.9968840161569532, \"tpr\": 0.9995715050883771, \"n\": 8665}, {\"threshold\": 0.158, \"p\": 28005, \"fpr\": 0.9968840161569532, \"tpr\": 0.9995715050883771, \"n\": 8665}, {\"threshold\": 0.159, \"p\": 28005, \"fpr\": 0.9963069821119446, \"tpr\": 0.9995715050883771, \"n\": 8665}, {\"threshold\": 0.16, \"p\": 28005, \"fpr\": 0.9963069821119446, \"tpr\": 0.9995715050883771, \"n\": 8665}, {\"threshold\": 0.161, \"p\": 28005, \"fpr\": 0.9963069821119446, \"tpr\": 0.9995715050883771, \"n\": 8665}, {\"threshold\": 0.162, \"p\": 28005, \"fpr\": 0.9963069821119446, \"tpr\": 0.9995715050883771, \"n\": 8665}, {\"threshold\": 0.163, \"p\": 28005, \"fpr\": 0.9963069821119446, \"tpr\": 0.9995715050883771, \"n\": 8665}, {\"threshold\": 0.164, \"p\": 28005, \"fpr\": 0.9963069821119446, \"tpr\": 0.9995715050883771, \"n\": 8665}, {\"threshold\": 0.165, \"p\": 28005, \"fpr\": 0.9963069821119446, \"tpr\": 0.9995715050883771, \"n\": 8665}, {\"threshold\": 0.166, \"p\": 28005, \"fpr\": 0.9963069821119446, \"tpr\": 0.9995715050883771, \"n\": 8665}, {\"threshold\": 0.167, \"p\": 28005, \"fpr\": 0.9963069821119446, \"tpr\": 0.9995715050883771, \"n\": 8665}, {\"threshold\": 0.168, \"p\": 28005, \"fpr\": 0.9963069821119446, \"tpr\": 0.9995715050883771, \"n\": 8665}, {\"threshold\": 0.169, \"p\": 28005, \"fpr\": 0.9963069821119446, \"tpr\": 0.9995715050883771, \"n\": 8665}, {\"threshold\": 0.17, \"p\": 28005, \"fpr\": 0.9963069821119446, \"tpr\": 0.9995715050883771, \"n\": 8665}, {\"threshold\": 0.171, \"p\": 28005, \"fpr\": 0.9963069821119446, \"tpr\": 0.9995715050883771, \"n\": 8665}, {\"threshold\": 0.172, \"p\": 28005, \"fpr\": 0.9963069821119446, \"tpr\": 0.9995715050883771, \"n\": 8665}, {\"threshold\": 0.173, \"p\": 28005, \"fpr\": 0.9963069821119446, \"tpr\": 0.9995715050883771, \"n\": 8665}, {\"threshold\": 0.174, \"p\": 28005, \"fpr\": 0.9963069821119446, \"tpr\": 0.9995357971790751, \"n\": 8665}, {\"threshold\": 0.175, \"p\": 28005, \"fpr\": 0.9963069821119446, \"tpr\": 0.9995357971790751, \"n\": 8665}, {\"threshold\": 0.176, \"p\": 28005, \"fpr\": 0.9963069821119446, \"tpr\": 0.9995357971790751, \"n\": 8665}, {\"threshold\": 0.177, \"p\": 28005, \"fpr\": 0.9963069821119446, \"tpr\": 0.9995357971790751, \"n\": 8665}, {\"threshold\": 0.178, \"p\": 28005, \"fpr\": 0.9963069821119446, \"tpr\": 0.9995357971790751, \"n\": 8665}, {\"threshold\": 0.179, \"p\": 28005, \"fpr\": 0.9963069821119446, \"tpr\": 0.9995357971790751, \"n\": 8665}, {\"threshold\": 0.18, \"p\": 28005, \"fpr\": 0.9963069821119446, \"tpr\": 0.9995357971790751, \"n\": 8665}, {\"threshold\": 0.181, \"p\": 28005, \"fpr\": 0.9963069821119446, \"tpr\": 0.9995357971790751, \"n\": 8665}, {\"threshold\": 0.182, \"p\": 28005, \"fpr\": 0.9963069821119446, \"tpr\": 0.9995357971790751, \"n\": 8665}, {\"threshold\": 0.183, \"p\": 28005, \"fpr\": 0.9963069821119446, \"tpr\": 0.9995357971790751, \"n\": 8665}, {\"threshold\": 0.184, \"p\": 28005, \"fpr\": 0.9963069821119446, \"tpr\": 0.9995357971790751, \"n\": 8665}, {\"threshold\": 0.185, \"p\": 28005, \"fpr\": 0.9963069821119446, \"tpr\": 0.9995357971790751, \"n\": 8665}, {\"threshold\": 0.186, \"p\": 28005, \"fpr\": 0.9963069821119446, \"tpr\": 0.9995357971790751, \"n\": 8665}, {\"threshold\": 0.187, \"p\": 28005, \"fpr\": 0.9963069821119446, \"tpr\": 0.9995357971790751, \"n\": 8665}, {\"threshold\": 0.188, \"p\": 28005, \"fpr\": 0.9963069821119446, \"tpr\": 0.9995357971790751, \"n\": 8665}, {\"threshold\": 0.189, \"p\": 28005, \"fpr\": 0.9963069821119446, \"tpr\": 0.9995357971790751, \"n\": 8665}, {\"threshold\": 0.19, \"p\": 28005, \"fpr\": 0.9963069821119446, \"tpr\": 0.9995357971790751, \"n\": 8665}, {\"threshold\": 0.191, \"p\": 28005, \"fpr\": 0.9963069821119446, \"tpr\": 0.9995357971790751, \"n\": 8665}, {\"threshold\": 0.192, \"p\": 28005, \"fpr\": 0.9961915753029429, \"tpr\": 0.9995000892697733, \"n\": 8665}, {\"threshold\": 0.193, \"p\": 28005, \"fpr\": 0.9961915753029429, \"tpr\": 0.9994643813604713, \"n\": 8665}, {\"threshold\": 0.194, \"p\": 28005, \"fpr\": 0.9961915753029429, \"tpr\": 0.9994643813604713, \"n\": 8665}, {\"threshold\": 0.195, \"p\": 28005, \"fpr\": 0.9961915753029429, \"tpr\": 0.9994643813604713, \"n\": 8665}, {\"threshold\": 0.196, \"p\": 28005, \"fpr\": 0.9960761684939411, \"tpr\": 0.9994286734511695, \"n\": 8665}, {\"threshold\": 0.197, \"p\": 28005, \"fpr\": 0.9960761684939411, \"tpr\": 0.9994286734511695, \"n\": 8665}, {\"threshold\": 0.198, \"p\": 28005, \"fpr\": 0.9960761684939411, \"tpr\": 0.9994286734511695, \"n\": 8665}, {\"threshold\": 0.199, \"p\": 28005, \"fpr\": 0.9960761684939411, \"tpr\": 0.9994286734511695, \"n\": 8665}, {\"threshold\": 0.2, \"p\": 28005, \"fpr\": 0.9960761684939411, \"tpr\": 0.9994286734511695, \"n\": 8665}, {\"threshold\": 0.201, \"p\": 28005, \"fpr\": 0.9960761684939411, \"tpr\": 0.9994286734511695, \"n\": 8665}, {\"threshold\": 0.202, \"p\": 28005, \"fpr\": 0.9960761684939411, \"tpr\": 0.9994286734511695, \"n\": 8665}, {\"threshold\": 0.203, \"p\": 28005, \"fpr\": 0.9960761684939411, \"tpr\": 0.9994286734511695, \"n\": 8665}, {\"threshold\": 0.204, \"p\": 28005, \"fpr\": 0.9960761684939411, \"tpr\": 0.9994286734511695, \"n\": 8665}, {\"threshold\": 0.205, \"p\": 28005, \"fpr\": 0.9960761684939411, \"tpr\": 0.9994286734511695, \"n\": 8665}, {\"threshold\": 0.206, \"p\": 28005, \"fpr\": 0.9960761684939411, \"tpr\": 0.9994286734511695, \"n\": 8665}, {\"threshold\": 0.207, \"p\": 28005, \"fpr\": 0.9960761684939411, \"tpr\": 0.9994286734511695, \"n\": 8665}, {\"threshold\": 0.208, \"p\": 28005, \"fpr\": 0.9960761684939411, \"tpr\": 0.9994286734511695, \"n\": 8665}, {\"threshold\": 0.209, \"p\": 28005, \"fpr\": 0.9960761684939411, \"tpr\": 0.9994286734511695, \"n\": 8665}, {\"threshold\": 0.21, \"p\": 28005, \"fpr\": 0.9960761684939411, \"tpr\": 0.9994286734511695, \"n\": 8665}, {\"threshold\": 0.211, \"p\": 28005, \"fpr\": 0.9960761684939411, \"tpr\": 0.9994286734511695, \"n\": 8665}, {\"threshold\": 0.212, \"p\": 28005, \"fpr\": 0.9960761684939411, \"tpr\": 0.9994286734511695, \"n\": 8665}, {\"threshold\": 0.213, \"p\": 28005, \"fpr\": 0.9960761684939411, \"tpr\": 0.9994286734511695, \"n\": 8665}, {\"threshold\": 0.214, \"p\": 28005, \"fpr\": 0.9960761684939411, \"tpr\": 0.9994286734511695, \"n\": 8665}, {\"threshold\": 0.215, \"p\": 28005, \"fpr\": 0.9960761684939411, \"tpr\": 0.9994286734511695, \"n\": 8665}, {\"threshold\": 0.216, \"p\": 28005, \"fpr\": 0.9960761684939411, \"tpr\": 0.9994286734511695, \"n\": 8665}, {\"threshold\": 0.217, \"p\": 28005, \"fpr\": 0.9951529140219273, \"tpr\": 0.9993572576325657, \"n\": 8665}, {\"threshold\": 0.218, \"p\": 28005, \"fpr\": 0.9951529140219273, \"tpr\": 0.9993572576325657, \"n\": 8665}, {\"threshold\": 0.219, \"p\": 28005, \"fpr\": 0.9950375072129256, \"tpr\": 0.9993215497232637, \"n\": 8665}, {\"threshold\": 0.22, \"p\": 28005, \"fpr\": 0.9950375072129256, \"tpr\": 0.9993215497232637, \"n\": 8665}, {\"threshold\": 0.221, \"p\": 28005, \"fpr\": 0.9950375072129256, \"tpr\": 0.9993215497232637, \"n\": 8665}, {\"threshold\": 0.222, \"p\": 28005, \"fpr\": 0.9950375072129256, \"tpr\": 0.9993215497232637, \"n\": 8665}, {\"threshold\": 0.223, \"p\": 28005, \"fpr\": 0.9950375072129256, \"tpr\": 0.9993215497232637, \"n\": 8665}, {\"threshold\": 0.224, \"p\": 28005, \"fpr\": 0.9950375072129256, \"tpr\": 0.9993215497232637, \"n\": 8665}, {\"threshold\": 0.225, \"p\": 28005, \"fpr\": 0.9950375072129256, \"tpr\": 0.9993215497232637, \"n\": 8665}, {\"threshold\": 0.226, \"p\": 28005, \"fpr\": 0.9950375072129256, \"tpr\": 0.9993215497232637, \"n\": 8665}, {\"threshold\": 0.227, \"p\": 28005, \"fpr\": 0.9950375072129256, \"tpr\": 0.9993215497232637, \"n\": 8665}, {\"threshold\": 0.228, \"p\": 28005, \"fpr\": 0.9950375072129256, \"tpr\": 0.9993215497232637, \"n\": 8665}, {\"threshold\": 0.229, \"p\": 28005, \"fpr\": 0.9950375072129256, \"tpr\": 0.9993215497232637, \"n\": 8665}, {\"threshold\": 0.23, \"p\": 28005, \"fpr\": 0.9950375072129256, \"tpr\": 0.9993215497232637, \"n\": 8665}, {\"threshold\": 0.231, \"p\": 28005, \"fpr\": 0.9950375072129256, \"tpr\": 0.9993215497232637, \"n\": 8665}, {\"threshold\": 0.232, \"p\": 28005, \"fpr\": 0.9950375072129256, \"tpr\": 0.9993215497232637, \"n\": 8665}, {\"threshold\": 0.233, \"p\": 28005, \"fpr\": 0.9950375072129256, \"tpr\": 0.9993215497232637, \"n\": 8665}, {\"threshold\": 0.234, \"p\": 28005, \"fpr\": 0.9950375072129256, \"tpr\": 0.9993215497232637, \"n\": 8665}, {\"threshold\": 0.235, \"p\": 28005, \"fpr\": 0.9950375072129256, \"tpr\": 0.9993215497232637, \"n\": 8665}, {\"threshold\": 0.236, \"p\": 28005, \"fpr\": 0.9950375072129256, \"tpr\": 0.9993215497232637, \"n\": 8665}, {\"threshold\": 0.237, \"p\": 28005, \"fpr\": 0.9950375072129256, \"tpr\": 0.9993215497232637, \"n\": 8665}, {\"threshold\": 0.238, \"p\": 28005, \"fpr\": 0.9950375072129256, \"tpr\": 0.9993215497232637, \"n\": 8665}, {\"threshold\": 0.239, \"p\": 28005, \"fpr\": 0.9950375072129256, \"tpr\": 0.9993215497232637, \"n\": 8665}, {\"threshold\": 0.24, \"p\": 28005, \"fpr\": 0.9950375072129256, \"tpr\": 0.9993215497232637, \"n\": 8665}, {\"threshold\": 0.241, \"p\": 28005, \"fpr\": 0.9950375072129256, \"tpr\": 0.9993215497232637, \"n\": 8665}, {\"threshold\": 0.242, \"p\": 28005, \"fpr\": 0.9950375072129256, \"tpr\": 0.9993215497232637, \"n\": 8665}, {\"threshold\": 0.243, \"p\": 28005, \"fpr\": 0.9950375072129256, \"tpr\": 0.9993215497232637, \"n\": 8665}, {\"threshold\": 0.244, \"p\": 28005, \"fpr\": 0.9950375072129256, \"tpr\": 0.9993215497232637, \"n\": 8665}, {\"threshold\": 0.245, \"p\": 28005, \"fpr\": 0.9950375072129256, \"tpr\": 0.9993215497232637, \"n\": 8665}, {\"threshold\": 0.246, \"p\": 28005, \"fpr\": 0.9950375072129256, \"tpr\": 0.9993215497232637, \"n\": 8665}, {\"threshold\": 0.247, \"p\": 28005, \"fpr\": 0.9950375072129256, \"tpr\": 0.9993215497232637, \"n\": 8665}, {\"threshold\": 0.248, \"p\": 28005, \"fpr\": 0.9949221004039238, \"tpr\": 0.9993215497232637, \"n\": 8665}, {\"threshold\": 0.249, \"p\": 28005, \"fpr\": 0.9949221004039238, \"tpr\": 0.9993215497232637, \"n\": 8665}, {\"threshold\": 0.25, \"p\": 28005, \"fpr\": 0.9949221004039238, \"tpr\": 0.9993215497232637, \"n\": 8665}, {\"threshold\": 0.251, \"p\": 28005, \"fpr\": 0.9949221004039238, \"tpr\": 0.9993215497232637, \"n\": 8665}, {\"threshold\": 0.252, \"p\": 28005, \"fpr\": 0.9949221004039238, \"tpr\": 0.9993215497232637, \"n\": 8665}, {\"threshold\": 0.253, \"p\": 28005, \"fpr\": 0.9949221004039238, \"tpr\": 0.9993215497232637, \"n\": 8665}, {\"threshold\": 0.254, \"p\": 28005, \"fpr\": 0.9949221004039238, \"tpr\": 0.9993215497232637, \"n\": 8665}, {\"threshold\": 0.255, \"p\": 28005, \"fpr\": 0.9949221004039238, \"tpr\": 0.9993215497232637, \"n\": 8665}, {\"threshold\": 0.256, \"p\": 28005, \"fpr\": 0.9949221004039238, \"tpr\": 0.9993215497232637, \"n\": 8665}, {\"threshold\": 0.257, \"p\": 28005, \"fpr\": 0.9949221004039238, \"tpr\": 0.9993215497232637, \"n\": 8665}, {\"threshold\": 0.258, \"p\": 28005, \"fpr\": 0.9949221004039238, \"tpr\": 0.9993215497232637, \"n\": 8665}, {\"threshold\": 0.259, \"p\": 28005, \"fpr\": 0.9949221004039238, \"tpr\": 0.9993215497232637, \"n\": 8665}, {\"threshold\": 0.26, \"p\": 28005, \"fpr\": 0.9949221004039238, \"tpr\": 0.9993215497232637, \"n\": 8665}, {\"threshold\": 0.261, \"p\": 28005, \"fpr\": 0.9949221004039238, \"tpr\": 0.9993215497232637, \"n\": 8665}, {\"threshold\": 0.262, \"p\": 28005, \"fpr\": 0.9949221004039238, \"tpr\": 0.9993215497232637, \"n\": 8665}, {\"threshold\": 0.263, \"p\": 28005, \"fpr\": 0.9949221004039238, \"tpr\": 0.9993215497232637, \"n\": 8665}, {\"threshold\": 0.264, \"p\": 28005, \"fpr\": 0.9949221004039238, \"tpr\": 0.9993215497232637, \"n\": 8665}, {\"threshold\": 0.265, \"p\": 28005, \"fpr\": 0.9949221004039238, \"tpr\": 0.9993215497232637, \"n\": 8665}, {\"threshold\": 0.266, \"p\": 28005, \"fpr\": 0.9949221004039238, \"tpr\": 0.9993215497232637, \"n\": 8665}, {\"threshold\": 0.267, \"p\": 28005, \"fpr\": 0.9949221004039238, \"tpr\": 0.9993215497232637, \"n\": 8665}, {\"threshold\": 0.268, \"p\": 28005, \"fpr\": 0.9949221004039238, \"tpr\": 0.9993215497232637, \"n\": 8665}, {\"threshold\": 0.269, \"p\": 28005, \"fpr\": 0.9949221004039238, \"tpr\": 0.9993215497232637, \"n\": 8665}, {\"threshold\": 0.27, \"p\": 28005, \"fpr\": 0.9949221004039238, \"tpr\": 0.9993215497232637, \"n\": 8665}, {\"threshold\": 0.271, \"p\": 28005, \"fpr\": 0.9949221004039238, \"tpr\": 0.9993215497232637, \"n\": 8665}, {\"threshold\": 0.272, \"p\": 28005, \"fpr\": 0.9949221004039238, \"tpr\": 0.9993215497232637, \"n\": 8665}, {\"threshold\": 0.273, \"p\": 28005, \"fpr\": 0.9949221004039238, \"tpr\": 0.9993215497232637, \"n\": 8665}, {\"threshold\": 0.274, \"p\": 28005, \"fpr\": 0.9949221004039238, \"tpr\": 0.9993215497232637, \"n\": 8665}, {\"threshold\": 0.275, \"p\": 28005, \"fpr\": 0.9949221004039238, \"tpr\": 0.9993215497232637, \"n\": 8665}, {\"threshold\": 0.276, \"p\": 28005, \"fpr\": 0.9949221004039238, \"tpr\": 0.9993215497232637, \"n\": 8665}, {\"threshold\": 0.277, \"p\": 28005, \"fpr\": 0.9949221004039238, \"tpr\": 0.9993215497232637, \"n\": 8665}, {\"threshold\": 0.278, \"p\": 28005, \"fpr\": 0.9949221004039238, \"tpr\": 0.9993215497232637, \"n\": 8665}, {\"threshold\": 0.279, \"p\": 28005, \"fpr\": 0.9949221004039238, \"tpr\": 0.9993215497232637, \"n\": 8665}, {\"threshold\": 0.28, \"p\": 28005, \"fpr\": 0.9949221004039238, \"tpr\": 0.9993215497232637, \"n\": 8665}, {\"threshold\": 0.281, \"p\": 28005, \"fpr\": 0.9949221004039238, \"tpr\": 0.9993215497232637, \"n\": 8665}, {\"threshold\": 0.282, \"p\": 28005, \"fpr\": 0.9949221004039238, \"tpr\": 0.9993215497232637, \"n\": 8665}, {\"threshold\": 0.283, \"p\": 28005, \"fpr\": 0.9949221004039238, \"tpr\": 0.9993215497232637, \"n\": 8665}, {\"threshold\": 0.284, \"p\": 28005, \"fpr\": 0.9949221004039238, \"tpr\": 0.9993215497232637, \"n\": 8665}, {\"threshold\": 0.285, \"p\": 28005, \"fpr\": 0.9949221004039238, \"tpr\": 0.9993215497232637, \"n\": 8665}, {\"threshold\": 0.286, \"p\": 28005, \"fpr\": 0.9949221004039238, \"tpr\": 0.9993215497232637, \"n\": 8665}, {\"threshold\": 0.287, \"p\": 28005, \"fpr\": 0.9949221004039238, \"tpr\": 0.9993215497232637, \"n\": 8665}, {\"threshold\": 0.288, \"p\": 28005, \"fpr\": 0.9934218118869014, \"tpr\": 0.9990715943581503, \"n\": 8665}, {\"threshold\": 0.289, \"p\": 28005, \"fpr\": 0.9934218118869014, \"tpr\": 0.9990715943581503, \"n\": 8665}, {\"threshold\": 0.29, \"p\": 28005, \"fpr\": 0.9934218118869014, \"tpr\": 0.9990715943581503, \"n\": 8665}, {\"threshold\": 0.291, \"p\": 28005, \"fpr\": 0.9934218118869014, \"tpr\": 0.9990715943581503, \"n\": 8665}, {\"threshold\": 0.292, \"p\": 28005, \"fpr\": 0.9934218118869014, \"tpr\": 0.9990715943581503, \"n\": 8665}, {\"threshold\": 0.293, \"p\": 28005, \"fpr\": 0.9934218118869014, \"tpr\": 0.9990715943581503, \"n\": 8665}, {\"threshold\": 0.294, \"p\": 28005, \"fpr\": 0.9934218118869014, \"tpr\": 0.9990715943581503, \"n\": 8665}, {\"threshold\": 0.295, \"p\": 28005, \"fpr\": 0.9934218118869014, \"tpr\": 0.9990715943581503, \"n\": 8665}, {\"threshold\": 0.296, \"p\": 28005, \"fpr\": 0.9934218118869014, \"tpr\": 0.9990715943581503, \"n\": 8665}, {\"threshold\": 0.297, \"p\": 28005, \"fpr\": 0.9934218118869014, \"tpr\": 0.9990715943581503, \"n\": 8665}, {\"threshold\": 0.298, \"p\": 28005, \"fpr\": 0.9854587420657819, \"tpr\": 0.9982860203535083, \"n\": 8665}, {\"threshold\": 0.299, \"p\": 28005, \"fpr\": 0.9854587420657819, \"tpr\": 0.9982860203535083, \"n\": 8665}, {\"threshold\": 0.3, \"p\": 28005, \"fpr\": 0.9854587420657819, \"tpr\": 0.9982860203535083, \"n\": 8665}, {\"threshold\": 0.301, \"p\": 28005, \"fpr\": 0.9854587420657819, \"tpr\": 0.9982860203535083, \"n\": 8665}, {\"threshold\": 0.302, \"p\": 28005, \"fpr\": 0.9854587420657819, \"tpr\": 0.9982860203535083, \"n\": 8665}, {\"threshold\": 0.303, \"p\": 28005, \"fpr\": 0.9779572994806693, \"tpr\": 0.9973219068023568, \"n\": 8665}, {\"threshold\": 0.304, \"p\": 28005, \"fpr\": 0.9779572994806693, \"tpr\": 0.9973219068023568, \"n\": 8665}, {\"threshold\": 0.305, \"p\": 28005, \"fpr\": 0.9779572994806693, \"tpr\": 0.9973219068023568, \"n\": 8665}, {\"threshold\": 0.306, \"p\": 28005, \"fpr\": 0.9779572994806693, \"tpr\": 0.9973219068023568, \"n\": 8665}, {\"threshold\": 0.307, \"p\": 28005, \"fpr\": 0.9779572994806693, \"tpr\": 0.9973219068023568, \"n\": 8665}, {\"threshold\": 0.308, \"p\": 28005, \"fpr\": 0.9779572994806693, \"tpr\": 0.9973219068023568, \"n\": 8665}, {\"threshold\": 0.309, \"p\": 28005, \"fpr\": 0.9779572994806693, \"tpr\": 0.9973219068023568, \"n\": 8665}, {\"threshold\": 0.31, \"p\": 28005, \"fpr\": 0.9779572994806693, \"tpr\": 0.9973219068023568, \"n\": 8665}, {\"threshold\": 0.311, \"p\": 28005, \"fpr\": 0.9779572994806693, \"tpr\": 0.9973219068023568, \"n\": 8665}, {\"threshold\": 0.312, \"p\": 28005, \"fpr\": 0.9779572994806693, \"tpr\": 0.9973219068023568, \"n\": 8665}, {\"threshold\": 0.313, \"p\": 28005, \"fpr\": 0.9779572994806693, \"tpr\": 0.9973219068023568, \"n\": 8665}, {\"threshold\": 0.314, \"p\": 28005, \"fpr\": 0.9779572994806693, \"tpr\": 0.9973219068023568, \"n\": 8665}, {\"threshold\": 0.315, \"p\": 28005, \"fpr\": 0.9779572994806693, \"tpr\": 0.9973219068023568, \"n\": 8665}, {\"threshold\": 0.316, \"p\": 28005, \"fpr\": 0.9779572994806693, \"tpr\": 0.9973219068023568, \"n\": 8665}, {\"threshold\": 0.317, \"p\": 28005, \"fpr\": 0.9779572994806693, \"tpr\": 0.9973219068023568, \"n\": 8665}, {\"threshold\": 0.318, \"p\": 28005, \"fpr\": 0.9779572994806693, \"tpr\": 0.9973219068023568, \"n\": 8665}, {\"threshold\": 0.319, \"p\": 28005, \"fpr\": 0.9779572994806693, \"tpr\": 0.9973219068023568, \"n\": 8665}, {\"threshold\": 0.32, \"p\": 28005, \"fpr\": 0.9779572994806693, \"tpr\": 0.9973219068023568, \"n\": 8665}, {\"threshold\": 0.321, \"p\": 28005, \"fpr\": 0.9779572994806693, \"tpr\": 0.9973219068023568, \"n\": 8665}, {\"threshold\": 0.322, \"p\": 28005, \"fpr\": 0.9779572994806693, \"tpr\": 0.9973219068023568, \"n\": 8665}, {\"threshold\": 0.323, \"p\": 28005, \"fpr\": 0.9777264858626659, \"tpr\": 0.9972861988930548, \"n\": 8665}, {\"threshold\": 0.324, \"p\": 28005, \"fpr\": 0.9777264858626659, \"tpr\": 0.9972861988930548, \"n\": 8665}, {\"threshold\": 0.325, \"p\": 28005, \"fpr\": 0.9777264858626659, \"tpr\": 0.9972861988930548, \"n\": 8665}, {\"threshold\": 0.326, \"p\": 28005, \"fpr\": 0.9777264858626659, \"tpr\": 0.9972861988930548, \"n\": 8665}, {\"threshold\": 0.327, \"p\": 28005, \"fpr\": 0.9777264858626659, \"tpr\": 0.9972861988930548, \"n\": 8665}, {\"threshold\": 0.328, \"p\": 28005, \"fpr\": 0.9777264858626659, \"tpr\": 0.9972861988930548, \"n\": 8665}, {\"threshold\": 0.329, \"p\": 28005, \"fpr\": 0.9777264858626659, \"tpr\": 0.9972861988930548, \"n\": 8665}, {\"threshold\": 0.33, \"p\": 28005, \"fpr\": 0.9777264858626659, \"tpr\": 0.9972861988930548, \"n\": 8665}, {\"threshold\": 0.331, \"p\": 28005, \"fpr\": 0.9777264858626659, \"tpr\": 0.9972861988930548, \"n\": 8665}, {\"threshold\": 0.332, \"p\": 28005, \"fpr\": 0.9777264858626659, \"tpr\": 0.9972861988930548, \"n\": 8665}, {\"threshold\": 0.333, \"p\": 28005, \"fpr\": 0.9777264858626659, \"tpr\": 0.9972861988930548, \"n\": 8665}, {\"threshold\": 0.334, \"p\": 28005, \"fpr\": 0.9777264858626659, \"tpr\": 0.9972861988930548, \"n\": 8665}, {\"threshold\": 0.335, \"p\": 28005, \"fpr\": 0.9777264858626659, \"tpr\": 0.9972861988930548, \"n\": 8665}, {\"threshold\": 0.336, \"p\": 28005, \"fpr\": 0.9777264858626659, \"tpr\": 0.9972861988930548, \"n\": 8665}, {\"threshold\": 0.337, \"p\": 28005, \"fpr\": 0.9777264858626659, \"tpr\": 0.9972861988930548, \"n\": 8665}, {\"threshold\": 0.338, \"p\": 28005, \"fpr\": 0.9777264858626659, \"tpr\": 0.9972861988930548, \"n\": 8665}, {\"threshold\": 0.339, \"p\": 28005, \"fpr\": 0.9777264858626659, \"tpr\": 0.9972861988930548, \"n\": 8665}, {\"threshold\": 0.34, \"p\": 28005, \"fpr\": 0.9777264858626659, \"tpr\": 0.9972861988930548, \"n\": 8665}, {\"threshold\": 0.341, \"p\": 28005, \"fpr\": 0.9777264858626659, \"tpr\": 0.9972861988930548, \"n\": 8665}, {\"threshold\": 0.342, \"p\": 28005, \"fpr\": 0.9777264858626659, \"tpr\": 0.9972861988930548, \"n\": 8665}, {\"threshold\": 0.343, \"p\": 28005, \"fpr\": 0.9777264858626659, \"tpr\": 0.9972861988930548, \"n\": 8665}, {\"threshold\": 0.344, \"p\": 28005, \"fpr\": 0.9777264858626659, \"tpr\": 0.9972861988930548, \"n\": 8665}, {\"threshold\": 0.345, \"p\": 28005, \"fpr\": 0.9777264858626659, \"tpr\": 0.9972861988930548, \"n\": 8665}, {\"threshold\": 0.346, \"p\": 28005, \"fpr\": 0.9777264858626659, \"tpr\": 0.9972861988930548, \"n\": 8665}, {\"threshold\": 0.347, \"p\": 28005, \"fpr\": 0.9777264858626659, \"tpr\": 0.9972861988930548, \"n\": 8665}, {\"threshold\": 0.348, \"p\": 28005, \"fpr\": 0.9777264858626659, \"tpr\": 0.9972861988930548, \"n\": 8665}, {\"threshold\": 0.349, \"p\": 28005, \"fpr\": 0.9777264858626659, \"tpr\": 0.9972861988930548, \"n\": 8665}, {\"threshold\": 0.35, \"p\": 28005, \"fpr\": 0.9777264858626659, \"tpr\": 0.9972861988930548, \"n\": 8665}, {\"threshold\": 0.351, \"p\": 28005, \"fpr\": 0.9777264858626659, \"tpr\": 0.9972861988930548, \"n\": 8665}, {\"threshold\": 0.352, \"p\": 28005, \"fpr\": 0.9777264858626659, \"tpr\": 0.9972861988930548, \"n\": 8665}, {\"threshold\": 0.353, \"p\": 28005, \"fpr\": 0.9777264858626659, \"tpr\": 0.9972861988930548, \"n\": 8665}, {\"threshold\": 0.354, \"p\": 28005, \"fpr\": 0.9777264858626659, \"tpr\": 0.9972861988930548, \"n\": 8665}, {\"threshold\": 0.355, \"p\": 28005, \"fpr\": 0.9777264858626659, \"tpr\": 0.9972861988930548, \"n\": 8665}, {\"threshold\": 0.356, \"p\": 28005, \"fpr\": 0.9777264858626659, \"tpr\": 0.9972861988930548, \"n\": 8665}, {\"threshold\": 0.357, \"p\": 28005, \"fpr\": 0.9777264858626659, \"tpr\": 0.9972861988930548, \"n\": 8665}, {\"threshold\": 0.358, \"p\": 28005, \"fpr\": 0.9774956722446624, \"tpr\": 0.9972504909837528, \"n\": 8665}, {\"threshold\": 0.359, \"p\": 28005, \"fpr\": 0.9774956722446624, \"tpr\": 0.997214783074451, \"n\": 8665}, {\"threshold\": 0.36, \"p\": 28005, \"fpr\": 0.9774956722446624, \"tpr\": 0.997214783074451, \"n\": 8665}, {\"threshold\": 0.361, \"p\": 28005, \"fpr\": 0.9774956722446624, \"tpr\": 0.997214783074451, \"n\": 8665}, {\"threshold\": 0.362, \"p\": 28005, \"fpr\": 0.9774956722446624, \"tpr\": 0.997214783074451, \"n\": 8665}, {\"threshold\": 0.363, \"p\": 28005, \"fpr\": 0.9774956722446624, \"tpr\": 0.997214783074451, \"n\": 8665}, {\"threshold\": 0.364, \"p\": 28005, \"fpr\": 0.9774956722446624, \"tpr\": 0.997214783074451, \"n\": 8665}, {\"threshold\": 0.365, \"p\": 28005, \"fpr\": 0.9774956722446624, \"tpr\": 0.997214783074451, \"n\": 8665}, {\"threshold\": 0.366, \"p\": 28005, \"fpr\": 0.9774956722446624, \"tpr\": 0.997214783074451, \"n\": 8665}, {\"threshold\": 0.367, \"p\": 28005, \"fpr\": 0.9774956722446624, \"tpr\": 0.997214783074451, \"n\": 8665}, {\"threshold\": 0.368, \"p\": 28005, \"fpr\": 0.9774956722446624, \"tpr\": 0.997214783074451, \"n\": 8665}, {\"threshold\": 0.369, \"p\": 28005, \"fpr\": 0.9742642815926139, \"tpr\": 0.9968577039814319, \"n\": 8665}, {\"threshold\": 0.37, \"p\": 28005, \"fpr\": 0.9742642815926139, \"tpr\": 0.9968577039814319, \"n\": 8665}, {\"threshold\": 0.371, \"p\": 28005, \"fpr\": 0.9742642815926139, \"tpr\": 0.9968577039814319, \"n\": 8665}, {\"threshold\": 0.372, \"p\": 28005, \"fpr\": 0.9742642815926139, \"tpr\": 0.9968577039814319, \"n\": 8665}, {\"threshold\": 0.373, \"p\": 28005, \"fpr\": 0.9742642815926139, \"tpr\": 0.9968577039814319, \"n\": 8665}, {\"threshold\": 0.374, \"p\": 28005, \"fpr\": 0.9742642815926139, \"tpr\": 0.9968577039814319, \"n\": 8665}, {\"threshold\": 0.375, \"p\": 28005, \"fpr\": 0.9742642815926139, \"tpr\": 0.9968577039814319, \"n\": 8665}, {\"threshold\": 0.376, \"p\": 28005, \"fpr\": 0.9741488747836122, \"tpr\": 0.9968577039814319, \"n\": 8665}, {\"threshold\": 0.377, \"p\": 28005, \"fpr\": 0.9741488747836122, \"tpr\": 0.9968577039814319, \"n\": 8665}, {\"threshold\": 0.378, \"p\": 28005, \"fpr\": 0.9741488747836122, \"tpr\": 0.9968577039814319, \"n\": 8665}, {\"threshold\": 0.379, \"p\": 28005, \"fpr\": 0.9741488747836122, \"tpr\": 0.9968577039814319, \"n\": 8665}, {\"threshold\": 0.38, \"p\": 28005, \"fpr\": 0.9741488747836122, \"tpr\": 0.9968577039814319, \"n\": 8665}, {\"threshold\": 0.381, \"p\": 28005, \"fpr\": 0.9741488747836122, \"tpr\": 0.9968577039814319, \"n\": 8665}, {\"threshold\": 0.382, \"p\": 28005, \"fpr\": 0.9741488747836122, \"tpr\": 0.9968577039814319, \"n\": 8665}, {\"threshold\": 0.383, \"p\": 28005, \"fpr\": 0.9741488747836122, \"tpr\": 0.9968577039814319, \"n\": 8665}, {\"threshold\": 0.384, \"p\": 28005, \"fpr\": 0.9741488747836122, \"tpr\": 0.9968577039814319, \"n\": 8665}, {\"threshold\": 0.385, \"p\": 28005, \"fpr\": 0.9741488747836122, \"tpr\": 0.9968577039814319, \"n\": 8665}, {\"threshold\": 0.386, \"p\": 28005, \"fpr\": 0.9741488747836122, \"tpr\": 0.9968577039814319, \"n\": 8665}, {\"threshold\": 0.387, \"p\": 28005, \"fpr\": 0.9741488747836122, \"tpr\": 0.9968577039814319, \"n\": 8665}, {\"threshold\": 0.388, \"p\": 28005, \"fpr\": 0.9741488747836122, \"tpr\": 0.9968577039814319, \"n\": 8665}, {\"threshold\": 0.389, \"p\": 28005, \"fpr\": 0.9741488747836122, \"tpr\": 0.9968577039814319, \"n\": 8665}, {\"threshold\": 0.39, \"p\": 28005, \"fpr\": 0.9741488747836122, \"tpr\": 0.9968577039814319, \"n\": 8665}, {\"threshold\": 0.391, \"p\": 28005, \"fpr\": 0.9741488747836122, \"tpr\": 0.9968577039814319, \"n\": 8665}, {\"threshold\": 0.392, \"p\": 28005, \"fpr\": 0.9741488747836122, \"tpr\": 0.9968577039814319, \"n\": 8665}, {\"threshold\": 0.393, \"p\": 28005, \"fpr\": 0.9741488747836122, \"tpr\": 0.9968577039814319, \"n\": 8665}, {\"threshold\": 0.394, \"p\": 28005, \"fpr\": 0.9741488747836122, \"tpr\": 0.9968577039814319, \"n\": 8665}, {\"threshold\": 0.395, \"p\": 28005, \"fpr\": 0.9741488747836122, \"tpr\": 0.9968577039814319, \"n\": 8665}, {\"threshold\": 0.396, \"p\": 28005, \"fpr\": 0.9741488747836122, \"tpr\": 0.9968577039814319, \"n\": 8665}, {\"threshold\": 0.397, \"p\": 28005, \"fpr\": 0.9741488747836122, \"tpr\": 0.9968577039814319, \"n\": 8665}, {\"threshold\": 0.398, \"p\": 28005, \"fpr\": 0.9741488747836122, \"tpr\": 0.9968577039814319, \"n\": 8665}, {\"threshold\": 0.399, \"p\": 28005, \"fpr\": 0.9741488747836122, \"tpr\": 0.9968577039814319, \"n\": 8665}, {\"threshold\": 0.4, \"p\": 28005, \"fpr\": 0.9741488747836122, \"tpr\": 0.9968577039814319, \"n\": 8665}, {\"threshold\": 0.401, \"p\": 28005, \"fpr\": 0.9741488747836122, \"tpr\": 0.9968577039814319, \"n\": 8665}, {\"threshold\": 0.402, \"p\": 28005, \"fpr\": 0.9741488747836122, \"tpr\": 0.9968577039814319, \"n\": 8665}, {\"threshold\": 0.403, \"p\": 28005, \"fpr\": 0.9741488747836122, \"tpr\": 0.9968577039814319, \"n\": 8665}, {\"threshold\": 0.404, \"p\": 28005, \"fpr\": 0.9741488747836122, \"tpr\": 0.9968577039814319, \"n\": 8665}, {\"threshold\": 0.405, \"p\": 28005, \"fpr\": 0.9741488747836122, \"tpr\": 0.9968577039814319, \"n\": 8665}, {\"threshold\": 0.406, \"p\": 28005, \"fpr\": 0.9664166185804962, \"tpr\": 0.9950723085163363, \"n\": 8665}, {\"threshold\": 0.407, \"p\": 28005, \"fpr\": 0.9664166185804962, \"tpr\": 0.9950723085163363, \"n\": 8665}, {\"threshold\": 0.408, \"p\": 28005, \"fpr\": 0.9664166185804962, \"tpr\": 0.9950723085163363, \"n\": 8665}, {\"threshold\": 0.409, \"p\": 28005, \"fpr\": 0.9664166185804962, \"tpr\": 0.9950723085163363, \"n\": 8665}, {\"threshold\": 0.41, \"p\": 28005, \"fpr\": 0.9664166185804962, \"tpr\": 0.9950723085163363, \"n\": 8665}, {\"threshold\": 0.411, \"p\": 28005, \"fpr\": 0.9664166185804962, \"tpr\": 0.9950723085163363, \"n\": 8665}, {\"threshold\": 0.412, \"p\": 28005, \"fpr\": 0.9664166185804962, \"tpr\": 0.9950723085163363, \"n\": 8665}, {\"threshold\": 0.413, \"p\": 28005, \"fpr\": 0.9664166185804962, \"tpr\": 0.9950723085163363, \"n\": 8665}, {\"threshold\": 0.414, \"p\": 28005, \"fpr\": 0.9664166185804962, \"tpr\": 0.9950723085163363, \"n\": 8665}, {\"threshold\": 0.415, \"p\": 28005, \"fpr\": 0.9664166185804962, \"tpr\": 0.9950723085163363, \"n\": 8665}, {\"threshold\": 0.416, \"p\": 28005, \"fpr\": 0.9664166185804962, \"tpr\": 0.9950723085163363, \"n\": 8665}, {\"threshold\": 0.417, \"p\": 28005, \"fpr\": 0.9664166185804962, \"tpr\": 0.9950723085163363, \"n\": 8665}, {\"threshold\": 0.418, \"p\": 28005, \"fpr\": 0.9664166185804962, \"tpr\": 0.9950723085163363, \"n\": 8665}, {\"threshold\": 0.419, \"p\": 28005, \"fpr\": 0.9664166185804962, \"tpr\": 0.9950723085163363, \"n\": 8665}, {\"threshold\": 0.42, \"p\": 28005, \"fpr\": 0.9664166185804962, \"tpr\": 0.9950723085163363, \"n\": 8665}, {\"threshold\": 0.421, \"p\": 28005, \"fpr\": 0.9664166185804962, \"tpr\": 0.9950723085163363, \"n\": 8665}, {\"threshold\": 0.422, \"p\": 28005, \"fpr\": 0.9664166185804962, \"tpr\": 0.9950723085163363, \"n\": 8665}, {\"threshold\": 0.423, \"p\": 28005, \"fpr\": 0.9664166185804962, \"tpr\": 0.9950723085163363, \"n\": 8665}, {\"threshold\": 0.424, \"p\": 28005, \"fpr\": 0.9664166185804962, \"tpr\": 0.9950723085163363, \"n\": 8665}, {\"threshold\": 0.425, \"p\": 28005, \"fpr\": 0.9664166185804962, \"tpr\": 0.9950723085163363, \"n\": 8665}, {\"threshold\": 0.426, \"p\": 28005, \"fpr\": 0.9664166185804962, \"tpr\": 0.9950723085163363, \"n\": 8665}, {\"threshold\": 0.427, \"p\": 28005, \"fpr\": 0.9664166185804962, \"tpr\": 0.9950723085163363, \"n\": 8665}, {\"threshold\": 0.428, \"p\": 28005, \"fpr\": 0.9664166185804962, \"tpr\": 0.9950723085163363, \"n\": 8665}, {\"threshold\": 0.429, \"p\": 28005, \"fpr\": 0.9664166185804962, \"tpr\": 0.9950723085163363, \"n\": 8665}, {\"threshold\": 0.43, \"p\": 28005, \"fpr\": 0.9664166185804962, \"tpr\": 0.9950723085163363, \"n\": 8665}, {\"threshold\": 0.431, \"p\": 28005, \"fpr\": 0.9664166185804962, \"tpr\": 0.9950723085163363, \"n\": 8665}, {\"threshold\": 0.432, \"p\": 28005, \"fpr\": 0.9664166185804962, \"tpr\": 0.9950723085163363, \"n\": 8665}, {\"threshold\": 0.433, \"p\": 28005, \"fpr\": 0.9664166185804962, \"tpr\": 0.9950723085163363, \"n\": 8665}, {\"threshold\": 0.434, \"p\": 28005, \"fpr\": 0.9664166185804962, \"tpr\": 0.9950723085163363, \"n\": 8665}, {\"threshold\": 0.435, \"p\": 28005, \"fpr\": 0.9664166185804962, \"tpr\": 0.9950723085163363, \"n\": 8665}, {\"threshold\": 0.436, \"p\": 28005, \"fpr\": 0.9664166185804962, \"tpr\": 0.9950723085163363, \"n\": 8665}, {\"threshold\": 0.437, \"p\": 28005, \"fpr\": 0.9664166185804962, \"tpr\": 0.9950723085163363, \"n\": 8665}, {\"threshold\": 0.438, \"p\": 28005, \"fpr\": 0.9664166185804962, \"tpr\": 0.9950723085163363, \"n\": 8665}, {\"threshold\": 0.439, \"p\": 28005, \"fpr\": 0.9664166185804962, \"tpr\": 0.9950723085163363, \"n\": 8665}, {\"threshold\": 0.44, \"p\": 28005, \"fpr\": 0.9664166185804962, \"tpr\": 0.9950723085163363, \"n\": 8665}, {\"threshold\": 0.441, \"p\": 28005, \"fpr\": 0.9664166185804962, \"tpr\": 0.9950723085163363, \"n\": 8665}, {\"threshold\": 0.442, \"p\": 28005, \"fpr\": 0.9664166185804962, \"tpr\": 0.9950723085163363, \"n\": 8665}, {\"threshold\": 0.443, \"p\": 28005, \"fpr\": 0.9664166185804962, \"tpr\": 0.9950723085163363, \"n\": 8665}, {\"threshold\": 0.444, \"p\": 28005, \"fpr\": 0.9664166185804962, \"tpr\": 0.9950723085163363, \"n\": 8665}, {\"threshold\": 0.445, \"p\": 28005, \"fpr\": 0.9664166185804962, \"tpr\": 0.9950723085163363, \"n\": 8665}, {\"threshold\": 0.446, \"p\": 28005, \"fpr\": 0.9664166185804962, \"tpr\": 0.9950723085163363, \"n\": 8665}, {\"threshold\": 0.447, \"p\": 28005, \"fpr\": 0.9664166185804962, \"tpr\": 0.9950723085163363, \"n\": 8665}, {\"threshold\": 0.448, \"p\": 28005, \"fpr\": 0.9661858049624927, \"tpr\": 0.9949651847884307, \"n\": 8665}, {\"threshold\": 0.449, \"p\": 28005, \"fpr\": 0.9661858049624927, \"tpr\": 0.9949651847884307, \"n\": 8665}, {\"threshold\": 0.45, \"p\": 28005, \"fpr\": 0.9661858049624927, \"tpr\": 0.9949651847884307, \"n\": 8665}, {\"threshold\": 0.451, \"p\": 28005, \"fpr\": 0.9661858049624927, \"tpr\": 0.9949651847884307, \"n\": 8665}, {\"threshold\": 0.452, \"p\": 28005, \"fpr\": 0.9661858049624927, \"tpr\": 0.9949651847884307, \"n\": 8665}, {\"threshold\": 0.453, \"p\": 28005, \"fpr\": 0.9661858049624927, \"tpr\": 0.9949651847884307, \"n\": 8665}, {\"threshold\": 0.454, \"p\": 28005, \"fpr\": 0.9661858049624927, \"tpr\": 0.9949651847884307, \"n\": 8665}, {\"threshold\": 0.455, \"p\": 28005, \"fpr\": 0.9661858049624927, \"tpr\": 0.9949651847884307, \"n\": 8665}, {\"threshold\": 0.456, \"p\": 28005, \"fpr\": 0.9661858049624927, \"tpr\": 0.9949651847884307, \"n\": 8665}, {\"threshold\": 0.457, \"p\": 28005, \"fpr\": 0.9661858049624927, \"tpr\": 0.9949651847884307, \"n\": 8665}, {\"threshold\": 0.458, \"p\": 28005, \"fpr\": 0.9661858049624927, \"tpr\": 0.9949651847884307, \"n\": 8665}, {\"threshold\": 0.459, \"p\": 28005, \"fpr\": 0.9661858049624927, \"tpr\": 0.9949651847884307, \"n\": 8665}, {\"threshold\": 0.46, \"p\": 28005, \"fpr\": 0.9661858049624927, \"tpr\": 0.9949651847884307, \"n\": 8665}, {\"threshold\": 0.461, \"p\": 28005, \"fpr\": 0.9656087709174841, \"tpr\": 0.9948937689698268, \"n\": 8665}, {\"threshold\": 0.462, \"p\": 28005, \"fpr\": 0.9656087709174841, \"tpr\": 0.9948937689698268, \"n\": 8665}, {\"threshold\": 0.463, \"p\": 28005, \"fpr\": 0.9656087709174841, \"tpr\": 0.9948937689698268, \"n\": 8665}, {\"threshold\": 0.464, \"p\": 28005, \"fpr\": 0.9656087709174841, \"tpr\": 0.9948937689698268, \"n\": 8665}, {\"threshold\": 0.465, \"p\": 28005, \"fpr\": 0.9656087709174841, \"tpr\": 0.9948937689698268, \"n\": 8665}, {\"threshold\": 0.466, \"p\": 28005, \"fpr\": 0.9645701096364685, \"tpr\": 0.9947509373326192, \"n\": 8665}, {\"threshold\": 0.467, \"p\": 28005, \"fpr\": 0.9645701096364685, \"tpr\": 0.9947509373326192, \"n\": 8665}, {\"threshold\": 0.468, \"p\": 28005, \"fpr\": 0.9645701096364685, \"tpr\": 0.9947152294233172, \"n\": 8665}, {\"threshold\": 0.469, \"p\": 28005, \"fpr\": 0.9645701096364685, \"tpr\": 0.9947152294233172, \"n\": 8665}, {\"threshold\": 0.47, \"p\": 28005, \"fpr\": 0.9645701096364685, \"tpr\": 0.9947152294233172, \"n\": 8665}, {\"threshold\": 0.471, \"p\": 28005, \"fpr\": 0.9645701096364685, \"tpr\": 0.9947152294233172, \"n\": 8665}, {\"threshold\": 0.472, \"p\": 28005, \"fpr\": 0.9645701096364685, \"tpr\": 0.9947152294233172, \"n\": 8665}, {\"threshold\": 0.473, \"p\": 28005, \"fpr\": 0.9645701096364685, \"tpr\": 0.9947152294233172, \"n\": 8665}, {\"threshold\": 0.474, \"p\": 28005, \"fpr\": 0.9645701096364685, \"tpr\": 0.9947152294233172, \"n\": 8665}, {\"threshold\": 0.475, \"p\": 28005, \"fpr\": 0.9645701096364685, \"tpr\": 0.9947152294233172, \"n\": 8665}, {\"threshold\": 0.476, \"p\": 28005, \"fpr\": 0.9645701096364685, \"tpr\": 0.9947152294233172, \"n\": 8665}, {\"threshold\": 0.477, \"p\": 28005, \"fpr\": 0.9645701096364685, \"tpr\": 0.9947152294233172, \"n\": 8665}, {\"threshold\": 0.478, \"p\": 28005, \"fpr\": 0.9645701096364685, \"tpr\": 0.9947152294233172, \"n\": 8665}, {\"threshold\": 0.479, \"p\": 28005, \"fpr\": 0.9645701096364685, \"tpr\": 0.9947152294233172, \"n\": 8665}, {\"threshold\": 0.48, \"p\": 28005, \"fpr\": 0.9645701096364685, \"tpr\": 0.9947152294233172, \"n\": 8665}, {\"threshold\": 0.481, \"p\": 28005, \"fpr\": 0.9645701096364685, \"tpr\": 0.9947152294233172, \"n\": 8665}, {\"threshold\": 0.482, \"p\": 28005, \"fpr\": 0.9645701096364685, \"tpr\": 0.9947152294233172, \"n\": 8665}, {\"threshold\": 0.483, \"p\": 28005, \"fpr\": 0.9645701096364685, \"tpr\": 0.9947152294233172, \"n\": 8665}, {\"threshold\": 0.484, \"p\": 28005, \"fpr\": 0.9645701096364685, \"tpr\": 0.9947152294233172, \"n\": 8665}, {\"threshold\": 0.485, \"p\": 28005, \"fpr\": 0.9645701096364685, \"tpr\": 0.9947152294233172, \"n\": 8665}, {\"threshold\": 0.486, \"p\": 28005, \"fpr\": 0.9645701096364685, \"tpr\": 0.9947152294233172, \"n\": 8665}, {\"threshold\": 0.487, \"p\": 28005, \"fpr\": 0.9645701096364685, \"tpr\": 0.9947152294233172, \"n\": 8665}, {\"threshold\": 0.488, \"p\": 28005, \"fpr\": 0.9645701096364685, \"tpr\": 0.9947152294233172, \"n\": 8665}, {\"threshold\": 0.489, \"p\": 28005, \"fpr\": 0.9645701096364685, \"tpr\": 0.9947152294233172, \"n\": 8665}, {\"threshold\": 0.49, \"p\": 28005, \"fpr\": 0.9645701096364685, \"tpr\": 0.9947152294233172, \"n\": 8665}, {\"threshold\": 0.491, \"p\": 28005, \"fpr\": 0.9645701096364685, \"tpr\": 0.9947152294233172, \"n\": 8665}, {\"threshold\": 0.492, \"p\": 28005, \"fpr\": 0.9645701096364685, \"tpr\": 0.9947152294233172, \"n\": 8665}, {\"threshold\": 0.493, \"p\": 28005, \"fpr\": 0.9645701096364685, \"tpr\": 0.9947152294233172, \"n\": 8665}, {\"threshold\": 0.494, \"p\": 28005, \"fpr\": 0.9645701096364685, \"tpr\": 0.9947152294233172, \"n\": 8665}, {\"threshold\": 0.495, \"p\": 28005, \"fpr\": 0.9645701096364685, \"tpr\": 0.9947152294233172, \"n\": 8665}, {\"threshold\": 0.496, \"p\": 28005, \"fpr\": 0.9645701096364685, \"tpr\": 0.9947152294233172, \"n\": 8665}, {\"threshold\": 0.497, \"p\": 28005, \"fpr\": 0.9645701096364685, \"tpr\": 0.9947152294233172, \"n\": 8665}, {\"threshold\": 0.498, \"p\": 28005, \"fpr\": 0.9645701096364685, \"tpr\": 0.9947152294233172, \"n\": 8665}, {\"threshold\": 0.499, \"p\": 28005, \"fpr\": 0.9407963069821119, \"tpr\": 0.9869309051955008, \"n\": 8665}, {\"threshold\": 0.5, \"p\": 28005, \"fpr\": 0.9407963069821119, \"tpr\": 0.9869309051955008, \"n\": 8665}, {\"threshold\": 0.501, \"p\": 28005, \"fpr\": 0.9407963069821119, \"tpr\": 0.9869309051955008, \"n\": 8665}, {\"threshold\": 0.502, \"p\": 28005, \"fpr\": 0.9407963069821119, \"tpr\": 0.9869309051955008, \"n\": 8665}, {\"threshold\": 0.503, \"p\": 28005, \"fpr\": 0.9407963069821119, \"tpr\": 0.9869309051955008, \"n\": 8665}, {\"threshold\": 0.504, \"p\": 28005, \"fpr\": 0.9407963069821119, \"tpr\": 0.9869309051955008, \"n\": 8665}, {\"threshold\": 0.505, \"p\": 28005, \"fpr\": 0.9407963069821119, \"tpr\": 0.9869309051955008, \"n\": 8665}, {\"threshold\": 0.506, \"p\": 28005, \"fpr\": 0.9407963069821119, \"tpr\": 0.9869309051955008, \"n\": 8665}, {\"threshold\": 0.507, \"p\": 28005, \"fpr\": 0.9407963069821119, \"tpr\": 0.9869309051955008, \"n\": 8665}, {\"threshold\": 0.508, \"p\": 28005, \"fpr\": 0.9407963069821119, \"tpr\": 0.9869309051955008, \"n\": 8665}, {\"threshold\": 0.509, \"p\": 28005, \"fpr\": 0.9407963069821119, \"tpr\": 0.9868951972861989, \"n\": 8665}, {\"threshold\": 0.51, \"p\": 28005, \"fpr\": 0.9407963069821119, \"tpr\": 0.9868951972861989, \"n\": 8665}, {\"threshold\": 0.511, \"p\": 28005, \"fpr\": 0.9407963069821119, \"tpr\": 0.9868951972861989, \"n\": 8665}, {\"threshold\": 0.512, \"p\": 28005, \"fpr\": 0.9407963069821119, \"tpr\": 0.9868594893768969, \"n\": 8665}, {\"threshold\": 0.513, \"p\": 28005, \"fpr\": 0.9407963069821119, \"tpr\": 0.9868594893768969, \"n\": 8665}, {\"threshold\": 0.514, \"p\": 28005, \"fpr\": 0.9407963069821119, \"tpr\": 0.9868594893768969, \"n\": 8665}, {\"threshold\": 0.515, \"p\": 28005, \"fpr\": 0.9407963069821119, \"tpr\": 0.9868594893768969, \"n\": 8665}, {\"threshold\": 0.516, \"p\": 28005, \"fpr\": 0.9407963069821119, \"tpr\": 0.9868594893768969, \"n\": 8665}, {\"threshold\": 0.517, \"p\": 28005, \"fpr\": 0.9407963069821119, \"tpr\": 0.9868594893768969, \"n\": 8665}, {\"threshold\": 0.518, \"p\": 28005, \"fpr\": 0.9407963069821119, \"tpr\": 0.9868594893768969, \"n\": 8665}, {\"threshold\": 0.519, \"p\": 28005, \"fpr\": 0.9407963069821119, \"tpr\": 0.9868594893768969, \"n\": 8665}, {\"threshold\": 0.52, \"p\": 28005, \"fpr\": 0.9407963069821119, \"tpr\": 0.9868594893768969, \"n\": 8665}, {\"threshold\": 0.521, \"p\": 28005, \"fpr\": 0.9407963069821119, \"tpr\": 0.9868594893768969, \"n\": 8665}, {\"threshold\": 0.522, \"p\": 28005, \"fpr\": 0.9407963069821119, \"tpr\": 0.9868594893768969, \"n\": 8665}, {\"threshold\": 0.523, \"p\": 28005, \"fpr\": 0.9407963069821119, \"tpr\": 0.9868594893768969, \"n\": 8665}, {\"threshold\": 0.524, \"p\": 28005, \"fpr\": 0.9407963069821119, \"tpr\": 0.9868594893768969, \"n\": 8665}, {\"threshold\": 0.525, \"p\": 28005, \"fpr\": 0.9407963069821119, \"tpr\": 0.9868594893768969, \"n\": 8665}, {\"threshold\": 0.526, \"p\": 28005, \"fpr\": 0.9407963069821119, \"tpr\": 0.9868594893768969, \"n\": 8665}, {\"threshold\": 0.527, \"p\": 28005, \"fpr\": 0.9407963069821119, \"tpr\": 0.9868594893768969, \"n\": 8665}, {\"threshold\": 0.528, \"p\": 28005, \"fpr\": 0.9407963069821119, \"tpr\": 0.9868594893768969, \"n\": 8665}, {\"threshold\": 0.529, \"p\": 28005, \"fpr\": 0.9407963069821119, \"tpr\": 0.9868594893768969, \"n\": 8665}, {\"threshold\": 0.53, \"p\": 28005, \"fpr\": 0.9407963069821119, \"tpr\": 0.9868594893768969, \"n\": 8665}, {\"threshold\": 0.531, \"p\": 28005, \"fpr\": 0.9407963069821119, \"tpr\": 0.9868594893768969, \"n\": 8665}, {\"threshold\": 0.532, \"p\": 28005, \"fpr\": 0.9407963069821119, \"tpr\": 0.9868594893768969, \"n\": 8665}, {\"threshold\": 0.533, \"p\": 28005, \"fpr\": 0.9407963069821119, \"tpr\": 0.9868594893768969, \"n\": 8665}, {\"threshold\": 0.534, \"p\": 28005, \"fpr\": 0.9407963069821119, \"tpr\": 0.9868594893768969, \"n\": 8665}, {\"threshold\": 0.535, \"p\": 28005, \"fpr\": 0.9407963069821119, \"tpr\": 0.9868594893768969, \"n\": 8665}, {\"threshold\": 0.536, \"p\": 28005, \"fpr\": 0.9407963069821119, \"tpr\": 0.9868594893768969, \"n\": 8665}, {\"threshold\": 0.537, \"p\": 28005, \"fpr\": 0.9407963069821119, \"tpr\": 0.9867880735582931, \"n\": 8665}, {\"threshold\": 0.538, \"p\": 28005, \"fpr\": 0.9407963069821119, \"tpr\": 0.9867880735582931, \"n\": 8665}, {\"threshold\": 0.539, \"p\": 28005, \"fpr\": 0.9407963069821119, \"tpr\": 0.9867880735582931, \"n\": 8665}, {\"threshold\": 0.54, \"p\": 28005, \"fpr\": 0.9407963069821119, \"tpr\": 0.9867880735582931, \"n\": 8665}, {\"threshold\": 0.541, \"p\": 28005, \"fpr\": 0.9404500865551068, \"tpr\": 0.9866095340117836, \"n\": 8665}, {\"threshold\": 0.542, \"p\": 28005, \"fpr\": 0.9404500865551068, \"tpr\": 0.9866095340117836, \"n\": 8665}, {\"threshold\": 0.543, \"p\": 28005, \"fpr\": 0.9403346797461051, \"tpr\": 0.9866095340117836, \"n\": 8665}, {\"threshold\": 0.544, \"p\": 28005, \"fpr\": 0.9403346797461051, \"tpr\": 0.9866095340117836, \"n\": 8665}, {\"threshold\": 0.545, \"p\": 28005, \"fpr\": 0.9403346797461051, \"tpr\": 0.9866095340117836, \"n\": 8665}, {\"threshold\": 0.546, \"p\": 28005, \"fpr\": 0.9403346797461051, \"tpr\": 0.9866095340117836, \"n\": 8665}, {\"threshold\": 0.547, \"p\": 28005, \"fpr\": 0.9403346797461051, \"tpr\": 0.9866095340117836, \"n\": 8665}, {\"threshold\": 0.548, \"p\": 28005, \"fpr\": 0.9403346797461051, \"tpr\": 0.9866095340117836, \"n\": 8665}, {\"threshold\": 0.549, \"p\": 28005, \"fpr\": 0.9403346797461051, \"tpr\": 0.9866095340117836, \"n\": 8665}, {\"threshold\": 0.55, \"p\": 28005, \"fpr\": 0.9403346797461051, \"tpr\": 0.9866095340117836, \"n\": 8665}, {\"threshold\": 0.551, \"p\": 28005, \"fpr\": 0.9403346797461051, \"tpr\": 0.9866095340117836, \"n\": 8665}, {\"threshold\": 0.552, \"p\": 28005, \"fpr\": 0.9403346797461051, \"tpr\": 0.9866095340117836, \"n\": 8665}, {\"threshold\": 0.553, \"p\": 28005, \"fpr\": 0.9403346797461051, \"tpr\": 0.9866095340117836, \"n\": 8665}, {\"threshold\": 0.554, \"p\": 28005, \"fpr\": 0.9403346797461051, \"tpr\": 0.9866095340117836, \"n\": 8665}, {\"threshold\": 0.555, \"p\": 28005, \"fpr\": 0.9403346797461051, \"tpr\": 0.9866095340117836, \"n\": 8665}, {\"threshold\": 0.556, \"p\": 28005, \"fpr\": 0.9403346797461051, \"tpr\": 0.9866095340117836, \"n\": 8665}, {\"threshold\": 0.557, \"p\": 28005, \"fpr\": 0.9403346797461051, \"tpr\": 0.9866095340117836, \"n\": 8665}, {\"threshold\": 0.558, \"p\": 28005, \"fpr\": 0.9403346797461051, \"tpr\": 0.9866095340117836, \"n\": 8665}, {\"threshold\": 0.559, \"p\": 28005, \"fpr\": 0.9403346797461051, \"tpr\": 0.9866095340117836, \"n\": 8665}, {\"threshold\": 0.56, \"p\": 28005, \"fpr\": 0.9403346797461051, \"tpr\": 0.9866095340117836, \"n\": 8665}, {\"threshold\": 0.561, \"p\": 28005, \"fpr\": 0.9403346797461051, \"tpr\": 0.9866095340117836, \"n\": 8665}, {\"threshold\": 0.562, \"p\": 28005, \"fpr\": 0.9402192729371033, \"tpr\": 0.9865738261024817, \"n\": 8665}, {\"threshold\": 0.563, \"p\": 28005, \"fpr\": 0.9402192729371033, \"tpr\": 0.9865738261024817, \"n\": 8665}, {\"threshold\": 0.564, \"p\": 28005, \"fpr\": 0.9402192729371033, \"tpr\": 0.9865738261024817, \"n\": 8665}, {\"threshold\": 0.565, \"p\": 28005, \"fpr\": 0.9402192729371033, \"tpr\": 0.9865738261024817, \"n\": 8665}, {\"threshold\": 0.566, \"p\": 28005, \"fpr\": 0.9402192729371033, \"tpr\": 0.9865738261024817, \"n\": 8665}, {\"threshold\": 0.567, \"p\": 28005, \"fpr\": 0.9402192729371033, \"tpr\": 0.9865738261024817, \"n\": 8665}, {\"threshold\": 0.568, \"p\": 28005, \"fpr\": 0.9402192729371033, \"tpr\": 0.9865738261024817, \"n\": 8665}, {\"threshold\": 0.569, \"p\": 28005, \"fpr\": 0.9402192729371033, \"tpr\": 0.9865738261024817, \"n\": 8665}, {\"threshold\": 0.57, \"p\": 28005, \"fpr\": 0.9402192729371033, \"tpr\": 0.9865738261024817, \"n\": 8665}, {\"threshold\": 0.571, \"p\": 28005, \"fpr\": 0.9402192729371033, \"tpr\": 0.9865738261024817, \"n\": 8665}, {\"threshold\": 0.572, \"p\": 28005, \"fpr\": 0.9402192729371033, \"tpr\": 0.9865738261024817, \"n\": 8665}, {\"threshold\": 0.573, \"p\": 28005, \"fpr\": 0.9402192729371033, \"tpr\": 0.9865738261024817, \"n\": 8665}, {\"threshold\": 0.574, \"p\": 28005, \"fpr\": 0.9402192729371033, \"tpr\": 0.9865738261024817, \"n\": 8665}, {\"threshold\": 0.575, \"p\": 28005, \"fpr\": 0.9398730525100981, \"tpr\": 0.9863952865559722, \"n\": 8665}, {\"threshold\": 0.576, \"p\": 28005, \"fpr\": 0.9398730525100981, \"tpr\": 0.9863952865559722, \"n\": 8665}, {\"threshold\": 0.577, \"p\": 28005, \"fpr\": 0.9398730525100981, \"tpr\": 0.9863952865559722, \"n\": 8665}, {\"threshold\": 0.578, \"p\": 28005, \"fpr\": 0.9398730525100981, \"tpr\": 0.9863952865559722, \"n\": 8665}, {\"threshold\": 0.579, \"p\": 28005, \"fpr\": 0.9392960184650895, \"tpr\": 0.9861810391001606, \"n\": 8665}, {\"threshold\": 0.58, \"p\": 28005, \"fpr\": 0.9388343912290825, \"tpr\": 0.9859667916443492, \"n\": 8665}, {\"threshold\": 0.581, \"p\": 28005, \"fpr\": 0.9388343912290825, \"tpr\": 0.9859667916443492, \"n\": 8665}, {\"threshold\": 0.582, \"p\": 28005, \"fpr\": 0.9388343912290825, \"tpr\": 0.9859667916443492, \"n\": 8665}, {\"threshold\": 0.583, \"p\": 28005, \"fpr\": 0.9388343912290825, \"tpr\": 0.9859667916443492, \"n\": 8665}, {\"threshold\": 0.584, \"p\": 28005, \"fpr\": 0.9388343912290825, \"tpr\": 0.9859667916443492, \"n\": 8665}, {\"threshold\": 0.585, \"p\": 28005, \"fpr\": 0.9388343912290825, \"tpr\": 0.9859667916443492, \"n\": 8665}, {\"threshold\": 0.586, \"p\": 28005, \"fpr\": 0.9388343912290825, \"tpr\": 0.9859667916443492, \"n\": 8665}, {\"threshold\": 0.587, \"p\": 28005, \"fpr\": 0.9388343912290825, \"tpr\": 0.9859667916443492, \"n\": 8665}, {\"threshold\": 0.588, \"p\": 28005, \"fpr\": 0.9388343912290825, \"tpr\": 0.9859310837350473, \"n\": 8665}, {\"threshold\": 0.589, \"p\": 28005, \"fpr\": 0.9388343912290825, \"tpr\": 0.9859310837350473, \"n\": 8665}, {\"threshold\": 0.59, \"p\": 28005, \"fpr\": 0.9388343912290825, \"tpr\": 0.9859310837350473, \"n\": 8665}, {\"threshold\": 0.591, \"p\": 28005, \"fpr\": 0.9388343912290825, \"tpr\": 0.9859310837350473, \"n\": 8665}, {\"threshold\": 0.592, \"p\": 28005, \"fpr\": 0.9388343912290825, \"tpr\": 0.9859310837350473, \"n\": 8665}, {\"threshold\": 0.593, \"p\": 28005, \"fpr\": 0.9388343912290825, \"tpr\": 0.9859310837350473, \"n\": 8665}, {\"threshold\": 0.594, \"p\": 28005, \"fpr\": 0.9388343912290825, \"tpr\": 0.9859310837350473, \"n\": 8665}, {\"threshold\": 0.595, \"p\": 28005, \"fpr\": 0.9388343912290825, \"tpr\": 0.9859310837350473, \"n\": 8665}, {\"threshold\": 0.596, \"p\": 28005, \"fpr\": 0.9388343912290825, \"tpr\": 0.9859310837350473, \"n\": 8665}, {\"threshold\": 0.597, \"p\": 28005, \"fpr\": 0.9388343912290825, \"tpr\": 0.9859310837350473, \"n\": 8665}, {\"threshold\": 0.598, \"p\": 28005, \"fpr\": 0.9388343912290825, \"tpr\": 0.9859310837350473, \"n\": 8665}, {\"threshold\": 0.599, \"p\": 28005, \"fpr\": 0.9388343912290825, \"tpr\": 0.9859310837350473, \"n\": 8665}, {\"threshold\": 0.6, \"p\": 28005, \"fpr\": 0.9388343912290825, \"tpr\": 0.9859310837350473, \"n\": 8665}, {\"threshold\": 0.601, \"p\": 28005, \"fpr\": 0.9388343912290825, \"tpr\": 0.9859310837350473, \"n\": 8665}, {\"threshold\": 0.602, \"p\": 28005, \"fpr\": 0.9388343912290825, \"tpr\": 0.9859310837350473, \"n\": 8665}, {\"threshold\": 0.603, \"p\": 28005, \"fpr\": 0.9388343912290825, \"tpr\": 0.9859310837350473, \"n\": 8665}, {\"threshold\": 0.604, \"p\": 28005, \"fpr\": 0.9388343912290825, \"tpr\": 0.9859310837350473, \"n\": 8665}, {\"threshold\": 0.605, \"p\": 28005, \"fpr\": 0.9388343912290825, \"tpr\": 0.9859310837350473, \"n\": 8665}, {\"threshold\": 0.606, \"p\": 28005, \"fpr\": 0.9388343912290825, \"tpr\": 0.9859310837350473, \"n\": 8665}, {\"threshold\": 0.607, \"p\": 28005, \"fpr\": 0.9388343912290825, \"tpr\": 0.9859310837350473, \"n\": 8665}, {\"threshold\": 0.608, \"p\": 28005, \"fpr\": 0.9388343912290825, \"tpr\": 0.9859310837350473, \"n\": 8665}, {\"threshold\": 0.609, \"p\": 28005, \"fpr\": 0.9388343912290825, \"tpr\": 0.9859310837350473, \"n\": 8665}, {\"threshold\": 0.61, \"p\": 28005, \"fpr\": 0.9388343912290825, \"tpr\": 0.9859310837350473, \"n\": 8665}, {\"threshold\": 0.611, \"p\": 28005, \"fpr\": 0.9388343912290825, \"tpr\": 0.9859310837350473, \"n\": 8665}, {\"threshold\": 0.612, \"p\": 28005, \"fpr\": 0.9388343912290825, \"tpr\": 0.9859310837350473, \"n\": 8665}, {\"threshold\": 0.613, \"p\": 28005, \"fpr\": 0.9388343912290825, \"tpr\": 0.9859310837350473, \"n\": 8665}, {\"threshold\": 0.614, \"p\": 28005, \"fpr\": 0.9388343912290825, \"tpr\": 0.9859310837350473, \"n\": 8665}, {\"threshold\": 0.615, \"p\": 28005, \"fpr\": 0.9387189844200808, \"tpr\": 0.9859310837350473, \"n\": 8665}, {\"threshold\": 0.616, \"p\": 28005, \"fpr\": 0.9387189844200808, \"tpr\": 0.9859310837350473, \"n\": 8665}, {\"threshold\": 0.617, \"p\": 28005, \"fpr\": 0.9387189844200808, \"tpr\": 0.9859310837350473, \"n\": 8665}, {\"threshold\": 0.618, \"p\": 28005, \"fpr\": 0.9387189844200808, \"tpr\": 0.9859310837350473, \"n\": 8665}, {\"threshold\": 0.619, \"p\": 28005, \"fpr\": 0.9387189844200808, \"tpr\": 0.9859310837350473, \"n\": 8665}, {\"threshold\": 0.62, \"p\": 28005, \"fpr\": 0.9387189844200808, \"tpr\": 0.9859310837350473, \"n\": 8665}, {\"threshold\": 0.621, \"p\": 28005, \"fpr\": 0.9387189844200808, \"tpr\": 0.9858953758257454, \"n\": 8665}, {\"threshold\": 0.622, \"p\": 28005, \"fpr\": 0.9387189844200808, \"tpr\": 0.9858953758257454, \"n\": 8665}, {\"threshold\": 0.623, \"p\": 28005, \"fpr\": 0.9387189844200808, \"tpr\": 0.9858953758257454, \"n\": 8665}, {\"threshold\": 0.624, \"p\": 28005, \"fpr\": 0.9387189844200808, \"tpr\": 0.9858953758257454, \"n\": 8665}, {\"threshold\": 0.625, \"p\": 28005, \"fpr\": 0.9384881708020774, \"tpr\": 0.9858239600071416, \"n\": 8665}, {\"threshold\": 0.626, \"p\": 28005, \"fpr\": 0.9384881708020774, \"tpr\": 0.9858239600071416, \"n\": 8665}, {\"threshold\": 0.627, \"p\": 28005, \"fpr\": 0.9384881708020774, \"tpr\": 0.9858239600071416, \"n\": 8665}, {\"threshold\": 0.628, \"p\": 28005, \"fpr\": 0.9384881708020774, \"tpr\": 0.9858239600071416, \"n\": 8665}, {\"threshold\": 0.629, \"p\": 28005, \"fpr\": 0.9384881708020774, \"tpr\": 0.9858239600071416, \"n\": 8665}, {\"threshold\": 0.63, \"p\": 28005, \"fpr\": 0.9384881708020774, \"tpr\": 0.9858239600071416, \"n\": 8665}, {\"threshold\": 0.631, \"p\": 28005, \"fpr\": 0.9384881708020774, \"tpr\": 0.9858239600071416, \"n\": 8665}, {\"threshold\": 0.632, \"p\": 28005, \"fpr\": 0.9384881708020774, \"tpr\": 0.9858239600071416, \"n\": 8665}, {\"threshold\": 0.633, \"p\": 28005, \"fpr\": 0.9384881708020774, \"tpr\": 0.9857882520978397, \"n\": 8665}, {\"threshold\": 0.634, \"p\": 28005, \"fpr\": 0.9384881708020774, \"tpr\": 0.9857882520978397, \"n\": 8665}, {\"threshold\": 0.635, \"p\": 28005, \"fpr\": 0.9384881708020774, \"tpr\": 0.9857882520978397, \"n\": 8665}, {\"threshold\": 0.636, \"p\": 28005, \"fpr\": 0.9384881708020774, \"tpr\": 0.9857882520978397, \"n\": 8665}, {\"threshold\": 0.637, \"p\": 28005, \"fpr\": 0.9384881708020774, \"tpr\": 0.9857882520978397, \"n\": 8665}, {\"threshold\": 0.638, \"p\": 28005, \"fpr\": 0.9382573571840739, \"tpr\": 0.9857525441885377, \"n\": 8665}, {\"threshold\": 0.639, \"p\": 28005, \"fpr\": 0.9382573571840739, \"tpr\": 0.9857525441885377, \"n\": 8665}, {\"threshold\": 0.64, \"p\": 28005, \"fpr\": 0.9382573571840739, \"tpr\": 0.9857525441885377, \"n\": 8665}, {\"threshold\": 0.641, \"p\": 28005, \"fpr\": 0.9382573571840739, \"tpr\": 0.9857525441885377, \"n\": 8665}, {\"threshold\": 0.642, \"p\": 28005, \"fpr\": 0.9382573571840739, \"tpr\": 0.9857525441885377, \"n\": 8665}, {\"threshold\": 0.643, \"p\": 28005, \"fpr\": 0.9382573571840739, \"tpr\": 0.9857525441885377, \"n\": 8665}, {\"threshold\": 0.644, \"p\": 28005, \"fpr\": 0.9382573571840739, \"tpr\": 0.9857525441885377, \"n\": 8665}, {\"threshold\": 0.645, \"p\": 28005, \"fpr\": 0.9382573571840739, \"tpr\": 0.9857525441885377, \"n\": 8665}, {\"threshold\": 0.646, \"p\": 28005, \"fpr\": 0.9382573571840739, \"tpr\": 0.9857525441885377, \"n\": 8665}, {\"threshold\": 0.647, \"p\": 28005, \"fpr\": 0.9382573571840739, \"tpr\": 0.9857525441885377, \"n\": 8665}, {\"threshold\": 0.648, \"p\": 28005, \"fpr\": 0.9382573571840739, \"tpr\": 0.9857525441885377, \"n\": 8665}, {\"threshold\": 0.649, \"p\": 28005, \"fpr\": 0.9382573571840739, \"tpr\": 0.9857525441885377, \"n\": 8665}, {\"threshold\": 0.65, \"p\": 28005, \"fpr\": 0.9382573571840739, \"tpr\": 0.9856454204606321, \"n\": 8665}, {\"threshold\": 0.651, \"p\": 28005, \"fpr\": 0.9380265435660704, \"tpr\": 0.9856097125513301, \"n\": 8665}, {\"threshold\": 0.652, \"p\": 28005, \"fpr\": 0.9380265435660704, \"tpr\": 0.9856097125513301, \"n\": 8665}, {\"threshold\": 0.653, \"p\": 28005, \"fpr\": 0.9380265435660704, \"tpr\": 0.9856097125513301, \"n\": 8665}, {\"threshold\": 0.654, \"p\": 28005, \"fpr\": 0.9380265435660704, \"tpr\": 0.9856097125513301, \"n\": 8665}, {\"threshold\": 0.655, \"p\": 28005, \"fpr\": 0.9380265435660704, \"tpr\": 0.9856097125513301, \"n\": 8665}, {\"threshold\": 0.656, \"p\": 28005, \"fpr\": 0.9380265435660704, \"tpr\": 0.9856097125513301, \"n\": 8665}, {\"threshold\": 0.657, \"p\": 28005, \"fpr\": 0.9379111367570687, \"tpr\": 0.9856097125513301, \"n\": 8665}, {\"threshold\": 0.658, \"p\": 28005, \"fpr\": 0.9379111367570687, \"tpr\": 0.9856097125513301, \"n\": 8665}, {\"threshold\": 0.659, \"p\": 28005, \"fpr\": 0.9379111367570687, \"tpr\": 0.9856097125513301, \"n\": 8665}, {\"threshold\": 0.66, \"p\": 28005, \"fpr\": 0.9379111367570687, \"tpr\": 0.9856097125513301, \"n\": 8665}, {\"threshold\": 0.661, \"p\": 28005, \"fpr\": 0.9379111367570687, \"tpr\": 0.9856097125513301, \"n\": 8665}, {\"threshold\": 0.662, \"p\": 28005, \"fpr\": 0.9379111367570687, \"tpr\": 0.9856097125513301, \"n\": 8665}, {\"threshold\": 0.663, \"p\": 28005, \"fpr\": 0.9379111367570687, \"tpr\": 0.9856097125513301, \"n\": 8665}, {\"threshold\": 0.664, \"p\": 28005, \"fpr\": 0.9379111367570687, \"tpr\": 0.9856097125513301, \"n\": 8665}, {\"threshold\": 0.665, \"p\": 28005, \"fpr\": 0.9379111367570687, \"tpr\": 0.9856097125513301, \"n\": 8665}, {\"threshold\": 0.666, \"p\": 28005, \"fpr\": 0.9379111367570687, \"tpr\": 0.9856097125513301, \"n\": 8665}, {\"threshold\": 0.667, \"p\": 28005, \"fpr\": 0.9377957299480669, \"tpr\": 0.9856097125513301, \"n\": 8665}, {\"threshold\": 0.668, \"p\": 28005, \"fpr\": 0.9347951529140219, \"tpr\": 0.9839314408141403, \"n\": 8665}, {\"threshold\": 0.669, \"p\": 28005, \"fpr\": 0.9347951529140219, \"tpr\": 0.9839314408141403, \"n\": 8665}, {\"threshold\": 0.67, \"p\": 28005, \"fpr\": 0.9347951529140219, \"tpr\": 0.9839314408141403, \"n\": 8665}, {\"threshold\": 0.671, \"p\": 28005, \"fpr\": 0.9347951529140219, \"tpr\": 0.9839314408141403, \"n\": 8665}, {\"threshold\": 0.672, \"p\": 28005, \"fpr\": 0.9347951529140219, \"tpr\": 0.9839314408141403, \"n\": 8665}, {\"threshold\": 0.673, \"p\": 28005, \"fpr\": 0.9347951529140219, \"tpr\": 0.9839314408141403, \"n\": 8665}, {\"threshold\": 0.674, \"p\": 28005, \"fpr\": 0.9347951529140219, \"tpr\": 0.9839314408141403, \"n\": 8665}, {\"threshold\": 0.675, \"p\": 28005, \"fpr\": 0.9347951529140219, \"tpr\": 0.9839314408141403, \"n\": 8665}, {\"threshold\": 0.676, \"p\": 28005, \"fpr\": 0.9347951529140219, \"tpr\": 0.9839314408141403, \"n\": 8665}, {\"threshold\": 0.677, \"p\": 28005, \"fpr\": 0.9347951529140219, \"tpr\": 0.9839314408141403, \"n\": 8665}, {\"threshold\": 0.678, \"p\": 28005, \"fpr\": 0.9347951529140219, \"tpr\": 0.9839314408141403, \"n\": 8665}, {\"threshold\": 0.679, \"p\": 28005, \"fpr\": 0.9347951529140219, \"tpr\": 0.9839314408141403, \"n\": 8665}, {\"threshold\": 0.68, \"p\": 28005, \"fpr\": 0.9347951529140219, \"tpr\": 0.9839314408141403, \"n\": 8665}, {\"threshold\": 0.681, \"p\": 28005, \"fpr\": 0.9347951529140219, \"tpr\": 0.9839314408141403, \"n\": 8665}, {\"threshold\": 0.682, \"p\": 28005, \"fpr\": 0.9347951529140219, \"tpr\": 0.9839314408141403, \"n\": 8665}, {\"threshold\": 0.683, \"p\": 28005, \"fpr\": 0.9347951529140219, \"tpr\": 0.9839314408141403, \"n\": 8665}, {\"threshold\": 0.684, \"p\": 28005, \"fpr\": 0.9347951529140219, \"tpr\": 0.9839314408141403, \"n\": 8665}, {\"threshold\": 0.685, \"p\": 28005, \"fpr\": 0.933064050778996, \"tpr\": 0.9830387430815926, \"n\": 8665}, {\"threshold\": 0.686, \"p\": 28005, \"fpr\": 0.933064050778996, \"tpr\": 0.9830387430815926, \"n\": 8665}, {\"threshold\": 0.687, \"p\": 28005, \"fpr\": 0.933064050778996, \"tpr\": 0.9830387430815926, \"n\": 8665}, {\"threshold\": 0.688, \"p\": 28005, \"fpr\": 0.933064050778996, \"tpr\": 0.9830387430815926, \"n\": 8665}, {\"threshold\": 0.689, \"p\": 28005, \"fpr\": 0.933064050778996, \"tpr\": 0.9830387430815926, \"n\": 8665}, {\"threshold\": 0.69, \"p\": 28005, \"fpr\": 0.933064050778996, \"tpr\": 0.9830387430815926, \"n\": 8665}, {\"threshold\": 0.691, \"p\": 28005, \"fpr\": 0.933064050778996, \"tpr\": 0.9830387430815926, \"n\": 8665}, {\"threshold\": 0.692, \"p\": 28005, \"fpr\": 0.933064050778996, \"tpr\": 0.9830387430815926, \"n\": 8665}, {\"threshold\": 0.693, \"p\": 28005, \"fpr\": 0.933064050778996, \"tpr\": 0.9830387430815926, \"n\": 8665}, {\"threshold\": 0.694, \"p\": 28005, \"fpr\": 0.933064050778996, \"tpr\": 0.9830387430815926, \"n\": 8665}, {\"threshold\": 0.695, \"p\": 28005, \"fpr\": 0.933064050778996, \"tpr\": 0.9830387430815926, \"n\": 8665}, {\"threshold\": 0.696, \"p\": 28005, \"fpr\": 0.933064050778996, \"tpr\": 0.9830387430815926, \"n\": 8665}, {\"threshold\": 0.697, \"p\": 28005, \"fpr\": 0.933064050778996, \"tpr\": 0.9830387430815926, \"n\": 8665}, {\"threshold\": 0.698, \"p\": 28005, \"fpr\": 0.933064050778996, \"tpr\": 0.9830387430815926, \"n\": 8665}, {\"threshold\": 0.699, \"p\": 28005, \"fpr\": 0.933064050778996, \"tpr\": 0.9830387430815926, \"n\": 8665}, {\"threshold\": 0.7, \"p\": 28005, \"fpr\": 0.933064050778996, \"tpr\": 0.9830387430815926, \"n\": 8665}, {\"threshold\": 0.701, \"p\": 28005, \"fpr\": 0.933064050778996, \"tpr\": 0.9830387430815926, \"n\": 8665}, {\"threshold\": 0.702, \"p\": 28005, \"fpr\": 0.933064050778996, \"tpr\": 0.9830387430815926, \"n\": 8665}, {\"threshold\": 0.703, \"p\": 28005, \"fpr\": 0.933064050778996, \"tpr\": 0.9830030351722907, \"n\": 8665}, {\"threshold\": 0.704, \"p\": 28005, \"fpr\": 0.933064050778996, \"tpr\": 0.9830030351722907, \"n\": 8665}, {\"threshold\": 0.705, \"p\": 28005, \"fpr\": 0.933064050778996, \"tpr\": 0.9830030351722907, \"n\": 8665}, {\"threshold\": 0.706, \"p\": 28005, \"fpr\": 0.933064050778996, \"tpr\": 0.9830030351722907, \"n\": 8665}, {\"threshold\": 0.707, \"p\": 28005, \"fpr\": 0.933064050778996, \"tpr\": 0.9830030351722907, \"n\": 8665}, {\"threshold\": 0.708, \"p\": 28005, \"fpr\": 0.933064050778996, \"tpr\": 0.9830030351722907, \"n\": 8665}, {\"threshold\": 0.709, \"p\": 28005, \"fpr\": 0.9328332371609925, \"tpr\": 0.9829316193536869, \"n\": 8665}, {\"threshold\": 0.71, \"p\": 28005, \"fpr\": 0.9328332371609925, \"tpr\": 0.9829316193536869, \"n\": 8665}, {\"threshold\": 0.711, \"p\": 28005, \"fpr\": 0.16814772071552223, \"tpr\": 0.4141760399928584, \"n\": 8665}, {\"threshold\": 0.712, \"p\": 28005, \"fpr\": 0.16814772071552223, \"tpr\": 0.4141760399928584, \"n\": 8665}, {\"threshold\": 0.713, \"p\": 28005, \"fpr\": 0.16814772071552223, \"tpr\": 0.4141760399928584, \"n\": 8665}, {\"threshold\": 0.714, \"p\": 28005, \"fpr\": 0.16814772071552223, \"tpr\": 0.4141760399928584, \"n\": 8665}, {\"threshold\": 0.715, \"p\": 28005, \"fpr\": 0.16814772071552223, \"tpr\": 0.4141760399928584, \"n\": 8665}, {\"threshold\": 0.716, \"p\": 28005, \"fpr\": 0.16814772071552223, \"tpr\": 0.4141760399928584, \"n\": 8665}, {\"threshold\": 0.717, \"p\": 28005, \"fpr\": 0.16814772071552223, \"tpr\": 0.4141760399928584, \"n\": 8665}, {\"threshold\": 0.718, \"p\": 28005, \"fpr\": 0.16814772071552223, \"tpr\": 0.4141760399928584, \"n\": 8665}, {\"threshold\": 0.719, \"p\": 28005, \"fpr\": 0.16814772071552223, \"tpr\": 0.4141760399928584, \"n\": 8665}, {\"threshold\": 0.72, \"p\": 28005, \"fpr\": 0.16814772071552223, \"tpr\": 0.4141760399928584, \"n\": 8665}, {\"threshold\": 0.721, \"p\": 28005, \"fpr\": 0.16814772071552223, \"tpr\": 0.4141760399928584, \"n\": 8665}, {\"threshold\": 0.722, \"p\": 28005, \"fpr\": 0.16814772071552223, \"tpr\": 0.4141760399928584, \"n\": 8665}, {\"threshold\": 0.723, \"p\": 28005, \"fpr\": 0.16814772071552223, \"tpr\": 0.4141760399928584, \"n\": 8665}, {\"threshold\": 0.724, \"p\": 28005, \"fpr\": 0.16814772071552223, \"tpr\": 0.4141760399928584, \"n\": 8665}, {\"threshold\": 0.725, \"p\": 28005, \"fpr\": 0.16814772071552223, \"tpr\": 0.4141760399928584, \"n\": 8665}, {\"threshold\": 0.726, \"p\": 28005, \"fpr\": 0.16814772071552223, \"tpr\": 0.4141760399928584, \"n\": 8665}, {\"threshold\": 0.727, \"p\": 28005, \"fpr\": 0.16814772071552223, \"tpr\": 0.4141760399928584, \"n\": 8665}, {\"threshold\": 0.728, \"p\": 28005, \"fpr\": 0.16814772071552223, \"tpr\": 0.4141760399928584, \"n\": 8665}, {\"threshold\": 0.729, \"p\": 28005, \"fpr\": 0.16814772071552223, \"tpr\": 0.4141760399928584, \"n\": 8665}, {\"threshold\": 0.73, \"p\": 28005, \"fpr\": 0.16814772071552223, \"tpr\": 0.4141760399928584, \"n\": 8665}, {\"threshold\": 0.731, \"p\": 28005, \"fpr\": 0.16791690709751875, \"tpr\": 0.4141046241742546, \"n\": 8665}, {\"threshold\": 0.732, \"p\": 28005, \"fpr\": 0.16791690709751875, \"tpr\": 0.4140332083556508, \"n\": 8665}, {\"threshold\": 0.733, \"p\": 28005, \"fpr\": 0.16791690709751875, \"tpr\": 0.4140332083556508, \"n\": 8665}, {\"threshold\": 0.734, \"p\": 28005, \"fpr\": 0.16791690709751875, \"tpr\": 0.4140332083556508, \"n\": 8665}, {\"threshold\": 0.735, \"p\": 28005, \"fpr\": 0.16791690709751875, \"tpr\": 0.41385466880914124, \"n\": 8665}, {\"threshold\": 0.736, \"p\": 28005, \"fpr\": 0.16780150028851704, \"tpr\": 0.4137832529905374, \"n\": 8665}, {\"threshold\": 0.737, \"p\": 28005, \"fpr\": 0.16780150028851704, \"tpr\": 0.4137832529905374, \"n\": 8665}, {\"threshold\": 0.738, \"p\": 28005, \"fpr\": 0.16780150028851704, \"tpr\": 0.4137832529905374, \"n\": 8665}, {\"threshold\": 0.739, \"p\": 28005, \"fpr\": 0.16780150028851704, \"tpr\": 0.4137832529905374, \"n\": 8665}, {\"threshold\": 0.74, \"p\": 28005, \"fpr\": 0.16780150028851704, \"tpr\": 0.4137832529905374, \"n\": 8665}, {\"threshold\": 0.741, \"p\": 28005, \"fpr\": 0.16780150028851704, \"tpr\": 0.4137832529905374, \"n\": 8665}, {\"threshold\": 0.742, \"p\": 28005, \"fpr\": 0.16780150028851704, \"tpr\": 0.4137832529905374, \"n\": 8665}, {\"threshold\": 0.743, \"p\": 28005, \"fpr\": 0.16780150028851704, \"tpr\": 0.4137832529905374, \"n\": 8665}, {\"threshold\": 0.744, \"p\": 28005, \"fpr\": 0.16780150028851704, \"tpr\": 0.4137832529905374, \"n\": 8665}, {\"threshold\": 0.745, \"p\": 28005, \"fpr\": 0.16780150028851704, \"tpr\": 0.4137832529905374, \"n\": 8665}, {\"threshold\": 0.746, \"p\": 28005, \"fpr\": 0.16780150028851704, \"tpr\": 0.4137832529905374, \"n\": 8665}, {\"threshold\": 0.747, \"p\": 28005, \"fpr\": 0.16780150028851704, \"tpr\": 0.4137832529905374, \"n\": 8665}, {\"threshold\": 0.748, \"p\": 28005, \"fpr\": 0.16780150028851704, \"tpr\": 0.4137832529905374, \"n\": 8665}, {\"threshold\": 0.749, \"p\": 28005, \"fpr\": 0.16780150028851704, \"tpr\": 0.4137832529905374, \"n\": 8665}, {\"threshold\": 0.75, \"p\": 28005, \"fpr\": 0.16780150028851704, \"tpr\": 0.4137832529905374, \"n\": 8665}, {\"threshold\": 0.751, \"p\": 28005, \"fpr\": 0.16780150028851704, \"tpr\": 0.4137832529905374, \"n\": 8665}, {\"threshold\": 0.752, \"p\": 28005, \"fpr\": 0.16780150028851704, \"tpr\": 0.4137832529905374, \"n\": 8665}, {\"threshold\": 0.753, \"p\": 28005, \"fpr\": 0.16780150028851704, \"tpr\": 0.4137832529905374, \"n\": 8665}, {\"threshold\": 0.754, \"p\": 28005, \"fpr\": 0.16780150028851704, \"tpr\": 0.4137832529905374, \"n\": 8665}, {\"threshold\": 0.755, \"p\": 28005, \"fpr\": 0.16780150028851704, \"tpr\": 0.4137832529905374, \"n\": 8665}, {\"threshold\": 0.756, \"p\": 28005, \"fpr\": 0.16780150028851704, \"tpr\": 0.4137832529905374, \"n\": 8665}, {\"threshold\": 0.757, \"p\": 28005, \"fpr\": 0.16780150028851704, \"tpr\": 0.4137832529905374, \"n\": 8665}, {\"threshold\": 0.758, \"p\": 28005, \"fpr\": 0.16780150028851704, \"tpr\": 0.4137832529905374, \"n\": 8665}, {\"threshold\": 0.759, \"p\": 28005, \"fpr\": 0.16780150028851704, \"tpr\": 0.4137832529905374, \"n\": 8665}, {\"threshold\": 0.76, \"p\": 28005, \"fpr\": 0.16780150028851704, \"tpr\": 0.4137832529905374, \"n\": 8665}, {\"threshold\": 0.761, \"p\": 28005, \"fpr\": 0.1663012117714945, \"tpr\": 0.4121763970719514, \"n\": 8665}, {\"threshold\": 0.762, \"p\": 28005, \"fpr\": 0.1663012117714945, \"tpr\": 0.4121763970719514, \"n\": 8665}, {\"threshold\": 0.763, \"p\": 28005, \"fpr\": 0.1663012117714945, \"tpr\": 0.4121763970719514, \"n\": 8665}, {\"threshold\": 0.764, \"p\": 28005, \"fpr\": 0.1663012117714945, \"tpr\": 0.4121763970719514, \"n\": 8665}, {\"threshold\": 0.765, \"p\": 28005, \"fpr\": 0.1663012117714945, \"tpr\": 0.4121763970719514, \"n\": 8665}, {\"threshold\": 0.766, \"p\": 28005, \"fpr\": 0.1663012117714945, \"tpr\": 0.4121763970719514, \"n\": 8665}, {\"threshold\": 0.767, \"p\": 28005, \"fpr\": 0.1663012117714945, \"tpr\": 0.4121763970719514, \"n\": 8665}, {\"threshold\": 0.768, \"p\": 28005, \"fpr\": 0.1663012117714945, \"tpr\": 0.4121763970719514, \"n\": 8665}, {\"threshold\": 0.769, \"p\": 28005, \"fpr\": 0.1663012117714945, \"tpr\": 0.4121763970719514, \"n\": 8665}, {\"threshold\": 0.77, \"p\": 28005, \"fpr\": 0.1663012117714945, \"tpr\": 0.4121763970719514, \"n\": 8665}, {\"threshold\": 0.771, \"p\": 28005, \"fpr\": 0.1663012117714945, \"tpr\": 0.4121763970719514, \"n\": 8665}, {\"threshold\": 0.772, \"p\": 28005, \"fpr\": 0.1663012117714945, \"tpr\": 0.4121763970719514, \"n\": 8665}, {\"threshold\": 0.773, \"p\": 28005, \"fpr\": 0.1654933641084824, \"tpr\": 0.41196214961613997, \"n\": 8665}, {\"threshold\": 0.774, \"p\": 28005, \"fpr\": 0.1654933641084824, \"tpr\": 0.41196214961613997, \"n\": 8665}, {\"threshold\": 0.775, \"p\": 28005, \"fpr\": 0.1654933641084824, \"tpr\": 0.41196214961613997, \"n\": 8665}, {\"threshold\": 0.776, \"p\": 28005, \"fpr\": 0.1654933641084824, \"tpr\": 0.41196214961613997, \"n\": 8665}, {\"threshold\": 0.777, \"p\": 28005, \"fpr\": 0.1654933641084824, \"tpr\": 0.41196214961613997, \"n\": 8665}, {\"threshold\": 0.778, \"p\": 28005, \"fpr\": 0.1654933641084824, \"tpr\": 0.41196214961613997, \"n\": 8665}, {\"threshold\": 0.779, \"p\": 28005, \"fpr\": 0.1654933641084824, \"tpr\": 0.41196214961613997, \"n\": 8665}, {\"threshold\": 0.78, \"p\": 28005, \"fpr\": 0.1654933641084824, \"tpr\": 0.41192644170683806, \"n\": 8665}, {\"threshold\": 0.781, \"p\": 28005, \"fpr\": 0.1654933641084824, \"tpr\": 0.41192644170683806, \"n\": 8665}, {\"threshold\": 0.782, \"p\": 28005, \"fpr\": 0.1654933641084824, \"tpr\": 0.41192644170683806, \"n\": 8665}, {\"threshold\": 0.783, \"p\": 28005, \"fpr\": 0.1654933641084824, \"tpr\": 0.41192644170683806, \"n\": 8665}, {\"threshold\": 0.784, \"p\": 28005, \"fpr\": 0.1654933641084824, \"tpr\": 0.41192644170683806, \"n\": 8665}, {\"threshold\": 0.785, \"p\": 28005, \"fpr\": 0.1654933641084824, \"tpr\": 0.41192644170683806, \"n\": 8665}, {\"threshold\": 0.786, \"p\": 28005, \"fpr\": 0.1654933641084824, \"tpr\": 0.41192644170683806, \"n\": 8665}, {\"threshold\": 0.787, \"p\": 28005, \"fpr\": 0.16537795729948068, \"tpr\": 0.41192644170683806, \"n\": 8665}, {\"threshold\": 0.788, \"p\": 28005, \"fpr\": 0.16537795729948068, \"tpr\": 0.41192644170683806, \"n\": 8665}, {\"threshold\": 0.789, \"p\": 28005, \"fpr\": 0.16526255049047894, \"tpr\": 0.41185502588823425, \"n\": 8665}, {\"threshold\": 0.79, \"p\": 28005, \"fpr\": 0.16526255049047894, \"tpr\": 0.41178361006963043, \"n\": 8665}, {\"threshold\": 0.791, \"p\": 28005, \"fpr\": 0.16526255049047894, \"tpr\": 0.41178361006963043, \"n\": 8665}, {\"threshold\": 0.792, \"p\": 28005, \"fpr\": 0.16526255049047894, \"tpr\": 0.41178361006963043, \"n\": 8665}, {\"threshold\": 0.793, \"p\": 28005, \"fpr\": 0.16526255049047894, \"tpr\": 0.41178361006963043, \"n\": 8665}, {\"threshold\": 0.794, \"p\": 28005, \"fpr\": 0.16526255049047894, \"tpr\": 0.41178361006963043, \"n\": 8665}, {\"threshold\": 0.795, \"p\": 28005, \"fpr\": 0.16526255049047894, \"tpr\": 0.41178361006963043, \"n\": 8665}, {\"threshold\": 0.796, \"p\": 28005, \"fpr\": 0.16526255049047894, \"tpr\": 0.41178361006963043, \"n\": 8665}, {\"threshold\": 0.797, \"p\": 28005, \"fpr\": 0.16526255049047894, \"tpr\": 0.41178361006963043, \"n\": 8665}, {\"threshold\": 0.798, \"p\": 28005, \"fpr\": 0.16526255049047894, \"tpr\": 0.41178361006963043, \"n\": 8665}, {\"threshold\": 0.799, \"p\": 28005, \"fpr\": 0.16526255049047894, \"tpr\": 0.41178361006963043, \"n\": 8665}, {\"threshold\": 0.8, \"p\": 28005, \"fpr\": 0.16526255049047894, \"tpr\": 0.41178361006963043, \"n\": 8665}, {\"threshold\": 0.801, \"p\": 28005, \"fpr\": 0.16526255049047894, \"tpr\": 0.41178361006963043, \"n\": 8665}, {\"threshold\": 0.802, \"p\": 28005, \"fpr\": 0.16480092325447201, \"tpr\": 0.4113194072487056, \"n\": 8665}, {\"threshold\": 0.803, \"p\": 28005, \"fpr\": 0.16480092325447201, \"tpr\": 0.4113194072487056, \"n\": 8665}, {\"threshold\": 0.804, \"p\": 28005, \"fpr\": 0.16480092325447201, \"tpr\": 0.4113194072487056, \"n\": 8665}, {\"threshold\": 0.805, \"p\": 28005, \"fpr\": 0.16480092325447201, \"tpr\": 0.4113194072487056, \"n\": 8665}, {\"threshold\": 0.806, \"p\": 28005, \"fpr\": 0.16480092325447201, \"tpr\": 0.4113194072487056, \"n\": 8665}, {\"threshold\": 0.807, \"p\": 28005, \"fpr\": 0.16480092325447201, \"tpr\": 0.4113194072487056, \"n\": 8665}, {\"threshold\": 0.808, \"p\": 28005, \"fpr\": 0.16480092325447201, \"tpr\": 0.4113194072487056, \"n\": 8665}, {\"threshold\": 0.809, \"p\": 28005, \"fpr\": 0.16480092325447201, \"tpr\": 0.4113194072487056, \"n\": 8665}, {\"threshold\": 0.81, \"p\": 28005, \"fpr\": 0.16480092325447201, \"tpr\": 0.4113194072487056, \"n\": 8665}, {\"threshold\": 0.811, \"p\": 28005, \"fpr\": 0.16480092325447201, \"tpr\": 0.41124799143010177, \"n\": 8665}, {\"threshold\": 0.812, \"p\": 28005, \"fpr\": 0.16480092325447201, \"tpr\": 0.41124799143010177, \"n\": 8665}, {\"threshold\": 0.813, \"p\": 28005, \"fpr\": 0.16480092325447201, \"tpr\": 0.41124799143010177, \"n\": 8665}, {\"threshold\": 0.814, \"p\": 28005, \"fpr\": 0.16457010963646856, \"tpr\": 0.4109980360649884, \"n\": 8665}, {\"threshold\": 0.815, \"p\": 28005, \"fpr\": 0.16457010963646856, \"tpr\": 0.4109980360649884, \"n\": 8665}, {\"threshold\": 0.816, \"p\": 28005, \"fpr\": 0.16457010963646856, \"tpr\": 0.4109980360649884, \"n\": 8665}, {\"threshold\": 0.817, \"p\": 28005, \"fpr\": 0.16457010963646856, \"tpr\": 0.4109980360649884, \"n\": 8665}, {\"threshold\": 0.818, \"p\": 28005, \"fpr\": 0.16457010963646856, \"tpr\": 0.4109980360649884, \"n\": 8665}, {\"threshold\": 0.819, \"p\": 28005, \"fpr\": 0.16457010963646856, \"tpr\": 0.4109980360649884, \"n\": 8665}, {\"threshold\": 0.82, \"p\": 28005, \"fpr\": 0.16457010963646856, \"tpr\": 0.4109980360649884, \"n\": 8665}, {\"threshold\": 0.821, \"p\": 28005, \"fpr\": 0.16457010963646856, \"tpr\": 0.4109980360649884, \"n\": 8665}, {\"threshold\": 0.822, \"p\": 28005, \"fpr\": 0.16457010963646856, \"tpr\": 0.4109980360649884, \"n\": 8665}, {\"threshold\": 0.823, \"p\": 28005, \"fpr\": 0.16457010963646856, \"tpr\": 0.4109980360649884, \"n\": 8665}, {\"threshold\": 0.824, \"p\": 28005, \"fpr\": 0.16457010963646856, \"tpr\": 0.4109980360649884, \"n\": 8665}, {\"threshold\": 0.825, \"p\": 28005, \"fpr\": 0.16457010963646856, \"tpr\": 0.4109980360649884, \"n\": 8665}, {\"threshold\": 0.826, \"p\": 28005, \"fpr\": 0.16457010963646856, \"tpr\": 0.4109980360649884, \"n\": 8665}, {\"threshold\": 0.827, \"p\": 28005, \"fpr\": 0.16457010963646856, \"tpr\": 0.4109980360649884, \"n\": 8665}, {\"threshold\": 0.828, \"p\": 28005, \"fpr\": 0.16457010963646856, \"tpr\": 0.4109980360649884, \"n\": 8665}, {\"threshold\": 0.829, \"p\": 28005, \"fpr\": 0.16457010963646856, \"tpr\": 0.4109980360649884, \"n\": 8665}, {\"threshold\": 0.83, \"p\": 28005, \"fpr\": 0.16457010963646856, \"tpr\": 0.4109980360649884, \"n\": 8665}, {\"threshold\": 0.831, \"p\": 28005, \"fpr\": 0.16445470282746683, \"tpr\": 0.4109980360649884, \"n\": 8665}, {\"threshold\": 0.832, \"p\": 28005, \"fpr\": 0.07974610502019619, \"tpr\": 0.265345474022496, \"n\": 8665}, {\"threshold\": 0.833, \"p\": 28005, \"fpr\": 0.07974610502019619, \"tpr\": 0.265345474022496, \"n\": 8665}, {\"threshold\": 0.834, \"p\": 28005, \"fpr\": 0.07974610502019619, \"tpr\": 0.265345474022496, \"n\": 8665}, {\"threshold\": 0.835, \"p\": 28005, \"fpr\": 0.07974610502019619, \"tpr\": 0.265345474022496, \"n\": 8665}, {\"threshold\": 0.836, \"p\": 28005, \"fpr\": 0.07974610502019619, \"tpr\": 0.26530976611319407, \"n\": 8665}, {\"threshold\": 0.837, \"p\": 28005, \"fpr\": 0.07974610502019619, \"tpr\": 0.26530976611319407, \"n\": 8665}, {\"threshold\": 0.838, \"p\": 28005, \"fpr\": 0.07974610502019619, \"tpr\": 0.26530976611319407, \"n\": 8665}, {\"threshold\": 0.839, \"p\": 28005, \"fpr\": 0.07963069821119446, \"tpr\": 0.26530976611319407, \"n\": 8665}, {\"threshold\": 0.84, \"p\": 28005, \"fpr\": 0.07963069821119446, \"tpr\": 0.26530976611319407, \"n\": 8665}, {\"threshold\": 0.841, \"p\": 28005, \"fpr\": 0.07963069821119446, \"tpr\": 0.26530976611319407, \"n\": 8665}, {\"threshold\": 0.842, \"p\": 28005, \"fpr\": 0.07963069821119446, \"tpr\": 0.26530976611319407, \"n\": 8665}, {\"threshold\": 0.843, \"p\": 28005, \"fpr\": 0.07963069821119446, \"tpr\": 0.26530976611319407, \"n\": 8665}, {\"threshold\": 0.844, \"p\": 28005, \"fpr\": 0.07963069821119446, \"tpr\": 0.26530976611319407, \"n\": 8665}, {\"threshold\": 0.845, \"p\": 28005, \"fpr\": 0.07963069821119446, \"tpr\": 0.26530976611319407, \"n\": 8665}, {\"threshold\": 0.846, \"p\": 28005, \"fpr\": 0.079399884593191, \"tpr\": 0.26530976611319407, \"n\": 8665}, {\"threshold\": 0.847, \"p\": 28005, \"fpr\": 0.079399884593191, \"tpr\": 0.26530976611319407, \"n\": 8665}, {\"threshold\": 0.848, \"p\": 28005, \"fpr\": 0.079399884593191, \"tpr\": 0.26527405820389216, \"n\": 8665}, {\"threshold\": 0.849, \"p\": 28005, \"fpr\": 0.07928447778418926, \"tpr\": 0.26527405820389216, \"n\": 8665}, {\"threshold\": 0.85, \"p\": 28005, \"fpr\": 0.07928447778418926, \"tpr\": 0.26527405820389216, \"n\": 8665}, {\"threshold\": 0.851, \"p\": 28005, \"fpr\": 0.07928447778418926, \"tpr\": 0.26527405820389216, \"n\": 8665}, {\"threshold\": 0.852, \"p\": 28005, \"fpr\": 0.07928447778418926, \"tpr\": 0.26527405820389216, \"n\": 8665}, {\"threshold\": 0.853, \"p\": 28005, \"fpr\": 0.07928447778418926, \"tpr\": 0.26527405820389216, \"n\": 8665}, {\"threshold\": 0.854, \"p\": 28005, \"fpr\": 0.07928447778418926, \"tpr\": 0.26527405820389216, \"n\": 8665}, {\"threshold\": 0.855, \"p\": 28005, \"fpr\": 0.07928447778418926, \"tpr\": 0.26527405820389216, \"n\": 8665}, {\"threshold\": 0.856, \"p\": 28005, \"fpr\": 0.07928447778418926, \"tpr\": 0.26520264238528835, \"n\": 8665}, {\"threshold\": 0.857, \"p\": 28005, \"fpr\": 0.07928447778418926, \"tpr\": 0.26520264238528835, \"n\": 8665}, {\"threshold\": 0.858, \"p\": 28005, \"fpr\": 0.07720715522215811, \"tpr\": 0.26116764863417247, \"n\": 8665}, {\"threshold\": 0.859, \"p\": 28005, \"fpr\": 0.07720715522215811, \"tpr\": 0.26116764863417247, \"n\": 8665}, {\"threshold\": 0.86, \"p\": 28005, \"fpr\": 0.07720715522215811, \"tpr\": 0.26116764863417247, \"n\": 8665}, {\"threshold\": 0.861, \"p\": 28005, \"fpr\": 0.07720715522215811, \"tpr\": 0.26116764863417247, \"n\": 8665}, {\"threshold\": 0.862, \"p\": 28005, \"fpr\": 0.07720715522215811, \"tpr\": 0.26116764863417247, \"n\": 8665}, {\"threshold\": 0.863, \"p\": 28005, \"fpr\": 0.07720715522215811, \"tpr\": 0.26116764863417247, \"n\": 8665}, {\"threshold\": 0.864, \"p\": 28005, \"fpr\": 0.07720715522215811, \"tpr\": 0.26116764863417247, \"n\": 8665}, {\"threshold\": 0.865, \"p\": 28005, \"fpr\": 0.07674552798615118, \"tpr\": 0.26056061417604, \"n\": 8665}, {\"threshold\": 0.866, \"p\": 28005, \"fpr\": 0.07674552798615118, \"tpr\": 0.26056061417604, \"n\": 8665}, {\"threshold\": 0.867, \"p\": 28005, \"fpr\": 0.07674552798615118, \"tpr\": 0.26056061417604, \"n\": 8665}, {\"threshold\": 0.868, \"p\": 28005, \"fpr\": 0.07674552798615118, \"tpr\": 0.26056061417604, \"n\": 8665}, {\"threshold\": 0.869, \"p\": 28005, \"fpr\": 0.07674552798615118, \"tpr\": 0.26056061417604, \"n\": 8665}, {\"threshold\": 0.87, \"p\": 28005, \"fpr\": 0.07674552798615118, \"tpr\": 0.26056061417604, \"n\": 8665}, {\"threshold\": 0.871, \"p\": 28005, \"fpr\": 0.07409117137911136, \"tpr\": 0.25413319050169614, \"n\": 8665}, {\"threshold\": 0.872, \"p\": 28005, \"fpr\": 0.07409117137911136, \"tpr\": 0.25413319050169614, \"n\": 8665}, {\"threshold\": 0.873, \"p\": 28005, \"fpr\": 0.07397576457010964, \"tpr\": 0.25413319050169614, \"n\": 8665}, {\"threshold\": 0.874, \"p\": 28005, \"fpr\": 0.07362954414310445, \"tpr\": 0.25391894304588464, \"n\": 8665}, {\"threshold\": 0.875, \"p\": 28005, \"fpr\": 0.07362954414310445, \"tpr\": 0.25391894304588464, \"n\": 8665}, {\"threshold\": 0.876, \"p\": 28005, \"fpr\": 0.07362954414310445, \"tpr\": 0.25391894304588464, \"n\": 8665}, {\"threshold\": 0.877, \"p\": 28005, \"fpr\": 0.07362954414310445, \"tpr\": 0.25391894304588464, \"n\": 8665}, {\"threshold\": 0.878, \"p\": 28005, \"fpr\": 0.07362954414310445, \"tpr\": 0.25391894304588464, \"n\": 8665}, {\"threshold\": 0.879, \"p\": 28005, \"fpr\": 0.07362954414310445, \"tpr\": 0.25391894304588464, \"n\": 8665}, {\"threshold\": 0.88, \"p\": 28005, \"fpr\": 0.07362954414310445, \"tpr\": 0.25391894304588464, \"n\": 8665}, {\"threshold\": 0.881, \"p\": 28005, \"fpr\": 0.07362954414310445, \"tpr\": 0.25391894304588464, \"n\": 8665}, {\"threshold\": 0.882, \"p\": 28005, \"fpr\": 0.07362954414310445, \"tpr\": 0.25391894304588464, \"n\": 8665}, {\"threshold\": 0.883, \"p\": 28005, \"fpr\": 0.07362954414310445, \"tpr\": 0.25388323513658273, \"n\": 8665}, {\"threshold\": 0.884, \"p\": 28005, \"fpr\": 0.07362954414310445, \"tpr\": 0.25388323513658273, \"n\": 8665}, {\"threshold\": 0.885, \"p\": 28005, \"fpr\": 0.07362954414310445, \"tpr\": 0.25388323513658273, \"n\": 8665}, {\"threshold\": 0.886, \"p\": 28005, \"fpr\": 0.07351413733410271, \"tpr\": 0.2538118193179789, \"n\": 8665}, {\"threshold\": 0.887, \"p\": 28005, \"fpr\": 0.027813040969417197, \"tpr\": 0.11690769505445456, \"n\": 8665}, {\"threshold\": 0.888, \"p\": 28005, \"fpr\": 0.027813040969417197, \"tpr\": 0.11690769505445456, \"n\": 8665}, {\"threshold\": 0.889, \"p\": 28005, \"fpr\": 0.027813040969417197, \"tpr\": 0.11690769505445456, \"n\": 8665}, {\"threshold\": 0.89, \"p\": 28005, \"fpr\": 0.027813040969417197, \"tpr\": 0.11690769505445456, \"n\": 8665}, {\"threshold\": 0.891, \"p\": 28005, \"fpr\": 0.027813040969417197, \"tpr\": 0.11683627923585074, \"n\": 8665}, {\"threshold\": 0.892, \"p\": 28005, \"fpr\": 0.027813040969417197, \"tpr\": 0.11683627923585074, \"n\": 8665}, {\"threshold\": 0.893, \"p\": 28005, \"fpr\": 0.027813040969417197, \"tpr\": 0.11680057132654884, \"n\": 8665}, {\"threshold\": 0.894, \"p\": 28005, \"fpr\": 0.027813040969417197, \"tpr\": 0.11680057132654884, \"n\": 8665}, {\"threshold\": 0.895, \"p\": 28005, \"fpr\": 0.027813040969417197, \"tpr\": 0.11680057132654884, \"n\": 8665}, {\"threshold\": 0.896, \"p\": 28005, \"fpr\": 0.027813040969417197, \"tpr\": 0.11680057132654884, \"n\": 8665}, {\"threshold\": 0.897, \"p\": 28005, \"fpr\": 0.027813040969417197, \"tpr\": 0.11680057132654884, \"n\": 8665}, {\"threshold\": 0.898, \"p\": 28005, \"fpr\": 0.027813040969417197, \"tpr\": 0.11680057132654884, \"n\": 8665}, {\"threshold\": 0.899, \"p\": 28005, \"fpr\": 0.027813040969417197, \"tpr\": 0.11680057132654884, \"n\": 8665}, {\"threshold\": 0.9, \"p\": 28005, \"fpr\": 0.027813040969417197, \"tpr\": 0.11680057132654884, \"n\": 8665}, {\"threshold\": 0.901, \"p\": 28005, \"fpr\": 0.027813040969417197, \"tpr\": 0.11680057132654884, \"n\": 8665}, {\"threshold\": 0.902, \"p\": 28005, \"fpr\": 0.027813040969417197, \"tpr\": 0.11680057132654884, \"n\": 8665}, {\"threshold\": 0.903, \"p\": 28005, \"fpr\": 0.027697634160415464, \"tpr\": 0.11680057132654884, \"n\": 8665}, {\"threshold\": 0.904, \"p\": 28005, \"fpr\": 0.027697634160415464, \"tpr\": 0.11680057132654884, \"n\": 8665}, {\"threshold\": 0.905, \"p\": 28005, \"fpr\": 0.027697634160415464, \"tpr\": 0.11680057132654884, \"n\": 8665}, {\"threshold\": 0.906, \"p\": 28005, \"fpr\": 0.027697634160415464, \"tpr\": 0.11680057132654884, \"n\": 8665}, {\"threshold\": 0.907, \"p\": 28005, \"fpr\": 0.027697634160415464, \"tpr\": 0.11680057132654884, \"n\": 8665}, {\"threshold\": 0.908, \"p\": 28005, \"fpr\": 0.027697634160415464, \"tpr\": 0.11680057132654884, \"n\": 8665}, {\"threshold\": 0.909, \"p\": 28005, \"fpr\": 0.01869590305828044, \"tpr\": 0.09287627209426888, \"n\": 8665}, {\"threshold\": 0.91, \"p\": 28005, \"fpr\": 0.018465089440276975, \"tpr\": 0.09230494554543832, \"n\": 8665}, {\"threshold\": 0.911, \"p\": 28005, \"fpr\": 0.018465089440276975, \"tpr\": 0.09230494554543832, \"n\": 8665}, {\"threshold\": 0.912, \"p\": 28005, \"fpr\": 0.018465089440276975, \"tpr\": 0.09230494554543832, \"n\": 8665}, {\"threshold\": 0.913, \"p\": 28005, \"fpr\": 0.018465089440276975, \"tpr\": 0.09230494554543832, \"n\": 8665}, {\"threshold\": 0.914, \"p\": 28005, \"fpr\": 0.018465089440276975, \"tpr\": 0.09230494554543832, \"n\": 8665}, {\"threshold\": 0.915, \"p\": 28005, \"fpr\": 0.018465089440276975, \"tpr\": 0.09230494554543832, \"n\": 8665}, {\"threshold\": 0.916, \"p\": 28005, \"fpr\": 0.018465089440276975, \"tpr\": 0.09219782181753258, \"n\": 8665}, {\"threshold\": 0.917, \"p\": 28005, \"fpr\": 0.018465089440276975, \"tpr\": 0.09219782181753258, \"n\": 8665}, {\"threshold\": 0.918, \"p\": 28005, \"fpr\": 0.018465089440276975, \"tpr\": 0.09219782181753258, \"n\": 8665}, {\"threshold\": 0.919, \"p\": 28005, \"fpr\": 0.018465089440276975, \"tpr\": 0.09216211390823068, \"n\": 8665}, {\"threshold\": 0.92, \"p\": 28005, \"fpr\": 0.018465089440276975, \"tpr\": 0.09216211390823068, \"n\": 8665}, {\"threshold\": 0.921, \"p\": 28005, \"fpr\": 0.018465089440276975, \"tpr\": 0.09216211390823068, \"n\": 8665}, {\"threshold\": 0.922, \"p\": 28005, \"fpr\": 0.018465089440276975, \"tpr\": 0.09216211390823068, \"n\": 8665}, {\"threshold\": 0.923, \"p\": 28005, \"fpr\": 0.018465089440276975, \"tpr\": 0.09212640599892877, \"n\": 8665}, {\"threshold\": 0.924, \"p\": 28005, \"fpr\": 0.018234275822273514, \"tpr\": 0.09109087662917337, \"n\": 8665}, {\"threshold\": 0.925, \"p\": 28005, \"fpr\": 0.018234275822273514, \"tpr\": 0.09109087662917337, \"n\": 8665}, {\"threshold\": 0.926, \"p\": 28005, \"fpr\": 0.018234275822273514, \"tpr\": 0.09109087662917337, \"n\": 8665}, {\"threshold\": 0.927, \"p\": 28005, \"fpr\": 0.018234275822273514, \"tpr\": 0.09109087662917337, \"n\": 8665}, {\"threshold\": 0.928, \"p\": 28005, \"fpr\": 0.018118869013271782, \"tpr\": 0.0908766291733619, \"n\": 8665}, {\"threshold\": 0.929, \"p\": 28005, \"fpr\": 0.018118869013271782, \"tpr\": 0.0908766291733619, \"n\": 8665}, {\"threshold\": 0.93, \"p\": 28005, \"fpr\": 0.018118869013271782, \"tpr\": 0.0908766291733619, \"n\": 8665}, {\"threshold\": 0.931, \"p\": 28005, \"fpr\": 0.018118869013271782, \"tpr\": 0.0908766291733619, \"n\": 8665}, {\"threshold\": 0.932, \"p\": 28005, \"fpr\": 0.01754183496826313, \"tpr\": 0.08959114443849313, \"n\": 8665}, {\"threshold\": 0.933, \"p\": 28005, \"fpr\": 0.017426428159261396, \"tpr\": 0.08959114443849313, \"n\": 8665}, {\"threshold\": 0.934, \"p\": 28005, \"fpr\": 0.017426428159261396, \"tpr\": 0.08959114443849313, \"n\": 8665}, {\"threshold\": 0.935, \"p\": 28005, \"fpr\": 0.017426428159261396, \"tpr\": 0.08959114443849313, \"n\": 8665}, {\"threshold\": 0.936, \"p\": 28005, \"fpr\": 0.017426428159261396, \"tpr\": 0.08959114443849313, \"n\": 8665}, {\"threshold\": 0.937, \"p\": 28005, \"fpr\": 0.017426428159261396, \"tpr\": 0.08948402071058739, \"n\": 8665}, {\"threshold\": 0.938, \"p\": 28005, \"fpr\": 0.017426428159261396, \"tpr\": 0.08948402071058739, \"n\": 8665}, {\"threshold\": 0.939, \"p\": 28005, \"fpr\": 0.017426428159261396, \"tpr\": 0.08948402071058739, \"n\": 8665}, {\"threshold\": 0.94, \"p\": 28005, \"fpr\": 0.017426428159261396, \"tpr\": 0.08948402071058739, \"n\": 8665}, {\"threshold\": 0.941, \"p\": 28005, \"fpr\": 0.010040392383150605, \"tpr\": 0.053133369041242634, \"n\": 8665}, {\"threshold\": 0.942, \"p\": 28005, \"fpr\": 0.010040392383150605, \"tpr\": 0.053133369041242634, \"n\": 8665}, {\"threshold\": 0.943, \"p\": 28005, \"fpr\": 0.010040392383150605, \"tpr\": 0.053026245313336905, \"n\": 8665}, {\"threshold\": 0.944, \"p\": 28005, \"fpr\": 0.010040392383150605, \"tpr\": 0.052990537404035, \"n\": 8665}, {\"threshold\": 0.945, \"p\": 28005, \"fpr\": 0.010040392383150605, \"tpr\": 0.052990537404035, \"n\": 8665}, {\"threshold\": 0.946, \"p\": 28005, \"fpr\": 0.010040392383150605, \"tpr\": 0.05295482949473308, \"n\": 8665}, {\"threshold\": 0.947, \"p\": 28005, \"fpr\": 0.010040392383150605, \"tpr\": 0.05295482949473308, \"n\": 8665}, {\"threshold\": 0.948, \"p\": 28005, \"fpr\": 0.009924985574148875, \"tpr\": 0.05295482949473308, \"n\": 8665}, {\"threshold\": 0.949, \"p\": 28005, \"fpr\": 0.009924985574148875, \"tpr\": 0.05281199785752544, \"n\": 8665}, {\"threshold\": 0.95, \"p\": 28005, \"fpr\": 0.009809578765147143, \"tpr\": 0.05281199785752544, \"n\": 8665}, {\"threshold\": 0.951, \"p\": 28005, \"fpr\": 0.00946335833814195, \"tpr\": 0.05159792894126049, \"n\": 8665}, {\"threshold\": 0.952, \"p\": 28005, \"fpr\": 0.00946335833814195, \"tpr\": 0.05159792894126049, \"n\": 8665}, {\"threshold\": 0.953, \"p\": 28005, \"fpr\": 0.008655510675129832, \"tpr\": 0.04763435100874844, \"n\": 8665}, {\"threshold\": 0.954, \"p\": 28005, \"fpr\": 0.008540103866128102, \"tpr\": 0.04759864309944653, \"n\": 8665}, {\"threshold\": 0.955, \"p\": 28005, \"fpr\": 0.008540103866128102, \"tpr\": 0.04759864309944653, \"n\": 8665}, {\"threshold\": 0.956, \"p\": 28005, \"fpr\": 0.008193883439122909, \"tpr\": 0.04563470808784146, \"n\": 8665}, {\"threshold\": 0.957, \"p\": 28005, \"fpr\": 0.008193883439122909, \"tpr\": 0.04556329226923764, \"n\": 8665}, {\"threshold\": 0.958, \"p\": 28005, \"fpr\": 0.008193883439122909, \"tpr\": 0.04552758435993572, \"n\": 8665}, {\"threshold\": 0.959, \"p\": 28005, \"fpr\": 0.008193883439122909, \"tpr\": 0.04552758435993572, \"n\": 8665}, {\"threshold\": 0.96, \"p\": 28005, \"fpr\": 0.008193883439122909, \"tpr\": 0.045491876450633816, \"n\": 8665}, {\"threshold\": 0.961, \"p\": 28005, \"fpr\": 0.007847663012117714, \"tpr\": 0.04527762899482235, \"n\": 8665}, {\"threshold\": 0.962, \"p\": 28005, \"fpr\": 0.004616272360069244, \"tpr\": 0.027352258525263348, \"n\": 8665}, {\"threshold\": 0.963, \"p\": 28005, \"fpr\": 0.004616272360069244, \"tpr\": 0.027245134797357615, \"n\": 8665}, {\"threshold\": 0.964, \"p\": 28005, \"fpr\": 0.004616272360069244, \"tpr\": 0.027245134797357615, \"n\": 8665}, {\"threshold\": 0.965, \"p\": 28005, \"fpr\": 0.004500865551067513, \"tpr\": 0.02695947152294233, \"n\": 8665}, {\"threshold\": 0.966, \"p\": 28005, \"fpr\": 0.004500865551067513, \"tpr\": 0.02695947152294233, \"n\": 8665}, {\"threshold\": 0.967, \"p\": 28005, \"fpr\": 0.004500865551067513, \"tpr\": 0.02695947152294233, \"n\": 8665}, {\"threshold\": 0.968, \"p\": 28005, \"fpr\": 0.004500865551067513, \"tpr\": 0.026923763613640423, \"n\": 8665}, {\"threshold\": 0.969, \"p\": 28005, \"fpr\": 0.004500865551067513, \"tpr\": 0.026923763613640423, \"n\": 8665}, {\"threshold\": 0.97, \"p\": 28005, \"fpr\": 0.003346797461050202, \"tpr\": 0.020067845027673628, \"n\": 8665}, {\"threshold\": 0.971, \"p\": 28005, \"fpr\": 0.003346797461050202, \"tpr\": 0.02003213711837172, \"n\": 8665}, {\"threshold\": 0.972, \"p\": 28005, \"fpr\": 0.003346797461050202, \"tpr\": 0.01999642920906981, \"n\": 8665}, {\"threshold\": 0.973, \"p\": 28005, \"fpr\": 0.003346797461050202, \"tpr\": 0.01999642920906981, \"n\": 8665}, {\"threshold\": 0.974, \"p\": 28005, \"fpr\": 0.003346797461050202, \"tpr\": 0.0199607212997679, \"n\": 8665}, {\"threshold\": 0.975, \"p\": 28005, \"fpr\": 0.003346797461050202, \"tpr\": 0.019603642206748796, \"n\": 8665}, {\"threshold\": 0.976, \"p\": 28005, \"fpr\": 0.003346797461050202, \"tpr\": 0.01910373147652205, \"n\": 8665}, {\"threshold\": 0.977, \"p\": 28005, \"fpr\": 0.003346797461050202, \"tpr\": 0.018996607748616317, \"n\": 8665}, {\"threshold\": 0.978, \"p\": 28005, \"fpr\": 0.003231390652048471, \"tpr\": 0.018496697018389574, \"n\": 8665}, {\"threshold\": 0.979, \"p\": 28005, \"fpr\": 0.003231390652048471, \"tpr\": 0.018496697018389574, \"n\": 8665}, {\"threshold\": 0.98, \"p\": 28005, \"fpr\": 0.003231390652048471, \"tpr\": 0.01838957329048384, \"n\": 8665}, {\"threshold\": 0.981, \"p\": 28005, \"fpr\": 0.002192729371032891, \"tpr\": 0.012890555257989645, \"n\": 8665}, {\"threshold\": 0.982, \"p\": 28005, \"fpr\": 0.002192729371032891, \"tpr\": 0.012854847348687734, \"n\": 8665}, {\"threshold\": 0.983, \"p\": 28005, \"fpr\": 0.002192729371032891, \"tpr\": 0.012819139439385823, \"n\": 8665}, {\"threshold\": 0.984, \"p\": 28005, \"fpr\": 0.00207732256203116, \"tpr\": 0.012676307802178183, \"n\": 8665}, {\"threshold\": 0.985, \"p\": 28005, \"fpr\": 0.0018465089440276976, \"tpr\": 0.01153365470451705, \"n\": 8665}, {\"threshold\": 0.986, \"p\": 28005, \"fpr\": 0.0017311021350259665, \"tpr\": 0.011247991430101767, \"n\": 8665}, {\"threshold\": 0.987, \"p\": 28005, \"fpr\": 0.0017311021350259665, \"tpr\": 0.011247991430101767, \"n\": 8665}, {\"threshold\": 0.988, \"p\": 28005, \"fpr\": 0.00103866128101558, \"tpr\": 0.00671308694875915, \"n\": 8665}, {\"threshold\": 0.989, \"p\": 28005, \"fpr\": 0.00103866128101558, \"tpr\": 0.00667737903945724, \"n\": 8665}, {\"threshold\": 0.99, \"p\": 28005, \"fpr\": 0.00103866128101558, \"tpr\": 0.00667737903945724, \"n\": 8665}, {\"threshold\": 0.991, \"p\": 28005, \"fpr\": 0.0009232544720138488, \"tpr\": 0.005249062667380825, \"n\": 8665}, {\"threshold\": 0.992, \"p\": 28005, \"fpr\": 0.0009232544720138488, \"tpr\": 0.005177646848777004, \"n\": 8665}, {\"threshold\": 0.993, \"p\": 28005, \"fpr\": 0.0008078476630121177, \"tpr\": 0.00478485984645599, \"n\": 8665}, {\"threshold\": 0.994, \"p\": 28005, \"fpr\": 0.0008078476630121177, \"tpr\": 0.00382074629530441, \"n\": 8665}, {\"threshold\": 0.995, \"p\": 28005, \"fpr\": 0.0008078476630121177, \"tpr\": 0.0034279592929833957, \"n\": 8665}, {\"threshold\": 0.996, \"p\": 28005, \"fpr\": 0.0005770340450086555, \"tpr\": 0.0029280485627566507, \"n\": 8665}, {\"threshold\": 0.997, \"p\": 28005, \"fpr\": 0.0001154068090017311, \"tpr\": 0.001535440099982146, \"n\": 8665}, {\"threshold\": 0.998, \"p\": 28005, \"fpr\": 0.0001154068090017311, \"tpr\": 0.0013926084627745045, \"n\": 8665}, {\"threshold\": 0.999, \"p\": 28005, \"fpr\": 0.0, \"tpr\": 0.0005356186395286556, \"n\": 8665}, {\"threshold\": 1.0, \"p\": 28005, \"fpr\": 0.0, \"tpr\": 0.0, \"n\": 8665}]}]]}, e);\n",
       "                });\n",
       "            })();\n",
       "        "
      ]
     },
     "metadata": {},
     "output_type": "display_data"
    }
   ],
   "source": [
    "selected_words_model.show(view='Evaluation')"
   ]
  },
  {
   "cell_type": "code",
   "execution_count": 72,
   "metadata": {
    "collapsed": true
   },
   "outputs": [],
   "source": [
    "graphlab.canvas.set_target('ipynb')"
   ]
  },
  {
   "cell_type": "code",
   "execution_count": 73,
   "metadata": {
    "collapsed": false
   },
   "outputs": [
    {
     "data": {
      "application/javascript": [
       "$(\"head\").append($(\"<link/>\").attr({\n",
       "  rel:  \"stylesheet\",\n",
       "  type: \"text/css\",\n",
       "  href: \"//cdnjs.cloudflare.com/ajax/libs/font-awesome/4.1.0/css/font-awesome.min.css\"\n",
       "}));\n",
       "$(\"head\").append($(\"<link/>\").attr({\n",
       "  rel:  \"stylesheet\",\n",
       "  type: \"text/css\",\n",
       "  href: \"https://static.turi.com/products/graphlab-create/2.1/canvas/css/canvas.css\"\n",
       "}));\n",
       "\n",
       "            (function(){\n",
       "\n",
       "                var e = null;\n",
       "                if (typeof element == 'undefined') {\n",
       "                    var scripts = document.getElementsByTagName('script');\n",
       "                    var thisScriptTag = scripts[scripts.length-1];\n",
       "                    var parentDiv = thisScriptTag.parentNode;\n",
       "                    e = document.createElement('div');\n",
       "                    parentDiv.appendChild(e);\n",
       "                } else {\n",
       "                    e = element[0];\n",
       "                }\n",
       "\n",
       "                if (typeof requirejs !== 'undefined') {\n",
       "                    // disable load timeout; ipython_app.js is large and can take a while to load.\n",
       "                    requirejs.config({waitSeconds: 0});\n",
       "                }\n",
       "\n",
       "                require(['https://static.turi.com/products/graphlab-create/2.1/canvas/js/ipython_app.js'], function(IPythonApp){\n",
       "                    var app = new IPythonApp();\n",
       "                    app.attachView('model','Evaluation', {\"comparison\": null, \"selected_variable\": {\"comparison\": null, \"name\": [\"selected_words_model\"], \"view_file\": \"model\", \"view_component\": \"Evaluation\", \"view_params\": {\"model_type\": \"regression\", \"view\": \"Evaluation\"}, \"view_components\": [\"Summary\", \"Evaluation\", \"Comparison\"], \"model_type\": \"regression\", \"attributes\": {\"section_titles\": [\"Schema\", \"Hyperparameters\", \"Training Summary\", \"Settings\", \"Highest Positive Coefficients\", \"Lowest Negative Coefficients\"], \"sections\": [[[\"Number of coefficients\", 12], [\"Number of examples\", 146861], [\"Number of classes\", 2], [\"Number of feature columns\", 11], [\"Number of unpacked features\", 11]], [[\"L1 penalty\", 0.0], [\"L2 penalty\", 0.01]], [[\"Solver\", \"newton\"], [\"Solver iterations\", 5], [\"Solver status\", \"SUCCESS: Optimal solution found.\"], [\"Training time (sec)\", 2.2233]], [[\"Log-likelihood\", 75402.828]], [[\"love\", 1.1572], [\"awesome\", 1.0063], [\"(intercept)\", 0.8997], [\"amazing\", 0.892], [\"great\", 0.6997]], [[\"horrible\", -1.7577], [\"terrible\", -1.7357], [\"awful\", -1.4381], [\"hate\", -1.283], [\"bad\", -0.9041]]]}, \"evaluations\": [[\"test_data\", {\"roc_curve\": [{\"threshold\": 0.0, \"p\": 28005, \"fpr\": 1.0, \"tpr\": 1.0, \"n\": 8665}, {\"threshold\": 0.001, \"p\": 28005, \"fpr\": 0.9998845931909983, \"tpr\": 1.0, \"n\": 8665}, {\"threshold\": 0.002, \"p\": 28005, \"fpr\": 0.9998845931909983, \"tpr\": 1.0, \"n\": 8665}, {\"threshold\": 0.003, \"p\": 28005, \"fpr\": 0.9997691863819965, \"tpr\": 1.0, \"n\": 8665}, {\"threshold\": 0.004, \"p\": 28005, \"fpr\": 0.9997691863819965, \"tpr\": 1.0, \"n\": 8665}, {\"threshold\": 0.005, \"p\": 28005, \"fpr\": 0.9997691863819965, \"tpr\": 1.0, \"n\": 8665}, {\"threshold\": 0.006, \"p\": 28005, \"fpr\": 0.9997691863819965, \"tpr\": 1.0, \"n\": 8665}, {\"threshold\": 0.007, \"p\": 28005, \"fpr\": 0.9997691863819965, \"tpr\": 1.0, \"n\": 8665}, {\"threshold\": 0.008, \"p\": 28005, \"fpr\": 0.9997691863819965, \"tpr\": 1.0, \"n\": 8665}, {\"threshold\": 0.009, \"p\": 28005, \"fpr\": 0.9997691863819965, \"tpr\": 1.0, \"n\": 8665}, {\"threshold\": 0.01, \"p\": 28005, \"fpr\": 0.9997691863819965, \"tpr\": 1.0, \"n\": 8665}, {\"threshold\": 0.011, \"p\": 28005, \"fpr\": 0.9997691863819965, \"tpr\": 1.0, \"n\": 8665}, {\"threshold\": 0.012, \"p\": 28005, \"fpr\": 0.9997691863819965, \"tpr\": 1.0, \"n\": 8665}, {\"threshold\": 0.013, \"p\": 28005, \"fpr\": 0.9996537795729948, \"tpr\": 1.0, \"n\": 8665}, {\"threshold\": 0.014, \"p\": 28005, \"fpr\": 0.999538372763993, \"tpr\": 1.0, \"n\": 8665}, {\"threshold\": 0.015, \"p\": 28005, \"fpr\": 0.999538372763993, \"tpr\": 1.0, \"n\": 8665}, {\"threshold\": 0.016, \"p\": 28005, \"fpr\": 0.999538372763993, \"tpr\": 1.0, \"n\": 8665}, {\"threshold\": 0.017, \"p\": 28005, \"fpr\": 0.999538372763993, \"tpr\": 1.0, \"n\": 8665}, {\"threshold\": 0.018, \"p\": 28005, \"fpr\": 0.999538372763993, \"tpr\": 1.0, \"n\": 8665}, {\"threshold\": 0.019, \"p\": 28005, \"fpr\": 0.9994229659549914, \"tpr\": 1.0, \"n\": 8665}, {\"threshold\": 0.02, \"p\": 28005, \"fpr\": 0.9994229659549914, \"tpr\": 1.0, \"n\": 8665}, {\"threshold\": 0.021, \"p\": 28005, \"fpr\": 0.9993075591459896, \"tpr\": 1.0, \"n\": 8665}, {\"threshold\": 0.022, \"p\": 28005, \"fpr\": 0.9993075591459896, \"tpr\": 1.0, \"n\": 8665}, {\"threshold\": 0.023, \"p\": 28005, \"fpr\": 0.9993075591459896, \"tpr\": 1.0, \"n\": 8665}, {\"threshold\": 0.024, \"p\": 28005, \"fpr\": 0.9993075591459896, \"tpr\": 1.0, \"n\": 8665}, {\"threshold\": 0.025, \"p\": 28005, \"fpr\": 0.9993075591459896, \"tpr\": 1.0, \"n\": 8665}, {\"threshold\": 0.026, \"p\": 28005, \"fpr\": 0.9993075591459896, \"tpr\": 1.0, \"n\": 8665}, {\"threshold\": 0.027, \"p\": 28005, \"fpr\": 0.9993075591459896, \"tpr\": 1.0, \"n\": 8665}, {\"threshold\": 0.028, \"p\": 28005, \"fpr\": 0.9993075591459896, \"tpr\": 1.0, \"n\": 8665}, {\"threshold\": 0.029, \"p\": 28005, \"fpr\": 0.9993075591459896, \"tpr\": 0.999964292090698, \"n\": 8665}, {\"threshold\": 0.03, \"p\": 28005, \"fpr\": 0.9993075591459896, \"tpr\": 0.999964292090698, \"n\": 8665}, {\"threshold\": 0.031, \"p\": 28005, \"fpr\": 0.9993075591459896, \"tpr\": 0.999964292090698, \"n\": 8665}, {\"threshold\": 0.032, \"p\": 28005, \"fpr\": 0.9993075591459896, \"tpr\": 0.999964292090698, \"n\": 8665}, {\"threshold\": 0.033, \"p\": 28005, \"fpr\": 0.9993075591459896, \"tpr\": 0.999964292090698, \"n\": 8665}, {\"threshold\": 0.034, \"p\": 28005, \"fpr\": 0.9993075591459896, \"tpr\": 0.999964292090698, \"n\": 8665}, {\"threshold\": 0.035, \"p\": 28005, \"fpr\": 0.9993075591459896, \"tpr\": 0.999964292090698, \"n\": 8665}, {\"threshold\": 0.036, \"p\": 28005, \"fpr\": 0.9993075591459896, \"tpr\": 0.999964292090698, \"n\": 8665}, {\"threshold\": 0.037, \"p\": 28005, \"fpr\": 0.9993075591459896, \"tpr\": 0.999964292090698, \"n\": 8665}, {\"threshold\": 0.038, \"p\": 28005, \"fpr\": 0.9993075591459896, \"tpr\": 0.999964292090698, \"n\": 8665}, {\"threshold\": 0.039, \"p\": 28005, \"fpr\": 0.9993075591459896, \"tpr\": 0.999964292090698, \"n\": 8665}, {\"threshold\": 0.04, \"p\": 28005, \"fpr\": 0.9993075591459896, \"tpr\": 0.999964292090698, \"n\": 8665}, {\"threshold\": 0.041, \"p\": 28005, \"fpr\": 0.9993075591459896, \"tpr\": 0.999964292090698, \"n\": 8665}, {\"threshold\": 0.042, \"p\": 28005, \"fpr\": 0.9993075591459896, \"tpr\": 0.9999285841813962, \"n\": 8665}, {\"threshold\": 0.043, \"p\": 28005, \"fpr\": 0.9991921523369879, \"tpr\": 0.9999285841813962, \"n\": 8665}, {\"threshold\": 0.044, \"p\": 28005, \"fpr\": 0.9991921523369879, \"tpr\": 0.9999285841813962, \"n\": 8665}, {\"threshold\": 0.045, \"p\": 28005, \"fpr\": 0.9991921523369879, \"tpr\": 0.9999285841813962, \"n\": 8665}, {\"threshold\": 0.046, \"p\": 28005, \"fpr\": 0.9991921523369879, \"tpr\": 0.9999285841813962, \"n\": 8665}, {\"threshold\": 0.047, \"p\": 28005, \"fpr\": 0.9991921523369879, \"tpr\": 0.9999285841813962, \"n\": 8665}, {\"threshold\": 0.048, \"p\": 28005, \"fpr\": 0.9991921523369879, \"tpr\": 0.9999285841813962, \"n\": 8665}, {\"threshold\": 0.049, \"p\": 28005, \"fpr\": 0.9991921523369879, \"tpr\": 0.9999285841813962, \"n\": 8665}, {\"threshold\": 0.05, \"p\": 28005, \"fpr\": 0.9991921523369879, \"tpr\": 0.9999285841813962, \"n\": 8665}, {\"threshold\": 0.051, \"p\": 28005, \"fpr\": 0.9991921523369879, \"tpr\": 0.9999285841813962, \"n\": 8665}, {\"threshold\": 0.052, \"p\": 28005, \"fpr\": 0.9991921523369879, \"tpr\": 0.9999285841813962, \"n\": 8665}, {\"threshold\": 0.053, \"p\": 28005, \"fpr\": 0.9991921523369879, \"tpr\": 0.9999285841813962, \"n\": 8665}, {\"threshold\": 0.054, \"p\": 28005, \"fpr\": 0.9991921523369879, \"tpr\": 0.9999285841813962, \"n\": 8665}, {\"threshold\": 0.055, \"p\": 28005, \"fpr\": 0.9991921523369879, \"tpr\": 0.9999285841813962, \"n\": 8665}, {\"threshold\": 0.056, \"p\": 28005, \"fpr\": 0.9991921523369879, \"tpr\": 0.9999285841813962, \"n\": 8665}, {\"threshold\": 0.057, \"p\": 28005, \"fpr\": 0.9991921523369879, \"tpr\": 0.9999285841813962, \"n\": 8665}, {\"threshold\": 0.058, \"p\": 28005, \"fpr\": 0.9991921523369879, \"tpr\": 0.9999285841813962, \"n\": 8665}, {\"threshold\": 0.059, \"p\": 28005, \"fpr\": 0.9991921523369879, \"tpr\": 0.9999285841813962, \"n\": 8665}, {\"threshold\": 0.06, \"p\": 28005, \"fpr\": 0.9991921523369879, \"tpr\": 0.9999285841813962, \"n\": 8665}, {\"threshold\": 0.061, \"p\": 28005, \"fpr\": 0.9991921523369879, \"tpr\": 0.9999285841813962, \"n\": 8665}, {\"threshold\": 0.062, \"p\": 28005, \"fpr\": 0.9991921523369879, \"tpr\": 0.9999285841813962, \"n\": 8665}, {\"threshold\": 0.063, \"p\": 28005, \"fpr\": 0.9991921523369879, \"tpr\": 0.9999285841813962, \"n\": 8665}, {\"threshold\": 0.064, \"p\": 28005, \"fpr\": 0.9991921523369879, \"tpr\": 0.9999285841813962, \"n\": 8665}, {\"threshold\": 0.065, \"p\": 28005, \"fpr\": 0.9991921523369879, \"tpr\": 0.9998571683627924, \"n\": 8665}, {\"threshold\": 0.066, \"p\": 28005, \"fpr\": 0.9991921523369879, \"tpr\": 0.9998571683627924, \"n\": 8665}, {\"threshold\": 0.067, \"p\": 28005, \"fpr\": 0.9990767455279862, \"tpr\": 0.9998571683627924, \"n\": 8665}, {\"threshold\": 0.068, \"p\": 28005, \"fpr\": 0.9990767455279862, \"tpr\": 0.9998571683627924, \"n\": 8665}, {\"threshold\": 0.069, \"p\": 28005, \"fpr\": 0.9989613387189844, \"tpr\": 0.9997857525441886, \"n\": 8665}, {\"threshold\": 0.07, \"p\": 28005, \"fpr\": 0.9988459319099827, \"tpr\": 0.9997857525441886, \"n\": 8665}, {\"threshold\": 0.071, \"p\": 28005, \"fpr\": 0.9983843046739758, \"tpr\": 0.9997857525441886, \"n\": 8665}, {\"threshold\": 0.072, \"p\": 28005, \"fpr\": 0.9983843046739758, \"tpr\": 0.9997857525441886, \"n\": 8665}, {\"threshold\": 0.073, \"p\": 28005, \"fpr\": 0.9983843046739758, \"tpr\": 0.9997857525441886, \"n\": 8665}, {\"threshold\": 0.074, \"p\": 28005, \"fpr\": 0.9983843046739758, \"tpr\": 0.9997857525441886, \"n\": 8665}, {\"threshold\": 0.075, \"p\": 28005, \"fpr\": 0.9983843046739758, \"tpr\": 0.9997857525441886, \"n\": 8665}, {\"threshold\": 0.076, \"p\": 28005, \"fpr\": 0.9983843046739758, \"tpr\": 0.9997857525441886, \"n\": 8665}, {\"threshold\": 0.077, \"p\": 28005, \"fpr\": 0.9983843046739758, \"tpr\": 0.9997857525441886, \"n\": 8665}, {\"threshold\": 0.078, \"p\": 28005, \"fpr\": 0.9983843046739758, \"tpr\": 0.9997857525441886, \"n\": 8665}, {\"threshold\": 0.079, \"p\": 28005, \"fpr\": 0.9983843046739758, \"tpr\": 0.9997857525441886, \"n\": 8665}, {\"threshold\": 0.08, \"p\": 28005, \"fpr\": 0.9983843046739758, \"tpr\": 0.9997857525441886, \"n\": 8665}, {\"threshold\": 0.081, \"p\": 28005, \"fpr\": 0.9983843046739758, \"tpr\": 0.9997857525441886, \"n\": 8665}, {\"threshold\": 0.082, \"p\": 28005, \"fpr\": 0.9983843046739758, \"tpr\": 0.9997857525441886, \"n\": 8665}, {\"threshold\": 0.083, \"p\": 28005, \"fpr\": 0.9983843046739758, \"tpr\": 0.9997857525441886, \"n\": 8665}, {\"threshold\": 0.084, \"p\": 28005, \"fpr\": 0.9983843046739758, \"tpr\": 0.9997857525441886, \"n\": 8665}, {\"threshold\": 0.085, \"p\": 28005, \"fpr\": 0.9983843046739758, \"tpr\": 0.9997857525441886, \"n\": 8665}, {\"threshold\": 0.086, \"p\": 28005, \"fpr\": 0.9983843046739758, \"tpr\": 0.9997857525441886, \"n\": 8665}, {\"threshold\": 0.087, \"p\": 28005, \"fpr\": 0.9982688978649741, \"tpr\": 0.9997857525441886, \"n\": 8665}, {\"threshold\": 0.088, \"p\": 28005, \"fpr\": 0.9982688978649741, \"tpr\": 0.9997857525441886, \"n\": 8665}, {\"threshold\": 0.089, \"p\": 28005, \"fpr\": 0.9982688978649741, \"tpr\": 0.9997857525441886, \"n\": 8665}, {\"threshold\": 0.09, \"p\": 28005, \"fpr\": 0.9982688978649741, \"tpr\": 0.9997857525441886, \"n\": 8665}, {\"threshold\": 0.091, \"p\": 28005, \"fpr\": 0.9982688978649741, \"tpr\": 0.9997857525441886, \"n\": 8665}, {\"threshold\": 0.092, \"p\": 28005, \"fpr\": 0.9981534910559723, \"tpr\": 0.9997143367255847, \"n\": 8665}, {\"threshold\": 0.093, \"p\": 28005, \"fpr\": 0.9981534910559723, \"tpr\": 0.9997143367255847, \"n\": 8665}, {\"threshold\": 0.094, \"p\": 28005, \"fpr\": 0.9981534910559723, \"tpr\": 0.9997143367255847, \"n\": 8665}, {\"threshold\": 0.095, \"p\": 28005, \"fpr\": 0.9981534910559723, \"tpr\": 0.9997143367255847, \"n\": 8665}, {\"threshold\": 0.096, \"p\": 28005, \"fpr\": 0.9981534910559723, \"tpr\": 0.9997143367255847, \"n\": 8665}, {\"threshold\": 0.097, \"p\": 28005, \"fpr\": 0.9981534910559723, \"tpr\": 0.9997143367255847, \"n\": 8665}, {\"threshold\": 0.098, \"p\": 28005, \"fpr\": 0.9981534910559723, \"tpr\": 0.9997143367255847, \"n\": 8665}, {\"threshold\": 0.099, \"p\": 28005, \"fpr\": 0.9981534910559723, \"tpr\": 0.9997143367255847, \"n\": 8665}, {\"threshold\": 0.1, \"p\": 28005, \"fpr\": 0.9981534910559723, \"tpr\": 0.9997143367255847, \"n\": 8665}, {\"threshold\": 0.101, \"p\": 28005, \"fpr\": 0.9981534910559723, \"tpr\": 0.9997143367255847, \"n\": 8665}, {\"threshold\": 0.102, \"p\": 28005, \"fpr\": 0.9981534910559723, \"tpr\": 0.9997143367255847, \"n\": 8665}, {\"threshold\": 0.103, \"p\": 28005, \"fpr\": 0.9981534910559723, \"tpr\": 0.9997143367255847, \"n\": 8665}, {\"threshold\": 0.104, \"p\": 28005, \"fpr\": 0.9981534910559723, \"tpr\": 0.9997143367255847, \"n\": 8665}, {\"threshold\": 0.105, \"p\": 28005, \"fpr\": 0.9981534910559723, \"tpr\": 0.9997143367255847, \"n\": 8665}, {\"threshold\": 0.106, \"p\": 28005, \"fpr\": 0.9981534910559723, \"tpr\": 0.9996786288162828, \"n\": 8665}, {\"threshold\": 0.107, \"p\": 28005, \"fpr\": 0.9981534910559723, \"tpr\": 0.9996786288162828, \"n\": 8665}, {\"threshold\": 0.108, \"p\": 28005, \"fpr\": 0.9979226774379688, \"tpr\": 0.9996786288162828, \"n\": 8665}, {\"threshold\": 0.109, \"p\": 28005, \"fpr\": 0.9979226774379688, \"tpr\": 0.9996786288162828, \"n\": 8665}, {\"threshold\": 0.11, \"p\": 28005, \"fpr\": 0.9979226774379688, \"tpr\": 0.9996786288162828, \"n\": 8665}, {\"threshold\": 0.111, \"p\": 28005, \"fpr\": 0.9979226774379688, \"tpr\": 0.9996786288162828, \"n\": 8665}, {\"threshold\": 0.112, \"p\": 28005, \"fpr\": 0.9979226774379688, \"tpr\": 0.9996786288162828, \"n\": 8665}, {\"threshold\": 0.113, \"p\": 28005, \"fpr\": 0.9979226774379688, \"tpr\": 0.9996786288162828, \"n\": 8665}, {\"threshold\": 0.114, \"p\": 28005, \"fpr\": 0.9979226774379688, \"tpr\": 0.9996786288162828, \"n\": 8665}, {\"threshold\": 0.115, \"p\": 28005, \"fpr\": 0.9979226774379688, \"tpr\": 0.9996786288162828, \"n\": 8665}, {\"threshold\": 0.116, \"p\": 28005, \"fpr\": 0.9979226774379688, \"tpr\": 0.9996786288162828, \"n\": 8665}, {\"threshold\": 0.117, \"p\": 28005, \"fpr\": 0.9979226774379688, \"tpr\": 0.9996786288162828, \"n\": 8665}, {\"threshold\": 0.118, \"p\": 28005, \"fpr\": 0.9979226774379688, \"tpr\": 0.9996786288162828, \"n\": 8665}, {\"threshold\": 0.119, \"p\": 28005, \"fpr\": 0.9979226774379688, \"tpr\": 0.9996786288162828, \"n\": 8665}, {\"threshold\": 0.12, \"p\": 28005, \"fpr\": 0.9979226774379688, \"tpr\": 0.9996786288162828, \"n\": 8665}, {\"threshold\": 0.121, \"p\": 28005, \"fpr\": 0.9979226774379688, \"tpr\": 0.9996786288162828, \"n\": 8665}, {\"threshold\": 0.122, \"p\": 28005, \"fpr\": 0.9978072706289671, \"tpr\": 0.9996786288162828, \"n\": 8665}, {\"threshold\": 0.123, \"p\": 28005, \"fpr\": 0.9976918638199653, \"tpr\": 0.9996786288162828, \"n\": 8665}, {\"threshold\": 0.124, \"p\": 28005, \"fpr\": 0.9976918638199653, \"tpr\": 0.9996786288162828, \"n\": 8665}, {\"threshold\": 0.125, \"p\": 28005, \"fpr\": 0.9976918638199653, \"tpr\": 0.9996786288162828, \"n\": 8665}, {\"threshold\": 0.126, \"p\": 28005, \"fpr\": 0.9976918638199653, \"tpr\": 0.9996786288162828, \"n\": 8665}, {\"threshold\": 0.127, \"p\": 28005, \"fpr\": 0.9976918638199653, \"tpr\": 0.9996786288162828, \"n\": 8665}, {\"threshold\": 0.128, \"p\": 28005, \"fpr\": 0.9976918638199653, \"tpr\": 0.9996786288162828, \"n\": 8665}, {\"threshold\": 0.129, \"p\": 28005, \"fpr\": 0.9976918638199653, \"tpr\": 0.9996786288162828, \"n\": 8665}, {\"threshold\": 0.13, \"p\": 28005, \"fpr\": 0.9976918638199653, \"tpr\": 0.9996786288162828, \"n\": 8665}, {\"threshold\": 0.131, \"p\": 28005, \"fpr\": 0.9976918638199653, \"tpr\": 0.9996786288162828, \"n\": 8665}, {\"threshold\": 0.132, \"p\": 28005, \"fpr\": 0.9976918638199653, \"tpr\": 0.9996786288162828, \"n\": 8665}, {\"threshold\": 0.133, \"p\": 28005, \"fpr\": 0.9976918638199653, \"tpr\": 0.9996786288162828, \"n\": 8665}, {\"threshold\": 0.134, \"p\": 28005, \"fpr\": 0.9975764570109636, \"tpr\": 0.9996786288162828, \"n\": 8665}, {\"threshold\": 0.135, \"p\": 28005, \"fpr\": 0.9975764570109636, \"tpr\": 0.9996786288162828, \"n\": 8665}, {\"threshold\": 0.136, \"p\": 28005, \"fpr\": 0.9975764570109636, \"tpr\": 0.9996786288162828, \"n\": 8665}, {\"threshold\": 0.137, \"p\": 28005, \"fpr\": 0.9975764570109636, \"tpr\": 0.9996786288162828, \"n\": 8665}, {\"threshold\": 0.138, \"p\": 28005, \"fpr\": 0.9975764570109636, \"tpr\": 0.9996786288162828, \"n\": 8665}, {\"threshold\": 0.139, \"p\": 28005, \"fpr\": 0.9975764570109636, \"tpr\": 0.9996786288162828, \"n\": 8665}, {\"threshold\": 0.14, \"p\": 28005, \"fpr\": 0.997461050201962, \"tpr\": 0.9996786288162828, \"n\": 8665}, {\"threshold\": 0.141, \"p\": 28005, \"fpr\": 0.9972302365839585, \"tpr\": 0.9996786288162828, \"n\": 8665}, {\"threshold\": 0.142, \"p\": 28005, \"fpr\": 0.9972302365839585, \"tpr\": 0.9996786288162828, \"n\": 8665}, {\"threshold\": 0.143, \"p\": 28005, \"fpr\": 0.9972302365839585, \"tpr\": 0.9996786288162828, \"n\": 8665}, {\"threshold\": 0.144, \"p\": 28005, \"fpr\": 0.9972302365839585, \"tpr\": 0.9996786288162828, \"n\": 8665}, {\"threshold\": 0.145, \"p\": 28005, \"fpr\": 0.9972302365839585, \"tpr\": 0.9996786288162828, \"n\": 8665}, {\"threshold\": 0.146, \"p\": 28005, \"fpr\": 0.9972302365839585, \"tpr\": 0.9996786288162828, \"n\": 8665}, {\"threshold\": 0.147, \"p\": 28005, \"fpr\": 0.9971148297749567, \"tpr\": 0.9995715050883771, \"n\": 8665}, {\"threshold\": 0.148, \"p\": 28005, \"fpr\": 0.9971148297749567, \"tpr\": 0.9995715050883771, \"n\": 8665}, {\"threshold\": 0.149, \"p\": 28005, \"fpr\": 0.9971148297749567, \"tpr\": 0.9995715050883771, \"n\": 8665}, {\"threshold\": 0.15, \"p\": 28005, \"fpr\": 0.9968840161569532, \"tpr\": 0.9995715050883771, \"n\": 8665}, {\"threshold\": 0.151, \"p\": 28005, \"fpr\": 0.9968840161569532, \"tpr\": 0.9995715050883771, \"n\": 8665}, {\"threshold\": 0.152, \"p\": 28005, \"fpr\": 0.9968840161569532, \"tpr\": 0.9995715050883771, \"n\": 8665}, {\"threshold\": 0.153, \"p\": 28005, \"fpr\": 0.9968840161569532, \"tpr\": 0.9995715050883771, \"n\": 8665}, {\"threshold\": 0.154, \"p\": 28005, \"fpr\": 0.9968840161569532, \"tpr\": 0.9995715050883771, \"n\": 8665}, {\"threshold\": 0.155, \"p\": 28005, \"fpr\": 0.9968840161569532, \"tpr\": 0.9995715050883771, \"n\": 8665}, {\"threshold\": 0.156, \"p\": 28005, \"fpr\": 0.9968840161569532, \"tpr\": 0.9995715050883771, \"n\": 8665}, {\"threshold\": 0.157, \"p\": 28005, \"fpr\": 0.9968840161569532, \"tpr\": 0.9995715050883771, \"n\": 8665}, {\"threshold\": 0.158, \"p\": 28005, \"fpr\": 0.9968840161569532, \"tpr\": 0.9995715050883771, \"n\": 8665}, {\"threshold\": 0.159, \"p\": 28005, \"fpr\": 0.9963069821119446, \"tpr\": 0.9995715050883771, \"n\": 8665}, {\"threshold\": 0.16, \"p\": 28005, \"fpr\": 0.9963069821119446, \"tpr\": 0.9995715050883771, \"n\": 8665}, {\"threshold\": 0.161, \"p\": 28005, \"fpr\": 0.9963069821119446, \"tpr\": 0.9995715050883771, \"n\": 8665}, {\"threshold\": 0.162, \"p\": 28005, \"fpr\": 0.9963069821119446, \"tpr\": 0.9995715050883771, \"n\": 8665}, {\"threshold\": 0.163, \"p\": 28005, \"fpr\": 0.9963069821119446, \"tpr\": 0.9995715050883771, \"n\": 8665}, {\"threshold\": 0.164, \"p\": 28005, \"fpr\": 0.9963069821119446, \"tpr\": 0.9995715050883771, \"n\": 8665}, {\"threshold\": 0.165, \"p\": 28005, \"fpr\": 0.9963069821119446, \"tpr\": 0.9995715050883771, \"n\": 8665}, {\"threshold\": 0.166, \"p\": 28005, \"fpr\": 0.9963069821119446, \"tpr\": 0.9995715050883771, \"n\": 8665}, {\"threshold\": 0.167, \"p\": 28005, \"fpr\": 0.9963069821119446, \"tpr\": 0.9995715050883771, \"n\": 8665}, {\"threshold\": 0.168, \"p\": 28005, \"fpr\": 0.9963069821119446, \"tpr\": 0.9995715050883771, \"n\": 8665}, {\"threshold\": 0.169, \"p\": 28005, \"fpr\": 0.9963069821119446, \"tpr\": 0.9995715050883771, \"n\": 8665}, {\"threshold\": 0.17, \"p\": 28005, \"fpr\": 0.9963069821119446, \"tpr\": 0.9995715050883771, \"n\": 8665}, {\"threshold\": 0.171, \"p\": 28005, \"fpr\": 0.9963069821119446, \"tpr\": 0.9995715050883771, \"n\": 8665}, {\"threshold\": 0.172, \"p\": 28005, \"fpr\": 0.9963069821119446, \"tpr\": 0.9995715050883771, \"n\": 8665}, {\"threshold\": 0.173, \"p\": 28005, \"fpr\": 0.9963069821119446, \"tpr\": 0.9995715050883771, \"n\": 8665}, {\"threshold\": 0.174, \"p\": 28005, \"fpr\": 0.9963069821119446, \"tpr\": 0.9995357971790751, \"n\": 8665}, {\"threshold\": 0.175, \"p\": 28005, \"fpr\": 0.9963069821119446, \"tpr\": 0.9995357971790751, \"n\": 8665}, {\"threshold\": 0.176, \"p\": 28005, \"fpr\": 0.9963069821119446, \"tpr\": 0.9995357971790751, \"n\": 8665}, {\"threshold\": 0.177, \"p\": 28005, \"fpr\": 0.9963069821119446, \"tpr\": 0.9995357971790751, \"n\": 8665}, {\"threshold\": 0.178, \"p\": 28005, \"fpr\": 0.9963069821119446, \"tpr\": 0.9995357971790751, \"n\": 8665}, {\"threshold\": 0.179, \"p\": 28005, \"fpr\": 0.9963069821119446, \"tpr\": 0.9995357971790751, \"n\": 8665}, {\"threshold\": 0.18, \"p\": 28005, \"fpr\": 0.9963069821119446, \"tpr\": 0.9995357971790751, \"n\": 8665}, {\"threshold\": 0.181, \"p\": 28005, \"fpr\": 0.9963069821119446, \"tpr\": 0.9995357971790751, \"n\": 8665}, {\"threshold\": 0.182, \"p\": 28005, \"fpr\": 0.9963069821119446, \"tpr\": 0.9995357971790751, \"n\": 8665}, {\"threshold\": 0.183, \"p\": 28005, \"fpr\": 0.9963069821119446, \"tpr\": 0.9995357971790751, \"n\": 8665}, {\"threshold\": 0.184, \"p\": 28005, \"fpr\": 0.9963069821119446, \"tpr\": 0.9995357971790751, \"n\": 8665}, {\"threshold\": 0.185, \"p\": 28005, \"fpr\": 0.9963069821119446, \"tpr\": 0.9995357971790751, \"n\": 8665}, {\"threshold\": 0.186, \"p\": 28005, \"fpr\": 0.9963069821119446, \"tpr\": 0.9995357971790751, \"n\": 8665}, {\"threshold\": 0.187, \"p\": 28005, \"fpr\": 0.9963069821119446, \"tpr\": 0.9995357971790751, \"n\": 8665}, {\"threshold\": 0.188, \"p\": 28005, \"fpr\": 0.9963069821119446, \"tpr\": 0.9995357971790751, \"n\": 8665}, {\"threshold\": 0.189, \"p\": 28005, \"fpr\": 0.9963069821119446, \"tpr\": 0.9995357971790751, \"n\": 8665}, {\"threshold\": 0.19, \"p\": 28005, \"fpr\": 0.9963069821119446, \"tpr\": 0.9995357971790751, \"n\": 8665}, {\"threshold\": 0.191, \"p\": 28005, \"fpr\": 0.9963069821119446, \"tpr\": 0.9995357971790751, \"n\": 8665}, {\"threshold\": 0.192, \"p\": 28005, \"fpr\": 0.9961915753029429, \"tpr\": 0.9995000892697733, \"n\": 8665}, {\"threshold\": 0.193, \"p\": 28005, \"fpr\": 0.9961915753029429, \"tpr\": 0.9994643813604713, \"n\": 8665}, {\"threshold\": 0.194, \"p\": 28005, \"fpr\": 0.9961915753029429, \"tpr\": 0.9994643813604713, \"n\": 8665}, {\"threshold\": 0.195, \"p\": 28005, \"fpr\": 0.9961915753029429, \"tpr\": 0.9994643813604713, \"n\": 8665}, {\"threshold\": 0.196, \"p\": 28005, \"fpr\": 0.9960761684939411, \"tpr\": 0.9994286734511695, \"n\": 8665}, {\"threshold\": 0.197, \"p\": 28005, \"fpr\": 0.9960761684939411, \"tpr\": 0.9994286734511695, \"n\": 8665}, {\"threshold\": 0.198, \"p\": 28005, \"fpr\": 0.9960761684939411, \"tpr\": 0.9994286734511695, \"n\": 8665}, {\"threshold\": 0.199, \"p\": 28005, \"fpr\": 0.9960761684939411, \"tpr\": 0.9994286734511695, \"n\": 8665}, {\"threshold\": 0.2, \"p\": 28005, \"fpr\": 0.9960761684939411, \"tpr\": 0.9994286734511695, \"n\": 8665}, {\"threshold\": 0.201, \"p\": 28005, \"fpr\": 0.9960761684939411, \"tpr\": 0.9994286734511695, \"n\": 8665}, {\"threshold\": 0.202, \"p\": 28005, \"fpr\": 0.9960761684939411, \"tpr\": 0.9994286734511695, \"n\": 8665}, {\"threshold\": 0.203, \"p\": 28005, \"fpr\": 0.9960761684939411, \"tpr\": 0.9994286734511695, \"n\": 8665}, {\"threshold\": 0.204, \"p\": 28005, \"fpr\": 0.9960761684939411, \"tpr\": 0.9994286734511695, \"n\": 8665}, {\"threshold\": 0.205, \"p\": 28005, \"fpr\": 0.9960761684939411, \"tpr\": 0.9994286734511695, \"n\": 8665}, {\"threshold\": 0.206, \"p\": 28005, \"fpr\": 0.9960761684939411, \"tpr\": 0.9994286734511695, \"n\": 8665}, {\"threshold\": 0.207, \"p\": 28005, \"fpr\": 0.9960761684939411, \"tpr\": 0.9994286734511695, \"n\": 8665}, {\"threshold\": 0.208, \"p\": 28005, \"fpr\": 0.9960761684939411, \"tpr\": 0.9994286734511695, \"n\": 8665}, {\"threshold\": 0.209, \"p\": 28005, \"fpr\": 0.9960761684939411, \"tpr\": 0.9994286734511695, \"n\": 8665}, {\"threshold\": 0.21, \"p\": 28005, \"fpr\": 0.9960761684939411, \"tpr\": 0.9994286734511695, \"n\": 8665}, {\"threshold\": 0.211, \"p\": 28005, \"fpr\": 0.9960761684939411, \"tpr\": 0.9994286734511695, \"n\": 8665}, {\"threshold\": 0.212, \"p\": 28005, \"fpr\": 0.9960761684939411, \"tpr\": 0.9994286734511695, \"n\": 8665}, {\"threshold\": 0.213, \"p\": 28005, \"fpr\": 0.9960761684939411, \"tpr\": 0.9994286734511695, \"n\": 8665}, {\"threshold\": 0.214, \"p\": 28005, \"fpr\": 0.9960761684939411, \"tpr\": 0.9994286734511695, \"n\": 8665}, {\"threshold\": 0.215, \"p\": 28005, \"fpr\": 0.9960761684939411, \"tpr\": 0.9994286734511695, \"n\": 8665}, {\"threshold\": 0.216, \"p\": 28005, \"fpr\": 0.9960761684939411, \"tpr\": 0.9994286734511695, \"n\": 8665}, {\"threshold\": 0.217, \"p\": 28005, \"fpr\": 0.9951529140219273, \"tpr\": 0.9993572576325657, \"n\": 8665}, {\"threshold\": 0.218, \"p\": 28005, \"fpr\": 0.9951529140219273, \"tpr\": 0.9993572576325657, \"n\": 8665}, {\"threshold\": 0.219, \"p\": 28005, \"fpr\": 0.9950375072129256, \"tpr\": 0.9993215497232637, \"n\": 8665}, {\"threshold\": 0.22, \"p\": 28005, \"fpr\": 0.9950375072129256, \"tpr\": 0.9993215497232637, \"n\": 8665}, {\"threshold\": 0.221, \"p\": 28005, \"fpr\": 0.9950375072129256, \"tpr\": 0.9993215497232637, \"n\": 8665}, {\"threshold\": 0.222, \"p\": 28005, \"fpr\": 0.9950375072129256, \"tpr\": 0.9993215497232637, \"n\": 8665}, {\"threshold\": 0.223, \"p\": 28005, \"fpr\": 0.9950375072129256, \"tpr\": 0.9993215497232637, \"n\": 8665}, {\"threshold\": 0.224, \"p\": 28005, \"fpr\": 0.9950375072129256, \"tpr\": 0.9993215497232637, \"n\": 8665}, {\"threshold\": 0.225, \"p\": 28005, \"fpr\": 0.9950375072129256, \"tpr\": 0.9993215497232637, \"n\": 8665}, {\"threshold\": 0.226, \"p\": 28005, \"fpr\": 0.9950375072129256, \"tpr\": 0.9993215497232637, \"n\": 8665}, {\"threshold\": 0.227, \"p\": 28005, \"fpr\": 0.9950375072129256, \"tpr\": 0.9993215497232637, \"n\": 8665}, {\"threshold\": 0.228, \"p\": 28005, \"fpr\": 0.9950375072129256, \"tpr\": 0.9993215497232637, \"n\": 8665}, {\"threshold\": 0.229, \"p\": 28005, \"fpr\": 0.9950375072129256, \"tpr\": 0.9993215497232637, \"n\": 8665}, {\"threshold\": 0.23, \"p\": 28005, \"fpr\": 0.9950375072129256, \"tpr\": 0.9993215497232637, \"n\": 8665}, {\"threshold\": 0.231, \"p\": 28005, \"fpr\": 0.9950375072129256, \"tpr\": 0.9993215497232637, \"n\": 8665}, {\"threshold\": 0.232, \"p\": 28005, \"fpr\": 0.9950375072129256, \"tpr\": 0.9993215497232637, \"n\": 8665}, {\"threshold\": 0.233, \"p\": 28005, \"fpr\": 0.9950375072129256, \"tpr\": 0.9993215497232637, \"n\": 8665}, {\"threshold\": 0.234, \"p\": 28005, \"fpr\": 0.9950375072129256, \"tpr\": 0.9993215497232637, \"n\": 8665}, {\"threshold\": 0.235, \"p\": 28005, \"fpr\": 0.9950375072129256, \"tpr\": 0.9993215497232637, \"n\": 8665}, {\"threshold\": 0.236, \"p\": 28005, \"fpr\": 0.9950375072129256, \"tpr\": 0.9993215497232637, \"n\": 8665}, {\"threshold\": 0.237, \"p\": 28005, \"fpr\": 0.9950375072129256, \"tpr\": 0.9993215497232637, \"n\": 8665}, {\"threshold\": 0.238, \"p\": 28005, \"fpr\": 0.9950375072129256, \"tpr\": 0.9993215497232637, \"n\": 8665}, {\"threshold\": 0.239, \"p\": 28005, \"fpr\": 0.9950375072129256, \"tpr\": 0.9993215497232637, \"n\": 8665}, {\"threshold\": 0.24, \"p\": 28005, \"fpr\": 0.9950375072129256, \"tpr\": 0.9993215497232637, \"n\": 8665}, {\"threshold\": 0.241, \"p\": 28005, \"fpr\": 0.9950375072129256, \"tpr\": 0.9993215497232637, \"n\": 8665}, {\"threshold\": 0.242, \"p\": 28005, \"fpr\": 0.9950375072129256, \"tpr\": 0.9993215497232637, \"n\": 8665}, {\"threshold\": 0.243, \"p\": 28005, \"fpr\": 0.9950375072129256, \"tpr\": 0.9993215497232637, \"n\": 8665}, {\"threshold\": 0.244, \"p\": 28005, \"fpr\": 0.9950375072129256, \"tpr\": 0.9993215497232637, \"n\": 8665}, {\"threshold\": 0.245, \"p\": 28005, \"fpr\": 0.9950375072129256, \"tpr\": 0.9993215497232637, \"n\": 8665}, {\"threshold\": 0.246, \"p\": 28005, \"fpr\": 0.9950375072129256, \"tpr\": 0.9993215497232637, \"n\": 8665}, {\"threshold\": 0.247, \"p\": 28005, \"fpr\": 0.9950375072129256, \"tpr\": 0.9993215497232637, \"n\": 8665}, {\"threshold\": 0.248, \"p\": 28005, \"fpr\": 0.9949221004039238, \"tpr\": 0.9993215497232637, \"n\": 8665}, {\"threshold\": 0.249, \"p\": 28005, \"fpr\": 0.9949221004039238, \"tpr\": 0.9993215497232637, \"n\": 8665}, {\"threshold\": 0.25, \"p\": 28005, \"fpr\": 0.9949221004039238, \"tpr\": 0.9993215497232637, \"n\": 8665}, {\"threshold\": 0.251, \"p\": 28005, \"fpr\": 0.9949221004039238, \"tpr\": 0.9993215497232637, \"n\": 8665}, {\"threshold\": 0.252, \"p\": 28005, \"fpr\": 0.9949221004039238, \"tpr\": 0.9993215497232637, \"n\": 8665}, {\"threshold\": 0.253, \"p\": 28005, \"fpr\": 0.9949221004039238, \"tpr\": 0.9993215497232637, \"n\": 8665}, {\"threshold\": 0.254, \"p\": 28005, \"fpr\": 0.9949221004039238, \"tpr\": 0.9993215497232637, \"n\": 8665}, {\"threshold\": 0.255, \"p\": 28005, \"fpr\": 0.9949221004039238, \"tpr\": 0.9993215497232637, \"n\": 8665}, {\"threshold\": 0.256, \"p\": 28005, \"fpr\": 0.9949221004039238, \"tpr\": 0.9993215497232637, \"n\": 8665}, {\"threshold\": 0.257, \"p\": 28005, \"fpr\": 0.9949221004039238, \"tpr\": 0.9993215497232637, \"n\": 8665}, {\"threshold\": 0.258, \"p\": 28005, \"fpr\": 0.9949221004039238, \"tpr\": 0.9993215497232637, \"n\": 8665}, {\"threshold\": 0.259, \"p\": 28005, \"fpr\": 0.9949221004039238, \"tpr\": 0.9993215497232637, \"n\": 8665}, {\"threshold\": 0.26, \"p\": 28005, \"fpr\": 0.9949221004039238, \"tpr\": 0.9993215497232637, \"n\": 8665}, {\"threshold\": 0.261, \"p\": 28005, \"fpr\": 0.9949221004039238, \"tpr\": 0.9993215497232637, \"n\": 8665}, {\"threshold\": 0.262, \"p\": 28005, \"fpr\": 0.9949221004039238, \"tpr\": 0.9993215497232637, \"n\": 8665}, {\"threshold\": 0.263, \"p\": 28005, \"fpr\": 0.9949221004039238, \"tpr\": 0.9993215497232637, \"n\": 8665}, {\"threshold\": 0.264, \"p\": 28005, \"fpr\": 0.9949221004039238, \"tpr\": 0.9993215497232637, \"n\": 8665}, {\"threshold\": 0.265, \"p\": 28005, \"fpr\": 0.9949221004039238, \"tpr\": 0.9993215497232637, \"n\": 8665}, {\"threshold\": 0.266, \"p\": 28005, \"fpr\": 0.9949221004039238, \"tpr\": 0.9993215497232637, \"n\": 8665}, {\"threshold\": 0.267, \"p\": 28005, \"fpr\": 0.9949221004039238, \"tpr\": 0.9993215497232637, \"n\": 8665}, {\"threshold\": 0.268, \"p\": 28005, \"fpr\": 0.9949221004039238, \"tpr\": 0.9993215497232637, \"n\": 8665}, {\"threshold\": 0.269, \"p\": 28005, \"fpr\": 0.9949221004039238, \"tpr\": 0.9993215497232637, \"n\": 8665}, {\"threshold\": 0.27, \"p\": 28005, \"fpr\": 0.9949221004039238, \"tpr\": 0.9993215497232637, \"n\": 8665}, {\"threshold\": 0.271, \"p\": 28005, \"fpr\": 0.9949221004039238, \"tpr\": 0.9993215497232637, \"n\": 8665}, {\"threshold\": 0.272, \"p\": 28005, \"fpr\": 0.9949221004039238, \"tpr\": 0.9993215497232637, \"n\": 8665}, {\"threshold\": 0.273, \"p\": 28005, \"fpr\": 0.9949221004039238, \"tpr\": 0.9993215497232637, \"n\": 8665}, {\"threshold\": 0.274, \"p\": 28005, \"fpr\": 0.9949221004039238, \"tpr\": 0.9993215497232637, \"n\": 8665}, {\"threshold\": 0.275, \"p\": 28005, \"fpr\": 0.9949221004039238, \"tpr\": 0.9993215497232637, \"n\": 8665}, {\"threshold\": 0.276, \"p\": 28005, \"fpr\": 0.9949221004039238, \"tpr\": 0.9993215497232637, \"n\": 8665}, {\"threshold\": 0.277, \"p\": 28005, \"fpr\": 0.9949221004039238, \"tpr\": 0.9993215497232637, \"n\": 8665}, {\"threshold\": 0.278, \"p\": 28005, \"fpr\": 0.9949221004039238, \"tpr\": 0.9993215497232637, \"n\": 8665}, {\"threshold\": 0.279, \"p\": 28005, \"fpr\": 0.9949221004039238, \"tpr\": 0.9993215497232637, \"n\": 8665}, {\"threshold\": 0.28, \"p\": 28005, \"fpr\": 0.9949221004039238, \"tpr\": 0.9993215497232637, \"n\": 8665}, {\"threshold\": 0.281, \"p\": 28005, \"fpr\": 0.9949221004039238, \"tpr\": 0.9993215497232637, \"n\": 8665}, {\"threshold\": 0.282, \"p\": 28005, \"fpr\": 0.9949221004039238, \"tpr\": 0.9993215497232637, \"n\": 8665}, {\"threshold\": 0.283, \"p\": 28005, \"fpr\": 0.9949221004039238, \"tpr\": 0.9993215497232637, \"n\": 8665}, {\"threshold\": 0.284, \"p\": 28005, \"fpr\": 0.9949221004039238, \"tpr\": 0.9993215497232637, \"n\": 8665}, {\"threshold\": 0.285, \"p\": 28005, \"fpr\": 0.9949221004039238, \"tpr\": 0.9993215497232637, \"n\": 8665}, {\"threshold\": 0.286, \"p\": 28005, \"fpr\": 0.9949221004039238, \"tpr\": 0.9993215497232637, \"n\": 8665}, {\"threshold\": 0.287, \"p\": 28005, \"fpr\": 0.9949221004039238, \"tpr\": 0.9993215497232637, \"n\": 8665}, {\"threshold\": 0.288, \"p\": 28005, \"fpr\": 0.9934218118869014, \"tpr\": 0.9990715943581503, \"n\": 8665}, {\"threshold\": 0.289, \"p\": 28005, \"fpr\": 0.9934218118869014, \"tpr\": 0.9990715943581503, \"n\": 8665}, {\"threshold\": 0.29, \"p\": 28005, \"fpr\": 0.9934218118869014, \"tpr\": 0.9990715943581503, \"n\": 8665}, {\"threshold\": 0.291, \"p\": 28005, \"fpr\": 0.9934218118869014, \"tpr\": 0.9990715943581503, \"n\": 8665}, {\"threshold\": 0.292, \"p\": 28005, \"fpr\": 0.9934218118869014, \"tpr\": 0.9990715943581503, \"n\": 8665}, {\"threshold\": 0.293, \"p\": 28005, \"fpr\": 0.9934218118869014, \"tpr\": 0.9990715943581503, \"n\": 8665}, {\"threshold\": 0.294, \"p\": 28005, \"fpr\": 0.9934218118869014, \"tpr\": 0.9990715943581503, \"n\": 8665}, {\"threshold\": 0.295, \"p\": 28005, \"fpr\": 0.9934218118869014, \"tpr\": 0.9990715943581503, \"n\": 8665}, {\"threshold\": 0.296, \"p\": 28005, \"fpr\": 0.9934218118869014, \"tpr\": 0.9990715943581503, \"n\": 8665}, {\"threshold\": 0.297, \"p\": 28005, \"fpr\": 0.9934218118869014, \"tpr\": 0.9990715943581503, \"n\": 8665}, {\"threshold\": 0.298, \"p\": 28005, \"fpr\": 0.9854587420657819, \"tpr\": 0.9982860203535083, \"n\": 8665}, {\"threshold\": 0.299, \"p\": 28005, \"fpr\": 0.9854587420657819, \"tpr\": 0.9982860203535083, \"n\": 8665}, {\"threshold\": 0.3, \"p\": 28005, \"fpr\": 0.9854587420657819, \"tpr\": 0.9982860203535083, \"n\": 8665}, {\"threshold\": 0.301, \"p\": 28005, \"fpr\": 0.9854587420657819, \"tpr\": 0.9982860203535083, \"n\": 8665}, {\"threshold\": 0.302, \"p\": 28005, \"fpr\": 0.9854587420657819, \"tpr\": 0.9982860203535083, \"n\": 8665}, {\"threshold\": 0.303, \"p\": 28005, \"fpr\": 0.9779572994806693, \"tpr\": 0.9973219068023568, \"n\": 8665}, {\"threshold\": 0.304, \"p\": 28005, \"fpr\": 0.9779572994806693, \"tpr\": 0.9973219068023568, \"n\": 8665}, {\"threshold\": 0.305, \"p\": 28005, \"fpr\": 0.9779572994806693, \"tpr\": 0.9973219068023568, \"n\": 8665}, {\"threshold\": 0.306, \"p\": 28005, \"fpr\": 0.9779572994806693, \"tpr\": 0.9973219068023568, \"n\": 8665}, {\"threshold\": 0.307, \"p\": 28005, \"fpr\": 0.9779572994806693, \"tpr\": 0.9973219068023568, \"n\": 8665}, {\"threshold\": 0.308, \"p\": 28005, \"fpr\": 0.9779572994806693, \"tpr\": 0.9973219068023568, \"n\": 8665}, {\"threshold\": 0.309, \"p\": 28005, \"fpr\": 0.9779572994806693, \"tpr\": 0.9973219068023568, \"n\": 8665}, {\"threshold\": 0.31, \"p\": 28005, \"fpr\": 0.9779572994806693, \"tpr\": 0.9973219068023568, \"n\": 8665}, {\"threshold\": 0.311, \"p\": 28005, \"fpr\": 0.9779572994806693, \"tpr\": 0.9973219068023568, \"n\": 8665}, {\"threshold\": 0.312, \"p\": 28005, \"fpr\": 0.9779572994806693, \"tpr\": 0.9973219068023568, \"n\": 8665}, {\"threshold\": 0.313, \"p\": 28005, \"fpr\": 0.9779572994806693, \"tpr\": 0.9973219068023568, \"n\": 8665}, {\"threshold\": 0.314, \"p\": 28005, \"fpr\": 0.9779572994806693, \"tpr\": 0.9973219068023568, \"n\": 8665}, {\"threshold\": 0.315, \"p\": 28005, \"fpr\": 0.9779572994806693, \"tpr\": 0.9973219068023568, \"n\": 8665}, {\"threshold\": 0.316, \"p\": 28005, \"fpr\": 0.9779572994806693, \"tpr\": 0.9973219068023568, \"n\": 8665}, {\"threshold\": 0.317, \"p\": 28005, \"fpr\": 0.9779572994806693, \"tpr\": 0.9973219068023568, \"n\": 8665}, {\"threshold\": 0.318, \"p\": 28005, \"fpr\": 0.9779572994806693, \"tpr\": 0.9973219068023568, \"n\": 8665}, {\"threshold\": 0.319, \"p\": 28005, \"fpr\": 0.9779572994806693, \"tpr\": 0.9973219068023568, \"n\": 8665}, {\"threshold\": 0.32, \"p\": 28005, \"fpr\": 0.9779572994806693, \"tpr\": 0.9973219068023568, \"n\": 8665}, {\"threshold\": 0.321, \"p\": 28005, \"fpr\": 0.9779572994806693, \"tpr\": 0.9973219068023568, \"n\": 8665}, {\"threshold\": 0.322, \"p\": 28005, \"fpr\": 0.9779572994806693, \"tpr\": 0.9973219068023568, \"n\": 8665}, {\"threshold\": 0.323, \"p\": 28005, \"fpr\": 0.9777264858626659, \"tpr\": 0.9972861988930548, \"n\": 8665}, {\"threshold\": 0.324, \"p\": 28005, \"fpr\": 0.9777264858626659, \"tpr\": 0.9972861988930548, \"n\": 8665}, {\"threshold\": 0.325, \"p\": 28005, \"fpr\": 0.9777264858626659, \"tpr\": 0.9972861988930548, \"n\": 8665}, {\"threshold\": 0.326, \"p\": 28005, \"fpr\": 0.9777264858626659, \"tpr\": 0.9972861988930548, \"n\": 8665}, {\"threshold\": 0.327, \"p\": 28005, \"fpr\": 0.9777264858626659, \"tpr\": 0.9972861988930548, \"n\": 8665}, {\"threshold\": 0.328, \"p\": 28005, \"fpr\": 0.9777264858626659, \"tpr\": 0.9972861988930548, \"n\": 8665}, {\"threshold\": 0.329, \"p\": 28005, \"fpr\": 0.9777264858626659, \"tpr\": 0.9972861988930548, \"n\": 8665}, {\"threshold\": 0.33, \"p\": 28005, \"fpr\": 0.9777264858626659, \"tpr\": 0.9972861988930548, \"n\": 8665}, {\"threshold\": 0.331, \"p\": 28005, \"fpr\": 0.9777264858626659, \"tpr\": 0.9972861988930548, \"n\": 8665}, {\"threshold\": 0.332, \"p\": 28005, \"fpr\": 0.9777264858626659, \"tpr\": 0.9972861988930548, \"n\": 8665}, {\"threshold\": 0.333, \"p\": 28005, \"fpr\": 0.9777264858626659, \"tpr\": 0.9972861988930548, \"n\": 8665}, {\"threshold\": 0.334, \"p\": 28005, \"fpr\": 0.9777264858626659, \"tpr\": 0.9972861988930548, \"n\": 8665}, {\"threshold\": 0.335, \"p\": 28005, \"fpr\": 0.9777264858626659, \"tpr\": 0.9972861988930548, \"n\": 8665}, {\"threshold\": 0.336, \"p\": 28005, \"fpr\": 0.9777264858626659, \"tpr\": 0.9972861988930548, \"n\": 8665}, {\"threshold\": 0.337, \"p\": 28005, \"fpr\": 0.9777264858626659, \"tpr\": 0.9972861988930548, \"n\": 8665}, {\"threshold\": 0.338, \"p\": 28005, \"fpr\": 0.9777264858626659, \"tpr\": 0.9972861988930548, \"n\": 8665}, {\"threshold\": 0.339, \"p\": 28005, \"fpr\": 0.9777264858626659, \"tpr\": 0.9972861988930548, \"n\": 8665}, {\"threshold\": 0.34, \"p\": 28005, \"fpr\": 0.9777264858626659, \"tpr\": 0.9972861988930548, \"n\": 8665}, {\"threshold\": 0.341, \"p\": 28005, \"fpr\": 0.9777264858626659, \"tpr\": 0.9972861988930548, \"n\": 8665}, {\"threshold\": 0.342, \"p\": 28005, \"fpr\": 0.9777264858626659, \"tpr\": 0.9972861988930548, \"n\": 8665}, {\"threshold\": 0.343, \"p\": 28005, \"fpr\": 0.9777264858626659, \"tpr\": 0.9972861988930548, \"n\": 8665}, {\"threshold\": 0.344, \"p\": 28005, \"fpr\": 0.9777264858626659, \"tpr\": 0.9972861988930548, \"n\": 8665}, {\"threshold\": 0.345, \"p\": 28005, \"fpr\": 0.9777264858626659, \"tpr\": 0.9972861988930548, \"n\": 8665}, {\"threshold\": 0.346, \"p\": 28005, \"fpr\": 0.9777264858626659, \"tpr\": 0.9972861988930548, \"n\": 8665}, {\"threshold\": 0.347, \"p\": 28005, \"fpr\": 0.9777264858626659, \"tpr\": 0.9972861988930548, \"n\": 8665}, {\"threshold\": 0.348, \"p\": 28005, \"fpr\": 0.9777264858626659, \"tpr\": 0.9972861988930548, \"n\": 8665}, {\"threshold\": 0.349, \"p\": 28005, \"fpr\": 0.9777264858626659, \"tpr\": 0.9972861988930548, \"n\": 8665}, {\"threshold\": 0.35, \"p\": 28005, \"fpr\": 0.9777264858626659, \"tpr\": 0.9972861988930548, \"n\": 8665}, {\"threshold\": 0.351, \"p\": 28005, \"fpr\": 0.9777264858626659, \"tpr\": 0.9972861988930548, \"n\": 8665}, {\"threshold\": 0.352, \"p\": 28005, \"fpr\": 0.9777264858626659, \"tpr\": 0.9972861988930548, \"n\": 8665}, {\"threshold\": 0.353, \"p\": 28005, \"fpr\": 0.9777264858626659, \"tpr\": 0.9972861988930548, \"n\": 8665}, {\"threshold\": 0.354, \"p\": 28005, \"fpr\": 0.9777264858626659, \"tpr\": 0.9972861988930548, \"n\": 8665}, {\"threshold\": 0.355, \"p\": 28005, \"fpr\": 0.9777264858626659, \"tpr\": 0.9972861988930548, \"n\": 8665}, {\"threshold\": 0.356, \"p\": 28005, \"fpr\": 0.9777264858626659, \"tpr\": 0.9972861988930548, \"n\": 8665}, {\"threshold\": 0.357, \"p\": 28005, \"fpr\": 0.9777264858626659, \"tpr\": 0.9972861988930548, \"n\": 8665}, {\"threshold\": 0.358, \"p\": 28005, \"fpr\": 0.9774956722446624, \"tpr\": 0.9972504909837528, \"n\": 8665}, {\"threshold\": 0.359, \"p\": 28005, \"fpr\": 0.9774956722446624, \"tpr\": 0.997214783074451, \"n\": 8665}, {\"threshold\": 0.36, \"p\": 28005, \"fpr\": 0.9774956722446624, \"tpr\": 0.997214783074451, \"n\": 8665}, {\"threshold\": 0.361, \"p\": 28005, \"fpr\": 0.9774956722446624, \"tpr\": 0.997214783074451, \"n\": 8665}, {\"threshold\": 0.362, \"p\": 28005, \"fpr\": 0.9774956722446624, \"tpr\": 0.997214783074451, \"n\": 8665}, {\"threshold\": 0.363, \"p\": 28005, \"fpr\": 0.9774956722446624, \"tpr\": 0.997214783074451, \"n\": 8665}, {\"threshold\": 0.364, \"p\": 28005, \"fpr\": 0.9774956722446624, \"tpr\": 0.997214783074451, \"n\": 8665}, {\"threshold\": 0.365, \"p\": 28005, \"fpr\": 0.9774956722446624, \"tpr\": 0.997214783074451, \"n\": 8665}, {\"threshold\": 0.366, \"p\": 28005, \"fpr\": 0.9774956722446624, \"tpr\": 0.997214783074451, \"n\": 8665}, {\"threshold\": 0.367, \"p\": 28005, \"fpr\": 0.9774956722446624, \"tpr\": 0.997214783074451, \"n\": 8665}, {\"threshold\": 0.368, \"p\": 28005, \"fpr\": 0.9774956722446624, \"tpr\": 0.997214783074451, \"n\": 8665}, {\"threshold\": 0.369, \"p\": 28005, \"fpr\": 0.9742642815926139, \"tpr\": 0.9968577039814319, \"n\": 8665}, {\"threshold\": 0.37, \"p\": 28005, \"fpr\": 0.9742642815926139, \"tpr\": 0.9968577039814319, \"n\": 8665}, {\"threshold\": 0.371, \"p\": 28005, \"fpr\": 0.9742642815926139, \"tpr\": 0.9968577039814319, \"n\": 8665}, {\"threshold\": 0.372, \"p\": 28005, \"fpr\": 0.9742642815926139, \"tpr\": 0.9968577039814319, \"n\": 8665}, {\"threshold\": 0.373, \"p\": 28005, \"fpr\": 0.9742642815926139, \"tpr\": 0.9968577039814319, \"n\": 8665}, {\"threshold\": 0.374, \"p\": 28005, \"fpr\": 0.9742642815926139, \"tpr\": 0.9968577039814319, \"n\": 8665}, {\"threshold\": 0.375, \"p\": 28005, \"fpr\": 0.9742642815926139, \"tpr\": 0.9968577039814319, \"n\": 8665}, {\"threshold\": 0.376, \"p\": 28005, \"fpr\": 0.9741488747836122, \"tpr\": 0.9968577039814319, \"n\": 8665}, {\"threshold\": 0.377, \"p\": 28005, \"fpr\": 0.9741488747836122, \"tpr\": 0.9968577039814319, \"n\": 8665}, {\"threshold\": 0.378, \"p\": 28005, \"fpr\": 0.9741488747836122, \"tpr\": 0.9968577039814319, \"n\": 8665}, {\"threshold\": 0.379, \"p\": 28005, \"fpr\": 0.9741488747836122, \"tpr\": 0.9968577039814319, \"n\": 8665}, {\"threshold\": 0.38, \"p\": 28005, \"fpr\": 0.9741488747836122, \"tpr\": 0.9968577039814319, \"n\": 8665}, {\"threshold\": 0.381, \"p\": 28005, \"fpr\": 0.9741488747836122, \"tpr\": 0.9968577039814319, \"n\": 8665}, {\"threshold\": 0.382, \"p\": 28005, \"fpr\": 0.9741488747836122, \"tpr\": 0.9968577039814319, \"n\": 8665}, {\"threshold\": 0.383, \"p\": 28005, \"fpr\": 0.9741488747836122, \"tpr\": 0.9968577039814319, \"n\": 8665}, {\"threshold\": 0.384, \"p\": 28005, \"fpr\": 0.9741488747836122, \"tpr\": 0.9968577039814319, \"n\": 8665}, {\"threshold\": 0.385, \"p\": 28005, \"fpr\": 0.9741488747836122, \"tpr\": 0.9968577039814319, \"n\": 8665}, {\"threshold\": 0.386, \"p\": 28005, \"fpr\": 0.9741488747836122, \"tpr\": 0.9968577039814319, \"n\": 8665}, {\"threshold\": 0.387, \"p\": 28005, \"fpr\": 0.9741488747836122, \"tpr\": 0.9968577039814319, \"n\": 8665}, {\"threshold\": 0.388, \"p\": 28005, \"fpr\": 0.9741488747836122, \"tpr\": 0.9968577039814319, \"n\": 8665}, {\"threshold\": 0.389, \"p\": 28005, \"fpr\": 0.9741488747836122, \"tpr\": 0.9968577039814319, \"n\": 8665}, {\"threshold\": 0.39, \"p\": 28005, \"fpr\": 0.9741488747836122, \"tpr\": 0.9968577039814319, \"n\": 8665}, {\"threshold\": 0.391, \"p\": 28005, \"fpr\": 0.9741488747836122, \"tpr\": 0.9968577039814319, \"n\": 8665}, {\"threshold\": 0.392, \"p\": 28005, \"fpr\": 0.9741488747836122, \"tpr\": 0.9968577039814319, \"n\": 8665}, {\"threshold\": 0.393, \"p\": 28005, \"fpr\": 0.9741488747836122, \"tpr\": 0.9968577039814319, \"n\": 8665}, {\"threshold\": 0.394, \"p\": 28005, \"fpr\": 0.9741488747836122, \"tpr\": 0.9968577039814319, \"n\": 8665}, {\"threshold\": 0.395, \"p\": 28005, \"fpr\": 0.9741488747836122, \"tpr\": 0.9968577039814319, \"n\": 8665}, {\"threshold\": 0.396, \"p\": 28005, \"fpr\": 0.9741488747836122, \"tpr\": 0.9968577039814319, \"n\": 8665}, {\"threshold\": 0.397, \"p\": 28005, \"fpr\": 0.9741488747836122, \"tpr\": 0.9968577039814319, \"n\": 8665}, {\"threshold\": 0.398, \"p\": 28005, \"fpr\": 0.9741488747836122, \"tpr\": 0.9968577039814319, \"n\": 8665}, {\"threshold\": 0.399, \"p\": 28005, \"fpr\": 0.9741488747836122, \"tpr\": 0.9968577039814319, \"n\": 8665}, {\"threshold\": 0.4, \"p\": 28005, \"fpr\": 0.9741488747836122, \"tpr\": 0.9968577039814319, \"n\": 8665}, {\"threshold\": 0.401, \"p\": 28005, \"fpr\": 0.9741488747836122, \"tpr\": 0.9968577039814319, \"n\": 8665}, {\"threshold\": 0.402, \"p\": 28005, \"fpr\": 0.9741488747836122, \"tpr\": 0.9968577039814319, \"n\": 8665}, {\"threshold\": 0.403, \"p\": 28005, \"fpr\": 0.9741488747836122, \"tpr\": 0.9968577039814319, \"n\": 8665}, {\"threshold\": 0.404, \"p\": 28005, \"fpr\": 0.9741488747836122, \"tpr\": 0.9968577039814319, \"n\": 8665}, {\"threshold\": 0.405, \"p\": 28005, \"fpr\": 0.9741488747836122, \"tpr\": 0.9968577039814319, \"n\": 8665}, {\"threshold\": 0.406, \"p\": 28005, \"fpr\": 0.9664166185804962, \"tpr\": 0.9950723085163363, \"n\": 8665}, {\"threshold\": 0.407, \"p\": 28005, \"fpr\": 0.9664166185804962, \"tpr\": 0.9950723085163363, \"n\": 8665}, {\"threshold\": 0.408, \"p\": 28005, \"fpr\": 0.9664166185804962, \"tpr\": 0.9950723085163363, \"n\": 8665}, {\"threshold\": 0.409, \"p\": 28005, \"fpr\": 0.9664166185804962, \"tpr\": 0.9950723085163363, \"n\": 8665}, {\"threshold\": 0.41, \"p\": 28005, \"fpr\": 0.9664166185804962, \"tpr\": 0.9950723085163363, \"n\": 8665}, {\"threshold\": 0.411, \"p\": 28005, \"fpr\": 0.9664166185804962, \"tpr\": 0.9950723085163363, \"n\": 8665}, {\"threshold\": 0.412, \"p\": 28005, \"fpr\": 0.9664166185804962, \"tpr\": 0.9950723085163363, \"n\": 8665}, {\"threshold\": 0.413, \"p\": 28005, \"fpr\": 0.9664166185804962, \"tpr\": 0.9950723085163363, \"n\": 8665}, {\"threshold\": 0.414, \"p\": 28005, \"fpr\": 0.9664166185804962, \"tpr\": 0.9950723085163363, \"n\": 8665}, {\"threshold\": 0.415, \"p\": 28005, \"fpr\": 0.9664166185804962, \"tpr\": 0.9950723085163363, \"n\": 8665}, {\"threshold\": 0.416, \"p\": 28005, \"fpr\": 0.9664166185804962, \"tpr\": 0.9950723085163363, \"n\": 8665}, {\"threshold\": 0.417, \"p\": 28005, \"fpr\": 0.9664166185804962, \"tpr\": 0.9950723085163363, \"n\": 8665}, {\"threshold\": 0.418, \"p\": 28005, \"fpr\": 0.9664166185804962, \"tpr\": 0.9950723085163363, \"n\": 8665}, {\"threshold\": 0.419, \"p\": 28005, \"fpr\": 0.9664166185804962, \"tpr\": 0.9950723085163363, \"n\": 8665}, {\"threshold\": 0.42, \"p\": 28005, \"fpr\": 0.9664166185804962, \"tpr\": 0.9950723085163363, \"n\": 8665}, {\"threshold\": 0.421, \"p\": 28005, \"fpr\": 0.9664166185804962, \"tpr\": 0.9950723085163363, \"n\": 8665}, {\"threshold\": 0.422, \"p\": 28005, \"fpr\": 0.9664166185804962, \"tpr\": 0.9950723085163363, \"n\": 8665}, {\"threshold\": 0.423, \"p\": 28005, \"fpr\": 0.9664166185804962, \"tpr\": 0.9950723085163363, \"n\": 8665}, {\"threshold\": 0.424, \"p\": 28005, \"fpr\": 0.9664166185804962, \"tpr\": 0.9950723085163363, \"n\": 8665}, {\"threshold\": 0.425, \"p\": 28005, \"fpr\": 0.9664166185804962, \"tpr\": 0.9950723085163363, \"n\": 8665}, {\"threshold\": 0.426, \"p\": 28005, \"fpr\": 0.9664166185804962, \"tpr\": 0.9950723085163363, \"n\": 8665}, {\"threshold\": 0.427, \"p\": 28005, \"fpr\": 0.9664166185804962, \"tpr\": 0.9950723085163363, \"n\": 8665}, {\"threshold\": 0.428, \"p\": 28005, \"fpr\": 0.9664166185804962, \"tpr\": 0.9950723085163363, \"n\": 8665}, {\"threshold\": 0.429, \"p\": 28005, \"fpr\": 0.9664166185804962, \"tpr\": 0.9950723085163363, \"n\": 8665}, {\"threshold\": 0.43, \"p\": 28005, \"fpr\": 0.9664166185804962, \"tpr\": 0.9950723085163363, \"n\": 8665}, {\"threshold\": 0.431, \"p\": 28005, \"fpr\": 0.9664166185804962, \"tpr\": 0.9950723085163363, \"n\": 8665}, {\"threshold\": 0.432, \"p\": 28005, \"fpr\": 0.9664166185804962, \"tpr\": 0.9950723085163363, \"n\": 8665}, {\"threshold\": 0.433, \"p\": 28005, \"fpr\": 0.9664166185804962, \"tpr\": 0.9950723085163363, \"n\": 8665}, {\"threshold\": 0.434, \"p\": 28005, \"fpr\": 0.9664166185804962, \"tpr\": 0.9950723085163363, \"n\": 8665}, {\"threshold\": 0.435, \"p\": 28005, \"fpr\": 0.9664166185804962, \"tpr\": 0.9950723085163363, \"n\": 8665}, {\"threshold\": 0.436, \"p\": 28005, \"fpr\": 0.9664166185804962, \"tpr\": 0.9950723085163363, \"n\": 8665}, {\"threshold\": 0.437, \"p\": 28005, \"fpr\": 0.9664166185804962, \"tpr\": 0.9950723085163363, \"n\": 8665}, {\"threshold\": 0.438, \"p\": 28005, \"fpr\": 0.9664166185804962, \"tpr\": 0.9950723085163363, \"n\": 8665}, {\"threshold\": 0.439, \"p\": 28005, \"fpr\": 0.9664166185804962, \"tpr\": 0.9950723085163363, \"n\": 8665}, {\"threshold\": 0.44, \"p\": 28005, \"fpr\": 0.9664166185804962, \"tpr\": 0.9950723085163363, \"n\": 8665}, {\"threshold\": 0.441, \"p\": 28005, \"fpr\": 0.9664166185804962, \"tpr\": 0.9950723085163363, \"n\": 8665}, {\"threshold\": 0.442, \"p\": 28005, \"fpr\": 0.9664166185804962, \"tpr\": 0.9950723085163363, \"n\": 8665}, {\"threshold\": 0.443, \"p\": 28005, \"fpr\": 0.9664166185804962, \"tpr\": 0.9950723085163363, \"n\": 8665}, {\"threshold\": 0.444, \"p\": 28005, \"fpr\": 0.9664166185804962, \"tpr\": 0.9950723085163363, \"n\": 8665}, {\"threshold\": 0.445, \"p\": 28005, \"fpr\": 0.9664166185804962, \"tpr\": 0.9950723085163363, \"n\": 8665}, {\"threshold\": 0.446, \"p\": 28005, \"fpr\": 0.9664166185804962, \"tpr\": 0.9950723085163363, \"n\": 8665}, {\"threshold\": 0.447, \"p\": 28005, \"fpr\": 0.9664166185804962, \"tpr\": 0.9950723085163363, \"n\": 8665}, {\"threshold\": 0.448, \"p\": 28005, \"fpr\": 0.9661858049624927, \"tpr\": 0.9949651847884307, \"n\": 8665}, {\"threshold\": 0.449, \"p\": 28005, \"fpr\": 0.9661858049624927, \"tpr\": 0.9949651847884307, \"n\": 8665}, {\"threshold\": 0.45, \"p\": 28005, \"fpr\": 0.9661858049624927, \"tpr\": 0.9949651847884307, \"n\": 8665}, {\"threshold\": 0.451, \"p\": 28005, \"fpr\": 0.9661858049624927, \"tpr\": 0.9949651847884307, \"n\": 8665}, {\"threshold\": 0.452, \"p\": 28005, \"fpr\": 0.9661858049624927, \"tpr\": 0.9949651847884307, \"n\": 8665}, {\"threshold\": 0.453, \"p\": 28005, \"fpr\": 0.9661858049624927, \"tpr\": 0.9949651847884307, \"n\": 8665}, {\"threshold\": 0.454, \"p\": 28005, \"fpr\": 0.9661858049624927, \"tpr\": 0.9949651847884307, \"n\": 8665}, {\"threshold\": 0.455, \"p\": 28005, \"fpr\": 0.9661858049624927, \"tpr\": 0.9949651847884307, \"n\": 8665}, {\"threshold\": 0.456, \"p\": 28005, \"fpr\": 0.9661858049624927, \"tpr\": 0.9949651847884307, \"n\": 8665}, {\"threshold\": 0.457, \"p\": 28005, \"fpr\": 0.9661858049624927, \"tpr\": 0.9949651847884307, \"n\": 8665}, {\"threshold\": 0.458, \"p\": 28005, \"fpr\": 0.9661858049624927, \"tpr\": 0.9949651847884307, \"n\": 8665}, {\"threshold\": 0.459, \"p\": 28005, \"fpr\": 0.9661858049624927, \"tpr\": 0.9949651847884307, \"n\": 8665}, {\"threshold\": 0.46, \"p\": 28005, \"fpr\": 0.9661858049624927, \"tpr\": 0.9949651847884307, \"n\": 8665}, {\"threshold\": 0.461, \"p\": 28005, \"fpr\": 0.9656087709174841, \"tpr\": 0.9948937689698268, \"n\": 8665}, {\"threshold\": 0.462, \"p\": 28005, \"fpr\": 0.9656087709174841, \"tpr\": 0.9948937689698268, \"n\": 8665}, {\"threshold\": 0.463, \"p\": 28005, \"fpr\": 0.9656087709174841, \"tpr\": 0.9948937689698268, \"n\": 8665}, {\"threshold\": 0.464, \"p\": 28005, \"fpr\": 0.9656087709174841, \"tpr\": 0.9948937689698268, \"n\": 8665}, {\"threshold\": 0.465, \"p\": 28005, \"fpr\": 0.9656087709174841, \"tpr\": 0.9948937689698268, \"n\": 8665}, {\"threshold\": 0.466, \"p\": 28005, \"fpr\": 0.9645701096364685, \"tpr\": 0.9947509373326192, \"n\": 8665}, {\"threshold\": 0.467, \"p\": 28005, \"fpr\": 0.9645701096364685, \"tpr\": 0.9947509373326192, \"n\": 8665}, {\"threshold\": 0.468, \"p\": 28005, \"fpr\": 0.9645701096364685, \"tpr\": 0.9947152294233172, \"n\": 8665}, {\"threshold\": 0.469, \"p\": 28005, \"fpr\": 0.9645701096364685, \"tpr\": 0.9947152294233172, \"n\": 8665}, {\"threshold\": 0.47, \"p\": 28005, \"fpr\": 0.9645701096364685, \"tpr\": 0.9947152294233172, \"n\": 8665}, {\"threshold\": 0.471, \"p\": 28005, \"fpr\": 0.9645701096364685, \"tpr\": 0.9947152294233172, \"n\": 8665}, {\"threshold\": 0.472, \"p\": 28005, \"fpr\": 0.9645701096364685, \"tpr\": 0.9947152294233172, \"n\": 8665}, {\"threshold\": 0.473, \"p\": 28005, \"fpr\": 0.9645701096364685, \"tpr\": 0.9947152294233172, \"n\": 8665}, {\"threshold\": 0.474, \"p\": 28005, \"fpr\": 0.9645701096364685, \"tpr\": 0.9947152294233172, \"n\": 8665}, {\"threshold\": 0.475, \"p\": 28005, \"fpr\": 0.9645701096364685, \"tpr\": 0.9947152294233172, \"n\": 8665}, {\"threshold\": 0.476, \"p\": 28005, \"fpr\": 0.9645701096364685, \"tpr\": 0.9947152294233172, \"n\": 8665}, {\"threshold\": 0.477, \"p\": 28005, \"fpr\": 0.9645701096364685, \"tpr\": 0.9947152294233172, \"n\": 8665}, {\"threshold\": 0.478, \"p\": 28005, \"fpr\": 0.9645701096364685, \"tpr\": 0.9947152294233172, \"n\": 8665}, {\"threshold\": 0.479, \"p\": 28005, \"fpr\": 0.9645701096364685, \"tpr\": 0.9947152294233172, \"n\": 8665}, {\"threshold\": 0.48, \"p\": 28005, \"fpr\": 0.9645701096364685, \"tpr\": 0.9947152294233172, \"n\": 8665}, {\"threshold\": 0.481, \"p\": 28005, \"fpr\": 0.9645701096364685, \"tpr\": 0.9947152294233172, \"n\": 8665}, {\"threshold\": 0.482, \"p\": 28005, \"fpr\": 0.9645701096364685, \"tpr\": 0.9947152294233172, \"n\": 8665}, {\"threshold\": 0.483, \"p\": 28005, \"fpr\": 0.9645701096364685, \"tpr\": 0.9947152294233172, \"n\": 8665}, {\"threshold\": 0.484, \"p\": 28005, \"fpr\": 0.9645701096364685, \"tpr\": 0.9947152294233172, \"n\": 8665}, {\"threshold\": 0.485, \"p\": 28005, \"fpr\": 0.9645701096364685, \"tpr\": 0.9947152294233172, \"n\": 8665}, {\"threshold\": 0.486, \"p\": 28005, \"fpr\": 0.9645701096364685, \"tpr\": 0.9947152294233172, \"n\": 8665}, {\"threshold\": 0.487, \"p\": 28005, \"fpr\": 0.9645701096364685, \"tpr\": 0.9947152294233172, \"n\": 8665}, {\"threshold\": 0.488, \"p\": 28005, \"fpr\": 0.9645701096364685, \"tpr\": 0.9947152294233172, \"n\": 8665}, {\"threshold\": 0.489, \"p\": 28005, \"fpr\": 0.9645701096364685, \"tpr\": 0.9947152294233172, \"n\": 8665}, {\"threshold\": 0.49, \"p\": 28005, \"fpr\": 0.9645701096364685, \"tpr\": 0.9947152294233172, \"n\": 8665}, {\"threshold\": 0.491, \"p\": 28005, \"fpr\": 0.9645701096364685, \"tpr\": 0.9947152294233172, \"n\": 8665}, {\"threshold\": 0.492, \"p\": 28005, \"fpr\": 0.9645701096364685, \"tpr\": 0.9947152294233172, \"n\": 8665}, {\"threshold\": 0.493, \"p\": 28005, \"fpr\": 0.9645701096364685, \"tpr\": 0.9947152294233172, \"n\": 8665}, {\"threshold\": 0.494, \"p\": 28005, \"fpr\": 0.9645701096364685, \"tpr\": 0.9947152294233172, \"n\": 8665}, {\"threshold\": 0.495, \"p\": 28005, \"fpr\": 0.9645701096364685, \"tpr\": 0.9947152294233172, \"n\": 8665}, {\"threshold\": 0.496, \"p\": 28005, \"fpr\": 0.9645701096364685, \"tpr\": 0.9947152294233172, \"n\": 8665}, {\"threshold\": 0.497, \"p\": 28005, \"fpr\": 0.9645701096364685, \"tpr\": 0.9947152294233172, \"n\": 8665}, {\"threshold\": 0.498, \"p\": 28005, \"fpr\": 0.9645701096364685, \"tpr\": 0.9947152294233172, \"n\": 8665}, {\"threshold\": 0.499, \"p\": 28005, \"fpr\": 0.9407963069821119, \"tpr\": 0.9869309051955008, \"n\": 8665}, {\"threshold\": 0.5, \"p\": 28005, \"fpr\": 0.9407963069821119, \"tpr\": 0.9869309051955008, \"n\": 8665}, {\"threshold\": 0.501, \"p\": 28005, \"fpr\": 0.9407963069821119, \"tpr\": 0.9869309051955008, \"n\": 8665}, {\"threshold\": 0.502, \"p\": 28005, \"fpr\": 0.9407963069821119, \"tpr\": 0.9869309051955008, \"n\": 8665}, {\"threshold\": 0.503, \"p\": 28005, \"fpr\": 0.9407963069821119, \"tpr\": 0.9869309051955008, \"n\": 8665}, {\"threshold\": 0.504, \"p\": 28005, \"fpr\": 0.9407963069821119, \"tpr\": 0.9869309051955008, \"n\": 8665}, {\"threshold\": 0.505, \"p\": 28005, \"fpr\": 0.9407963069821119, \"tpr\": 0.9869309051955008, \"n\": 8665}, {\"threshold\": 0.506, \"p\": 28005, \"fpr\": 0.9407963069821119, \"tpr\": 0.9869309051955008, \"n\": 8665}, {\"threshold\": 0.507, \"p\": 28005, \"fpr\": 0.9407963069821119, \"tpr\": 0.9869309051955008, \"n\": 8665}, {\"threshold\": 0.508, \"p\": 28005, \"fpr\": 0.9407963069821119, \"tpr\": 0.9869309051955008, \"n\": 8665}, {\"threshold\": 0.509, \"p\": 28005, \"fpr\": 0.9407963069821119, \"tpr\": 0.9868951972861989, \"n\": 8665}, {\"threshold\": 0.51, \"p\": 28005, \"fpr\": 0.9407963069821119, \"tpr\": 0.9868951972861989, \"n\": 8665}, {\"threshold\": 0.511, \"p\": 28005, \"fpr\": 0.9407963069821119, \"tpr\": 0.9868951972861989, \"n\": 8665}, {\"threshold\": 0.512, \"p\": 28005, \"fpr\": 0.9407963069821119, \"tpr\": 0.9868594893768969, \"n\": 8665}, {\"threshold\": 0.513, \"p\": 28005, \"fpr\": 0.9407963069821119, \"tpr\": 0.9868594893768969, \"n\": 8665}, {\"threshold\": 0.514, \"p\": 28005, \"fpr\": 0.9407963069821119, \"tpr\": 0.9868594893768969, \"n\": 8665}, {\"threshold\": 0.515, \"p\": 28005, \"fpr\": 0.9407963069821119, \"tpr\": 0.9868594893768969, \"n\": 8665}, {\"threshold\": 0.516, \"p\": 28005, \"fpr\": 0.9407963069821119, \"tpr\": 0.9868594893768969, \"n\": 8665}, {\"threshold\": 0.517, \"p\": 28005, \"fpr\": 0.9407963069821119, \"tpr\": 0.9868594893768969, \"n\": 8665}, {\"threshold\": 0.518, \"p\": 28005, \"fpr\": 0.9407963069821119, \"tpr\": 0.9868594893768969, \"n\": 8665}, {\"threshold\": 0.519, \"p\": 28005, \"fpr\": 0.9407963069821119, \"tpr\": 0.9868594893768969, \"n\": 8665}, {\"threshold\": 0.52, \"p\": 28005, \"fpr\": 0.9407963069821119, \"tpr\": 0.9868594893768969, \"n\": 8665}, {\"threshold\": 0.521, \"p\": 28005, \"fpr\": 0.9407963069821119, \"tpr\": 0.9868594893768969, \"n\": 8665}, {\"threshold\": 0.522, \"p\": 28005, \"fpr\": 0.9407963069821119, \"tpr\": 0.9868594893768969, \"n\": 8665}, {\"threshold\": 0.523, \"p\": 28005, \"fpr\": 0.9407963069821119, \"tpr\": 0.9868594893768969, \"n\": 8665}, {\"threshold\": 0.524, \"p\": 28005, \"fpr\": 0.9407963069821119, \"tpr\": 0.9868594893768969, \"n\": 8665}, {\"threshold\": 0.525, \"p\": 28005, \"fpr\": 0.9407963069821119, \"tpr\": 0.9868594893768969, \"n\": 8665}, {\"threshold\": 0.526, \"p\": 28005, \"fpr\": 0.9407963069821119, \"tpr\": 0.9868594893768969, \"n\": 8665}, {\"threshold\": 0.527, \"p\": 28005, \"fpr\": 0.9407963069821119, \"tpr\": 0.9868594893768969, \"n\": 8665}, {\"threshold\": 0.528, \"p\": 28005, \"fpr\": 0.9407963069821119, \"tpr\": 0.9868594893768969, \"n\": 8665}, {\"threshold\": 0.529, \"p\": 28005, \"fpr\": 0.9407963069821119, \"tpr\": 0.9868594893768969, \"n\": 8665}, {\"threshold\": 0.53, \"p\": 28005, \"fpr\": 0.9407963069821119, \"tpr\": 0.9868594893768969, \"n\": 8665}, {\"threshold\": 0.531, \"p\": 28005, \"fpr\": 0.9407963069821119, \"tpr\": 0.9868594893768969, \"n\": 8665}, {\"threshold\": 0.532, \"p\": 28005, \"fpr\": 0.9407963069821119, \"tpr\": 0.9868594893768969, \"n\": 8665}, {\"threshold\": 0.533, \"p\": 28005, \"fpr\": 0.9407963069821119, \"tpr\": 0.9868594893768969, \"n\": 8665}, {\"threshold\": 0.534, \"p\": 28005, \"fpr\": 0.9407963069821119, \"tpr\": 0.9868594893768969, \"n\": 8665}, {\"threshold\": 0.535, \"p\": 28005, \"fpr\": 0.9407963069821119, \"tpr\": 0.9868594893768969, \"n\": 8665}, {\"threshold\": 0.536, \"p\": 28005, \"fpr\": 0.9407963069821119, \"tpr\": 0.9868594893768969, \"n\": 8665}, {\"threshold\": 0.537, \"p\": 28005, \"fpr\": 0.9407963069821119, \"tpr\": 0.9867880735582931, \"n\": 8665}, {\"threshold\": 0.538, \"p\": 28005, \"fpr\": 0.9407963069821119, \"tpr\": 0.9867880735582931, \"n\": 8665}, {\"threshold\": 0.539, \"p\": 28005, \"fpr\": 0.9407963069821119, \"tpr\": 0.9867880735582931, \"n\": 8665}, {\"threshold\": 0.54, \"p\": 28005, \"fpr\": 0.9407963069821119, \"tpr\": 0.9867880735582931, \"n\": 8665}, {\"threshold\": 0.541, \"p\": 28005, \"fpr\": 0.9404500865551068, \"tpr\": 0.9866095340117836, \"n\": 8665}, {\"threshold\": 0.542, \"p\": 28005, \"fpr\": 0.9404500865551068, \"tpr\": 0.9866095340117836, \"n\": 8665}, {\"threshold\": 0.543, \"p\": 28005, \"fpr\": 0.9403346797461051, \"tpr\": 0.9866095340117836, \"n\": 8665}, {\"threshold\": 0.544, \"p\": 28005, \"fpr\": 0.9403346797461051, \"tpr\": 0.9866095340117836, \"n\": 8665}, {\"threshold\": 0.545, \"p\": 28005, \"fpr\": 0.9403346797461051, \"tpr\": 0.9866095340117836, \"n\": 8665}, {\"threshold\": 0.546, \"p\": 28005, \"fpr\": 0.9403346797461051, \"tpr\": 0.9866095340117836, \"n\": 8665}, {\"threshold\": 0.547, \"p\": 28005, \"fpr\": 0.9403346797461051, \"tpr\": 0.9866095340117836, \"n\": 8665}, {\"threshold\": 0.548, \"p\": 28005, \"fpr\": 0.9403346797461051, \"tpr\": 0.9866095340117836, \"n\": 8665}, {\"threshold\": 0.549, \"p\": 28005, \"fpr\": 0.9403346797461051, \"tpr\": 0.9866095340117836, \"n\": 8665}, {\"threshold\": 0.55, \"p\": 28005, \"fpr\": 0.9403346797461051, \"tpr\": 0.9866095340117836, \"n\": 8665}, {\"threshold\": 0.551, \"p\": 28005, \"fpr\": 0.9403346797461051, \"tpr\": 0.9866095340117836, \"n\": 8665}, {\"threshold\": 0.552, \"p\": 28005, \"fpr\": 0.9403346797461051, \"tpr\": 0.9866095340117836, \"n\": 8665}, {\"threshold\": 0.553, \"p\": 28005, \"fpr\": 0.9403346797461051, \"tpr\": 0.9866095340117836, \"n\": 8665}, {\"threshold\": 0.554, \"p\": 28005, \"fpr\": 0.9403346797461051, \"tpr\": 0.9866095340117836, \"n\": 8665}, {\"threshold\": 0.555, \"p\": 28005, \"fpr\": 0.9403346797461051, \"tpr\": 0.9866095340117836, \"n\": 8665}, {\"threshold\": 0.556, \"p\": 28005, \"fpr\": 0.9403346797461051, \"tpr\": 0.9866095340117836, \"n\": 8665}, {\"threshold\": 0.557, \"p\": 28005, \"fpr\": 0.9403346797461051, \"tpr\": 0.9866095340117836, \"n\": 8665}, {\"threshold\": 0.558, \"p\": 28005, \"fpr\": 0.9403346797461051, \"tpr\": 0.9866095340117836, \"n\": 8665}, {\"threshold\": 0.559, \"p\": 28005, \"fpr\": 0.9403346797461051, \"tpr\": 0.9866095340117836, \"n\": 8665}, {\"threshold\": 0.56, \"p\": 28005, \"fpr\": 0.9403346797461051, \"tpr\": 0.9866095340117836, \"n\": 8665}, {\"threshold\": 0.561, \"p\": 28005, \"fpr\": 0.9403346797461051, \"tpr\": 0.9866095340117836, \"n\": 8665}, {\"threshold\": 0.562, \"p\": 28005, \"fpr\": 0.9402192729371033, \"tpr\": 0.9865738261024817, \"n\": 8665}, {\"threshold\": 0.563, \"p\": 28005, \"fpr\": 0.9402192729371033, \"tpr\": 0.9865738261024817, \"n\": 8665}, {\"threshold\": 0.564, \"p\": 28005, \"fpr\": 0.9402192729371033, \"tpr\": 0.9865738261024817, \"n\": 8665}, {\"threshold\": 0.565, \"p\": 28005, \"fpr\": 0.9402192729371033, \"tpr\": 0.9865738261024817, \"n\": 8665}, {\"threshold\": 0.566, \"p\": 28005, \"fpr\": 0.9402192729371033, \"tpr\": 0.9865738261024817, \"n\": 8665}, {\"threshold\": 0.567, \"p\": 28005, \"fpr\": 0.9402192729371033, \"tpr\": 0.9865738261024817, \"n\": 8665}, {\"threshold\": 0.568, \"p\": 28005, \"fpr\": 0.9402192729371033, \"tpr\": 0.9865738261024817, \"n\": 8665}, {\"threshold\": 0.569, \"p\": 28005, \"fpr\": 0.9402192729371033, \"tpr\": 0.9865738261024817, \"n\": 8665}, {\"threshold\": 0.57, \"p\": 28005, \"fpr\": 0.9402192729371033, \"tpr\": 0.9865738261024817, \"n\": 8665}, {\"threshold\": 0.571, \"p\": 28005, \"fpr\": 0.9402192729371033, \"tpr\": 0.9865738261024817, \"n\": 8665}, {\"threshold\": 0.572, \"p\": 28005, \"fpr\": 0.9402192729371033, \"tpr\": 0.9865738261024817, \"n\": 8665}, {\"threshold\": 0.573, \"p\": 28005, \"fpr\": 0.9402192729371033, \"tpr\": 0.9865738261024817, \"n\": 8665}, {\"threshold\": 0.574, \"p\": 28005, \"fpr\": 0.9402192729371033, \"tpr\": 0.9865738261024817, \"n\": 8665}, {\"threshold\": 0.575, \"p\": 28005, \"fpr\": 0.9398730525100981, \"tpr\": 0.9863952865559722, \"n\": 8665}, {\"threshold\": 0.576, \"p\": 28005, \"fpr\": 0.9398730525100981, \"tpr\": 0.9863952865559722, \"n\": 8665}, {\"threshold\": 0.577, \"p\": 28005, \"fpr\": 0.9398730525100981, \"tpr\": 0.9863952865559722, \"n\": 8665}, {\"threshold\": 0.578, \"p\": 28005, \"fpr\": 0.9398730525100981, \"tpr\": 0.9863952865559722, \"n\": 8665}, {\"threshold\": 0.579, \"p\": 28005, \"fpr\": 0.9392960184650895, \"tpr\": 0.9861810391001606, \"n\": 8665}, {\"threshold\": 0.58, \"p\": 28005, \"fpr\": 0.9388343912290825, \"tpr\": 0.9859667916443492, \"n\": 8665}, {\"threshold\": 0.581, \"p\": 28005, \"fpr\": 0.9388343912290825, \"tpr\": 0.9859667916443492, \"n\": 8665}, {\"threshold\": 0.582, \"p\": 28005, \"fpr\": 0.9388343912290825, \"tpr\": 0.9859667916443492, \"n\": 8665}, {\"threshold\": 0.583, \"p\": 28005, \"fpr\": 0.9388343912290825, \"tpr\": 0.9859667916443492, \"n\": 8665}, {\"threshold\": 0.584, \"p\": 28005, \"fpr\": 0.9388343912290825, \"tpr\": 0.9859667916443492, \"n\": 8665}, {\"threshold\": 0.585, \"p\": 28005, \"fpr\": 0.9388343912290825, \"tpr\": 0.9859667916443492, \"n\": 8665}, {\"threshold\": 0.586, \"p\": 28005, \"fpr\": 0.9388343912290825, \"tpr\": 0.9859667916443492, \"n\": 8665}, {\"threshold\": 0.587, \"p\": 28005, \"fpr\": 0.9388343912290825, \"tpr\": 0.9859667916443492, \"n\": 8665}, {\"threshold\": 0.588, \"p\": 28005, \"fpr\": 0.9388343912290825, \"tpr\": 0.9859310837350473, \"n\": 8665}, {\"threshold\": 0.589, \"p\": 28005, \"fpr\": 0.9388343912290825, \"tpr\": 0.9859310837350473, \"n\": 8665}, {\"threshold\": 0.59, \"p\": 28005, \"fpr\": 0.9388343912290825, \"tpr\": 0.9859310837350473, \"n\": 8665}, {\"threshold\": 0.591, \"p\": 28005, \"fpr\": 0.9388343912290825, \"tpr\": 0.9859310837350473, \"n\": 8665}, {\"threshold\": 0.592, \"p\": 28005, \"fpr\": 0.9388343912290825, \"tpr\": 0.9859310837350473, \"n\": 8665}, {\"threshold\": 0.593, \"p\": 28005, \"fpr\": 0.9388343912290825, \"tpr\": 0.9859310837350473, \"n\": 8665}, {\"threshold\": 0.594, \"p\": 28005, \"fpr\": 0.9388343912290825, \"tpr\": 0.9859310837350473, \"n\": 8665}, {\"threshold\": 0.595, \"p\": 28005, \"fpr\": 0.9388343912290825, \"tpr\": 0.9859310837350473, \"n\": 8665}, {\"threshold\": 0.596, \"p\": 28005, \"fpr\": 0.9388343912290825, \"tpr\": 0.9859310837350473, \"n\": 8665}, {\"threshold\": 0.597, \"p\": 28005, \"fpr\": 0.9388343912290825, \"tpr\": 0.9859310837350473, \"n\": 8665}, {\"threshold\": 0.598, \"p\": 28005, \"fpr\": 0.9388343912290825, \"tpr\": 0.9859310837350473, \"n\": 8665}, {\"threshold\": 0.599, \"p\": 28005, \"fpr\": 0.9388343912290825, \"tpr\": 0.9859310837350473, \"n\": 8665}, {\"threshold\": 0.6, \"p\": 28005, \"fpr\": 0.9388343912290825, \"tpr\": 0.9859310837350473, \"n\": 8665}, {\"threshold\": 0.601, \"p\": 28005, \"fpr\": 0.9388343912290825, \"tpr\": 0.9859310837350473, \"n\": 8665}, {\"threshold\": 0.602, \"p\": 28005, \"fpr\": 0.9388343912290825, \"tpr\": 0.9859310837350473, \"n\": 8665}, {\"threshold\": 0.603, \"p\": 28005, \"fpr\": 0.9388343912290825, \"tpr\": 0.9859310837350473, \"n\": 8665}, {\"threshold\": 0.604, \"p\": 28005, \"fpr\": 0.9388343912290825, \"tpr\": 0.9859310837350473, \"n\": 8665}, {\"threshold\": 0.605, \"p\": 28005, \"fpr\": 0.9388343912290825, \"tpr\": 0.9859310837350473, \"n\": 8665}, {\"threshold\": 0.606, \"p\": 28005, \"fpr\": 0.9388343912290825, \"tpr\": 0.9859310837350473, \"n\": 8665}, {\"threshold\": 0.607, \"p\": 28005, \"fpr\": 0.9388343912290825, \"tpr\": 0.9859310837350473, \"n\": 8665}, {\"threshold\": 0.608, \"p\": 28005, \"fpr\": 0.9388343912290825, \"tpr\": 0.9859310837350473, \"n\": 8665}, {\"threshold\": 0.609, \"p\": 28005, \"fpr\": 0.9388343912290825, \"tpr\": 0.9859310837350473, \"n\": 8665}, {\"threshold\": 0.61, \"p\": 28005, \"fpr\": 0.9388343912290825, \"tpr\": 0.9859310837350473, \"n\": 8665}, {\"threshold\": 0.611, \"p\": 28005, \"fpr\": 0.9388343912290825, \"tpr\": 0.9859310837350473, \"n\": 8665}, {\"threshold\": 0.612, \"p\": 28005, \"fpr\": 0.9388343912290825, \"tpr\": 0.9859310837350473, \"n\": 8665}, {\"threshold\": 0.613, \"p\": 28005, \"fpr\": 0.9388343912290825, \"tpr\": 0.9859310837350473, \"n\": 8665}, {\"threshold\": 0.614, \"p\": 28005, \"fpr\": 0.9388343912290825, \"tpr\": 0.9859310837350473, \"n\": 8665}, {\"threshold\": 0.615, \"p\": 28005, \"fpr\": 0.9387189844200808, \"tpr\": 0.9859310837350473, \"n\": 8665}, {\"threshold\": 0.616, \"p\": 28005, \"fpr\": 0.9387189844200808, \"tpr\": 0.9859310837350473, \"n\": 8665}, {\"threshold\": 0.617, \"p\": 28005, \"fpr\": 0.9387189844200808, \"tpr\": 0.9859310837350473, \"n\": 8665}, {\"threshold\": 0.618, \"p\": 28005, \"fpr\": 0.9387189844200808, \"tpr\": 0.9859310837350473, \"n\": 8665}, {\"threshold\": 0.619, \"p\": 28005, \"fpr\": 0.9387189844200808, \"tpr\": 0.9859310837350473, \"n\": 8665}, {\"threshold\": 0.62, \"p\": 28005, \"fpr\": 0.9387189844200808, \"tpr\": 0.9859310837350473, \"n\": 8665}, {\"threshold\": 0.621, \"p\": 28005, \"fpr\": 0.9387189844200808, \"tpr\": 0.9858953758257454, \"n\": 8665}, {\"threshold\": 0.622, \"p\": 28005, \"fpr\": 0.9387189844200808, \"tpr\": 0.9858953758257454, \"n\": 8665}, {\"threshold\": 0.623, \"p\": 28005, \"fpr\": 0.9387189844200808, \"tpr\": 0.9858953758257454, \"n\": 8665}, {\"threshold\": 0.624, \"p\": 28005, \"fpr\": 0.9387189844200808, \"tpr\": 0.9858953758257454, \"n\": 8665}, {\"threshold\": 0.625, \"p\": 28005, \"fpr\": 0.9384881708020774, \"tpr\": 0.9858239600071416, \"n\": 8665}, {\"threshold\": 0.626, \"p\": 28005, \"fpr\": 0.9384881708020774, \"tpr\": 0.9858239600071416, \"n\": 8665}, {\"threshold\": 0.627, \"p\": 28005, \"fpr\": 0.9384881708020774, \"tpr\": 0.9858239600071416, \"n\": 8665}, {\"threshold\": 0.628, \"p\": 28005, \"fpr\": 0.9384881708020774, \"tpr\": 0.9858239600071416, \"n\": 8665}, {\"threshold\": 0.629, \"p\": 28005, \"fpr\": 0.9384881708020774, \"tpr\": 0.9858239600071416, \"n\": 8665}, {\"threshold\": 0.63, \"p\": 28005, \"fpr\": 0.9384881708020774, \"tpr\": 0.9858239600071416, \"n\": 8665}, {\"threshold\": 0.631, \"p\": 28005, \"fpr\": 0.9384881708020774, \"tpr\": 0.9858239600071416, \"n\": 8665}, {\"threshold\": 0.632, \"p\": 28005, \"fpr\": 0.9384881708020774, \"tpr\": 0.9858239600071416, \"n\": 8665}, {\"threshold\": 0.633, \"p\": 28005, \"fpr\": 0.9384881708020774, \"tpr\": 0.9857882520978397, \"n\": 8665}, {\"threshold\": 0.634, \"p\": 28005, \"fpr\": 0.9384881708020774, \"tpr\": 0.9857882520978397, \"n\": 8665}, {\"threshold\": 0.635, \"p\": 28005, \"fpr\": 0.9384881708020774, \"tpr\": 0.9857882520978397, \"n\": 8665}, {\"threshold\": 0.636, \"p\": 28005, \"fpr\": 0.9384881708020774, \"tpr\": 0.9857882520978397, \"n\": 8665}, {\"threshold\": 0.637, \"p\": 28005, \"fpr\": 0.9384881708020774, \"tpr\": 0.9857882520978397, \"n\": 8665}, {\"threshold\": 0.638, \"p\": 28005, \"fpr\": 0.9382573571840739, \"tpr\": 0.9857525441885377, \"n\": 8665}, {\"threshold\": 0.639, \"p\": 28005, \"fpr\": 0.9382573571840739, \"tpr\": 0.9857525441885377, \"n\": 8665}, {\"threshold\": 0.64, \"p\": 28005, \"fpr\": 0.9382573571840739, \"tpr\": 0.9857525441885377, \"n\": 8665}, {\"threshold\": 0.641, \"p\": 28005, \"fpr\": 0.9382573571840739, \"tpr\": 0.9857525441885377, \"n\": 8665}, {\"threshold\": 0.642, \"p\": 28005, \"fpr\": 0.9382573571840739, \"tpr\": 0.9857525441885377, \"n\": 8665}, {\"threshold\": 0.643, \"p\": 28005, \"fpr\": 0.9382573571840739, \"tpr\": 0.9857525441885377, \"n\": 8665}, {\"threshold\": 0.644, \"p\": 28005, \"fpr\": 0.9382573571840739, \"tpr\": 0.9857525441885377, \"n\": 8665}, {\"threshold\": 0.645, \"p\": 28005, \"fpr\": 0.9382573571840739, \"tpr\": 0.9857525441885377, \"n\": 8665}, {\"threshold\": 0.646, \"p\": 28005, \"fpr\": 0.9382573571840739, \"tpr\": 0.9857525441885377, \"n\": 8665}, {\"threshold\": 0.647, \"p\": 28005, \"fpr\": 0.9382573571840739, \"tpr\": 0.9857525441885377, \"n\": 8665}, {\"threshold\": 0.648, \"p\": 28005, \"fpr\": 0.9382573571840739, \"tpr\": 0.9857525441885377, \"n\": 8665}, {\"threshold\": 0.649, \"p\": 28005, \"fpr\": 0.9382573571840739, \"tpr\": 0.9857525441885377, \"n\": 8665}, {\"threshold\": 0.65, \"p\": 28005, \"fpr\": 0.9382573571840739, \"tpr\": 0.9856454204606321, \"n\": 8665}, {\"threshold\": 0.651, \"p\": 28005, \"fpr\": 0.9380265435660704, \"tpr\": 0.9856097125513301, \"n\": 8665}, {\"threshold\": 0.652, \"p\": 28005, \"fpr\": 0.9380265435660704, \"tpr\": 0.9856097125513301, \"n\": 8665}, {\"threshold\": 0.653, \"p\": 28005, \"fpr\": 0.9380265435660704, \"tpr\": 0.9856097125513301, \"n\": 8665}, {\"threshold\": 0.654, \"p\": 28005, \"fpr\": 0.9380265435660704, \"tpr\": 0.9856097125513301, \"n\": 8665}, {\"threshold\": 0.655, \"p\": 28005, \"fpr\": 0.9380265435660704, \"tpr\": 0.9856097125513301, \"n\": 8665}, {\"threshold\": 0.656, \"p\": 28005, \"fpr\": 0.9380265435660704, \"tpr\": 0.9856097125513301, \"n\": 8665}, {\"threshold\": 0.657, \"p\": 28005, \"fpr\": 0.9379111367570687, \"tpr\": 0.9856097125513301, \"n\": 8665}, {\"threshold\": 0.658, \"p\": 28005, \"fpr\": 0.9379111367570687, \"tpr\": 0.9856097125513301, \"n\": 8665}, {\"threshold\": 0.659, \"p\": 28005, \"fpr\": 0.9379111367570687, \"tpr\": 0.9856097125513301, \"n\": 8665}, {\"threshold\": 0.66, \"p\": 28005, \"fpr\": 0.9379111367570687, \"tpr\": 0.9856097125513301, \"n\": 8665}, {\"threshold\": 0.661, \"p\": 28005, \"fpr\": 0.9379111367570687, \"tpr\": 0.9856097125513301, \"n\": 8665}, {\"threshold\": 0.662, \"p\": 28005, \"fpr\": 0.9379111367570687, \"tpr\": 0.9856097125513301, \"n\": 8665}, {\"threshold\": 0.663, \"p\": 28005, \"fpr\": 0.9379111367570687, \"tpr\": 0.9856097125513301, \"n\": 8665}, {\"threshold\": 0.664, \"p\": 28005, \"fpr\": 0.9379111367570687, \"tpr\": 0.9856097125513301, \"n\": 8665}, {\"threshold\": 0.665, \"p\": 28005, \"fpr\": 0.9379111367570687, \"tpr\": 0.9856097125513301, \"n\": 8665}, {\"threshold\": 0.666, \"p\": 28005, \"fpr\": 0.9379111367570687, \"tpr\": 0.9856097125513301, \"n\": 8665}, {\"threshold\": 0.667, \"p\": 28005, \"fpr\": 0.9377957299480669, \"tpr\": 0.9856097125513301, \"n\": 8665}, {\"threshold\": 0.668, \"p\": 28005, \"fpr\": 0.9347951529140219, \"tpr\": 0.9839314408141403, \"n\": 8665}, {\"threshold\": 0.669, \"p\": 28005, \"fpr\": 0.9347951529140219, \"tpr\": 0.9839314408141403, \"n\": 8665}, {\"threshold\": 0.67, \"p\": 28005, \"fpr\": 0.9347951529140219, \"tpr\": 0.9839314408141403, \"n\": 8665}, {\"threshold\": 0.671, \"p\": 28005, \"fpr\": 0.9347951529140219, \"tpr\": 0.9839314408141403, \"n\": 8665}, {\"threshold\": 0.672, \"p\": 28005, \"fpr\": 0.9347951529140219, \"tpr\": 0.9839314408141403, \"n\": 8665}, {\"threshold\": 0.673, \"p\": 28005, \"fpr\": 0.9347951529140219, \"tpr\": 0.9839314408141403, \"n\": 8665}, {\"threshold\": 0.674, \"p\": 28005, \"fpr\": 0.9347951529140219, \"tpr\": 0.9839314408141403, \"n\": 8665}, {\"threshold\": 0.675, \"p\": 28005, \"fpr\": 0.9347951529140219, \"tpr\": 0.9839314408141403, \"n\": 8665}, {\"threshold\": 0.676, \"p\": 28005, \"fpr\": 0.9347951529140219, \"tpr\": 0.9839314408141403, \"n\": 8665}, {\"threshold\": 0.677, \"p\": 28005, \"fpr\": 0.9347951529140219, \"tpr\": 0.9839314408141403, \"n\": 8665}, {\"threshold\": 0.678, \"p\": 28005, \"fpr\": 0.9347951529140219, \"tpr\": 0.9839314408141403, \"n\": 8665}, {\"threshold\": 0.679, \"p\": 28005, \"fpr\": 0.9347951529140219, \"tpr\": 0.9839314408141403, \"n\": 8665}, {\"threshold\": 0.68, \"p\": 28005, \"fpr\": 0.9347951529140219, \"tpr\": 0.9839314408141403, \"n\": 8665}, {\"threshold\": 0.681, \"p\": 28005, \"fpr\": 0.9347951529140219, \"tpr\": 0.9839314408141403, \"n\": 8665}, {\"threshold\": 0.682, \"p\": 28005, \"fpr\": 0.9347951529140219, \"tpr\": 0.9839314408141403, \"n\": 8665}, {\"threshold\": 0.683, \"p\": 28005, \"fpr\": 0.9347951529140219, \"tpr\": 0.9839314408141403, \"n\": 8665}, {\"threshold\": 0.684, \"p\": 28005, \"fpr\": 0.9347951529140219, \"tpr\": 0.9839314408141403, \"n\": 8665}, {\"threshold\": 0.685, \"p\": 28005, \"fpr\": 0.933064050778996, \"tpr\": 0.9830387430815926, \"n\": 8665}, {\"threshold\": 0.686, \"p\": 28005, \"fpr\": 0.933064050778996, \"tpr\": 0.9830387430815926, \"n\": 8665}, {\"threshold\": 0.687, \"p\": 28005, \"fpr\": 0.933064050778996, \"tpr\": 0.9830387430815926, \"n\": 8665}, {\"threshold\": 0.688, \"p\": 28005, \"fpr\": 0.933064050778996, \"tpr\": 0.9830387430815926, \"n\": 8665}, {\"threshold\": 0.689, \"p\": 28005, \"fpr\": 0.933064050778996, \"tpr\": 0.9830387430815926, \"n\": 8665}, {\"threshold\": 0.69, \"p\": 28005, \"fpr\": 0.933064050778996, \"tpr\": 0.9830387430815926, \"n\": 8665}, {\"threshold\": 0.691, \"p\": 28005, \"fpr\": 0.933064050778996, \"tpr\": 0.9830387430815926, \"n\": 8665}, {\"threshold\": 0.692, \"p\": 28005, \"fpr\": 0.933064050778996, \"tpr\": 0.9830387430815926, \"n\": 8665}, {\"threshold\": 0.693, \"p\": 28005, \"fpr\": 0.933064050778996, \"tpr\": 0.9830387430815926, \"n\": 8665}, {\"threshold\": 0.694, \"p\": 28005, \"fpr\": 0.933064050778996, \"tpr\": 0.9830387430815926, \"n\": 8665}, {\"threshold\": 0.695, \"p\": 28005, \"fpr\": 0.933064050778996, \"tpr\": 0.9830387430815926, \"n\": 8665}, {\"threshold\": 0.696, \"p\": 28005, \"fpr\": 0.933064050778996, \"tpr\": 0.9830387430815926, \"n\": 8665}, {\"threshold\": 0.697, \"p\": 28005, \"fpr\": 0.933064050778996, \"tpr\": 0.9830387430815926, \"n\": 8665}, {\"threshold\": 0.698, \"p\": 28005, \"fpr\": 0.933064050778996, \"tpr\": 0.9830387430815926, \"n\": 8665}, {\"threshold\": 0.699, \"p\": 28005, \"fpr\": 0.933064050778996, \"tpr\": 0.9830387430815926, \"n\": 8665}, {\"threshold\": 0.7, \"p\": 28005, \"fpr\": 0.933064050778996, \"tpr\": 0.9830387430815926, \"n\": 8665}, {\"threshold\": 0.701, \"p\": 28005, \"fpr\": 0.933064050778996, \"tpr\": 0.9830387430815926, \"n\": 8665}, {\"threshold\": 0.702, \"p\": 28005, \"fpr\": 0.933064050778996, \"tpr\": 0.9830387430815926, \"n\": 8665}, {\"threshold\": 0.703, \"p\": 28005, \"fpr\": 0.933064050778996, \"tpr\": 0.9830030351722907, \"n\": 8665}, {\"threshold\": 0.704, \"p\": 28005, \"fpr\": 0.933064050778996, \"tpr\": 0.9830030351722907, \"n\": 8665}, {\"threshold\": 0.705, \"p\": 28005, \"fpr\": 0.933064050778996, \"tpr\": 0.9830030351722907, \"n\": 8665}, {\"threshold\": 0.706, \"p\": 28005, \"fpr\": 0.933064050778996, \"tpr\": 0.9830030351722907, \"n\": 8665}, {\"threshold\": 0.707, \"p\": 28005, \"fpr\": 0.933064050778996, \"tpr\": 0.9830030351722907, \"n\": 8665}, {\"threshold\": 0.708, \"p\": 28005, \"fpr\": 0.933064050778996, \"tpr\": 0.9830030351722907, \"n\": 8665}, {\"threshold\": 0.709, \"p\": 28005, \"fpr\": 0.9328332371609925, \"tpr\": 0.9829316193536869, \"n\": 8665}, {\"threshold\": 0.71, \"p\": 28005, \"fpr\": 0.9328332371609925, \"tpr\": 0.9829316193536869, \"n\": 8665}, {\"threshold\": 0.711, \"p\": 28005, \"fpr\": 0.16814772071552223, \"tpr\": 0.4141760399928584, \"n\": 8665}, {\"threshold\": 0.712, \"p\": 28005, \"fpr\": 0.16814772071552223, \"tpr\": 0.4141760399928584, \"n\": 8665}, {\"threshold\": 0.713, \"p\": 28005, \"fpr\": 0.16814772071552223, \"tpr\": 0.4141760399928584, \"n\": 8665}, {\"threshold\": 0.714, \"p\": 28005, \"fpr\": 0.16814772071552223, \"tpr\": 0.4141760399928584, \"n\": 8665}, {\"threshold\": 0.715, \"p\": 28005, \"fpr\": 0.16814772071552223, \"tpr\": 0.4141760399928584, \"n\": 8665}, {\"threshold\": 0.716, \"p\": 28005, \"fpr\": 0.16814772071552223, \"tpr\": 0.4141760399928584, \"n\": 8665}, {\"threshold\": 0.717, \"p\": 28005, \"fpr\": 0.16814772071552223, \"tpr\": 0.4141760399928584, \"n\": 8665}, {\"threshold\": 0.718, \"p\": 28005, \"fpr\": 0.16814772071552223, \"tpr\": 0.4141760399928584, \"n\": 8665}, {\"threshold\": 0.719, \"p\": 28005, \"fpr\": 0.16814772071552223, \"tpr\": 0.4141760399928584, \"n\": 8665}, {\"threshold\": 0.72, \"p\": 28005, \"fpr\": 0.16814772071552223, \"tpr\": 0.4141760399928584, \"n\": 8665}, {\"threshold\": 0.721, \"p\": 28005, \"fpr\": 0.16814772071552223, \"tpr\": 0.4141760399928584, \"n\": 8665}, {\"threshold\": 0.722, \"p\": 28005, \"fpr\": 0.16814772071552223, \"tpr\": 0.4141760399928584, \"n\": 8665}, {\"threshold\": 0.723, \"p\": 28005, \"fpr\": 0.16814772071552223, \"tpr\": 0.4141760399928584, \"n\": 8665}, {\"threshold\": 0.724, \"p\": 28005, \"fpr\": 0.16814772071552223, \"tpr\": 0.4141760399928584, \"n\": 8665}, {\"threshold\": 0.725, \"p\": 28005, \"fpr\": 0.16814772071552223, \"tpr\": 0.4141760399928584, \"n\": 8665}, {\"threshold\": 0.726, \"p\": 28005, \"fpr\": 0.16814772071552223, \"tpr\": 0.4141760399928584, \"n\": 8665}, {\"threshold\": 0.727, \"p\": 28005, \"fpr\": 0.16814772071552223, \"tpr\": 0.4141760399928584, \"n\": 8665}, {\"threshold\": 0.728, \"p\": 28005, \"fpr\": 0.16814772071552223, \"tpr\": 0.4141760399928584, \"n\": 8665}, {\"threshold\": 0.729, \"p\": 28005, \"fpr\": 0.16814772071552223, \"tpr\": 0.4141760399928584, \"n\": 8665}, {\"threshold\": 0.73, \"p\": 28005, \"fpr\": 0.16814772071552223, \"tpr\": 0.4141760399928584, \"n\": 8665}, {\"threshold\": 0.731, \"p\": 28005, \"fpr\": 0.16791690709751875, \"tpr\": 0.4141046241742546, \"n\": 8665}, {\"threshold\": 0.732, \"p\": 28005, \"fpr\": 0.16791690709751875, \"tpr\": 0.4140332083556508, \"n\": 8665}, {\"threshold\": 0.733, \"p\": 28005, \"fpr\": 0.16791690709751875, \"tpr\": 0.4140332083556508, \"n\": 8665}, {\"threshold\": 0.734, \"p\": 28005, \"fpr\": 0.16791690709751875, \"tpr\": 0.4140332083556508, \"n\": 8665}, {\"threshold\": 0.735, \"p\": 28005, \"fpr\": 0.16791690709751875, \"tpr\": 0.41385466880914124, \"n\": 8665}, {\"threshold\": 0.736, \"p\": 28005, \"fpr\": 0.16780150028851704, \"tpr\": 0.4137832529905374, \"n\": 8665}, {\"threshold\": 0.737, \"p\": 28005, \"fpr\": 0.16780150028851704, \"tpr\": 0.4137832529905374, \"n\": 8665}, {\"threshold\": 0.738, \"p\": 28005, \"fpr\": 0.16780150028851704, \"tpr\": 0.4137832529905374, \"n\": 8665}, {\"threshold\": 0.739, \"p\": 28005, \"fpr\": 0.16780150028851704, \"tpr\": 0.4137832529905374, \"n\": 8665}, {\"threshold\": 0.74, \"p\": 28005, \"fpr\": 0.16780150028851704, \"tpr\": 0.4137832529905374, \"n\": 8665}, {\"threshold\": 0.741, \"p\": 28005, \"fpr\": 0.16780150028851704, \"tpr\": 0.4137832529905374, \"n\": 8665}, {\"threshold\": 0.742, \"p\": 28005, \"fpr\": 0.16780150028851704, \"tpr\": 0.4137832529905374, \"n\": 8665}, {\"threshold\": 0.743, \"p\": 28005, \"fpr\": 0.16780150028851704, \"tpr\": 0.4137832529905374, \"n\": 8665}, {\"threshold\": 0.744, \"p\": 28005, \"fpr\": 0.16780150028851704, \"tpr\": 0.4137832529905374, \"n\": 8665}, {\"threshold\": 0.745, \"p\": 28005, \"fpr\": 0.16780150028851704, \"tpr\": 0.4137832529905374, \"n\": 8665}, {\"threshold\": 0.746, \"p\": 28005, \"fpr\": 0.16780150028851704, \"tpr\": 0.4137832529905374, \"n\": 8665}, {\"threshold\": 0.747, \"p\": 28005, \"fpr\": 0.16780150028851704, \"tpr\": 0.4137832529905374, \"n\": 8665}, {\"threshold\": 0.748, \"p\": 28005, \"fpr\": 0.16780150028851704, \"tpr\": 0.4137832529905374, \"n\": 8665}, {\"threshold\": 0.749, \"p\": 28005, \"fpr\": 0.16780150028851704, \"tpr\": 0.4137832529905374, \"n\": 8665}, {\"threshold\": 0.75, \"p\": 28005, \"fpr\": 0.16780150028851704, \"tpr\": 0.4137832529905374, \"n\": 8665}, {\"threshold\": 0.751, \"p\": 28005, \"fpr\": 0.16780150028851704, \"tpr\": 0.4137832529905374, \"n\": 8665}, {\"threshold\": 0.752, \"p\": 28005, \"fpr\": 0.16780150028851704, \"tpr\": 0.4137832529905374, \"n\": 8665}, {\"threshold\": 0.753, \"p\": 28005, \"fpr\": 0.16780150028851704, \"tpr\": 0.4137832529905374, \"n\": 8665}, {\"threshold\": 0.754, \"p\": 28005, \"fpr\": 0.16780150028851704, \"tpr\": 0.4137832529905374, \"n\": 8665}, {\"threshold\": 0.755, \"p\": 28005, \"fpr\": 0.16780150028851704, \"tpr\": 0.4137832529905374, \"n\": 8665}, {\"threshold\": 0.756, \"p\": 28005, \"fpr\": 0.16780150028851704, \"tpr\": 0.4137832529905374, \"n\": 8665}, {\"threshold\": 0.757, \"p\": 28005, \"fpr\": 0.16780150028851704, \"tpr\": 0.4137832529905374, \"n\": 8665}, {\"threshold\": 0.758, \"p\": 28005, \"fpr\": 0.16780150028851704, \"tpr\": 0.4137832529905374, \"n\": 8665}, {\"threshold\": 0.759, \"p\": 28005, \"fpr\": 0.16780150028851704, \"tpr\": 0.4137832529905374, \"n\": 8665}, {\"threshold\": 0.76, \"p\": 28005, \"fpr\": 0.16780150028851704, \"tpr\": 0.4137832529905374, \"n\": 8665}, {\"threshold\": 0.761, \"p\": 28005, \"fpr\": 0.1663012117714945, \"tpr\": 0.4121763970719514, \"n\": 8665}, {\"threshold\": 0.762, \"p\": 28005, \"fpr\": 0.1663012117714945, \"tpr\": 0.4121763970719514, \"n\": 8665}, {\"threshold\": 0.763, \"p\": 28005, \"fpr\": 0.1663012117714945, \"tpr\": 0.4121763970719514, \"n\": 8665}, {\"threshold\": 0.764, \"p\": 28005, \"fpr\": 0.1663012117714945, \"tpr\": 0.4121763970719514, \"n\": 8665}, {\"threshold\": 0.765, \"p\": 28005, \"fpr\": 0.1663012117714945, \"tpr\": 0.4121763970719514, \"n\": 8665}, {\"threshold\": 0.766, \"p\": 28005, \"fpr\": 0.1663012117714945, \"tpr\": 0.4121763970719514, \"n\": 8665}, {\"threshold\": 0.767, \"p\": 28005, \"fpr\": 0.1663012117714945, \"tpr\": 0.4121763970719514, \"n\": 8665}, {\"threshold\": 0.768, \"p\": 28005, \"fpr\": 0.1663012117714945, \"tpr\": 0.4121763970719514, \"n\": 8665}, {\"threshold\": 0.769, \"p\": 28005, \"fpr\": 0.1663012117714945, \"tpr\": 0.4121763970719514, \"n\": 8665}, {\"threshold\": 0.77, \"p\": 28005, \"fpr\": 0.1663012117714945, \"tpr\": 0.4121763970719514, \"n\": 8665}, {\"threshold\": 0.771, \"p\": 28005, \"fpr\": 0.1663012117714945, \"tpr\": 0.4121763970719514, \"n\": 8665}, {\"threshold\": 0.772, \"p\": 28005, \"fpr\": 0.1663012117714945, \"tpr\": 0.4121763970719514, \"n\": 8665}, {\"threshold\": 0.773, \"p\": 28005, \"fpr\": 0.1654933641084824, \"tpr\": 0.41196214961613997, \"n\": 8665}, {\"threshold\": 0.774, \"p\": 28005, \"fpr\": 0.1654933641084824, \"tpr\": 0.41196214961613997, \"n\": 8665}, {\"threshold\": 0.775, \"p\": 28005, \"fpr\": 0.1654933641084824, \"tpr\": 0.41196214961613997, \"n\": 8665}, {\"threshold\": 0.776, \"p\": 28005, \"fpr\": 0.1654933641084824, \"tpr\": 0.41196214961613997, \"n\": 8665}, {\"threshold\": 0.777, \"p\": 28005, \"fpr\": 0.1654933641084824, \"tpr\": 0.41196214961613997, \"n\": 8665}, {\"threshold\": 0.778, \"p\": 28005, \"fpr\": 0.1654933641084824, \"tpr\": 0.41196214961613997, \"n\": 8665}, {\"threshold\": 0.779, \"p\": 28005, \"fpr\": 0.1654933641084824, \"tpr\": 0.41196214961613997, \"n\": 8665}, {\"threshold\": 0.78, \"p\": 28005, \"fpr\": 0.1654933641084824, \"tpr\": 0.41192644170683806, \"n\": 8665}, {\"threshold\": 0.781, \"p\": 28005, \"fpr\": 0.1654933641084824, \"tpr\": 0.41192644170683806, \"n\": 8665}, {\"threshold\": 0.782, \"p\": 28005, \"fpr\": 0.1654933641084824, \"tpr\": 0.41192644170683806, \"n\": 8665}, {\"threshold\": 0.783, \"p\": 28005, \"fpr\": 0.1654933641084824, \"tpr\": 0.41192644170683806, \"n\": 8665}, {\"threshold\": 0.784, \"p\": 28005, \"fpr\": 0.1654933641084824, \"tpr\": 0.41192644170683806, \"n\": 8665}, {\"threshold\": 0.785, \"p\": 28005, \"fpr\": 0.1654933641084824, \"tpr\": 0.41192644170683806, \"n\": 8665}, {\"threshold\": 0.786, \"p\": 28005, \"fpr\": 0.1654933641084824, \"tpr\": 0.41192644170683806, \"n\": 8665}, {\"threshold\": 0.787, \"p\": 28005, \"fpr\": 0.16537795729948068, \"tpr\": 0.41192644170683806, \"n\": 8665}, {\"threshold\": 0.788, \"p\": 28005, \"fpr\": 0.16537795729948068, \"tpr\": 0.41192644170683806, \"n\": 8665}, {\"threshold\": 0.789, \"p\": 28005, \"fpr\": 0.16526255049047894, \"tpr\": 0.41185502588823425, \"n\": 8665}, {\"threshold\": 0.79, \"p\": 28005, \"fpr\": 0.16526255049047894, \"tpr\": 0.41178361006963043, \"n\": 8665}, {\"threshold\": 0.791, \"p\": 28005, \"fpr\": 0.16526255049047894, \"tpr\": 0.41178361006963043, \"n\": 8665}, {\"threshold\": 0.792, \"p\": 28005, \"fpr\": 0.16526255049047894, \"tpr\": 0.41178361006963043, \"n\": 8665}, {\"threshold\": 0.793, \"p\": 28005, \"fpr\": 0.16526255049047894, \"tpr\": 0.41178361006963043, \"n\": 8665}, {\"threshold\": 0.794, \"p\": 28005, \"fpr\": 0.16526255049047894, \"tpr\": 0.41178361006963043, \"n\": 8665}, {\"threshold\": 0.795, \"p\": 28005, \"fpr\": 0.16526255049047894, \"tpr\": 0.41178361006963043, \"n\": 8665}, {\"threshold\": 0.796, \"p\": 28005, \"fpr\": 0.16526255049047894, \"tpr\": 0.41178361006963043, \"n\": 8665}, {\"threshold\": 0.797, \"p\": 28005, \"fpr\": 0.16526255049047894, \"tpr\": 0.41178361006963043, \"n\": 8665}, {\"threshold\": 0.798, \"p\": 28005, \"fpr\": 0.16526255049047894, \"tpr\": 0.41178361006963043, \"n\": 8665}, {\"threshold\": 0.799, \"p\": 28005, \"fpr\": 0.16526255049047894, \"tpr\": 0.41178361006963043, \"n\": 8665}, {\"threshold\": 0.8, \"p\": 28005, \"fpr\": 0.16526255049047894, \"tpr\": 0.41178361006963043, \"n\": 8665}, {\"threshold\": 0.801, \"p\": 28005, \"fpr\": 0.16526255049047894, \"tpr\": 0.41178361006963043, \"n\": 8665}, {\"threshold\": 0.802, \"p\": 28005, \"fpr\": 0.16480092325447201, \"tpr\": 0.4113194072487056, \"n\": 8665}, {\"threshold\": 0.803, \"p\": 28005, \"fpr\": 0.16480092325447201, \"tpr\": 0.4113194072487056, \"n\": 8665}, {\"threshold\": 0.804, \"p\": 28005, \"fpr\": 0.16480092325447201, \"tpr\": 0.4113194072487056, \"n\": 8665}, {\"threshold\": 0.805, \"p\": 28005, \"fpr\": 0.16480092325447201, \"tpr\": 0.4113194072487056, \"n\": 8665}, {\"threshold\": 0.806, \"p\": 28005, \"fpr\": 0.16480092325447201, \"tpr\": 0.4113194072487056, \"n\": 8665}, {\"threshold\": 0.807, \"p\": 28005, \"fpr\": 0.16480092325447201, \"tpr\": 0.4113194072487056, \"n\": 8665}, {\"threshold\": 0.808, \"p\": 28005, \"fpr\": 0.16480092325447201, \"tpr\": 0.4113194072487056, \"n\": 8665}, {\"threshold\": 0.809, \"p\": 28005, \"fpr\": 0.16480092325447201, \"tpr\": 0.4113194072487056, \"n\": 8665}, {\"threshold\": 0.81, \"p\": 28005, \"fpr\": 0.16480092325447201, \"tpr\": 0.4113194072487056, \"n\": 8665}, {\"threshold\": 0.811, \"p\": 28005, \"fpr\": 0.16480092325447201, \"tpr\": 0.41124799143010177, \"n\": 8665}, {\"threshold\": 0.812, \"p\": 28005, \"fpr\": 0.16480092325447201, \"tpr\": 0.41124799143010177, \"n\": 8665}, {\"threshold\": 0.813, \"p\": 28005, \"fpr\": 0.16480092325447201, \"tpr\": 0.41124799143010177, \"n\": 8665}, {\"threshold\": 0.814, \"p\": 28005, \"fpr\": 0.16457010963646856, \"tpr\": 0.4109980360649884, \"n\": 8665}, {\"threshold\": 0.815, \"p\": 28005, \"fpr\": 0.16457010963646856, \"tpr\": 0.4109980360649884, \"n\": 8665}, {\"threshold\": 0.816, \"p\": 28005, \"fpr\": 0.16457010963646856, \"tpr\": 0.4109980360649884, \"n\": 8665}, {\"threshold\": 0.817, \"p\": 28005, \"fpr\": 0.16457010963646856, \"tpr\": 0.4109980360649884, \"n\": 8665}, {\"threshold\": 0.818, \"p\": 28005, \"fpr\": 0.16457010963646856, \"tpr\": 0.4109980360649884, \"n\": 8665}, {\"threshold\": 0.819, \"p\": 28005, \"fpr\": 0.16457010963646856, \"tpr\": 0.4109980360649884, \"n\": 8665}, {\"threshold\": 0.82, \"p\": 28005, \"fpr\": 0.16457010963646856, \"tpr\": 0.4109980360649884, \"n\": 8665}, {\"threshold\": 0.821, \"p\": 28005, \"fpr\": 0.16457010963646856, \"tpr\": 0.4109980360649884, \"n\": 8665}, {\"threshold\": 0.822, \"p\": 28005, \"fpr\": 0.16457010963646856, \"tpr\": 0.4109980360649884, \"n\": 8665}, {\"threshold\": 0.823, \"p\": 28005, \"fpr\": 0.16457010963646856, \"tpr\": 0.4109980360649884, \"n\": 8665}, {\"threshold\": 0.824, \"p\": 28005, \"fpr\": 0.16457010963646856, \"tpr\": 0.4109980360649884, \"n\": 8665}, {\"threshold\": 0.825, \"p\": 28005, \"fpr\": 0.16457010963646856, \"tpr\": 0.4109980360649884, \"n\": 8665}, {\"threshold\": 0.826, \"p\": 28005, \"fpr\": 0.16457010963646856, \"tpr\": 0.4109980360649884, \"n\": 8665}, {\"threshold\": 0.827, \"p\": 28005, \"fpr\": 0.16457010963646856, \"tpr\": 0.4109980360649884, \"n\": 8665}, {\"threshold\": 0.828, \"p\": 28005, \"fpr\": 0.16457010963646856, \"tpr\": 0.4109980360649884, \"n\": 8665}, {\"threshold\": 0.829, \"p\": 28005, \"fpr\": 0.16457010963646856, \"tpr\": 0.4109980360649884, \"n\": 8665}, {\"threshold\": 0.83, \"p\": 28005, \"fpr\": 0.16457010963646856, \"tpr\": 0.4109980360649884, \"n\": 8665}, {\"threshold\": 0.831, \"p\": 28005, \"fpr\": 0.16445470282746683, \"tpr\": 0.4109980360649884, \"n\": 8665}, {\"threshold\": 0.832, \"p\": 28005, \"fpr\": 0.07974610502019619, \"tpr\": 0.265345474022496, \"n\": 8665}, {\"threshold\": 0.833, \"p\": 28005, \"fpr\": 0.07974610502019619, \"tpr\": 0.265345474022496, \"n\": 8665}, {\"threshold\": 0.834, \"p\": 28005, \"fpr\": 0.07974610502019619, \"tpr\": 0.265345474022496, \"n\": 8665}, {\"threshold\": 0.835, \"p\": 28005, \"fpr\": 0.07974610502019619, \"tpr\": 0.265345474022496, \"n\": 8665}, {\"threshold\": 0.836, \"p\": 28005, \"fpr\": 0.07974610502019619, \"tpr\": 0.26530976611319407, \"n\": 8665}, {\"threshold\": 0.837, \"p\": 28005, \"fpr\": 0.07974610502019619, \"tpr\": 0.26530976611319407, \"n\": 8665}, {\"threshold\": 0.838, \"p\": 28005, \"fpr\": 0.07974610502019619, \"tpr\": 0.26530976611319407, \"n\": 8665}, {\"threshold\": 0.839, \"p\": 28005, \"fpr\": 0.07963069821119446, \"tpr\": 0.26530976611319407, \"n\": 8665}, {\"threshold\": 0.84, \"p\": 28005, \"fpr\": 0.07963069821119446, \"tpr\": 0.26530976611319407, \"n\": 8665}, {\"threshold\": 0.841, \"p\": 28005, \"fpr\": 0.07963069821119446, \"tpr\": 0.26530976611319407, \"n\": 8665}, {\"threshold\": 0.842, \"p\": 28005, \"fpr\": 0.07963069821119446, \"tpr\": 0.26530976611319407, \"n\": 8665}, {\"threshold\": 0.843, \"p\": 28005, \"fpr\": 0.07963069821119446, \"tpr\": 0.26530976611319407, \"n\": 8665}, {\"threshold\": 0.844, \"p\": 28005, \"fpr\": 0.07963069821119446, \"tpr\": 0.26530976611319407, \"n\": 8665}, {\"threshold\": 0.845, \"p\": 28005, \"fpr\": 0.07963069821119446, \"tpr\": 0.26530976611319407, \"n\": 8665}, {\"threshold\": 0.846, \"p\": 28005, \"fpr\": 0.079399884593191, \"tpr\": 0.26530976611319407, \"n\": 8665}, {\"threshold\": 0.847, \"p\": 28005, \"fpr\": 0.079399884593191, \"tpr\": 0.26530976611319407, \"n\": 8665}, {\"threshold\": 0.848, \"p\": 28005, \"fpr\": 0.079399884593191, \"tpr\": 0.26527405820389216, \"n\": 8665}, {\"threshold\": 0.849, \"p\": 28005, \"fpr\": 0.07928447778418926, \"tpr\": 0.26527405820389216, \"n\": 8665}, {\"threshold\": 0.85, \"p\": 28005, \"fpr\": 0.07928447778418926, \"tpr\": 0.26527405820389216, \"n\": 8665}, {\"threshold\": 0.851, \"p\": 28005, \"fpr\": 0.07928447778418926, \"tpr\": 0.26527405820389216, \"n\": 8665}, {\"threshold\": 0.852, \"p\": 28005, \"fpr\": 0.07928447778418926, \"tpr\": 0.26527405820389216, \"n\": 8665}, {\"threshold\": 0.853, \"p\": 28005, \"fpr\": 0.07928447778418926, \"tpr\": 0.26527405820389216, \"n\": 8665}, {\"threshold\": 0.854, \"p\": 28005, \"fpr\": 0.07928447778418926, \"tpr\": 0.26527405820389216, \"n\": 8665}, {\"threshold\": 0.855, \"p\": 28005, \"fpr\": 0.07928447778418926, \"tpr\": 0.26527405820389216, \"n\": 8665}, {\"threshold\": 0.856, \"p\": 28005, \"fpr\": 0.07928447778418926, \"tpr\": 0.26520264238528835, \"n\": 8665}, {\"threshold\": 0.857, \"p\": 28005, \"fpr\": 0.07928447778418926, \"tpr\": 0.26520264238528835, \"n\": 8665}, {\"threshold\": 0.858, \"p\": 28005, \"fpr\": 0.07720715522215811, \"tpr\": 0.26116764863417247, \"n\": 8665}, {\"threshold\": 0.859, \"p\": 28005, \"fpr\": 0.07720715522215811, \"tpr\": 0.26116764863417247, \"n\": 8665}, {\"threshold\": 0.86, \"p\": 28005, \"fpr\": 0.07720715522215811, \"tpr\": 0.26116764863417247, \"n\": 8665}, {\"threshold\": 0.861, \"p\": 28005, \"fpr\": 0.07720715522215811, \"tpr\": 0.26116764863417247, \"n\": 8665}, {\"threshold\": 0.862, \"p\": 28005, \"fpr\": 0.07720715522215811, \"tpr\": 0.26116764863417247, \"n\": 8665}, {\"threshold\": 0.863, \"p\": 28005, \"fpr\": 0.07720715522215811, \"tpr\": 0.26116764863417247, \"n\": 8665}, {\"threshold\": 0.864, \"p\": 28005, \"fpr\": 0.07720715522215811, \"tpr\": 0.26116764863417247, \"n\": 8665}, {\"threshold\": 0.865, \"p\": 28005, \"fpr\": 0.07674552798615118, \"tpr\": 0.26056061417604, \"n\": 8665}, {\"threshold\": 0.866, \"p\": 28005, \"fpr\": 0.07674552798615118, \"tpr\": 0.26056061417604, \"n\": 8665}, {\"threshold\": 0.867, \"p\": 28005, \"fpr\": 0.07674552798615118, \"tpr\": 0.26056061417604, \"n\": 8665}, {\"threshold\": 0.868, \"p\": 28005, \"fpr\": 0.07674552798615118, \"tpr\": 0.26056061417604, \"n\": 8665}, {\"threshold\": 0.869, \"p\": 28005, \"fpr\": 0.07674552798615118, \"tpr\": 0.26056061417604, \"n\": 8665}, {\"threshold\": 0.87, \"p\": 28005, \"fpr\": 0.07674552798615118, \"tpr\": 0.26056061417604, \"n\": 8665}, {\"threshold\": 0.871, \"p\": 28005, \"fpr\": 0.07409117137911136, \"tpr\": 0.25413319050169614, \"n\": 8665}, {\"threshold\": 0.872, \"p\": 28005, \"fpr\": 0.07409117137911136, \"tpr\": 0.25413319050169614, \"n\": 8665}, {\"threshold\": 0.873, \"p\": 28005, \"fpr\": 0.07397576457010964, \"tpr\": 0.25413319050169614, \"n\": 8665}, {\"threshold\": 0.874, \"p\": 28005, \"fpr\": 0.07362954414310445, \"tpr\": 0.25391894304588464, \"n\": 8665}, {\"threshold\": 0.875, \"p\": 28005, \"fpr\": 0.07362954414310445, \"tpr\": 0.25391894304588464, \"n\": 8665}, {\"threshold\": 0.876, \"p\": 28005, \"fpr\": 0.07362954414310445, \"tpr\": 0.25391894304588464, \"n\": 8665}, {\"threshold\": 0.877, \"p\": 28005, \"fpr\": 0.07362954414310445, \"tpr\": 0.25391894304588464, \"n\": 8665}, {\"threshold\": 0.878, \"p\": 28005, \"fpr\": 0.07362954414310445, \"tpr\": 0.25391894304588464, \"n\": 8665}, {\"threshold\": 0.879, \"p\": 28005, \"fpr\": 0.07362954414310445, \"tpr\": 0.25391894304588464, \"n\": 8665}, {\"threshold\": 0.88, \"p\": 28005, \"fpr\": 0.07362954414310445, \"tpr\": 0.25391894304588464, \"n\": 8665}, {\"threshold\": 0.881, \"p\": 28005, \"fpr\": 0.07362954414310445, \"tpr\": 0.25391894304588464, \"n\": 8665}, {\"threshold\": 0.882, \"p\": 28005, \"fpr\": 0.07362954414310445, \"tpr\": 0.25391894304588464, \"n\": 8665}, {\"threshold\": 0.883, \"p\": 28005, \"fpr\": 0.07362954414310445, \"tpr\": 0.25388323513658273, \"n\": 8665}, {\"threshold\": 0.884, \"p\": 28005, \"fpr\": 0.07362954414310445, \"tpr\": 0.25388323513658273, \"n\": 8665}, {\"threshold\": 0.885, \"p\": 28005, \"fpr\": 0.07362954414310445, \"tpr\": 0.25388323513658273, \"n\": 8665}, {\"threshold\": 0.886, \"p\": 28005, \"fpr\": 0.07351413733410271, \"tpr\": 0.2538118193179789, \"n\": 8665}, {\"threshold\": 0.887, \"p\": 28005, \"fpr\": 0.027813040969417197, \"tpr\": 0.11690769505445456, \"n\": 8665}, {\"threshold\": 0.888, \"p\": 28005, \"fpr\": 0.027813040969417197, \"tpr\": 0.11690769505445456, \"n\": 8665}, {\"threshold\": 0.889, \"p\": 28005, \"fpr\": 0.027813040969417197, \"tpr\": 0.11690769505445456, \"n\": 8665}, {\"threshold\": 0.89, \"p\": 28005, \"fpr\": 0.027813040969417197, \"tpr\": 0.11690769505445456, \"n\": 8665}, {\"threshold\": 0.891, \"p\": 28005, \"fpr\": 0.027813040969417197, \"tpr\": 0.11683627923585074, \"n\": 8665}, {\"threshold\": 0.892, \"p\": 28005, \"fpr\": 0.027813040969417197, \"tpr\": 0.11683627923585074, \"n\": 8665}, {\"threshold\": 0.893, \"p\": 28005, \"fpr\": 0.027813040969417197, \"tpr\": 0.11680057132654884, \"n\": 8665}, {\"threshold\": 0.894, \"p\": 28005, \"fpr\": 0.027813040969417197, \"tpr\": 0.11680057132654884, \"n\": 8665}, {\"threshold\": 0.895, \"p\": 28005, \"fpr\": 0.027813040969417197, \"tpr\": 0.11680057132654884, \"n\": 8665}, {\"threshold\": 0.896, \"p\": 28005, \"fpr\": 0.027813040969417197, \"tpr\": 0.11680057132654884, \"n\": 8665}, {\"threshold\": 0.897, \"p\": 28005, \"fpr\": 0.027813040969417197, \"tpr\": 0.11680057132654884, \"n\": 8665}, {\"threshold\": 0.898, \"p\": 28005, \"fpr\": 0.027813040969417197, \"tpr\": 0.11680057132654884, \"n\": 8665}, {\"threshold\": 0.899, \"p\": 28005, \"fpr\": 0.027813040969417197, \"tpr\": 0.11680057132654884, \"n\": 8665}, {\"threshold\": 0.9, \"p\": 28005, \"fpr\": 0.027813040969417197, \"tpr\": 0.11680057132654884, \"n\": 8665}, {\"threshold\": 0.901, \"p\": 28005, \"fpr\": 0.027813040969417197, \"tpr\": 0.11680057132654884, \"n\": 8665}, {\"threshold\": 0.902, \"p\": 28005, \"fpr\": 0.027813040969417197, \"tpr\": 0.11680057132654884, \"n\": 8665}, {\"threshold\": 0.903, \"p\": 28005, \"fpr\": 0.027697634160415464, \"tpr\": 0.11680057132654884, \"n\": 8665}, {\"threshold\": 0.904, \"p\": 28005, \"fpr\": 0.027697634160415464, \"tpr\": 0.11680057132654884, \"n\": 8665}, {\"threshold\": 0.905, \"p\": 28005, \"fpr\": 0.027697634160415464, \"tpr\": 0.11680057132654884, \"n\": 8665}, {\"threshold\": 0.906, \"p\": 28005, \"fpr\": 0.027697634160415464, \"tpr\": 0.11680057132654884, \"n\": 8665}, {\"threshold\": 0.907, \"p\": 28005, \"fpr\": 0.027697634160415464, \"tpr\": 0.11680057132654884, \"n\": 8665}, {\"threshold\": 0.908, \"p\": 28005, \"fpr\": 0.027697634160415464, \"tpr\": 0.11680057132654884, \"n\": 8665}, {\"threshold\": 0.909, \"p\": 28005, \"fpr\": 0.01869590305828044, \"tpr\": 0.09287627209426888, \"n\": 8665}, {\"threshold\": 0.91, \"p\": 28005, \"fpr\": 0.018465089440276975, \"tpr\": 0.09230494554543832, \"n\": 8665}, {\"threshold\": 0.911, \"p\": 28005, \"fpr\": 0.018465089440276975, \"tpr\": 0.09230494554543832, \"n\": 8665}, {\"threshold\": 0.912, \"p\": 28005, \"fpr\": 0.018465089440276975, \"tpr\": 0.09230494554543832, \"n\": 8665}, {\"threshold\": 0.913, \"p\": 28005, \"fpr\": 0.018465089440276975, \"tpr\": 0.09230494554543832, \"n\": 8665}, {\"threshold\": 0.914, \"p\": 28005, \"fpr\": 0.018465089440276975, \"tpr\": 0.09230494554543832, \"n\": 8665}, {\"threshold\": 0.915, \"p\": 28005, \"fpr\": 0.018465089440276975, \"tpr\": 0.09230494554543832, \"n\": 8665}, {\"threshold\": 0.916, \"p\": 28005, \"fpr\": 0.018465089440276975, \"tpr\": 0.09219782181753258, \"n\": 8665}, {\"threshold\": 0.917, \"p\": 28005, \"fpr\": 0.018465089440276975, \"tpr\": 0.09219782181753258, \"n\": 8665}, {\"threshold\": 0.918, \"p\": 28005, \"fpr\": 0.018465089440276975, \"tpr\": 0.09219782181753258, \"n\": 8665}, {\"threshold\": 0.919, \"p\": 28005, \"fpr\": 0.018465089440276975, \"tpr\": 0.09216211390823068, \"n\": 8665}, {\"threshold\": 0.92, \"p\": 28005, \"fpr\": 0.018465089440276975, \"tpr\": 0.09216211390823068, \"n\": 8665}, {\"threshold\": 0.921, \"p\": 28005, \"fpr\": 0.018465089440276975, \"tpr\": 0.09216211390823068, \"n\": 8665}, {\"threshold\": 0.922, \"p\": 28005, \"fpr\": 0.018465089440276975, \"tpr\": 0.09216211390823068, \"n\": 8665}, {\"threshold\": 0.923, \"p\": 28005, \"fpr\": 0.018465089440276975, \"tpr\": 0.09212640599892877, \"n\": 8665}, {\"threshold\": 0.924, \"p\": 28005, \"fpr\": 0.018234275822273514, \"tpr\": 0.09109087662917337, \"n\": 8665}, {\"threshold\": 0.925, \"p\": 28005, \"fpr\": 0.018234275822273514, \"tpr\": 0.09109087662917337, \"n\": 8665}, {\"threshold\": 0.926, \"p\": 28005, \"fpr\": 0.018234275822273514, \"tpr\": 0.09109087662917337, \"n\": 8665}, {\"threshold\": 0.927, \"p\": 28005, \"fpr\": 0.018234275822273514, \"tpr\": 0.09109087662917337, \"n\": 8665}, {\"threshold\": 0.928, \"p\": 28005, \"fpr\": 0.018118869013271782, \"tpr\": 0.0908766291733619, \"n\": 8665}, {\"threshold\": 0.929, \"p\": 28005, \"fpr\": 0.018118869013271782, \"tpr\": 0.0908766291733619, \"n\": 8665}, {\"threshold\": 0.93, \"p\": 28005, \"fpr\": 0.018118869013271782, \"tpr\": 0.0908766291733619, \"n\": 8665}, {\"threshold\": 0.931, \"p\": 28005, \"fpr\": 0.018118869013271782, \"tpr\": 0.0908766291733619, \"n\": 8665}, {\"threshold\": 0.932, \"p\": 28005, \"fpr\": 0.01754183496826313, \"tpr\": 0.08959114443849313, \"n\": 8665}, {\"threshold\": 0.933, \"p\": 28005, \"fpr\": 0.017426428159261396, \"tpr\": 0.08959114443849313, \"n\": 8665}, {\"threshold\": 0.934, \"p\": 28005, \"fpr\": 0.017426428159261396, \"tpr\": 0.08959114443849313, \"n\": 8665}, {\"threshold\": 0.935, \"p\": 28005, \"fpr\": 0.017426428159261396, \"tpr\": 0.08959114443849313, \"n\": 8665}, {\"threshold\": 0.936, \"p\": 28005, \"fpr\": 0.017426428159261396, \"tpr\": 0.08959114443849313, \"n\": 8665}, {\"threshold\": 0.937, \"p\": 28005, \"fpr\": 0.017426428159261396, \"tpr\": 0.08948402071058739, \"n\": 8665}, {\"threshold\": 0.938, \"p\": 28005, \"fpr\": 0.017426428159261396, \"tpr\": 0.08948402071058739, \"n\": 8665}, {\"threshold\": 0.939, \"p\": 28005, \"fpr\": 0.017426428159261396, \"tpr\": 0.08948402071058739, \"n\": 8665}, {\"threshold\": 0.94, \"p\": 28005, \"fpr\": 0.017426428159261396, \"tpr\": 0.08948402071058739, \"n\": 8665}, {\"threshold\": 0.941, \"p\": 28005, \"fpr\": 0.010040392383150605, \"tpr\": 0.053133369041242634, \"n\": 8665}, {\"threshold\": 0.942, \"p\": 28005, \"fpr\": 0.010040392383150605, \"tpr\": 0.053133369041242634, \"n\": 8665}, {\"threshold\": 0.943, \"p\": 28005, \"fpr\": 0.010040392383150605, \"tpr\": 0.053026245313336905, \"n\": 8665}, {\"threshold\": 0.944, \"p\": 28005, \"fpr\": 0.010040392383150605, \"tpr\": 0.052990537404035, \"n\": 8665}, {\"threshold\": 0.945, \"p\": 28005, \"fpr\": 0.010040392383150605, \"tpr\": 0.052990537404035, \"n\": 8665}, {\"threshold\": 0.946, \"p\": 28005, \"fpr\": 0.010040392383150605, \"tpr\": 0.05295482949473308, \"n\": 8665}, {\"threshold\": 0.947, \"p\": 28005, \"fpr\": 0.010040392383150605, \"tpr\": 0.05295482949473308, \"n\": 8665}, {\"threshold\": 0.948, \"p\": 28005, \"fpr\": 0.009924985574148875, \"tpr\": 0.05295482949473308, \"n\": 8665}, {\"threshold\": 0.949, \"p\": 28005, \"fpr\": 0.009924985574148875, \"tpr\": 0.05281199785752544, \"n\": 8665}, {\"threshold\": 0.95, \"p\": 28005, \"fpr\": 0.009809578765147143, \"tpr\": 0.05281199785752544, \"n\": 8665}, {\"threshold\": 0.951, \"p\": 28005, \"fpr\": 0.00946335833814195, \"tpr\": 0.05159792894126049, \"n\": 8665}, {\"threshold\": 0.952, \"p\": 28005, \"fpr\": 0.00946335833814195, \"tpr\": 0.05159792894126049, \"n\": 8665}, {\"threshold\": 0.953, \"p\": 28005, \"fpr\": 0.008655510675129832, \"tpr\": 0.04763435100874844, \"n\": 8665}, {\"threshold\": 0.954, \"p\": 28005, \"fpr\": 0.008540103866128102, \"tpr\": 0.04759864309944653, \"n\": 8665}, {\"threshold\": 0.955, \"p\": 28005, \"fpr\": 0.008540103866128102, \"tpr\": 0.04759864309944653, \"n\": 8665}, {\"threshold\": 0.956, \"p\": 28005, \"fpr\": 0.008193883439122909, \"tpr\": 0.04563470808784146, \"n\": 8665}, {\"threshold\": 0.957, \"p\": 28005, \"fpr\": 0.008193883439122909, \"tpr\": 0.04556329226923764, \"n\": 8665}, {\"threshold\": 0.958, \"p\": 28005, \"fpr\": 0.008193883439122909, \"tpr\": 0.04552758435993572, \"n\": 8665}, {\"threshold\": 0.959, \"p\": 28005, \"fpr\": 0.008193883439122909, \"tpr\": 0.04552758435993572, \"n\": 8665}, {\"threshold\": 0.96, \"p\": 28005, \"fpr\": 0.008193883439122909, \"tpr\": 0.045491876450633816, \"n\": 8665}, {\"threshold\": 0.961, \"p\": 28005, \"fpr\": 0.007847663012117714, \"tpr\": 0.04527762899482235, \"n\": 8665}, {\"threshold\": 0.962, \"p\": 28005, \"fpr\": 0.004616272360069244, \"tpr\": 0.027352258525263348, \"n\": 8665}, {\"threshold\": 0.963, \"p\": 28005, \"fpr\": 0.004616272360069244, \"tpr\": 0.027245134797357615, \"n\": 8665}, {\"threshold\": 0.964, \"p\": 28005, \"fpr\": 0.004616272360069244, \"tpr\": 0.027245134797357615, \"n\": 8665}, {\"threshold\": 0.965, \"p\": 28005, \"fpr\": 0.004500865551067513, \"tpr\": 0.02695947152294233, \"n\": 8665}, {\"threshold\": 0.966, \"p\": 28005, \"fpr\": 0.004500865551067513, \"tpr\": 0.02695947152294233, \"n\": 8665}, {\"threshold\": 0.967, \"p\": 28005, \"fpr\": 0.004500865551067513, \"tpr\": 0.02695947152294233, \"n\": 8665}, {\"threshold\": 0.968, \"p\": 28005, \"fpr\": 0.004500865551067513, \"tpr\": 0.026923763613640423, \"n\": 8665}, {\"threshold\": 0.969, \"p\": 28005, \"fpr\": 0.004500865551067513, \"tpr\": 0.026923763613640423, \"n\": 8665}, {\"threshold\": 0.97, \"p\": 28005, \"fpr\": 0.003346797461050202, \"tpr\": 0.020067845027673628, \"n\": 8665}, {\"threshold\": 0.971, \"p\": 28005, \"fpr\": 0.003346797461050202, \"tpr\": 0.02003213711837172, \"n\": 8665}, {\"threshold\": 0.972, \"p\": 28005, \"fpr\": 0.003346797461050202, \"tpr\": 0.01999642920906981, \"n\": 8665}, {\"threshold\": 0.973, \"p\": 28005, \"fpr\": 0.003346797461050202, \"tpr\": 0.01999642920906981, \"n\": 8665}, {\"threshold\": 0.974, \"p\": 28005, \"fpr\": 0.003346797461050202, \"tpr\": 0.0199607212997679, \"n\": 8665}, {\"threshold\": 0.975, \"p\": 28005, \"fpr\": 0.003346797461050202, \"tpr\": 0.019603642206748796, \"n\": 8665}, {\"threshold\": 0.976, \"p\": 28005, \"fpr\": 0.003346797461050202, \"tpr\": 0.01910373147652205, \"n\": 8665}, {\"threshold\": 0.977, \"p\": 28005, \"fpr\": 0.003346797461050202, \"tpr\": 0.018996607748616317, \"n\": 8665}, {\"threshold\": 0.978, \"p\": 28005, \"fpr\": 0.003231390652048471, \"tpr\": 0.018496697018389574, \"n\": 8665}, {\"threshold\": 0.979, \"p\": 28005, \"fpr\": 0.003231390652048471, \"tpr\": 0.018496697018389574, \"n\": 8665}, {\"threshold\": 0.98, \"p\": 28005, \"fpr\": 0.003231390652048471, \"tpr\": 0.01838957329048384, \"n\": 8665}, {\"threshold\": 0.981, \"p\": 28005, \"fpr\": 0.002192729371032891, \"tpr\": 0.012890555257989645, \"n\": 8665}, {\"threshold\": 0.982, \"p\": 28005, \"fpr\": 0.002192729371032891, \"tpr\": 0.012854847348687734, \"n\": 8665}, {\"threshold\": 0.983, \"p\": 28005, \"fpr\": 0.002192729371032891, \"tpr\": 0.012819139439385823, \"n\": 8665}, {\"threshold\": 0.984, \"p\": 28005, \"fpr\": 0.00207732256203116, \"tpr\": 0.012676307802178183, \"n\": 8665}, {\"threshold\": 0.985, \"p\": 28005, \"fpr\": 0.0018465089440276976, \"tpr\": 0.01153365470451705, \"n\": 8665}, {\"threshold\": 0.986, \"p\": 28005, \"fpr\": 0.0017311021350259665, \"tpr\": 0.011247991430101767, \"n\": 8665}, {\"threshold\": 0.987, \"p\": 28005, \"fpr\": 0.0017311021350259665, \"tpr\": 0.011247991430101767, \"n\": 8665}, {\"threshold\": 0.988, \"p\": 28005, \"fpr\": 0.00103866128101558, \"tpr\": 0.00671308694875915, \"n\": 8665}, {\"threshold\": 0.989, \"p\": 28005, \"fpr\": 0.00103866128101558, \"tpr\": 0.00667737903945724, \"n\": 8665}, {\"threshold\": 0.99, \"p\": 28005, \"fpr\": 0.00103866128101558, \"tpr\": 0.00667737903945724, \"n\": 8665}, {\"threshold\": 0.991, \"p\": 28005, \"fpr\": 0.0009232544720138488, \"tpr\": 0.005249062667380825, \"n\": 8665}, {\"threshold\": 0.992, \"p\": 28005, \"fpr\": 0.0009232544720138488, \"tpr\": 0.005177646848777004, \"n\": 8665}, {\"threshold\": 0.993, \"p\": 28005, \"fpr\": 0.0008078476630121177, \"tpr\": 0.00478485984645599, \"n\": 8665}, {\"threshold\": 0.994, \"p\": 28005, \"fpr\": 0.0008078476630121177, \"tpr\": 0.00382074629530441, \"n\": 8665}, {\"threshold\": 0.995, \"p\": 28005, \"fpr\": 0.0008078476630121177, \"tpr\": 0.0034279592929833957, \"n\": 8665}, {\"threshold\": 0.996, \"p\": 28005, \"fpr\": 0.0005770340450086555, \"tpr\": 0.0029280485627566507, \"n\": 8665}, {\"threshold\": 0.997, \"p\": 28005, \"fpr\": 0.0001154068090017311, \"tpr\": 0.001535440099982146, \"n\": 8665}, {\"threshold\": 0.998, \"p\": 28005, \"fpr\": 0.0001154068090017311, \"tpr\": 0.0013926084627745045, \"n\": 8665}, {\"threshold\": 0.999, \"p\": 28005, \"fpr\": 0.0, \"tpr\": 0.0005356186395286556, \"n\": 8665}, {\"threshold\": 1.0, \"p\": 28005, \"fpr\": 0.0, \"tpr\": 0.0, \"n\": 8665}]}]], \"type\": \"Model\"}, \"ipython\": true, \"view_params\": {\"model_type\": \"regression\", \"view\": \"Evaluation\"}, \"model_type\": \"regression\", \"attributes\": {\"section_titles\": [\"Schema\", \"Hyperparameters\", \"Training Summary\", \"Settings\", \"Highest Positive Coefficients\", \"Lowest Negative Coefficients\"], \"sections\": [[[\"Number of coefficients\", 12], [\"Number of examples\", 146861], [\"Number of classes\", 2], [\"Number of feature columns\", 11], [\"Number of unpacked features\", 11]], [[\"L1 penalty\", 0.0], [\"L2 penalty\", 0.01]], [[\"Solver\", \"newton\"], [\"Solver iterations\", 5], [\"Solver status\", \"SUCCESS: Optimal solution found.\"], [\"Training time (sec)\", 2.2233]], [[\"Log-likelihood\", 75402.828]], [[\"love\", 1.1572], [\"awesome\", 1.0063], [\"(intercept)\", 0.8997], [\"amazing\", 0.892], [\"great\", 0.6997]], [[\"horrible\", -1.7577], [\"terrible\", -1.7357], [\"awful\", -1.4381], [\"hate\", -1.283], [\"bad\", -0.9041]]]}, \"evaluations\": [[\"test_data\", {\"roc_curve\": [{\"threshold\": 0.0, \"p\": 28005, \"fpr\": 1.0, \"tpr\": 1.0, \"n\": 8665}, {\"threshold\": 0.001, \"p\": 28005, \"fpr\": 0.9998845931909983, \"tpr\": 1.0, \"n\": 8665}, {\"threshold\": 0.002, \"p\": 28005, \"fpr\": 0.9998845931909983, \"tpr\": 1.0, \"n\": 8665}, {\"threshold\": 0.003, \"p\": 28005, \"fpr\": 0.9997691863819965, \"tpr\": 1.0, \"n\": 8665}, {\"threshold\": 0.004, \"p\": 28005, \"fpr\": 0.9997691863819965, \"tpr\": 1.0, \"n\": 8665}, {\"threshold\": 0.005, \"p\": 28005, \"fpr\": 0.9997691863819965, \"tpr\": 1.0, \"n\": 8665}, {\"threshold\": 0.006, \"p\": 28005, \"fpr\": 0.9997691863819965, \"tpr\": 1.0, \"n\": 8665}, {\"threshold\": 0.007, \"p\": 28005, \"fpr\": 0.9997691863819965, \"tpr\": 1.0, \"n\": 8665}, {\"threshold\": 0.008, \"p\": 28005, \"fpr\": 0.9997691863819965, \"tpr\": 1.0, \"n\": 8665}, {\"threshold\": 0.009, \"p\": 28005, \"fpr\": 0.9997691863819965, \"tpr\": 1.0, \"n\": 8665}, {\"threshold\": 0.01, \"p\": 28005, \"fpr\": 0.9997691863819965, \"tpr\": 1.0, \"n\": 8665}, {\"threshold\": 0.011, \"p\": 28005, \"fpr\": 0.9997691863819965, \"tpr\": 1.0, \"n\": 8665}, {\"threshold\": 0.012, \"p\": 28005, \"fpr\": 0.9997691863819965, \"tpr\": 1.0, \"n\": 8665}, {\"threshold\": 0.013, \"p\": 28005, \"fpr\": 0.9996537795729948, \"tpr\": 1.0, \"n\": 8665}, {\"threshold\": 0.014, \"p\": 28005, \"fpr\": 0.999538372763993, \"tpr\": 1.0, \"n\": 8665}, {\"threshold\": 0.015, \"p\": 28005, \"fpr\": 0.999538372763993, \"tpr\": 1.0, \"n\": 8665}, {\"threshold\": 0.016, \"p\": 28005, \"fpr\": 0.999538372763993, \"tpr\": 1.0, \"n\": 8665}, {\"threshold\": 0.017, \"p\": 28005, \"fpr\": 0.999538372763993, \"tpr\": 1.0, \"n\": 8665}, {\"threshold\": 0.018, \"p\": 28005, \"fpr\": 0.999538372763993, \"tpr\": 1.0, \"n\": 8665}, {\"threshold\": 0.019, \"p\": 28005, \"fpr\": 0.9994229659549914, \"tpr\": 1.0, \"n\": 8665}, {\"threshold\": 0.02, \"p\": 28005, \"fpr\": 0.9994229659549914, \"tpr\": 1.0, \"n\": 8665}, {\"threshold\": 0.021, \"p\": 28005, \"fpr\": 0.9993075591459896, \"tpr\": 1.0, \"n\": 8665}, {\"threshold\": 0.022, \"p\": 28005, \"fpr\": 0.9993075591459896, \"tpr\": 1.0, \"n\": 8665}, {\"threshold\": 0.023, \"p\": 28005, \"fpr\": 0.9993075591459896, \"tpr\": 1.0, \"n\": 8665}, {\"threshold\": 0.024, \"p\": 28005, \"fpr\": 0.9993075591459896, \"tpr\": 1.0, \"n\": 8665}, {\"threshold\": 0.025, \"p\": 28005, \"fpr\": 0.9993075591459896, \"tpr\": 1.0, \"n\": 8665}, {\"threshold\": 0.026, \"p\": 28005, \"fpr\": 0.9993075591459896, \"tpr\": 1.0, \"n\": 8665}, {\"threshold\": 0.027, \"p\": 28005, \"fpr\": 0.9993075591459896, \"tpr\": 1.0, \"n\": 8665}, {\"threshold\": 0.028, \"p\": 28005, \"fpr\": 0.9993075591459896, \"tpr\": 1.0, \"n\": 8665}, {\"threshold\": 0.029, \"p\": 28005, \"fpr\": 0.9993075591459896, \"tpr\": 0.999964292090698, \"n\": 8665}, {\"threshold\": 0.03, \"p\": 28005, \"fpr\": 0.9993075591459896, \"tpr\": 0.999964292090698, \"n\": 8665}, {\"threshold\": 0.031, \"p\": 28005, \"fpr\": 0.9993075591459896, \"tpr\": 0.999964292090698, \"n\": 8665}, {\"threshold\": 0.032, \"p\": 28005, \"fpr\": 0.9993075591459896, \"tpr\": 0.999964292090698, \"n\": 8665}, {\"threshold\": 0.033, \"p\": 28005, \"fpr\": 0.9993075591459896, \"tpr\": 0.999964292090698, \"n\": 8665}, {\"threshold\": 0.034, \"p\": 28005, \"fpr\": 0.9993075591459896, \"tpr\": 0.999964292090698, \"n\": 8665}, {\"threshold\": 0.035, \"p\": 28005, \"fpr\": 0.9993075591459896, \"tpr\": 0.999964292090698, \"n\": 8665}, {\"threshold\": 0.036, \"p\": 28005, \"fpr\": 0.9993075591459896, \"tpr\": 0.999964292090698, \"n\": 8665}, {\"threshold\": 0.037, \"p\": 28005, \"fpr\": 0.9993075591459896, \"tpr\": 0.999964292090698, \"n\": 8665}, {\"threshold\": 0.038, \"p\": 28005, \"fpr\": 0.9993075591459896, \"tpr\": 0.999964292090698, \"n\": 8665}, {\"threshold\": 0.039, \"p\": 28005, \"fpr\": 0.9993075591459896, \"tpr\": 0.999964292090698, \"n\": 8665}, {\"threshold\": 0.04, \"p\": 28005, \"fpr\": 0.9993075591459896, \"tpr\": 0.999964292090698, \"n\": 8665}, {\"threshold\": 0.041, \"p\": 28005, \"fpr\": 0.9993075591459896, \"tpr\": 0.999964292090698, \"n\": 8665}, {\"threshold\": 0.042, \"p\": 28005, \"fpr\": 0.9993075591459896, \"tpr\": 0.9999285841813962, \"n\": 8665}, {\"threshold\": 0.043, \"p\": 28005, \"fpr\": 0.9991921523369879, \"tpr\": 0.9999285841813962, \"n\": 8665}, {\"threshold\": 0.044, \"p\": 28005, \"fpr\": 0.9991921523369879, \"tpr\": 0.9999285841813962, \"n\": 8665}, {\"threshold\": 0.045, \"p\": 28005, \"fpr\": 0.9991921523369879, \"tpr\": 0.9999285841813962, \"n\": 8665}, {\"threshold\": 0.046, \"p\": 28005, \"fpr\": 0.9991921523369879, \"tpr\": 0.9999285841813962, \"n\": 8665}, {\"threshold\": 0.047, \"p\": 28005, \"fpr\": 0.9991921523369879, \"tpr\": 0.9999285841813962, \"n\": 8665}, {\"threshold\": 0.048, \"p\": 28005, \"fpr\": 0.9991921523369879, \"tpr\": 0.9999285841813962, \"n\": 8665}, {\"threshold\": 0.049, \"p\": 28005, \"fpr\": 0.9991921523369879, \"tpr\": 0.9999285841813962, \"n\": 8665}, {\"threshold\": 0.05, \"p\": 28005, \"fpr\": 0.9991921523369879, \"tpr\": 0.9999285841813962, \"n\": 8665}, {\"threshold\": 0.051, \"p\": 28005, \"fpr\": 0.9991921523369879, \"tpr\": 0.9999285841813962, \"n\": 8665}, {\"threshold\": 0.052, \"p\": 28005, \"fpr\": 0.9991921523369879, \"tpr\": 0.9999285841813962, \"n\": 8665}, {\"threshold\": 0.053, \"p\": 28005, \"fpr\": 0.9991921523369879, \"tpr\": 0.9999285841813962, \"n\": 8665}, {\"threshold\": 0.054, \"p\": 28005, \"fpr\": 0.9991921523369879, \"tpr\": 0.9999285841813962, \"n\": 8665}, {\"threshold\": 0.055, \"p\": 28005, \"fpr\": 0.9991921523369879, \"tpr\": 0.9999285841813962, \"n\": 8665}, {\"threshold\": 0.056, \"p\": 28005, \"fpr\": 0.9991921523369879, \"tpr\": 0.9999285841813962, \"n\": 8665}, {\"threshold\": 0.057, \"p\": 28005, \"fpr\": 0.9991921523369879, \"tpr\": 0.9999285841813962, \"n\": 8665}, {\"threshold\": 0.058, \"p\": 28005, \"fpr\": 0.9991921523369879, \"tpr\": 0.9999285841813962, \"n\": 8665}, {\"threshold\": 0.059, \"p\": 28005, \"fpr\": 0.9991921523369879, \"tpr\": 0.9999285841813962, \"n\": 8665}, {\"threshold\": 0.06, \"p\": 28005, \"fpr\": 0.9991921523369879, \"tpr\": 0.9999285841813962, \"n\": 8665}, {\"threshold\": 0.061, \"p\": 28005, \"fpr\": 0.9991921523369879, \"tpr\": 0.9999285841813962, \"n\": 8665}, {\"threshold\": 0.062, \"p\": 28005, \"fpr\": 0.9991921523369879, \"tpr\": 0.9999285841813962, \"n\": 8665}, {\"threshold\": 0.063, \"p\": 28005, \"fpr\": 0.9991921523369879, \"tpr\": 0.9999285841813962, \"n\": 8665}, {\"threshold\": 0.064, \"p\": 28005, \"fpr\": 0.9991921523369879, \"tpr\": 0.9999285841813962, \"n\": 8665}, {\"threshold\": 0.065, \"p\": 28005, \"fpr\": 0.9991921523369879, \"tpr\": 0.9998571683627924, \"n\": 8665}, {\"threshold\": 0.066, \"p\": 28005, \"fpr\": 0.9991921523369879, \"tpr\": 0.9998571683627924, \"n\": 8665}, {\"threshold\": 0.067, \"p\": 28005, \"fpr\": 0.9990767455279862, \"tpr\": 0.9998571683627924, \"n\": 8665}, {\"threshold\": 0.068, \"p\": 28005, \"fpr\": 0.9990767455279862, \"tpr\": 0.9998571683627924, \"n\": 8665}, {\"threshold\": 0.069, \"p\": 28005, \"fpr\": 0.9989613387189844, \"tpr\": 0.9997857525441886, \"n\": 8665}, {\"threshold\": 0.07, \"p\": 28005, \"fpr\": 0.9988459319099827, \"tpr\": 0.9997857525441886, \"n\": 8665}, {\"threshold\": 0.071, \"p\": 28005, \"fpr\": 0.9983843046739758, \"tpr\": 0.9997857525441886, \"n\": 8665}, {\"threshold\": 0.072, \"p\": 28005, \"fpr\": 0.9983843046739758, \"tpr\": 0.9997857525441886, \"n\": 8665}, {\"threshold\": 0.073, \"p\": 28005, \"fpr\": 0.9983843046739758, \"tpr\": 0.9997857525441886, \"n\": 8665}, {\"threshold\": 0.074, \"p\": 28005, \"fpr\": 0.9983843046739758, \"tpr\": 0.9997857525441886, \"n\": 8665}, {\"threshold\": 0.075, \"p\": 28005, \"fpr\": 0.9983843046739758, \"tpr\": 0.9997857525441886, \"n\": 8665}, {\"threshold\": 0.076, \"p\": 28005, \"fpr\": 0.9983843046739758, \"tpr\": 0.9997857525441886, \"n\": 8665}, {\"threshold\": 0.077, \"p\": 28005, \"fpr\": 0.9983843046739758, \"tpr\": 0.9997857525441886, \"n\": 8665}, {\"threshold\": 0.078, \"p\": 28005, \"fpr\": 0.9983843046739758, \"tpr\": 0.9997857525441886, \"n\": 8665}, {\"threshold\": 0.079, \"p\": 28005, \"fpr\": 0.9983843046739758, \"tpr\": 0.9997857525441886, \"n\": 8665}, {\"threshold\": 0.08, \"p\": 28005, \"fpr\": 0.9983843046739758, \"tpr\": 0.9997857525441886, \"n\": 8665}, {\"threshold\": 0.081, \"p\": 28005, \"fpr\": 0.9983843046739758, \"tpr\": 0.9997857525441886, \"n\": 8665}, {\"threshold\": 0.082, \"p\": 28005, \"fpr\": 0.9983843046739758, \"tpr\": 0.9997857525441886, \"n\": 8665}, {\"threshold\": 0.083, \"p\": 28005, \"fpr\": 0.9983843046739758, \"tpr\": 0.9997857525441886, \"n\": 8665}, {\"threshold\": 0.084, \"p\": 28005, \"fpr\": 0.9983843046739758, \"tpr\": 0.9997857525441886, \"n\": 8665}, {\"threshold\": 0.085, \"p\": 28005, \"fpr\": 0.9983843046739758, \"tpr\": 0.9997857525441886, \"n\": 8665}, {\"threshold\": 0.086, \"p\": 28005, \"fpr\": 0.9983843046739758, \"tpr\": 0.9997857525441886, \"n\": 8665}, {\"threshold\": 0.087, \"p\": 28005, \"fpr\": 0.9982688978649741, \"tpr\": 0.9997857525441886, \"n\": 8665}, {\"threshold\": 0.088, \"p\": 28005, \"fpr\": 0.9982688978649741, \"tpr\": 0.9997857525441886, \"n\": 8665}, {\"threshold\": 0.089, \"p\": 28005, \"fpr\": 0.9982688978649741, \"tpr\": 0.9997857525441886, \"n\": 8665}, {\"threshold\": 0.09, \"p\": 28005, \"fpr\": 0.9982688978649741, \"tpr\": 0.9997857525441886, \"n\": 8665}, {\"threshold\": 0.091, \"p\": 28005, \"fpr\": 0.9982688978649741, \"tpr\": 0.9997857525441886, \"n\": 8665}, {\"threshold\": 0.092, \"p\": 28005, \"fpr\": 0.9981534910559723, \"tpr\": 0.9997143367255847, \"n\": 8665}, {\"threshold\": 0.093, \"p\": 28005, \"fpr\": 0.9981534910559723, \"tpr\": 0.9997143367255847, \"n\": 8665}, {\"threshold\": 0.094, \"p\": 28005, \"fpr\": 0.9981534910559723, \"tpr\": 0.9997143367255847, \"n\": 8665}, {\"threshold\": 0.095, \"p\": 28005, \"fpr\": 0.9981534910559723, \"tpr\": 0.9997143367255847, \"n\": 8665}, {\"threshold\": 0.096, \"p\": 28005, \"fpr\": 0.9981534910559723, \"tpr\": 0.9997143367255847, \"n\": 8665}, {\"threshold\": 0.097, \"p\": 28005, \"fpr\": 0.9981534910559723, \"tpr\": 0.9997143367255847, \"n\": 8665}, {\"threshold\": 0.098, \"p\": 28005, \"fpr\": 0.9981534910559723, \"tpr\": 0.9997143367255847, \"n\": 8665}, {\"threshold\": 0.099, \"p\": 28005, \"fpr\": 0.9981534910559723, \"tpr\": 0.9997143367255847, \"n\": 8665}, {\"threshold\": 0.1, \"p\": 28005, \"fpr\": 0.9981534910559723, \"tpr\": 0.9997143367255847, \"n\": 8665}, {\"threshold\": 0.101, \"p\": 28005, \"fpr\": 0.9981534910559723, \"tpr\": 0.9997143367255847, \"n\": 8665}, {\"threshold\": 0.102, \"p\": 28005, \"fpr\": 0.9981534910559723, \"tpr\": 0.9997143367255847, \"n\": 8665}, {\"threshold\": 0.103, \"p\": 28005, \"fpr\": 0.9981534910559723, \"tpr\": 0.9997143367255847, \"n\": 8665}, {\"threshold\": 0.104, \"p\": 28005, \"fpr\": 0.9981534910559723, \"tpr\": 0.9997143367255847, \"n\": 8665}, {\"threshold\": 0.105, \"p\": 28005, \"fpr\": 0.9981534910559723, \"tpr\": 0.9997143367255847, \"n\": 8665}, {\"threshold\": 0.106, \"p\": 28005, \"fpr\": 0.9981534910559723, \"tpr\": 0.9996786288162828, \"n\": 8665}, {\"threshold\": 0.107, \"p\": 28005, \"fpr\": 0.9981534910559723, \"tpr\": 0.9996786288162828, \"n\": 8665}, {\"threshold\": 0.108, \"p\": 28005, \"fpr\": 0.9979226774379688, \"tpr\": 0.9996786288162828, \"n\": 8665}, {\"threshold\": 0.109, \"p\": 28005, \"fpr\": 0.9979226774379688, \"tpr\": 0.9996786288162828, \"n\": 8665}, {\"threshold\": 0.11, \"p\": 28005, \"fpr\": 0.9979226774379688, \"tpr\": 0.9996786288162828, \"n\": 8665}, {\"threshold\": 0.111, \"p\": 28005, \"fpr\": 0.9979226774379688, \"tpr\": 0.9996786288162828, \"n\": 8665}, {\"threshold\": 0.112, \"p\": 28005, \"fpr\": 0.9979226774379688, \"tpr\": 0.9996786288162828, \"n\": 8665}, {\"threshold\": 0.113, \"p\": 28005, \"fpr\": 0.9979226774379688, \"tpr\": 0.9996786288162828, \"n\": 8665}, {\"threshold\": 0.114, \"p\": 28005, \"fpr\": 0.9979226774379688, \"tpr\": 0.9996786288162828, \"n\": 8665}, {\"threshold\": 0.115, \"p\": 28005, \"fpr\": 0.9979226774379688, \"tpr\": 0.9996786288162828, \"n\": 8665}, {\"threshold\": 0.116, \"p\": 28005, \"fpr\": 0.9979226774379688, \"tpr\": 0.9996786288162828, \"n\": 8665}, {\"threshold\": 0.117, \"p\": 28005, \"fpr\": 0.9979226774379688, \"tpr\": 0.9996786288162828, \"n\": 8665}, {\"threshold\": 0.118, \"p\": 28005, \"fpr\": 0.9979226774379688, \"tpr\": 0.9996786288162828, \"n\": 8665}, {\"threshold\": 0.119, \"p\": 28005, \"fpr\": 0.9979226774379688, \"tpr\": 0.9996786288162828, \"n\": 8665}, {\"threshold\": 0.12, \"p\": 28005, \"fpr\": 0.9979226774379688, \"tpr\": 0.9996786288162828, \"n\": 8665}, {\"threshold\": 0.121, \"p\": 28005, \"fpr\": 0.9979226774379688, \"tpr\": 0.9996786288162828, \"n\": 8665}, {\"threshold\": 0.122, \"p\": 28005, \"fpr\": 0.9978072706289671, \"tpr\": 0.9996786288162828, \"n\": 8665}, {\"threshold\": 0.123, \"p\": 28005, \"fpr\": 0.9976918638199653, \"tpr\": 0.9996786288162828, \"n\": 8665}, {\"threshold\": 0.124, \"p\": 28005, \"fpr\": 0.9976918638199653, \"tpr\": 0.9996786288162828, \"n\": 8665}, {\"threshold\": 0.125, \"p\": 28005, \"fpr\": 0.9976918638199653, \"tpr\": 0.9996786288162828, \"n\": 8665}, {\"threshold\": 0.126, \"p\": 28005, \"fpr\": 0.9976918638199653, \"tpr\": 0.9996786288162828, \"n\": 8665}, {\"threshold\": 0.127, \"p\": 28005, \"fpr\": 0.9976918638199653, \"tpr\": 0.9996786288162828, \"n\": 8665}, {\"threshold\": 0.128, \"p\": 28005, \"fpr\": 0.9976918638199653, \"tpr\": 0.9996786288162828, \"n\": 8665}, {\"threshold\": 0.129, \"p\": 28005, \"fpr\": 0.9976918638199653, \"tpr\": 0.9996786288162828, \"n\": 8665}, {\"threshold\": 0.13, \"p\": 28005, \"fpr\": 0.9976918638199653, \"tpr\": 0.9996786288162828, \"n\": 8665}, {\"threshold\": 0.131, \"p\": 28005, \"fpr\": 0.9976918638199653, \"tpr\": 0.9996786288162828, \"n\": 8665}, {\"threshold\": 0.132, \"p\": 28005, \"fpr\": 0.9976918638199653, \"tpr\": 0.9996786288162828, \"n\": 8665}, {\"threshold\": 0.133, \"p\": 28005, \"fpr\": 0.9976918638199653, \"tpr\": 0.9996786288162828, \"n\": 8665}, {\"threshold\": 0.134, \"p\": 28005, \"fpr\": 0.9975764570109636, \"tpr\": 0.9996786288162828, \"n\": 8665}, {\"threshold\": 0.135, \"p\": 28005, \"fpr\": 0.9975764570109636, \"tpr\": 0.9996786288162828, \"n\": 8665}, {\"threshold\": 0.136, \"p\": 28005, \"fpr\": 0.9975764570109636, \"tpr\": 0.9996786288162828, \"n\": 8665}, {\"threshold\": 0.137, \"p\": 28005, \"fpr\": 0.9975764570109636, \"tpr\": 0.9996786288162828, \"n\": 8665}, {\"threshold\": 0.138, \"p\": 28005, \"fpr\": 0.9975764570109636, \"tpr\": 0.9996786288162828, \"n\": 8665}, {\"threshold\": 0.139, \"p\": 28005, \"fpr\": 0.9975764570109636, \"tpr\": 0.9996786288162828, \"n\": 8665}, {\"threshold\": 0.14, \"p\": 28005, \"fpr\": 0.997461050201962, \"tpr\": 0.9996786288162828, \"n\": 8665}, {\"threshold\": 0.141, \"p\": 28005, \"fpr\": 0.9972302365839585, \"tpr\": 0.9996786288162828, \"n\": 8665}, {\"threshold\": 0.142, \"p\": 28005, \"fpr\": 0.9972302365839585, \"tpr\": 0.9996786288162828, \"n\": 8665}, {\"threshold\": 0.143, \"p\": 28005, \"fpr\": 0.9972302365839585, \"tpr\": 0.9996786288162828, \"n\": 8665}, {\"threshold\": 0.144, \"p\": 28005, \"fpr\": 0.9972302365839585, \"tpr\": 0.9996786288162828, \"n\": 8665}, {\"threshold\": 0.145, \"p\": 28005, \"fpr\": 0.9972302365839585, \"tpr\": 0.9996786288162828, \"n\": 8665}, {\"threshold\": 0.146, \"p\": 28005, \"fpr\": 0.9972302365839585, \"tpr\": 0.9996786288162828, \"n\": 8665}, {\"threshold\": 0.147, \"p\": 28005, \"fpr\": 0.9971148297749567, \"tpr\": 0.9995715050883771, \"n\": 8665}, {\"threshold\": 0.148, \"p\": 28005, \"fpr\": 0.9971148297749567, \"tpr\": 0.9995715050883771, \"n\": 8665}, {\"threshold\": 0.149, \"p\": 28005, \"fpr\": 0.9971148297749567, \"tpr\": 0.9995715050883771, \"n\": 8665}, {\"threshold\": 0.15, \"p\": 28005, \"fpr\": 0.9968840161569532, \"tpr\": 0.9995715050883771, \"n\": 8665}, {\"threshold\": 0.151, \"p\": 28005, \"fpr\": 0.9968840161569532, \"tpr\": 0.9995715050883771, \"n\": 8665}, {\"threshold\": 0.152, \"p\": 28005, \"fpr\": 0.9968840161569532, \"tpr\": 0.9995715050883771, \"n\": 8665}, {\"threshold\": 0.153, \"p\": 28005, \"fpr\": 0.9968840161569532, \"tpr\": 0.9995715050883771, \"n\": 8665}, {\"threshold\": 0.154, \"p\": 28005, \"fpr\": 0.9968840161569532, \"tpr\": 0.9995715050883771, \"n\": 8665}, {\"threshold\": 0.155, \"p\": 28005, \"fpr\": 0.9968840161569532, \"tpr\": 0.9995715050883771, \"n\": 8665}, {\"threshold\": 0.156, \"p\": 28005, \"fpr\": 0.9968840161569532, \"tpr\": 0.9995715050883771, \"n\": 8665}, {\"threshold\": 0.157, \"p\": 28005, \"fpr\": 0.9968840161569532, \"tpr\": 0.9995715050883771, \"n\": 8665}, {\"threshold\": 0.158, \"p\": 28005, \"fpr\": 0.9968840161569532, \"tpr\": 0.9995715050883771, \"n\": 8665}, {\"threshold\": 0.159, \"p\": 28005, \"fpr\": 0.9963069821119446, \"tpr\": 0.9995715050883771, \"n\": 8665}, {\"threshold\": 0.16, \"p\": 28005, \"fpr\": 0.9963069821119446, \"tpr\": 0.9995715050883771, \"n\": 8665}, {\"threshold\": 0.161, \"p\": 28005, \"fpr\": 0.9963069821119446, \"tpr\": 0.9995715050883771, \"n\": 8665}, {\"threshold\": 0.162, \"p\": 28005, \"fpr\": 0.9963069821119446, \"tpr\": 0.9995715050883771, \"n\": 8665}, {\"threshold\": 0.163, \"p\": 28005, \"fpr\": 0.9963069821119446, \"tpr\": 0.9995715050883771, \"n\": 8665}, {\"threshold\": 0.164, \"p\": 28005, \"fpr\": 0.9963069821119446, \"tpr\": 0.9995715050883771, \"n\": 8665}, {\"threshold\": 0.165, \"p\": 28005, \"fpr\": 0.9963069821119446, \"tpr\": 0.9995715050883771, \"n\": 8665}, {\"threshold\": 0.166, \"p\": 28005, \"fpr\": 0.9963069821119446, \"tpr\": 0.9995715050883771, \"n\": 8665}, {\"threshold\": 0.167, \"p\": 28005, \"fpr\": 0.9963069821119446, \"tpr\": 0.9995715050883771, \"n\": 8665}, {\"threshold\": 0.168, \"p\": 28005, \"fpr\": 0.9963069821119446, \"tpr\": 0.9995715050883771, \"n\": 8665}, {\"threshold\": 0.169, \"p\": 28005, \"fpr\": 0.9963069821119446, \"tpr\": 0.9995715050883771, \"n\": 8665}, {\"threshold\": 0.17, \"p\": 28005, \"fpr\": 0.9963069821119446, \"tpr\": 0.9995715050883771, \"n\": 8665}, {\"threshold\": 0.171, \"p\": 28005, \"fpr\": 0.9963069821119446, \"tpr\": 0.9995715050883771, \"n\": 8665}, {\"threshold\": 0.172, \"p\": 28005, \"fpr\": 0.9963069821119446, \"tpr\": 0.9995715050883771, \"n\": 8665}, {\"threshold\": 0.173, \"p\": 28005, \"fpr\": 0.9963069821119446, \"tpr\": 0.9995715050883771, \"n\": 8665}, {\"threshold\": 0.174, \"p\": 28005, \"fpr\": 0.9963069821119446, \"tpr\": 0.9995357971790751, \"n\": 8665}, {\"threshold\": 0.175, \"p\": 28005, \"fpr\": 0.9963069821119446, \"tpr\": 0.9995357971790751, \"n\": 8665}, {\"threshold\": 0.176, \"p\": 28005, \"fpr\": 0.9963069821119446, \"tpr\": 0.9995357971790751, \"n\": 8665}, {\"threshold\": 0.177, \"p\": 28005, \"fpr\": 0.9963069821119446, \"tpr\": 0.9995357971790751, \"n\": 8665}, {\"threshold\": 0.178, \"p\": 28005, \"fpr\": 0.9963069821119446, \"tpr\": 0.9995357971790751, \"n\": 8665}, {\"threshold\": 0.179, \"p\": 28005, \"fpr\": 0.9963069821119446, \"tpr\": 0.9995357971790751, \"n\": 8665}, {\"threshold\": 0.18, \"p\": 28005, \"fpr\": 0.9963069821119446, \"tpr\": 0.9995357971790751, \"n\": 8665}, {\"threshold\": 0.181, \"p\": 28005, \"fpr\": 0.9963069821119446, \"tpr\": 0.9995357971790751, \"n\": 8665}, {\"threshold\": 0.182, \"p\": 28005, \"fpr\": 0.9963069821119446, \"tpr\": 0.9995357971790751, \"n\": 8665}, {\"threshold\": 0.183, \"p\": 28005, \"fpr\": 0.9963069821119446, \"tpr\": 0.9995357971790751, \"n\": 8665}, {\"threshold\": 0.184, \"p\": 28005, \"fpr\": 0.9963069821119446, \"tpr\": 0.9995357971790751, \"n\": 8665}, {\"threshold\": 0.185, \"p\": 28005, \"fpr\": 0.9963069821119446, \"tpr\": 0.9995357971790751, \"n\": 8665}, {\"threshold\": 0.186, \"p\": 28005, \"fpr\": 0.9963069821119446, \"tpr\": 0.9995357971790751, \"n\": 8665}, {\"threshold\": 0.187, \"p\": 28005, \"fpr\": 0.9963069821119446, \"tpr\": 0.9995357971790751, \"n\": 8665}, {\"threshold\": 0.188, \"p\": 28005, \"fpr\": 0.9963069821119446, \"tpr\": 0.9995357971790751, \"n\": 8665}, {\"threshold\": 0.189, \"p\": 28005, \"fpr\": 0.9963069821119446, \"tpr\": 0.9995357971790751, \"n\": 8665}, {\"threshold\": 0.19, \"p\": 28005, \"fpr\": 0.9963069821119446, \"tpr\": 0.9995357971790751, \"n\": 8665}, {\"threshold\": 0.191, \"p\": 28005, \"fpr\": 0.9963069821119446, \"tpr\": 0.9995357971790751, \"n\": 8665}, {\"threshold\": 0.192, \"p\": 28005, \"fpr\": 0.9961915753029429, \"tpr\": 0.9995000892697733, \"n\": 8665}, {\"threshold\": 0.193, \"p\": 28005, \"fpr\": 0.9961915753029429, \"tpr\": 0.9994643813604713, \"n\": 8665}, {\"threshold\": 0.194, \"p\": 28005, \"fpr\": 0.9961915753029429, \"tpr\": 0.9994643813604713, \"n\": 8665}, {\"threshold\": 0.195, \"p\": 28005, \"fpr\": 0.9961915753029429, \"tpr\": 0.9994643813604713, \"n\": 8665}, {\"threshold\": 0.196, \"p\": 28005, \"fpr\": 0.9960761684939411, \"tpr\": 0.9994286734511695, \"n\": 8665}, {\"threshold\": 0.197, \"p\": 28005, \"fpr\": 0.9960761684939411, \"tpr\": 0.9994286734511695, \"n\": 8665}, {\"threshold\": 0.198, \"p\": 28005, \"fpr\": 0.9960761684939411, \"tpr\": 0.9994286734511695, \"n\": 8665}, {\"threshold\": 0.199, \"p\": 28005, \"fpr\": 0.9960761684939411, \"tpr\": 0.9994286734511695, \"n\": 8665}, {\"threshold\": 0.2, \"p\": 28005, \"fpr\": 0.9960761684939411, \"tpr\": 0.9994286734511695, \"n\": 8665}, {\"threshold\": 0.201, \"p\": 28005, \"fpr\": 0.9960761684939411, \"tpr\": 0.9994286734511695, \"n\": 8665}, {\"threshold\": 0.202, \"p\": 28005, \"fpr\": 0.9960761684939411, \"tpr\": 0.9994286734511695, \"n\": 8665}, {\"threshold\": 0.203, \"p\": 28005, \"fpr\": 0.9960761684939411, \"tpr\": 0.9994286734511695, \"n\": 8665}, {\"threshold\": 0.204, \"p\": 28005, \"fpr\": 0.9960761684939411, \"tpr\": 0.9994286734511695, \"n\": 8665}, {\"threshold\": 0.205, \"p\": 28005, \"fpr\": 0.9960761684939411, \"tpr\": 0.9994286734511695, \"n\": 8665}, {\"threshold\": 0.206, \"p\": 28005, \"fpr\": 0.9960761684939411, \"tpr\": 0.9994286734511695, \"n\": 8665}, {\"threshold\": 0.207, \"p\": 28005, \"fpr\": 0.9960761684939411, \"tpr\": 0.9994286734511695, \"n\": 8665}, {\"threshold\": 0.208, \"p\": 28005, \"fpr\": 0.9960761684939411, \"tpr\": 0.9994286734511695, \"n\": 8665}, {\"threshold\": 0.209, \"p\": 28005, \"fpr\": 0.9960761684939411, \"tpr\": 0.9994286734511695, \"n\": 8665}, {\"threshold\": 0.21, \"p\": 28005, \"fpr\": 0.9960761684939411, \"tpr\": 0.9994286734511695, \"n\": 8665}, {\"threshold\": 0.211, \"p\": 28005, \"fpr\": 0.9960761684939411, \"tpr\": 0.9994286734511695, \"n\": 8665}, {\"threshold\": 0.212, \"p\": 28005, \"fpr\": 0.9960761684939411, \"tpr\": 0.9994286734511695, \"n\": 8665}, {\"threshold\": 0.213, \"p\": 28005, \"fpr\": 0.9960761684939411, \"tpr\": 0.9994286734511695, \"n\": 8665}, {\"threshold\": 0.214, \"p\": 28005, \"fpr\": 0.9960761684939411, \"tpr\": 0.9994286734511695, \"n\": 8665}, {\"threshold\": 0.215, \"p\": 28005, \"fpr\": 0.9960761684939411, \"tpr\": 0.9994286734511695, \"n\": 8665}, {\"threshold\": 0.216, \"p\": 28005, \"fpr\": 0.9960761684939411, \"tpr\": 0.9994286734511695, \"n\": 8665}, {\"threshold\": 0.217, \"p\": 28005, \"fpr\": 0.9951529140219273, \"tpr\": 0.9993572576325657, \"n\": 8665}, {\"threshold\": 0.218, \"p\": 28005, \"fpr\": 0.9951529140219273, \"tpr\": 0.9993572576325657, \"n\": 8665}, {\"threshold\": 0.219, \"p\": 28005, \"fpr\": 0.9950375072129256, \"tpr\": 0.9993215497232637, \"n\": 8665}, {\"threshold\": 0.22, \"p\": 28005, \"fpr\": 0.9950375072129256, \"tpr\": 0.9993215497232637, \"n\": 8665}, {\"threshold\": 0.221, \"p\": 28005, \"fpr\": 0.9950375072129256, \"tpr\": 0.9993215497232637, \"n\": 8665}, {\"threshold\": 0.222, \"p\": 28005, \"fpr\": 0.9950375072129256, \"tpr\": 0.9993215497232637, \"n\": 8665}, {\"threshold\": 0.223, \"p\": 28005, \"fpr\": 0.9950375072129256, \"tpr\": 0.9993215497232637, \"n\": 8665}, {\"threshold\": 0.224, \"p\": 28005, \"fpr\": 0.9950375072129256, \"tpr\": 0.9993215497232637, \"n\": 8665}, {\"threshold\": 0.225, \"p\": 28005, \"fpr\": 0.9950375072129256, \"tpr\": 0.9993215497232637, \"n\": 8665}, {\"threshold\": 0.226, \"p\": 28005, \"fpr\": 0.9950375072129256, \"tpr\": 0.9993215497232637, \"n\": 8665}, {\"threshold\": 0.227, \"p\": 28005, \"fpr\": 0.9950375072129256, \"tpr\": 0.9993215497232637, \"n\": 8665}, {\"threshold\": 0.228, \"p\": 28005, \"fpr\": 0.9950375072129256, \"tpr\": 0.9993215497232637, \"n\": 8665}, {\"threshold\": 0.229, \"p\": 28005, \"fpr\": 0.9950375072129256, \"tpr\": 0.9993215497232637, \"n\": 8665}, {\"threshold\": 0.23, \"p\": 28005, \"fpr\": 0.9950375072129256, \"tpr\": 0.9993215497232637, \"n\": 8665}, {\"threshold\": 0.231, \"p\": 28005, \"fpr\": 0.9950375072129256, \"tpr\": 0.9993215497232637, \"n\": 8665}, {\"threshold\": 0.232, \"p\": 28005, \"fpr\": 0.9950375072129256, \"tpr\": 0.9993215497232637, \"n\": 8665}, {\"threshold\": 0.233, \"p\": 28005, \"fpr\": 0.9950375072129256, \"tpr\": 0.9993215497232637, \"n\": 8665}, {\"threshold\": 0.234, \"p\": 28005, \"fpr\": 0.9950375072129256, \"tpr\": 0.9993215497232637, \"n\": 8665}, {\"threshold\": 0.235, \"p\": 28005, \"fpr\": 0.9950375072129256, \"tpr\": 0.9993215497232637, \"n\": 8665}, {\"threshold\": 0.236, \"p\": 28005, \"fpr\": 0.9950375072129256, \"tpr\": 0.9993215497232637, \"n\": 8665}, {\"threshold\": 0.237, \"p\": 28005, \"fpr\": 0.9950375072129256, \"tpr\": 0.9993215497232637, \"n\": 8665}, {\"threshold\": 0.238, \"p\": 28005, \"fpr\": 0.9950375072129256, \"tpr\": 0.9993215497232637, \"n\": 8665}, {\"threshold\": 0.239, \"p\": 28005, \"fpr\": 0.9950375072129256, \"tpr\": 0.9993215497232637, \"n\": 8665}, {\"threshold\": 0.24, \"p\": 28005, \"fpr\": 0.9950375072129256, \"tpr\": 0.9993215497232637, \"n\": 8665}, {\"threshold\": 0.241, \"p\": 28005, \"fpr\": 0.9950375072129256, \"tpr\": 0.9993215497232637, \"n\": 8665}, {\"threshold\": 0.242, \"p\": 28005, \"fpr\": 0.9950375072129256, \"tpr\": 0.9993215497232637, \"n\": 8665}, {\"threshold\": 0.243, \"p\": 28005, \"fpr\": 0.9950375072129256, \"tpr\": 0.9993215497232637, \"n\": 8665}, {\"threshold\": 0.244, \"p\": 28005, \"fpr\": 0.9950375072129256, \"tpr\": 0.9993215497232637, \"n\": 8665}, {\"threshold\": 0.245, \"p\": 28005, \"fpr\": 0.9950375072129256, \"tpr\": 0.9993215497232637, \"n\": 8665}, {\"threshold\": 0.246, \"p\": 28005, \"fpr\": 0.9950375072129256, \"tpr\": 0.9993215497232637, \"n\": 8665}, {\"threshold\": 0.247, \"p\": 28005, \"fpr\": 0.9950375072129256, \"tpr\": 0.9993215497232637, \"n\": 8665}, {\"threshold\": 0.248, \"p\": 28005, \"fpr\": 0.9949221004039238, \"tpr\": 0.9993215497232637, \"n\": 8665}, {\"threshold\": 0.249, \"p\": 28005, \"fpr\": 0.9949221004039238, \"tpr\": 0.9993215497232637, \"n\": 8665}, {\"threshold\": 0.25, \"p\": 28005, \"fpr\": 0.9949221004039238, \"tpr\": 0.9993215497232637, \"n\": 8665}, {\"threshold\": 0.251, \"p\": 28005, \"fpr\": 0.9949221004039238, \"tpr\": 0.9993215497232637, \"n\": 8665}, {\"threshold\": 0.252, \"p\": 28005, \"fpr\": 0.9949221004039238, \"tpr\": 0.9993215497232637, \"n\": 8665}, {\"threshold\": 0.253, \"p\": 28005, \"fpr\": 0.9949221004039238, \"tpr\": 0.9993215497232637, \"n\": 8665}, {\"threshold\": 0.254, \"p\": 28005, \"fpr\": 0.9949221004039238, \"tpr\": 0.9993215497232637, \"n\": 8665}, {\"threshold\": 0.255, \"p\": 28005, \"fpr\": 0.9949221004039238, \"tpr\": 0.9993215497232637, \"n\": 8665}, {\"threshold\": 0.256, \"p\": 28005, \"fpr\": 0.9949221004039238, \"tpr\": 0.9993215497232637, \"n\": 8665}, {\"threshold\": 0.257, \"p\": 28005, \"fpr\": 0.9949221004039238, \"tpr\": 0.9993215497232637, \"n\": 8665}, {\"threshold\": 0.258, \"p\": 28005, \"fpr\": 0.9949221004039238, \"tpr\": 0.9993215497232637, \"n\": 8665}, {\"threshold\": 0.259, \"p\": 28005, \"fpr\": 0.9949221004039238, \"tpr\": 0.9993215497232637, \"n\": 8665}, {\"threshold\": 0.26, \"p\": 28005, \"fpr\": 0.9949221004039238, \"tpr\": 0.9993215497232637, \"n\": 8665}, {\"threshold\": 0.261, \"p\": 28005, \"fpr\": 0.9949221004039238, \"tpr\": 0.9993215497232637, \"n\": 8665}, {\"threshold\": 0.262, \"p\": 28005, \"fpr\": 0.9949221004039238, \"tpr\": 0.9993215497232637, \"n\": 8665}, {\"threshold\": 0.263, \"p\": 28005, \"fpr\": 0.9949221004039238, \"tpr\": 0.9993215497232637, \"n\": 8665}, {\"threshold\": 0.264, \"p\": 28005, \"fpr\": 0.9949221004039238, \"tpr\": 0.9993215497232637, \"n\": 8665}, {\"threshold\": 0.265, \"p\": 28005, \"fpr\": 0.9949221004039238, \"tpr\": 0.9993215497232637, \"n\": 8665}, {\"threshold\": 0.266, \"p\": 28005, \"fpr\": 0.9949221004039238, \"tpr\": 0.9993215497232637, \"n\": 8665}, {\"threshold\": 0.267, \"p\": 28005, \"fpr\": 0.9949221004039238, \"tpr\": 0.9993215497232637, \"n\": 8665}, {\"threshold\": 0.268, \"p\": 28005, \"fpr\": 0.9949221004039238, \"tpr\": 0.9993215497232637, \"n\": 8665}, {\"threshold\": 0.269, \"p\": 28005, \"fpr\": 0.9949221004039238, \"tpr\": 0.9993215497232637, \"n\": 8665}, {\"threshold\": 0.27, \"p\": 28005, \"fpr\": 0.9949221004039238, \"tpr\": 0.9993215497232637, \"n\": 8665}, {\"threshold\": 0.271, \"p\": 28005, \"fpr\": 0.9949221004039238, \"tpr\": 0.9993215497232637, \"n\": 8665}, {\"threshold\": 0.272, \"p\": 28005, \"fpr\": 0.9949221004039238, \"tpr\": 0.9993215497232637, \"n\": 8665}, {\"threshold\": 0.273, \"p\": 28005, \"fpr\": 0.9949221004039238, \"tpr\": 0.9993215497232637, \"n\": 8665}, {\"threshold\": 0.274, \"p\": 28005, \"fpr\": 0.9949221004039238, \"tpr\": 0.9993215497232637, \"n\": 8665}, {\"threshold\": 0.275, \"p\": 28005, \"fpr\": 0.9949221004039238, \"tpr\": 0.9993215497232637, \"n\": 8665}, {\"threshold\": 0.276, \"p\": 28005, \"fpr\": 0.9949221004039238, \"tpr\": 0.9993215497232637, \"n\": 8665}, {\"threshold\": 0.277, \"p\": 28005, \"fpr\": 0.9949221004039238, \"tpr\": 0.9993215497232637, \"n\": 8665}, {\"threshold\": 0.278, \"p\": 28005, \"fpr\": 0.9949221004039238, \"tpr\": 0.9993215497232637, \"n\": 8665}, {\"threshold\": 0.279, \"p\": 28005, \"fpr\": 0.9949221004039238, \"tpr\": 0.9993215497232637, \"n\": 8665}, {\"threshold\": 0.28, \"p\": 28005, \"fpr\": 0.9949221004039238, \"tpr\": 0.9993215497232637, \"n\": 8665}, {\"threshold\": 0.281, \"p\": 28005, \"fpr\": 0.9949221004039238, \"tpr\": 0.9993215497232637, \"n\": 8665}, {\"threshold\": 0.282, \"p\": 28005, \"fpr\": 0.9949221004039238, \"tpr\": 0.9993215497232637, \"n\": 8665}, {\"threshold\": 0.283, \"p\": 28005, \"fpr\": 0.9949221004039238, \"tpr\": 0.9993215497232637, \"n\": 8665}, {\"threshold\": 0.284, \"p\": 28005, \"fpr\": 0.9949221004039238, \"tpr\": 0.9993215497232637, \"n\": 8665}, {\"threshold\": 0.285, \"p\": 28005, \"fpr\": 0.9949221004039238, \"tpr\": 0.9993215497232637, \"n\": 8665}, {\"threshold\": 0.286, \"p\": 28005, \"fpr\": 0.9949221004039238, \"tpr\": 0.9993215497232637, \"n\": 8665}, {\"threshold\": 0.287, \"p\": 28005, \"fpr\": 0.9949221004039238, \"tpr\": 0.9993215497232637, \"n\": 8665}, {\"threshold\": 0.288, \"p\": 28005, \"fpr\": 0.9934218118869014, \"tpr\": 0.9990715943581503, \"n\": 8665}, {\"threshold\": 0.289, \"p\": 28005, \"fpr\": 0.9934218118869014, \"tpr\": 0.9990715943581503, \"n\": 8665}, {\"threshold\": 0.29, \"p\": 28005, \"fpr\": 0.9934218118869014, \"tpr\": 0.9990715943581503, \"n\": 8665}, {\"threshold\": 0.291, \"p\": 28005, \"fpr\": 0.9934218118869014, \"tpr\": 0.9990715943581503, \"n\": 8665}, {\"threshold\": 0.292, \"p\": 28005, \"fpr\": 0.9934218118869014, \"tpr\": 0.9990715943581503, \"n\": 8665}, {\"threshold\": 0.293, \"p\": 28005, \"fpr\": 0.9934218118869014, \"tpr\": 0.9990715943581503, \"n\": 8665}, {\"threshold\": 0.294, \"p\": 28005, \"fpr\": 0.9934218118869014, \"tpr\": 0.9990715943581503, \"n\": 8665}, {\"threshold\": 0.295, \"p\": 28005, \"fpr\": 0.9934218118869014, \"tpr\": 0.9990715943581503, \"n\": 8665}, {\"threshold\": 0.296, \"p\": 28005, \"fpr\": 0.9934218118869014, \"tpr\": 0.9990715943581503, \"n\": 8665}, {\"threshold\": 0.297, \"p\": 28005, \"fpr\": 0.9934218118869014, \"tpr\": 0.9990715943581503, \"n\": 8665}, {\"threshold\": 0.298, \"p\": 28005, \"fpr\": 0.9854587420657819, \"tpr\": 0.9982860203535083, \"n\": 8665}, {\"threshold\": 0.299, \"p\": 28005, \"fpr\": 0.9854587420657819, \"tpr\": 0.9982860203535083, \"n\": 8665}, {\"threshold\": 0.3, \"p\": 28005, \"fpr\": 0.9854587420657819, \"tpr\": 0.9982860203535083, \"n\": 8665}, {\"threshold\": 0.301, \"p\": 28005, \"fpr\": 0.9854587420657819, \"tpr\": 0.9982860203535083, \"n\": 8665}, {\"threshold\": 0.302, \"p\": 28005, \"fpr\": 0.9854587420657819, \"tpr\": 0.9982860203535083, \"n\": 8665}, {\"threshold\": 0.303, \"p\": 28005, \"fpr\": 0.9779572994806693, \"tpr\": 0.9973219068023568, \"n\": 8665}, {\"threshold\": 0.304, \"p\": 28005, \"fpr\": 0.9779572994806693, \"tpr\": 0.9973219068023568, \"n\": 8665}, {\"threshold\": 0.305, \"p\": 28005, \"fpr\": 0.9779572994806693, \"tpr\": 0.9973219068023568, \"n\": 8665}, {\"threshold\": 0.306, \"p\": 28005, \"fpr\": 0.9779572994806693, \"tpr\": 0.9973219068023568, \"n\": 8665}, {\"threshold\": 0.307, \"p\": 28005, \"fpr\": 0.9779572994806693, \"tpr\": 0.9973219068023568, \"n\": 8665}, {\"threshold\": 0.308, \"p\": 28005, \"fpr\": 0.9779572994806693, \"tpr\": 0.9973219068023568, \"n\": 8665}, {\"threshold\": 0.309, \"p\": 28005, \"fpr\": 0.9779572994806693, \"tpr\": 0.9973219068023568, \"n\": 8665}, {\"threshold\": 0.31, \"p\": 28005, \"fpr\": 0.9779572994806693, \"tpr\": 0.9973219068023568, \"n\": 8665}, {\"threshold\": 0.311, \"p\": 28005, \"fpr\": 0.9779572994806693, \"tpr\": 0.9973219068023568, \"n\": 8665}, {\"threshold\": 0.312, \"p\": 28005, \"fpr\": 0.9779572994806693, \"tpr\": 0.9973219068023568, \"n\": 8665}, {\"threshold\": 0.313, \"p\": 28005, \"fpr\": 0.9779572994806693, \"tpr\": 0.9973219068023568, \"n\": 8665}, {\"threshold\": 0.314, \"p\": 28005, \"fpr\": 0.9779572994806693, \"tpr\": 0.9973219068023568, \"n\": 8665}, {\"threshold\": 0.315, \"p\": 28005, \"fpr\": 0.9779572994806693, \"tpr\": 0.9973219068023568, \"n\": 8665}, {\"threshold\": 0.316, \"p\": 28005, \"fpr\": 0.9779572994806693, \"tpr\": 0.9973219068023568, \"n\": 8665}, {\"threshold\": 0.317, \"p\": 28005, \"fpr\": 0.9779572994806693, \"tpr\": 0.9973219068023568, \"n\": 8665}, {\"threshold\": 0.318, \"p\": 28005, \"fpr\": 0.9779572994806693, \"tpr\": 0.9973219068023568, \"n\": 8665}, {\"threshold\": 0.319, \"p\": 28005, \"fpr\": 0.9779572994806693, \"tpr\": 0.9973219068023568, \"n\": 8665}, {\"threshold\": 0.32, \"p\": 28005, \"fpr\": 0.9779572994806693, \"tpr\": 0.9973219068023568, \"n\": 8665}, {\"threshold\": 0.321, \"p\": 28005, \"fpr\": 0.9779572994806693, \"tpr\": 0.9973219068023568, \"n\": 8665}, {\"threshold\": 0.322, \"p\": 28005, \"fpr\": 0.9779572994806693, \"tpr\": 0.9973219068023568, \"n\": 8665}, {\"threshold\": 0.323, \"p\": 28005, \"fpr\": 0.9777264858626659, \"tpr\": 0.9972861988930548, \"n\": 8665}, {\"threshold\": 0.324, \"p\": 28005, \"fpr\": 0.9777264858626659, \"tpr\": 0.9972861988930548, \"n\": 8665}, {\"threshold\": 0.325, \"p\": 28005, \"fpr\": 0.9777264858626659, \"tpr\": 0.9972861988930548, \"n\": 8665}, {\"threshold\": 0.326, \"p\": 28005, \"fpr\": 0.9777264858626659, \"tpr\": 0.9972861988930548, \"n\": 8665}, {\"threshold\": 0.327, \"p\": 28005, \"fpr\": 0.9777264858626659, \"tpr\": 0.9972861988930548, \"n\": 8665}, {\"threshold\": 0.328, \"p\": 28005, \"fpr\": 0.9777264858626659, \"tpr\": 0.9972861988930548, \"n\": 8665}, {\"threshold\": 0.329, \"p\": 28005, \"fpr\": 0.9777264858626659, \"tpr\": 0.9972861988930548, \"n\": 8665}, {\"threshold\": 0.33, \"p\": 28005, \"fpr\": 0.9777264858626659, \"tpr\": 0.9972861988930548, \"n\": 8665}, {\"threshold\": 0.331, \"p\": 28005, \"fpr\": 0.9777264858626659, \"tpr\": 0.9972861988930548, \"n\": 8665}, {\"threshold\": 0.332, \"p\": 28005, \"fpr\": 0.9777264858626659, \"tpr\": 0.9972861988930548, \"n\": 8665}, {\"threshold\": 0.333, \"p\": 28005, \"fpr\": 0.9777264858626659, \"tpr\": 0.9972861988930548, \"n\": 8665}, {\"threshold\": 0.334, \"p\": 28005, \"fpr\": 0.9777264858626659, \"tpr\": 0.9972861988930548, \"n\": 8665}, {\"threshold\": 0.335, \"p\": 28005, \"fpr\": 0.9777264858626659, \"tpr\": 0.9972861988930548, \"n\": 8665}, {\"threshold\": 0.336, \"p\": 28005, \"fpr\": 0.9777264858626659, \"tpr\": 0.9972861988930548, \"n\": 8665}, {\"threshold\": 0.337, \"p\": 28005, \"fpr\": 0.9777264858626659, \"tpr\": 0.9972861988930548, \"n\": 8665}, {\"threshold\": 0.338, \"p\": 28005, \"fpr\": 0.9777264858626659, \"tpr\": 0.9972861988930548, \"n\": 8665}, {\"threshold\": 0.339, \"p\": 28005, \"fpr\": 0.9777264858626659, \"tpr\": 0.9972861988930548, \"n\": 8665}, {\"threshold\": 0.34, \"p\": 28005, \"fpr\": 0.9777264858626659, \"tpr\": 0.9972861988930548, \"n\": 8665}, {\"threshold\": 0.341, \"p\": 28005, \"fpr\": 0.9777264858626659, \"tpr\": 0.9972861988930548, \"n\": 8665}, {\"threshold\": 0.342, \"p\": 28005, \"fpr\": 0.9777264858626659, \"tpr\": 0.9972861988930548, \"n\": 8665}, {\"threshold\": 0.343, \"p\": 28005, \"fpr\": 0.9777264858626659, \"tpr\": 0.9972861988930548, \"n\": 8665}, {\"threshold\": 0.344, \"p\": 28005, \"fpr\": 0.9777264858626659, \"tpr\": 0.9972861988930548, \"n\": 8665}, {\"threshold\": 0.345, \"p\": 28005, \"fpr\": 0.9777264858626659, \"tpr\": 0.9972861988930548, \"n\": 8665}, {\"threshold\": 0.346, \"p\": 28005, \"fpr\": 0.9777264858626659, \"tpr\": 0.9972861988930548, \"n\": 8665}, {\"threshold\": 0.347, \"p\": 28005, \"fpr\": 0.9777264858626659, \"tpr\": 0.9972861988930548, \"n\": 8665}, {\"threshold\": 0.348, \"p\": 28005, \"fpr\": 0.9777264858626659, \"tpr\": 0.9972861988930548, \"n\": 8665}, {\"threshold\": 0.349, \"p\": 28005, \"fpr\": 0.9777264858626659, \"tpr\": 0.9972861988930548, \"n\": 8665}, {\"threshold\": 0.35, \"p\": 28005, \"fpr\": 0.9777264858626659, \"tpr\": 0.9972861988930548, \"n\": 8665}, {\"threshold\": 0.351, \"p\": 28005, \"fpr\": 0.9777264858626659, \"tpr\": 0.9972861988930548, \"n\": 8665}, {\"threshold\": 0.352, \"p\": 28005, \"fpr\": 0.9777264858626659, \"tpr\": 0.9972861988930548, \"n\": 8665}, {\"threshold\": 0.353, \"p\": 28005, \"fpr\": 0.9777264858626659, \"tpr\": 0.9972861988930548, \"n\": 8665}, {\"threshold\": 0.354, \"p\": 28005, \"fpr\": 0.9777264858626659, \"tpr\": 0.9972861988930548, \"n\": 8665}, {\"threshold\": 0.355, \"p\": 28005, \"fpr\": 0.9777264858626659, \"tpr\": 0.9972861988930548, \"n\": 8665}, {\"threshold\": 0.356, \"p\": 28005, \"fpr\": 0.9777264858626659, \"tpr\": 0.9972861988930548, \"n\": 8665}, {\"threshold\": 0.357, \"p\": 28005, \"fpr\": 0.9777264858626659, \"tpr\": 0.9972861988930548, \"n\": 8665}, {\"threshold\": 0.358, \"p\": 28005, \"fpr\": 0.9774956722446624, \"tpr\": 0.9972504909837528, \"n\": 8665}, {\"threshold\": 0.359, \"p\": 28005, \"fpr\": 0.9774956722446624, \"tpr\": 0.997214783074451, \"n\": 8665}, {\"threshold\": 0.36, \"p\": 28005, \"fpr\": 0.9774956722446624, \"tpr\": 0.997214783074451, \"n\": 8665}, {\"threshold\": 0.361, \"p\": 28005, \"fpr\": 0.9774956722446624, \"tpr\": 0.997214783074451, \"n\": 8665}, {\"threshold\": 0.362, \"p\": 28005, \"fpr\": 0.9774956722446624, \"tpr\": 0.997214783074451, \"n\": 8665}, {\"threshold\": 0.363, \"p\": 28005, \"fpr\": 0.9774956722446624, \"tpr\": 0.997214783074451, \"n\": 8665}, {\"threshold\": 0.364, \"p\": 28005, \"fpr\": 0.9774956722446624, \"tpr\": 0.997214783074451, \"n\": 8665}, {\"threshold\": 0.365, \"p\": 28005, \"fpr\": 0.9774956722446624, \"tpr\": 0.997214783074451, \"n\": 8665}, {\"threshold\": 0.366, \"p\": 28005, \"fpr\": 0.9774956722446624, \"tpr\": 0.997214783074451, \"n\": 8665}, {\"threshold\": 0.367, \"p\": 28005, \"fpr\": 0.9774956722446624, \"tpr\": 0.997214783074451, \"n\": 8665}, {\"threshold\": 0.368, \"p\": 28005, \"fpr\": 0.9774956722446624, \"tpr\": 0.997214783074451, \"n\": 8665}, {\"threshold\": 0.369, \"p\": 28005, \"fpr\": 0.9742642815926139, \"tpr\": 0.9968577039814319, \"n\": 8665}, {\"threshold\": 0.37, \"p\": 28005, \"fpr\": 0.9742642815926139, \"tpr\": 0.9968577039814319, \"n\": 8665}, {\"threshold\": 0.371, \"p\": 28005, \"fpr\": 0.9742642815926139, \"tpr\": 0.9968577039814319, \"n\": 8665}, {\"threshold\": 0.372, \"p\": 28005, \"fpr\": 0.9742642815926139, \"tpr\": 0.9968577039814319, \"n\": 8665}, {\"threshold\": 0.373, \"p\": 28005, \"fpr\": 0.9742642815926139, \"tpr\": 0.9968577039814319, \"n\": 8665}, {\"threshold\": 0.374, \"p\": 28005, \"fpr\": 0.9742642815926139, \"tpr\": 0.9968577039814319, \"n\": 8665}, {\"threshold\": 0.375, \"p\": 28005, \"fpr\": 0.9742642815926139, \"tpr\": 0.9968577039814319, \"n\": 8665}, {\"threshold\": 0.376, \"p\": 28005, \"fpr\": 0.9741488747836122, \"tpr\": 0.9968577039814319, \"n\": 8665}, {\"threshold\": 0.377, \"p\": 28005, \"fpr\": 0.9741488747836122, \"tpr\": 0.9968577039814319, \"n\": 8665}, {\"threshold\": 0.378, \"p\": 28005, \"fpr\": 0.9741488747836122, \"tpr\": 0.9968577039814319, \"n\": 8665}, {\"threshold\": 0.379, \"p\": 28005, \"fpr\": 0.9741488747836122, \"tpr\": 0.9968577039814319, \"n\": 8665}, {\"threshold\": 0.38, \"p\": 28005, \"fpr\": 0.9741488747836122, \"tpr\": 0.9968577039814319, \"n\": 8665}, {\"threshold\": 0.381, \"p\": 28005, \"fpr\": 0.9741488747836122, \"tpr\": 0.9968577039814319, \"n\": 8665}, {\"threshold\": 0.382, \"p\": 28005, \"fpr\": 0.9741488747836122, \"tpr\": 0.9968577039814319, \"n\": 8665}, {\"threshold\": 0.383, \"p\": 28005, \"fpr\": 0.9741488747836122, \"tpr\": 0.9968577039814319, \"n\": 8665}, {\"threshold\": 0.384, \"p\": 28005, \"fpr\": 0.9741488747836122, \"tpr\": 0.9968577039814319, \"n\": 8665}, {\"threshold\": 0.385, \"p\": 28005, \"fpr\": 0.9741488747836122, \"tpr\": 0.9968577039814319, \"n\": 8665}, {\"threshold\": 0.386, \"p\": 28005, \"fpr\": 0.9741488747836122, \"tpr\": 0.9968577039814319, \"n\": 8665}, {\"threshold\": 0.387, \"p\": 28005, \"fpr\": 0.9741488747836122, \"tpr\": 0.9968577039814319, \"n\": 8665}, {\"threshold\": 0.388, \"p\": 28005, \"fpr\": 0.9741488747836122, \"tpr\": 0.9968577039814319, \"n\": 8665}, {\"threshold\": 0.389, \"p\": 28005, \"fpr\": 0.9741488747836122, \"tpr\": 0.9968577039814319, \"n\": 8665}, {\"threshold\": 0.39, \"p\": 28005, \"fpr\": 0.9741488747836122, \"tpr\": 0.9968577039814319, \"n\": 8665}, {\"threshold\": 0.391, \"p\": 28005, \"fpr\": 0.9741488747836122, \"tpr\": 0.9968577039814319, \"n\": 8665}, {\"threshold\": 0.392, \"p\": 28005, \"fpr\": 0.9741488747836122, \"tpr\": 0.9968577039814319, \"n\": 8665}, {\"threshold\": 0.393, \"p\": 28005, \"fpr\": 0.9741488747836122, \"tpr\": 0.9968577039814319, \"n\": 8665}, {\"threshold\": 0.394, \"p\": 28005, \"fpr\": 0.9741488747836122, \"tpr\": 0.9968577039814319, \"n\": 8665}, {\"threshold\": 0.395, \"p\": 28005, \"fpr\": 0.9741488747836122, \"tpr\": 0.9968577039814319, \"n\": 8665}, {\"threshold\": 0.396, \"p\": 28005, \"fpr\": 0.9741488747836122, \"tpr\": 0.9968577039814319, \"n\": 8665}, {\"threshold\": 0.397, \"p\": 28005, \"fpr\": 0.9741488747836122, \"tpr\": 0.9968577039814319, \"n\": 8665}, {\"threshold\": 0.398, \"p\": 28005, \"fpr\": 0.9741488747836122, \"tpr\": 0.9968577039814319, \"n\": 8665}, {\"threshold\": 0.399, \"p\": 28005, \"fpr\": 0.9741488747836122, \"tpr\": 0.9968577039814319, \"n\": 8665}, {\"threshold\": 0.4, \"p\": 28005, \"fpr\": 0.9741488747836122, \"tpr\": 0.9968577039814319, \"n\": 8665}, {\"threshold\": 0.401, \"p\": 28005, \"fpr\": 0.9741488747836122, \"tpr\": 0.9968577039814319, \"n\": 8665}, {\"threshold\": 0.402, \"p\": 28005, \"fpr\": 0.9741488747836122, \"tpr\": 0.9968577039814319, \"n\": 8665}, {\"threshold\": 0.403, \"p\": 28005, \"fpr\": 0.9741488747836122, \"tpr\": 0.9968577039814319, \"n\": 8665}, {\"threshold\": 0.404, \"p\": 28005, \"fpr\": 0.9741488747836122, \"tpr\": 0.9968577039814319, \"n\": 8665}, {\"threshold\": 0.405, \"p\": 28005, \"fpr\": 0.9741488747836122, \"tpr\": 0.9968577039814319, \"n\": 8665}, {\"threshold\": 0.406, \"p\": 28005, \"fpr\": 0.9664166185804962, \"tpr\": 0.9950723085163363, \"n\": 8665}, {\"threshold\": 0.407, \"p\": 28005, \"fpr\": 0.9664166185804962, \"tpr\": 0.9950723085163363, \"n\": 8665}, {\"threshold\": 0.408, \"p\": 28005, \"fpr\": 0.9664166185804962, \"tpr\": 0.9950723085163363, \"n\": 8665}, {\"threshold\": 0.409, \"p\": 28005, \"fpr\": 0.9664166185804962, \"tpr\": 0.9950723085163363, \"n\": 8665}, {\"threshold\": 0.41, \"p\": 28005, \"fpr\": 0.9664166185804962, \"tpr\": 0.9950723085163363, \"n\": 8665}, {\"threshold\": 0.411, \"p\": 28005, \"fpr\": 0.9664166185804962, \"tpr\": 0.9950723085163363, \"n\": 8665}, {\"threshold\": 0.412, \"p\": 28005, \"fpr\": 0.9664166185804962, \"tpr\": 0.9950723085163363, \"n\": 8665}, {\"threshold\": 0.413, \"p\": 28005, \"fpr\": 0.9664166185804962, \"tpr\": 0.9950723085163363, \"n\": 8665}, {\"threshold\": 0.414, \"p\": 28005, \"fpr\": 0.9664166185804962, \"tpr\": 0.9950723085163363, \"n\": 8665}, {\"threshold\": 0.415, \"p\": 28005, \"fpr\": 0.9664166185804962, \"tpr\": 0.9950723085163363, \"n\": 8665}, {\"threshold\": 0.416, \"p\": 28005, \"fpr\": 0.9664166185804962, \"tpr\": 0.9950723085163363, \"n\": 8665}, {\"threshold\": 0.417, \"p\": 28005, \"fpr\": 0.9664166185804962, \"tpr\": 0.9950723085163363, \"n\": 8665}, {\"threshold\": 0.418, \"p\": 28005, \"fpr\": 0.9664166185804962, \"tpr\": 0.9950723085163363, \"n\": 8665}, {\"threshold\": 0.419, \"p\": 28005, \"fpr\": 0.9664166185804962, \"tpr\": 0.9950723085163363, \"n\": 8665}, {\"threshold\": 0.42, \"p\": 28005, \"fpr\": 0.9664166185804962, \"tpr\": 0.9950723085163363, \"n\": 8665}, {\"threshold\": 0.421, \"p\": 28005, \"fpr\": 0.9664166185804962, \"tpr\": 0.9950723085163363, \"n\": 8665}, {\"threshold\": 0.422, \"p\": 28005, \"fpr\": 0.9664166185804962, \"tpr\": 0.9950723085163363, \"n\": 8665}, {\"threshold\": 0.423, \"p\": 28005, \"fpr\": 0.9664166185804962, \"tpr\": 0.9950723085163363, \"n\": 8665}, {\"threshold\": 0.424, \"p\": 28005, \"fpr\": 0.9664166185804962, \"tpr\": 0.9950723085163363, \"n\": 8665}, {\"threshold\": 0.425, \"p\": 28005, \"fpr\": 0.9664166185804962, \"tpr\": 0.9950723085163363, \"n\": 8665}, {\"threshold\": 0.426, \"p\": 28005, \"fpr\": 0.9664166185804962, \"tpr\": 0.9950723085163363, \"n\": 8665}, {\"threshold\": 0.427, \"p\": 28005, \"fpr\": 0.9664166185804962, \"tpr\": 0.9950723085163363, \"n\": 8665}, {\"threshold\": 0.428, \"p\": 28005, \"fpr\": 0.9664166185804962, \"tpr\": 0.9950723085163363, \"n\": 8665}, {\"threshold\": 0.429, \"p\": 28005, \"fpr\": 0.9664166185804962, \"tpr\": 0.9950723085163363, \"n\": 8665}, {\"threshold\": 0.43, \"p\": 28005, \"fpr\": 0.9664166185804962, \"tpr\": 0.9950723085163363, \"n\": 8665}, {\"threshold\": 0.431, \"p\": 28005, \"fpr\": 0.9664166185804962, \"tpr\": 0.9950723085163363, \"n\": 8665}, {\"threshold\": 0.432, \"p\": 28005, \"fpr\": 0.9664166185804962, \"tpr\": 0.9950723085163363, \"n\": 8665}, {\"threshold\": 0.433, \"p\": 28005, \"fpr\": 0.9664166185804962, \"tpr\": 0.9950723085163363, \"n\": 8665}, {\"threshold\": 0.434, \"p\": 28005, \"fpr\": 0.9664166185804962, \"tpr\": 0.9950723085163363, \"n\": 8665}, {\"threshold\": 0.435, \"p\": 28005, \"fpr\": 0.9664166185804962, \"tpr\": 0.9950723085163363, \"n\": 8665}, {\"threshold\": 0.436, \"p\": 28005, \"fpr\": 0.9664166185804962, \"tpr\": 0.9950723085163363, \"n\": 8665}, {\"threshold\": 0.437, \"p\": 28005, \"fpr\": 0.9664166185804962, \"tpr\": 0.9950723085163363, \"n\": 8665}, {\"threshold\": 0.438, \"p\": 28005, \"fpr\": 0.9664166185804962, \"tpr\": 0.9950723085163363, \"n\": 8665}, {\"threshold\": 0.439, \"p\": 28005, \"fpr\": 0.9664166185804962, \"tpr\": 0.9950723085163363, \"n\": 8665}, {\"threshold\": 0.44, \"p\": 28005, \"fpr\": 0.9664166185804962, \"tpr\": 0.9950723085163363, \"n\": 8665}, {\"threshold\": 0.441, \"p\": 28005, \"fpr\": 0.9664166185804962, \"tpr\": 0.9950723085163363, \"n\": 8665}, {\"threshold\": 0.442, \"p\": 28005, \"fpr\": 0.9664166185804962, \"tpr\": 0.9950723085163363, \"n\": 8665}, {\"threshold\": 0.443, \"p\": 28005, \"fpr\": 0.9664166185804962, \"tpr\": 0.9950723085163363, \"n\": 8665}, {\"threshold\": 0.444, \"p\": 28005, \"fpr\": 0.9664166185804962, \"tpr\": 0.9950723085163363, \"n\": 8665}, {\"threshold\": 0.445, \"p\": 28005, \"fpr\": 0.9664166185804962, \"tpr\": 0.9950723085163363, \"n\": 8665}, {\"threshold\": 0.446, \"p\": 28005, \"fpr\": 0.9664166185804962, \"tpr\": 0.9950723085163363, \"n\": 8665}, {\"threshold\": 0.447, \"p\": 28005, \"fpr\": 0.9664166185804962, \"tpr\": 0.9950723085163363, \"n\": 8665}, {\"threshold\": 0.448, \"p\": 28005, \"fpr\": 0.9661858049624927, \"tpr\": 0.9949651847884307, \"n\": 8665}, {\"threshold\": 0.449, \"p\": 28005, \"fpr\": 0.9661858049624927, \"tpr\": 0.9949651847884307, \"n\": 8665}, {\"threshold\": 0.45, \"p\": 28005, \"fpr\": 0.9661858049624927, \"tpr\": 0.9949651847884307, \"n\": 8665}, {\"threshold\": 0.451, \"p\": 28005, \"fpr\": 0.9661858049624927, \"tpr\": 0.9949651847884307, \"n\": 8665}, {\"threshold\": 0.452, \"p\": 28005, \"fpr\": 0.9661858049624927, \"tpr\": 0.9949651847884307, \"n\": 8665}, {\"threshold\": 0.453, \"p\": 28005, \"fpr\": 0.9661858049624927, \"tpr\": 0.9949651847884307, \"n\": 8665}, {\"threshold\": 0.454, \"p\": 28005, \"fpr\": 0.9661858049624927, \"tpr\": 0.9949651847884307, \"n\": 8665}, {\"threshold\": 0.455, \"p\": 28005, \"fpr\": 0.9661858049624927, \"tpr\": 0.9949651847884307, \"n\": 8665}, {\"threshold\": 0.456, \"p\": 28005, \"fpr\": 0.9661858049624927, \"tpr\": 0.9949651847884307, \"n\": 8665}, {\"threshold\": 0.457, \"p\": 28005, \"fpr\": 0.9661858049624927, \"tpr\": 0.9949651847884307, \"n\": 8665}, {\"threshold\": 0.458, \"p\": 28005, \"fpr\": 0.9661858049624927, \"tpr\": 0.9949651847884307, \"n\": 8665}, {\"threshold\": 0.459, \"p\": 28005, \"fpr\": 0.9661858049624927, \"tpr\": 0.9949651847884307, \"n\": 8665}, {\"threshold\": 0.46, \"p\": 28005, \"fpr\": 0.9661858049624927, \"tpr\": 0.9949651847884307, \"n\": 8665}, {\"threshold\": 0.461, \"p\": 28005, \"fpr\": 0.9656087709174841, \"tpr\": 0.9948937689698268, \"n\": 8665}, {\"threshold\": 0.462, \"p\": 28005, \"fpr\": 0.9656087709174841, \"tpr\": 0.9948937689698268, \"n\": 8665}, {\"threshold\": 0.463, \"p\": 28005, \"fpr\": 0.9656087709174841, \"tpr\": 0.9948937689698268, \"n\": 8665}, {\"threshold\": 0.464, \"p\": 28005, \"fpr\": 0.9656087709174841, \"tpr\": 0.9948937689698268, \"n\": 8665}, {\"threshold\": 0.465, \"p\": 28005, \"fpr\": 0.9656087709174841, \"tpr\": 0.9948937689698268, \"n\": 8665}, {\"threshold\": 0.466, \"p\": 28005, \"fpr\": 0.9645701096364685, \"tpr\": 0.9947509373326192, \"n\": 8665}, {\"threshold\": 0.467, \"p\": 28005, \"fpr\": 0.9645701096364685, \"tpr\": 0.9947509373326192, \"n\": 8665}, {\"threshold\": 0.468, \"p\": 28005, \"fpr\": 0.9645701096364685, \"tpr\": 0.9947152294233172, \"n\": 8665}, {\"threshold\": 0.469, \"p\": 28005, \"fpr\": 0.9645701096364685, \"tpr\": 0.9947152294233172, \"n\": 8665}, {\"threshold\": 0.47, \"p\": 28005, \"fpr\": 0.9645701096364685, \"tpr\": 0.9947152294233172, \"n\": 8665}, {\"threshold\": 0.471, \"p\": 28005, \"fpr\": 0.9645701096364685, \"tpr\": 0.9947152294233172, \"n\": 8665}, {\"threshold\": 0.472, \"p\": 28005, \"fpr\": 0.9645701096364685, \"tpr\": 0.9947152294233172, \"n\": 8665}, {\"threshold\": 0.473, \"p\": 28005, \"fpr\": 0.9645701096364685, \"tpr\": 0.9947152294233172, \"n\": 8665}, {\"threshold\": 0.474, \"p\": 28005, \"fpr\": 0.9645701096364685, \"tpr\": 0.9947152294233172, \"n\": 8665}, {\"threshold\": 0.475, \"p\": 28005, \"fpr\": 0.9645701096364685, \"tpr\": 0.9947152294233172, \"n\": 8665}, {\"threshold\": 0.476, \"p\": 28005, \"fpr\": 0.9645701096364685, \"tpr\": 0.9947152294233172, \"n\": 8665}, {\"threshold\": 0.477, \"p\": 28005, \"fpr\": 0.9645701096364685, \"tpr\": 0.9947152294233172, \"n\": 8665}, {\"threshold\": 0.478, \"p\": 28005, \"fpr\": 0.9645701096364685, \"tpr\": 0.9947152294233172, \"n\": 8665}, {\"threshold\": 0.479, \"p\": 28005, \"fpr\": 0.9645701096364685, \"tpr\": 0.9947152294233172, \"n\": 8665}, {\"threshold\": 0.48, \"p\": 28005, \"fpr\": 0.9645701096364685, \"tpr\": 0.9947152294233172, \"n\": 8665}, {\"threshold\": 0.481, \"p\": 28005, \"fpr\": 0.9645701096364685, \"tpr\": 0.9947152294233172, \"n\": 8665}, {\"threshold\": 0.482, \"p\": 28005, \"fpr\": 0.9645701096364685, \"tpr\": 0.9947152294233172, \"n\": 8665}, {\"threshold\": 0.483, \"p\": 28005, \"fpr\": 0.9645701096364685, \"tpr\": 0.9947152294233172, \"n\": 8665}, {\"threshold\": 0.484, \"p\": 28005, \"fpr\": 0.9645701096364685, \"tpr\": 0.9947152294233172, \"n\": 8665}, {\"threshold\": 0.485, \"p\": 28005, \"fpr\": 0.9645701096364685, \"tpr\": 0.9947152294233172, \"n\": 8665}, {\"threshold\": 0.486, \"p\": 28005, \"fpr\": 0.9645701096364685, \"tpr\": 0.9947152294233172, \"n\": 8665}, {\"threshold\": 0.487, \"p\": 28005, \"fpr\": 0.9645701096364685, \"tpr\": 0.9947152294233172, \"n\": 8665}, {\"threshold\": 0.488, \"p\": 28005, \"fpr\": 0.9645701096364685, \"tpr\": 0.9947152294233172, \"n\": 8665}, {\"threshold\": 0.489, \"p\": 28005, \"fpr\": 0.9645701096364685, \"tpr\": 0.9947152294233172, \"n\": 8665}, {\"threshold\": 0.49, \"p\": 28005, \"fpr\": 0.9645701096364685, \"tpr\": 0.9947152294233172, \"n\": 8665}, {\"threshold\": 0.491, \"p\": 28005, \"fpr\": 0.9645701096364685, \"tpr\": 0.9947152294233172, \"n\": 8665}, {\"threshold\": 0.492, \"p\": 28005, \"fpr\": 0.9645701096364685, \"tpr\": 0.9947152294233172, \"n\": 8665}, {\"threshold\": 0.493, \"p\": 28005, \"fpr\": 0.9645701096364685, \"tpr\": 0.9947152294233172, \"n\": 8665}, {\"threshold\": 0.494, \"p\": 28005, \"fpr\": 0.9645701096364685, \"tpr\": 0.9947152294233172, \"n\": 8665}, {\"threshold\": 0.495, \"p\": 28005, \"fpr\": 0.9645701096364685, \"tpr\": 0.9947152294233172, \"n\": 8665}, {\"threshold\": 0.496, \"p\": 28005, \"fpr\": 0.9645701096364685, \"tpr\": 0.9947152294233172, \"n\": 8665}, {\"threshold\": 0.497, \"p\": 28005, \"fpr\": 0.9645701096364685, \"tpr\": 0.9947152294233172, \"n\": 8665}, {\"threshold\": 0.498, \"p\": 28005, \"fpr\": 0.9645701096364685, \"tpr\": 0.9947152294233172, \"n\": 8665}, {\"threshold\": 0.499, \"p\": 28005, \"fpr\": 0.9407963069821119, \"tpr\": 0.9869309051955008, \"n\": 8665}, {\"threshold\": 0.5, \"p\": 28005, \"fpr\": 0.9407963069821119, \"tpr\": 0.9869309051955008, \"n\": 8665}, {\"threshold\": 0.501, \"p\": 28005, \"fpr\": 0.9407963069821119, \"tpr\": 0.9869309051955008, \"n\": 8665}, {\"threshold\": 0.502, \"p\": 28005, \"fpr\": 0.9407963069821119, \"tpr\": 0.9869309051955008, \"n\": 8665}, {\"threshold\": 0.503, \"p\": 28005, \"fpr\": 0.9407963069821119, \"tpr\": 0.9869309051955008, \"n\": 8665}, {\"threshold\": 0.504, \"p\": 28005, \"fpr\": 0.9407963069821119, \"tpr\": 0.9869309051955008, \"n\": 8665}, {\"threshold\": 0.505, \"p\": 28005, \"fpr\": 0.9407963069821119, \"tpr\": 0.9869309051955008, \"n\": 8665}, {\"threshold\": 0.506, \"p\": 28005, \"fpr\": 0.9407963069821119, \"tpr\": 0.9869309051955008, \"n\": 8665}, {\"threshold\": 0.507, \"p\": 28005, \"fpr\": 0.9407963069821119, \"tpr\": 0.9869309051955008, \"n\": 8665}, {\"threshold\": 0.508, \"p\": 28005, \"fpr\": 0.9407963069821119, \"tpr\": 0.9869309051955008, \"n\": 8665}, {\"threshold\": 0.509, \"p\": 28005, \"fpr\": 0.9407963069821119, \"tpr\": 0.9868951972861989, \"n\": 8665}, {\"threshold\": 0.51, \"p\": 28005, \"fpr\": 0.9407963069821119, \"tpr\": 0.9868951972861989, \"n\": 8665}, {\"threshold\": 0.511, \"p\": 28005, \"fpr\": 0.9407963069821119, \"tpr\": 0.9868951972861989, \"n\": 8665}, {\"threshold\": 0.512, \"p\": 28005, \"fpr\": 0.9407963069821119, \"tpr\": 0.9868594893768969, \"n\": 8665}, {\"threshold\": 0.513, \"p\": 28005, \"fpr\": 0.9407963069821119, \"tpr\": 0.9868594893768969, \"n\": 8665}, {\"threshold\": 0.514, \"p\": 28005, \"fpr\": 0.9407963069821119, \"tpr\": 0.9868594893768969, \"n\": 8665}, {\"threshold\": 0.515, \"p\": 28005, \"fpr\": 0.9407963069821119, \"tpr\": 0.9868594893768969, \"n\": 8665}, {\"threshold\": 0.516, \"p\": 28005, \"fpr\": 0.9407963069821119, \"tpr\": 0.9868594893768969, \"n\": 8665}, {\"threshold\": 0.517, \"p\": 28005, \"fpr\": 0.9407963069821119, \"tpr\": 0.9868594893768969, \"n\": 8665}, {\"threshold\": 0.518, \"p\": 28005, \"fpr\": 0.9407963069821119, \"tpr\": 0.9868594893768969, \"n\": 8665}, {\"threshold\": 0.519, \"p\": 28005, \"fpr\": 0.9407963069821119, \"tpr\": 0.9868594893768969, \"n\": 8665}, {\"threshold\": 0.52, \"p\": 28005, \"fpr\": 0.9407963069821119, \"tpr\": 0.9868594893768969, \"n\": 8665}, {\"threshold\": 0.521, \"p\": 28005, \"fpr\": 0.9407963069821119, \"tpr\": 0.9868594893768969, \"n\": 8665}, {\"threshold\": 0.522, \"p\": 28005, \"fpr\": 0.9407963069821119, \"tpr\": 0.9868594893768969, \"n\": 8665}, {\"threshold\": 0.523, \"p\": 28005, \"fpr\": 0.9407963069821119, \"tpr\": 0.9868594893768969, \"n\": 8665}, {\"threshold\": 0.524, \"p\": 28005, \"fpr\": 0.9407963069821119, \"tpr\": 0.9868594893768969, \"n\": 8665}, {\"threshold\": 0.525, \"p\": 28005, \"fpr\": 0.9407963069821119, \"tpr\": 0.9868594893768969, \"n\": 8665}, {\"threshold\": 0.526, \"p\": 28005, \"fpr\": 0.9407963069821119, \"tpr\": 0.9868594893768969, \"n\": 8665}, {\"threshold\": 0.527, \"p\": 28005, \"fpr\": 0.9407963069821119, \"tpr\": 0.9868594893768969, \"n\": 8665}, {\"threshold\": 0.528, \"p\": 28005, \"fpr\": 0.9407963069821119, \"tpr\": 0.9868594893768969, \"n\": 8665}, {\"threshold\": 0.529, \"p\": 28005, \"fpr\": 0.9407963069821119, \"tpr\": 0.9868594893768969, \"n\": 8665}, {\"threshold\": 0.53, \"p\": 28005, \"fpr\": 0.9407963069821119, \"tpr\": 0.9868594893768969, \"n\": 8665}, {\"threshold\": 0.531, \"p\": 28005, \"fpr\": 0.9407963069821119, \"tpr\": 0.9868594893768969, \"n\": 8665}, {\"threshold\": 0.532, \"p\": 28005, \"fpr\": 0.9407963069821119, \"tpr\": 0.9868594893768969, \"n\": 8665}, {\"threshold\": 0.533, \"p\": 28005, \"fpr\": 0.9407963069821119, \"tpr\": 0.9868594893768969, \"n\": 8665}, {\"threshold\": 0.534, \"p\": 28005, \"fpr\": 0.9407963069821119, \"tpr\": 0.9868594893768969, \"n\": 8665}, {\"threshold\": 0.535, \"p\": 28005, \"fpr\": 0.9407963069821119, \"tpr\": 0.9868594893768969, \"n\": 8665}, {\"threshold\": 0.536, \"p\": 28005, \"fpr\": 0.9407963069821119, \"tpr\": 0.9868594893768969, \"n\": 8665}, {\"threshold\": 0.537, \"p\": 28005, \"fpr\": 0.9407963069821119, \"tpr\": 0.9867880735582931, \"n\": 8665}, {\"threshold\": 0.538, \"p\": 28005, \"fpr\": 0.9407963069821119, \"tpr\": 0.9867880735582931, \"n\": 8665}, {\"threshold\": 0.539, \"p\": 28005, \"fpr\": 0.9407963069821119, \"tpr\": 0.9867880735582931, \"n\": 8665}, {\"threshold\": 0.54, \"p\": 28005, \"fpr\": 0.9407963069821119, \"tpr\": 0.9867880735582931, \"n\": 8665}, {\"threshold\": 0.541, \"p\": 28005, \"fpr\": 0.9404500865551068, \"tpr\": 0.9866095340117836, \"n\": 8665}, {\"threshold\": 0.542, \"p\": 28005, \"fpr\": 0.9404500865551068, \"tpr\": 0.9866095340117836, \"n\": 8665}, {\"threshold\": 0.543, \"p\": 28005, \"fpr\": 0.9403346797461051, \"tpr\": 0.9866095340117836, \"n\": 8665}, {\"threshold\": 0.544, \"p\": 28005, \"fpr\": 0.9403346797461051, \"tpr\": 0.9866095340117836, \"n\": 8665}, {\"threshold\": 0.545, \"p\": 28005, \"fpr\": 0.9403346797461051, \"tpr\": 0.9866095340117836, \"n\": 8665}, {\"threshold\": 0.546, \"p\": 28005, \"fpr\": 0.9403346797461051, \"tpr\": 0.9866095340117836, \"n\": 8665}, {\"threshold\": 0.547, \"p\": 28005, \"fpr\": 0.9403346797461051, \"tpr\": 0.9866095340117836, \"n\": 8665}, {\"threshold\": 0.548, \"p\": 28005, \"fpr\": 0.9403346797461051, \"tpr\": 0.9866095340117836, \"n\": 8665}, {\"threshold\": 0.549, \"p\": 28005, \"fpr\": 0.9403346797461051, \"tpr\": 0.9866095340117836, \"n\": 8665}, {\"threshold\": 0.55, \"p\": 28005, \"fpr\": 0.9403346797461051, \"tpr\": 0.9866095340117836, \"n\": 8665}, {\"threshold\": 0.551, \"p\": 28005, \"fpr\": 0.9403346797461051, \"tpr\": 0.9866095340117836, \"n\": 8665}, {\"threshold\": 0.552, \"p\": 28005, \"fpr\": 0.9403346797461051, \"tpr\": 0.9866095340117836, \"n\": 8665}, {\"threshold\": 0.553, \"p\": 28005, \"fpr\": 0.9403346797461051, \"tpr\": 0.9866095340117836, \"n\": 8665}, {\"threshold\": 0.554, \"p\": 28005, \"fpr\": 0.9403346797461051, \"tpr\": 0.9866095340117836, \"n\": 8665}, {\"threshold\": 0.555, \"p\": 28005, \"fpr\": 0.9403346797461051, \"tpr\": 0.9866095340117836, \"n\": 8665}, {\"threshold\": 0.556, \"p\": 28005, \"fpr\": 0.9403346797461051, \"tpr\": 0.9866095340117836, \"n\": 8665}, {\"threshold\": 0.557, \"p\": 28005, \"fpr\": 0.9403346797461051, \"tpr\": 0.9866095340117836, \"n\": 8665}, {\"threshold\": 0.558, \"p\": 28005, \"fpr\": 0.9403346797461051, \"tpr\": 0.9866095340117836, \"n\": 8665}, {\"threshold\": 0.559, \"p\": 28005, \"fpr\": 0.9403346797461051, \"tpr\": 0.9866095340117836, \"n\": 8665}, {\"threshold\": 0.56, \"p\": 28005, \"fpr\": 0.9403346797461051, \"tpr\": 0.9866095340117836, \"n\": 8665}, {\"threshold\": 0.561, \"p\": 28005, \"fpr\": 0.9403346797461051, \"tpr\": 0.9866095340117836, \"n\": 8665}, {\"threshold\": 0.562, \"p\": 28005, \"fpr\": 0.9402192729371033, \"tpr\": 0.9865738261024817, \"n\": 8665}, {\"threshold\": 0.563, \"p\": 28005, \"fpr\": 0.9402192729371033, \"tpr\": 0.9865738261024817, \"n\": 8665}, {\"threshold\": 0.564, \"p\": 28005, \"fpr\": 0.9402192729371033, \"tpr\": 0.9865738261024817, \"n\": 8665}, {\"threshold\": 0.565, \"p\": 28005, \"fpr\": 0.9402192729371033, \"tpr\": 0.9865738261024817, \"n\": 8665}, {\"threshold\": 0.566, \"p\": 28005, \"fpr\": 0.9402192729371033, \"tpr\": 0.9865738261024817, \"n\": 8665}, {\"threshold\": 0.567, \"p\": 28005, \"fpr\": 0.9402192729371033, \"tpr\": 0.9865738261024817, \"n\": 8665}, {\"threshold\": 0.568, \"p\": 28005, \"fpr\": 0.9402192729371033, \"tpr\": 0.9865738261024817, \"n\": 8665}, {\"threshold\": 0.569, \"p\": 28005, \"fpr\": 0.9402192729371033, \"tpr\": 0.9865738261024817, \"n\": 8665}, {\"threshold\": 0.57, \"p\": 28005, \"fpr\": 0.9402192729371033, \"tpr\": 0.9865738261024817, \"n\": 8665}, {\"threshold\": 0.571, \"p\": 28005, \"fpr\": 0.9402192729371033, \"tpr\": 0.9865738261024817, \"n\": 8665}, {\"threshold\": 0.572, \"p\": 28005, \"fpr\": 0.9402192729371033, \"tpr\": 0.9865738261024817, \"n\": 8665}, {\"threshold\": 0.573, \"p\": 28005, \"fpr\": 0.9402192729371033, \"tpr\": 0.9865738261024817, \"n\": 8665}, {\"threshold\": 0.574, \"p\": 28005, \"fpr\": 0.9402192729371033, \"tpr\": 0.9865738261024817, \"n\": 8665}, {\"threshold\": 0.575, \"p\": 28005, \"fpr\": 0.9398730525100981, \"tpr\": 0.9863952865559722, \"n\": 8665}, {\"threshold\": 0.576, \"p\": 28005, \"fpr\": 0.9398730525100981, \"tpr\": 0.9863952865559722, \"n\": 8665}, {\"threshold\": 0.577, \"p\": 28005, \"fpr\": 0.9398730525100981, \"tpr\": 0.9863952865559722, \"n\": 8665}, {\"threshold\": 0.578, \"p\": 28005, \"fpr\": 0.9398730525100981, \"tpr\": 0.9863952865559722, \"n\": 8665}, {\"threshold\": 0.579, \"p\": 28005, \"fpr\": 0.9392960184650895, \"tpr\": 0.9861810391001606, \"n\": 8665}, {\"threshold\": 0.58, \"p\": 28005, \"fpr\": 0.9388343912290825, \"tpr\": 0.9859667916443492, \"n\": 8665}, {\"threshold\": 0.581, \"p\": 28005, \"fpr\": 0.9388343912290825, \"tpr\": 0.9859667916443492, \"n\": 8665}, {\"threshold\": 0.582, \"p\": 28005, \"fpr\": 0.9388343912290825, \"tpr\": 0.9859667916443492, \"n\": 8665}, {\"threshold\": 0.583, \"p\": 28005, \"fpr\": 0.9388343912290825, \"tpr\": 0.9859667916443492, \"n\": 8665}, {\"threshold\": 0.584, \"p\": 28005, \"fpr\": 0.9388343912290825, \"tpr\": 0.9859667916443492, \"n\": 8665}, {\"threshold\": 0.585, \"p\": 28005, \"fpr\": 0.9388343912290825, \"tpr\": 0.9859667916443492, \"n\": 8665}, {\"threshold\": 0.586, \"p\": 28005, \"fpr\": 0.9388343912290825, \"tpr\": 0.9859667916443492, \"n\": 8665}, {\"threshold\": 0.587, \"p\": 28005, \"fpr\": 0.9388343912290825, \"tpr\": 0.9859667916443492, \"n\": 8665}, {\"threshold\": 0.588, \"p\": 28005, \"fpr\": 0.9388343912290825, \"tpr\": 0.9859310837350473, \"n\": 8665}, {\"threshold\": 0.589, \"p\": 28005, \"fpr\": 0.9388343912290825, \"tpr\": 0.9859310837350473, \"n\": 8665}, {\"threshold\": 0.59, \"p\": 28005, \"fpr\": 0.9388343912290825, \"tpr\": 0.9859310837350473, \"n\": 8665}, {\"threshold\": 0.591, \"p\": 28005, \"fpr\": 0.9388343912290825, \"tpr\": 0.9859310837350473, \"n\": 8665}, {\"threshold\": 0.592, \"p\": 28005, \"fpr\": 0.9388343912290825, \"tpr\": 0.9859310837350473, \"n\": 8665}, {\"threshold\": 0.593, \"p\": 28005, \"fpr\": 0.9388343912290825, \"tpr\": 0.9859310837350473, \"n\": 8665}, {\"threshold\": 0.594, \"p\": 28005, \"fpr\": 0.9388343912290825, \"tpr\": 0.9859310837350473, \"n\": 8665}, {\"threshold\": 0.595, \"p\": 28005, \"fpr\": 0.9388343912290825, \"tpr\": 0.9859310837350473, \"n\": 8665}, {\"threshold\": 0.596, \"p\": 28005, \"fpr\": 0.9388343912290825, \"tpr\": 0.9859310837350473, \"n\": 8665}, {\"threshold\": 0.597, \"p\": 28005, \"fpr\": 0.9388343912290825, \"tpr\": 0.9859310837350473, \"n\": 8665}, {\"threshold\": 0.598, \"p\": 28005, \"fpr\": 0.9388343912290825, \"tpr\": 0.9859310837350473, \"n\": 8665}, {\"threshold\": 0.599, \"p\": 28005, \"fpr\": 0.9388343912290825, \"tpr\": 0.9859310837350473, \"n\": 8665}, {\"threshold\": 0.6, \"p\": 28005, \"fpr\": 0.9388343912290825, \"tpr\": 0.9859310837350473, \"n\": 8665}, {\"threshold\": 0.601, \"p\": 28005, \"fpr\": 0.9388343912290825, \"tpr\": 0.9859310837350473, \"n\": 8665}, {\"threshold\": 0.602, \"p\": 28005, \"fpr\": 0.9388343912290825, \"tpr\": 0.9859310837350473, \"n\": 8665}, {\"threshold\": 0.603, \"p\": 28005, \"fpr\": 0.9388343912290825, \"tpr\": 0.9859310837350473, \"n\": 8665}, {\"threshold\": 0.604, \"p\": 28005, \"fpr\": 0.9388343912290825, \"tpr\": 0.9859310837350473, \"n\": 8665}, {\"threshold\": 0.605, \"p\": 28005, \"fpr\": 0.9388343912290825, \"tpr\": 0.9859310837350473, \"n\": 8665}, {\"threshold\": 0.606, \"p\": 28005, \"fpr\": 0.9388343912290825, \"tpr\": 0.9859310837350473, \"n\": 8665}, {\"threshold\": 0.607, \"p\": 28005, \"fpr\": 0.9388343912290825, \"tpr\": 0.9859310837350473, \"n\": 8665}, {\"threshold\": 0.608, \"p\": 28005, \"fpr\": 0.9388343912290825, \"tpr\": 0.9859310837350473, \"n\": 8665}, {\"threshold\": 0.609, \"p\": 28005, \"fpr\": 0.9388343912290825, \"tpr\": 0.9859310837350473, \"n\": 8665}, {\"threshold\": 0.61, \"p\": 28005, \"fpr\": 0.9388343912290825, \"tpr\": 0.9859310837350473, \"n\": 8665}, {\"threshold\": 0.611, \"p\": 28005, \"fpr\": 0.9388343912290825, \"tpr\": 0.9859310837350473, \"n\": 8665}, {\"threshold\": 0.612, \"p\": 28005, \"fpr\": 0.9388343912290825, \"tpr\": 0.9859310837350473, \"n\": 8665}, {\"threshold\": 0.613, \"p\": 28005, \"fpr\": 0.9388343912290825, \"tpr\": 0.9859310837350473, \"n\": 8665}, {\"threshold\": 0.614, \"p\": 28005, \"fpr\": 0.9388343912290825, \"tpr\": 0.9859310837350473, \"n\": 8665}, {\"threshold\": 0.615, \"p\": 28005, \"fpr\": 0.9387189844200808, \"tpr\": 0.9859310837350473, \"n\": 8665}, {\"threshold\": 0.616, \"p\": 28005, \"fpr\": 0.9387189844200808, \"tpr\": 0.9859310837350473, \"n\": 8665}, {\"threshold\": 0.617, \"p\": 28005, \"fpr\": 0.9387189844200808, \"tpr\": 0.9859310837350473, \"n\": 8665}, {\"threshold\": 0.618, \"p\": 28005, \"fpr\": 0.9387189844200808, \"tpr\": 0.9859310837350473, \"n\": 8665}, {\"threshold\": 0.619, \"p\": 28005, \"fpr\": 0.9387189844200808, \"tpr\": 0.9859310837350473, \"n\": 8665}, {\"threshold\": 0.62, \"p\": 28005, \"fpr\": 0.9387189844200808, \"tpr\": 0.9859310837350473, \"n\": 8665}, {\"threshold\": 0.621, \"p\": 28005, \"fpr\": 0.9387189844200808, \"tpr\": 0.9858953758257454, \"n\": 8665}, {\"threshold\": 0.622, \"p\": 28005, \"fpr\": 0.9387189844200808, \"tpr\": 0.9858953758257454, \"n\": 8665}, {\"threshold\": 0.623, \"p\": 28005, \"fpr\": 0.9387189844200808, \"tpr\": 0.9858953758257454, \"n\": 8665}, {\"threshold\": 0.624, \"p\": 28005, \"fpr\": 0.9387189844200808, \"tpr\": 0.9858953758257454, \"n\": 8665}, {\"threshold\": 0.625, \"p\": 28005, \"fpr\": 0.9384881708020774, \"tpr\": 0.9858239600071416, \"n\": 8665}, {\"threshold\": 0.626, \"p\": 28005, \"fpr\": 0.9384881708020774, \"tpr\": 0.9858239600071416, \"n\": 8665}, {\"threshold\": 0.627, \"p\": 28005, \"fpr\": 0.9384881708020774, \"tpr\": 0.9858239600071416, \"n\": 8665}, {\"threshold\": 0.628, \"p\": 28005, \"fpr\": 0.9384881708020774, \"tpr\": 0.9858239600071416, \"n\": 8665}, {\"threshold\": 0.629, \"p\": 28005, \"fpr\": 0.9384881708020774, \"tpr\": 0.9858239600071416, \"n\": 8665}, {\"threshold\": 0.63, \"p\": 28005, \"fpr\": 0.9384881708020774, \"tpr\": 0.9858239600071416, \"n\": 8665}, {\"threshold\": 0.631, \"p\": 28005, \"fpr\": 0.9384881708020774, \"tpr\": 0.9858239600071416, \"n\": 8665}, {\"threshold\": 0.632, \"p\": 28005, \"fpr\": 0.9384881708020774, \"tpr\": 0.9858239600071416, \"n\": 8665}, {\"threshold\": 0.633, \"p\": 28005, \"fpr\": 0.9384881708020774, \"tpr\": 0.9857882520978397, \"n\": 8665}, {\"threshold\": 0.634, \"p\": 28005, \"fpr\": 0.9384881708020774, \"tpr\": 0.9857882520978397, \"n\": 8665}, {\"threshold\": 0.635, \"p\": 28005, \"fpr\": 0.9384881708020774, \"tpr\": 0.9857882520978397, \"n\": 8665}, {\"threshold\": 0.636, \"p\": 28005, \"fpr\": 0.9384881708020774, \"tpr\": 0.9857882520978397, \"n\": 8665}, {\"threshold\": 0.637, \"p\": 28005, \"fpr\": 0.9384881708020774, \"tpr\": 0.9857882520978397, \"n\": 8665}, {\"threshold\": 0.638, \"p\": 28005, \"fpr\": 0.9382573571840739, \"tpr\": 0.9857525441885377, \"n\": 8665}, {\"threshold\": 0.639, \"p\": 28005, \"fpr\": 0.9382573571840739, \"tpr\": 0.9857525441885377, \"n\": 8665}, {\"threshold\": 0.64, \"p\": 28005, \"fpr\": 0.9382573571840739, \"tpr\": 0.9857525441885377, \"n\": 8665}, {\"threshold\": 0.641, \"p\": 28005, \"fpr\": 0.9382573571840739, \"tpr\": 0.9857525441885377, \"n\": 8665}, {\"threshold\": 0.642, \"p\": 28005, \"fpr\": 0.9382573571840739, \"tpr\": 0.9857525441885377, \"n\": 8665}, {\"threshold\": 0.643, \"p\": 28005, \"fpr\": 0.9382573571840739, \"tpr\": 0.9857525441885377, \"n\": 8665}, {\"threshold\": 0.644, \"p\": 28005, \"fpr\": 0.9382573571840739, \"tpr\": 0.9857525441885377, \"n\": 8665}, {\"threshold\": 0.645, \"p\": 28005, \"fpr\": 0.9382573571840739, \"tpr\": 0.9857525441885377, \"n\": 8665}, {\"threshold\": 0.646, \"p\": 28005, \"fpr\": 0.9382573571840739, \"tpr\": 0.9857525441885377, \"n\": 8665}, {\"threshold\": 0.647, \"p\": 28005, \"fpr\": 0.9382573571840739, \"tpr\": 0.9857525441885377, \"n\": 8665}, {\"threshold\": 0.648, \"p\": 28005, \"fpr\": 0.9382573571840739, \"tpr\": 0.9857525441885377, \"n\": 8665}, {\"threshold\": 0.649, \"p\": 28005, \"fpr\": 0.9382573571840739, \"tpr\": 0.9857525441885377, \"n\": 8665}, {\"threshold\": 0.65, \"p\": 28005, \"fpr\": 0.9382573571840739, \"tpr\": 0.9856454204606321, \"n\": 8665}, {\"threshold\": 0.651, \"p\": 28005, \"fpr\": 0.9380265435660704, \"tpr\": 0.9856097125513301, \"n\": 8665}, {\"threshold\": 0.652, \"p\": 28005, \"fpr\": 0.9380265435660704, \"tpr\": 0.9856097125513301, \"n\": 8665}, {\"threshold\": 0.653, \"p\": 28005, \"fpr\": 0.9380265435660704, \"tpr\": 0.9856097125513301, \"n\": 8665}, {\"threshold\": 0.654, \"p\": 28005, \"fpr\": 0.9380265435660704, \"tpr\": 0.9856097125513301, \"n\": 8665}, {\"threshold\": 0.655, \"p\": 28005, \"fpr\": 0.9380265435660704, \"tpr\": 0.9856097125513301, \"n\": 8665}, {\"threshold\": 0.656, \"p\": 28005, \"fpr\": 0.9380265435660704, \"tpr\": 0.9856097125513301, \"n\": 8665}, {\"threshold\": 0.657, \"p\": 28005, \"fpr\": 0.9379111367570687, \"tpr\": 0.9856097125513301, \"n\": 8665}, {\"threshold\": 0.658, \"p\": 28005, \"fpr\": 0.9379111367570687, \"tpr\": 0.9856097125513301, \"n\": 8665}, {\"threshold\": 0.659, \"p\": 28005, \"fpr\": 0.9379111367570687, \"tpr\": 0.9856097125513301, \"n\": 8665}, {\"threshold\": 0.66, \"p\": 28005, \"fpr\": 0.9379111367570687, \"tpr\": 0.9856097125513301, \"n\": 8665}, {\"threshold\": 0.661, \"p\": 28005, \"fpr\": 0.9379111367570687, \"tpr\": 0.9856097125513301, \"n\": 8665}, {\"threshold\": 0.662, \"p\": 28005, \"fpr\": 0.9379111367570687, \"tpr\": 0.9856097125513301, \"n\": 8665}, {\"threshold\": 0.663, \"p\": 28005, \"fpr\": 0.9379111367570687, \"tpr\": 0.9856097125513301, \"n\": 8665}, {\"threshold\": 0.664, \"p\": 28005, \"fpr\": 0.9379111367570687, \"tpr\": 0.9856097125513301, \"n\": 8665}, {\"threshold\": 0.665, \"p\": 28005, \"fpr\": 0.9379111367570687, \"tpr\": 0.9856097125513301, \"n\": 8665}, {\"threshold\": 0.666, \"p\": 28005, \"fpr\": 0.9379111367570687, \"tpr\": 0.9856097125513301, \"n\": 8665}, {\"threshold\": 0.667, \"p\": 28005, \"fpr\": 0.9377957299480669, \"tpr\": 0.9856097125513301, \"n\": 8665}, {\"threshold\": 0.668, \"p\": 28005, \"fpr\": 0.9347951529140219, \"tpr\": 0.9839314408141403, \"n\": 8665}, {\"threshold\": 0.669, \"p\": 28005, \"fpr\": 0.9347951529140219, \"tpr\": 0.9839314408141403, \"n\": 8665}, {\"threshold\": 0.67, \"p\": 28005, \"fpr\": 0.9347951529140219, \"tpr\": 0.9839314408141403, \"n\": 8665}, {\"threshold\": 0.671, \"p\": 28005, \"fpr\": 0.9347951529140219, \"tpr\": 0.9839314408141403, \"n\": 8665}, {\"threshold\": 0.672, \"p\": 28005, \"fpr\": 0.9347951529140219, \"tpr\": 0.9839314408141403, \"n\": 8665}, {\"threshold\": 0.673, \"p\": 28005, \"fpr\": 0.9347951529140219, \"tpr\": 0.9839314408141403, \"n\": 8665}, {\"threshold\": 0.674, \"p\": 28005, \"fpr\": 0.9347951529140219, \"tpr\": 0.9839314408141403, \"n\": 8665}, {\"threshold\": 0.675, \"p\": 28005, \"fpr\": 0.9347951529140219, \"tpr\": 0.9839314408141403, \"n\": 8665}, {\"threshold\": 0.676, \"p\": 28005, \"fpr\": 0.9347951529140219, \"tpr\": 0.9839314408141403, \"n\": 8665}, {\"threshold\": 0.677, \"p\": 28005, \"fpr\": 0.9347951529140219, \"tpr\": 0.9839314408141403, \"n\": 8665}, {\"threshold\": 0.678, \"p\": 28005, \"fpr\": 0.9347951529140219, \"tpr\": 0.9839314408141403, \"n\": 8665}, {\"threshold\": 0.679, \"p\": 28005, \"fpr\": 0.9347951529140219, \"tpr\": 0.9839314408141403, \"n\": 8665}, {\"threshold\": 0.68, \"p\": 28005, \"fpr\": 0.9347951529140219, \"tpr\": 0.9839314408141403, \"n\": 8665}, {\"threshold\": 0.681, \"p\": 28005, \"fpr\": 0.9347951529140219, \"tpr\": 0.9839314408141403, \"n\": 8665}, {\"threshold\": 0.682, \"p\": 28005, \"fpr\": 0.9347951529140219, \"tpr\": 0.9839314408141403, \"n\": 8665}, {\"threshold\": 0.683, \"p\": 28005, \"fpr\": 0.9347951529140219, \"tpr\": 0.9839314408141403, \"n\": 8665}, {\"threshold\": 0.684, \"p\": 28005, \"fpr\": 0.9347951529140219, \"tpr\": 0.9839314408141403, \"n\": 8665}, {\"threshold\": 0.685, \"p\": 28005, \"fpr\": 0.933064050778996, \"tpr\": 0.9830387430815926, \"n\": 8665}, {\"threshold\": 0.686, \"p\": 28005, \"fpr\": 0.933064050778996, \"tpr\": 0.9830387430815926, \"n\": 8665}, {\"threshold\": 0.687, \"p\": 28005, \"fpr\": 0.933064050778996, \"tpr\": 0.9830387430815926, \"n\": 8665}, {\"threshold\": 0.688, \"p\": 28005, \"fpr\": 0.933064050778996, \"tpr\": 0.9830387430815926, \"n\": 8665}, {\"threshold\": 0.689, \"p\": 28005, \"fpr\": 0.933064050778996, \"tpr\": 0.9830387430815926, \"n\": 8665}, {\"threshold\": 0.69, \"p\": 28005, \"fpr\": 0.933064050778996, \"tpr\": 0.9830387430815926, \"n\": 8665}, {\"threshold\": 0.691, \"p\": 28005, \"fpr\": 0.933064050778996, \"tpr\": 0.9830387430815926, \"n\": 8665}, {\"threshold\": 0.692, \"p\": 28005, \"fpr\": 0.933064050778996, \"tpr\": 0.9830387430815926, \"n\": 8665}, {\"threshold\": 0.693, \"p\": 28005, \"fpr\": 0.933064050778996, \"tpr\": 0.9830387430815926, \"n\": 8665}, {\"threshold\": 0.694, \"p\": 28005, \"fpr\": 0.933064050778996, \"tpr\": 0.9830387430815926, \"n\": 8665}, {\"threshold\": 0.695, \"p\": 28005, \"fpr\": 0.933064050778996, \"tpr\": 0.9830387430815926, \"n\": 8665}, {\"threshold\": 0.696, \"p\": 28005, \"fpr\": 0.933064050778996, \"tpr\": 0.9830387430815926, \"n\": 8665}, {\"threshold\": 0.697, \"p\": 28005, \"fpr\": 0.933064050778996, \"tpr\": 0.9830387430815926, \"n\": 8665}, {\"threshold\": 0.698, \"p\": 28005, \"fpr\": 0.933064050778996, \"tpr\": 0.9830387430815926, \"n\": 8665}, {\"threshold\": 0.699, \"p\": 28005, \"fpr\": 0.933064050778996, \"tpr\": 0.9830387430815926, \"n\": 8665}, {\"threshold\": 0.7, \"p\": 28005, \"fpr\": 0.933064050778996, \"tpr\": 0.9830387430815926, \"n\": 8665}, {\"threshold\": 0.701, \"p\": 28005, \"fpr\": 0.933064050778996, \"tpr\": 0.9830387430815926, \"n\": 8665}, {\"threshold\": 0.702, \"p\": 28005, \"fpr\": 0.933064050778996, \"tpr\": 0.9830387430815926, \"n\": 8665}, {\"threshold\": 0.703, \"p\": 28005, \"fpr\": 0.933064050778996, \"tpr\": 0.9830030351722907, \"n\": 8665}, {\"threshold\": 0.704, \"p\": 28005, \"fpr\": 0.933064050778996, \"tpr\": 0.9830030351722907, \"n\": 8665}, {\"threshold\": 0.705, \"p\": 28005, \"fpr\": 0.933064050778996, \"tpr\": 0.9830030351722907, \"n\": 8665}, {\"threshold\": 0.706, \"p\": 28005, \"fpr\": 0.933064050778996, \"tpr\": 0.9830030351722907, \"n\": 8665}, {\"threshold\": 0.707, \"p\": 28005, \"fpr\": 0.933064050778996, \"tpr\": 0.9830030351722907, \"n\": 8665}, {\"threshold\": 0.708, \"p\": 28005, \"fpr\": 0.933064050778996, \"tpr\": 0.9830030351722907, \"n\": 8665}, {\"threshold\": 0.709, \"p\": 28005, \"fpr\": 0.9328332371609925, \"tpr\": 0.9829316193536869, \"n\": 8665}, {\"threshold\": 0.71, \"p\": 28005, \"fpr\": 0.9328332371609925, \"tpr\": 0.9829316193536869, \"n\": 8665}, {\"threshold\": 0.711, \"p\": 28005, \"fpr\": 0.16814772071552223, \"tpr\": 0.4141760399928584, \"n\": 8665}, {\"threshold\": 0.712, \"p\": 28005, \"fpr\": 0.16814772071552223, \"tpr\": 0.4141760399928584, \"n\": 8665}, {\"threshold\": 0.713, \"p\": 28005, \"fpr\": 0.16814772071552223, \"tpr\": 0.4141760399928584, \"n\": 8665}, {\"threshold\": 0.714, \"p\": 28005, \"fpr\": 0.16814772071552223, \"tpr\": 0.4141760399928584, \"n\": 8665}, {\"threshold\": 0.715, \"p\": 28005, \"fpr\": 0.16814772071552223, \"tpr\": 0.4141760399928584, \"n\": 8665}, {\"threshold\": 0.716, \"p\": 28005, \"fpr\": 0.16814772071552223, \"tpr\": 0.4141760399928584, \"n\": 8665}, {\"threshold\": 0.717, \"p\": 28005, \"fpr\": 0.16814772071552223, \"tpr\": 0.4141760399928584, \"n\": 8665}, {\"threshold\": 0.718, \"p\": 28005, \"fpr\": 0.16814772071552223, \"tpr\": 0.4141760399928584, \"n\": 8665}, {\"threshold\": 0.719, \"p\": 28005, \"fpr\": 0.16814772071552223, \"tpr\": 0.4141760399928584, \"n\": 8665}, {\"threshold\": 0.72, \"p\": 28005, \"fpr\": 0.16814772071552223, \"tpr\": 0.4141760399928584, \"n\": 8665}, {\"threshold\": 0.721, \"p\": 28005, \"fpr\": 0.16814772071552223, \"tpr\": 0.4141760399928584, \"n\": 8665}, {\"threshold\": 0.722, \"p\": 28005, \"fpr\": 0.16814772071552223, \"tpr\": 0.4141760399928584, \"n\": 8665}, {\"threshold\": 0.723, \"p\": 28005, \"fpr\": 0.16814772071552223, \"tpr\": 0.4141760399928584, \"n\": 8665}, {\"threshold\": 0.724, \"p\": 28005, \"fpr\": 0.16814772071552223, \"tpr\": 0.4141760399928584, \"n\": 8665}, {\"threshold\": 0.725, \"p\": 28005, \"fpr\": 0.16814772071552223, \"tpr\": 0.4141760399928584, \"n\": 8665}, {\"threshold\": 0.726, \"p\": 28005, \"fpr\": 0.16814772071552223, \"tpr\": 0.4141760399928584, \"n\": 8665}, {\"threshold\": 0.727, \"p\": 28005, \"fpr\": 0.16814772071552223, \"tpr\": 0.4141760399928584, \"n\": 8665}, {\"threshold\": 0.728, \"p\": 28005, \"fpr\": 0.16814772071552223, \"tpr\": 0.4141760399928584, \"n\": 8665}, {\"threshold\": 0.729, \"p\": 28005, \"fpr\": 0.16814772071552223, \"tpr\": 0.4141760399928584, \"n\": 8665}, {\"threshold\": 0.73, \"p\": 28005, \"fpr\": 0.16814772071552223, \"tpr\": 0.4141760399928584, \"n\": 8665}, {\"threshold\": 0.731, \"p\": 28005, \"fpr\": 0.16791690709751875, \"tpr\": 0.4141046241742546, \"n\": 8665}, {\"threshold\": 0.732, \"p\": 28005, \"fpr\": 0.16791690709751875, \"tpr\": 0.4140332083556508, \"n\": 8665}, {\"threshold\": 0.733, \"p\": 28005, \"fpr\": 0.16791690709751875, \"tpr\": 0.4140332083556508, \"n\": 8665}, {\"threshold\": 0.734, \"p\": 28005, \"fpr\": 0.16791690709751875, \"tpr\": 0.4140332083556508, \"n\": 8665}, {\"threshold\": 0.735, \"p\": 28005, \"fpr\": 0.16791690709751875, \"tpr\": 0.41385466880914124, \"n\": 8665}, {\"threshold\": 0.736, \"p\": 28005, \"fpr\": 0.16780150028851704, \"tpr\": 0.4137832529905374, \"n\": 8665}, {\"threshold\": 0.737, \"p\": 28005, \"fpr\": 0.16780150028851704, \"tpr\": 0.4137832529905374, \"n\": 8665}, {\"threshold\": 0.738, \"p\": 28005, \"fpr\": 0.16780150028851704, \"tpr\": 0.4137832529905374, \"n\": 8665}, {\"threshold\": 0.739, \"p\": 28005, \"fpr\": 0.16780150028851704, \"tpr\": 0.4137832529905374, \"n\": 8665}, {\"threshold\": 0.74, \"p\": 28005, \"fpr\": 0.16780150028851704, \"tpr\": 0.4137832529905374, \"n\": 8665}, {\"threshold\": 0.741, \"p\": 28005, \"fpr\": 0.16780150028851704, \"tpr\": 0.4137832529905374, \"n\": 8665}, {\"threshold\": 0.742, \"p\": 28005, \"fpr\": 0.16780150028851704, \"tpr\": 0.4137832529905374, \"n\": 8665}, {\"threshold\": 0.743, \"p\": 28005, \"fpr\": 0.16780150028851704, \"tpr\": 0.4137832529905374, \"n\": 8665}, {\"threshold\": 0.744, \"p\": 28005, \"fpr\": 0.16780150028851704, \"tpr\": 0.4137832529905374, \"n\": 8665}, {\"threshold\": 0.745, \"p\": 28005, \"fpr\": 0.16780150028851704, \"tpr\": 0.4137832529905374, \"n\": 8665}, {\"threshold\": 0.746, \"p\": 28005, \"fpr\": 0.16780150028851704, \"tpr\": 0.4137832529905374, \"n\": 8665}, {\"threshold\": 0.747, \"p\": 28005, \"fpr\": 0.16780150028851704, \"tpr\": 0.4137832529905374, \"n\": 8665}, {\"threshold\": 0.748, \"p\": 28005, \"fpr\": 0.16780150028851704, \"tpr\": 0.4137832529905374, \"n\": 8665}, {\"threshold\": 0.749, \"p\": 28005, \"fpr\": 0.16780150028851704, \"tpr\": 0.4137832529905374, \"n\": 8665}, {\"threshold\": 0.75, \"p\": 28005, \"fpr\": 0.16780150028851704, \"tpr\": 0.4137832529905374, \"n\": 8665}, {\"threshold\": 0.751, \"p\": 28005, \"fpr\": 0.16780150028851704, \"tpr\": 0.4137832529905374, \"n\": 8665}, {\"threshold\": 0.752, \"p\": 28005, \"fpr\": 0.16780150028851704, \"tpr\": 0.4137832529905374, \"n\": 8665}, {\"threshold\": 0.753, \"p\": 28005, \"fpr\": 0.16780150028851704, \"tpr\": 0.4137832529905374, \"n\": 8665}, {\"threshold\": 0.754, \"p\": 28005, \"fpr\": 0.16780150028851704, \"tpr\": 0.4137832529905374, \"n\": 8665}, {\"threshold\": 0.755, \"p\": 28005, \"fpr\": 0.16780150028851704, \"tpr\": 0.4137832529905374, \"n\": 8665}, {\"threshold\": 0.756, \"p\": 28005, \"fpr\": 0.16780150028851704, \"tpr\": 0.4137832529905374, \"n\": 8665}, {\"threshold\": 0.757, \"p\": 28005, \"fpr\": 0.16780150028851704, \"tpr\": 0.4137832529905374, \"n\": 8665}, {\"threshold\": 0.758, \"p\": 28005, \"fpr\": 0.16780150028851704, \"tpr\": 0.4137832529905374, \"n\": 8665}, {\"threshold\": 0.759, \"p\": 28005, \"fpr\": 0.16780150028851704, \"tpr\": 0.4137832529905374, \"n\": 8665}, {\"threshold\": 0.76, \"p\": 28005, \"fpr\": 0.16780150028851704, \"tpr\": 0.4137832529905374, \"n\": 8665}, {\"threshold\": 0.761, \"p\": 28005, \"fpr\": 0.1663012117714945, \"tpr\": 0.4121763970719514, \"n\": 8665}, {\"threshold\": 0.762, \"p\": 28005, \"fpr\": 0.1663012117714945, \"tpr\": 0.4121763970719514, \"n\": 8665}, {\"threshold\": 0.763, \"p\": 28005, \"fpr\": 0.1663012117714945, \"tpr\": 0.4121763970719514, \"n\": 8665}, {\"threshold\": 0.764, \"p\": 28005, \"fpr\": 0.1663012117714945, \"tpr\": 0.4121763970719514, \"n\": 8665}, {\"threshold\": 0.765, \"p\": 28005, \"fpr\": 0.1663012117714945, \"tpr\": 0.4121763970719514, \"n\": 8665}, {\"threshold\": 0.766, \"p\": 28005, \"fpr\": 0.1663012117714945, \"tpr\": 0.4121763970719514, \"n\": 8665}, {\"threshold\": 0.767, \"p\": 28005, \"fpr\": 0.1663012117714945, \"tpr\": 0.4121763970719514, \"n\": 8665}, {\"threshold\": 0.768, \"p\": 28005, \"fpr\": 0.1663012117714945, \"tpr\": 0.4121763970719514, \"n\": 8665}, {\"threshold\": 0.769, \"p\": 28005, \"fpr\": 0.1663012117714945, \"tpr\": 0.4121763970719514, \"n\": 8665}, {\"threshold\": 0.77, \"p\": 28005, \"fpr\": 0.1663012117714945, \"tpr\": 0.4121763970719514, \"n\": 8665}, {\"threshold\": 0.771, \"p\": 28005, \"fpr\": 0.1663012117714945, \"tpr\": 0.4121763970719514, \"n\": 8665}, {\"threshold\": 0.772, \"p\": 28005, \"fpr\": 0.1663012117714945, \"tpr\": 0.4121763970719514, \"n\": 8665}, {\"threshold\": 0.773, \"p\": 28005, \"fpr\": 0.1654933641084824, \"tpr\": 0.41196214961613997, \"n\": 8665}, {\"threshold\": 0.774, \"p\": 28005, \"fpr\": 0.1654933641084824, \"tpr\": 0.41196214961613997, \"n\": 8665}, {\"threshold\": 0.775, \"p\": 28005, \"fpr\": 0.1654933641084824, \"tpr\": 0.41196214961613997, \"n\": 8665}, {\"threshold\": 0.776, \"p\": 28005, \"fpr\": 0.1654933641084824, \"tpr\": 0.41196214961613997, \"n\": 8665}, {\"threshold\": 0.777, \"p\": 28005, \"fpr\": 0.1654933641084824, \"tpr\": 0.41196214961613997, \"n\": 8665}, {\"threshold\": 0.778, \"p\": 28005, \"fpr\": 0.1654933641084824, \"tpr\": 0.41196214961613997, \"n\": 8665}, {\"threshold\": 0.779, \"p\": 28005, \"fpr\": 0.1654933641084824, \"tpr\": 0.41196214961613997, \"n\": 8665}, {\"threshold\": 0.78, \"p\": 28005, \"fpr\": 0.1654933641084824, \"tpr\": 0.41192644170683806, \"n\": 8665}, {\"threshold\": 0.781, \"p\": 28005, \"fpr\": 0.1654933641084824, \"tpr\": 0.41192644170683806, \"n\": 8665}, {\"threshold\": 0.782, \"p\": 28005, \"fpr\": 0.1654933641084824, \"tpr\": 0.41192644170683806, \"n\": 8665}, {\"threshold\": 0.783, \"p\": 28005, \"fpr\": 0.1654933641084824, \"tpr\": 0.41192644170683806, \"n\": 8665}, {\"threshold\": 0.784, \"p\": 28005, \"fpr\": 0.1654933641084824, \"tpr\": 0.41192644170683806, \"n\": 8665}, {\"threshold\": 0.785, \"p\": 28005, \"fpr\": 0.1654933641084824, \"tpr\": 0.41192644170683806, \"n\": 8665}, {\"threshold\": 0.786, \"p\": 28005, \"fpr\": 0.1654933641084824, \"tpr\": 0.41192644170683806, \"n\": 8665}, {\"threshold\": 0.787, \"p\": 28005, \"fpr\": 0.16537795729948068, \"tpr\": 0.41192644170683806, \"n\": 8665}, {\"threshold\": 0.788, \"p\": 28005, \"fpr\": 0.16537795729948068, \"tpr\": 0.41192644170683806, \"n\": 8665}, {\"threshold\": 0.789, \"p\": 28005, \"fpr\": 0.16526255049047894, \"tpr\": 0.41185502588823425, \"n\": 8665}, {\"threshold\": 0.79, \"p\": 28005, \"fpr\": 0.16526255049047894, \"tpr\": 0.41178361006963043, \"n\": 8665}, {\"threshold\": 0.791, \"p\": 28005, \"fpr\": 0.16526255049047894, \"tpr\": 0.41178361006963043, \"n\": 8665}, {\"threshold\": 0.792, \"p\": 28005, \"fpr\": 0.16526255049047894, \"tpr\": 0.41178361006963043, \"n\": 8665}, {\"threshold\": 0.793, \"p\": 28005, \"fpr\": 0.16526255049047894, \"tpr\": 0.41178361006963043, \"n\": 8665}, {\"threshold\": 0.794, \"p\": 28005, \"fpr\": 0.16526255049047894, \"tpr\": 0.41178361006963043, \"n\": 8665}, {\"threshold\": 0.795, \"p\": 28005, \"fpr\": 0.16526255049047894, \"tpr\": 0.41178361006963043, \"n\": 8665}, {\"threshold\": 0.796, \"p\": 28005, \"fpr\": 0.16526255049047894, \"tpr\": 0.41178361006963043, \"n\": 8665}, {\"threshold\": 0.797, \"p\": 28005, \"fpr\": 0.16526255049047894, \"tpr\": 0.41178361006963043, \"n\": 8665}, {\"threshold\": 0.798, \"p\": 28005, \"fpr\": 0.16526255049047894, \"tpr\": 0.41178361006963043, \"n\": 8665}, {\"threshold\": 0.799, \"p\": 28005, \"fpr\": 0.16526255049047894, \"tpr\": 0.41178361006963043, \"n\": 8665}, {\"threshold\": 0.8, \"p\": 28005, \"fpr\": 0.16526255049047894, \"tpr\": 0.41178361006963043, \"n\": 8665}, {\"threshold\": 0.801, \"p\": 28005, \"fpr\": 0.16526255049047894, \"tpr\": 0.41178361006963043, \"n\": 8665}, {\"threshold\": 0.802, \"p\": 28005, \"fpr\": 0.16480092325447201, \"tpr\": 0.4113194072487056, \"n\": 8665}, {\"threshold\": 0.803, \"p\": 28005, \"fpr\": 0.16480092325447201, \"tpr\": 0.4113194072487056, \"n\": 8665}, {\"threshold\": 0.804, \"p\": 28005, \"fpr\": 0.16480092325447201, \"tpr\": 0.4113194072487056, \"n\": 8665}, {\"threshold\": 0.805, \"p\": 28005, \"fpr\": 0.16480092325447201, \"tpr\": 0.4113194072487056, \"n\": 8665}, {\"threshold\": 0.806, \"p\": 28005, \"fpr\": 0.16480092325447201, \"tpr\": 0.4113194072487056, \"n\": 8665}, {\"threshold\": 0.807, \"p\": 28005, \"fpr\": 0.16480092325447201, \"tpr\": 0.4113194072487056, \"n\": 8665}, {\"threshold\": 0.808, \"p\": 28005, \"fpr\": 0.16480092325447201, \"tpr\": 0.4113194072487056, \"n\": 8665}, {\"threshold\": 0.809, \"p\": 28005, \"fpr\": 0.16480092325447201, \"tpr\": 0.4113194072487056, \"n\": 8665}, {\"threshold\": 0.81, \"p\": 28005, \"fpr\": 0.16480092325447201, \"tpr\": 0.4113194072487056, \"n\": 8665}, {\"threshold\": 0.811, \"p\": 28005, \"fpr\": 0.16480092325447201, \"tpr\": 0.41124799143010177, \"n\": 8665}, {\"threshold\": 0.812, \"p\": 28005, \"fpr\": 0.16480092325447201, \"tpr\": 0.41124799143010177, \"n\": 8665}, {\"threshold\": 0.813, \"p\": 28005, \"fpr\": 0.16480092325447201, \"tpr\": 0.41124799143010177, \"n\": 8665}, {\"threshold\": 0.814, \"p\": 28005, \"fpr\": 0.16457010963646856, \"tpr\": 0.4109980360649884, \"n\": 8665}, {\"threshold\": 0.815, \"p\": 28005, \"fpr\": 0.16457010963646856, \"tpr\": 0.4109980360649884, \"n\": 8665}, {\"threshold\": 0.816, \"p\": 28005, \"fpr\": 0.16457010963646856, \"tpr\": 0.4109980360649884, \"n\": 8665}, {\"threshold\": 0.817, \"p\": 28005, \"fpr\": 0.16457010963646856, \"tpr\": 0.4109980360649884, \"n\": 8665}, {\"threshold\": 0.818, \"p\": 28005, \"fpr\": 0.16457010963646856, \"tpr\": 0.4109980360649884, \"n\": 8665}, {\"threshold\": 0.819, \"p\": 28005, \"fpr\": 0.16457010963646856, \"tpr\": 0.4109980360649884, \"n\": 8665}, {\"threshold\": 0.82, \"p\": 28005, \"fpr\": 0.16457010963646856, \"tpr\": 0.4109980360649884, \"n\": 8665}, {\"threshold\": 0.821, \"p\": 28005, \"fpr\": 0.16457010963646856, \"tpr\": 0.4109980360649884, \"n\": 8665}, {\"threshold\": 0.822, \"p\": 28005, \"fpr\": 0.16457010963646856, \"tpr\": 0.4109980360649884, \"n\": 8665}, {\"threshold\": 0.823, \"p\": 28005, \"fpr\": 0.16457010963646856, \"tpr\": 0.4109980360649884, \"n\": 8665}, {\"threshold\": 0.824, \"p\": 28005, \"fpr\": 0.16457010963646856, \"tpr\": 0.4109980360649884, \"n\": 8665}, {\"threshold\": 0.825, \"p\": 28005, \"fpr\": 0.16457010963646856, \"tpr\": 0.4109980360649884, \"n\": 8665}, {\"threshold\": 0.826, \"p\": 28005, \"fpr\": 0.16457010963646856, \"tpr\": 0.4109980360649884, \"n\": 8665}, {\"threshold\": 0.827, \"p\": 28005, \"fpr\": 0.16457010963646856, \"tpr\": 0.4109980360649884, \"n\": 8665}, {\"threshold\": 0.828, \"p\": 28005, \"fpr\": 0.16457010963646856, \"tpr\": 0.4109980360649884, \"n\": 8665}, {\"threshold\": 0.829, \"p\": 28005, \"fpr\": 0.16457010963646856, \"tpr\": 0.4109980360649884, \"n\": 8665}, {\"threshold\": 0.83, \"p\": 28005, \"fpr\": 0.16457010963646856, \"tpr\": 0.4109980360649884, \"n\": 8665}, {\"threshold\": 0.831, \"p\": 28005, \"fpr\": 0.16445470282746683, \"tpr\": 0.4109980360649884, \"n\": 8665}, {\"threshold\": 0.832, \"p\": 28005, \"fpr\": 0.07974610502019619, \"tpr\": 0.265345474022496, \"n\": 8665}, {\"threshold\": 0.833, \"p\": 28005, \"fpr\": 0.07974610502019619, \"tpr\": 0.265345474022496, \"n\": 8665}, {\"threshold\": 0.834, \"p\": 28005, \"fpr\": 0.07974610502019619, \"tpr\": 0.265345474022496, \"n\": 8665}, {\"threshold\": 0.835, \"p\": 28005, \"fpr\": 0.07974610502019619, \"tpr\": 0.265345474022496, \"n\": 8665}, {\"threshold\": 0.836, \"p\": 28005, \"fpr\": 0.07974610502019619, \"tpr\": 0.26530976611319407, \"n\": 8665}, {\"threshold\": 0.837, \"p\": 28005, \"fpr\": 0.07974610502019619, \"tpr\": 0.26530976611319407, \"n\": 8665}, {\"threshold\": 0.838, \"p\": 28005, \"fpr\": 0.07974610502019619, \"tpr\": 0.26530976611319407, \"n\": 8665}, {\"threshold\": 0.839, \"p\": 28005, \"fpr\": 0.07963069821119446, \"tpr\": 0.26530976611319407, \"n\": 8665}, {\"threshold\": 0.84, \"p\": 28005, \"fpr\": 0.07963069821119446, \"tpr\": 0.26530976611319407, \"n\": 8665}, {\"threshold\": 0.841, \"p\": 28005, \"fpr\": 0.07963069821119446, \"tpr\": 0.26530976611319407, \"n\": 8665}, {\"threshold\": 0.842, \"p\": 28005, \"fpr\": 0.07963069821119446, \"tpr\": 0.26530976611319407, \"n\": 8665}, {\"threshold\": 0.843, \"p\": 28005, \"fpr\": 0.07963069821119446, \"tpr\": 0.26530976611319407, \"n\": 8665}, {\"threshold\": 0.844, \"p\": 28005, \"fpr\": 0.07963069821119446, \"tpr\": 0.26530976611319407, \"n\": 8665}, {\"threshold\": 0.845, \"p\": 28005, \"fpr\": 0.07963069821119446, \"tpr\": 0.26530976611319407, \"n\": 8665}, {\"threshold\": 0.846, \"p\": 28005, \"fpr\": 0.079399884593191, \"tpr\": 0.26530976611319407, \"n\": 8665}, {\"threshold\": 0.847, \"p\": 28005, \"fpr\": 0.079399884593191, \"tpr\": 0.26530976611319407, \"n\": 8665}, {\"threshold\": 0.848, \"p\": 28005, \"fpr\": 0.079399884593191, \"tpr\": 0.26527405820389216, \"n\": 8665}, {\"threshold\": 0.849, \"p\": 28005, \"fpr\": 0.07928447778418926, \"tpr\": 0.26527405820389216, \"n\": 8665}, {\"threshold\": 0.85, \"p\": 28005, \"fpr\": 0.07928447778418926, \"tpr\": 0.26527405820389216, \"n\": 8665}, {\"threshold\": 0.851, \"p\": 28005, \"fpr\": 0.07928447778418926, \"tpr\": 0.26527405820389216, \"n\": 8665}, {\"threshold\": 0.852, \"p\": 28005, \"fpr\": 0.07928447778418926, \"tpr\": 0.26527405820389216, \"n\": 8665}, {\"threshold\": 0.853, \"p\": 28005, \"fpr\": 0.07928447778418926, \"tpr\": 0.26527405820389216, \"n\": 8665}, {\"threshold\": 0.854, \"p\": 28005, \"fpr\": 0.07928447778418926, \"tpr\": 0.26527405820389216, \"n\": 8665}, {\"threshold\": 0.855, \"p\": 28005, \"fpr\": 0.07928447778418926, \"tpr\": 0.26527405820389216, \"n\": 8665}, {\"threshold\": 0.856, \"p\": 28005, \"fpr\": 0.07928447778418926, \"tpr\": 0.26520264238528835, \"n\": 8665}, {\"threshold\": 0.857, \"p\": 28005, \"fpr\": 0.07928447778418926, \"tpr\": 0.26520264238528835, \"n\": 8665}, {\"threshold\": 0.858, \"p\": 28005, \"fpr\": 0.07720715522215811, \"tpr\": 0.26116764863417247, \"n\": 8665}, {\"threshold\": 0.859, \"p\": 28005, \"fpr\": 0.07720715522215811, \"tpr\": 0.26116764863417247, \"n\": 8665}, {\"threshold\": 0.86, \"p\": 28005, \"fpr\": 0.07720715522215811, \"tpr\": 0.26116764863417247, \"n\": 8665}, {\"threshold\": 0.861, \"p\": 28005, \"fpr\": 0.07720715522215811, \"tpr\": 0.26116764863417247, \"n\": 8665}, {\"threshold\": 0.862, \"p\": 28005, \"fpr\": 0.07720715522215811, \"tpr\": 0.26116764863417247, \"n\": 8665}, {\"threshold\": 0.863, \"p\": 28005, \"fpr\": 0.07720715522215811, \"tpr\": 0.26116764863417247, \"n\": 8665}, {\"threshold\": 0.864, \"p\": 28005, \"fpr\": 0.07720715522215811, \"tpr\": 0.26116764863417247, \"n\": 8665}, {\"threshold\": 0.865, \"p\": 28005, \"fpr\": 0.07674552798615118, \"tpr\": 0.26056061417604, \"n\": 8665}, {\"threshold\": 0.866, \"p\": 28005, \"fpr\": 0.07674552798615118, \"tpr\": 0.26056061417604, \"n\": 8665}, {\"threshold\": 0.867, \"p\": 28005, \"fpr\": 0.07674552798615118, \"tpr\": 0.26056061417604, \"n\": 8665}, {\"threshold\": 0.868, \"p\": 28005, \"fpr\": 0.07674552798615118, \"tpr\": 0.26056061417604, \"n\": 8665}, {\"threshold\": 0.869, \"p\": 28005, \"fpr\": 0.07674552798615118, \"tpr\": 0.26056061417604, \"n\": 8665}, {\"threshold\": 0.87, \"p\": 28005, \"fpr\": 0.07674552798615118, \"tpr\": 0.26056061417604, \"n\": 8665}, {\"threshold\": 0.871, \"p\": 28005, \"fpr\": 0.07409117137911136, \"tpr\": 0.25413319050169614, \"n\": 8665}, {\"threshold\": 0.872, \"p\": 28005, \"fpr\": 0.07409117137911136, \"tpr\": 0.25413319050169614, \"n\": 8665}, {\"threshold\": 0.873, \"p\": 28005, \"fpr\": 0.07397576457010964, \"tpr\": 0.25413319050169614, \"n\": 8665}, {\"threshold\": 0.874, \"p\": 28005, \"fpr\": 0.07362954414310445, \"tpr\": 0.25391894304588464, \"n\": 8665}, {\"threshold\": 0.875, \"p\": 28005, \"fpr\": 0.07362954414310445, \"tpr\": 0.25391894304588464, \"n\": 8665}, {\"threshold\": 0.876, \"p\": 28005, \"fpr\": 0.07362954414310445, \"tpr\": 0.25391894304588464, \"n\": 8665}, {\"threshold\": 0.877, \"p\": 28005, \"fpr\": 0.07362954414310445, \"tpr\": 0.25391894304588464, \"n\": 8665}, {\"threshold\": 0.878, \"p\": 28005, \"fpr\": 0.07362954414310445, \"tpr\": 0.25391894304588464, \"n\": 8665}, {\"threshold\": 0.879, \"p\": 28005, \"fpr\": 0.07362954414310445, \"tpr\": 0.25391894304588464, \"n\": 8665}, {\"threshold\": 0.88, \"p\": 28005, \"fpr\": 0.07362954414310445, \"tpr\": 0.25391894304588464, \"n\": 8665}, {\"threshold\": 0.881, \"p\": 28005, \"fpr\": 0.07362954414310445, \"tpr\": 0.25391894304588464, \"n\": 8665}, {\"threshold\": 0.882, \"p\": 28005, \"fpr\": 0.07362954414310445, \"tpr\": 0.25391894304588464, \"n\": 8665}, {\"threshold\": 0.883, \"p\": 28005, \"fpr\": 0.07362954414310445, \"tpr\": 0.25388323513658273, \"n\": 8665}, {\"threshold\": 0.884, \"p\": 28005, \"fpr\": 0.07362954414310445, \"tpr\": 0.25388323513658273, \"n\": 8665}, {\"threshold\": 0.885, \"p\": 28005, \"fpr\": 0.07362954414310445, \"tpr\": 0.25388323513658273, \"n\": 8665}, {\"threshold\": 0.886, \"p\": 28005, \"fpr\": 0.07351413733410271, \"tpr\": 0.2538118193179789, \"n\": 8665}, {\"threshold\": 0.887, \"p\": 28005, \"fpr\": 0.027813040969417197, \"tpr\": 0.11690769505445456, \"n\": 8665}, {\"threshold\": 0.888, \"p\": 28005, \"fpr\": 0.027813040969417197, \"tpr\": 0.11690769505445456, \"n\": 8665}, {\"threshold\": 0.889, \"p\": 28005, \"fpr\": 0.027813040969417197, \"tpr\": 0.11690769505445456, \"n\": 8665}, {\"threshold\": 0.89, \"p\": 28005, \"fpr\": 0.027813040969417197, \"tpr\": 0.11690769505445456, \"n\": 8665}, {\"threshold\": 0.891, \"p\": 28005, \"fpr\": 0.027813040969417197, \"tpr\": 0.11683627923585074, \"n\": 8665}, {\"threshold\": 0.892, \"p\": 28005, \"fpr\": 0.027813040969417197, \"tpr\": 0.11683627923585074, \"n\": 8665}, {\"threshold\": 0.893, \"p\": 28005, \"fpr\": 0.027813040969417197, \"tpr\": 0.11680057132654884, \"n\": 8665}, {\"threshold\": 0.894, \"p\": 28005, \"fpr\": 0.027813040969417197, \"tpr\": 0.11680057132654884, \"n\": 8665}, {\"threshold\": 0.895, \"p\": 28005, \"fpr\": 0.027813040969417197, \"tpr\": 0.11680057132654884, \"n\": 8665}, {\"threshold\": 0.896, \"p\": 28005, \"fpr\": 0.027813040969417197, \"tpr\": 0.11680057132654884, \"n\": 8665}, {\"threshold\": 0.897, \"p\": 28005, \"fpr\": 0.027813040969417197, \"tpr\": 0.11680057132654884, \"n\": 8665}, {\"threshold\": 0.898, \"p\": 28005, \"fpr\": 0.027813040969417197, \"tpr\": 0.11680057132654884, \"n\": 8665}, {\"threshold\": 0.899, \"p\": 28005, \"fpr\": 0.027813040969417197, \"tpr\": 0.11680057132654884, \"n\": 8665}, {\"threshold\": 0.9, \"p\": 28005, \"fpr\": 0.027813040969417197, \"tpr\": 0.11680057132654884, \"n\": 8665}, {\"threshold\": 0.901, \"p\": 28005, \"fpr\": 0.027813040969417197, \"tpr\": 0.11680057132654884, \"n\": 8665}, {\"threshold\": 0.902, \"p\": 28005, \"fpr\": 0.027813040969417197, \"tpr\": 0.11680057132654884, \"n\": 8665}, {\"threshold\": 0.903, \"p\": 28005, \"fpr\": 0.027697634160415464, \"tpr\": 0.11680057132654884, \"n\": 8665}, {\"threshold\": 0.904, \"p\": 28005, \"fpr\": 0.027697634160415464, \"tpr\": 0.11680057132654884, \"n\": 8665}, {\"threshold\": 0.905, \"p\": 28005, \"fpr\": 0.027697634160415464, \"tpr\": 0.11680057132654884, \"n\": 8665}, {\"threshold\": 0.906, \"p\": 28005, \"fpr\": 0.027697634160415464, \"tpr\": 0.11680057132654884, \"n\": 8665}, {\"threshold\": 0.907, \"p\": 28005, \"fpr\": 0.027697634160415464, \"tpr\": 0.11680057132654884, \"n\": 8665}, {\"threshold\": 0.908, \"p\": 28005, \"fpr\": 0.027697634160415464, \"tpr\": 0.11680057132654884, \"n\": 8665}, {\"threshold\": 0.909, \"p\": 28005, \"fpr\": 0.01869590305828044, \"tpr\": 0.09287627209426888, \"n\": 8665}, {\"threshold\": 0.91, \"p\": 28005, \"fpr\": 0.018465089440276975, \"tpr\": 0.09230494554543832, \"n\": 8665}, {\"threshold\": 0.911, \"p\": 28005, \"fpr\": 0.018465089440276975, \"tpr\": 0.09230494554543832, \"n\": 8665}, {\"threshold\": 0.912, \"p\": 28005, \"fpr\": 0.018465089440276975, \"tpr\": 0.09230494554543832, \"n\": 8665}, {\"threshold\": 0.913, \"p\": 28005, \"fpr\": 0.018465089440276975, \"tpr\": 0.09230494554543832, \"n\": 8665}, {\"threshold\": 0.914, \"p\": 28005, \"fpr\": 0.018465089440276975, \"tpr\": 0.09230494554543832, \"n\": 8665}, {\"threshold\": 0.915, \"p\": 28005, \"fpr\": 0.018465089440276975, \"tpr\": 0.09230494554543832, \"n\": 8665}, {\"threshold\": 0.916, \"p\": 28005, \"fpr\": 0.018465089440276975, \"tpr\": 0.09219782181753258, \"n\": 8665}, {\"threshold\": 0.917, \"p\": 28005, \"fpr\": 0.018465089440276975, \"tpr\": 0.09219782181753258, \"n\": 8665}, {\"threshold\": 0.918, \"p\": 28005, \"fpr\": 0.018465089440276975, \"tpr\": 0.09219782181753258, \"n\": 8665}, {\"threshold\": 0.919, \"p\": 28005, \"fpr\": 0.018465089440276975, \"tpr\": 0.09216211390823068, \"n\": 8665}, {\"threshold\": 0.92, \"p\": 28005, \"fpr\": 0.018465089440276975, \"tpr\": 0.09216211390823068, \"n\": 8665}, {\"threshold\": 0.921, \"p\": 28005, \"fpr\": 0.018465089440276975, \"tpr\": 0.09216211390823068, \"n\": 8665}, {\"threshold\": 0.922, \"p\": 28005, \"fpr\": 0.018465089440276975, \"tpr\": 0.09216211390823068, \"n\": 8665}, {\"threshold\": 0.923, \"p\": 28005, \"fpr\": 0.018465089440276975, \"tpr\": 0.09212640599892877, \"n\": 8665}, {\"threshold\": 0.924, \"p\": 28005, \"fpr\": 0.018234275822273514, \"tpr\": 0.09109087662917337, \"n\": 8665}, {\"threshold\": 0.925, \"p\": 28005, \"fpr\": 0.018234275822273514, \"tpr\": 0.09109087662917337, \"n\": 8665}, {\"threshold\": 0.926, \"p\": 28005, \"fpr\": 0.018234275822273514, \"tpr\": 0.09109087662917337, \"n\": 8665}, {\"threshold\": 0.927, \"p\": 28005, \"fpr\": 0.018234275822273514, \"tpr\": 0.09109087662917337, \"n\": 8665}, {\"threshold\": 0.928, \"p\": 28005, \"fpr\": 0.018118869013271782, \"tpr\": 0.0908766291733619, \"n\": 8665}, {\"threshold\": 0.929, \"p\": 28005, \"fpr\": 0.018118869013271782, \"tpr\": 0.0908766291733619, \"n\": 8665}, {\"threshold\": 0.93, \"p\": 28005, \"fpr\": 0.018118869013271782, \"tpr\": 0.0908766291733619, \"n\": 8665}, {\"threshold\": 0.931, \"p\": 28005, \"fpr\": 0.018118869013271782, \"tpr\": 0.0908766291733619, \"n\": 8665}, {\"threshold\": 0.932, \"p\": 28005, \"fpr\": 0.01754183496826313, \"tpr\": 0.08959114443849313, \"n\": 8665}, {\"threshold\": 0.933, \"p\": 28005, \"fpr\": 0.017426428159261396, \"tpr\": 0.08959114443849313, \"n\": 8665}, {\"threshold\": 0.934, \"p\": 28005, \"fpr\": 0.017426428159261396, \"tpr\": 0.08959114443849313, \"n\": 8665}, {\"threshold\": 0.935, \"p\": 28005, \"fpr\": 0.017426428159261396, \"tpr\": 0.08959114443849313, \"n\": 8665}, {\"threshold\": 0.936, \"p\": 28005, \"fpr\": 0.017426428159261396, \"tpr\": 0.08959114443849313, \"n\": 8665}, {\"threshold\": 0.937, \"p\": 28005, \"fpr\": 0.017426428159261396, \"tpr\": 0.08948402071058739, \"n\": 8665}, {\"threshold\": 0.938, \"p\": 28005, \"fpr\": 0.017426428159261396, \"tpr\": 0.08948402071058739, \"n\": 8665}, {\"threshold\": 0.939, \"p\": 28005, \"fpr\": 0.017426428159261396, \"tpr\": 0.08948402071058739, \"n\": 8665}, {\"threshold\": 0.94, \"p\": 28005, \"fpr\": 0.017426428159261396, \"tpr\": 0.08948402071058739, \"n\": 8665}, {\"threshold\": 0.941, \"p\": 28005, \"fpr\": 0.010040392383150605, \"tpr\": 0.053133369041242634, \"n\": 8665}, {\"threshold\": 0.942, \"p\": 28005, \"fpr\": 0.010040392383150605, \"tpr\": 0.053133369041242634, \"n\": 8665}, {\"threshold\": 0.943, \"p\": 28005, \"fpr\": 0.010040392383150605, \"tpr\": 0.053026245313336905, \"n\": 8665}, {\"threshold\": 0.944, \"p\": 28005, \"fpr\": 0.010040392383150605, \"tpr\": 0.052990537404035, \"n\": 8665}, {\"threshold\": 0.945, \"p\": 28005, \"fpr\": 0.010040392383150605, \"tpr\": 0.052990537404035, \"n\": 8665}, {\"threshold\": 0.946, \"p\": 28005, \"fpr\": 0.010040392383150605, \"tpr\": 0.05295482949473308, \"n\": 8665}, {\"threshold\": 0.947, \"p\": 28005, \"fpr\": 0.010040392383150605, \"tpr\": 0.05295482949473308, \"n\": 8665}, {\"threshold\": 0.948, \"p\": 28005, \"fpr\": 0.009924985574148875, \"tpr\": 0.05295482949473308, \"n\": 8665}, {\"threshold\": 0.949, \"p\": 28005, \"fpr\": 0.009924985574148875, \"tpr\": 0.05281199785752544, \"n\": 8665}, {\"threshold\": 0.95, \"p\": 28005, \"fpr\": 0.009809578765147143, \"tpr\": 0.05281199785752544, \"n\": 8665}, {\"threshold\": 0.951, \"p\": 28005, \"fpr\": 0.00946335833814195, \"tpr\": 0.05159792894126049, \"n\": 8665}, {\"threshold\": 0.952, \"p\": 28005, \"fpr\": 0.00946335833814195, \"tpr\": 0.05159792894126049, \"n\": 8665}, {\"threshold\": 0.953, \"p\": 28005, \"fpr\": 0.008655510675129832, \"tpr\": 0.04763435100874844, \"n\": 8665}, {\"threshold\": 0.954, \"p\": 28005, \"fpr\": 0.008540103866128102, \"tpr\": 0.04759864309944653, \"n\": 8665}, {\"threshold\": 0.955, \"p\": 28005, \"fpr\": 0.008540103866128102, \"tpr\": 0.04759864309944653, \"n\": 8665}, {\"threshold\": 0.956, \"p\": 28005, \"fpr\": 0.008193883439122909, \"tpr\": 0.04563470808784146, \"n\": 8665}, {\"threshold\": 0.957, \"p\": 28005, \"fpr\": 0.008193883439122909, \"tpr\": 0.04556329226923764, \"n\": 8665}, {\"threshold\": 0.958, \"p\": 28005, \"fpr\": 0.008193883439122909, \"tpr\": 0.04552758435993572, \"n\": 8665}, {\"threshold\": 0.959, \"p\": 28005, \"fpr\": 0.008193883439122909, \"tpr\": 0.04552758435993572, \"n\": 8665}, {\"threshold\": 0.96, \"p\": 28005, \"fpr\": 0.008193883439122909, \"tpr\": 0.045491876450633816, \"n\": 8665}, {\"threshold\": 0.961, \"p\": 28005, \"fpr\": 0.007847663012117714, \"tpr\": 0.04527762899482235, \"n\": 8665}, {\"threshold\": 0.962, \"p\": 28005, \"fpr\": 0.004616272360069244, \"tpr\": 0.027352258525263348, \"n\": 8665}, {\"threshold\": 0.963, \"p\": 28005, \"fpr\": 0.004616272360069244, \"tpr\": 0.027245134797357615, \"n\": 8665}, {\"threshold\": 0.964, \"p\": 28005, \"fpr\": 0.004616272360069244, \"tpr\": 0.027245134797357615, \"n\": 8665}, {\"threshold\": 0.965, \"p\": 28005, \"fpr\": 0.004500865551067513, \"tpr\": 0.02695947152294233, \"n\": 8665}, {\"threshold\": 0.966, \"p\": 28005, \"fpr\": 0.004500865551067513, \"tpr\": 0.02695947152294233, \"n\": 8665}, {\"threshold\": 0.967, \"p\": 28005, \"fpr\": 0.004500865551067513, \"tpr\": 0.02695947152294233, \"n\": 8665}, {\"threshold\": 0.968, \"p\": 28005, \"fpr\": 0.004500865551067513, \"tpr\": 0.026923763613640423, \"n\": 8665}, {\"threshold\": 0.969, \"p\": 28005, \"fpr\": 0.004500865551067513, \"tpr\": 0.026923763613640423, \"n\": 8665}, {\"threshold\": 0.97, \"p\": 28005, \"fpr\": 0.003346797461050202, \"tpr\": 0.020067845027673628, \"n\": 8665}, {\"threshold\": 0.971, \"p\": 28005, \"fpr\": 0.003346797461050202, \"tpr\": 0.02003213711837172, \"n\": 8665}, {\"threshold\": 0.972, \"p\": 28005, \"fpr\": 0.003346797461050202, \"tpr\": 0.01999642920906981, \"n\": 8665}, {\"threshold\": 0.973, \"p\": 28005, \"fpr\": 0.003346797461050202, \"tpr\": 0.01999642920906981, \"n\": 8665}, {\"threshold\": 0.974, \"p\": 28005, \"fpr\": 0.003346797461050202, \"tpr\": 0.0199607212997679, \"n\": 8665}, {\"threshold\": 0.975, \"p\": 28005, \"fpr\": 0.003346797461050202, \"tpr\": 0.019603642206748796, \"n\": 8665}, {\"threshold\": 0.976, \"p\": 28005, \"fpr\": 0.003346797461050202, \"tpr\": 0.01910373147652205, \"n\": 8665}, {\"threshold\": 0.977, \"p\": 28005, \"fpr\": 0.003346797461050202, \"tpr\": 0.018996607748616317, \"n\": 8665}, {\"threshold\": 0.978, \"p\": 28005, \"fpr\": 0.003231390652048471, \"tpr\": 0.018496697018389574, \"n\": 8665}, {\"threshold\": 0.979, \"p\": 28005, \"fpr\": 0.003231390652048471, \"tpr\": 0.018496697018389574, \"n\": 8665}, {\"threshold\": 0.98, \"p\": 28005, \"fpr\": 0.003231390652048471, \"tpr\": 0.01838957329048384, \"n\": 8665}, {\"threshold\": 0.981, \"p\": 28005, \"fpr\": 0.002192729371032891, \"tpr\": 0.012890555257989645, \"n\": 8665}, {\"threshold\": 0.982, \"p\": 28005, \"fpr\": 0.002192729371032891, \"tpr\": 0.012854847348687734, \"n\": 8665}, {\"threshold\": 0.983, \"p\": 28005, \"fpr\": 0.002192729371032891, \"tpr\": 0.012819139439385823, \"n\": 8665}, {\"threshold\": 0.984, \"p\": 28005, \"fpr\": 0.00207732256203116, \"tpr\": 0.012676307802178183, \"n\": 8665}, {\"threshold\": 0.985, \"p\": 28005, \"fpr\": 0.0018465089440276976, \"tpr\": 0.01153365470451705, \"n\": 8665}, {\"threshold\": 0.986, \"p\": 28005, \"fpr\": 0.0017311021350259665, \"tpr\": 0.011247991430101767, \"n\": 8665}, {\"threshold\": 0.987, \"p\": 28005, \"fpr\": 0.0017311021350259665, \"tpr\": 0.011247991430101767, \"n\": 8665}, {\"threshold\": 0.988, \"p\": 28005, \"fpr\": 0.00103866128101558, \"tpr\": 0.00671308694875915, \"n\": 8665}, {\"threshold\": 0.989, \"p\": 28005, \"fpr\": 0.00103866128101558, \"tpr\": 0.00667737903945724, \"n\": 8665}, {\"threshold\": 0.99, \"p\": 28005, \"fpr\": 0.00103866128101558, \"tpr\": 0.00667737903945724, \"n\": 8665}, {\"threshold\": 0.991, \"p\": 28005, \"fpr\": 0.0009232544720138488, \"tpr\": 0.005249062667380825, \"n\": 8665}, {\"threshold\": 0.992, \"p\": 28005, \"fpr\": 0.0009232544720138488, \"tpr\": 0.005177646848777004, \"n\": 8665}, {\"threshold\": 0.993, \"p\": 28005, \"fpr\": 0.0008078476630121177, \"tpr\": 0.00478485984645599, \"n\": 8665}, {\"threshold\": 0.994, \"p\": 28005, \"fpr\": 0.0008078476630121177, \"tpr\": 0.00382074629530441, \"n\": 8665}, {\"threshold\": 0.995, \"p\": 28005, \"fpr\": 0.0008078476630121177, \"tpr\": 0.0034279592929833957, \"n\": 8665}, {\"threshold\": 0.996, \"p\": 28005, \"fpr\": 0.0005770340450086555, \"tpr\": 0.0029280485627566507, \"n\": 8665}, {\"threshold\": 0.997, \"p\": 28005, \"fpr\": 0.0001154068090017311, \"tpr\": 0.001535440099982146, \"n\": 8665}, {\"threshold\": 0.998, \"p\": 28005, \"fpr\": 0.0001154068090017311, \"tpr\": 0.0013926084627745045, \"n\": 8665}, {\"threshold\": 0.999, \"p\": 28005, \"fpr\": 0.0, \"tpr\": 0.0005356186395286556, \"n\": 8665}, {\"threshold\": 1.0, \"p\": 28005, \"fpr\": 0.0, \"tpr\": 0.0, \"n\": 8665}]}]]}, e);\n",
       "                });\n",
       "            })();\n",
       "        "
      ]
     },
     "metadata": {},
     "output_type": "display_data"
    }
   ],
   "source": [
    "selected_words_model.show(view='Evaluation')"
   ]
  },
  {
   "cell_type": "code",
   "execution_count": 77,
   "metadata": {
    "collapsed": true
   },
   "outputs": [],
   "source": [
    "diaper_champ_reviews = products[products['name'] == 'Baby Trend Diaper Champ']"
   ]
  },
  {
   "cell_type": "code",
   "execution_count": 55,
   "metadata": {
    "collapsed": false
   },
   "outputs": [
    {
     "ename": "AttributeError",
     "evalue": "'SFrame' object has no attribute 'len'",
     "output_type": "error",
     "traceback": [
      "\u001b[1;31m---------------------------------------------------------------------------\u001b[0m",
      "\u001b[1;31mAttributeError\u001b[0m                            Traceback (most recent call last)",
      "\u001b[1;32m<ipython-input-55-db884e6fd061>\u001b[0m in \u001b[0;36m<module>\u001b[1;34m()\u001b[0m\n\u001b[1;32m----> 1\u001b[1;33m \u001b[0mdiaper_champ_reviews\u001b[0m\u001b[1;33m.\u001b[0m\u001b[0mlen\u001b[0m\u001b[1;33m(\u001b[0m\u001b[1;33m)\u001b[0m\u001b[1;33m\u001b[0m\u001b[0m\n\u001b[0m",
      "\u001b[1;31mAttributeError\u001b[0m: 'SFrame' object has no attribute 'len'"
     ]
    }
   ],
   "source": []
  },
  {
   "cell_type": "code",
   "execution_count": 78,
   "metadata": {
    "collapsed": false
   },
   "outputs": [
    {
     "data": {
      "text/plain": [
       "333"
      ]
     },
     "execution_count": 78,
     "metadata": {},
     "output_type": "execute_result"
    }
   ],
   "source": [
    "len(diaper_champ_reviews)"
   ]
  },
  {
   "cell_type": "code",
   "execution_count": 79,
   "metadata": {
    "collapsed": false
   },
   "outputs": [
    {
     "data": {
      "application/javascript": [
       "$(\"head\").append($(\"<link/>\").attr({\n",
       "  rel:  \"stylesheet\",\n",
       "  type: \"text/css\",\n",
       "  href: \"//cdnjs.cloudflare.com/ajax/libs/font-awesome/4.1.0/css/font-awesome.min.css\"\n",
       "}));\n",
       "$(\"head\").append($(\"<link/>\").attr({\n",
       "  rel:  \"stylesheet\",\n",
       "  type: \"text/css\",\n",
       "  href: \"https://static.turi.com/products/graphlab-create/2.1/canvas/css/canvas.css\"\n",
       "}));\n",
       "\n",
       "            (function(){\n",
       "\n",
       "                var e = null;\n",
       "                if (typeof element == 'undefined') {\n",
       "                    var scripts = document.getElementsByTagName('script');\n",
       "                    var thisScriptTag = scripts[scripts.length-1];\n",
       "                    var parentDiv = thisScriptTag.parentNode;\n",
       "                    e = document.createElement('div');\n",
       "                    parentDiv.appendChild(e);\n",
       "                } else {\n",
       "                    e = element[0];\n",
       "                }\n",
       "\n",
       "                if (typeof requirejs !== 'undefined') {\n",
       "                    // disable load timeout; ipython_app.js is large and can take a while to load.\n",
       "                    requirejs.config({waitSeconds: 0});\n",
       "                }\n",
       "\n",
       "                require(['https://static.turi.com/products/graphlab-create/2.1/canvas/js/ipython_app.js'], function(IPythonApp){\n",
       "                    var app = new IPythonApp();\n",
       "                    app.attachView('sarray','Categorical', {\"ipython\": true, \"sketch\": {\"std\": 1.3109269011470326, \"complete\": true, \"min\": 1.0, \"max\": 5.0, \"quantile\": [1.0, 1.0, 1.0, 1.0, 1.0, 1.0, 1.0, 1.0, 1.0, 1.0, 2.0, 2.0, 2.0, 2.0, 2.0, 2.0, 3.0, 3.0, 3.0, 3.0, 3.0, 3.0, 3.0, 3.0, 3.0, 3.0, 4.0, 4.0, 4.0, 4.0, 4.0, 4.0, 4.0, 4.0, 4.0, 4.0, 4.0, 4.0, 4.0, 4.0, 4.0, 4.0, 4.0, 4.0, 5.0, 5.0, 5.0, 5.0, 5.0, 5.0, 5.0, 5.0, 5.0, 5.0, 5.0, 5.0, 5.0, 5.0, 5.0, 5.0, 5.0, 5.0, 5.0, 5.0, 5.0, 5.0, 5.0, 5.0, 5.0, 5.0, 5.0, 5.0, 5.0, 5.0, 5.0, 5.0, 5.0, 5.0, 5.0, 5.0, 5.0, 5.0, 5.0, 5.0, 5.0, 5.0, 5.0, 5.0, 5.0, 5.0, 5.0, 5.0, 5.0, 5.0, 5.0, 5.0, 5.0, 5.0, 5.0, 5.0, 5.0], \"median\": 5.0, \"numeric\": true, \"num_unique\": 5, \"num_undefined\": 0, \"var\": 1.7185293401509618, \"progress\": 1.0, \"size\": 333, \"frequent_items\": {\"1.0\": {\"frequency\": 30, \"value\": 1.0}, \"2.0\": {\"frequency\": 20, \"value\": 2.0}, \"3.0\": {\"frequency\": 35, \"value\": 3.0}, \"4.0\": {\"frequency\": 59, \"value\": 4.0}, \"5.0\": {\"frequency\": 189, \"value\": 5.0}}, \"mean\": 4.072072072072071}, \"selected_variable\": {\"name\": [\"<SArray>\"], \"dtype\": \"float\", \"view_component\": \"Categorical\", \"view_file\": \"sarray\", \"descriptives\": {\"rows\": 333}, \"type\": \"SArray\", \"view_components\": [\"Numeric\", \"Categorical\"]}, \"histogram\": {\"progress\": 1.0, \"histogram\": {\"max\": 5.02, \"bins\": [30, 0, 0, 20, 0, 35, 0, 0, 59, 0, 0, 189], \"min\": 0.988}, \"min\": 1.0, \"complete\": 1, \"max\": 5.0}}, e);\n",
       "                });\n",
       "            })();\n",
       "        "
      ]
     },
     "metadata": {},
     "output_type": "display_data"
    }
   ],
   "source": [
    "diaper_champ_reviews['rating'].show(view='Categorical')"
   ]
  },
  {
   "cell_type": "code",
   "execution_count": 80,
   "metadata": {
    "collapsed": true
   },
   "outputs": [],
   "source": [
    "diaper_champ_reviews['predicted_sentiment'] = selected_words_model.predict(diaper_champ_reviews, output_type='probability')"
   ]
  },
  {
   "cell_type": "code",
   "execution_count": 81,
   "metadata": {
    "collapsed": false
   },
   "outputs": [
    {
     "data": {
      "text/html": [
       "<div style=\"max-height:1000px;max-width:1500px;overflow:auto;\"><table frame=\"box\" rules=\"cols\">\n",
       "    <tr>\n",
       "        <th style=\"padding-left: 1em; padding-right: 1em; text-align: center\">name</th>\n",
       "        <th style=\"padding-left: 1em; padding-right: 1em; text-align: center\">review</th>\n",
       "        <th style=\"padding-left: 1em; padding-right: 1em; text-align: center\">rating</th>\n",
       "        <th style=\"padding-left: 1em; padding-right: 1em; text-align: center\">word_count</th>\n",
       "        <th style=\"padding-left: 1em; padding-right: 1em; text-align: center\">awesome</th>\n",
       "        <th style=\"padding-left: 1em; padding-right: 1em; text-align: center\">great</th>\n",
       "        <th style=\"padding-left: 1em; padding-right: 1em; text-align: center\">fantastic</th>\n",
       "    </tr>\n",
       "    <tr>\n",
       "        <td style=\"padding-left: 1em; padding-right: 1em; text-align: center; vertical-align: top\">Baby Trend Diaper Champ</td>\n",
       "        <td style=\"padding-left: 1em; padding-right: 1em; text-align: center; vertical-align: top\">Ok - newsflash.  Diapers<br>are just smelly.  We've ...</td>\n",
       "        <td style=\"padding-left: 1em; padding-right: 1em; text-align: center; vertical-align: top\">4.0</td>\n",
       "        <td style=\"padding-left: 1em; padding-right: 1em; text-align: center; vertical-align: top\">{'just': 2L, 'less': 1L,<br>'-': 3L, 'smell- ...</td>\n",
       "        <td style=\"padding-left: 1em; padding-right: 1em; text-align: center; vertical-align: top\">0</td>\n",
       "        <td style=\"padding-left: 1em; padding-right: 1em; text-align: center; vertical-align: top\">0</td>\n",
       "        <td style=\"padding-left: 1em; padding-right: 1em; text-align: center; vertical-align: top\">0</td>\n",
       "    </tr>\n",
       "    <tr>\n",
       "        <td style=\"padding-left: 1em; padding-right: 1em; text-align: center; vertical-align: top\">Baby Trend Diaper Champ</td>\n",
       "        <td style=\"padding-left: 1em; padding-right: 1em; text-align: center; vertical-align: top\">This is a good product to<br>start and very easy to ...</td>\n",
       "        <td style=\"padding-left: 1em; padding-right: 1em; text-align: center; vertical-align: top\">3.0</td>\n",
       "        <td style=\"padding-left: 1em; padding-right: 1em; text-align: center; vertical-align: top\">{'and': 3L, 'because':<br>1L, 'old': 1L, 'use.': ...</td>\n",
       "        <td style=\"padding-left: 1em; padding-right: 1em; text-align: center; vertical-align: top\">0</td>\n",
       "        <td style=\"padding-left: 1em; padding-right: 1em; text-align: center; vertical-align: top\">0</td>\n",
       "        <td style=\"padding-left: 1em; padding-right: 1em; text-align: center; vertical-align: top\">0</td>\n",
       "    </tr>\n",
       "    <tr>\n",
       "        <td style=\"padding-left: 1em; padding-right: 1em; text-align: center; vertical-align: top\">Baby Trend Diaper Champ</td>\n",
       "        <td style=\"padding-left: 1em; padding-right: 1em; text-align: center; vertical-align: top\">My husband and I selected<br>the Diaper \"Champ\" ma ...</td>\n",
       "        <td style=\"padding-left: 1em; padding-right: 1em; text-align: center; vertical-align: top\">1.0</td>\n",
       "        <td style=\"padding-left: 1em; padding-right: 1em; text-align: center; vertical-align: top\">{'just': 1L, 'less': 1L,<br>'when': 3L, 'over': 1L, ...</td>\n",
       "        <td style=\"padding-left: 1em; padding-right: 1em; text-align: center; vertical-align: top\">0</td>\n",
       "        <td style=\"padding-left: 1em; padding-right: 1em; text-align: center; vertical-align: top\">0</td>\n",
       "        <td style=\"padding-left: 1em; padding-right: 1em; text-align: center; vertical-align: top\">0</td>\n",
       "    </tr>\n",
       "    <tr>\n",
       "        <td style=\"padding-left: 1em; padding-right: 1em; text-align: center; vertical-align: top\">Baby Trend Diaper Champ</td>\n",
       "        <td style=\"padding-left: 1em; padding-right: 1em; text-align: center; vertical-align: top\">Excellent diaper disposal<br>unit.  I used it in ...</td>\n",
       "        <td style=\"padding-left: 1em; padding-right: 1em; text-align: center; vertical-align: top\">5.0</td>\n",
       "        <td style=\"padding-left: 1em; padding-right: 1em; text-align: center; vertical-align: top\">{'control': 1L, 'am': 1L,<br>'it': 1L, 'used': 1L, ...</td>\n",
       "        <td style=\"padding-left: 1em; padding-right: 1em; text-align: center; vertical-align: top\">0</td>\n",
       "        <td style=\"padding-left: 1em; padding-right: 1em; text-align: center; vertical-align: top\">0</td>\n",
       "        <td style=\"padding-left: 1em; padding-right: 1em; text-align: center; vertical-align: top\">0</td>\n",
       "    </tr>\n",
       "    <tr>\n",
       "        <td style=\"padding-left: 1em; padding-right: 1em; text-align: center; vertical-align: top\">Baby Trend Diaper Champ</td>\n",
       "        <td style=\"padding-left: 1em; padding-right: 1em; text-align: center; vertical-align: top\">We love our diaper champ.<br>It is very easy to use ...</td>\n",
       "        <td style=\"padding-left: 1em; padding-right: 1em; text-align: center; vertical-align: top\">5.0</td>\n",
       "        <td style=\"padding-left: 1em; padding-right: 1em; text-align: center; vertical-align: top\">{'and': 3L, 'over.': 1L,<br>'all': 1L, 'love': 1L, ...</td>\n",
       "        <td style=\"padding-left: 1em; padding-right: 1em; text-align: center; vertical-align: top\">0</td>\n",
       "        <td style=\"padding-left: 1em; padding-right: 1em; text-align: center; vertical-align: top\">0</td>\n",
       "        <td style=\"padding-left: 1em; padding-right: 1em; text-align: center; vertical-align: top\">0</td>\n",
       "    </tr>\n",
       "    <tr>\n",
       "        <td style=\"padding-left: 1em; padding-right: 1em; text-align: center; vertical-align: top\">Baby Trend Diaper Champ</td>\n",
       "        <td style=\"padding-left: 1em; padding-right: 1em; text-align: center; vertical-align: top\">Two girlfriends and two<br>family members put me ...</td>\n",
       "        <td style=\"padding-left: 1em; padding-right: 1em; text-align: center; vertical-align: top\">5.0</td>\n",
       "        <td style=\"padding-left: 1em; padding-right: 1em; text-align: center; vertical-align: top\">{'just': 1L, 'when': 1L,<br>'both': 1L, 'results': ...</td>\n",
       "        <td style=\"padding-left: 1em; padding-right: 1em; text-align: center; vertical-align: top\">0</td>\n",
       "        <td style=\"padding-left: 1em; padding-right: 1em; text-align: center; vertical-align: top\">0</td>\n",
       "        <td style=\"padding-left: 1em; padding-right: 1em; text-align: center; vertical-align: top\">0</td>\n",
       "    </tr>\n",
       "    <tr>\n",
       "        <td style=\"padding-left: 1em; padding-right: 1em; text-align: center; vertical-align: top\">Baby Trend Diaper Champ</td>\n",
       "        <td style=\"padding-left: 1em; padding-right: 1em; text-align: center; vertical-align: top\">I waited to review this<br>until I saw how it ...</td>\n",
       "        <td style=\"padding-left: 1em; padding-right: 1em; text-align: center; vertical-align: top\">4.0</td>\n",
       "        <td style=\"padding-left: 1em; padding-right: 1em; text-align: center; vertical-align: top\">{'lysol': 1L, 'all': 1L,<br>'mom.': 1L, 'busy': 1L, ...</td>\n",
       "        <td style=\"padding-left: 1em; padding-right: 1em; text-align: center; vertical-align: top\">0</td>\n",
       "        <td style=\"padding-left: 1em; padding-right: 1em; text-align: center; vertical-align: top\">0</td>\n",
       "        <td style=\"padding-left: 1em; padding-right: 1em; text-align: center; vertical-align: top\">0</td>\n",
       "    </tr>\n",
       "    <tr>\n",
       "        <td style=\"padding-left: 1em; padding-right: 1em; text-align: center; vertical-align: top\">Baby Trend Diaper Champ</td>\n",
       "        <td style=\"padding-left: 1em; padding-right: 1em; text-align: center; vertical-align: top\">I have had a diaper genie<br>for almost 4 years since ...</td>\n",
       "        <td style=\"padding-left: 1em; padding-right: 1em; text-align: center; vertical-align: top\">1.0</td>\n",
       "        <td style=\"padding-left: 1em; padding-right: 1em; text-align: center; vertical-align: top\">{'all': 1L, 'bags.': 1L,<br>'just': 1L, \"don't\": 2L, ...</td>\n",
       "        <td style=\"padding-left: 1em; padding-right: 1em; text-align: center; vertical-align: top\">0</td>\n",
       "        <td style=\"padding-left: 1em; padding-right: 1em; text-align: center; vertical-align: top\">0</td>\n",
       "        <td style=\"padding-left: 1em; padding-right: 1em; text-align: center; vertical-align: top\">0</td>\n",
       "    </tr>\n",
       "    <tr>\n",
       "        <td style=\"padding-left: 1em; padding-right: 1em; text-align: center; vertical-align: top\">Baby Trend Diaper Champ</td>\n",
       "        <td style=\"padding-left: 1em; padding-right: 1em; text-align: center; vertical-align: top\">I originally put this<br>item on my baby registry ...</td>\n",
       "        <td style=\"padding-left: 1em; padding-right: 1em; text-align: center; vertical-align: top\">5.0</td>\n",
       "        <td style=\"padding-left: 1em; padding-right: 1em; text-align: center; vertical-align: top\">{'lysol': 1L, 'all': 2L,<br>'bags.': 1L, 'feedback': ...</td>\n",
       "        <td style=\"padding-left: 1em; padding-right: 1em; text-align: center; vertical-align: top\">0</td>\n",
       "        <td style=\"padding-left: 1em; padding-right: 1em; text-align: center; vertical-align: top\">0</td>\n",
       "        <td style=\"padding-left: 1em; padding-right: 1em; text-align: center; vertical-align: top\">0</td>\n",
       "    </tr>\n",
       "    <tr>\n",
       "        <td style=\"padding-left: 1em; padding-right: 1em; text-align: center; vertical-align: top\">Baby Trend Diaper Champ</td>\n",
       "        <td style=\"padding-left: 1em; padding-right: 1em; text-align: center; vertical-align: top\">I am so glad I got the<br>Diaper Champ instead of ...</td>\n",
       "        <td style=\"padding-left: 1em; padding-right: 1em; text-align: center; vertical-align: top\">5.0</td>\n",
       "        <td style=\"padding-left: 1em; padding-right: 1em; text-align: center; vertical-align: top\">{'and': 2L, 'all': 1L,<br>'just': 1L, 'is': 2L, ...</td>\n",
       "        <td style=\"padding-left: 1em; padding-right: 1em; text-align: center; vertical-align: top\">0</td>\n",
       "        <td style=\"padding-left: 1em; padding-right: 1em; text-align: center; vertical-align: top\">0</td>\n",
       "        <td style=\"padding-left: 1em; padding-right: 1em; text-align: center; vertical-align: top\">0</td>\n",
       "    </tr>\n",
       "</table>\n",
       "<table frame=\"box\" rules=\"cols\">\n",
       "    <tr>\n",
       "        <th style=\"padding-left: 1em; padding-right: 1em; text-align: center\">amazing</th>\n",
       "        <th style=\"padding-left: 1em; padding-right: 1em; text-align: center\">love</th>\n",
       "        <th style=\"padding-left: 1em; padding-right: 1em; text-align: center\">horrible</th>\n",
       "        <th style=\"padding-left: 1em; padding-right: 1em; text-align: center\">bad</th>\n",
       "        <th style=\"padding-left: 1em; padding-right: 1em; text-align: center\">terrible</th>\n",
       "        <th style=\"padding-left: 1em; padding-right: 1em; text-align: center\">awful</th>\n",
       "        <th style=\"padding-left: 1em; padding-right: 1em; text-align: center\">wow</th>\n",
       "        <th style=\"padding-left: 1em; padding-right: 1em; text-align: center\">hate</th>\n",
       "        <th style=\"padding-left: 1em; padding-right: 1em; text-align: center\">sentiment</th>\n",
       "        <th style=\"padding-left: 1em; padding-right: 1em; text-align: center\">predicted_sentiment</th>\n",
       "    </tr>\n",
       "    <tr>\n",
       "        <td style=\"padding-left: 1em; padding-right: 1em; text-align: center; vertical-align: top\">0</td>\n",
       "        <td style=\"padding-left: 1em; padding-right: 1em; text-align: center; vertical-align: top\">0</td>\n",
       "        <td style=\"padding-left: 1em; padding-right: 1em; text-align: center; vertical-align: top\">0</td>\n",
       "        <td style=\"padding-left: 1em; padding-right: 1em; text-align: center; vertical-align: top\">0</td>\n",
       "        <td style=\"padding-left: 1em; padding-right: 1em; text-align: center; vertical-align: top\">0</td>\n",
       "        <td style=\"padding-left: 1em; padding-right: 1em; text-align: center; vertical-align: top\">0</td>\n",
       "        <td style=\"padding-left: 1em; padding-right: 1em; text-align: center; vertical-align: top\">0</td>\n",
       "        <td style=\"padding-left: 1em; padding-right: 1em; text-align: center; vertical-align: top\">0</td>\n",
       "        <td style=\"padding-left: 1em; padding-right: 1em; text-align: center; vertical-align: top\">1</td>\n",
       "        <td style=\"padding-left: 1em; padding-right: 1em; text-align: center; vertical-align: top\">0.710895066562</td>\n",
       "    </tr>\n",
       "    <tr>\n",
       "        <td style=\"padding-left: 1em; padding-right: 1em; text-align: center; vertical-align: top\">0</td>\n",
       "        <td style=\"padding-left: 1em; padding-right: 1em; text-align: center; vertical-align: top\">0</td>\n",
       "        <td style=\"padding-left: 1em; padding-right: 1em; text-align: center; vertical-align: top\">0</td>\n",
       "        <td style=\"padding-left: 1em; padding-right: 1em; text-align: center; vertical-align: top\">0</td>\n",
       "        <td style=\"padding-left: 1em; padding-right: 1em; text-align: center; vertical-align: top\">0</td>\n",
       "        <td style=\"padding-left: 1em; padding-right: 1em; text-align: center; vertical-align: top\">0</td>\n",
       "        <td style=\"padding-left: 1em; padding-right: 1em; text-align: center; vertical-align: top\">0</td>\n",
       "        <td style=\"padding-left: 1em; padding-right: 1em; text-align: center; vertical-align: top\">0</td>\n",
       "        <td style=\"padding-left: 1em; padding-right: 1em; text-align: center; vertical-align: top\">0</td>\n",
       "        <td style=\"padding-left: 1em; padding-right: 1em; text-align: center; vertical-align: top\">0.710895066562</td>\n",
       "    </tr>\n",
       "    <tr>\n",
       "        <td style=\"padding-left: 1em; padding-right: 1em; text-align: center; vertical-align: top\">0</td>\n",
       "        <td style=\"padding-left: 1em; padding-right: 1em; text-align: center; vertical-align: top\">0</td>\n",
       "        <td style=\"padding-left: 1em; padding-right: 1em; text-align: center; vertical-align: top\">0</td>\n",
       "        <td style=\"padding-left: 1em; padding-right: 1em; text-align: center; vertical-align: top\">0</td>\n",
       "        <td style=\"padding-left: 1em; padding-right: 1em; text-align: center; vertical-align: top\">0</td>\n",
       "        <td style=\"padding-left: 1em; padding-right: 1em; text-align: center; vertical-align: top\">0</td>\n",
       "        <td style=\"padding-left: 1em; padding-right: 1em; text-align: center; vertical-align: top\">0</td>\n",
       "        <td style=\"padding-left: 1em; padding-right: 1em; text-align: center; vertical-align: top\">0</td>\n",
       "        <td style=\"padding-left: 1em; padding-right: 1em; text-align: center; vertical-align: top\">0</td>\n",
       "        <td style=\"padding-left: 1em; padding-right: 1em; text-align: center; vertical-align: top\">0.710895066562</td>\n",
       "    </tr>\n",
       "    <tr>\n",
       "        <td style=\"padding-left: 1em; padding-right: 1em; text-align: center; vertical-align: top\">0</td>\n",
       "        <td style=\"padding-left: 1em; padding-right: 1em; text-align: center; vertical-align: top\">0</td>\n",
       "        <td style=\"padding-left: 1em; padding-right: 1em; text-align: center; vertical-align: top\">0</td>\n",
       "        <td style=\"padding-left: 1em; padding-right: 1em; text-align: center; vertical-align: top\">0</td>\n",
       "        <td style=\"padding-left: 1em; padding-right: 1em; text-align: center; vertical-align: top\">0</td>\n",
       "        <td style=\"padding-left: 1em; padding-right: 1em; text-align: center; vertical-align: top\">0</td>\n",
       "        <td style=\"padding-left: 1em; padding-right: 1em; text-align: center; vertical-align: top\">0</td>\n",
       "        <td style=\"padding-left: 1em; padding-right: 1em; text-align: center; vertical-align: top\">0</td>\n",
       "        <td style=\"padding-left: 1em; padding-right: 1em; text-align: center; vertical-align: top\">1</td>\n",
       "        <td style=\"padding-left: 1em; padding-right: 1em; text-align: center; vertical-align: top\">0.710895066562</td>\n",
       "    </tr>\n",
       "    <tr>\n",
       "        <td style=\"padding-left: 1em; padding-right: 1em; text-align: center; vertical-align: top\">0</td>\n",
       "        <td style=\"padding-left: 1em; padding-right: 1em; text-align: center; vertical-align: top\">1</td>\n",
       "        <td style=\"padding-left: 1em; padding-right: 1em; text-align: center; vertical-align: top\">0</td>\n",
       "        <td style=\"padding-left: 1em; padding-right: 1em; text-align: center; vertical-align: top\">0</td>\n",
       "        <td style=\"padding-left: 1em; padding-right: 1em; text-align: center; vertical-align: top\">0</td>\n",
       "        <td style=\"padding-left: 1em; padding-right: 1em; text-align: center; vertical-align: top\">0</td>\n",
       "        <td style=\"padding-left: 1em; padding-right: 1em; text-align: center; vertical-align: top\">0</td>\n",
       "        <td style=\"padding-left: 1em; padding-right: 1em; text-align: center; vertical-align: top\">0</td>\n",
       "        <td style=\"padding-left: 1em; padding-right: 1em; text-align: center; vertical-align: top\">1</td>\n",
       "        <td style=\"padding-left: 1em; padding-right: 1em; text-align: center; vertical-align: top\">0.886646607127</td>\n",
       "    </tr>\n",
       "    <tr>\n",
       "        <td style=\"padding-left: 1em; padding-right: 1em; text-align: center; vertical-align: top\">0</td>\n",
       "        <td style=\"padding-left: 1em; padding-right: 1em; text-align: center; vertical-align: top\">0</td>\n",
       "        <td style=\"padding-left: 1em; padding-right: 1em; text-align: center; vertical-align: top\">1</td>\n",
       "        <td style=\"padding-left: 1em; padding-right: 1em; text-align: center; vertical-align: top\">0</td>\n",
       "        <td style=\"padding-left: 1em; padding-right: 1em; text-align: center; vertical-align: top\">0</td>\n",
       "        <td style=\"padding-left: 1em; padding-right: 1em; text-align: center; vertical-align: top\">0</td>\n",
       "        <td style=\"padding-left: 1em; padding-right: 1em; text-align: center; vertical-align: top\">0</td>\n",
       "        <td style=\"padding-left: 1em; padding-right: 1em; text-align: center; vertical-align: top\">0</td>\n",
       "        <td style=\"padding-left: 1em; padding-right: 1em; text-align: center; vertical-align: top\">1</td>\n",
       "        <td style=\"padding-left: 1em; padding-right: 1em; text-align: center; vertical-align: top\">0.297754958621</td>\n",
       "    </tr>\n",
       "    <tr>\n",
       "        <td style=\"padding-left: 1em; padding-right: 1em; text-align: center; vertical-align: top\">0</td>\n",
       "        <td style=\"padding-left: 1em; padding-right: 1em; text-align: center; vertical-align: top\">0</td>\n",
       "        <td style=\"padding-left: 1em; padding-right: 1em; text-align: center; vertical-align: top\">0</td>\n",
       "        <td style=\"padding-left: 1em; padding-right: 1em; text-align: center; vertical-align: top\">1</td>\n",
       "        <td style=\"padding-left: 1em; padding-right: 1em; text-align: center; vertical-align: top\">0</td>\n",
       "        <td style=\"padding-left: 1em; padding-right: 1em; text-align: center; vertical-align: top\">0</td>\n",
       "        <td style=\"padding-left: 1em; padding-right: 1em; text-align: center; vertical-align: top\">0</td>\n",
       "        <td style=\"padding-left: 1em; padding-right: 1em; text-align: center; vertical-align: top\">0</td>\n",
       "        <td style=\"padding-left: 1em; padding-right: 1em; text-align: center; vertical-align: top\">1</td>\n",
       "        <td style=\"padding-left: 1em; padding-right: 1em; text-align: center; vertical-align: top\">0.49891116191</td>\n",
       "    </tr>\n",
       "    <tr>\n",
       "        <td style=\"padding-left: 1em; padding-right: 1em; text-align: center; vertical-align: top\">0</td>\n",
       "        <td style=\"padding-left: 1em; padding-right: 1em; text-align: center; vertical-align: top\">0</td>\n",
       "        <td style=\"padding-left: 1em; padding-right: 1em; text-align: center; vertical-align: top\">0</td>\n",
       "        <td style=\"padding-left: 1em; padding-right: 1em; text-align: center; vertical-align: top\">0</td>\n",
       "        <td style=\"padding-left: 1em; padding-right: 1em; text-align: center; vertical-align: top\">0</td>\n",
       "        <td style=\"padding-left: 1em; padding-right: 1em; text-align: center; vertical-align: top\">0</td>\n",
       "        <td style=\"padding-left: 1em; padding-right: 1em; text-align: center; vertical-align: top\">0</td>\n",
       "        <td style=\"padding-left: 1em; padding-right: 1em; text-align: center; vertical-align: top\">0</td>\n",
       "        <td style=\"padding-left: 1em; padding-right: 1em; text-align: center; vertical-align: top\">0</td>\n",
       "        <td style=\"padding-left: 1em; padding-right: 1em; text-align: center; vertical-align: top\">0.710895066562</td>\n",
       "    </tr>\n",
       "    <tr>\n",
       "        <td style=\"padding-left: 1em; padding-right: 1em; text-align: center; vertical-align: top\">0</td>\n",
       "        <td style=\"padding-left: 1em; padding-right: 1em; text-align: center; vertical-align: top\">0</td>\n",
       "        <td style=\"padding-left: 1em; padding-right: 1em; text-align: center; vertical-align: top\">0</td>\n",
       "        <td style=\"padding-left: 1em; padding-right: 1em; text-align: center; vertical-align: top\">0</td>\n",
       "        <td style=\"padding-left: 1em; padding-right: 1em; text-align: center; vertical-align: top\">0</td>\n",
       "        <td style=\"padding-left: 1em; padding-right: 1em; text-align: center; vertical-align: top\">0</td>\n",
       "        <td style=\"padding-left: 1em; padding-right: 1em; text-align: center; vertical-align: top\">0</td>\n",
       "        <td style=\"padding-left: 1em; padding-right: 1em; text-align: center; vertical-align: top\">0</td>\n",
       "        <td style=\"padding-left: 1em; padding-right: 1em; text-align: center; vertical-align: top\">1</td>\n",
       "        <td style=\"padding-left: 1em; padding-right: 1em; text-align: center; vertical-align: top\">0.710895066562</td>\n",
       "    </tr>\n",
       "    <tr>\n",
       "        <td style=\"padding-left: 1em; padding-right: 1em; text-align: center; vertical-align: top\">0</td>\n",
       "        <td style=\"padding-left: 1em; padding-right: 1em; text-align: center; vertical-align: top\">0</td>\n",
       "        <td style=\"padding-left: 1em; padding-right: 1em; text-align: center; vertical-align: top\">0</td>\n",
       "        <td style=\"padding-left: 1em; padding-right: 1em; text-align: center; vertical-align: top\">0</td>\n",
       "        <td style=\"padding-left: 1em; padding-right: 1em; text-align: center; vertical-align: top\">0</td>\n",
       "        <td style=\"padding-left: 1em; padding-right: 1em; text-align: center; vertical-align: top\">0</td>\n",
       "        <td style=\"padding-left: 1em; padding-right: 1em; text-align: center; vertical-align: top\">0</td>\n",
       "        <td style=\"padding-left: 1em; padding-right: 1em; text-align: center; vertical-align: top\">0</td>\n",
       "        <td style=\"padding-left: 1em; padding-right: 1em; text-align: center; vertical-align: top\">1</td>\n",
       "        <td style=\"padding-left: 1em; padding-right: 1em; text-align: center; vertical-align: top\">0.710895066562</td>\n",
       "    </tr>\n",
       "</table>\n",
       "[10 rows x 17 columns]<br/>\n",
       "</div>"
      ],
      "text/plain": [
       "Columns:\n",
       "\tname\tstr\n",
       "\treview\tstr\n",
       "\trating\tfloat\n",
       "\tword_count\tdict\n",
       "\tawesome\tint\n",
       "\tgreat\tint\n",
       "\tfantastic\tint\n",
       "\tamazing\tint\n",
       "\tlove\tint\n",
       "\thorrible\tint\n",
       "\tbad\tint\n",
       "\tterrible\tint\n",
       "\tawful\tint\n",
       "\twow\tint\n",
       "\thate\tint\n",
       "\tsentiment\tint\n",
       "\tpredicted_sentiment\tfloat\n",
       "\n",
       "Rows: 10\n",
       "\n",
       "Data:\n",
       "+-------------------------+-------------------------------+--------+\n",
       "|           name          |             review            | rating |\n",
       "+-------------------------+-------------------------------+--------+\n",
       "| Baby Trend Diaper Champ | Ok - newsflash.  Diapers a... |  4.0   |\n",
       "| Baby Trend Diaper Champ | This is a good product to ... |  3.0   |\n",
       "| Baby Trend Diaper Champ | My husband and I selected ... |  1.0   |\n",
       "| Baby Trend Diaper Champ | Excellent diaper disposal ... |  5.0   |\n",
       "| Baby Trend Diaper Champ | We love our diaper champ. ... |  5.0   |\n",
       "| Baby Trend Diaper Champ | Two girlfriends and two fa... |  5.0   |\n",
       "| Baby Trend Diaper Champ | I waited to review this un... |  4.0   |\n",
       "| Baby Trend Diaper Champ | I have had a diaper genie ... |  1.0   |\n",
       "| Baby Trend Diaper Champ | I originally put this item... |  5.0   |\n",
       "| Baby Trend Diaper Champ | I am so glad I got the Dia... |  5.0   |\n",
       "+-------------------------+-------------------------------+--------+\n",
       "+-------------------------------+---------+-------+-----------+---------+------+\n",
       "|           word_count          | awesome | great | fantastic | amazing | love |\n",
       "+-------------------------------+---------+-------+-----------+---------+------+\n",
       "| {'just': 2L, 'less': 1L, '... |    0    |   0   |     0     |    0    |  0   |\n",
       "| {'and': 3L, 'because': 1L,... |    0    |   0   |     0     |    0    |  0   |\n",
       "| {'just': 1L, 'less': 1L, '... |    0    |   0   |     0     |    0    |  0   |\n",
       "| {'control': 1L, 'am': 1L, ... |    0    |   0   |     0     |    0    |  0   |\n",
       "| {'and': 3L, 'over.': 1L, '... |    0    |   0   |     0     |    0    |  1   |\n",
       "| {'just': 1L, 'when': 1L, '... |    0    |   0   |     0     |    0    |  0   |\n",
       "| {'lysol': 1L, 'all': 1L, '... |    0    |   0   |     0     |    0    |  0   |\n",
       "| {'all': 1L, 'bags.': 1L, '... |    0    |   0   |     0     |    0    |  0   |\n",
       "| {'lysol': 1L, 'all': 2L, '... |    0    |   0   |     0     |    0    |  0   |\n",
       "| {'and': 2L, 'all': 1L, 'ju... |    0    |   0   |     0     |    0    |  0   |\n",
       "+-------------------------------+---------+-------+-----------+---------+------+\n",
       "+----------+-----+----------+-------+-----+------+-----------+---------------------+\n",
       "| horrible | bad | terrible | awful | wow | hate | sentiment | predicted_sentiment |\n",
       "+----------+-----+----------+-------+-----+------+-----------+---------------------+\n",
       "|    0     |  0  |    0     |   0   |  0  |  0   |     1     |    0.710895066562   |\n",
       "|    0     |  0  |    0     |   0   |  0  |  0   |     0     |    0.710895066562   |\n",
       "|    0     |  0  |    0     |   0   |  0  |  0   |     0     |    0.710895066562   |\n",
       "|    0     |  0  |    0     |   0   |  0  |  0   |     1     |    0.710895066562   |\n",
       "|    0     |  0  |    0     |   0   |  0  |  0   |     1     |    0.886646607127   |\n",
       "|    1     |  0  |    0     |   0   |  0  |  0   |     1     |    0.297754958621   |\n",
       "|    0     |  1  |    0     |   0   |  0  |  0   |     1     |    0.49891116191    |\n",
       "|    0     |  0  |    0     |   0   |  0  |  0   |     0     |    0.710895066562   |\n",
       "|    0     |  0  |    0     |   0   |  0  |  0   |     1     |    0.710895066562   |\n",
       "|    0     |  0  |    0     |   0   |  0  |  0   |     1     |    0.710895066562   |\n",
       "+----------+-----+----------+-------+-----+------+-----------+---------------------+\n",
       "[10 rows x 17 columns]"
      ]
     },
     "execution_count": 81,
     "metadata": {},
     "output_type": "execute_result"
    }
   ],
   "source": [
    "diaper_champ_reviews.head()"
   ]
  },
  {
   "cell_type": "code",
   "execution_count": 82,
   "metadata": {
    "collapsed": true
   },
   "outputs": [],
   "source": [
    "diaper_champ_reviews = diaper_champ_reviews.sort('predicted_sentiment', ascending=False)"
   ]
  },
  {
   "cell_type": "code",
   "execution_count": 63,
   "metadata": {
    "collapsed": false
   },
   "outputs": [
    {
     "data": {
      "text/html": [
       "<div style=\"max-height:1000px;max-width:1500px;overflow:auto;\"><table frame=\"box\" rules=\"cols\">\n",
       "    <tr>\n",
       "        <th style=\"padding-left: 1em; padding-right: 1em; text-align: center\">name</th>\n",
       "        <th style=\"padding-left: 1em; padding-right: 1em; text-align: center\">review</th>\n",
       "        <th style=\"padding-left: 1em; padding-right: 1em; text-align: center\">rating</th>\n",
       "        <th style=\"padding-left: 1em; padding-right: 1em; text-align: center\">word_count</th>\n",
       "        <th style=\"padding-left: 1em; padding-right: 1em; text-align: center\">awesome</th>\n",
       "        <th style=\"padding-left: 1em; padding-right: 1em; text-align: center\">great</th>\n",
       "        <th style=\"padding-left: 1em; padding-right: 1em; text-align: center\">fantastic</th>\n",
       "    </tr>\n",
       "    <tr>\n",
       "        <td style=\"padding-left: 1em; padding-right: 1em; text-align: center; vertical-align: top\">Baby Trend Diaper Champ</td>\n",
       "        <td style=\"padding-left: 1em; padding-right: 1em; text-align: center; vertical-align: top\">I LOVE LOVE LOVE this<br>product! It is SO much ...</td>\n",
       "        <td style=\"padding-left: 1em; padding-right: 1em; text-align: center; vertical-align: top\">4.0</td>\n",
       "        <td style=\"padding-left: 1em; padding-right: 1em; text-align: center; vertical-align: top\">{'rating': 1L,<br>'contacted': 1L, 'over': ...</td>\n",
       "        <td style=\"padding-left: 1em; padding-right: 1em; text-align: center; vertical-align: top\">0</td>\n",
       "        <td style=\"padding-left: 1em; padding-right: 1em; text-align: center; vertical-align: top\">1</td>\n",
       "        <td style=\"padding-left: 1em; padding-right: 1em; text-align: center; vertical-align: top\">0</td>\n",
       "    </tr>\n",
       "    <tr>\n",
       "        <td style=\"padding-left: 1em; padding-right: 1em; text-align: center; vertical-align: top\">Baby Trend Diaper Champ</td>\n",
       "        <td style=\"padding-left: 1em; padding-right: 1em; text-align: center; vertical-align: top\">I received my Diaper<br>Champ at my baby shower ...</td>\n",
       "        <td style=\"padding-left: 1em; padding-right: 1em; text-align: center; vertical-align: top\">5.0</td>\n",
       "        <td style=\"padding-left: 1em; padding-right: 1em; text-align: center; vertical-align: top\">{'bags.': 1L, \"don't\":<br>1L, 'son.': 1L, 'of,': ...</td>\n",
       "        <td style=\"padding-left: 1em; padding-right: 1em; text-align: center; vertical-align: top\">0</td>\n",
       "        <td style=\"padding-left: 1em; padding-right: 1em; text-align: center; vertical-align: top\">0</td>\n",
       "        <td style=\"padding-left: 1em; padding-right: 1em; text-align: center; vertical-align: top\">0</td>\n",
       "    </tr>\n",
       "    <tr>\n",
       "        <td style=\"padding-left: 1em; padding-right: 1em; text-align: center; vertical-align: top\">Baby Trend Diaper Champ</td>\n",
       "        <td style=\"padding-left: 1em; padding-right: 1em; text-align: center; vertical-align: top\">Love it, love it, love<br>it!  This lives up to ...</td>\n",
       "        <td style=\"padding-left: 1em; padding-right: 1em; text-align: center; vertical-align: top\">5.0</td>\n",
       "        <td style=\"padding-left: 1em; padding-right: 1em; text-align: center; vertical-align: top\">{'all': 1L, 'already':<br>1L, 'love': 3L, 'have': ...</td>\n",
       "        <td style=\"padding-left: 1em; padding-right: 1em; text-align: center; vertical-align: top\">0</td>\n",
       "        <td style=\"padding-left: 1em; padding-right: 1em; text-align: center; vertical-align: top\">0</td>\n",
       "        <td style=\"padding-left: 1em; padding-right: 1em; text-align: center; vertical-align: top\">0</td>\n",
       "    </tr>\n",
       "    <tr>\n",
       "        <td style=\"padding-left: 1em; padding-right: 1em; text-align: center; vertical-align: top\">Baby Trend Diaper Champ</td>\n",
       "        <td style=\"padding-left: 1em; padding-right: 1em; text-align: center; vertical-align: top\">Works great - no smells.<br>LOVE that it uses reg ...</td>\n",
       "        <td style=\"padding-left: 1em; padding-right: 1em; text-align: center; vertical-align: top\">5.0</td>\n",
       "        <td style=\"padding-left: 1em; padding-right: 1em; text-align: center; vertical-align: top\">{'and': 2L, 'love': 1L,<br>'garbage': 1L, ...</td>\n",
       "        <td style=\"padding-left: 1em; padding-right: 1em; text-align: center; vertical-align: top\">0</td>\n",
       "        <td style=\"padding-left: 1em; padding-right: 1em; text-align: center; vertical-align: top\">2</td>\n",
       "        <td style=\"padding-left: 1em; padding-right: 1em; text-align: center; vertical-align: top\">0</td>\n",
       "    </tr>\n",
       "    <tr>\n",
       "        <td style=\"padding-left: 1em; padding-right: 1em; text-align: center; vertical-align: top\">Baby Trend Diaper Champ</td>\n",
       "        <td style=\"padding-left: 1em; padding-right: 1em; text-align: center; vertical-align: top\">I did love this product<br>for the first year. but ...</td>\n",
       "        <td style=\"padding-left: 1em; padding-right: 1em; text-align: center; vertical-align: top\">3.0</td>\n",
       "        <td style=\"padding-left: 1em; padding-right: 1em; text-align: center; vertical-align: top\">{'and': 4L, 'this': 1L,<br>'old.': 1L, 'old': 2L, ...</td>\n",
       "        <td style=\"padding-left: 1em; padding-right: 1em; text-align: center; vertical-align: top\">0</td>\n",
       "        <td style=\"padding-left: 1em; padding-right: 1em; text-align: center; vertical-align: top\">2</td>\n",
       "        <td style=\"padding-left: 1em; padding-right: 1em; text-align: center; vertical-align: top\">0</td>\n",
       "    </tr>\n",
       "    <tr>\n",
       "        <td style=\"padding-left: 1em; padding-right: 1em; text-align: center; vertical-align: top\">Baby Trend Diaper Champ</td>\n",
       "        <td style=\"padding-left: 1em; padding-right: 1em; text-align: center; vertical-align: top\">I love this diaper pale<br>and wouldn't dream of ...</td>\n",
       "        <td style=\"padding-left: 1em; padding-right: 1em; text-align: center; vertical-align: top\">5.0</td>\n",
       "        <td style=\"padding-left: 1em; padding-right: 1em; text-align: center; vertical-align: top\">{'and': 3L, 'love': 1L,<br>'use.': 1L, 'is': 2L, ...</td>\n",
       "        <td style=\"padding-left: 1em; padding-right: 1em; text-align: center; vertical-align: top\">0</td>\n",
       "        <td style=\"padding-left: 1em; padding-right: 1em; text-align: center; vertical-align: top\">2</td>\n",
       "        <td style=\"padding-left: 1em; padding-right: 1em; text-align: center; vertical-align: top\">0</td>\n",
       "    </tr>\n",
       "    <tr>\n",
       "        <td style=\"padding-left: 1em; padding-right: 1em; text-align: center; vertical-align: top\">Baby Trend Diaper Champ</td>\n",
       "        <td style=\"padding-left: 1em; padding-right: 1em; text-align: center; vertical-align: top\">Love the Diaper Champ.  I<br>had planned to get the ...</td>\n",
       "        <td style=\"padding-left: 1em; padding-right: 1em; text-align: center; vertical-align: top\">4.0</td>\n",
       "        <td style=\"padding-left: 1em; padding-right: 1em; text-align: center; vertical-align: top\">{'reviews,': 1L, 'all':<br>1L, 'bags.': 1L, 'just': ...</td>\n",
       "        <td style=\"padding-left: 1em; padding-right: 1em; text-align: center; vertical-align: top\">0</td>\n",
       "        <td style=\"padding-left: 1em; padding-right: 1em; text-align: center; vertical-align: top\">0</td>\n",
       "        <td style=\"padding-left: 1em; padding-right: 1em; text-align: center; vertical-align: top\">0</td>\n",
       "    </tr>\n",
       "    <tr>\n",
       "        <td style=\"padding-left: 1em; padding-right: 1em; text-align: center; vertical-align: top\">Baby Trend Diaper Champ</td>\n",
       "        <td style=\"padding-left: 1em; padding-right: 1em; text-align: center; vertical-align: top\">I love this diaper pail!<br>It's so easy to use a ...</td>\n",
       "        <td style=\"padding-left: 1em; padding-right: 1em; text-align: center; vertical-align: top\">5.0</td>\n",
       "        <td style=\"padding-left: 1em; padding-right: 1em; text-align: center; vertical-align: top\">{'and': 3L, 'this': 1L,<br>'love': 2L, 'being': 1L, ...</td>\n",
       "        <td style=\"padding-left: 1em; padding-right: 1em; text-align: center; vertical-align: top\">0</td>\n",
       "        <td style=\"padding-left: 1em; padding-right: 1em; text-align: center; vertical-align: top\">0</td>\n",
       "        <td style=\"padding-left: 1em; padding-right: 1em; text-align: center; vertical-align: top\">0</td>\n",
       "    </tr>\n",
       "    <tr>\n",
       "        <td style=\"padding-left: 1em; padding-right: 1em; text-align: center; vertical-align: top\">Baby Trend Diaper Champ</td>\n",
       "        <td style=\"padding-left: 1em; padding-right: 1em; text-align: center; vertical-align: top\">I have a 10 year old<br>daughter and an 8 month ...</td>\n",
       "        <td style=\"padding-left: 1em; padding-right: 1em; text-align: center; vertical-align: top\">5.0</td>\n",
       "        <td style=\"padding-left: 1em; padding-right: 1em; text-align: center; vertical-align: top\">{'lysol': 1L, 'all': 1L,<br>'just': 2L, 'hand,': 1L, ...</td>\n",
       "        <td style=\"padding-left: 1em; padding-right: 1em; text-align: center; vertical-align: top\">0</td>\n",
       "        <td style=\"padding-left: 1em; padding-right: 1em; text-align: center; vertical-align: top\">0</td>\n",
       "        <td style=\"padding-left: 1em; padding-right: 1em; text-align: center; vertical-align: top\">0</td>\n",
       "    </tr>\n",
       "    <tr>\n",
       "        <td style=\"padding-left: 1em; padding-right: 1em; text-align: center; vertical-align: top\">Baby Trend Diaper Champ</td>\n",
       "        <td style=\"padding-left: 1em; padding-right: 1em; text-align: center; vertical-align: top\">I have a two-year-old son<br>and I love the Diaper ...</td>\n",
       "        <td style=\"padding-left: 1em; padding-right: 1em; text-align: center; vertical-align: top\">5.0</td>\n",
       "        <td style=\"padding-left: 1em; padding-right: 1em; text-align: center; vertical-align: top\">{'and': 6L, 'two-year-<br>old': 1L, \"toddler's\": ...</td>\n",
       "        <td style=\"padding-left: 1em; padding-right: 1em; text-align: center; vertical-align: top\">0</td>\n",
       "        <td style=\"padding-left: 1em; padding-right: 1em; text-align: center; vertical-align: top\">0</td>\n",
       "        <td style=\"padding-left: 1em; padding-right: 1em; text-align: center; vertical-align: top\">0</td>\n",
       "    </tr>\n",
       "</table>\n",
       "<table frame=\"box\" rules=\"cols\">\n",
       "    <tr>\n",
       "        <th style=\"padding-left: 1em; padding-right: 1em; text-align: center\">amazing</th>\n",
       "        <th style=\"padding-left: 1em; padding-right: 1em; text-align: center\">love</th>\n",
       "        <th style=\"padding-left: 1em; padding-right: 1em; text-align: center\">horrible</th>\n",
       "        <th style=\"padding-left: 1em; padding-right: 1em; text-align: center\">bad</th>\n",
       "        <th style=\"padding-left: 1em; padding-right: 1em; text-align: center\">terrible</th>\n",
       "        <th style=\"padding-left: 1em; padding-right: 1em; text-align: center\">awful</th>\n",
       "        <th style=\"padding-left: 1em; padding-right: 1em; text-align: center\">wow</th>\n",
       "        <th style=\"padding-left: 1em; padding-right: 1em; text-align: center\">hate</th>\n",
       "        <th style=\"padding-left: 1em; padding-right: 1em; text-align: center\">sentiment</th>\n",
       "        <th style=\"padding-left: 1em; padding-right: 1em; text-align: center\">predicted_sentiment</th>\n",
       "    </tr>\n",
       "    <tr>\n",
       "        <td style=\"padding-left: 1em; padding-right: 1em; text-align: center; vertical-align: top\">0</td>\n",
       "        <td style=\"padding-left: 1em; padding-right: 1em; text-align: center; vertical-align: top\">3</td>\n",
       "        <td style=\"padding-left: 1em; padding-right: 1em; text-align: center; vertical-align: top\">0</td>\n",
       "        <td style=\"padding-left: 1em; padding-right: 1em; text-align: center; vertical-align: top\">0</td>\n",
       "        <td style=\"padding-left: 1em; padding-right: 1em; text-align: center; vertical-align: top\">0</td>\n",
       "        <td style=\"padding-left: 1em; padding-right: 1em; text-align: center; vertical-align: top\">0</td>\n",
       "        <td style=\"padding-left: 1em; padding-right: 1em; text-align: center; vertical-align: top\">0</td>\n",
       "        <td style=\"padding-left: 1em; padding-right: 1em; text-align: center; vertical-align: top\">0</td>\n",
       "        <td style=\"padding-left: 1em; padding-right: 1em; text-align: center; vertical-align: top\">1</td>\n",
       "        <td style=\"padding-left: 1em; padding-right: 1em; text-align: center; vertical-align: top\">0.993763140575</td>\n",
       "    </tr>\n",
       "    <tr>\n",
       "        <td style=\"padding-left: 1em; padding-right: 1em; text-align: center; vertical-align: top\">0</td>\n",
       "        <td style=\"padding-left: 1em; padding-right: 1em; text-align: center; vertical-align: top\">3</td>\n",
       "        <td style=\"padding-left: 1em; padding-right: 1em; text-align: center; vertical-align: top\">0</td>\n",
       "        <td style=\"padding-left: 1em; padding-right: 1em; text-align: center; vertical-align: top\">0</td>\n",
       "        <td style=\"padding-left: 1em; padding-right: 1em; text-align: center; vertical-align: top\">0</td>\n",
       "        <td style=\"padding-left: 1em; padding-right: 1em; text-align: center; vertical-align: top\">0</td>\n",
       "        <td style=\"padding-left: 1em; padding-right: 1em; text-align: center; vertical-align: top\">0</td>\n",
       "        <td style=\"padding-left: 1em; padding-right: 1em; text-align: center; vertical-align: top\">0</td>\n",
       "        <td style=\"padding-left: 1em; padding-right: 1em; text-align: center; vertical-align: top\">1</td>\n",
       "        <td style=\"padding-left: 1em; padding-right: 1em; text-align: center; vertical-align: top\">0.987523313734</td>\n",
       "    </tr>\n",
       "    <tr>\n",
       "        <td style=\"padding-left: 1em; padding-right: 1em; text-align: center; vertical-align: top\">0</td>\n",
       "        <td style=\"padding-left: 1em; padding-right: 1em; text-align: center; vertical-align: top\">3</td>\n",
       "        <td style=\"padding-left: 1em; padding-right: 1em; text-align: center; vertical-align: top\">0</td>\n",
       "        <td style=\"padding-left: 1em; padding-right: 1em; text-align: center; vertical-align: top\">0</td>\n",
       "        <td style=\"padding-left: 1em; padding-right: 1em; text-align: center; vertical-align: top\">0</td>\n",
       "        <td style=\"padding-left: 1em; padding-right: 1em; text-align: center; vertical-align: top\">0</td>\n",
       "        <td style=\"padding-left: 1em; padding-right: 1em; text-align: center; vertical-align: top\">0</td>\n",
       "        <td style=\"padding-left: 1em; padding-right: 1em; text-align: center; vertical-align: top\">0</td>\n",
       "        <td style=\"padding-left: 1em; padding-right: 1em; text-align: center; vertical-align: top\">1</td>\n",
       "        <td style=\"padding-left: 1em; padding-right: 1em; text-align: center; vertical-align: top\">0.987523313734</td>\n",
       "    </tr>\n",
       "    <tr>\n",
       "        <td style=\"padding-left: 1em; padding-right: 1em; text-align: center; vertical-align: top\">0</td>\n",
       "        <td style=\"padding-left: 1em; padding-right: 1em; text-align: center; vertical-align: top\">1</td>\n",
       "        <td style=\"padding-left: 1em; padding-right: 1em; text-align: center; vertical-align: top\">0</td>\n",
       "        <td style=\"padding-left: 1em; padding-right: 1em; text-align: center; vertical-align: top\">0</td>\n",
       "        <td style=\"padding-left: 1em; padding-right: 1em; text-align: center; vertical-align: top\">0</td>\n",
       "        <td style=\"padding-left: 1em; padding-right: 1em; text-align: center; vertical-align: top\">0</td>\n",
       "        <td style=\"padding-left: 1em; padding-right: 1em; text-align: center; vertical-align: top\">0</td>\n",
       "        <td style=\"padding-left: 1em; padding-right: 1em; text-align: center; vertical-align: top\">0</td>\n",
       "        <td style=\"padding-left: 1em; padding-right: 1em; text-align: center; vertical-align: top\">1</td>\n",
       "        <td style=\"padding-left: 1em; padding-right: 1em; text-align: center; vertical-align: top\">0.969418579532</td>\n",
       "    </tr>\n",
       "    <tr>\n",
       "        <td style=\"padding-left: 1em; padding-right: 1em; text-align: center; vertical-align: top\">0</td>\n",
       "        <td style=\"padding-left: 1em; padding-right: 1em; text-align: center; vertical-align: top\">1</td>\n",
       "        <td style=\"padding-left: 1em; padding-right: 1em; text-align: center; vertical-align: top\">0</td>\n",
       "        <td style=\"padding-left: 1em; padding-right: 1em; text-align: center; vertical-align: top\">0</td>\n",
       "        <td style=\"padding-left: 1em; padding-right: 1em; text-align: center; vertical-align: top\">0</td>\n",
       "        <td style=\"padding-left: 1em; padding-right: 1em; text-align: center; vertical-align: top\">0</td>\n",
       "        <td style=\"padding-left: 1em; padding-right: 1em; text-align: center; vertical-align: top\">0</td>\n",
       "        <td style=\"padding-left: 1em; padding-right: 1em; text-align: center; vertical-align: top\">0</td>\n",
       "        <td style=\"padding-left: 1em; padding-right: 1em; text-align: center; vertical-align: top\">0</td>\n",
       "        <td style=\"padding-left: 1em; padding-right: 1em; text-align: center; vertical-align: top\">0.969418579532</td>\n",
       "    </tr>\n",
       "    <tr>\n",
       "        <td style=\"padding-left: 1em; padding-right: 1em; text-align: center; vertical-align: top\">0</td>\n",
       "        <td style=\"padding-left: 1em; padding-right: 1em; text-align: center; vertical-align: top\">1</td>\n",
       "        <td style=\"padding-left: 1em; padding-right: 1em; text-align: center; vertical-align: top\">0</td>\n",
       "        <td style=\"padding-left: 1em; padding-right: 1em; text-align: center; vertical-align: top\">0</td>\n",
       "        <td style=\"padding-left: 1em; padding-right: 1em; text-align: center; vertical-align: top\">0</td>\n",
       "        <td style=\"padding-left: 1em; padding-right: 1em; text-align: center; vertical-align: top\">0</td>\n",
       "        <td style=\"padding-left: 1em; padding-right: 1em; text-align: center; vertical-align: top\">0</td>\n",
       "        <td style=\"padding-left: 1em; padding-right: 1em; text-align: center; vertical-align: top\">0</td>\n",
       "        <td style=\"padding-left: 1em; padding-right: 1em; text-align: center; vertical-align: top\">1</td>\n",
       "        <td style=\"padding-left: 1em; padding-right: 1em; text-align: center; vertical-align: top\">0.969418579532</td>\n",
       "    </tr>\n",
       "    <tr>\n",
       "        <td style=\"padding-left: 1em; padding-right: 1em; text-align: center; vertical-align: top\">0</td>\n",
       "        <td style=\"padding-left: 1em; padding-right: 1em; text-align: center; vertical-align: top\">2</td>\n",
       "        <td style=\"padding-left: 1em; padding-right: 1em; text-align: center; vertical-align: top\">0</td>\n",
       "        <td style=\"padding-left: 1em; padding-right: 1em; text-align: center; vertical-align: top\">0</td>\n",
       "        <td style=\"padding-left: 1em; padding-right: 1em; text-align: center; vertical-align: top\">0</td>\n",
       "        <td style=\"padding-left: 1em; padding-right: 1em; text-align: center; vertical-align: top\">0</td>\n",
       "        <td style=\"padding-left: 1em; padding-right: 1em; text-align: center; vertical-align: top\">0</td>\n",
       "        <td style=\"padding-left: 1em; padding-right: 1em; text-align: center; vertical-align: top\">0</td>\n",
       "        <td style=\"padding-left: 1em; padding-right: 1em; text-align: center; vertical-align: top\">1</td>\n",
       "        <td style=\"padding-left: 1em; padding-right: 1em; text-align: center; vertical-align: top\">0.961362834265</td>\n",
       "    </tr>\n",
       "    <tr>\n",
       "        <td style=\"padding-left: 1em; padding-right: 1em; text-align: center; vertical-align: top\">0</td>\n",
       "        <td style=\"padding-left: 1em; padding-right: 1em; text-align: center; vertical-align: top\">2</td>\n",
       "        <td style=\"padding-left: 1em; padding-right: 1em; text-align: center; vertical-align: top\">0</td>\n",
       "        <td style=\"padding-left: 1em; padding-right: 1em; text-align: center; vertical-align: top\">0</td>\n",
       "        <td style=\"padding-left: 1em; padding-right: 1em; text-align: center; vertical-align: top\">0</td>\n",
       "        <td style=\"padding-left: 1em; padding-right: 1em; text-align: center; vertical-align: top\">0</td>\n",
       "        <td style=\"padding-left: 1em; padding-right: 1em; text-align: center; vertical-align: top\">0</td>\n",
       "        <td style=\"padding-left: 1em; padding-right: 1em; text-align: center; vertical-align: top\">0</td>\n",
       "        <td style=\"padding-left: 1em; padding-right: 1em; text-align: center; vertical-align: top\">1</td>\n",
       "        <td style=\"padding-left: 1em; padding-right: 1em; text-align: center; vertical-align: top\">0.961362834265</td>\n",
       "    </tr>\n",
       "    <tr>\n",
       "        <td style=\"padding-left: 1em; padding-right: 1em; text-align: center; vertical-align: top\">0</td>\n",
       "        <td style=\"padding-left: 1em; padding-right: 1em; text-align: center; vertical-align: top\">2</td>\n",
       "        <td style=\"padding-left: 1em; padding-right: 1em; text-align: center; vertical-align: top\">0</td>\n",
       "        <td style=\"padding-left: 1em; padding-right: 1em; text-align: center; vertical-align: top\">0</td>\n",
       "        <td style=\"padding-left: 1em; padding-right: 1em; text-align: center; vertical-align: top\">0</td>\n",
       "        <td style=\"padding-left: 1em; padding-right: 1em; text-align: center; vertical-align: top\">0</td>\n",
       "        <td style=\"padding-left: 1em; padding-right: 1em; text-align: center; vertical-align: top\">0</td>\n",
       "        <td style=\"padding-left: 1em; padding-right: 1em; text-align: center; vertical-align: top\">0</td>\n",
       "        <td style=\"padding-left: 1em; padding-right: 1em; text-align: center; vertical-align: top\">1</td>\n",
       "        <td style=\"padding-left: 1em; padding-right: 1em; text-align: center; vertical-align: top\">0.961362834265</td>\n",
       "    </tr>\n",
       "    <tr>\n",
       "        <td style=\"padding-left: 1em; padding-right: 1em; text-align: center; vertical-align: top\">0</td>\n",
       "        <td style=\"padding-left: 1em; padding-right: 1em; text-align: center; vertical-align: top\">2</td>\n",
       "        <td style=\"padding-left: 1em; padding-right: 1em; text-align: center; vertical-align: top\">0</td>\n",
       "        <td style=\"padding-left: 1em; padding-right: 1em; text-align: center; vertical-align: top\">0</td>\n",
       "        <td style=\"padding-left: 1em; padding-right: 1em; text-align: center; vertical-align: top\">0</td>\n",
       "        <td style=\"padding-left: 1em; padding-right: 1em; text-align: center; vertical-align: top\">0</td>\n",
       "        <td style=\"padding-left: 1em; padding-right: 1em; text-align: center; vertical-align: top\">0</td>\n",
       "        <td style=\"padding-left: 1em; padding-right: 1em; text-align: center; vertical-align: top\">0</td>\n",
       "        <td style=\"padding-left: 1em; padding-right: 1em; text-align: center; vertical-align: top\">1</td>\n",
       "        <td style=\"padding-left: 1em; padding-right: 1em; text-align: center; vertical-align: top\">0.961362834265</td>\n",
       "    </tr>\n",
       "</table>\n",
       "[10 rows x 17 columns]<br/>\n",
       "</div>"
      ],
      "text/plain": [
       "Columns:\n",
       "\tname\tstr\n",
       "\treview\tstr\n",
       "\trating\tfloat\n",
       "\tword_count\tdict\n",
       "\tawesome\tint\n",
       "\tgreat\tint\n",
       "\tfantastic\tint\n",
       "\tamazing\tint\n",
       "\tlove\tint\n",
       "\thorrible\tint\n",
       "\tbad\tint\n",
       "\tterrible\tint\n",
       "\tawful\tint\n",
       "\twow\tint\n",
       "\thate\tint\n",
       "\tsentiment\tint\n",
       "\tpredicted_sentiment\tfloat\n",
       "\n",
       "Rows: 10\n",
       "\n",
       "Data:\n",
       "+-------------------------+-------------------------------+--------+\n",
       "|           name          |             review            | rating |\n",
       "+-------------------------+-------------------------------+--------+\n",
       "| Baby Trend Diaper Champ | I LOVE LOVE LOVE this prod... |  4.0   |\n",
       "| Baby Trend Diaper Champ | I received my Diaper Champ... |  5.0   |\n",
       "| Baby Trend Diaper Champ | Love it, love it, love it!... |  5.0   |\n",
       "| Baby Trend Diaper Champ | Works great - no smells.  ... |  5.0   |\n",
       "| Baby Trend Diaper Champ | I did love this product fo... |  3.0   |\n",
       "| Baby Trend Diaper Champ | I love this diaper pale an... |  5.0   |\n",
       "| Baby Trend Diaper Champ | Love the Diaper Champ.  I ... |  4.0   |\n",
       "| Baby Trend Diaper Champ | I love this diaper pail!  ... |  5.0   |\n",
       "| Baby Trend Diaper Champ | I have a 10 year old daugh... |  5.0   |\n",
       "| Baby Trend Diaper Champ | I have a two-year-old son ... |  5.0   |\n",
       "+-------------------------+-------------------------------+--------+\n",
       "+-------------------------------+---------+-------+-----------+---------+------+\n",
       "|           word_count          | awesome | great | fantastic | amazing | love |\n",
       "+-------------------------------+---------+-------+-----------+---------+------+\n",
       "| {'rating': 1L, 'contacted'... |    0    |   1   |     0     |    0    |  3   |\n",
       "| {'bags.': 1L, \"don't\": 1L,... |    0    |   0   |     0     |    0    |  3   |\n",
       "| {'all': 1L, 'already': 1L,... |    0    |   0   |     0     |    0    |  3   |\n",
       "| {'and': 2L, 'love': 1L, 'g... |    0    |   2   |     0     |    0    |  1   |\n",
       "| {'and': 4L, 'this': 1L, 'o... |    0    |   2   |     0     |    0    |  1   |\n",
       "| {'and': 3L, 'love': 1L, 'u... |    0    |   2   |     0     |    0    |  1   |\n",
       "| {'reviews,': 1L, 'all': 1L... |    0    |   0   |     0     |    0    |  2   |\n",
       "| {'and': 3L, 'this': 1L, 'l... |    0    |   0   |     0     |    0    |  2   |\n",
       "| {'lysol': 1L, 'all': 1L, '... |    0    |   0   |     0     |    0    |  2   |\n",
       "| {'and': 6L, 'two-year-old'... |    0    |   0   |     0     |    0    |  2   |\n",
       "+-------------------------------+---------+-------+-----------+---------+------+\n",
       "+----------+-----+----------+-------+-----+------+-----------+---------------------+\n",
       "| horrible | bad | terrible | awful | wow | hate | sentiment | predicted_sentiment |\n",
       "+----------+-----+----------+-------+-----+------+-----------+---------------------+\n",
       "|    0     |  0  |    0     |   0   |  0  |  0   |     1     |    0.993763140575   |\n",
       "|    0     |  0  |    0     |   0   |  0  |  0   |     1     |    0.987523313734   |\n",
       "|    0     |  0  |    0     |   0   |  0  |  0   |     1     |    0.987523313734   |\n",
       "|    0     |  0  |    0     |   0   |  0  |  0   |     1     |    0.969418579532   |\n",
       "|    0     |  0  |    0     |   0   |  0  |  0   |     0     |    0.969418579532   |\n",
       "|    0     |  0  |    0     |   0   |  0  |  0   |     1     |    0.969418579532   |\n",
       "|    0     |  0  |    0     |   0   |  0  |  0   |     1     |    0.961362834265   |\n",
       "|    0     |  0  |    0     |   0   |  0  |  0   |     1     |    0.961362834265   |\n",
       "|    0     |  0  |    0     |   0   |  0  |  0   |     1     |    0.961362834265   |\n",
       "|    0     |  0  |    0     |   0   |  0  |  0   |     1     |    0.961362834265   |\n",
       "+----------+-----+----------+-------+-----+------+-----------+---------------------+\n",
       "[10 rows x 17 columns]"
      ]
     },
     "execution_count": 63,
     "metadata": {},
     "output_type": "execute_result"
    }
   ],
   "source": [
    "diaper_champ_reviews.head()"
   ]
  },
  {
   "cell_type": "code",
   "execution_count": 83,
   "metadata": {
    "collapsed": false
   },
   "outputs": [
    {
     "data": {
      "text/plain": [
       "dtype: float\n",
       "Rows: 1\n",
       "[0.9937631405748625]"
      ]
     },
     "execution_count": 83,
     "metadata": {},
     "output_type": "execute_result"
    }
   ],
   "source": [
    "selected_words_model.predict(diaper_champ_reviews[0:1], output_type='probability')"
   ]
  },
  {
   "cell_type": "code",
   "execution_count": 65,
   "metadata": {
    "collapsed": false
   },
   "outputs": [
    {
     "data": {
      "text/plain": [
       "'I LOVE LOVE LOVE this product! It is SO much easier to use than the Diaper Genie, (you need a PHD in poopy to figure out how to use the darn thing!) and it even takes the same bags as my kitchen trash can, shich is super convenient, and cost efficient as I can buy them in bulk.The only reason for not rating it a 5 star was that I did have one small problem with it. The foam gasket in the barrell which keeps the poopy smell inside the unit ripped somehow, and it got VERY stinky. HOWEVER, I contacted the manufacturer though their website, and received an email back the same day stating that this was unusual, and that replacement gaskets were on their way to me. They arrived inside of a week and after replacing, it works great again! (They even sent me extras should it happen again)I HIGHLY reccomend this diaper pail over ANY competitors, you will not be sorry!'"
      ]
     },
     "execution_count": 65,
     "metadata": {},
     "output_type": "execute_result"
    }
   ],
   "source": [
    "diaper_champ_reviews[0]['review']"
   ]
  },
  {
   "cell_type": "code",
   "execution_count": 68,
   "metadata": {
    "collapsed": false
   },
   "outputs": [
    {
     "data": {
      "text/plain": [
       "0.8400192169108815"
      ]
     },
     "execution_count": 68,
     "metadata": {},
     "output_type": "execute_result"
    }
   ],
   "source": [
    "(21344.00+6632.00)/33304.00"
   ]
  },
  {
   "cell_type": "code",
   "execution_count": 69,
   "metadata": {
    "collapsed": false
   },
   "outputs": [
    {
     "data": {
      "text/plain": [
       "0.8400192169108815"
      ]
     },
     "execution_count": 69,
     "metadata": {},
     "output_type": "execute_result"
    }
   ],
   "source": [
    "27976.00/33304.00"
   ]
  },
  {
   "cell_type": "code",
   "execution_count": 95,
   "metadata": {
    "collapsed": false
   },
   "outputs": [
    {
     "data": {
      "text/plain": [
       "0.8358155176555369"
      ]
     },
     "execution_count": 95,
     "metadata": {},
     "output_type": "execute_result"
    }
   ],
   "source": [
    "27836.00/33304.00"
   ]
  },
  {
   "cell_type": "code",
   "execution_count": null,
   "metadata": {
    "collapsed": true
   },
   "outputs": [],
   "source": []
  }
 ],
 "metadata": {
  "kernelspec": {
   "display_name": "Python 2",
   "language": "python",
   "name": "python2"
  },
  "language_info": {
   "codemirror_mode": {
    "name": "ipython",
    "version": 2
   },
   "file_extension": ".py",
   "mimetype": "text/x-python",
   "name": "python",
   "nbconvert_exporter": "python",
   "pygments_lexer": "ipython2",
   "version": "2.7.11"
  }
 },
 "nbformat": 4,
 "nbformat_minor": 0
}
