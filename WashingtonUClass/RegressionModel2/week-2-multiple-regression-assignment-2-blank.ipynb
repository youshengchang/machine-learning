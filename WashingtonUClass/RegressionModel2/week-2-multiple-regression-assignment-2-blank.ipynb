{
 "cells": [
  {
   "cell_type": "markdown",
   "metadata": {},
   "source": [
    "# Regression Week 2: Multiple Regression (gradient descent)"
   ]
  },
  {
   "cell_type": "markdown",
   "metadata": {},
   "source": [
    "In the first notebook we explored multiple regression using graphlab create. Now we will use graphlab along with numpy to solve for the regression weights with gradient descent.\n",
    "\n",
    "In this notebook we will cover estimating multiple regression weights via gradient descent. You will:\n",
    "* Add a constant column of 1's to a graphlab SFrame to account for the intercept\n",
    "* Convert an SFrame into a Numpy array\n",
    "* Write a predict_output() function using Numpy\n",
    "* Write a numpy function to compute the derivative of the regression weights with respect to a single feature\n",
    "* Write gradient descent function to compute the regression weights given an initial weight vector, step size and tolerance.\n",
    "* Use the gradient descent function to estimate regression weights for multiple features"
   ]
  },
  {
   "cell_type": "markdown",
   "metadata": {},
   "source": [
    "# Fire up graphlab create"
   ]
  },
  {
   "cell_type": "markdown",
   "metadata": {},
   "source": [
    "Make sure you have the latest version of graphlab (>= 1.7)"
   ]
  },
  {
   "cell_type": "code",
   "execution_count": 25,
   "metadata": {
    "collapsed": false
   },
   "outputs": [],
   "source": [
    "import graphlab"
   ]
  },
  {
   "cell_type": "markdown",
   "metadata": {},
   "source": [
    "# Load in house sales data\n",
    "\n",
    "Dataset is from house sales in King County, the region where the city of Seattle, WA is located."
   ]
  },
  {
   "cell_type": "code",
   "execution_count": 26,
   "metadata": {
    "collapsed": false
   },
   "outputs": [],
   "source": [
    "sales = graphlab.SFrame('kc_house_data.gl/')"
   ]
  },
  {
   "cell_type": "markdown",
   "metadata": {},
   "source": [
    "If we want to do any \"feature engineering\" like creating new features or adjusting existing ones we should do this directly using the SFrames as seen in the other Week 2 notebook. For this notebook, however, we will work with the existing features."
   ]
  },
  {
   "cell_type": "markdown",
   "metadata": {},
   "source": [
    "# Convert to Numpy Array"
   ]
  },
  {
   "cell_type": "markdown",
   "metadata": {},
   "source": [
    "Although SFrames offer a number of benefits to users (especially when using Big Data and built-in graphlab functions) in order to understand the details of the implementation of algorithms it's important to work with a library that allows for direct (and optimized) matrix operations. Numpy is a Python solution to work with matrices (or any multi-dimensional \"array\").\n",
    "\n",
    "Recall that the predicted value given the weights and the features is just the dot product between the feature and weight vector. Similarly, if we put all of the features row-by-row in a matrix then the predicted value for *all* the observations can be computed by right multiplying the \"feature matrix\" by the \"weight vector\". \n",
    "\n",
    "First we need to take the SFrame of our data and convert it into a 2D numpy array (also called a matrix). To do this we use graphlab's built in .to_dataframe() which converts the SFrame into a Pandas (another python library) dataframe. We can then use Panda's .as_matrix() to convert the dataframe into a numpy matrix."
   ]
  },
  {
   "cell_type": "code",
   "execution_count": 27,
   "metadata": {
    "collapsed": true
   },
   "outputs": [],
   "source": [
    "import numpy as np # note this allows us to refer to numpy as np instead "
   ]
  },
  {
   "cell_type": "markdown",
   "metadata": {},
   "source": [
    "Now we will write a function that will accept an SFrame, a list of feature names (e.g. ['sqft_living', 'bedrooms']) and an target feature e.g. ('price') and will return two things:\n",
    "* A numpy matrix whose columns are the desired features plus a constant column (this is how we create an 'intercept')\n",
    "* A numpy array containing the values of the output\n",
    "\n",
    "With this in mind, complete the following function (where there's an empty line you should write a line of code that does what the comment above indicates)\n",
    "\n",
    "**Please note you will need GraphLab Create version at least 1.7.1 in order for .to_numpy() to work!**"
   ]
  },
  {
   "cell_type": "code",
   "execution_count": 28,
   "metadata": {
    "collapsed": false
   },
   "outputs": [],
   "source": [
    "def get_numpy_data(data_sframe, features, output):\n",
    "    data_sframe['constant'] = 1 # this is how you add a constant column to an SFrame\n",
    "    # add the column 'constant' to the front of the features list so that we can extract it along with the others:\n",
    "    features = ['constant'] + features # this is how you combine two lists\n",
    "    # select the columns of data_SFrame given by the features list into the SFrame features_sframe (now including constant):\n",
    "    features_sframe = data_sframe[features]\n",
    "    # the following line will convert the features_SFrame into a numpy matrix:\n",
    "    feature_matrix = features_sframe.to_numpy()\n",
    "    # assign the column of data_sframe associated with the output to the SArray output_sarray\n",
    "    output_sarray = data_sframe[output] \n",
    "    # the following will convert the SArray into a numpy array by first converting it to a list\n",
    "    output_array = output_sarray.to_numpy()\n",
    "    return(feature_matrix, output_array)"
   ]
  },
  {
   "cell_type": "markdown",
   "metadata": {},
   "source": [
    "For testing let's use the 'sqft_living' feature and a constant as our features and price as our output:"
   ]
  },
  {
   "cell_type": "code",
   "execution_count": 29,
   "metadata": {
    "collapsed": false
   },
   "outputs": [
    {
     "name": "stdout",
     "output_type": "stream",
     "text": [
      "[  1.00000000e+00   1.18000000e+03]\n",
      "221900.0\n"
     ]
    }
   ],
   "source": [
    "(example_features, example_output) = get_numpy_data(sales, ['sqft_living'], 'price') # the [] around 'sqft_living' makes it a list\n",
    "print example_features[0,:] # this accesses the first row of the data the ':' indicates 'all columns'\n",
    "print example_output[0] # and the corresponding output"
   ]
  },
  {
   "cell_type": "markdown",
   "metadata": {},
   "source": [
    "# Predicting output given regression weights"
   ]
  },
  {
   "cell_type": "markdown",
   "metadata": {},
   "source": [
    "Suppose we had the weights [1.0, 1.0] and the features [1.0, 1180.0] and we wanted to compute the predicted output 1.0\\*1.0 + 1.0\\*1180.0 = 1181.0 this is the dot product between these two arrays. If they're numpy arrayws we can use np.dot() to compute this:"
   ]
  },
  {
   "cell_type": "code",
   "execution_count": 30,
   "metadata": {
    "collapsed": false
   },
   "outputs": [
    {
     "name": "stdout",
     "output_type": "stream",
     "text": [
      "1181.0 [ 1.  1.]\n"
     ]
    }
   ],
   "source": [
    "my_weights = np.array([1., 1.]) # the example weights\n",
    "my_features = example_features[0,] # we'll use the first data point\n",
    "predicted_value = np.dot(my_features, my_weights)\n",
    "print predicted_value, my_weights"
   ]
  },
  {
   "cell_type": "markdown",
   "metadata": {},
   "source": [
    "np.dot() also works when dealing with a matrix and a vector. Recall that the predictions from all the observations is just the RIGHT (as in weights on the right) dot product between the features *matrix* and the weights *vector*. With this in mind finish the following predict_output function to compute the predictions for an entire matrix of features given the matrix and the weights:"
   ]
  },
  {
   "cell_type": "code",
   "execution_count": 31,
   "metadata": {
    "collapsed": true
   },
   "outputs": [],
   "source": [
    "def predict_output(feature_matrix, weights):\n",
    "    # assume feature_matrix is a numpy matrix containing the features as columns and weights is a corresponding numpy array\n",
    "    # create the predictions vector by using np.dot()\n",
    "    #print feature_matrix\n",
    "    #print weights\n",
    "    predictions = np.dot(feature_matrix, weights)\n",
    "\n",
    "    return(predictions)"
   ]
  },
  {
   "cell_type": "markdown",
   "metadata": {},
   "source": [
    "If you want to test your code run the following cell:"
   ]
  },
  {
   "cell_type": "code",
   "execution_count": 32,
   "metadata": {
    "collapsed": false
   },
   "outputs": [
    {
     "name": "stdout",
     "output_type": "stream",
     "text": [
      "1181.0\n",
      "2571.0\n"
     ]
    }
   ],
   "source": [
    "test_predictions = predict_output(example_features, my_weights)\n",
    "print test_predictions[0] # should be 1181.0\n",
    "print test_predictions[1] # should be 2571.0"
   ]
  },
  {
   "cell_type": "markdown",
   "metadata": {},
   "source": [
    "# Computing the Derivative"
   ]
  },
  {
   "cell_type": "markdown",
   "metadata": {},
   "source": [
    "We are now going to move to computing the derivative of the regression cost function. Recall that the cost function is the sum over the data points of the squared difference between an observed output and a predicted output.\n",
    "\n",
    "Since the derivative of a sum is the sum of the derivatives we can compute the derivative for a single data point and then sum over data points. We can write the squared difference between the observed output and predicted output for a single point as follows:\n",
    "\n",
    "(w[0]\\*[CONSTANT] + w[1]\\*[feature_1] + ... + w[i] \\*[feature_i] + ... +  w[k]\\*[feature_k] - output)^2\n",
    "\n",
    "Where we have k features and a constant. So the derivative with respect to weight w[i] by the chain rule is:\n",
    "\n",
    "2\\*(w[0]\\*[CONSTANT] + w[1]\\*[feature_1] + ... + w[i] \\*[feature_i] + ... +  w[k]\\*[feature_k] - output)\\* [feature_i]\n",
    "\n",
    "The term inside the paranethesis is just the error (difference between prediction and output). So we can re-write this as:\n",
    "\n",
    "2\\*error\\*[feature_i]\n",
    "\n",
    "That is, the derivative for the weight for feature i is the sum (over data points) of 2 times the product of the error and the feature itself. In the case of the constant then this is just twice the sum of the errors!\n",
    "\n",
    "Recall that twice the sum of the product of two vectors is just twice the dot product of the two vectors. Therefore the derivative for the weight for feature_i is just two times the dot product between the values of feature_i and the current errors. \n",
    "\n",
    "With this in mind complete the following derivative function which computes the derivative of the weight given the value of the feature (over all data points) and the errors (over all data points)."
   ]
  },
  {
   "cell_type": "code",
   "execution_count": 33,
   "metadata": {
    "collapsed": true
   },
   "outputs": [],
   "source": [
    "def feature_derivative(errors, feature):\n",
    "    # Assume that errors and feature are both numpy arrays of the same length (number of data points)\n",
    "    # compute twice the dot product of these vectors as 'derivative' and return the value\n",
    "    #print errors\n",
    "    #print feature\n",
    "    derivative = 2 * np.dot(errors, feature)\n",
    "\n",
    "    return(derivative)"
   ]
  },
  {
   "cell_type": "markdown",
   "metadata": {},
   "source": [
    "To test your feature derivartive run the following:"
   ]
  },
  {
   "cell_type": "code",
   "execution_count": 34,
   "metadata": {
    "collapsed": false
   },
   "outputs": [
    {
     "name": "stdout",
     "output_type": "stream",
     "text": [
      "-23345850022.0\n",
      "-23345850022.0\n"
     ]
    }
   ],
   "source": [
    "(example_features, example_output) = get_numpy_data(sales, ['sqft_living'], 'price') \n",
    "my_weights = np.array([0., 0.]) # this makes all the predictions 0\n",
    "test_predictions = predict_output(example_features, my_weights) \n",
    "# just like SFrames 2 numpy arrays can be elementwise subtracted with '-': \n",
    "errors = test_predictions - example_output # prediction errors in this case is just the -example_output\n",
    "feature = example_features[:,0] # let's compute the derivative with respect to 'constant', the \":\" indicates \"all rows\"\n",
    "derivative = feature_derivative(errors, feature)\n",
    "print derivative\n",
    "print -np.sum(example_output)*2 # should be the same as derivative"
   ]
  },
  {
   "cell_type": "markdown",
   "metadata": {},
   "source": [
    "# Gradient Descent"
   ]
  },
  {
   "cell_type": "markdown",
   "metadata": {},
   "source": [
    "Now we will write a function that performs a gradient descent. The basic premise is simple. Given a starting point we update the current weights by moving in the negative gradient direction. Recall that the gradient is the direction of *increase* and therefore the negative gradient is the direction of *decrease* and we're trying to *minimize* a cost function. \n",
    "\n",
    "The amount by which we move in the negative gradient *direction*  is called the 'step size'. We stop when we are 'sufficiently close' to the optimum. We define this by requiring that the magnitude (length) of the gradient vector to be smaller than a fixed 'tolerance'.\n",
    "\n",
    "With this in mind, complete the following gradient descent function below using your derivative function above. For each step in the gradient descent we update the weight for each feature befofe computing our stopping criteria"
   ]
  },
  {
   "cell_type": "code",
   "execution_count": 35,
   "metadata": {
    "collapsed": true
   },
   "outputs": [],
   "source": [
    "from math import sqrt # recall that the magnitude/length of a vector [g[0], g[1], g[2]] is sqrt(g[0]^2 + g[1]^2 + g[2]^2)"
   ]
  },
  {
   "cell_type": "code",
   "execution_count": 39,
   "metadata": {
    "collapsed": false
   },
   "outputs": [],
   "source": [
    "def regression_gradient_descent(feature_matrix, output, initial_weights, step_size, tolerance):\n",
    "    converged = False \n",
    "    weights = np.array(initial_weights) # make sure it's a numpy array\n",
    "    while not converged:\n",
    "        # compute the predictions based on feature_matrix and weights using your predict_output() function\n",
    "        predictions = predict_output(feature_matrix, weights)\n",
    "        # compute the errors as predictions - output\n",
    "        errors = predictions - output\n",
    "        gradient_sum_squares = 0 # initialize the gradient sum of squares\n",
    "        # while we haven't reached the tolerance yet, update each feature's weight\n",
    "        for i in range(len(weights)): # loop over each weight\n",
    "            # Recall that feature_matrix[:, i] is the feature column associated with weights[i]\n",
    "            # compute the derivative for weight[i]:\n",
    "            derivative = feature_derivative(errors, feature_matrix[:,i])\n",
    "            # add the squared value of the derivative to the gradient sum of squares (for assessing convergence)\n",
    "            gradient_sum_squares = gradient_sum_squares + derivative**2\n",
    "            # subtract the step size times the derivative from the current weight\n",
    "            #print(\"derivative: \", derivative)\n",
    "            weights[i] = weights[i] - step_size * derivative\n",
    "        # compute the square-root of the gradient sum of squares to get the gradient magnitude:\n",
    "        gradient_magnitude = sqrt(gradient_sum_squares)\n",
    "        if gradient_magnitude < tolerance:\n",
    "            converged = True\n",
    "    return(weights)"
   ]
  },
  {
   "cell_type": "markdown",
   "metadata": {},
   "source": [
    "A few things to note before we run the gradient descent. Since the gradient is a sum over all the data points and involves a product of an error and a feature the gradient itself will be very large since the features are large (squarefeet) and the output is large (prices). So while you might expect \"tolerance\" to be small, small is only relative to the size of the features. \n",
    "\n",
    "For similar reasons the step size will be much smaller than you might expect but this is because the gradient has such large values."
   ]
  },
  {
   "cell_type": "markdown",
   "metadata": {},
   "source": [
    "# Running the Gradient Descent as Simple Regression"
   ]
  },
  {
   "cell_type": "markdown",
   "metadata": {},
   "source": [
    "First let's split the data into training and test data."
   ]
  },
  {
   "cell_type": "code",
   "execution_count": 37,
   "metadata": {
    "collapsed": true
   },
   "outputs": [],
   "source": [
    "train_data,test_data = sales.random_split(.8,seed=0)"
   ]
  },
  {
   "cell_type": "markdown",
   "metadata": {},
   "source": [
    "Although the gradient descent is designed for multiple regression since the constant is now a feature we can use the gradient descent function to estimat the parameters in the simple regression on squarefeet. The folowing cell sets up the feature_matrix, output, initial weights and step size for the first model:"
   ]
  },
  {
   "cell_type": "code",
   "execution_count": 38,
   "metadata": {
    "collapsed": false
   },
   "outputs": [
    {
     "name": "stdout",
     "output_type": "stream",
     "text": [
      "[ 221900.  538000.  180000. ...,  360000.  400000.  325000.]\n"
     ]
    }
   ],
   "source": [
    "# let's test out the gradient descent\n",
    "simple_features = ['sqft_living']\n",
    "my_output = 'price'\n",
    "(simple_feature_matrix, output) = get_numpy_data(train_data, simple_features, my_output)\n",
    "print output\n",
    "initial_weights = np.array([-47000., 1.])\n",
    "step_size = 7e-12\n",
    "tolerance = 2.5e7"
   ]
  },
  {
   "cell_type": "markdown",
   "metadata": {},
   "source": [
    "Next run your gradient descent with the above parameters."
   ]
  },
  {
   "cell_type": "code",
   "execution_count": 40,
   "metadata": {
    "collapsed": false
   },
   "outputs": [
    {
     "name": "stdout",
     "output_type": "stream",
     "text": [
      "simple_weigths: [-46999.88716555    281.91211912]\n"
     ]
    }
   ],
   "source": [
    "simple_weights = regression_gradient_descent(simple_feature_matrix, output, initial_weights, step_size, tolerance)\n",
    "print \"simple_weigths: \" + str(simple_weights)"
   ]
  },
  {
   "cell_type": "markdown",
   "metadata": {},
   "source": [
    "How do your weights compare to those achieved in week 1 (don't expect them to be exactly the same)? \n",
    "\n",
    "**Quiz Question: What is the value of the weight for sqft_living -- the second element of ‘simple_weights’ (rounded to 1 decimal place)?**"
   ]
  },
  {
   "cell_type": "markdown",
   "metadata": {},
   "source": [
    "Use your newly estimated weights and your predict_output() function to compute the predictions on all the TEST data (you will need to create a numpy array of the test feature_matrix and test output first:"
   ]
  },
  {
   "cell_type": "code",
   "execution_count": 20,
   "metadata": {
    "collapsed": false
   },
   "outputs": [
    {
     "name": "stdout",
     "output_type": "stream",
     "text": [
      "[ 310000.  650000.  233000. ...,  610685.  400000.  402101.]\n"
     ]
    }
   ],
   "source": [
    "(test_simple_feature_matrix, test_output) = get_numpy_data(test_data, simple_features, my_output)\n",
    "print test_output"
   ]
  },
  {
   "cell_type": "markdown",
   "metadata": {},
   "source": [
    "Now compute your predictions using test_simple_feature_matrix and your weights from above."
   ]
  },
  {
   "cell_type": "code",
   "execution_count": 21,
   "metadata": {
    "collapsed": false
   },
   "outputs": [
    {
     "name": "stdout",
     "output_type": "stream",
     "text": [
      "[ 356134.44317093  784640.86422788  435069.83652353 ...,  663418.65300782\n",
      "  604217.10799338  240550.4743332 ]\n"
     ]
    }
   ],
   "source": [
    "test_simple_predictions = predict_output(test_simple_feature_matrix, simple_weights) \n",
    "print test_simple_predictions"
   ]
  },
  {
   "cell_type": "markdown",
   "metadata": {},
   "source": [
    "**Quiz Question: What is the predicted price for the 1st house in the TEST data set for model 1 (round to nearest dollar)?**"
   ]
  },
  {
   "cell_type": "code",
   "execution_count": 48,
   "metadata": {
    "collapsed": false
   },
   "outputs": [
    {
     "name": "stdout",
     "output_type": "stream",
     "text": [
      "[ 356134.44317093  784640.86422788  435069.83652353 ...,  663418.65300782\n",
      "  604217.10799338  240550.4743332 ]\n"
     ]
    }
   ],
   "source": [
    "print test_simple_predictions"
   ]
  },
  {
   "cell_type": "markdown",
   "metadata": {},
   "source": [
    "Now that you have the predictions on test data, compute the RSS on the test data set. Save this value for comparison later. Recall that RSS is the sum of the squared errors (difference between prediction and output)."
   ]
  },
  {
   "cell_type": "code",
   "execution_count": 22,
   "metadata": {
    "collapsed": false
   },
   "outputs": [
    {
     "name": "stdout",
     "output_type": "stream",
     "text": [
      "2.75400047593e+14\n"
     ]
    }
   ],
   "source": [
    "diff = test_simple_predictions - test_output\n",
    "RSS_simple = (diff ** 2).sum()\n",
    "print RSS_simple"
   ]
  },
  {
   "cell_type": "markdown",
   "metadata": {},
   "source": [
    "# Running a multiple regression"
   ]
  },
  {
   "cell_type": "markdown",
   "metadata": {},
   "source": [
    "Now we will use more than one actual feature. Use the following code to produce the weights for a second model with the following parameters:"
   ]
  },
  {
   "cell_type": "code",
   "execution_count": 23,
   "metadata": {
    "collapsed": false
   },
   "outputs": [],
   "source": [
    "model_features = ['sqft_living', 'sqft_living15'] # sqft_living15 is the average squarefeet for the nearest 15 neighbors. \n",
    "my_output = 'price'\n",
    "(feature_matrix, output) = get_numpy_data(train_data, model_features, my_output)\n",
    "initial_weights = np.array([-100000., 1., 1.])\n",
    "step_size = 4e-12\n",
    "tolerance = 1e9"
   ]
  },
  {
   "cell_type": "markdown",
   "metadata": {},
   "source": [
    "Use the above parameters to estimate the model weights. Record these values for your quiz."
   ]
  },
  {
   "cell_type": "code",
   "execution_count": 24,
   "metadata": {
    "collapsed": false
   },
   "outputs": [
    {
     "name": "stdout",
     "output_type": "stream",
     "text": [
      "('derivative: ', -22088131390.0)\n",
      "('derivative: ', -54224145631292.0)\n",
      "('derivative: ', -48982259337070.0)\n",
      "('derivative: ', 7126218409.3133125)\n",
      "('derivative: ', 16207005089053.738)\n",
      "('derivative: ', 15855847003333.41)\n",
      "('derivative: ', -1941371779.9857597)\n",
      "('derivative: ', -5623334132788.248)\n",
      "('derivative: ', -4270003465181.7422)\n",
      "('derivative: ', 864671224.14980555)\n",
      "('derivative: ', 1161691583876.3477)\n",
      "('derivative: ', 1956834759468.6152)\n",
      "('derivative: ', -11846421.795223899)\n",
      "('derivative: ', -928924532385.92432)\n",
      "('derivative: ', 10520528506.526085)\n",
      "('derivative: ', 253961437.69448763)\n",
      "('derivative: ', -267010493600.87973)\n",
      "('derivative: ', 599537128253.51807)\n",
      "('derivative: ', 165610625.449938)\n",
      "('derivative: ', -459137878334.35248)\n",
      "('derivative: ', 402546257132.78748)\n",
      "('derivative: ', 187245405.40393698)\n",
      "('derivative: ', -386689337854.08203)\n",
      "('derivative: ', 449681823945.58026)\n",
      "('derivative: ', 174904044.13970122)\n",
      "('derivative: ', -396606422957.76379)\n",
      "('derivative: ', 421430725824.29004)\n",
      "('derivative: ', 173234286.77839768)\n",
      "('derivative: ', -381274935306.09467)\n",
      "('derivative: ', 416884889043.36084)\n",
      "('derivative: ', 168385074.25655639)\n",
      "('derivative: ', -374065293967.80396)\n",
      "('derivative: ', 405302411296.5365)\n",
      "('derivative: ', 164649339.05329686)\n",
      "('derivative: ', -364620472136.98022)\n",
      "('derivative: ', 396210671100.01215)\n",
      "('derivative: ', 160692569.23025313)\n",
      "('derivative: ', -356146056912.30707)\n",
      "('derivative: ', 386647354676.2583)\n",
      "('derivative: ', 156925725.6940234)\n",
      "('derivative: ', -347641231743.64081)\n",
      "('derivative: ', 377524109203.79443)\n",
      "('derivative: ', 153218465.64946491)\n",
      "('derivative: ', -339409989019.28308)\n",
      "('derivative: ', 368551208365.09296)\n",
      "('derivative: ', 149608404.70810819)\n",
      "('derivative: ', -331351775524.40833)\n",
      "('derivative: ', 359811707746.73743)\n",
      "('derivative: ', 146081131.413892)\n",
      "('derivative: ', -323491660105.31372)\n",
      "('derivative: ', 351273202834.61884)\n",
      "('derivative: ', 142638436.0815562)\n",
      "('derivative: ', -315815893998.17627)\n",
      "('derivative: ', 342939257715.59662)\n",
      "('derivative: ', 139277147.47997385)\n",
      "('derivative: ', -308322909788.44592)\n",
      "('derivative: ', 334802434399.63293)\n",
      "('derivative: ', 135995695.31168687)\n",
      "('derivative: ', -301007500274.44397)\n",
      "('derivative: ', 326858857535.27557)\n",
      "('derivative: ', 132792073.32982863)\n",
      "('derivative: ', -293865722248.39899)\n",
      "('derivative: ', 319103693470.84601)\n",
      "('derivative: ', 129664469.65754707)\n",
      "('derivative: ', -286893372340.87451)\n",
      "('derivative: ', 311532548982.89655)\n",
      "('derivative: ', 126611069.88537177)\n",
      "('derivative: ', -280086456621.96448)\n",
      "('derivative: ', 304141034050.69843)\n",
      "('derivative: ', 123630116.77200878)\n",
      "('derivative: ', -273441041895.69672)\n",
      "('derivative: ', 296924894148.45978)\n",
      "('derivative: ', 120719890.38987744)\n",
      "('derivative: ', -266953298840.10519)\n",
      "('derivative: ', 289879965975.40192)\n",
      "('derivative: ', 117878712.9771333)\n",
      "('derivative: ', -260619485715.47842)\n",
      "('derivative: ', 283002188024.93567)\n",
      "('derivative: ', 115104946.15773232)\n",
      "('derivative: ', -254435950575.0166)\n",
      "('derivative: ', 276287594219.99335)\n",
      "('derivative: ', 112396990.55889139)\n",
      "('derivative: ', -248399127804.18475)\n",
      "('derivative: ', 269732312873.8288)\n",
      "('derivative: ', 109753284.71449876)\n",
      "('derivative: ', -242505536484.93106)\n",
      "('derivative: ', 263332564070.5498)\n",
      "('derivative: ', 107172304.21881178)\n",
      "('derivative: ', -236751778258.22552)\n",
      "('derivative: ', 257084657605.54669)\n",
      "('derivative: ', 104652560.83069253)\n",
      "('derivative: ', -231134535404.90399)\n",
      "('derivative: ', 250984990820.44885)\n",
      "('derivative: ', 102192601.62067132)\n",
      "('derivative: ', -225650568920.05603)\n",
      "('derivative: ', 245030046537.32767)\n",
      "('derivative: ', 99791008.131528705)\n",
      "('derivative: ', -220296716649.28729)\n",
      "('derivative: ', 239216391027.00674)\n",
      "('derivative: ', 97446395.560899198)\n",
      "('derivative: ', -215069891464.13574)\n",
      "('derivative: ', 233540672030.24661)\n",
      "('derivative: ', 95157411.962619126)\n",
      "('derivative: ', -209967079482.3313)\n",
      "('derivative: ', 227999616824.43839)\n",
      "('derivative: ', 92922737.467208177)\n",
      "('derivative: ', -204985338329.85132)\n",
      "('derivative: ', 222590030336.57767)\n",
      "('derivative: ', 90741083.520789653)\n",
      "('derivative: ', -200121795444.33676)\n",
      "('derivative: ', 217308793300.8847)\n",
      "('derivative: ', 88611192.142113537)\n",
      "('derivative: ', -195373646418.6561)\n",
      "('derivative: ', 212152860460.23926)\n",
      "('derivative: ', 86531835.197150052)\n",
      "('derivative: ', -190738153383.91095)\n",
      "('derivative: ', 207119258810.15784)\n",
      "('derivative: ', 84501813.690951884)\n",
      "('derivative: ', -186212643430.66672)\n",
      "('derivative: ', 202205085884.56702)\n",
      "('derivative: ', 82519957.076278418)\n",
      "('derivative: ', -181794507067.73584)\n",
      "('derivative: ', 197407508082.15689)\n",
      "('derivative: ', 80585122.578640133)\n",
      "('derivative: ', -177481196717.49261)\n",
      "('derivative: ', 192723759032.48264)\n",
      "('derivative: ', 78696194.537351385)\n",
      "('derivative: ', -173270225246.89795)\n",
      "('derivative: ', 188151138000.8197)\n",
      "('derivative: ', 76852083.76222302)\n",
      "('derivative: ', -169159164533.36664)\n",
      "('derivative: ', 183687008330.87671)\n",
      "('derivative: ', 75051726.90551959)\n",
      "('derivative: ', -165145644064.65894)\n",
      "('derivative: ', 179328795924.46094)\n",
      "('derivative: ', 73294085.848801672)\n",
      "('derivative: ', -161227349572.03064)\n",
      "('derivative: ', 175073987757.17929)\n",
      "('derivative: ', 71578147.104343906)\n",
      "('derivative: ', -157402021695.74176)\n",
      "('derivative: ', 170920130429.41895)\n",
      "('derivative: ', 69902921.230725393)\n",
      "('derivative: ', -153667454682.30463)\n",
      "('derivative: ', 166864828751.64066)\n",
      "('derivative: ', 68267442.262304172)\n",
      "('derivative: ', -150021495112.59763)\n",
      "('derivative: ', 162905744363.27936)\n",
      "('derivative: ', 66670767.152231827)\n",
      "('derivative: ', -146462040660.14264)\n",
      "('derivative: ', 159040594384.41922)\n",
      "('derivative: ', 65111975.228663899)\n",
      "('derivative: ', -142987038878.89447)\n",
      "('derivative: ', 155267150099.41901)\n",
      "('derivative: ', 63590167.663891375)\n",
      "('derivative: ', -139594486019.74677)\n",
      "('derivative: ', 151583235671.81079)\n",
      "('derivative: ', 62104466.956056155)\n",
      "('derivative: ', -136282425875.14047)\n",
      "('derivative: ', 147986726889.66333)\n",
      "('derivative: ', 60654016.423169903)\n",
      "('derivative: ', -133048948651.07574)\n",
      "('derivative: ', 144475549940.72928)\n",
      "('derivative: ', 59237979.709135406)\n",
      "('derivative: ', -129892189865.89221)\n",
      "('derivative: ', 141047680216.64548)\n",
      "('derivative: ', 57855540.301489666)\n",
      "('derivative: ', -126810329275.16713)\n",
      "('derivative: ', 137701141145.51083)\n",
      "('derivative: ', 56505901.060580648)\n",
      "('derivative: ', -123801589822.15251)\n",
      "('derivative: ', 134434003052.14146)\n",
      "('derivative: ', 55188283.759933986)\n",
      "('derivative: ', -120864236613.05927)\n",
      "('derivative: ', 131244382045.41345)\n",
      "('derivative: ', 53901928.637506947)\n",
      "('derivative: ', -117996575916.70384)\n",
      "('derivative: ', 128130438931.96014)\n",
      "('derivative: ', 52646093.957590982)\n",
      "('derivative: ', -115196954187.88351)\n",
      "('derivative: ', 125090378155.6507)\n",
      "('derivative: ', 51420055.583124466)\n",
      "('derivative: ', -112463757113.88544)\n",
      "('derivative: ', 122122446762.26321)\n",
      "('derivative: ', 50223106.55813197)\n",
      "('derivative: ', -109795408683.66847)\n",
      "('derivative: ', 119224933388.67889)\n",
      "('derivative: ', 49054556.700087756)\n",
      "('derivative: ', -107190370279.09021)\n",
      "('derivative: ', 116396167276.09195)\n",
      "('derivative: ', 47913732.201942727)\n",
      "('derivative: ', -104647139787.71475)\n",
      "('derivative: ', 113634517306.61937)\n",
      "('derivative: ', 46799975.243589073)\n",
      "('derivative: ', -102164250736.68198)\n",
      "('derivative: ', 110938391062.75412)\n",
      "('derivative: ', 45712643.612556875)\n",
      "('derivative: ', -99740271447.093201)\n",
      "('derivative: ', 108306233909.16623)\n",
      "('derivative: ', 44651110.333697617)\n",
      "('derivative: ', -97373804208.493591)\n",
      "('derivative: ', 105736528096.25925)\n",
      "('derivative: ', 43614763.307662457)\n",
      "('derivative: ', -95063484472.916016)\n",
      "('derivative: ', 103227791885.01706)\n",
      "('derivative: ', 42603004.95795355)\n",
      "('derivative: ', -92807980068.062164)\n",
      "('derivative: ', 100778578692.60423)\n",
      "('derivative: ', 41615251.886348918)\n",
      "('derivative: ', -90605990429.152679)\n",
      "('derivative: ', 98387476258.233612)\n",
      "('derivative: ', 40650934.536508597)\n",
      "('derivative: ', -88456245848.983673)\n",
      "('derivative: ', 96053105828.844742)\n",
      "('derivative: ', 39709496.865547776)\n",
      "('derivative: ', -86357506745.820984)\n",
      "('derivative: ', 93774121364.063583)\n",
      "('derivative: ', 38790396.023429498)\n",
      "('derivative: ', -84308562948.590607)\n",
      "('derivative: ', 91549208760.089905)\n",
      "('derivative: ', 37893102.039930716)\n",
      "('derivative: ', -82308232999.110947)\n",
      "('derivative: ', 89377085091.925308)\n",
      "('derivative: ', 37017097.519059554)\n",
      "('derivative: ', -80355363470.828278)\n",
      "('derivative: ', 87256497873.629822)\n",
      "('derivative: ', 36161877.340721108)\n",
      "('derivative: ', -78448828303.712692)\n",
      "('derivative: ', 85186224336.131973)\n",
      "('derivative: ', 35326948.369440071)\n",
      "('derivative: ', -76587528154.991089)\n",
      "('derivative: ', 83165070722.119232)\n",
      "('derivative: ', 34511829.170025013)\n",
      "('derivative: ', -74770389765.210022)\n",
      "('derivative: ', 81191871597.731094)\n",
      "('derivative: ', 33716049.729964301)\n",
      "('derivative: ', -72996365339.373169)\n",
      "('derivative: ', 79265489180.549713)\n",
      "('derivative: ', 32939151.188385472)\n",
      "('derivative: ', -71264431942.821152)\n",
      "('derivative: ', 77384812683.482162)\n",
      "('derivative: ', 32180685.57150504)\n",
      "('derivative: ', -69573590911.295853)\n",
      "('derivative: ', 75548757674.343353)\n",
      "('derivative: ', 31440215.534283735)\n",
      "('derivative: ', -67922867275.179337)\n",
      "('derivative: ', 73756265450.474915)\n",
      "('derivative: ', 30717314.10826657)\n",
      "('derivative: ', -66311309197.25679)\n",
      "('derivative: ', 72006302428.326508)\n",
      "('derivative: ', 30011564.45537642)\n",
      "('derivative: ', -64737987423.889572)\n",
      "('derivative: ', 70297859547.452026)\n",
      "('derivative: ', 29322559.627565645)\n",
      "('derivative: ', -63201994749.173859)\n",
      "('derivative: ', 68629951688.683708)\n",
      "('derivative: ', 28649902.332145393)\n",
      "('derivative: ', -61702445491.867897)\n",
      "('derivative: ', 67001617106.060944)\n",
      "('derivative: ', 27993204.702723734)\n",
      "('derivative: ', -60238474984.634659)\n",
      "('derivative: ', 65411916872.319511)\n",
      "('derivative: ', 27352088.075530618)\n",
      "('derivative: ', -58809239075.517883)\n",
      "('derivative: ', 63859934337.437721)\n",
      "('derivative: ', 26726182.771091681)\n",
      "('derivative: ', -57413913641.142921)\n",
      "('derivative: ', 62344774600.119102)\n",
      "('derivative: ', 26115127.88105534)\n",
      "('derivative: ', -56051694111.538048)\n",
      "('derivative: ', 60865563991.75563)\n",
      "('derivative: ', 25518571.060089257)\n",
      "('derivative: ', -54721795006.192123)\n",
      "('derivative: ', 59421449572.662811)\n",
      "('derivative: ', 24936168.322708122)\n",
      "('derivative: ', -53423449481.146698)\n",
      "('derivative: ', 58011598640.247505)\n",
      "('derivative: ', 24367583.84492911)\n",
      "('derivative: ', -52155908886.805565)\n",
      "('derivative: ', 56635198248.869041)\n",
      "('derivative: ', 23812489.770634685)\n",
      "('derivative: ', -50918442336.243134)\n",
      "('derivative: ', 55291454741.088295)\n",
      "('derivative: ', 23270566.022509608)\n",
      "('derivative: ', -49710336283.7939)\n",
      "('derivative: ', 53979593289.996887)\n",
      "('derivative: ', 22741500.117494293)\n",
      "('derivative: ', -48530894113.571922)\n",
      "('derivative: ', 52698857452.475502)\n",
      "('derivative: ', 22224986.986589152)\n",
      "('derivative: ', -47379435737.822372)\n",
      "('derivative: ', 51448508732.984039)\n",
      "('derivative: ', 21720728.798961602)\n",
      "('derivative: ', -46255297204.729324)\n",
      "('derivative: ', 50227826157.768021)\n",
      "('derivative: ', 21228434.790189646)\n",
      "('derivative: ', -45157830315.623802)\n",
      "('derivative: ', 49036105859.083275)\n",
      "('derivative: ', 20747821.094622537)\n",
      "('derivative: ', -44086402251.170502)\n",
      "('derivative: ', 47872660669.3797)\n",
      "('derivative: ', 20278610.581687134)\n",
      "('derivative: ', -43040395206.500168)\n",
      "('derivative: ', 46736819725.04055)\n",
      "('derivative: ', 19820532.696096636)\n",
      "('derivative: ', -42019206034.955124)\n",
      "('derivative: ', 45627928079.567673)\n",
      "('derivative: ', 19373323.301828317)\n",
      "('derivative: ', -41022245900.338608)\n",
      "('derivative: ', 44545346325.894318)\n",
      "('derivative: ', 18936724.529840745)\n",
      "('derivative: ', -40048939937.330467)\n",
      "('derivative: ', 43488450227.740105)\n",
      "('derivative: ', 18510484.629365124)\n",
      "('derivative: ', -39098726920.043915)\n",
      "('derivative: ', 42456630359.630806)\n",
      "('derivative: ', 18094357.822746284)\n",
      "('derivative: ', -38171058938.405426)\n",
      "('derivative: ', 41449291755.500595)\n",
      "('derivative: ', 17688104.163718458)\n",
      "('derivative: ', -37265401082.226013)\n",
      "('derivative: ', 40465853565.617271)\n",
      "('derivative: ', 17291489.399061024)\n",
      "('derivative: ', -36381231132.735291)\n",
      "('derivative: ', 39505748721.680511)\n",
      "('derivative: ', 16904284.833508208)\n",
      "('derivative: ', -35518039261.493103)\n",
      "('derivative: ', 38568423609.805801)\n",
      "('derivative: ', 16526267.197883036)\n",
      "('derivative: ', -34675327736.40889)\n",
      "('derivative: ', 37653337751.310265)\n",
      "('derivative: ', 16157218.520369841)\n",
      "('derivative: ', -33852610634.704544)\n",
      "('derivative: ', 36759963491.092239)\n",
      "('derivative: ', 15796926.000805588)\n",
      "('derivative: ', -33049413562.776566)\n",
      "('derivative: ', 35887785693.325096)\n",
      "('derivative: ', 15445181.887996767)\n",
      "('derivative: ', -32265273382.603088)\n",
      "('derivative: ', 35036301444.469917)\n",
      "('derivative: ', 15101783.359904997)\n",
      "('derivative: ', -31499737944.737305)\n",
      "('derivative: ', 34205019763.238953)\n",
      "('derivative: ', 14766532.406717217)\n",
      "('derivative: ', -30752365827.541458)\n",
      "('derivative: ', 33393461317.532784)\n",
      "('derivative: ', 14439235.716657445)\n",
      "('derivative: ', -30022726082.685089)\n",
      "('derivative: ', 32601158148.020988)\n",
      "('derivative: ', 14119704.564521722)\n",
      "('derivative: ', -29310397986.646072)\n",
      "('derivative: ', 31827653398.316269)\n",
      "('derivative: ', 13807754.702854782)\n",
      "('derivative: ', -28614970798.116898)\n",
      "('derivative: ', 31072501051.535851)\n",
      "('derivative: ', 13503206.255710518)\n",
      "('derivative: ', -27936043521.161057)\n",
      "('derivative: ', 30335265673.125816)\n",
      "('derivative: ', 13205883.614936776)\n",
      "('derivative: ', -27273224673.982117)\n",
      "('derivative: ', 29615522159.789169)\n",
      "('derivative: ', 12915615.338911224)\n",
      "('derivative: ', -26626132063.197723)\n",
      "('derivative: ', 28912855494.354065)\n",
      "('derivative: ', 12632234.053683067)\n",
      "('derivative: ', -25994392563.468842)\n",
      "('derivative: ', 28226860506.461983)\n",
      "('derivative: ', 12355576.356467318)\n",
      "('derivative: ', -25377641902.332428)\n",
      "('derivative: ', 27557141638.949219)\n",
      "('derivative: ', 12085482.721423544)\n",
      "('derivative: ', -24775524450.159637)\n",
      "('derivative: ', 26903312719.763451)\n",
      "('derivative: ', 11821797.40766599)\n",
      "('derivative: ', -24187693015.100662)\n",
      "('derivative: ', 26264996739.279083)\n",
      "('derivative: ', 11564368.369468074)\n",
      "('derivative: ', -23613808642.872284)\n",
      "('derivative: ', 25641825632.921394)\n",
      "('derivative: ', 11313047.168577593)\n",
      "('derivative: ', -23053540421.337234)\n",
      "('derivative: ', 25033440068.910652)\n",
      "('derivative: ', 11067688.888639065)\n",
      "('derivative: ', -22506565289.663666)\n",
      "('derivative: ', 24439489241.092323)\n",
      "('derivative: ', 10828152.051620103)\n",
      "('derivative: ', -21972567852.068573)\n",
      "('derivative: ', 23859630666.63166)\n",
      "('derivative: ', 10594298.5362453)\n",
      "('derivative: ', -21451240195.925171)\n",
      "('derivative: ', 23293529988.559311)\n",
      "('derivative: ', 10365993.498336108)\n",
      "('derivative: ', -20942281714.255951)\n",
      "('derivative: ', 22740860782.937599)\n",
      "('derivative: ', 10143105.293076359)\n",
      "('derivative: ', -20445398932.350189)\n",
      "('derivative: ', 22201304370.680305)\n",
      "('derivative: ', 9925505.3990870491)\n",
      "('derivative: ', -19960305338.582657)\n",
      "('derivative: ', 21674549633.7612)\n",
      "('derivative: ', 9713068.3443266824)\n",
      "('derivative: ', -19486721219.184357)\n",
      "('derivative: ', 21160292835.834503)\n",
      "('derivative: ', 9505671.6337414086)\n",
      "('derivative: ', -19024373496.955994)\n",
      "('derivative: ', 20658237447.0961)\n",
      "('derivative: ', 9303195.67863499)\n",
      "('derivative: ', -18572995573.80014)\n",
      "('derivative: ', 20168093973.302696)\n",
      "('derivative: ', 9105523.7277020887)\n",
      "('derivative: ', -18132327177.019119)\n",
      "('derivative: ', 19689579788.824158)\n",
      "('derivative: ', 8912541.7997181844)\n",
      "('derivative: ', -17702114209.21109)\n",
      "('derivative: ', 19222418973.701523)\n",
      "('derivative: ', 8724138.6178053766)\n",
      "('derivative: ', -17282108601.778015)\n",
      "('derivative: ', 18766342154.520226)\n",
      "('derivative: ', 8540205.5452780779)\n",
      "('derivative: ', -16872068171.861359)\n",
      "('derivative: ', 18321086349.109489)\n",
      "('derivative: ', 8360636.5230002701)\n",
      "('derivative: ', -16471756482.696106)\n",
      "('derivative: ', 17886394814.898857)\n",
      "('derivative: ', 8185328.0082176328)\n",
      "('derivative: ', -16080942707.307587)\n",
      "('derivative: ', 17462016900.848007)\n",
      "('derivative: ', 8014178.9148689695)\n",
      "('derivative: ', -15699401495.374161)\n",
      "('derivative: ', 17047707902.953796)\n",
      "('derivative: ', 7847090.5552897006)\n",
      "('derivative: ', -15326912843.303268)\n",
      "('derivative: ', 16643228923.129562)\n",
      "('derivative: ', 7683966.5833052061)\n",
      "('derivative: ', -14963261967.382584)\n",
      "('derivative: ', 16248346731.449692)\n",
      "('derivative: ', 7524712.9386792686)\n",
      "('derivative: ', -14608239179.917892)\n",
      "('derivative: ', 15862833631.671967)\n",
      "('derivative: ', 7369237.7928823866)\n",
      "('derivative: ', -14261639768.315552)\n",
      "('derivative: ', 15486467329.954285)\n",
      "('derivative: ', 7217451.4961256478)\n",
      "('derivative: ', -13923263877.077988)\n",
      "('derivative: ', 15119030806.642921)\n",
      "('derivative: ', 7069266.5256882291)\n",
      "('derivative: ', -13592916392.511993)\n",
      "('derivative: ', 14760312191.17878)\n",
      "('derivative: ', 6924597.4354348201)\n",
      "('derivative: ', -13270406830.261642)\n",
      "('derivative: ', 14410104639.897743)\n",
      "('derivative: ', 6783360.8065462224)\n",
      "('derivative: ', -12955549225.468628)\n",
      "('derivative: ', 14068206216.75959)\n",
      "('derivative: ', 6645475.1994306408)\n",
      "('derivative: ', -12648162025.513519)\n",
      "('derivative: ', 13734419776.935532)\n",
      "('derivative: ', 6510861.1067510024)\n",
      "('derivative: ', -12348067985.359909)\n",
      "('derivative: ', 13408552853.103279)\n",
      "('derivative: ', 6379440.9075840153)\n",
      "('derivative: ', -12055094065.344116)\n",
      "('derivative: ', 13090417544.473373)\n",
      "('derivative: ', 6251138.8226720691)\n",
      "('derivative: ', -11769071331.368515)\n",
      "('derivative: ', 12779830408.467216)\n",
      "('derivative: ', 6125880.870704893)\n",
      "('derivative: ', -11489834857.551086)\n",
      "('derivative: ', 12476612354.88723)\n",
      "('derivative: ', 6003594.8256838229)\n",
      "('derivative: ', -11217223631.068542)\n",
      "('derivative: ', 12180588542.704407)\n",
      "('derivative: ', 5884210.1752687152)\n",
      "('derivative: ', -10951080459.327896)\n",
      "('derivative: ', 11891588279.224876)\n",
      "('derivative: ', 5767658.0801053699)\n",
      "('derivative: ', -10691251879.358719)\n",
      "('derivative: ', 11609444921.638451)\n",
      "('derivative: ', 5653871.3341519255)\n",
      "('derivative: ', -10437588069.278152)\n",
      "('derivative: ', 11333995780.971466)\n",
      "('derivative: ', 5542784.3259134497)\n",
      "('derivative: ', -10189942761.928024)\n",
      "('derivative: ', 11065082028.24852)\n",
      "('derivative: ', 5434333.0006098375)\n",
      "('derivative: ', -9948173160.5365601)\n",
      "('derivative: ', 10802548602.912788)\n",
      "('derivative: ', 5328454.8232512921)\n",
      "('derivative: ', -9712139856.3512573)\n",
      "('derivative: ', 10546244123.435905)\n",
      "('derivative: ', 5225088.7425634116)\n",
      "('derivative: ', -9481706748.2934875)\n",
      "('derivative: ', 10296020799.993835)\n",
      "('derivative: ', 5124175.1557972096)\n",
      "('derivative: ', -9256740964.4490967)\n",
      "('derivative: ', 10051734349.27832)\n",
      "('derivative: ', 5025655.8743532877)\n",
      "('derivative: ', -9037112785.4664917)\n",
      "('derivative: ', 9813243911.2847366)\n",
      "('derivative: ', 4929474.0902385134)\n",
      "('derivative: ', -8822695569.7402802)\n",
      "('derivative: ', 9580411968.107048)\n",
      "('derivative: ', 4835574.3432962447)\n",
      "('derivative: ', -8613365680.4172058)\n",
      "('derivative: ', 9353104264.6151505)\n",
      "('derivative: ', 4743902.4892338589)\n",
      "('derivative: ', -8409002414.0890808)\n",
      "('derivative: ', 9131189731.0561371)\n",
      "('derivative: ', 4654405.668407809)\n",
      "('derivative: ', -8209487931.1795502)\n",
      "('derivative: ', 8914540407.4885864)\n",
      "('derivative: ', 4567032.2753343582)\n",
      "('derivative: ', -8014707188.0179138)\n",
      "('derivative: ', 8703031369.9786148)\n",
      "('derivative: ', 4481731.9289345909)\n",
      "('derivative: ', -7824547870.4985352)\n",
      "('derivative: ', 8496540658.5697098)\n",
      "('derivative: ', 4398455.4434930086)\n",
      "('derivative: ', -7638900329.2962494)\n",
      "('derivative: ', 8294949206.9793167)\n",
      "('derivative: ', 4317154.800281642)\n",
      "('derivative: ', -7457657516.6767273)\n",
      "('derivative: ', 8098140773.9099503)\n",
      "('derivative: ', 4237783.1198829506)\n",
      "('derivative: ', -7280714924.7427368)\n",
      "('derivative: ', 7906001876.0481873)\n",
      "('derivative: ', 4160294.6351543609)\n",
      "('derivative: ', -7107970525.1822968)\n",
      "('derivative: ', 7718421722.6203537)\n",
      "('derivative: ', 4084644.6648376863)\n",
      "('derivative: ', -6939324710.436676)\n",
      "('derivative: ', 7535292151.5051117)\n",
      "('derivative: ', 4010789.5877930112)\n",
      "('derivative: ', -6774680236.2751007)\n",
      "('derivative: ', 7356507566.8630066)\n",
      "('derivative: ', 3938686.8178527728)\n",
      "('derivative: ', -6613942165.6978302)\n",
      "('derivative: ', 7181964878.2619629)\n",
      "('derivative: ', 3868294.7792577315)\n",
      "('derivative: ', -6457017814.2203522)\n",
      "('derivative: ', 7011563441.2162933)\n",
      "('derivative: ', 3799572.8826892264)\n",
      "('derivative: ', -6303816696.4130249)\n",
      "('derivative: ', 6845204999.1643906)\n",
      "('derivative: ', 3732481.5018655155)\n",
      "('derivative: ', -6154250473.7230682)\n",
      "('derivative: ', 6682793626.8156052)\n",
      "('derivative: ', 3666981.9506796971)\n",
      "('derivative: ', -6008232903.5685425)\n",
      "('derivative: ', 6524235674.8086166)\n",
      "('derivative: ', 3603036.4609188102)\n",
      "('derivative: ', -5865679789.546936)\n",
      "('derivative: ', 6369439715.7698135)\n",
      "('derivative: ', 3540608.1604546495)\n",
      "('derivative: ', -5726508932.9605103)\n",
      "('derivative: ', 6218316491.5250244)\n",
      "('derivative: ', 3479661.0520083848)\n",
      "('derivative: ', -5590640085.3565521)\n",
      "('derivative: ', 6070778861.6891785)\n",
      "('derivative: ', 3420159.9923758339)\n",
      "('derivative: ', -5457994902.3002472)\n",
      "('derivative: ', 5926741753.379715)\n",
      "('derivative: ', 3362070.6721759476)\n",
      "('derivative: ', -5328496898.1667175)\n",
      "('derivative: ', 5786122112.1884384)\n",
      "('derivative: ', 3305359.5960605443)\n",
      "('derivative: ', -5202071402.0570679)\n",
      "('derivative: ', 5648838854.2776031)\n",
      "('derivative: ', 3249994.0634032805)\n",
      "('derivative: ', -5078645514.7316589)\n",
      "('derivative: ', 5514812819.6321716)\n",
      "('derivative: ', 3195942.1494357064)\n",
      "('derivative: ', -4958148066.5972137)\n",
      "('derivative: ', 5383966726.3948822)\n",
      "('derivative: ', 3143172.6868612133)\n",
      "('derivative: ', -4840509576.6137238)\n",
      "('derivative: ', 5256225126.3551636)\n",
      "('derivative: ', 3091655.2478491925)\n",
      "('derivative: ', -4725662212.3145905)\n",
      "('derivative: ', 5131514361.3672485)\n",
      "('derivative: ', 3041360.1265215985)\n",
      "('derivative: ', -4613539750.6146545)\n",
      "('derivative: ', 5009762520.9503326)\n",
      "('derivative: ', 2992258.3218055815)\n",
      "('derivative: ', -4504077539.6703033)\n",
      "('derivative: ', 4890899400.7802048)\n",
      "('derivative: ', 2944321.5207180977)\n",
      "('derivative: ', -4397212461.5827179)\n",
      "('derivative: ', 4774856462.2251129)\n",
      "('derivative: ', 2897522.0820378717)\n",
      "('derivative: ', -4292882896.0074158)\n",
      "('derivative: ', 4661566792.8205338)\n",
      "('derivative: ', 2851833.0203686301)\n",
      "('derivative: ', -4191028684.6205292)\n",
      "('derivative: ', 4550965067.6894455)\n",
      "('derivative: ', 2807227.9905729573)\n",
      "('derivative: ', -4091591096.4429321)\n",
      "('derivative: ', 4442987511.8618851)\n",
      "('derivative: ', 2763681.2725908607)\n",
      "('derivative: ', -3994512793.9525604)\n",
      "('derivative: ', 4337571863.5227432)\n",
      "('derivative: ', 2721167.7566050589)\n",
      "('derivative: ', -3899737800.0323944)\n",
      "('derivative: ', 4234657338.101181)\n",
      "('derivative: ', 2679662.9285561424)\n",
      "('derivative: ', -3807211465.7066956)\n",
      "('derivative: ', 4134184593.207489)\n",
      "('derivative: ', 2639142.8560151607)\n",
      "('derivative: ', -3716880438.6113586)\n",
      "('derivative: ', 4036095694.433609)\n",
      "('derivative: ', 2599584.1743827034)\n",
      "('derivative: ', -3628692632.2334137)\n",
      "('derivative: ', 3940334081.9426956)\n",
      "('derivative: ', 2560964.0734127909)\n",
      "('derivative: ', -3542597195.8828735)\n",
      "('derivative: ', 3846844537.8507996)\n",
      "('derivative: ', 2523260.2840606198)\n",
      "('derivative: ', -3458544485.3738708)\n",
      "('derivative: ', 3755573154.3853912)\n",
      "('derivative: ', 2486451.0656477269)\n",
      "('derivative: ', -3376486034.3804474)\n",
      "('derivative: ', 3666467302.8156281)\n",
      "('derivative: ', 2450515.1933180057)\n",
      "('derivative: ', -3296374526.5136261)\n",
      "('derivative: ', 3579475603.0879974)\n",
      "('derivative: ', 2415431.9458003566)\n",
      "('derivative: ', -3218163768.0306091)\n",
      "('derivative: ', 3494547894.2019577)\n",
      "('derivative: ', 2381181.0934714861)\n",
      "('derivative: ', -3141808661.1746674)\n",
      "('derivative: ', 3411635205.3126907)\n",
      "('derivative: ', 2347742.8866721876)\n",
      "('derivative: ', -3067265178.2155609)\n",
      "('derivative: ', 3330689727.4485779)\n",
      "('derivative: ', 2315098.0443355199)\n",
      "('derivative: ', -2994490336.0236664)\n",
      "('derivative: ', 3251664785.9819183)\n",
      "('derivative: ', 2283227.7428603135)\n",
      "('derivative: ', -2923442171.3061523)\n",
      "('derivative: ', 3174514813.6949997)\n",
      "('derivative: ', 2252113.6052628793)\n",
      "('derivative: ', -2854079716.3955841)\n",
      "('derivative: ', 3099195324.518364)\n",
      "('derivative: ', 2221737.6905691717)\n",
      "('derivative: ', -2786362975.6565704)\n",
      "('derivative: ', 3025662887.8545914)\n",
      "('derivative: ', 2192082.4834918901)\n",
      "('derivative: ', -2720252902.3659058)\n",
      "('derivative: ', 2953875103.5844116)\n",
      "('derivative: ', 2163130.8843016513)\n",
      "('derivative: ', -2655711376.2729797)\n",
      "('derivative: ', 2883790577.5524368)\n",
      "('derivative: ', 2134866.1989934631)\n",
      "('derivative: ', -2592701181.5512848)\n",
      "('derivative: ', 2815368897.7587357)\n",
      "('derivative: ', 2107272.1296419334)\n",
      "('derivative: ', -2531185985.3876648)\n",
      "('derivative: ', 2748570611.013298)\n",
      "('derivative: ', 2080332.7650188319)\n",
      "('derivative: ', -2471130316.9901276)\n",
      "('derivative: ', 2683357200.2226868)\n",
      "('derivative: ', 2054032.5713997725)\n",
      "('derivative: ', -2412499547.1860199)\n",
      "('derivative: ', 2619691062.1364594)\n",
      "('derivative: ', 2028356.383626977)\n",
      "('derivative: ', -2355259868.4016266)\n",
      "('derivative: ', 2557535485.7103958)\n",
      "('derivative: ', 2003289.396354625)\n",
      "('derivative: ', -2299378275.1947479)\n",
      "('derivative: ', 2496854630.9152679)\n",
      "('derivative: ', 1978817.1555075385)\n",
      "('derivative: ', -2244822545.2331238)\n",
      "('derivative: ', 2437613508.0604782)\n",
      "('derivative: ', 1954925.5499584638)\n",
      "('derivative: ', -2191561220.6863098)\n",
      "('derivative: ', 2379777957.6450958)\n",
      "('derivative: ', 1931600.8033784237)\n",
      "('derivative: ', -2139563590.1163788)\n",
      "('derivative: ', 2323314630.6328506)\n",
      "('derivative: ', 1908829.4663092028)\n",
      "('derivative: ', -2088799670.7327728)\n",
      "('derivative: ', 2268190969.2569809)\n",
      "('derivative: ', 1886598.4083891027)\n",
      "('derivative: ', -2039240191.1464386)\n",
      "('derivative: ', 2214375188.2053375)\n",
      "('derivative: ', 1864894.8107960373)\n",
      "('derivative: ', -1990856574.4588318)\n",
      "('derivative: ', 2161836256.3242722)\n",
      "('derivative: ', 1843706.1588497739)\n",
      "('derivative: ', -1943620921.7992554)\n",
      "('derivative: ', 2110543878.711792)\n",
      "('derivative: ', 1823020.234796863)\n",
      "('derivative: ', -1897505996.2342834)\n",
      "('derivative: ', 2060468479.2510147)\n",
      "('derivative: ', 1802825.1107655801)\n",
      "('derivative: ', -1852485207.0617523)\n",
      "('derivative: ', 2011581183.5557175)\n",
      "('derivative: ', 1783109.1418905109)\n",
      "('derivative: ', -1808532594.4742432)\n",
      "('derivative: ', 1963853802.3267593)\n",
      "('derivative: ', 1763860.959595453)\n",
      "('derivative: ', -1765622814.5958557)\n",
      "('derivative: ', 1917258815.0920563)\n",
      "('derivative: ', 1745069.4650350232)\n",
      "('derivative: ', -1723731124.8733978)\n",
      "('derivative: ', 1871769354.3313904)\n",
      "('derivative: ', 1726723.822702283)\n",
      "('derivative: ', -1682833369.7947235)\n",
      "('derivative: ', 1827359189.9991379)\n",
      "('derivative: ', 1708813.4541719444)\n",
      "('derivative: ', -1642905966.9798279)\n",
      "('derivative: ', 1784002714.3810806)\n",
      "('derivative: ', 1691328.0320154764)\n",
      "('derivative: ', -1603925893.546524)\n",
      "('derivative: ', 1741674927.3623505)\n",
      "('derivative: ', 1674257.4738215227)\n",
      "('derivative: ', -1565870672.8964996)\n",
      "('derivative: ', 1700351421.9539642)\n",
      "('derivative: ', 1657591.9364114571)\n",
      "('derivative: ', -1528718361.6820221)\n",
      "('derivative: ', 1660008370.2881317)\n",
      "('derivative: ', 1641321.8101367205)\n",
      "('derivative: ', -1492447537.2195282)\n",
      "('derivative: ', 1620622509.8171921)\n",
      "('derivative: ', 1625437.7133567333)\n",
      "('derivative: ', -1457037285.0898895)\n",
      "('derivative: ', 1582171129.941391)\n",
      "('derivative: ', 1609930.4870261587)\n",
      "('derivative: ', -1422467187.0872955)\n",
      "('derivative: ', 1544632058.9079285)\n",
      "('derivative: ', 1594791.1893994138)\n",
      "('derivative: ', -1388717309.4795837)\n",
      "('derivative: ', 1507983650.9945297)\n",
      "('derivative: ', 1580011.0908924397)\n",
      "('derivative: ', -1355768191.4714203)\n",
      "('derivative: ', 1472204774.0674896)\n",
      "('derivative: ', 1565581.6690420583)\n",
      "('derivative: ', -1323600833.9989166)\n",
      "('derivative: ', 1437274797.3799133)\n",
      "('derivative: ', 1551494.6035876013)\n",
      "('derivative: ', -1292196688.7855682)\n",
      "('derivative: ', 1403173579.6681519)\n",
      "('derivative: ', 1537741.7716820948)\n",
      "('derivative: ', -1261537647.6262054)\n",
      "('derivative: ', 1369881457.556778)\n",
      "('derivative: ', 1524315.2432004083)\n",
      "('derivative: ', -1231606031.9632568)\n",
      "('derivative: ', 1337379234.2006836)\n",
      "('derivative: ', 1511207.2761692908)\n",
      "('derivative: ', -1202384582.6870728)\n",
      "('derivative: ', 1305648168.2252045)\n",
      "('derivative: ', 1498410.3123082649)\n",
      "('derivative: ', -1173856450.1728668)\n",
      "('derivative: ', 1274669962.9283524)\n",
      "('derivative: ', 1485916.9726608284)\n",
      "('derivative: ', -1146005184.5887451)\n",
      "('derivative: ', 1244426755.7071075)\n",
      "('derivative: ', 1473720.053351026)\n",
      "('derivative: ', -1118814726.3844452)\n",
      "('derivative: ', 1214901107.7845154)\n",
      "('derivative: ', 1461812.5214225724)\n",
      "('derivative: ', -1092269397.0474396)\n",
      "('derivative: ', 1186075994.1371307)\n",
      "('derivative: ', 1450187.5107831899)\n",
      "('derivative: ', -1066353890.0617828)\n",
      "('derivative: ', 1157934793.6775208)\n",
      "('derivative: ', 1438838.3182481881)\n",
      "('derivative: ', -1041053262.078537)\n",
      "('derivative: ', 1130461279.6768188)\n",
      "('derivative: ', 1427758.3996792827)\n",
      "('derivative: ', -1016352924.2871552)\n",
      "('derivative: ', 1103639610.4169235)\n",
      "('derivative: ', 1416941.3661989253)\n",
      "('derivative: ', -992238634.03271484)\n",
      "('derivative: ', 1077454320.0279846)\n",
      "('derivative: ', 1406380.9805176817)\n",
      "('derivative: ', -968696486.57843018)\n",
      "('derivative: ', 1051890309.5964966)\n",
      "('derivative: ', 1396071.1533369534)\n",
      "('derivative: ', -945712907.0856781)\n",
      "('derivative: ', 1026932838.4571686)\n",
      "('derivative: ', 1386005.9398265257)\n",
      "('derivative: ', -923274642.81900024)\n",
      "('derivative: ', 1002567515.6679688)\n",
      "('derivative: ', 1376179.5362166669)\n",
      "('derivative: ', -901368755.45091248)\n",
      "('derivative: ', 978780291.75631714)\n",
      "('derivative: ', 1366586.2764257882)\n",
      "('derivative: ', -879982613.66641235)\n",
      "('derivative: ', 955557450.56150818)\n",
      "('derivative: ', 1357220.6288208812)\n",
      "('derivative: ', -859103885.81268311)\n",
      "('derivative: ', 932885601.38568878)\n",
      "('derivative: ', 1348077.1930020247)\n",
      "('derivative: ', -838720532.84942627)\n",
      "('derivative: ', 910751671.21669006)\n",
      "('derivative: ', 1339150.6967091132)\n",
      "('derivative: ', -818820801.36056519)\n",
      "('derivative: ', 889142897.23361206)\n",
      "('derivative: ', 1330435.9927743822)\n",
      "('derivative: ', -799393216.78926086)\n",
      "('derivative: ', 868046819.43370056)\n",
      "('derivative: ', 1321928.0561414119)\n",
      "('derivative: ', -780426576.85832214)\n",
      "('derivative: ', 847451273.41798401)\n",
      "('derivative: ', 1313621.9809959102)\n",
      "('derivative: ', -761909945.03892517)\n",
      "('derivative: ', 827344383.43826294)\n",
      "('derivative: ', 1305512.9779076539)\n",
      "('derivative: ', -743832644.31707764)\n",
      "('derivative: ', 807714555.48553467)\n",
      "('derivative: ', 1297596.3710882198)\n",
      "('derivative: ', -726184250.98828125)\n",
      "('derivative: ', 788550470.64889526)\n",
      "('derivative: ', 1289867.5956850983)\n",
      "('derivative: ', -708954588.67355347)\n",
      "('derivative: ', 769841078.56581116)\n",
      "('derivative: ', 1282322.1951586865)\n",
      "('derivative: ', -692133722.42643738)\n",
      "('derivative: ', 751575591.07017517)\n",
      "('derivative: ', 1274955.818696158)\n",
      "('derivative: ', -675711953.04405212)\n",
      "('derivative: ', 733743475.93663788)\n",
      "model_2_weigths: [ -9.99999688e+04   2.45072603e+02   6.52795277e+01]\n"
     ]
    }
   ],
   "source": [
    "\n",
    "model_2_weights = regression_gradient_descent(feature_matrix, output, initial_weights, step_size, tolerance)\n",
    "print \"model_2_weigths: \" + str(model_2_weights)"
   ]
  },
  {
   "cell_type": "markdown",
   "metadata": {},
   "source": [
    "Use your newly estimated weights and the predict_output function to compute the predictions on the TEST data. Don't forget to create a numpy array for these features from the test set first!"
   ]
  },
  {
   "cell_type": "code",
   "execution_count": 23,
   "metadata": {
    "collapsed": false
   },
   "outputs": [
    {
     "name": "stdout",
     "output_type": "stream",
     "text": [
      "[ 366651.41203656  762662.39786164  386312.09499712 ...,  682087.39928241\n",
      "  585579.27865729  216559.20396617]\n"
     ]
    }
   ],
   "source": [
    "(test_model_2_feature_matrix, model_2_output) = get_numpy_data(test_data, model_features, my_output)\n",
    "test_model_2_predictions = predict_output(test_model_2_feature_matrix, model_2_weights)\n",
    "print test_model_2_predictions"
   ]
  },
  {
   "cell_type": "markdown",
   "metadata": {},
   "source": [
    "**Quiz Question: What is the predicted price for the 1st house in the TEST data set for model 2 (round to nearest dollar)?**"
   ]
  },
  {
   "cell_type": "code",
   "execution_count": 26,
   "metadata": {
    "collapsed": false
   },
   "outputs": [
    {
     "name": "stdout",
     "output_type": "stream",
     "text": [
      "[ 366651.41203656  762662.39786164  386312.09499712 ...,  682087.39928241\n",
      "  585579.27865729  216559.20396617]\n"
     ]
    }
   ],
   "source": [
    "print test_model_2_predictions"
   ]
  },
  {
   "cell_type": "markdown",
   "metadata": {},
   "source": [
    "What is the actual price for the 1st house in the test data set?"
   ]
  },
  {
   "cell_type": "code",
   "execution_count": 27,
   "metadata": {
    "collapsed": false
   },
   "outputs": [
    {
     "name": "stdout",
     "output_type": "stream",
     "text": [
      "[ 310000.  650000.  233000. ...,  610685.  400000.  402101.]\n"
     ]
    }
   ],
   "source": [
    "print model_2_output"
   ]
  },
  {
   "cell_type": "markdown",
   "metadata": {},
   "source": [
    "**Quiz Question: Which estimate was closer to the true price for the 1st house on the TEST data set, model 1 or model 2?**"
   ]
  },
  {
   "cell_type": "markdown",
   "metadata": {},
   "source": [
    "Now use your predictions and the output to compute the RSS for model 2 on TEST data."
   ]
  },
  {
   "cell_type": "code",
   "execution_count": 28,
   "metadata": {
    "collapsed": false
   },
   "outputs": [
    {
     "name": "stdout",
     "output_type": "stream",
     "text": [
      "2.70263446465e+14\n"
     ]
    }
   ],
   "source": [
    "diff_model_2 = test_model_2_predictions - model_2_output\n",
    "RSS_model_2 = (diff_model_2 ** 2).sum()\n",
    "print RSS_model_2"
   ]
  },
  {
   "cell_type": "markdown",
   "metadata": {},
   "source": [
    "**Quiz Question: Which model (1 or 2) has lowest RSS on all of the TEST data? **"
   ]
  },
  {
   "cell_type": "code",
   "execution_count": 29,
   "metadata": {
    "collapsed": false
   },
   "outputs": [
    {
     "name": "stdout",
     "output_type": "stream",
     "text": [
      "2.75400047593e+14\n"
     ]
    }
   ],
   "source": [
    "print RSS_simple"
   ]
  },
  {
   "cell_type": "code",
   "execution_count": null,
   "metadata": {
    "collapsed": true
   },
   "outputs": [],
   "source": []
  }
 ],
 "metadata": {
  "kernelspec": {
   "display_name": "Python 2",
   "language": "python",
   "name": "python2"
  },
  "language_info": {
   "codemirror_mode": {
    "name": "ipython",
    "version": 2
   },
   "file_extension": ".py",
   "mimetype": "text/x-python",
   "name": "python",
   "nbconvert_exporter": "python",
   "pygments_lexer": "ipython2",
   "version": "2.7.11"
  }
 },
 "nbformat": 4,
 "nbformat_minor": 0
}
