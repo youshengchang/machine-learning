{
 "cells": [
  {
   "cell_type": "markdown",
   "metadata": {},
   "source": [
    "# k-means with text data"
   ]
  },
  {
   "cell_type": "markdown",
   "metadata": {},
   "source": [
    "In this assignment you will\n",
    "* Cluster Wikipedia documents using k-means\n",
    "* Explore the role of random initialization on the quality of the clustering\n",
    "* Explore how results differ after changing the number of clusters\n",
    "* Evaluate clustering, both quantitatively and qualitatively\n",
    "\n",
    "When properly executed, clustering uncovers valuable insights from a set of unlabeled documents."
   ]
  },
  {
   "cell_type": "markdown",
   "metadata": {},
   "source": [
    "**Note to Amazon EC2 users**: To conserve memory, make sure to stop all the other notebooks before running this notebook."
   ]
  },
  {
   "cell_type": "markdown",
   "metadata": {},
   "source": [
    "## Import necessary packages"
   ]
  },
  {
   "cell_type": "markdown",
   "metadata": {},
   "source": [
    "The following code block will check if you have the correct version of GraphLab Create. Any version later than 1.8.5 will do. To upgrade, read [this page](https://turi.com/download/upgrade-graphlab-create.html)."
   ]
  },
  {
   "cell_type": "code",
   "execution_count": 1,
   "metadata": {
    "collapsed": false
   },
   "outputs": [
    {
     "name": "stderr",
     "output_type": "stream",
     "text": [
      "[INFO] graphlab.cython.cy_server: GraphLab Create v2.1 started. Logging: /tmp/graphlab_server_1502921840.log\n"
     ]
    },
    {
     "name": "stdout",
     "output_type": "stream",
     "text": [
      "This non-commercial license of GraphLab Create for academic use is assigned to changyousheng@yahoo.com and will expire on February 11, 2018.\n"
     ]
    }
   ],
   "source": [
    "import graphlab\n",
    "import matplotlib.pyplot as plt\n",
    "import numpy as np\n",
    "import sys\n",
    "import os\n",
    "from scipy.sparse import csr_matrix\n",
    "\n",
    "%matplotlib inline\n",
    "\n",
    "'''Check GraphLab Create version'''\n",
    "from distutils.version import StrictVersion\n",
    "assert (StrictVersion(graphlab.version) >= StrictVersion('1.8.5')), 'GraphLab Create must be version 1.8.5 or later.'"
   ]
  },
  {
   "cell_type": "markdown",
   "metadata": {},
   "source": [
    "## Load data, extract features"
   ]
  },
  {
   "cell_type": "markdown",
   "metadata": {},
   "source": [
    "To work with text data, we must first convert the documents into numerical features. As in the first assignment, let's extract TF-IDF features for each article."
   ]
  },
  {
   "cell_type": "code",
   "execution_count": 2,
   "metadata": {
    "collapsed": false
   },
   "outputs": [],
   "source": [
    "wiki = graphlab.SFrame('people_wiki.gl/')"
   ]
  },
  {
   "cell_type": "code",
   "execution_count": 3,
   "metadata": {
    "collapsed": false
   },
   "outputs": [],
   "source": [
    "wiki['tf_idf'] = graphlab.text_analytics.tf_idf(wiki['text'])"
   ]
  },
  {
   "cell_type": "markdown",
   "metadata": {},
   "source": [
    "For the remainder of the assignment, we will use sparse matrices. Sparse matrices are matrices that have a small number of nonzero entries. A good data structure for sparse matrices would only store the nonzero entries to save space and speed up computation. SciPy provides a highly-optimized library for sparse matrices. Many matrix operations available for NumPy arrays are also available for SciPy sparse matrices.\n",
    "\n",
    "We first convert the TF-IDF column (in dictionary format) into the SciPy sparse matrix format. We included plenty of comments for the curious; if you'd like, you may skip the next block and treat the function as a black box."
   ]
  },
  {
   "cell_type": "code",
   "execution_count": 4,
   "metadata": {
    "collapsed": false
   },
   "outputs": [],
   "source": [
    "def sframe_to_scipy(x, column_name):\n",
    "    '''\n",
    "    Convert a dictionary column of an SFrame into a sparse matrix format where\n",
    "    each (row_id, column_id, value) triple corresponds to the value of\n",
    "    x[row_id][column_id], where column_id is a key in the dictionary.\n",
    "       \n",
    "    Example\n",
    "    >>> sparse_matrix, map_key_to_index = sframe_to_scipy(sframe, column_name)\n",
    "    '''\n",
    "    assert x[column_name].dtype() == dict, \\\n",
    "        'The chosen column must be dict type, representing sparse data.'\n",
    "        \n",
    "    # Create triples of (row_id, feature_id, count).\n",
    "    # 1. Add a row number.\n",
    "    x = x.add_row_number()\n",
    "    # 2. Stack will transform x to have a row for each unique (row, key) pair.\n",
    "    x = x.stack(column_name, ['feature', 'value'])\n",
    "\n",
    "    # Map words into integers using a OneHotEncoder feature transformation.\n",
    "    f = graphlab.feature_engineering.OneHotEncoder(features=['feature'])\n",
    "    # 1. Fit the transformer using the above data.\n",
    "    f.fit(x)\n",
    "    # 2. The transform takes 'feature' column and adds a new column 'feature_encoding'.\n",
    "    x = f.transform(x)\n",
    "    # 3. Get the feature mapping.\n",
    "    mapping = f['feature_encoding']\n",
    "    # 4. Get the feature id to use for each key.\n",
    "    x['feature_id'] = x['encoded_features'].dict_keys().apply(lambda x: x[0])\n",
    "\n",
    "    # Create numpy arrays that contain the data for the sparse matrix.\n",
    "    i = np.array(x['id'])\n",
    "    j = np.array(x['feature_id'])\n",
    "    v = np.array(x['value'])\n",
    "    width = x['id'].max() + 1\n",
    "    height = x['feature_id'].max() + 1\n",
    "\n",
    "    # Create a sparse matrix.\n",
    "    mat = csr_matrix((v, (i, j)), shape=(width, height))\n",
    "\n",
    "    return mat, mapping"
   ]
  },
  {
   "cell_type": "code",
   "execution_count": 5,
   "metadata": {
    "collapsed": false
   },
   "outputs": [],
   "source": [
    "# The conversion will take about a minute or two.\n",
    "tf_idf, map_index_to_word = sframe_to_scipy(wiki, 'tf_idf')"
   ]
  },
  {
   "cell_type": "code",
   "execution_count": 6,
   "metadata": {
    "collapsed": false
   },
   "outputs": [
    {
     "data": {
      "text/plain": [
       "<59071x547979 sparse matrix of type '<type 'numpy.float64'>'\n",
       "\twith 10379283 stored elements in Compressed Sparse Row format>"
      ]
     },
     "execution_count": 6,
     "metadata": {},
     "output_type": "execute_result"
    }
   ],
   "source": [
    "tf_idf"
   ]
  },
  {
   "cell_type": "code",
   "execution_count": 6,
   "metadata": {
    "collapsed": false
   },
   "outputs": [
    {
     "data": {
      "text/plain": [
       "scipy.sparse.csr.csr_matrix"
      ]
     },
     "execution_count": 6,
     "metadata": {},
     "output_type": "execute_result"
    }
   ],
   "source": [
    "type(tf_idf)"
   ]
  },
  {
   "cell_type": "markdown",
   "metadata": {},
   "source": [
    "The above matrix contains a TF-IDF score for each of the 59071 pages in the data set and each of the 547979 unique words."
   ]
  },
  {
   "cell_type": "markdown",
   "metadata": {},
   "source": [
    "## Normalize all vectors"
   ]
  },
  {
   "cell_type": "markdown",
   "metadata": {},
   "source": [
    "As discussed in the previous assignment, Euclidean distance can be a poor metric of similarity between documents, as it unfairly penalizes long articles. For a reasonable assessment of similarity, we should disregard the length information and use length-agnostic metrics, such as cosine distance.\n",
    "\n",
    "The k-means algorithm does not directly work with cosine distance, so we take an alternative route to remove length information: we normalize all vectors to be unit length. It turns out that Euclidean distance closely mimics cosine distance when all vectors are unit length. In particular, the squared Euclidean distance between any two vectors of length one is directly proportional to their cosine distance.\n",
    "\n",
    "We can prove this as follows. Let $\\mathbf{x}$ and $\\mathbf{y}$ be normalized vectors, i.e. unit vectors, so that $\\|\\mathbf{x}\\|=\\|\\mathbf{y}\\|=1$. Write the squared Euclidean distance as the dot product of $(\\mathbf{x} - \\mathbf{y})$ to itself:\n",
    "\\begin{align*}\n",
    "\\|\\mathbf{x} - \\mathbf{y}\\|^2 &= (\\mathbf{x} - \\mathbf{y})^T(\\mathbf{x} - \\mathbf{y})\\\\\n",
    "                              &= (\\mathbf{x}^T \\mathbf{x}) - 2(\\mathbf{x}^T \\mathbf{y}) + (\\mathbf{y}^T \\mathbf{y})\\\\\n",
    "                              &= \\|\\mathbf{x}\\|^2 - 2(\\mathbf{x}^T \\mathbf{y}) + \\|\\mathbf{y}\\|^2\\\\\n",
    "                              &= 2 - 2(\\mathbf{x}^T \\mathbf{y})\\\\\n",
    "                              &= 2(1 - (\\mathbf{x}^T \\mathbf{y}))\\\\\n",
    "                              &= 2\\left(1 - \\frac{\\mathbf{x}^T \\mathbf{y}}{\\|\\mathbf{x}\\|\\|\\mathbf{y}\\|}\\right)\\\\\n",
    "                              &= 2\\left[\\text{cosine distance}\\right]\n",
    "\\end{align*}\n",
    "\n",
    "This tells us that two **unit vectors** that are close in Euclidean distance are also close in cosine distance. Thus, the k-means algorithm (which naturally uses Euclidean distances) on normalized vectors will produce the same results as clustering using cosine distance as a distance metric.\n",
    "\n",
    "We import the [`normalize()` function](http://scikit-learn.org/stable/modules/generated/sklearn.preprocessing.normalize.html) from scikit-learn to normalize all vectors to unit length."
   ]
  },
  {
   "cell_type": "code",
   "execution_count": 7,
   "metadata": {
    "collapsed": true
   },
   "outputs": [],
   "source": [
    "from sklearn.preprocessing import normalize\n",
    "tf_idf = normalize(tf_idf)"
   ]
  },
  {
   "cell_type": "markdown",
   "metadata": {},
   "source": [
    "## Implement k-means"
   ]
  },
  {
   "cell_type": "markdown",
   "metadata": {},
   "source": [
    "Let us implement the k-means algorithm. First, we choose an initial set of centroids. A common practice is to choose randomly from the data points.\n",
    "\n",
    "**Note:** We specify a seed here, so that everyone gets the same answer. In practice, we highly recommend to use different seeds every time (for instance, by using the current timestamp)."
   ]
  },
  {
   "cell_type": "code",
   "execution_count": 8,
   "metadata": {
    "collapsed": true
   },
   "outputs": [],
   "source": [
    "def get_initial_centroids(data, k, seed=None):\n",
    "    '''Randomly choose k data points as initial centroids'''\n",
    "    if seed is not None: # useful for obtaining consistent results\n",
    "        np.random.seed(seed)\n",
    "    n = data.shape[0] # number of data points\n",
    "        \n",
    "    # Pick K indices from range [0, N).\n",
    "    rand_indices = np.random.randint(0, n, k)\n",
    "    \n",
    "    # Keep centroids as dense format, as many entries will be nonzero due to averaging.\n",
    "    # As long as at least one document in a cluster contains a word,\n",
    "    # it will carry a nonzero weight in the TF-IDF vector of the centroid.\n",
    "    centroids = data[rand_indices,:].toarray()\n",
    "    \n",
    "    return centroids"
   ]
  },
  {
   "cell_type": "raw",
   "metadata": {
    "collapsed": true
   },
   "source": []
  },
  {
   "cell_type": "markdown",
   "metadata": {},
   "source": [
    "After initialization, the k-means algorithm iterates between the following two steps:\n",
    "1. Assign each data point to the closest centroid.\n",
    "$$\n",
    "z_i \\gets \\mathrm{argmin}_j \\|\\mu_j - \\mathbf{x}_i\\|^2\n",
    "$$\n",
    "2. Revise centroids as the mean of the assigned data points.\n",
    "$$\n",
    "\\mu_j \\gets \\frac{1}{n_j}\\sum_{i:z_i=j} \\mathbf{x}_i\n",
    "$$"
   ]
  },
  {
   "cell_type": "markdown",
   "metadata": {},
   "source": [
    "In pseudocode, we iteratively do the following:\n",
    "```\n",
    "cluster_assignment = assign_clusters(data, centroids)\n",
    "centroids = revise_centroids(data, k, cluster_assignment)\n",
    "```"
   ]
  },
  {
   "cell_type": "markdown",
   "metadata": {},
   "source": [
    "### Assigning clusters"
   ]
  },
  {
   "cell_type": "markdown",
   "metadata": {},
   "source": [
    "How do we implement Step 1 of the main k-means loop above? First import `pairwise_distances` function from scikit-learn, which calculates Euclidean distances between rows of given arrays. See [this documentation](http://scikit-learn.org/stable/modules/generated/sklearn.metrics.pairwise.pairwise_distances.html) for more information.\n",
    "\n",
    "For the sake of demonstration, let's look at documents 100 through 102 as query documents and compute the distances between each of these documents and every other document in the corpus. In the k-means algorithm, we will have to compute pairwise distances between the set of centroids and the set of documents."
   ]
  },
  {
   "cell_type": "code",
   "execution_count": 9,
   "metadata": {
    "collapsed": false
   },
   "outputs": [
    {
     "name": "stdout",
     "output_type": "stream",
     "text": [
      "[[ 1.41000789  1.36894636]\n",
      " [ 1.40935215  1.41023886]\n",
      " [ 1.39855967  1.40890299]\n",
      " ..., \n",
      " [ 1.41108296  1.39123646]\n",
      " [ 1.41022804  1.31468652]\n",
      " [ 1.39899784  1.41072448]]\n"
     ]
    }
   ],
   "source": [
    "from sklearn.metrics import pairwise_distances\n",
    "\n",
    "# Get the TF-IDF vectors for documents 100 through 102.\n",
    "queries = tf_idf[100:102,:]\n",
    "\n",
    "# Compute pairwise distances from every data point to each query vector.\n",
    "dist = pairwise_distances(tf_idf, queries, metric='euclidean')\n",
    "\n",
    "print dist\n",
    "#print tf_idf[0:1,:]"
   ]
  },
  {
   "cell_type": "markdown",
   "metadata": {},
   "source": [
    "More formally, `dist[i,j]` is assigned the distance between the `i`th row of `X` (i.e., `X[i,:]`) and the `j`th row of `Y` (i.e., `Y[j,:]`)."
   ]
  },
  {
   "cell_type": "markdown",
   "metadata": {},
   "source": [
    "**Checkpoint:** For a moment, suppose that we initialize three centroids with the first 3 rows of `tf_idf`. Write code to compute distances from each of the centroids to all data points in `tf_idf`. Then find the distance between row 430 of `tf_idf` and the second centroid and save it to `dist`."
   ]
  },
  {
   "cell_type": "code",
   "execution_count": 10,
   "metadata": {
    "collapsed": false
   },
   "outputs": [
    {
     "name": "stdout",
     "output_type": "stream",
     "text": [
      "[[ 1.40713107]]\n",
      "[[ 0.          1.40775177  1.38784582]\n",
      " [ 1.40775177  0.          1.39867641]\n",
      " [ 1.38784582  1.39867641  0.        ]\n",
      " ..., \n",
      " [ 1.37070999  1.40978937  1.40616385]\n",
      " [ 1.35214578  1.41306211  1.40869799]\n",
      " [ 1.40799024  1.41353429  1.40903605]]\n"
     ]
    }
   ],
   "source": [
    "# Students should write code here\n",
    "centroids = tf_idf[0:3,:]\n",
    "all_dist = pairwise_distances(tf_idf, centroids, metric='euclidean')\n",
    "dist = pairwise_distances(tf_idf[430,:], centroids[1,:], metric='euclidean')\n",
    "print dist\n",
    "print all_dist"
   ]
  },
  {
   "cell_type": "code",
   "execution_count": 11,
   "metadata": {
    "collapsed": false
   },
   "outputs": [
    {
     "name": "stdout",
     "output_type": "stream",
     "text": [
      "Pass\n"
     ]
    }
   ],
   "source": [
    "'''Test cell'''\n",
    "if np.allclose(dist, pairwise_distances(tf_idf[430,:], tf_idf[1,:])):\n",
    "    print('Pass')\n",
    "else:\n",
    "    print('Check your code again')"
   ]
  },
  {
   "cell_type": "markdown",
   "metadata": {},
   "source": [
    "**Checkpoint:** Next, given the pairwise distances, we take the minimum of the distances for each data point. Fittingly, NumPy provides an `argmin` function. See [this documentation](http://docs.scipy.org/doc/numpy-1.10.1/reference/generated/numpy.argmin.html) for details.\n",
    "\n",
    "Read the documentation and write code to produce a 1D array whose i-th entry indicates the centroid that is the closest to the i-th data point. Use the list of distances from the previous checkpoint and save them as `distances`. The value 0 indicates closeness to the first centroid, 1 indicates closeness to the second centroid, and so forth. Save this array as `closest_cluster`.\n",
    "\n",
    "**Hint:** the resulting array should be as long as the number of data points."
   ]
  },
  {
   "cell_type": "code",
   "execution_count": 12,
   "metadata": {
    "collapsed": false
   },
   "outputs": [
    {
     "name": "stdout",
     "output_type": "stream",
     "text": [
      "59071\n",
      "[0, 1, 2, 2, 2, 2, 2, 2, 2, 1, 2, 2, 2, 2, 2, 2, 1, 0, 2, 1, 2, 0, 0, 2, 2, 0, 0, 2, 0, 2, 0, 1, 1, 0, 0, 2, 2, 2, 2, 2, 0, 0, 0, 2, 2, 1, 2, 2, 0, 0, 2, 1, 2, 2, 0, 2, 2, 0, 2, 2, 0, 2, 2, 0, 2, 2, 2, 2, 2, 1, 0, 0, 1, 2, 0, 0, 2, 1, 0, 0, 1, 2, 1, 1, 0, 2, 1, 1, 1, 0, 2, 2, 0, 2, 0, 0, 2, 2, 2, 0, 2, 0, 0, 2, 1, 2, 0, 2, 2, 0, 0, 0, 2, 0, 0, 2, 2, 2, 0, 2, 2, 2, 0, 0, 2, 1, 2, 0, 2, 0, 2, 0, 0, 1, 0, 2, 0, 0, 2, 0, 1, 0, 2, 2, 2, 0, 1, 0, 2, 0, 0, 0, 0, 0, 1, 2, 2, 0, 1, 1, 0, 1, 2, 2, 2, 2, 1, 2, 1, 0, 2, 1, 1, 0, 0, 1, 0, 0, 0, 2, 0, 1, 0, 0, 2, 2, 1, 2, 0, 2, 1, 2, 2, 1, 2, 2, 2, 1, 0, 0, 0, 2, 0, 0, 0, 0, 1, 2, 1, 2, 1, 0, 0, 2, 2, 2, 2, 0, 1, 2, 2, 2, 2, 2, 1, 0, 1, 0, 2, 0, 2, 2, 2, 2, 2, 2, 2, 0, 2, 2, 2, 0, 0, 2, 2, 0, 0, 1, 2, 1, 0, 1, 1, 0, 2, 2, 1, 2, 0, 0, 0, 2, 0, 1, 0, 0, 0, 2, 2, 2, 0, 0, 1, 2, 1, 2, 0, 0, 1, 2, 1, 0, 1, 0, 1, 2, 0, 2, 0, 0, 1, 1, 1, 0, 0, 2, 1, 2, 0, 0, 2, 2, 2, 0, 0, 2, 2, 0, 0, 1, 0, 2, 0, 1, 0, 2, 2, 2, 2, 0, 2, 2, 2, 2, 2, 2, 2, 2, 0, 0, 1, 2, 2, 2, 0, 0, 2, 1, 2, 0, 0, 0, 2, 1, 2, 2, 1, 0, 0, 1, 2, 2, 0, 1, 2, 2, 2, 2, 1, 0, 0, 1, 2, 2, 2, 1, 0, 0, 2, 0, 0, 0, 0, 0, 2, 0, 2, 2, 0, 2, 0, 0, 0, 2, 0, 1, 0, 0, 0, 0, 1, 2, 2, 0, 2, 0, 0, 0, 2, 2, 0, 0, 2, 0, 2, 2, 1, 2, 2, 2, 2, 2, 0, 2, 2, 0, 0, 0, 2, 2, 0, 2, 0, 2, 0, 2, 2, 2, 0, 1, 1, 2, 2, 2, 2, 2, 0, 0, 0, 0, 1, 0, 0, 2, 1, 2, 2, 2, 1, 2, 2, 0, 0, 1, 0, 1, 1, 2, 0, 1, 2, 1, 1, 0, 1, 2, 0, 1, 2, 2, 2, 0, 0, 2, 2, 2, 0, 0, 1, 0, 0, 0, 0, 2, 2, 2, 2, 0, 2, 1, 1, 2, 1, 1, 2, 1, 2, 0, 2, 2, 2, 0, 0, 0, 0, 2, 1, 0, 2, 2, 2, 2, 2, 0, 0, 2, 0, 0, 2, 2, 0, 2, 1, 0, 2, 2, 0, 2, 0, 0, 2, 2, 0, 2, 2, 0, 2, 1, 2, 0, 1, 0, 1, 2, 0, 0, 0, 2, 2, 2, 2, 2, 2, 1, 0, 2, 2, 1, 0, 1, 1, 2, 0, 1, 2, 2, 0, 2, 2, 1, 0, 2, 2, 2, 0, 0, 0, 0, 0, 0, 2, 0, 2, 0, 1, 1, 1, 2, 2, 0, 0, 0, 0, 2, 0, 0, 0, 2, 2, 2, 2, 2, 2, 0, 2, 0, 0, 0, 2, 0, 2, 2, 0, 0, 0, 2, 0, 2, 0, 0, 0, 0, 2, 0, 0, 2, 0, 0, 1, 2, 1, 1, 1, 0, 2, 0, 0, 0, 2, 2, 2, 1, 2, 2, 1, 2, 0, 2, 0, 0, 0, 2, 0, 0, 2, 1, 2, 0, 2, 2, 2, 1, 0, 2, 0, 2, 2, 1, 0, 1, 0, 2, 0, 2, 0, 0, 2, 1, 1, 0, 0, 1, 0, 2, 2, 0, 1, 2, 2, 0, 0, 2, 2, 2, 0, 0, 2, 0, 0, 0, 2, 0, 2, 1, 2, 2, 2, 2, 0, 0, 2, 1, 0, 0, 1, 0, 0, 1, 2, 2, 1, 2, 2, 2, 0, 1, 1, 0, 0, 2, 0, 2, 0, 0, 1, 2, 2, 1, 2, 2, 2, 0, 0, 1, 0, 2, 2, 2, 0, 0, 2, 1, 0, 2, 2, 0, 0, 1, 2, 2, 2, 2, 2, 0, 0, 0, 1, 2, 2, 2, 0, 2, 1, 2, 2, 2, 0, 0, 2, 1, 1, 2, 2, 2, 0, 1, 0, 0, 2, 0, 1, 2, 2, 0, 2, 1, 0, 1, 2, 0, 0, 0, 1, 2, 0, 2, 0, 0, 0, 2, 0, 2, 2, 0, 0, 2, 2, 2, 0, 0, 2, 2, 0, 1, 0, 0, 0, 0, 1, 2, 0, 2, 0, 0, 0, 2, 2, 0, 2, 2, 1, 1, 2, 2, 0, 0, 2, 0, 1, 0, 1, 0, 2, 2, 2, 0, 2, 0, 0, 2, 2, 2, 2, 2, 1, 2, 0, 2, 1, 2, 2, 0, 1, 2, 1, 2, 0, 2, 2, 0, 2, 0, 2, 1, 0, 2, 0, 2, 2, 2, 2, 2, 2, 0, 0, 2, 2, 0, 1, 2, 1, 2, 0, 0, 1, 2, 2, 0, 0, 2, 1, 0, 1, 2, 0, 1, 1, 0, 1, 2, 2, 0, 1, 2, 0, 2, 2, 0, 1, 2, 0, 1, 2, 0, 2, 2, 2, 2, 0, 2, 0, 0, 2, 1, 1, 0, 0, 2, 2, 1, 0, 0, 2, 1, 2, 0, 0, 0, 2, 0, 0, 0, 0, 2, 1, 2, 0, 0, 2, 1, 2, 0, 2, 2, 2, 1, 0, 1, 0, 2, 1, 2, 0, 0, 0, 2, 0, 2, 0, 0, 2, 1, 2, 1, 0, 1, 2, 0, 1, 2, 0, 0, 1, 2, 2, 1, 2, 0, 0, 1, 2, 2, 2, 1, 0, 1, 1, 2, 1, 2, 2, 0, 2, 0, 0, 2, 0, 0, 1, 2, 0, 2, 2, 0, 0, 2, 2, 0, 0, 1, 0, 2, 0, 0, 2, 0, 0, 1, 0, 1, 0, 2, 1, 0, 2, 2, 0, 2, 2, 0, 0, 0, 2, 2, 0, 0, 2, 0, 2, 2, 0, 2, 1, 1, 0, 0, 2, 2, 2, 2, 2, 2, 2, 2, 2, 2, 2, 0, 2, 1, 1, 2, 0, 0, 0, 0, 0, 2, 0, 2, 2, 0, 2, 2, 0, 2, 2, 2, 2, 0, 0, 2, 0, 2, 2, 2, 2, 0, 1, 2, 0, 2, 2, 2, 0, 0, 2, 1, 0, 0, 2, 2, 1, 1, 1, 0, 0, 0, 0, 2, 0, 0, 0, 0, 0, 1, 0, 0, 0, 0, 0, 0, 2, 1, 0, 0, 0, 0, 2, 0, 0, 2, 0, 2, 0, 2, 2, 2, 2, 2, 2, 0, 2, 2, 2, 2, 0, 1, 2, 2, 0, 2, 1, 2, 2, 1, 0, 2, 1, 0, 2, 2, 0, 1, 2, 2, 1, 1, 1, 2, 2, 0, 2, 1, 0, 2, 0, 0, 2, 2, 0, 2, 2, 1, 0, 2, 1, 0, 0, 0, 1, 0, 1, 2, 2, 0, 2, 2, 0, 1, 1, 2, 2, 0, 0, 2, 2, 0, 2, 0, 0, 2, 2, 0, 0, 2, 2, 0, 1, 2, 2, 2, 2, 0, 0, 2, 0, 0, 0, 0, 0, 1, 2, 2, 1, 2, 0, 0, 1, 0, 1, 2, 2, 0, 0, 0, 0, 0, 0, 2, 0, 0, 0, 1, 2, 2, 2, 2, 2, 2, 1, 2, 0, 0, 0, 0, 1, 0, 0, 2, 2, 2, 2, 2, 2, 1, 2, 1, 2, 2, 2, 1, 1, 0, 0, 0, 2, 2, 2, 0, 2, 0, 0, 1, 2, 2, 0, 2, 0, 1, 2, 2, 0, 2, 0, 0, 0, 0, 0, 2, 2, 2, 0, 2, 2, 2, 0, 0, 2, 0, 0, 2, 1, 2, 0, 0, 0, 2, 0, 2, 2, 0, 2, 0, 0, 1, 1, 2, 1, 2, 1, 0, 0, 0, 2, 1, 0, 2, 2, 2, 0, 1, 2, 0, 2, 0, 0, 1, 0, 2, 2, 1, 0, 2, 0, 0, 0, 2, 2, 0, 0, 2, 2, 2, 0, 0, 2, 1, 2, 2, 2, 2, 0, 2, 2, 1, 2, 2, 1, 0, 1, 2, 0, 1, 0, 0, 0, 2, 0, 0, 2, 2, 2, 2, 0, 0, 2, 2, 2, 1, 1, 2, 2, 2, 0, 0, 2, 0, 0, 2, 1, 2, 0, 1, 2, 0, 1, 2, 2, 2, 0, 2, 2, 2, 0, 0, 2, 0, 1, 0, 2, 2, 2, 1, 0, 2, 0, 2, 1, 2, 0, 0, 2, 1, 0, 2, 2, 2, 0, 2, 0, 1, 2, 0, 2, 2, 1, 2, 2, 2, 0, 0, 1, 2, 1, 2, 0, 0, 2, 0, 1, 0, 0, 1, 2, 0, 0, 2, 0, 0, 2, 0, 0, 2, 2, 1, 1, 0, 0, 0, 0, 2, 0, 0, 1, 0, 0, 2, 0, 1, 0, 2, 0, 2, 2, 2, 2, 2, 0, 2, 1, 0, 1, 2, 2, 2, 2, 0, 1, 1, 1, 2, 0, 2, 0, 2, 2, 0, 0, 2, 0, 0, 0, 0, 2, 0, 2, 2, 0, 0, 2, 0, 1, 2, 2, 2, 0, 0, 0, 1, 1, 2, 0, 2, 0, 2, 1, 2, 0, 2, 1, 2, 1, 2, 2, 0, 0, 0, 2, 2, 0, 0, 1, 2, 0, 1, 2, 1, 2, 2, 1, 0, 2, 2, 1, 0, 2, 0, 1, 2, 0, 0, 0, 0, 2, 0, 0, 2, 2, 1, 0, 0, 2, 0, 0, 0, 2, 0, 2, 1, 2, 1, 2, 1, 2, 2, 0, 2, 0, 2, 0, 2, 0, 2, 0, 0, 0, 1, 2, 0, 0, 2, 2, 1, 0, 0, 1, 0, 2, 0, 0, 1, 2, 2, 1, 2, 0, 2, 2, 1, 0, 0, 2, 0, 2, 0, 0, 2, 0, 2, 1, 1, 2, 2, 0, 0, 0, 2, 2, 1, 2, 0, 2, 0, 2, 1, 2, 2, 2, 1, 0, 2, 2, 2, 0, 2, 0, 0, 2, 0, 0, 0, 0, 2, 0, 2, 2, 0, 0, 2, 2, 0, 0, 2, 2, 0, 2, 1, 0, 0, 0, 1, 1, 0, 0, 0, 2, 2, 0, 0, 2, 0, 0, 0, 2, 0, 0, 1, 2, 2, 2, 2, 0, 2, 0, 0, 0, 2, 0, 2, 2, 2, 0, 1, 2, 2, 2, 2, 1, 2, 2, 0, 2, 2, 0, 0, 1, 0, 0, 1, 0, 0, 0, 2, 0, 2, 0, 1, 0, 2, 1, 0, 2, 2, 1, 0, 2, 1, 2, 2, 2, 2, 2, 1, 0, 2, 2, 0, 0, 0, 2, 0, 1, 0, 2, 2, 1, 1, 1, 0, 2, 0, 0, 2, 2, 2, 2, 0, 0, 2, 0, 0, 2, 0, 1, 0, 2, 2, 1, 0, 0, 0, 2, 2, 2, 0, 1, 1, 2, 2, 0, 1, 0, 0, 0, 2, 0, 2, 2, 2, 2, 2, 0, 2, 0, 1, 2, 2, 1, 0, 2, 1, 0, 0, 0, 1, 0, 2, 2, 2, 2, 0, 0, 2, 2, 0, 0, 2, 0, 0, 2, 0, 0, 0, 2, 1, 2, 2, 2, 0, 2, 2, 0, 0, 0, 0, 0, 0, 1, 2, 2, 0, 2, 0, 1, 1, 0, 0, 2, 0, 2, 0, 0, 1, 2, 2, 1, 2, 0, 0, 0, 2, 0, 2, 2, 2, 1, 0, 2, 0, 0, 2, 2, 0, 0, 0, 0, 2, 0, 0, 2, 2, 0, 0, 0, 0, 2, 0, 0, 0, 2, 2, 0, 1, 1, 2, 2, 2, 2, 0, 1, 0, 2, 2, 2, 2, 0, 2, 0, 2, 1, 2, 0, 0, 2, 1, 2, 2, 2, 0, 1, 2, 0, 0, 0, 0, 2, 0, 0, 1, 2, 0, 1, 2, 2, 0, 2, 0, 1, 0, 1, 1, 2, 1, 2, 2, 0, 0, 0, 2, 0, 0, 0, 1, 0, 0, 2, 2, 0, 0, 2, 0, 0, 2, 0, 2, 1, 0, 0, 2, 0, 2, 0, 1, 2, 2, 2, 2, 2, 2, 1, 0, 1, 0, 0, 2, 0, 1, 1, 2, 0, 2, 2, 2, 0, 0, 2, 2, 2, 2, 0, 0, 0, 0, 2, 1, 2, 2, 1, 0, 0, 2, 0, 2, 0, 2, 2, 0, 2, 0, 2, 1, 1, 2, 0, 2, 0, 1, 2, 2, 1, 0, 2, 2, 2, 0, 0, 0, 0, 1, 2, 1, 2, 0, 0, 0, 0, 2, 0, 2, 0, 0, 2, 0, 0, 2, 0, 2, 2, 0, 1, 2, 0, 0, 2, 0, 2, 0, 0, 2, 1, 0, 1, 1, 0, 2, 2, 0, 2, 1, 2, 2, 2, 0, 2, 0, 0, 2, 0, 2, 2, 1, 1, 2, 1, 1, 0, 0, 0, 2, 0, 2, 1, 0, 0, 1, 1, 0, 0, 0, 1, 2, 2, 0, 2, 2, 0, 2, 2, 0, 0, 2, 2, 1, 0, 1, 1, 2, 2, 1, 2, 0, 2, 1, 1, 2, 1, 2, 2, 2, 0, 2, 2, 0, 1, 0, 0, 0, 0, 2, 2, 2, 2, 2, 2, 2, 0, 2, 2, 1, 0, 2, 1, 0, 2, 0, 2, 2, 0, 2, 0, 2, 2, 2, 0, 1, 1, 2, 2, 2, 2, 2, 1, 2, 0, 0, 2, 2, 2, 0, 1, 1, 0, 0, 2, 2, 2, 2, 0, 0, 2, 0, 1, 1, 0, 2, 2, 2, 0, 2, 0, 1, 2, 2, 0, 2, 1, 2, 1, 0, 1, 1, 0, 2, 0, 0, 2, 2, 2, 0, 0, 0, 0, 0, 0, 2, 1, 2, 2, 1, 2, 2, 2, 1, 2, 2, 0, 2, 1, 2, 1, 2, 0, 0, 1, 1, 2, 0, 2, 2, 0, 2, 0, 0, 0, 2, 0, 0, 2, 2, 2, 2, 1, 2, 2, 0, 2, 0, 2, 2, 0, 0, 0, 0, 2, 0, 0, 0, 0, 2, 0, 0, 0, 0, 2, 0, 1, 2, 2, 2, 2, 2, 2, 2, 2, 2, 0, 0, 2, 0, 2, 1, 0, 2, 2, 2, 2, 0, 0, 2, 0, 2, 0, 0, 2, 1, 2, 1, 0, 2, 2, 1, 1, 2, 0, 0, 2, 0, 1, 2, 1, 0, 2, 0, 0, 0, 0, 0, 1, 1, 0, 2, 2, 1, 0, 1, 2, 2, 0, 1, 2, 2, 2, 0, 0, 2, 2, 2, 1, 0, 2, 0, 2, 0, 2, 0, 2, 0, 1, 1, 2, 0, 1, 2, 2, 2, 0, 1, 2, 2, 0, 2, 2, 1, 0, 2, 1, 1, 0, 2, 2, 2, 2, 1, 1, 2, 2, 2, 2, 2, 2, 0, 2, 0, 0, 2, 0, 0, 2, 0, 2, 2, 0, 2, 0, 1, 1, 0, 0, 1, 0, 2, 1, 2, 1, 2, 2, 2, 2, 0, 0, 0, 1, 1, 2, 0, 1, 0, 2, 0, 2, 2, 0, 1, 1, 1, 0, 2, 1, 0, 1, 2, 0, 2, 2, 2, 0, 2, 0, 1, 2, 0, 2, 0, 0, 2, 0, 0, 2, 2, 0, 2, 2, 1, 2, 0, 1, 0, 0, 0, 0, 2, 2, 2, 0, 0, 0, 0, 2, 1, 0, 0, 0, 0, 2, 1, 0, 1, 0, 0, 2, 0, 1, 0, 0, 0, 0, 0, 2, 2, 1, 2, 1, 1, 1, 0, 0, 1, 2, 2, 2, 0, 1, 2, 0, 1, 1, 2, 2, 2, 0, 2, 2, 2, 2, 2, 1, 1, 0, 0, 0, 0, 0, 2, 0, 2, 0, 0, 1, 2, 2, 0, 0, 2, 2, 2, 1, 2, 2, 1, 0, 2, 0, 2, 2, 0, 2, 0, 2, 2, 0, 2, 2, 2, 2, 2, 2, 0, 2, 0, 2, 0, 0, 0, 0, 2, 0, 0, 2, 2, 2, 2, 0, 2, 0, 0, 2, 0, 0, 0, 2, 0, 2, 0, 0, 1, 2, 2, 2, 1, 0, 2, 0, 2, 2, 0, 0, 2, 2, 1, 0, 2, 0, 1, 2, 2, 0, 2, 2, 0, 0, 2, 1, 0, 0, 0, 2, 2, 0, 0, 2, 1, 0, 1, 2, 2, 2, 0, 1, 2, 2, 0, 2, 2, 2, 2, 0, 0, 0, 1, 2, 0, 2, 1, 2, 0, 1, 0, 0, 0, 2, 1, 0, 0, 1, 0, 1, 0, 0, 2, 1, 0, 2, 2, 1, 0, 1, 1, 0, 0, 0, 0, 0, 2, 0, 0, 0, 2, 2, 2, 0, 1, 1, 2, 2, 2, 2, 2, 0, 0, 0, 2, 1, 0, 0, 0, 2, 0, 0, 1, 0, 1, 0, 2, 2, 2, 1, 0, 0, 2, 1, 2, 1, 1, 2, 0, 0, 2, 2, 0, 2, 2, 1, 2, 0, 0, 0, 0, 2, 0, 0, 2, 0, 0, 2, 1, 1, 0, 0, 1, 1, 2, 2, 2, 0, 2, 2, 2, 1, 0, 1, 0, 2, 2, 0, 0, 1, 1, 2, 2, 2, 0, 0, 2, 0, 0, 2, 2, 1, 0, 0, 0, 0, 2, 2, 0, 2, 0, 0, 2, 1, 1, 0, 1, 1, 1, 1, 2, 1, 1, 2, 2, 2, 2, 0, 2, 0, 0, 0, 2, 2, 2, 0, 2, 2, 2, 2, 2, 1, 0, 0, 2, 0, 0, 2, 0, 0, 0, 2, 0, 0, 1, 0, 0, 2, 2, 0, 1, 0, 0, 0, 0, 1, 2, 2, 0, 0, 2, 2, 2, 2, 2, 2, 2, 2, 0, 2, 0, 2, 0, 2, 0, 2, 2, 2, 1, 1, 1, 1, 0, 2, 2, 2, 2, 1, 2, 2, 0, 0, 0, 2, 1, 0, 2, 0, 2, 1, 2, 2, 0, 2, 0, 2, 2, 0, 0, 0, 0, 2, 2, 2, 1, 1, 1, 2, 0, 0, 0, 0, 2, 0, 2, 2, 2, 2, 2, 2, 0, 0, 0, 2, 0, 2, 0, 2, 1, 2, 0, 0, 2, 0, 2, 0, 1, 1, 1, 2, 0, 2, 2, 0, 1, 0, 1, 0, 2, 2, 2, 1, 2, 0, 2, 2, 1, 2, 2, 1, 0, 2, 0, 2, 2, 0, 2, 1, 0, 0, 2, 1, 0, 0, 0, 1, 2, 2, 2, 2, 2, 1, 2, 0, 0, 0, 2, 2, 1, 2, 2, 0, 1, 0, 1, 1, 1, 0, 2, 1, 0, 2, 0, 2, 1, 2, 2, 2, 2, 0, 0, 0, 0, 0, 1, 0, 2, 2, 0, 0, 2, 1, 0, 0, 2, 0, 2, 0, 2, 2, 0, 2, 1, 0, 0, 2, 2, 1, 1, 2, 2, 2, 0, 0, 0, 2, 2, 2, 0, 0, 2, 0, 1, 1, 0, 0, 2, 0, 0, 0, 0, 0, 1, 0, 0, 2, 2, 0, 2, 2, 1, 0, 2, 2, 0, 2, 2, 0, 1, 2, 2, 0, 2, 2, 0, 2, 2, 0, 0, 0, 0, 0, 0, 2, 2, 2, 1, 0, 2, 2, 0, 2, 0, 2, 1, 0, 0, 0, 0, 0, 2, 2, 0, 0, 1, 0, 0, 1, 2, 0, 1, 2, 2, 0, 2, 2, 2, 2, 0, 1, 1, 0, 0, 2, 0, 1, 2, 2, 2, 2, 0, 2, 2, 2, 0, 2, 0, 0, 0, 0, 0, 1, 2, 1, 2, 2, 0, 1, 2, 0, 0, 2, 1, 2, 2, 0, 2, 2, 2, 2, 1, 0, 0, 1, 2, 0, 0, 2, 0, 0, 0, 0, 2, 0, 0, 0, 2, 2, 0, 2, 1, 2, 2, 2, 0, 2, 0, 2, 0, 0, 0, 0, 2, 2, 0, 2, 2, 2, 2, 2, 2, 2, 0, 2, 0, 0, 0, 0, 0, 1, 0, 1, 0, 2, 2, 2, 0, 0, 1, 0, 1, 0, 2, 2, 2, 2, 2, 0, 1, 0, 2, 0, 2, 2, 1, 1, 0, 0, 0, 2, 2, 0, 1, 0, 0, 2, 2, 0, 2, 0, 2, 0, 1, 2, 2, 0, 0, 0, 2, 2, 2, 0, 2, 0, 2, 1, 0, 0, 2, 2, 2, 0, 0, 1, 1, 1, 1, 2, 2, 2, 0, 1, 0, 0, 1, 2, 1, 2, 1, 0, 2, 0, 0, 0, 0, 2, 2, 2, 2, 0, 2, 0, 2, 2, 0, 0, 2, 2, 0, 1, 2, 0, 2, 2, 2, 0, 2, 2, 2, 2, 2, 0, 0, 2, 0, 0, 2, 0, 2, 0, 0, 0, 1, 0, 0, 0, 0, 0, 2, 0, 2, 2, 1, 0, 2, 2, 2, 2, 1, 1, 0, 0, 1, 0, 2, 2, 2, 1, 2, 2, 2, 0, 2, 0, 1, 0, 2, 2, 0, 0, 0, 1, 1, 0, 2, 1, 2, 2, 2, 2, 1, 2, 0, 1, 0, 2, 0, 2, 0, 0, 1, 2, 2, 0, 2, 2, 0, 1, 1, 1, 2, 1, 1, 0, 0, 0, 2, 2, 0, 1, 2, 2, 2, 2, 0, 2, 2, 2, 2, 0, 1, 1, 2, 2, 2, 2, 2, 0, 0, 0, 2, 2, 1, 0, 2, 2, 2, 2, 1, 1, 0, 0, 1, 0, 2, 2, 2, 1, 2, 0, 0, 1, 2, 0, 0, 2, 2, 2, 0, 0, 2, 2, 2, 0, 2, 2, 1, 0, 0, 2, 0, 2, 2, 2, 2, 2, 2, 2, 1, 0, 1, 0, 0, 2, 1, 0, 0, 0, 0, 0, 2, 1, 1, 2, 0, 0, 2, 2, 1, 1, 1, 2, 0, 0, 0, 2, 2, 0, 2, 2, 0, 1, 2, 2, 2, 0, 2, 2, 0, 0, 2, 2, 0, 0, 2, 1, 1, 2, 2, 0, 2, 2, 2, 1, 0, 0, 2, 2, 2, 2, 0, 2, 2, 1, 0, 2, 2, 0, 2, 0, 0, 1, 0, 2, 1, 1, 0, 0, 0, 1, 0, 2, 2, 1, 0, 2, 1, 2, 0, 2, 2, 2, 2, 2, 2, 1, 2, 2, 2, 2, 0, 2, 2, 0, 0, 2, 2, 0, 0, 0, 1, 1, 0, 1, 0, 2, 0, 2, 2, 2, 1, 0, 2, 2, 2, 1, 0, 1, 0, 2, 1, 1, 2, 2, 2, 0, 1, 2, 2, 1, 2, 2, 2, 0, 1, 2, 0, 0, 2, 2, 0, 2, 0, 2, 0, 0, 2, 1, 0, 1, 2, 2, 0, 1, 0, 1, 0, 0, 1, 2, 0, 0, 1, 0, 2, 2, 0, 2, 2, 2, 2, 2, 2, 2, 2, 2, 2, 2, 0, 0, 2, 2, 2, 1, 0, 2, 0, 2, 0, 0, 0, 0, 2, 2, 2, 2, 0, 2, 0, 0, 2, 2, 2, 1, 0, 0, 0, 0, 0, 2, 0, 0, 2, 1, 1, 2, 0, 0, 0, 0, 0, 2, 2, 2, 1, 0, 2, 2, 0, 1, 2, 0, 2, 2, 2, 2, 2, 0, 2, 2, 2, 0, 2, 1, 2, 2, 2, 2, 0, 0, 2, 1, 0, 1, 2, 1, 2, 0, 0, 1, 0, 2, 2, 2, 0, 2, 2, 0, 2, 2, 0, 0, 0, 1, 0, 1, 2, 2, 0, 2, 2, 2, 0, 0, 0, 2, 2, 1, 0, 2, 1, 2, 2, 1, 0, 0, 0, 1, 1, 1, 2, 1, 1, 2, 2, 0, 0, 0, 2, 2, 2, 0, 2, 2, 2, 2, 0, 2, 2, 2, 1, 0, 0, 2, 1, 2, 2, 0, 0, 2, 0, 0, 0, 2, 0, 2, 0, 0, 2, 1, 0, 2, 0, 1, 0, 2, 2, 0, 0, 2, 0, 0, 2, 2, 2, 2, 1, 0, 1, 1, 2, 2, 2, 0, 2, 2, 0, 2, 2, 2, 1, 0, 2, 2, 1, 0, 0, 0, 0, 0, 1, 2, 2, 0, 2, 1, 2, 0, 1, 0, 2, 0, 2, 1, 2, 0, 2, 0, 2, 0, 1, 2, 0, 0, 2, 2, 1, 2, 0, 1, 0, 0, 1, 2, 0, 0, 1, 2, 0, 0, 2, 2, 2, 2, 1, 1, 0, 2, 0, 2, 2, 1, 0, 0, 2, 2, 0, 1, 1, 2, 2, 2, 2, 0, 0, 0, 1, 2, 2, 1, 2, 1, 2, 0, 0, 2, 2, 2, 0, 2, 1, 2, 0, 0, 1, 2, 0, 2, 0, 2, 2, 2, 2, 2, 0, 0, 2, 2, 0, 1, 1, 2, 1, 2, 1, 2, 2, 1, 2, 0, 1, 1, 2, 1, 2, 0, 0, 2, 0, 0, 1, 2, 1, 1, 2, 2, 0, 0, 2, 2, 0, 0, 1, 2, 0, 2, 2, 1, 0, 2, 2, 2, 2, 0, 2, 1, 2, 1, 1, 0, 0, 0, 0, 0, 0, 2, 0, 2, 0, 2, 0, 2, 2, 2, 2, 0, 2, 0, 0, 2, 0, 2, 1, 0, 2, 0, 0, 2, 2, 2, 2, 0, 1, 2, 0, 0, 2, 1, 2, 2, 2, 0, 1, 0, 0, 0, 2, 2, 2, 1, 1, 1, 2, 2, 0, 0, 0, 0, 1, 0, 0, 1, 0, 2, 2, 1, 2, 2, 0, 0, 2, 2, 2, 0, 0, 2, 0, 2, 0, 0, 2, 0, 0, 1, 1, 0, 2, 0, 2, 2, 0, 2, 0, 1, 0, 2, 0, 1, 2, 0, 0, 2, 2, 2, 1, 0, 1, 1, 2, 2, 1, 0, 2, 1, 1, 0, 2, 2, 2, 2, 0, 0, 2, 0, 1, 0, 1, 1, 2, 0, 0, 2, 0, 2, 0, 0, 2, 0, 2, 1, 1, 2, 0, 1, 2, 2, 2, 2, 2, 2, 2, 0, 0, 1, 2, 2, 0, 1, 0, 2, 2, 1, 2, 0, 2, 0, 0, 2, 0, 0, 2, 0, 0, 0, 0, 2, 0, 2, 0, 0, 0, 2, 0, 0, 2, 1, 2, 1, 2, 1, 2, 0, 0, 2, 0, 0, 2, 0, 0, 2, 2, 2, 1, 1, 2, 2, 2, 2, 0, 0, 2, 0, 0, 2, 0, 1, 2, 0, 2, 0, 0, 0, 0, 2, 2, 1, 0, 2, 0, 1, 0, 2, 0, 0, 2, 2, 2, 0, 1, 2, 2, 2, 2, 0, 2, 1, 2, 2, 2, 2, 0, 2, 0, 0, 0, 0, 0, 0, 0, 2, 0, 2, 2, 1, 1, 0, 2, 0, 1, 2, 1, 2, 0, 2, 1, 2, 2, 0, 0, 0, 1, 0, 1, 0, 0, 0, 2, 0, 2, 2, 0, 2, 1, 2, 2, 0, 2, 0, 0, 0, 1, 2, 1, 1, 0, 1, 2, 0, 2, 2, 1, 2, 1, 2, 1, 2, 2, 2, 2, 2, 0, 2, 0, 2, 1, 0, 0, 0, 2, 0, 1, 2, 2, 0, 0, 1, 0, 2, 0, 2, 2, 0, 1, 1, 0, 0, 2, 0, 2, 0, 0, 2, 2, 1, 2, 2, 2, 1, 0, 2, 0, 0, 0, 0, 2, 2, 2, 2, 0, 0, 2, 0, 0, 1, 2, 2, 2, 0, 2, 1, 0, 0, 2, 1, 0, 2, 0, 1, 2, 2, 1, 0, 2, 2, 1, 0, 0, 1, 2, 0, 0, 0, 2, 0, 2, 2, 0, 0, 2, 2, 2, 2, 2, 0, 1, 0, 0, 2, 0, 2, 2, 2, 0, 0, 0, 0, 0, 2, 0, 0, 2, 1, 2, 0, 2, 1, 2, 2, 2, 0, 1, 1, 2, 0, 2, 1, 2, 2, 0, 1, 1, 0, 0, 2, 2, 2, 2, 2, 2, 0, 0, 1, 1, 2, 0, 0, 1, 2, 0, 2, 0, 0, 0, 0, 2, 1, 1, 1, 2, 0, 1, 0, 1, 0, 0, 2, 0, 1, 0, 0, 0, 2, 1, 0, 1, 2, 2, 0, 2, 2, 0, 0, 2, 2, 2, 0, 0, 2, 0, 2, 0, 2, 0, 0, 2, 2, 0, 0, 1, 1, 1, 1, 2, 1, 1, 2, 2, 2, 0, 0, 2, 0, 0, 2, 2, 2, 0, 0, 0, 0, 2, 2, 2, 1, 1, 1, 2, 1, 0, 2, 0, 2, 0, 0, 2, 0, 1, 2, 0, 0, 2, 2, 0, 2, 0, 2, 2, 0, 0, 2, 1, 0, 0, 0, 2, 0, 2, 0, 2, 1, 0, 2, 2, 0, 2, 0, 1, 0, 1, 2, 2, 0, 2, 1, 2, 2, 0, 0, 0, 0, 1, 2, 0, 0, 1, 2, 0, 2, 2, 0, 0, 0, 0, 0, 2, 2, 0, 0, 2, 2, 2, 0, 0, 2, 1, 0, 2, 1, 0, 2, 0, 1, 2, 0, 0, 0, 0, 0, 2, 1, 0, 2, 0, 1, 0, 2, 1, 2, 0, 2, 1, 2, 2, 2, 0, 2, 1, 0, 1, 1, 2, 1, 0, 2, 0, 2, 2, 1, 1, 0, 2, 2, 2, 1, 2, 1, 2, 2, 1, 0, 0, 2, 1, 0, 0, 0, 2, 2, 2, 0, 2, 2, 2, 2, 0, 0, 0, 0, 2, 1, 0, 2, 2, 0, 0, 2, 0, 0, 0, 0, 1, 2, 0, 2, 0, 2, 0, 1, 2, 2, 1, 1, 0, 2, 0, 1, 2, 2, 2, 2, 1, 2, 0, 1, 0, 1, 0, 1, 0, 1, 1, 2, 2, 0, 2, 0, 1, 2, 2, 2, 2, 1, 2, 0, 0, 0, 1, 0, 2, 0, 2, 0, 2, 0, 0, 2, 2, 2, 2, 0, 1, 2, 0, 0, 0, 0, 2, 0, 0, 2, 2, 2, 1, 0, 2, 0, 2, 2, 2, 2, 0, 2, 1, 0, 0, 1, 2, 0, 0, 1, 2, 0, 2, 2, 2, 2, 0, 2, 0, 0, 2, 2, 2, 1, 2, 0, 1, 0, 1, 2, 0, 0, 0, 1, 2, 1, 2, 2, 2, 0, 1, 0, 0, 2, 2, 2, 0, 2, 1, 0, 2, 2, 1, 2, 2, 2, 2, 0, 2, 0, 2, 0, 1, 0, 2, 2, 0, 2, 2, 0, 0, 1, 2, 1, 2, 0, 0, 2, 0, 2, 2, 0, 2, 0, 0, 2, 1, 0, 2, 2, 1, 2, 2, 0, 0, 2, 2, 0, 2, 2, 2, 1, 2, 1, 2, 2, 2, 2, 0, 1, 2, 0, 1, 1, 2, 1, 1, 1, 2, 0, 0, 2, 2, 2, 2, 2, 1, 2, 2, 2, 2, 2, 2, 2, 1, 2, 2, 1, 0, 0, 2, 1, 2, 0, 0, 2, 2, 1, 2, 2, 0, 2, 0, 1, 2, 0, 0, 2, 1, 2, 0, 2, 0, 2, 0, 2, 1, 0, 2, 0, 2, 0, 0, 0, 2, 0, 2, 0, 0, 2, 0, 0, 0, 2, 2, 2, 2, 0, 1, 2, 0, 2, 0, 0, 2, 0, 0, 0, 0, 1, 0, 0, 2, 0, 0, 0, 0, 2, 2, 2, 1, 1, 0, 2, 2, 0, 0, 2, 0, 0, 2, 2, 2, 1, 0, 0, 0, 2, 0, 0, 2, 1, 2, 2, 1, 0, 2, 2, 0, 0, 0, 2, 0, 0, 1, 0, 0, 0, 2, 0, 2, 2, 0, 2, 1, 0, 0, 0, 1, 2, 1, 0, 0, 2, 2, 0, 0, 0, 1, 0, 1, 2, 1, 2, 0, 0, 1, 2, 1, 0, 0, 2, 2, 2, 2, 0, 2, 2, 1, 0, 2, 2, 2, 1, 0, 0, 0, 2, 0, 0, 2, 0, 1, 0, 1, 0, 2, 2, 2, 1, 2, 2, 2, 2, 0, 1, 2, 2, 2, 1, 2, 2, 2, 0, 2, 0, 2, 1, 0, 1, 2, 2, 1, 0, 2, 0, 0, 2, 2, 2, 2, 0, 2, 2, 0, 0, 0, 0, 0, 2, 0, 0, 1, 0, 2, 0, 2, 2, 0, 2, 2, 2, 2, 2, 0, 2, 0, 0, 2, 0, 2, 2, 2, 2, 1, 0, 2, 0, 2, 2, 0, 2, 2, 1, 0, 2, 2, 2, 2, 0, 2, 2, 2, 2, 2, 0, 1, 1, 2, 2, 0, 0, 2, 2, 2, 0, 2, 2, 0, 2, 1, 0, 2, 0, 2, 1, 2, 2, 1, 0, 2, 0, 0, 1, 2, 0, 2, 2, 0, 2, 0, 0, 0, 2, 0, 0, 0, 2, 2, 1, 1, 1, 2, 0, 1, 0, 0, 2, 0, 2, 2, 2, 2, 2, 2, 0, 0, 2, 2, 2, 0, 2, 0, 0, 2, 2, 2, 2, 2, 1, 0, 2, 0, 1, 2, 0, 0, 2, 2, 1, 1, 1, 2, 0, 2, 2, 0, 0, 0, 0, 0, 2, 2, 2, 0, 2, 1, 2, 1, 2, 2, 0, 2, 0, 0, 1, 0, 2, 2, 1, 2, 0, 2, 1, 2, 2, 2, 2, 0, 2, 1, 2, 0, 0, 1, 0, 2, 0, 2, 2, 2, 1, 0, 0, 2, 2, 2, 1, 1, 0, 0, 2, 1, 1, 0, 0, 0, 2, 2, 1, 2, 2, 2, 1, 2, 2, 0, 0, 1, 0, 2, 1, 2, 2, 2, 0, 2, 2, 0, 0, 2, 0, 0, 0, 2, 2, 2, 1, 2, 0, 1, 0, 2, 1, 2, 0, 0, 0, 0, 1, 2, 2, 2, 0, 0, 2, 0, 0, 1, 1, 0, 2, 0, 0, 0, 1, 1, 0, 1, 2, 2, 0, 2, 2, 0, 2, 2, 0, 2, 2, 0, 2, 2, 2, 2, 2, 0, 2, 2, 2, 2, 0, 2, 2, 0, 2, 1, 0, 1, 2, 1, 0, 2, 2, 2, 2, 0, 1, 2, 2, 2, 2, 0, 2, 1, 0, 1, 0, 2, 0, 1, 2, 0, 0, 0, 2, 2, 2, 2, 1, 2, 2, 2, 0, 2, 0, 2, 0, 0, 2, 1, 0, 1, 2, 0, 2, 2, 1, 2, 0, 0, 0, 1, 1, 0, 0, 2, 2, 0, 0, 2, 2, 2, 2, 1, 2, 1, 2, 0, 1, 0, 2, 1, 0, 0, 0, 1, 2, 2, 1, 0, 0, 2, 2, 0, 2, 2, 0, 2, 0, 2, 0, 0, 2, 2, 1, 0, 2, 1, 2, 2, 2, 2, 1, 2, 0, 0, 0, 0, 0, 2, 0, 1, 0, 2, 0, 0, 2, 2, 0, 0, 0, 2, 0, 1, 0, 2, 0, 2, 0, 0, 0, 0, 1, 2, 2, 2, 0, 2, 2, 2, 2, 1, 2, 0, 2, 0, 2, 0, 1, 0, 2, 2, 2, 2, 2, 1, 0, 2, 0, 0, 2, 1, 0, 2, 1, 1, 2, 2, 0, 0, 2, 1, 2, 0, 1, 0, 2, 2, 2, 2, 1, 2, 0, 0, 2, 2, 2, 2, 2, 0, 0, 2, 2, 0, 0, 1, 1, 0, 2, 0, 0, 2, 2, 0, 1, 1, 0, 2, 1, 0, 0, 0, 2, 2, 0, 2, 0, 0, 1, 2, 2, 0, 2, 0, 0, 2, 0, 2, 2, 2, 2, 0, 1, 2, 0, 2, 2, 2, 0, 0, 0, 0, 2, 0, 2, 0, 2, 0, 1, 2, 2, 2, 0, 0, 2, 0, 0, 2, 0, 1, 0, 1, 0, 0, 2, 2, 2, 1, 0, 0, 0, 2, 0, 2, 2, 0, 2, 0, 0, 2, 0, 2, 2, 0, 0, 1, 1, 1, 1, 2, 2, 2, 2, 2, 0, 0, 2, 1, 2, 0, 2, 0, 0, 2, 0, 0, 1, 2, 1, 2, 2, 0, 0, 0, 0, 2, 0, 2, 1, 0, 0, 0, 0, 1, 0, 2, 1, 2, 0, 2, 1, 1, 2, 1, 2, 2, 1, 1, 2, 2, 2, 2, 2, 2, 2, 2, 2, 1, 1, 1, 1, 1, 2, 0, 0, 0, 1, 1, 0, 2, 2, 2, 2, 0, 2, 0, 2, 0, 0, 0, 2, 0, 1, 1, 0, 0, 0, 2, 1, 0, 1, 0, 2, 0, 0, 2, 0, 2, 0, 0, 0, 2, 0, 2, 2, 2, 1, 2, 1, 1, 2, 0, 0, 2, 0, 2, 2, 0, 0, 2, 2, 2, 0, 2, 2, 0, 1, 0, 2, 0, 1, 0, 0, 2, 2, 0, 2, 0, 2, 0, 0, 1, 2, 2, 2, 0, 2, 2, 0, 2, 2, 0, 2, 0, 2, 2, 2, 2, 0, 0, 1, 0, 0, 0, 1, 0, 0, 0, 0, 1, 0, 2, 2, 2, 2, 2, 0, 2, 0, 2, 1, 1, 0, 0, 1, 2, 1, 2, 0, 1, 2, 0, 0, 1, 2, 2, 2, 2, 2, 0, 0, 1, 2, 2, 2, 2, 2, 2, 1, 2, 0, 0, 0, 1, 2, 0, 2, 2, 0, 2, 2, 2, 2, 2, 2, 2, 0, 2, 0, 2, 0, 0, 0, 0, 1, 2, 2, 0, 1, 0, 0, 0, 2, 0, 0, 1, 2, 2, 0, 2, 0, 0, 2, 1, 2, 2, 0, 0, 1, 0, 1, 0, 1, 0, 0, 2, 0, 1, 0, 2, 2, 1, 1, 2, 1, 1, 0, 1, 0, 2, 2, 2, 1, 0, 0, 0, 2, 0, 2, 2, 1, 0, 2, 0, 2, 0, 0, 2, 2, 0, 0, 0, 2, 1, 2, 0, 0, 0, 0, 1, 2, 0, 0, 2, 1, 0, 0, 0, 0, 0, 2, 2, 2, 2, 2, 2, 0, 0, 1, 2, 1, 1, 2, 2, 2, 0, 0, 2, 2, 2, 0, 0, 2, 2, 2, 0, 0, 2, 1, 0, 0, 2, 0, 2, 2, 1, 0, 2, 1, 2, 1, 2, 2, 2, 2, 2, 2, 2, 0, 2, 2, 0, 1, 2, 0, 1, 0, 2, 2, 1, 1, 2, 0, 2, 0, 0, 0, 2, 2, 1, 1, 0, 2, 0, 2, 1, 0, 1, 0, 1, 1, 0, 0, 0, 0, 1, 0, 1, 0, 1, 2, 2, 0, 0, 2, 0, 1, 2, 2, 0, 0, 1, 1, 0, 1, 0, 2, 2, 0, 0, 2, 2, 0, 0, 0, 2, 0, 0, 2, 0, 1, 2, 2, 0, 0, 0, 2, 0, 0, 0, 1, 0, 1, 0, 0, 2, 0, 0, 0, 2, 2, 0, 0, 2, 2, 1, 2, 2, 2, 2, 2, 2, 0, 0, 2, 2, 2, 1, 0, 2, 2, 0, 2, 2, 2, 1, 0, 2, 2, 0, 0, 2, 1, 0, 2, 2, 1, 2, 0, 0, 0, 2, 0, 0, 2, 0, 0, 1, 0, 0, 2, 2, 2, 0, 2, 1, 2, 2, 0, 0, 2, 2, 2, 0, 1, 2, 0, 0, 2, 0, 2, 0, 2, 0, 0, 2, 2, 2, 2, 2, 1, 2, 0, 0, 1, 1, 2, 0, 0, 2, 2, 0, 2, 2, 0, 2, 2, 1, 2, 2, 2, 2, 2, 1, 2, 2, 1, 2, 1, 0, 2, 2, 2, 0, 0, 0, 2, 0, 2, 2, 2, 2, 0, 2, 0, 1, 2, 0, 0, 2, 0, 2, 0, 0, 1, 0, 0, 0, 0, 2, 2, 2, 2, 0, 0, 1, 2, 0, 0, 0, 0, 2, 2, 1, 2, 2, 0, 2, 2, 0, 2, 0, 2, 2, 2, 2, 1, 1, 0, 2, 0, 0, 2, 2, 2, 0, 0, 1, 0, 0, 0, 1, 2, 1, 0, 2, 0, 0, 0, 0, 2, 0, 2, 2, 1, 2, 0, 2, 2, 0, 1, 2, 1, 1, 2, 2, 2, 0, 0, 0, 0, 2, 0, 1, 1, 1, 2, 1, 2, 0, 0, 2, 0, 0, 0, 2, 1, 2, 0, 2, 0, 2, 2, 2, 2, 0, 0, 2, 2, 2, 2, 2, 2, 2, 1, 2, 1, 0, 0, 1, 2, 0, 0, 0, 2, 2, 0, 0, 2, 2, 2, 2, 1, 0, 0, 0, 0, 1, 2, 2, 2, 0, 1, 0, 2, 2, 0, 0, 1, 0, 2, 2, 1, 2, 0, 1, 1, 2, 0, 0, 0, 1, 2, 2, 0, 2, 2, 0, 2, 1, 2, 0, 2, 0, 2, 0, 0, 2, 2, 2, 2, 1, 0, 2, 0, 0, 2, 2, 2, 2, 1, 0, 0, 1, 2, 2, 2, 1, 0, 0, 1, 2, 2, 0, 2, 2, 2, 2, 0, 0, 0, 0, 2, 1, 1, 2, 0, 2, 1, 2, 2, 0, 2, 1, 2, 2, 2, 0, 1, 0, 0, 0, 2, 1, 2, 1, 0, 0, 2, 0, 0, 2, 0, 0, 2, 1, 0, 2, 0, 0, 2, 1, 1, 2, 1, 0, 1, 2, 0, 2, 0, 2, 0, 0, 2, 2, 2, 0, 0, 2, 2, 1, 0, 2, 2, 2, 0, 2, 1, 2, 0, 1, 2, 0, 0, 2, 1, 0, 1, 0, 2, 0, 1, 2, 1, 0, 2, 1, 1, 2, 0, 0, 2, 0, 2, 1, 1, 0, 2, 2, 2, 2, 2, 2, 2, 2, 0, 1, 0, 0, 0, 0, 2, 0, 0, 0, 2, 2, 1, 1, 0, 2, 2, 1, 2, 0, 0, 2, 0, 0, 2, 1, 2, 2, 2, 2, 0, 0, 2, 2, 2, 2, 1, 0, 2, 0, 0, 0, 2, 0, 0, 0, 0, 2, 1, 2, 2, 2, 1, 1, 2, 0, 2, 2, 1, 2, 2, 0, 2, 1, 0, 0, 1, 2, 2, 0, 0, 2, 2, 0, 1, 1, 0, 1, 1, 2, 0, 0, 2, 1, 2, 2, 2, 0, 1, 2, 1, 2, 1, 0, 2, 0, 1, 0, 0, 0, 2, 2, 1, 2, 0, 1, 2, 2, 0, 1, 0, 0, 2, 2, 1, 0, 0, 0, 1, 1, 0, 0, 2, 2, 2, 2, 1, 2, 2, 2, 2, 1, 2, 2, 1, 0, 1, 2, 0, 1, 2, 1, 0, 0, 0, 2, 1, 2, 2, 0, 2, 0, 0, 1, 2, 2, 2, 0, 2, 0, 2, 1, 0, 0, 0, 2, 0, 2, 0, 2, 1, 1, 0, 2, 1, 2, 2, 1, 0, 2, 2, 2, 0, 2, 1, 1, 0, 0, 0, 0, 0, 0, 2, 0, 0, 2, 0, 2, 1, 1, 0, 2, 1, 0, 0, 2, 0, 0, 1, 0, 1, 1, 2, 2, 2, 2, 2, 1, 0, 2, 0, 2, 0, 2, 0, 1, 0, 2, 2, 0, 1, 0, 2, 2, 0, 0, 2, 2, 0, 2, 2, 1, 1, 2, 2, 0, 1, 2, 0, 2, 0, 2, 2, 1, 2, 2, 2, 0, 0, 0, 1, 2, 2, 1, 1, 0, 0, 2, 2, 2, 1, 2, 2, 1, 0, 2, 2, 1, 2, 2, 2, 2, 2, 0, 2, 2, 2, 2, 0, 0, 0, 2, 2, 0, 2, 2, 0, 2, 1, 2, 0, 1, 0, 1, 0, 0, 0, 2, 0, 0, 1, 2, 0, 2, 2, 2, 2, 0, 1, 0, 2, 0, 1, 2, 2, 2, 1, 0, 0, 1, 1, 2, 2, 0, 0, 2, 0, 2, 0, 0, 0, 0, 0, 2, 0, 2, 0, 0, 0, 1, 0, 0, 1, 2, 2, 2, 0, 2, 2, 2, 2, 2, 0, 0, 2, 2, 2, 2, 2, 1, 1, 2, 1, 2, 0, 2, 2, 0, 2, 2, 1, 2, 0, 0, 0, 0, 2, 2, 0, 1, 2, 2, 1, 0, 2, 2, 1, 0, 0, 0, 2, 1, 2, 0, 2, 0, 2, 0, 1, 2, 0, 0, 2, 0, 0, 1, 0, 0, 1, 2, 2, 0, 1, 1, 1, 2, 1, 0, 1, 2, 0, 0, 1, 2, 1, 1, 2, 2, 2, 2, 2, 0, 2, 1, 2, 0, 0, 0, 0, 2, 0, 1, 0, 2, 2, 2, 0, 0, 0, 2, 0, 0, 2, 2, 1, 0, 0, 2, 0, 2, 0, 2, 1, 2, 0, 1, 0, 2, 0, 2, 2, 0, 0, 0, 0, 0, 0, 2, 0, 1, 0, 1, 0, 0, 0, 1, 2, 0, 1, 2, 2, 2, 1, 0, 2, 1, 0, 2, 0, 0, 1, 2, 2, 1, 1, 0, 0, 1, 2, 2, 1, 2, 1, 1, 0, 1, 2, 1, 2, 2, 2, 0, 0, 0, 2, 2, 2, 0, 0, 1, 0, 2, 2, 0, 2, 2, 0, 0, 2, 2, 2, 2, 0, 0, 2, 2, 0, 0, 2, 2, 0, 2, 2, 0, 1, 2, 2, 0, 2, 1, 0, 0, 0, 2, 2, 0, 0, 0, 2, 0, 0, 1, 0, 2, 2, 0, 2, 2, 2, 0, 0, 0, 2, 0, 1, 2, 2, 0, 2, 2, 2, 2, 2, 0, 2, 0, 2, 2, 0, 2, 1, 0, 2, 2, 0, 1, 0, 1, 0, 2, 2, 2, 0, 2, 0, 1, 0, 1, 2, 1, 0, 0, 1, 0, 2, 2, 2, 0, 0, 2, 2, 2, 2, 2, 2, 0, 1, 0, 2, 0, 2, 0, 2, 2, 0, 2, 2, 1, 0, 2, 1, 0, 0, 2, 2, 1, 2, 0, 0, 0, 0, 1, 0, 2, 2, 1, 2, 0, 2, 0, 2, 1, 2, 2, 0, 2, 2, 2, 0, 1, 1, 0, 0, 1, 0, 1, 0, 2, 0, 2, 2, 2, 2, 2, 1, 0, 2, 0, 1, 2, 0, 2, 2, 2, 2, 2, 2, 2, 1, 1, 2, 0, 0, 0, 0, 0, 2, 0, 0, 0, 0, 1, 1, 0, 0, 0, 2, 1, 2, 2, 2, 2, 2, 0, 2, 2, 2, 1, 2, 0, 2, 0, 0, 0, 2, 0, 0, 2, 0, 0, 1, 0, 0, 2, 0, 2, 0, 2, 2, 2, 2, 0, 0, 2, 1, 2, 2, 2, 1, 2, 2, 2, 0, 2, 2, 2, 1, 0, 0, 1, 1, 2, 0, 2, 0, 1, 1, 1, 2, 0, 2, 2, 2, 2, 0, 2, 0, 2, 1, 1, 2, 1, 2, 2, 2, 2, 0, 0, 2, 2, 2, 0, 2, 1, 1, 0, 0, 2, 0, 2, 2, 2, 0, 1, 0, 2, 1, 1, 2, 0, 2, 0, 0, 1, 2, 2, 2, 1, 1, 2, 0, 1, 0, 2, 2, 0, 2, 1, 0, 2, 0, 2, 0, 1, 0, 1, 0, 0, 0, 2, 0, 0, 1, 0, 0, 2, 1, 2, 0, 0, 2, 2, 2, 0, 1, 2, 2, 2, 0, 0, 2, 2, 2, 2, 2, 2, 0, 2, 0, 2, 2, 2, 2, 0, 2, 0, 2, 2, 0, 0, 2, 0, 0, 2, 2, 0, 0, 1, 0, 2, 1, 0, 0, 0, 2, 0, 0, 1, 0, 0, 1, 2, 0, 1, 2, 1, 2, 2, 0, 2, 1, 2, 1, 0, 2, 1, 2, 0, 1, 0, 0, 2, 1, 0, 2, 2, 0, 2, 2, 2, 1, 0, 0, 1, 2, 0, 2, 1, 0, 0, 0, 0, 0, 1, 1, 0, 1, 1, 0, 2, 1, 0, 2, 2, 2, 2, 2, 1, 2, 2, 2, 0, 2, 0, 0, 0, 2, 1, 0, 0, 1, 0, 1, 0, 2, 0, 0, 2, 0, 0, 0, 2, 2, 0, 0, 0, 1, 2, 2, 0, 2, 0, 0, 0, 0, 2, 2, 2, 0, 2, 0, 0, 0, 2, 1, 0, 0, 2, 0, 0, 0, 2, 1, 0, 0, 0, 2, 2, 2, 2, 2, 0, 0, 1, 2, 1, 2, 2, 0, 1, 2, 1, 0, 0, 0, 1, 0, 0, 0, 1, 1, 2, 0, 1, 2, 2, 1, 1, 0, 2, 2, 0, 1, 2, 1, 0, 1, 2, 0, 2, 0, 2, 2, 2, 2, 2, 0, 0, 2, 2, 0, 2, 0, 2, 0, 2, 2, 2, 0, 2, 0, 1, 2, 0, 1, 2, 1, 2, 1, 1, 1, 2, 2, 2, 2, 2, 2, 2, 2, 2, 2, 1, 0, 1, 2, 0, 2, 2, 0, 1, 0, 2, 1, 2, 0, 0, 0, 0, 2, 1, 0, 0, 2, 2, 2, 0, 0, 2, 2, 2, 1, 1, 2, 2, 2, 2, 2, 1, 0, 2, 0, 2, 1, 0, 0, 0, 2, 0, 1, 0, 0, 2, 2, 2, 2, 0, 2, 0, 2, 0, 2, 1, 1, 2, 0, 2, 0, 1, 1, 1, 2, 2, 2, 1, 2, 2, 0, 2, 2, 1, 2, 1, 2, 1, 2, 0, 0, 1, 2, 1, 0, 2, 1, 2, 2, 1, 0, 1, 0, 0, 2, 2, 0, 0, 2, 2, 0, 2, 0, 0, 2, 0, 0, 2, 0, 2, 2, 2, 0, 1, 0, 2, 1, 0, 2, 2, 2, 0, 1, 0, 0, 2, 0, 2, 1, 0, 0, 2, 0, 0, 0, 2, 0, 2, 0, 0, 2, 0, 1, 0, 2, 1, 2, 2, 2, 1, 2, 2, 0, 0, 2, 0, 0, 2, 0, 0, 2, 2, 0, 1, 1, 2, 0, 0, 2, 2, 1, 1, 2, 1, 0, 2, 1, 0, 1, 2, 0, 0, 2, 1, 2, 2, 2, 2, 0, 2, 2, 2, 1, 2, 1, 0, 2, 0, 2, 0, 2, 1, 1, 2, 2, 2, 0, 0, 0, 0, 2, 0, 2, 0, 2, 2, 0, 2, 1, 1, 2, 2, 2, 2, 2, 2, 2, 2, 0, 1, 0, 2, 2, 0, 1, 0, 1, 0, 2, 0, 2, 2, 0, 2, 0, 0, 0, 2, 0, 2, 2, 0, 0, 2, 0, 2, 0, 1, 2, 0, 1, 0, 2, 2, 2, 0, 0, 2, 0, 0, 2, 1, 1, 2, 0, 0, 1, 1, 1, 0, 0, 1, 1, 0, 2, 2, 0, 1, 0, 2, 2, 0, 0, 1, 0, 0, 0, 2, 0, 0, 2, 2, 0, 1, 2, 2, 0, 0, 2, 2, 2, 0, 1, 1, 0, 0, 1, 0, 1, 2, 1, 0, 0, 0, 0, 0, 0, 1, 2, 0, 2, 2, 2, 2, 0, 2, 2, 1, 2, 1, 1, 2, 2, 0, 2, 2, 0, 0, 0, 0, 0, 2, 0, 2, 0, 2, 0, 2, 0, 2, 0, 2, 2, 0, 2, 2, 2, 2, 2, 0, 2, 0, 0, 0, 1, 2, 0, 2, 0, 2, 2, 1, 1, 2, 2, 2, 1, 0, 1, 0, 2, 2, 0, 2, 2, 2, 2, 1, 0, 0, 0, 0, 0, 2, 2, 0, 2, 2, 2, 0, 0, 1, 0, 2, 2, 1, 0, 0, 0, 2, 2, 0, 0, 1, 2, 2, 2, 0, 2, 2, 0, 1, 2, 2, 0, 0, 0, 0, 2, 2, 2, 0, 2, 1, 2, 2, 0, 2, 0, 0, 2, 2, 1, 2, 2, 2, 2, 0, 0, 2, 0, 1, 1, 0, 2, 0, 2, 0, 0, 2, 2, 2, 1, 2, 1, 2, 2, 0, 2, 2, 0, 1, 2, 2, 2, 0, 2, 2, 2, 0, 1, 0, 2, 2, 0, 2, 2, 2, 0, 2, 1, 0, 2, 2, 2, 2, 0, 1, 0, 0, 1, 0, 2, 2, 2, 2, 0, 0, 0, 2, 2, 2, 2, 2, 2, 2, 1, 0, 2, 0, 0, 0, 2, 0, 1, 0, 0, 0, 2, 0, 0, 0, 2, 2, 1, 0, 0, 0, 1, 2, 2, 2, 1, 1, 1, 0, 0, 2, 0, 2, 2, 0, 2, 0, 1, 2, 0, 1, 2, 0, 2, 0, 1, 0, 2, 0, 1, 2, 0, 2, 0, 2, 1, 2, 0, 2, 1, 0, 0, 2, 1, 0, 0, 1, 1, 2, 2, 2, 2, 0, 1, 1, 1, 0, 1, 2, 0, 0, 0, 0, 0, 0, 2, 0, 2, 0, 1, 2, 2, 2, 2, 0, 0, 0, 1, 2, 2, 2, 0, 2, 0, 0, 1, 0, 0, 2, 1, 1, 2, 2, 2, 0, 1, 0, 0, 0, 0, 1, 0, 2, 1, 0, 1, 2, 0, 2, 1, 2, 1, 2, 0, 2, 0, 1, 2, 2, 0, 0, 2, 0, 0, 1, 2, 2, 1, 2, 2, 0, 2, 2, 2, 2, 0, 0, 0, 1, 2, 2, 2, 0, 0, 0, 0, 2, 0, 0, 1, 2, 0, 2, 0, 2, 0, 0, 0, 0, 0, 1, 2, 2, 2, 1, 0, 0, 0, 0, 2, 0, 0, 1, 0, 2, 1, 1, 2, 2, 0, 0, 0, 2, 0, 2, 0, 2, 0, 1, 1, 0, 0, 0, 0, 2, 2, 0, 1, 2, 2, 1, 0, 1, 0, 2, 0, 2, 0, 0, 1, 2, 0, 2, 2, 1, 2, 2, 2, 2, 0, 2, 0, 0, 2, 1, 2, 0, 0, 2, 0, 0, 0, 2, 2, 2, 1, 0, 0, 2, 2, 0, 0, 2, 2, 0, 2, 2, 2, 0, 1, 0, 0, 0, 2, 2, 2, 0, 2, 0, 2, 1, 2, 0, 2, 2, 0, 2, 0, 0, 2, 0, 2, 0, 2, 0, 2, 0, 2, 2, 0, 2, 2, 1, 0, 2, 2, 0, 2, 0, 1, 1, 2, 2, 2, 0, 0, 0, 2, 0, 0, 0, 2, 2, 2, 0, 2, 2, 1, 0, 2, 2, 0, 0, 0, 0, 2, 0, 0, 2, 0, 2, 0, 2, 2, 0, 0, 2, 2, 2, 2, 2, 0, 0, 0, 0, 0, 1, 2, 2, 2, 0, 2, 0, 1, 0, 2, 2, 2, 0, 2, 0, 2, 0, 2, 2, 1, 0, 2, 1, 2, 0, 2, 0, 0, 2, 0, 0, 1, 0, 1, 2, 2, 2, 2, 1, 2, 2, 2, 2, 1, 0, 1, 0, 2, 0, 2, 2, 1, 1, 1, 0, 0, 2, 2, 0, 2, 2, 2, 0, 0, 2, 2, 2, 2, 2, 0, 2, 2, 0, 0, 2, 0, 0, 0, 1, 2, 0, 2, 0, 2, 0, 0, 2, 0, 1, 2, 2, 0, 2, 2, 0, 2, 0, 2, 0, 1, 0, 2, 0, 2, 0, 0, 0, 0, 0, 2, 1, 2, 0, 0, 2, 0, 1, 2, 2, 2, 0, 0, 1, 1, 0, 1, 2, 2, 0, 1, 2, 0, 0, 2, 2, 2, 2, 0, 2, 0, 0, 2, 2, 1, 2, 0, 2, 0, 0, 2, 0, 2, 0, 2, 2, 0, 0, 0, 0, 0, 2, 2, 0, 2, 1, 2, 2, 0, 2, 0, 2, 0, 1, 2, 0, 2, 2, 1, 2, 0, 0, 2, 0, 2, 1, 0, 0, 0, 2, 2, 2, 2, 0, 0, 2, 2, 0, 2, 2, 0, 0, 0, 0, 1, 0, 0, 2, 0, 0, 2, 0, 0, 2, 1, 1, 0, 2, 2, 1, 2, 1, 2, 0, 1, 0, 0, 0, 0, 2, 2, 2, 2, 2, 2, 0, 1, 1, 0, 2, 2, 0, 0, 0, 2, 1, 1, 2, 1, 1, 0, 0, 0, 2, 0, 2, 0, 0, 1, 0, 2, 2, 0, 2, 1, 2, 2, 2, 2, 0, 1, 2, 1, 1, 1, 1, 2, 2, 0, 2, 0, 0, 2, 2, 2, 0, 0, 2, 2, 1, 0, 1, 0, 2, 2, 0, 0, 0, 2, 0, 2, 1, 0, 2, 1, 0, 0, 1, 2, 2, 2, 2, 0, 2, 0, 0, 1, 2, 1, 0, 2, 0, 1, 0, 2, 0, 2, 0, 0, 2, 0, 2, 2, 1, 0, 2, 2, 0, 2, 2, 1, 0, 2, 2, 0, 2, 0, 0, 2, 2, 0, 0, 0, 2, 0, 2, 0, 1, 0, 2, 0, 2, 0, 0, 0, 0, 2, 1, 0, 2, 0, 2, 1, 0, 0, 2, 0, 1, 0, 1, 0, 2, 0, 2, 0, 0, 0, 1, 2, 0, 2, 2, 1, 0, 1, 1, 0, 2, 0, 2, 1, 1, 1, 0, 2, 0, 2, 2, 2, 0, 1, 1, 0, 1, 2, 0, 2, 0, 2, 2, 2, 2, 0, 1, 2, 0, 2, 1, 1, 0, 2, 2, 0, 0, 2, 0, 2, 2, 0, 2, 0, 2, 2, 2, 0, 0, 1, 2, 0, 0, 2, 1, 2, 0, 1, 1, 0, 2, 2, 0, 0, 0, 0, 0, 2, 0, 0, 0, 0, 0, 1, 2, 0, 2, 2, 0, 1, 2, 0, 0, 2, 0, 2, 2, 2, 1, 2, 1, 2, 2, 2, 2, 2, 0, 0, 2, 0, 0, 0, 1, 2, 2, 2, 2, 0, 1, 1, 0, 0, 1, 0, 0, 1, 2, 2, 0, 0, 2, 0, 2, 0, 0, 2, 0, 2, 1, 2, 2, 1, 0, 0, 0, 1, 1, 2, 2, 0, 0, 2, 2, 2, 1, 2, 1, 0, 2, 2, 0, 0, 2, 2, 2, 0, 1, 0, 0, 2, 0, 1, 1, 0, 0, 0, 2, 0, 2, 0, 0, 2, 2, 1, 0, 1, 2, 2, 2, 2, 0, 0, 2, 2, 0, 0, 0, 0, 2, 2, 0, 2, 2, 2, 0, 2, 0, 0, 2, 0, 2, 2, 2, 1, 0, 2, 2, 2, 2, 2, 2, 0, 0, 0, 2, 2, 2, 0, 1, 1, 2, 0, 2, 0, 2, 2, 2, 1, 2, 2, 2, 2, 0, 1, 0, 2, 0, 1, 2, 0, 1, 0, 0, 1, 2, 1, 2, 1, 2, 1, 2, 2, 0, 0, 2, 0, 2, 2, 0, 0, 2, 2, 2, 2, 0, 2, 1, 2, 2, 2, 2, 2, 0, 2, 2, 2, 0, 2, 0, 0, 2, 2, 2, 2, 2, 2, 2, 2, 2, 2, 2, 2, 0, 2, 0, 0, 2, 0, 0, 0, 2, 0, 0, 2, 2, 2, 0, 2, 0, 0, 0, 1, 1, 2, 0, 2, 0, 2, 0, 2, 2, 2, 2, 1, 0, 2, 2, 1, 1, 0, 2, 2, 1, 1, 1, 0, 2, 1, 0, 2, 0, 0, 2, 0, 2, 0, 0, 0, 0, 2, 2, 2, 2, 1, 2, 2, 2, 1, 0, 0, 2, 1, 2, 2, 2, 2, 0, 0, 1, 2, 2, 1, 2, 2, 0, 0, 2, 0, 2, 2, 2, 2, 0, 0, 2, 1, 2, 2, 0, 0, 2, 0, 2, 2, 0, 0, 2, 2, 2, 0, 0, 1, 2, 0, 1, 2, 0, 1, 0, 1, 2, 1, 1, 2, 0, 1, 0, 0, 2, 0, 2, 2, 2, 2, 1, 1, 1, 0, 1, 2, 2, 2, 2, 1, 0, 0, 2, 0, 2, 2, 2, 2, 1, 2, 2, 0, 0, 2, 2, 2, 1, 2, 0, 2, 2, 2, 2, 2, 0, 1, 2, 1, 2, 2, 2, 0, 2, 2, 2, 2, 0, 2, 2, 2, 0, 0, 0, 0, 0, 1, 0, 1, 0, 0, 2, 1, 2, 0, 0, 0, 0, 2, 0, 2, 2, 0, 2, 0, 0, 0, 0, 1, 0, 1, 0, 2, 0, 2, 2, 2, 0, 0, 0, 2, 0, 0, 1, 1, 1, 2, 2, 0, 1, 0, 2, 1, 2, 1, 2, 2, 2, 1, 0, 1, 0, 2, 0, 0, 0, 1, 0, 0, 1, 1, 2, 1, 0, 0, 0, 2, 2, 0, 0, 2, 2, 0, 0, 0, 0, 1, 2, 0, 2, 2, 2, 1, 2, 2, 0, 2, 2, 2, 1, 0, 2, 1, 1, 0, 0, 0, 0, 2, 0, 0, 0, 0, 2, 2, 1, 1, 0, 0, 0, 1, 0, 2, 0, 2, 2, 2, 2, 0, 0, 0, 2, 0, 0, 1, 0, 0, 1, 1, 0, 1, 0, 0, 1, 0, 2, 0, 2, 2, 2, 0, 2, 0, 1, 0, 1, 0, 0, 2, 0, 0, 0, 2, 2, 0, 2, 2, 2, 2, 2, 2, 1, 0, 0, 0, 1, 0, 2, 0, 0, 2, 2, 0, 2, 2, 1, 2, 1, 0, 1, 0, 1, 1, 0, 0, 2, 0, 1, 0, 2, 2, 0, 1, 2, 2, 2, 0, 2, 2, 0, 2, 0, 2, 0, 1, 2, 1, 0, 2, 2, 1, 1, 2, 0, 2, 0, 2, 2, 2, 1, 0, 2, 1, 0, 0, 0, 2, 2, 2, 0, 2, 2, 1, 2, 2, 2, 0, 0, 2, 2, 0, 2, 2, 0, 1, 0, 2, 0, 0, 0, 0, 0, 2, 0, 2, 0, 0, 0, 0, 2, 0, 2, 2, 0, 0, 2, 0, 0, 2, 0, 0, 2, 1, 2, 2, 1, 1, 2, 2, 0, 2, 0, 0, 2, 0, 1, 2, 2, 0, 0, 0, 0, 0, 0, 0, 0, 1, 1, 1, 1, 2, 2, 1, 2, 2, 1, 1, 2, 0, 2, 1, 0, 2, 1, 0, 0, 0, 2, 2, 1, 2, 2, 0, 2, 2, 0, 0, 2, 2, 2, 0, 2, 0, 2, 2, 0, 2, 2, 2, 2, 0, 2, 0, 0, 2, 2, 2, 2, 2, 1, 2, 0, 0, 1, 0, 2, 2, 2, 0, 0, 0, 2, 2, 2, 1, 0, 2, 0, 1, 2, 1, 0, 1, 1, 2, 2, 2, 1, 0, 2, 1, 0, 2, 2, 0, 2, 0, 0, 2, 0, 0, 0, 2, 0, 0, 0, 0, 0, 0, 2, 2, 0, 2, 1, 0, 0, 2, 2, 1, 2, 2, 1, 2, 0, 2, 0, 2, 2, 0, 0, 2, 2, 1, 0, 2, 2, 0, 0, 0, 2, 2, 2, 2, 1, 2, 2, 0, 0, 2, 1, 0, 0, 2, 2, 2, 0, 0, 2, 0, 1, 0, 2, 2, 0, 2, 1, 1, 1, 0, 0, 1, 0, 0, 1, 2, 1, 0, 1, 1, 2, 1, 2, 0, 0, 0, 1, 0, 0, 2, 2, 1, 2, 0, 2, 2, 2, 0, 2, 2, 0, 2, 1, 1, 2, 1, 0, 2, 1, 0, 0, 1, 1, 0, 2, 2, 0, 2, 0, 2, 0, 0, 0, 0, 2, 0, 2, 2, 0, 2, 2, 0, 0, 1, 0, 1, 0, 0, 1, 0, 2, 0, 0, 2, 2, 2, 2, 0, 0, 0, 2, 0, 0, 2, 1, 2, 1, 0, 2, 0, 2, 0, 2, 1, 0, 2, 2, 2, 1, 2, 0, 0, 2, 2, 2, 2, 2, 2, 2, 2, 0, 0, 2, 2, 0, 2, 2, 2, 2, 0, 0, 0, 2, 0, 2, 0, 2, 2, 2, 2, 0, 2, 2, 1, 0, 2, 0, 0, 2, 1, 2, 2, 0, 2, 1, 0, 0, 2, 2, 2, 0, 1, 1, 0, 2, 0, 2, 2, 2, 1, 0, 1, 0, 2, 2, 0, 0, 1, 0, 0, 0, 2, 0, 2, 2, 2, 2, 0, 2, 2, 0, 2, 1, 1, 2, 0, 0, 2, 2, 2, 2, 0, 0, 0, 2, 1, 2, 1, 1, 0, 1, 1, 1, 1, 2, 1, 0, 2, 0, 2, 0, 2, 2, 1, 2, 2, 2, 0, 2, 2, 2, 2, 2, 2, 2, 2, 2, 0, 2, 2, 0, 2, 0, 2, 0, 0, 2, 1, 0, 2, 2, 0, 2, 1, 1, 0, 0, 0, 1, 0, 2, 2, 2, 1, 0, 2, 0, 1, 0, 0, 1, 1, 0, 0, 0, 2, 0, 2, 0, 0, 2, 1, 1, 2, 0, 1, 0, 2, 1, 0, 0, 2, 0, 0, 0, 1, 2, 2, 0, 2, 2, 0, 2, 1, 2, 2, 0, 2, 2, 0, 1, 0, 2, 2, 0, 0, 2, 2, 2, 0, 2, 2, 2, 0, 2, 2, 1, 1, 0, 0, 1, 0, 2, 2, 0, 0, 2, 2, 0, 2, 0, 1, 2, 1, 0, 0, 1, 2, 1, 2, 0, 2, 0, 2, 2, 0, 0, 1, 2, 0, 0, 0, 2, 0, 2, 0, 2, 0, 0, 2, 2, 1, 0, 2, 0, 1, 2, 0, 2, 0, 0, 2, 0, 2, 2, 0, 2, 0, 2, 2, 0, 2, 0, 0, 2, 1, 0, 2, 0, 1, 2, 1, 0, 1, 0, 2, 0, 2, 1, 2, 0, 2, 0, 1, 0, 0, 0, 1, 2, 1, 2, 2, 1, 1, 2, 2, 2, 0, 1, 2, 0, 0, 2, 0, 2, 1, 2, 0, 2, 0, 0, 1, 2, 0, 1, 0, 0, 1, 1, 1, 0, 0, 1, 1, 0, 2, 0, 2, 2, 2, 0, 0, 0, 2, 2, 0, 2, 0, 2, 1, 2, 1, 2, 2, 0, 0, 2, 2, 0, 2, 2, 0, 1, 0, 1, 2, 0, 2, 2, 1, 2, 0, 2, 2, 2, 2, 0, 0, 1, 2, 2, 0, 2, 1, 2, 0, 2, 2, 2, 0, 1, 0, 2, 0, 2, 2, 1, 2, 0, 1, 1, 2, 0, 2, 1, 0, 2, 0, 1, 2, 2, 0, 0, 1, 1, 0, 1, 2, 2, 2, 0, 1, 0, 2, 2, 1, 0, 1, 2, 2, 2, 2, 2, 0, 2, 0, 0, 1, 2, 2, 2, 2, 0, 2, 0, 2, 0, 2, 0, 2, 2, 2, 0, 0, 0, 0, 0, 0, 0, 2, 2, 2, 1, 1, 2, 0, 2, 0, 0, 2, 2, 2, 0, 2, 2, 0, 0, 2, 2, 2, 0, 1, 2, 2, 2, 0, 0, 2, 0, 0, 0, 0, 0, 0, 1, 0, 0, 0, 0, 0, 0, 2, 2, 0, 2, 0, 2, 2, 2, 0, 0, 0, 2, 2, 2, 0, 0, 0, 2, 2, 1, 0, 2, 1, 2, 0, 0, 0, 1, 0, 0, 0, 2, 0, 1, 2, 2, 1, 2, 0, 2, 0, 2, 1, 2, 1, 2, 0, 0, 2, 1, 2, 1, 2, 0, 0, 0, 2, 2, 2, 1, 0, 2, 2, 0, 0, 0, 2, 2, 2, 2, 0, 2, 1, 2, 0, 2, 0, 2, 1, 2, 0, 0, 1, 2, 0, 0, 2, 2, 0, 0, 2, 2, 1, 2, 0, 0, 0, 0, 2, 0, 2, 0, 0, 0, 1, 1, 2, 0, 0, 0, 0, 2, 0, 0, 2, 2, 1, 2, 0, 0, 1, 0, 1, 2, 0, 1, 2, 2, 2, 0, 1, 0, 1, 1, 2, 0, 2, 2, 0, 0, 0, 0, 0, 2, 0, 2, 1, 0, 0, 2, 2, 0, 0, 2, 1, 1, 1, 2, 0, 2, 1, 0, 0, 2, 2, 2, 0, 2, 0, 2, 1, 1, 0, 0, 2, 0, 1, 2, 2, 0, 2, 0, 2, 2, 2, 2, 1, 2, 0, 1, 0, 0, 2, 1, 2, 0, 2, 0, 0, 2, 0, 2, 0, 2, 0, 2, 1, 2, 2, 2, 2, 2, 1, 2, 2, 2, 2, 1, 0, 0, 1, 0, 0, 1, 0, 0, 1, 0, 1, 1, 0, 2, 0, 0, 0, 0, 0, 0, 0, 2, 2, 0, 2, 0, 2, 0, 2, 1, 1, 2, 1, 2, 2, 2, 0, 2, 2, 2, 2, 1, 0, 0, 1, 0, 2, 1, 0, 0, 2, 0, 2, 1, 0, 1, 2, 2, 0, 0, 2, 2, 1, 1, 2, 0, 2, 0, 2, 0, 0, 2, 0, 2, 1, 0, 2, 0, 0, 2, 0, 1, 1, 0, 0, 1, 1, 1, 2, 2, 2, 2, 1, 1, 2, 0, 0, 2, 2, 2, 0, 2, 2, 2, 0, 2, 0, 0, 1, 0, 0, 2, 0, 0, 2, 2, 0, 2, 0, 0, 2, 2, 0, 2, 2, 2, 0, 0, 1, 0, 0, 0, 2, 0, 0, 2, 0, 0, 0, 0, 0, 2, 0, 2, 0, 0, 2, 2, 0, 0, 2, 0, 2, 2, 2, 2, 0, 0, 2, 0, 2, 2, 0, 1, 0, 1, 0, 0, 2, 0, 1, 2, 2, 2, 0, 0, 2, 2, 1, 0, 0, 2, 2, 0, 0, 0, 2, 2, 1, 0, 0, 2, 0, 0, 1, 2, 2, 2, 0, 2, 2, 0, 2, 1, 0, 0, 2, 0, 0, 0, 1, 2, 2, 0, 2, 0, 2, 0, 0, 0, 2, 0, 2, 0, 0, 0, 2, 1, 2, 2, 2, 0, 0, 0, 2, 0, 0, 2, 0, 0, 0, 0, 2, 0, 2, 0, 2, 1, 2, 2, 2, 0, 2, 0, 0, 0, 2, 2, 2, 2, 2, 0, 0, 1, 2, 1, 0, 2, 0, 2, 2, 2, 1, 0, 1, 0, 2, 2, 2, 0, 0, 2, 1, 0, 2, 2, 2, 2, 2, 0, 2, 0, 2, 1, 2, 0, 0, 2, 2, 0, 0, 0, 2, 1, 2, 2, 2, 2, 2, 0, 0, 2, 0, 1, 0, 0, 0, 2, 2, 2, 2, 0, 2, 1, 0, 0, 0, 1, 0, 1, 2, 2, 0, 2, 2, 0, 1, 1, 0, 1, 0, 0, 2, 2, 1, 2, 2, 1, 0, 0, 2, 0, 2, 2, 0, 0, 2, 2, 2, 0, 0, 2, 1, 0, 1, 1, 2, 0, 1, 1, 2, 2, 2, 1, 1, 0, 2, 0, 2, 0, 0, 0, 2, 0, 0, 2, 1, 0, 0, 1, 1, 2, 2, 2, 1, 1, 1, 0, 2, 1, 1, 0, 2, 0, 2, 0, 2, 0, 2, 2, 2, 2, 0, 2, 0, 0, 0, 1, 1, 0, 0, 2, 1, 1, 2, 1, 0, 2, 1, 0, 0, 0, 1, 0, 1, 0, 1, 0, 0, 0, 0, 0, 2, 2, 2, 0, 0, 0, 2, 2, 0, 0, 2, 1, 1, 1, 0, 0, 0, 2, 0, 0, 0, 2, 1, 1, 0, 0, 2, 0, 2, 0, 2, 0, 2, 2, 0, 0, 1, 0, 2, 1, 2, 1, 2, 0, 2, 1, 0, 1, 2, 2, 2, 0, 2, 1, 1, 0, 0, 2, 2, 0, 0, 2, 0, 0, 0, 2, 0, 2, 0, 2, 0, 2, 0, 0, 2, 2, 2, 2, 0, 0, 0, 2, 1, 0, 0, 0, 2, 1, 0, 0, 0, 2, 0, 2, 0, 2, 2, 0, 2, 2, 1, 0, 0, 2, 0, 0, 0, 2, 2, 2, 2, 2, 1, 0, 1, 2, 2, 0, 0, 0, 2, 2, 2, 2, 2, 0, 2, 0, 0, 1, 2, 2, 1, 0, 0, 2, 0, 2, 0, 0, 0, 1, 2, 2, 2, 2, 0, 1, 0, 2, 1, 0, 0, 1, 2, 0, 2, 0, 2, 2, 2, 1, 1, 2, 2, 2, 2, 1, 1, 2, 0, 0, 2, 2, 0, 0, 2, 2, 2, 2, 2, 0, 2, 0, 1, 2, 0, 2, 2, 0, 2, 2, 0, 0, 2, 0, 0, 0, 2, 2, 0, 2, 1, 1, 0, 2, 1, 2, 2, 2, 2, 0, 0, 0, 2, 2, 0, 0, 2, 2, 0, 2, 0, 0, 2, 2, 0, 1, 2, 1, 0, 0, 2, 2, 2, 0, 0, 2, 2, 0, 0, 2, 1, 0, 0, 1, 2, 2, 1, 0, 0, 0, 0, 1, 0, 0, 1, 0, 2, 2, 0, 0, 2, 2, 2, 2, 0, 2, 1, 0, 0, 0, 2, 0, 2, 2, 1, 0, 0, 0, 2, 2, 0, 0, 2, 2, 2, 2, 0, 2, 2, 2, 0, 2, 2, 1, 2, 0, 2, 0, 2, 2, 2, 2, 1, 2, 0, 0, 0, 2, 2, 2, 2, 0, 0, 0, 0, 0, 1, 2, 0, 0, 2, 0, 0, 1, 0, 0, 1, 2, 2, 1, 0, 0, 2, 2, 2, 2, 2, 0, 2, 1, 2, 1, 0, 2, 2, 0, 2, 2, 0, 0, 0, 2, 2, 0, 2, 0, 0, 2, 0, 2, 0, 2, 1, 2, 2, 0, 2, 2, 2, 0, 0, 0, 0, 0, 0, 2, 0, 1, 2, 2, 1, 0, 2, 2, 2, 2, 2, 0, 2, 2, 2, 2, 0, 2, 2, 2, 2, 2, 1, 2, 0, 0, 1, 1, 2, 2, 2, 0, 2, 2, 1, 2, 0, 1, 0, 2, 0, 2, 2, 2, 2, 0, 1, 2, 1, 0, 0, 1, 1, 1, 2, 2, 2, 2, 0, 1, 0, 0, 0, 1, 2, 0, 2, 1, 2, 0, 2, 2, 2, 0, 0, 1, 2, 0, 1, 2, 2, 0, 0, 0, 0, 0, 0, 0, 1, 1, 0, 1, 2, 0, 2, 2, 2, 0, 0, 1, 2, 1, 2, 0, 1, 2, 2, 2, 2, 2, 2, 2, 2, 1, 2, 2, 0, 1, 0, 1, 0, 2, 2, 2, 1, 2, 0, 0, 0, 0, 0, 0, 2, 2, 2, 2, 0, 1, 0, 0, 2, 0, 1, 0, 1, 0, 0, 2, 0, 0, 2, 0, 2, 0, 2, 0, 0, 2, 2, 0, 0, 1, 0, 1, 2, 1, 0, 1, 0, 2, 1, 0, 0, 1, 0, 2, 2, 2, 0, 2, 0, 2, 2, 2, 2, 0, 0, 0, 1, 0, 0, 0, 0, 2, 1, 2, 0, 2, 2, 0, 2, 2, 0, 2, 0, 2, 2, 0, 2, 2, 2, 2, 2, 2, 0, 0, 0, 1, 0, 0, 1, 2, 0, 1, 2, 1, 1, 2, 2, 0, 2, 2, 2, 0, 2, 2, 0, 0, 0, 2, 1, 2, 0, 0, 0, 2, 0, 2, 0, 0, 0, 2, 2, 2, 2, 0, 0, 2, 2, 0, 2, 0, 2, 2, 2, 2, 0, 2, 2, 0, 2, 0, 1, 1, 2, 2, 1, 1, 2, 1, 0, 0, 2, 2, 0, 0, 1, 0, 2, 1, 0, 1, 0, 2, 2, 0, 2, 0, 0, 0, 2, 0, 2, 2, 2, 2, 2, 0, 0, 1, 0, 0, 2, 0, 2, 2, 0, 2, 0, 2, 2, 2, 2, 2, 0, 2, 1, 0, 2, 2, 0, 1, 0, 0, 0, 0, 0, 2, 0, 0, 2, 1, 2, 2, 0, 0, 2, 2, 0, 1, 2, 1, 2, 1, 1, 1, 1, 1, 0, 2, 0, 0, 1, 2, 1, 0, 0, 2, 2, 2, 1, 0, 2, 0, 0, 2, 2, 2, 2, 0, 1, 2, 2, 1, 2, 1, 2, 1, 2, 0, 2, 2, 0, 0, 2, 2, 0, 2, 0, 0, 0, 1, 2, 0, 0, 1, 0, 2, 2, 1, 0, 0, 2, 2, 0, 0, 0, 0, 0, 2, 2, 2, 1, 2, 2, 2, 1, 0, 0, 2, 2, 0, 0, 2, 1, 0, 2, 0, 0, 2, 0, 1, 2, 0, 0, 2, 1, 2, 0, 2, 2, 2, 1, 2, 1, 0, 2, 1, 0, 2, 2, 2, 1, 1, 1, 2, 0, 0, 1, 0, 0, 0, 2, 0, 0, 0, 1, 2, 1, 2, 0, 1, 2, 0, 0, 2, 2, 0, 2, 1, 2, 2, 2, 1, 0, 2, 0, 2, 2, 0, 0, 2, 0, 2, 0, 0, 0, 0, 2, 2, 2, 0, 1, 2, 2, 0, 2, 0, 0, 2, 1, 2, 0, 2, 2, 2, 1, 0, 0, 2, 2, 1, 0, 0, 2, 0, 2, 2, 0, 2, 2, 0, 0, 2, 1, 1, 2, 0, 2, 2, 2, 2, 2, 0, 0, 2, 0, 0, 0, 2, 0, 2, 2, 0, 0, 0, 2, 2, 0, 1, 0, 2, 2, 1, 2, 1, 2, 0, 2, 2, 0, 2, 0, 1, 0, 0, 2, 0, 2, 2, 2, 2, 1, 1, 0, 1, 1, 2, 0, 0, 2, 0, 0, 0, 2, 2, 2, 2, 0, 0, 2, 0, 2, 1, 2, 2, 2, 0, 0, 0, 1, 1, 2, 0, 2, 0, 2, 2, 2, 1, 0, 2, 2, 1, 1, 2, 2, 2, 2, 2, 2, 2, 0, 0, 2, 2, 1, 0, 1, 2, 2, 0, 2, 0, 1, 0, 2, 0, 2, 1, 2, 0, 1, 0, 0, 0, 2, 0, 0, 0, 2, 2, 1, 2, 2, 2, 0, 2, 2, 2, 2, 2, 0, 0, 2, 0, 1, 1, 0, 0, 0, 0, 2, 0, 0, 2, 2, 0, 1, 1, 1, 0, 0, 0, 2, 2, 0, 0, 2, 1, 1, 1, 0, 2, 2, 0, 0, 0, 2, 0, 0, 2, 0, 2, 2, 2, 1, 1, 2, 0, 2, 1, 0, 1, 0, 2, 2, 0, 2, 2, 0, 2, 2, 2, 2, 2, 2, 0, 2, 2, 0, 2, 1, 0, 2, 2, 1, 0, 0, 0, 2, 2, 1, 0, 2, 0, 0, 2, 0, 2, 0, 2, 1, 0, 1, 0, 2, 2, 0, 2, 2, 2, 0, 1, 0, 2, 1, 2, 2, 1, 0, 2, 0, 0, 0, 0, 2, 2, 2, 0, 0, 1, 1, 1, 0, 0, 0, 0, 0, 2, 2, 2, 2, 2, 0, 0, 2, 2, 1, 1, 2, 2, 2, 2, 2, 2, 0, 0, 0, 2, 1, 2, 2, 0, 2, 2, 0, 2, 0, 0, 2, 2, 2, 1, 1, 2, 2, 2, 0, 1, 0, 2, 0, 2, 2, 1, 2, 1, 0, 2, 2, 0, 0, 0, 0, 0, 0, 2, 2, 0, 2, 2, 0, 0, 2, 0, 0, 0, 2, 2, 0, 2, 2, 0, 2, 2, 2, 1, 0, 0, 2, 0, 2, 2, 2, 0, 2, 2, 2, 1, 1, 1, 1, 0, 2, 0, 0, 2, 0, 0, 2, 2, 2, 2, 2, 1, 1, 0, 0, 2, 2, 2, 1, 0, 1, 1, 1, 2, 1, 0, 2, 0, 0, 0, 0, 2, 1, 0, 1, 2, 0, 2, 0, 1, 0, 0, 0, 0, 0, 0, 2, 1, 2, 0, 2, 1, 0, 0, 0, 0, 2, 2, 2, 2, 2, 2, 0, 2, 1, 2, 2, 0, 2, 1, 0, 1, 1, 2, 0, 0, 2, 2, 2, 0, 2, 0, 0, 0, 0, 0, 2, 1, 0, 2, 0, 1, 0, 2, 0, 2, 1, 0, 1, 0, 0, 2, 0, 1, 2, 0, 0, 2, 0, 2, 1, 2, 1, 1, 0, 0, 2, 2, 1, 0, 2, 1, 1, 0, 0, 0, 0, 0, 2, 0, 0, 0, 2, 2, 2, 0, 0, 0, 0, 0, 0, 0, 2, 0, 2, 1, 1, 2, 0, 2, 0, 0, 1, 2, 2, 0, 0, 0, 0, 2, 0, 2, 1, 2, 2, 0, 2, 0, 0, 0, 2, 0, 1, 0, 2, 2, 0, 0, 0, 0, 1, 0, 2, 2, 2, 0, 2, 0, 0, 0, 2, 1, 2, 0, 0, 1, 0, 1, 0, 2, 0, 2, 2, 2, 1, 0, 0, 2, 1, 1, 2, 0, 0, 2, 0, 1, 2, 0, 2, 2, 2, 2, 1, 1, 0, 2, 0, 2, 2, 2, 2, 0, 1, 0, 0, 2, 0, 0, 0, 1, 2, 2, 1, 2, 1, 2, 0, 0, 0, 0, 2, 1, 0, 0, 1, 0, 2, 0, 1, 2, 2, 1, 2, 1, 2, 0, 2, 0, 1, 0, 1, 1, 0, 0, 0, 0, 0, 2, 0, 2, 0, 2, 2, 2, 2, 0, 1, 2, 1, 2, 2, 0, 2, 2, 0, 0, 0, 0, 2, 1, 2, 2, 0, 1, 0, 0, 2, 2, 0, 2, 2, 2, 0, 2, 0, 2, 0, 2, 2, 1, 0, 1, 0, 2, 2, 2, 1, 1, 0, 1, 2, 2, 0, 1, 2, 0, 0, 0, 2, 0, 2, 2, 2, 0, 0, 2, 2, 2, 2, 1, 2, 2, 1, 2, 0, 2, 0, 0, 2, 0, 2, 2, 1, 2, 2, 0, 0, 0, 2, 0, 1, 1, 0, 2, 2, 2, 2, 0, 0, 1, 0, 0, 0, 2, 0, 0, 2, 0, 1, 0, 0, 2, 2, 2, 0, 2, 2, 2, 0, 0, 0, 2, 2, 0, 0, 1, 2, 2, 2, 2, 0, 2, 0, 0, 2, 2, 1, 0, 2, 2, 0, 2, 0, 1, 2, 0, 0, 2, 0, 2, 0, 0, 2, 0, 0, 2, 0, 1, 1, 1, 2, 2, 0, 2, 0, 2, 0, 2, 0, 0, 0, 0, 2, 0, 0, 0, 2, 1, 0, 1, 1, 1, 1, 0, 0, 2, 0, 2, 2, 2, 0, 0, 2, 0, 1, 2, 1, 0, 0, 2, 0, 1, 0, 2, 1, 1, 0, 0, 0, 1, 0, 1, 2, 0, 1, 1, 2, 2, 2, 0, 0, 2, 2, 2, 2, 2, 0, 0, 2, 0, 0, 1, 0, 0, 2, 0, 0, 0, 1, 0, 2, 0, 0, 0, 2, 0, 0, 2, 2, 2, 2, 0, 0, 2, 0, 2, 0, 2, 0, 0, 1, 0, 2, 2, 0, 1, 0, 0, 2, 2, 2, 2, 0, 0, 2, 2, 0, 1, 1, 2, 0, 1, 2, 1, 1, 2, 0, 2, 0, 0, 2, 1, 0, 2, 0, 2, 2, 2, 2, 0, 1, 2, 2, 2, 2, 0, 2, 0, 1, 2, 2, 2, 1, 2, 2, 2, 1, 1, 1, 2, 1, 1, 2, 2, 1, 1, 2, 2, 0, 1, 2, 1, 0, 2, 1, 0, 2, 2, 0, 0, 0, 1, 1, 2, 2, 0, 0, 1, 2, 0, 2, 0, 0, 1, 2, 2, 1, 1, 0, 0, 0, 0, 0, 2, 0, 1, 0, 0, 0, 2, 0, 2, 2, 0, 1, 2, 0, 0, 2, 2, 2, 0, 2, 1, 0, 2, 2, 0, 0, 0, 2, 2, 0, 2, 2, 1, 1, 1, 2, 2, 0, 2, 1, 2, 2, 2, 2, 0, 0, 0, 0, 0, 0, 2, 2, 2, 0, 2, 2, 0, 2, 2, 1, 1, 0, 2, 2, 2, 2, 2, 0, 2, 0, 2, 2, 2, 2, 2, 0, 0, 0, 0, 2, 2, 0, 0, 1, 1, 0, 0, 2, 2, 2, 0, 1, 2, 2, 1, 2, 0, 1, 2, 0, 2, 2, 0, 2, 0, 0, 2, 2, 1, 2, 1, 2, 0, 1, 1, 1, 2, 0, 2, 2, 2, 0, 1, 2, 1, 2, 1, 2, 2, 1, 0, 2, 2, 0, 2, 2, 2, 1, 2, 2, 2, 2, 0, 2, 1, 0, 1, 0, 1, 2, 2, 0, 2, 2, 1, 2, 0, 2, 0, 1, 0, 1, 0, 0, 0, 2, 2, 0, 1, 1, 2, 0, 0, 2, 0, 0, 1, 0, 1, 0, 0, 1, 0, 2, 2, 0, 2, 2, 2, 2, 0, 2, 0, 1, 2, 2, 1, 2, 2, 0, 2, 0, 0, 1, 2, 2, 0, 2, 2, 1, 0, 2, 2, 2, 2, 2, 0, 1, 2, 0, 2, 2, 2, 2, 2, 2, 2, 2, 2, 1, 2, 2, 2, 2, 2, 0, 2, 2, 0, 2, 0, 0, 1, 2, 2, 2, 0, 0, 2, 0, 0, 2, 0, 0, 0, 0, 2, 0, 2, 0, 2, 2, 0, 2, 0, 0, 2, 0, 2, 2, 0, 2, 2, 0, 2, 1, 0, 2, 2, 2, 2, 2, 0, 1, 0, 1, 0, 0, 0, 0, 2, 2, 0, 2, 1, 0, 2, 1, 0, 0, 2, 0, 0, 2, 2, 2, 0, 1, 1, 2, 0, 1, 1, 2, 0, 2, 2, 1, 0, 2, 2, 0, 0, 2, 2, 0, 2, 2, 1, 0, 0, 0, 0, 0, 2, 2, 0, 2, 2, 2, 2, 2, 2, 0, 0, 2, 1, 1, 0, 1, 2, 2, 0, 0, 0, 0, 0, 2, 2, 2, 0, 0, 0, 1, 2, 0, 2, 1, 2, 0, 2, 2, 2, 2, 1, 0, 0, 1, 2, 0, 2, 0, 2, 2, 1, 2, 2, 0, 2, 2, 2, 0, 1, 0, 2, 2, 2, 0, 0, 0, 2, 1, 0, 2, 2, 0, 2, 0, 1, 0, 2, 0, 0, 0, 2, 2, 2, 0, 2, 2, 1, 0, 0, 2, 0, 2, 0, 2, 0, 2, 2, 2, 0, 0, 0, 2, 2, 0, 1, 2, 0, 0, 1, 0, 1, 0, 0, 0, 2, 1, 1, 1, 2, 2, 2, 1, 2, 2, 2, 0, 2, 0, 2, 2, 2, 0, 0, 2, 0, 2, 2, 2, 0, 0, 0, 2, 0, 2, 1, 0, 1, 0, 1, 2, 2, 2, 1, 0, 0, 2, 2, 0, 0, 2, 0, 2, 2, 2, 1, 2, 1, 2, 0, 0, 2, 0, 0, 1, 2, 0, 0, 0, 2, 2, 2, 0, 0, 2, 2, 2, 1, 1, 2, 2, 2, 0, 1, 1, 0, 0, 0, 2, 2, 0, 0, 2, 0, 2, 2, 2, 0, 0, 0, 2, 1, 2, 2, 2, 0, 2, 0, 2, 1, 0, 0, 1, 0, 0, 0, 1, 0, 0, 0, 0, 2, 2, 0, 1, 1, 2, 0, 2, 2, 2, 0, 2, 1, 0, 0, 0, 2, 2, 2, 2, 0, 1, 0, 2, 0, 2, 2, 0, 0, 2, 2, 0, 0, 2, 0, 2, 2, 2, 2, 0, 2, 2, 2, 0, 1, 0, 1, 2, 0, 0, 0, 2, 0, 0, 0, 0, 2, 0, 2, 0, 2, 0, 2, 0, 2, 1, 0, 0, 0, 2, 0, 1, 2, 1, 2, 2, 2, 2, 0, 2, 0, 1, 1, 0, 2, 0, 2, 2, 0, 0, 0, 2, 0, 0, 0, 2, 2, 0, 0, 2, 2, 2, 2, 0, 2, 1, 0, 0, 0, 2, 0, 2, 2, 0, 0, 1, 2, 2, 1, 1, 2, 2, 0, 2, 2, 2, 0, 1, 2, 1, 0, 0, 0, 0, 0, 0, 1, 2, 0, 1, 2, 0, 2, 0, 2, 0, 2, 0, 2, 0, 2, 2, 1, 0, 0, 2, 0, 2, 0, 0, 2, 1, 0, 0, 2, 2, 1, 2, 0, 2, 0, 2, 0, 2, 2, 0, 0, 1, 2, 2, 2, 2, 0, 0, 2, 2, 2, 0, 2, 2, 0, 0, 2, 1, 0, 0, 2, 0, 1, 2, 2, 2, 0, 0, 2, 1, 0, 0, 0, 1, 0, 2, 0, 2, 2, 0, 2, 0, 2, 2, 1, 2, 2, 0, 0, 2, 0, 2, 2, 2, 2, 2, 0, 2, 0, 1, 2, 2, 2, 2, 0, 2, 1, 2, 0, 0, 1, 0, 1, 0, 2, 2, 0, 2, 2, 0, 2, 1, 2, 0, 2, 2, 0, 0, 1, 2, 1, 2, 0, 2, 2, 2, 2, 2, 2, 0, 2, 0, 2, 2, 0, 1, 1, 0, 0, 2, 0, 0, 0, 0, 2, 0, 2, 0, 2, 0, 1, 0, 2, 2, 2, 2, 1, 0, 1, 2, 0, 2, 1, 0, 0, 0, 2, 1, 0, 2, 0, 0, 0, 0, 2, 1, 2, 2, 2, 2, 2, 0, 0, 2, 1, 0, 0, 0, 1, 2, 2, 2, 2, 2, 2, 2, 1, 2, 1, 0, 1, 1, 0, 0, 2, 0, 0, 2, 2, 0, 1, 1, 1, 0, 2, 0, 0, 0, 0, 2, 0, 0, 0, 0, 2, 2, 1, 1, 2, 0, 1, 1, 0, 2, 0, 2, 2, 0, 2, 2, 0, 0, 0, 2, 0, 2, 2, 0, 1, 0, 2, 2, 2, 0, 0, 2, 0, 1, 2, 2, 0, 2, 2, 1, 2, 2, 1, 2, 2, 0, 2, 1, 0, 0, 0, 2, 0, 1, 2, 2, 1, 2, 0, 2, 2, 1, 1, 0, 0, 1, 2, 2, 2, 0, 2, 0, 1, 0, 0, 2, 2, 2, 2, 2, 2, 2, 0, 2, 2, 2, 2, 2, 0, 2, 2, 0, 1, 0, 0, 2, 1, 0, 1, 2, 1, 0, 0, 2, 0, 2, 2, 2, 0, 2, 1, 0, 0, 2, 2, 2, 2, 0, 2, 2, 1, 0, 2, 1, 0, 0, 0, 0, 2, 0, 2, 0, 0, 2, 0, 2, 2, 2, 2, 2, 0, 1, 0, 1, 2, 2, 0, 2, 0, 1, 1, 2, 0, 0, 0, 0, 2, 1, 0, 0, 2, 1, 2, 0, 2, 0, 0, 2, 0, 2, 0, 0, 2, 2, 2, 1, 2, 2, 2, 2, 0, 1, 0, 1, 2, 2, 0, 1, 2, 0, 2, 0, 2, 1, 2, 2, 0, 2, 2, 0, 2, 0, 2, 0, 2, 2, 0, 1, 0, 0, 1, 0, 2, 2, 2, 2, 0, 0, 0, 2, 2, 2, 0, 0, 2, 1, 2, 0, 2, 0, 0, 0, 0, 0, 2, 2, 2, 0, 1, 1, 1, 2, 0, 0, 0, 2, 2, 0, 2, 1, 2, 2, 2, 0, 2, 2, 2, 2, 2, 0, 2, 2, 2, 1, 2, 0, 0, 1, 1, 2, 0, 2, 2, 0, 2, 2, 0, 0, 2, 2, 1, 1, 2, 1, 0, 2, 2, 1, 0, 2, 2, 2, 1, 0, 0, 1, 2, 2, 1, 2, 0, 2, 2, 1, 2, 0, 0, 2, 0, 0, 0, 1, 2, 0, 0, 0, 2, 1, 0, 1, 0, 1, 2, 0, 2, 2, 2, 2, 2, 2, 1, 0, 0, 0, 0, 0, 0, 1, 2, 0, 0, 0, 0, 2, 2, 2, 2, 0, 0, 2, 0, 0, 2, 2, 2, 2, 2, 2, 2, 0, 2, 0, 0, 1, 2, 2, 2, 2, 1, 1, 0, 2, 0, 0, 0, 0, 0, 2, 2, 1, 1, 0, 2, 0, 0, 1, 1, 2, 1, 1, 0, 0, 2, 2, 0, 0, 1, 0, 0, 0, 2, 2, 2, 2, 0, 0, 1, 0, 0, 2, 0, 2, 0, 2, 0, 0, 1, 2, 2, 2, 2, 2, 0, 2, 0, 0, 0, 2, 2, 0, 0, 1, 0, 0, 2, 0, 2, 2, 2, 2, 2, 0, 2, 1, 0, 2, 2, 2, 0, 0, 2, 0, 2, 2, 2, 2, 2, 2, 2, 0, 0, 2, 2, 0, 0, 2, 0, 0, 0, 2, 0, 0, 0, 2, 2, 2, 0, 0, 1, 0, 0, 2, 2, 2, 1, 2, 0, 2, 2, 2, 0, 0, 1, 1, 0, 0, 0, 0, 2, 0, 0, 2, 0, 1, 0, 2, 2, 0, 2, 0, 2, 2, 2, 0, 2, 1, 2, 0, 2, 2, 1, 0, 0, 0, 2, 2, 0, 0, 1, 2, 0, 0, 0, 2, 1, 1, 2, 2, 0, 0, 1, 2, 1, 1, 0, 2, 2, 0, 1, 2, 0, 2, 1, 1, 0, 2, 2, 0, 0, 2, 2, 2, 2, 0, 2, 2, 0, 2, 1, 0, 1, 0, 1, 0, 2, 1, 0, 1, 0, 0, 0, 2, 0, 2, 2, 2, 2, 0, 0, 0, 2, 0, 1, 2, 0, 0, 0, 2, 2, 0, 0, 2, 1, 2, 0, 0, 2, 0, 2, 0, 2, 0, 2, 2, 2, 2, 1, 1, 2, 2, 0, 2, 2, 1, 0, 2, 0, 1, 0, 0, 0, 1, 2, 0, 0, 0, 0, 2, 0, 0, 2, 2, 2, 1, 2, 0, 2, 2, 0, 0, 0, 0, 0, 2, 0, 1, 2, 2, 1, 1, 2, 2, 2, 0, 0, 1, 2, 0, 2, 0, 0, 0, 2, 0, 0, 2, 0, 0, 2, 1, 0, 1, 2, 0, 2, 2, 2, 1, 0, 0, 2, 2, 2, 1, 1, 2, 1, 0, 2, 0, 1, 2, 0, 2, 2, 2, 2, 2, 1, 2, 1, 2, 0, 2, 0, 2, 0, 0, 1, 2, 1, 0, 2, 0, 1, 0, 2, 0, 1, 2, 2, 1, 2, 1, 2, 0, 1, 2, 0, 2, 2, 2, 0, 2, 2, 2, 2, 2, 1, 2, 2, 1, 2, 2, 0, 2, 2, 2, 0, 0, 2, 1, 1, 0, 1, 2, 2, 2, 2, 2, 1, 0, 0, 2, 0, 2, 0, 2, 0, 1, 0, 2, 2, 0, 2, 0, 1, 2, 1, 0, 1, 0, 2, 2, 2, 2, 1, 2, 2, 0, 0, 2, 2, 2, 0, 1, 2, 0, 0, 0, 2, 1, 2, 1, 0, 1, 2, 2, 2, 2, 0, 2, 1, 2, 2, 2, 2, 2, 2, 0, 1, 0, 0, 0, 2, 0, 1, 0, 2, 1, 2, 2, 0, 2, 2, 0, 0, 2, 1, 1, 2, 0, 0, 2, 0, 0, 2, 2, 0, 0, 1, 2, 0, 0, 2, 2, 2, 0, 0, 1, 0, 0, 0, 2, 2, 2, 2, 2, 0, 0, 1, 2, 0, 2, 2, 2, 2, 1, 2, 2, 2, 0, 1, 1, 1, 1, 2, 0, 2, 2, 0, 1, 2, 2, 1, 0, 0, 0, 2, 0, 1, 2, 2, 0, 0, 0, 0, 2, 2, 2, 2, 2, 2, 2, 1, 2, 0, 0, 1, 2, 0, 0, 2, 2, 2, 2, 0, 2, 0, 0, 0, 2, 2, 2, 0, 0, 2, 2, 2, 2, 1, 2, 0, 2, 2, 2, 2, 2, 0, 2, 0, 1, 0, 2, 2, 1, 0, 1, 0, 2, 2, 0, 1, 0, 0, 0, 1, 0, 0, 2, 0, 2, 2, 0, 2, 0, 2, 2, 1, 2, 1, 2, 1, 2, 0, 2, 1, 1, 0, 2, 0, 2, 1, 0, 0, 0, 2, 2, 2, 0, 2, 2, 0, 0, 2, 2, 0, 0, 1, 2, 2, 2, 2, 0, 0, 2, 0, 0, 2, 2, 0, 2, 1, 0, 0, 0, 1, 1, 2, 0, 2, 0, 0, 1, 0, 2, 0, 0, 1, 0, 2, 2, 0, 2, 0, 1, 0, 2, 1, 2, 0, 0, 0, 1, 2, 2, 1, 0, 1, 2, 2, 0, 0, 1, 0, 2, 0, 2, 0, 2, 0, 2, 2, 0, 2, 0, 2, 1, 2, 2, 1, 1, 2, 2, 2, 1, 2, 2, 0, 0, 2, 0, 2, 2, 2, 1, 1, 0, 0, 1, 2, 1, 2, 0, 1, 1, 2, 2, 1, 2, 2, 0, 1, 2, 0, 0, 2, 2, 0, 0, 1, 2, 0, 2, 2, 2, 0, 2, 2, 2, 2, 2, 0, 2, 2, 1, 2, 2, 2, 0, 0, 2, 0, 2, 1, 2, 2, 2, 0, 2, 2, 2, 0, 2, 0, 0, 2, 0, 1, 0, 2, 2, 0, 2, 0, 1, 0, 2, 1, 0, 2, 0, 1, 2, 2, 2, 2, 0, 0, 0, 2, 0, 1, 2, 2, 0, 2, 2, 0, 1, 0, 2, 1, 2, 2, 2, 1, 2, 2, 2, 2, 0, 2, 2, 1, 0, 1, 2, 1, 2, 1, 2, 0, 0, 2, 0, 0, 2, 1, 0, 2, 2, 0, 1, 2, 0, 1, 2, 2, 1, 0, 0, 2, 0, 2, 0, 2, 1, 2, 2, 0, 2, 2, 2, 0, 0, 0, 0, 2, 0, 2, 1, 2, 2, 1, 2, 0, 1, 1, 2, 0, 2, 1, 2, 2, 2, 0, 2, 1, 2, 2, 2, 0, 2, 2, 0, 2, 2, 2, 1, 2, 1, 0, 0, 2, 1, 0, 2, 2, 1, 1, 0, 2, 0, 1, 2, 2, 2, 0, 1, 1, 1, 2, 1, 2, 0, 2, 0, 0, 2, 2, 2, 0, 0, 1, 0, 0, 1, 2, 1, 2, 2, 0, 2, 2, 0, 2, 0, 2, 0, 0, 0, 2, 0, 0, 1, 2, 0, 0, 1, 2, 0, 0, 0, 2, 2, 1, 2, 0, 2, 2, 0, 0, 2, 0, 0, 2, 0, 1, 2, 2, 1, 1, 1, 0, 1, 0, 1, 1, 1, 0, 1, 1, 0, 2, 0, 2, 1, 0, 2, 0, 0, 0, 2, 1, 1, 2, 2, 2, 1, 2, 1, 0, 1, 0, 2, 0, 2, 2, 2, 0, 2, 2, 0, 1, 2, 0, 2, 2, 0, 0, 2, 0, 2, 0, 2, 0, 0, 0, 2, 0, 2, 2, 2, 1, 1, 1, 1, 2, 1, 1, 0, 1, 1, 2, 0, 2, 2, 1, 0, 1, 0, 0, 2, 2, 0, 2, 2, 0, 0, 0, 0, 2, 2, 0, 0, 2, 2, 1, 0, 2, 2, 1, 2, 2, 0, 0, 1, 2, 0, 1, 1, 0, 2, 0, 2, 0, 0, 1, 2, 0, 2, 2, 0, 0, 0, 2, 0, 2, 2, 2, 2, 1, 2, 2, 2, 0, 0, 1, 0, 1, 0, 2, 0, 0, 0, 0, 0, 0, 0, 1, 1, 2, 1, 0, 2, 0, 0, 1, 2, 2, 1, 1, 0, 0, 0, 0, 2, 0, 2, 2, 2, 2, 2, 2, 2, 2, 2, 1, 1, 1, 2, 1, 2, 2, 0, 1, 0, 2, 2, 0, 1, 2, 0, 1, 0, 0, 0, 1, 2, 0, 2, 0, 2, 2, 2, 0, 1, 0, 0, 2, 2, 2, 2, 0, 0, 2, 0, 1, 0, 0, 2, 2, 2, 2, 0, 2, 0, 0, 0, 0, 2, 2, 0, 1, 2, 2, 1, 2, 2, 1, 0, 2, 0, 0, 2, 2, 2, 0, 2, 1, 0, 1, 2, 2, 0, 2, 2, 2, 2, 0, 0, 2, 0, 1, 2, 1, 0, 0, 1, 2, 2, 1, 2, 0, 2, 2, 0, 2, 2, 2, 1, 2, 0, 1, 1, 0, 0, 0, 2, 0, 0, 2, 0, 0, 0, 0, 1, 2, 2, 2, 2, 2, 0, 2, 0, 0, 1, 0, 2, 2, 1, 0, 0, 0, 2, 2, 1, 2, 2, 2, 2, 1, 1, 0, 2, 0, 0, 2, 2, 0, 0, 0, 2, 2, 0, 1, 2, 2, 2, 1, 2, 0, 2, 0, 0, 0, 1, 0, 2, 0, 2, 2, 2, 0, 2, 0, 0, 1, 0, 0, 2, 0, 2, 0, 2, 2, 2, 2, 2, 0, 0, 2, 2, 0, 2, 1, 0, 1, 2, 0, 2, 2, 0, 0, 0, 1, 2, 2, 1, 2, 2, 0, 0, 0, 2, 2, 2, 2, 0, 0, 0, 2, 2, 0, 2, 2, 0, 2, 1, 2, 1, 0, 2, 2, 2, 0, 2, 2, 2, 1, 0, 2, 1, 1, 0, 2, 0, 2, 2, 1, 0, 2, 2, 2, 2, 1, 0, 0, 2, 2, 1, 2, 2, 0, 0, 2, 1, 1, 1, 2, 2, 2, 0, 0, 0, 0, 0, 0, 0, 0, 1, 0, 2, 2, 0, 2, 0, 1, 0, 2, 2, 2, 2, 0, 2, 2, 2, 0, 0, 0, 1, 1, 2, 1, 2, 0, 2, 2, 2, 2, 2, 0, 1, 0, 0, 0, 0, 0, 2, 0, 1, 2, 0, 2, 2, 1, 2, 1, 0, 2, 0, 2, 2, 2, 2, 1, 0, 2, 1, 2, 2, 0, 1, 1, 2, 2, 0, 1, 2, 0, 0, 0, 2, 2, 2, 0, 2, 2, 2, 1, 2, 2, 0, 1, 2, 0, 2, 0, 0, 2, 0, 1, 2, 2, 0, 0, 1, 2, 2, 2, 0, 2, 2, 2, 2, 2, 0, 2, 1, 2, 2, 1, 0, 2, 2, 2, 2, 0, 2, 2, 0, 2, 0, 2, 2, 0, 2, 2, 2, 0, 2, 1, 2, 0, 0, 0, 0, 2, 1, 2, 2, 0, 0, 0, 0, 2, 0, 2, 2, 0, 0, 1, 1, 2, 2, 2, 0, 2, 2, 0, 2, 0, 0, 2, 1, 0, 2, 0, 0, 2, 0, 1, 0, 0, 2, 2, 0, 2, 2, 2, 0, 1, 2, 2, 0, 2, 2, 2, 0, 2, 2, 2, 2, 2, 2, 2, 2, 2, 1, 0, 2, 2, 2, 2, 2, 0, 1, 1, 2, 1, 2, 2, 2, 2, 0, 0, 2, 0, 0, 2, 0, 1, 2, 2, 0, 0, 2, 1, 2, 0, 2, 2, 2, 1, 2, 0, 0, 0, 2, 2, 2, 0, 0, 0, 2, 0, 1, 2, 2, 1, 0, 1, 2, 0, 0, 1, 1, 0, 2, 2, 0, 1, 0, 2, 2, 2, 2, 2, 2, 0, 0, 2, 0, 0, 2, 2, 2, 2, 0, 2, 1, 0, 2, 2, 1, 2, 0, 2, 2, 0, 0, 2, 0, 2, 0, 0, 1, 2, 0, 0, 0, 0, 0, 1, 2, 2, 0, 0, 0, 0, 1, 2, 1, 1, 0, 2, 0, 2, 2, 0, 1, 2, 2, 2, 1, 2, 2, 0, 2, 2, 0, 0, 0, 0, 1, 1, 2, 2, 0, 2, 0, 2, 2, 1, 2, 0, 2, 0, 2, 0, 2, 0, 0, 0, 2, 2, 2, 2, 2, 0, 0, 2, 2, 0, 0, 0, 0, 2, 2, 2, 0, 2, 2, 2, 2, 2, 1, 0, 2, 0, 2, 0, 2, 0, 2, 1, 2, 0, 0, 2, 1, 0, 2, 1, 1, 2, 2, 0, 2, 1, 0, 2, 2, 2, 1, 0, 0, 2, 2, 2, 0, 0, 0, 2, 0, 0, 2, 0, 2, 1, 0, 2, 2, 2, 2, 2, 2, 2, 2, 0, 1, 2, 2, 2, 0, 2, 2, 2, 2, 2, 2, 2, 2, 2, 2, 2, 0, 0, 0, 2, 0, 0, 0, 0, 0, 2, 2, 1, 2, 0, 2, 1, 0, 0, 0, 0, 2, 2, 1, 0, 2, 2, 1, 0, 1, 1, 0, 2, 1, 1, 1, 1, 0, 2, 2, 0, 2, 1, 2, 0, 0, 2, 0, 2, 0, 0, 2, 0, 2, 0, 1, 0, 0, 0, 2, 2, 2, 1, 0, 2, 0, 0, 0, 0, 2, 2, 2, 0, 2, 2, 0, 1, 0, 2, 2, 0, 0, 2, 2, 2, 2, 2, 2, 0, 1, 0, 2, 1, 1, 2, 0, 1, 0, 2, 0, 2, 2, 2, 2, 0, 1, 0, 0, 0, 2, 0, 2, 1, 2, 2, 2, 2, 2, 1, 2, 0, 0, 2, 2, 0, 2, 2, 0, 1, 0, 2, 0, 2, 0, 0, 2, 0, 2, 2, 2, 0, 1, 0, 2, 0, 0, 1, 0, 2, 2, 2, 1, 0, 2, 0, 0, 2, 0, 1, 2, 2, 2, 2, 0, 2, 1, 2, 0, 0, 2, 0, 2, 0, 2, 0, 2, 1, 2, 0, 1, 0, 2, 2, 0, 0, 1, 2, 1, 2, 2, 2, 0, 0, 1, 1, 2, 2, 0, 2, 2, 0, 2, 2, 2, 2, 2, 2, 0, 0, 2, 0, 2, 2, 2, 2, 2, 1, 2, 0, 2, 0, 2, 0, 0, 2, 2, 0, 0, 2, 0, 2, 2, 0, 2, 2, 0, 0, 2, 0, 2, 2, 2, 2, 0, 2, 2, 2, 1, 0, 2, 2, 2, 1, 0, 0, 0, 2, 2, 2, 0, 2, 0, 2, 0, 0, 1, 0, 0, 0, 2, 0, 0, 0, 0, 0, 2, 0, 0, 0, 2, 0, 2, 0, 0, 0, 2, 2, 2, 2, 1, 2, 0, 1, 2, 0, 1, 0, 0, 2, 2, 1, 2, 2, 0, 1, 0, 2, 2, 0, 0, 0, 2, 0, 1, 1, 0, 0, 0, 0, 0, 2, 2, 1, 2, 0, 0, 0, 0, 2, 0, 2, 1, 2, 2, 1, 0, 2, 2, 0, 0, 2, 2, 2, 2, 2, 2, 1, 1, 0, 1, 2, 2, 2, 0, 2, 2, 1, 0, 0, 2, 2, 2, 0, 1, 2, 2, 0, 2, 0, 0, 0, 2, 2, 2, 2, 2, 2, 0, 0, 0, 0, 0, 0, 0, 0, 2, 1, 0, 2, 2, 2, 0, 1, 2, 2, 2, 0, 0, 0, 0, 0, 2, 0, 0, 1, 0, 2, 2, 2, 2, 2, 0, 1, 0, 0, 1, 2, 1, 1, 2, 0, 0, 2, 0, 0, 2, 0, 2, 2, 2, 1, 2, 1, 0, 2, 0, 0, 2, 0, 2, 2, 0, 1, 2, 2, 0, 2, 0, 2, 0, 0, 1, 2, 2, 0, 2, 2, 1, 2, 0, 0, 2, 0, 2, 1, 0, 2, 2, 0, 0, 2, 2, 2, 2, 2, 0, 2, 2, 1, 2, 0, 0, 2, 1, 0, 0, 2, 0, 2, 0, 0, 0, 2, 1, 2, 2, 2, 2, 2, 2, 0, 2, 1, 0, 2, 0, 2, 2, 0, 0, 1, 2, 0, 0, 0, 1, 0, 2, 0, 0, 2, 2, 0, 2, 2, 0, 1, 2, 2, 0, 0, 2, 1, 0, 2, 0, 0, 2, 2, 2, 2, 2, 0, 2, 1, 1, 0, 2, 0, 0, 0, 2, 2, 2, 0, 2, 2, 2, 2, 0, 0, 1, 2, 2, 0, 0, 0, 2, 0, 2, 2, 0, 2, 0, 2, 0, 1, 2, 0, 0, 1, 0, 1, 0, 0, 2, 2, 2, 2, 1, 2, 0, 0, 2, 0, 2, 2, 0, 0, 0, 2, 2, 0, 0, 2, 0, 2, 0, 2, 1, 0, 2, 0, 1, 2, 0, 2, 0, 2, 0, 2, 1, 0, 2, 2, 2, 2, 0, 2, 0, 2, 0, 1, 2, 2, 2, 2, 2, 2, 2, 2, 2, 0, 2, 2, 1, 2, 2, 0, 2, 2, 2, 0, 0, 0, 0, 2, 0, 0, 0, 2, 0, 0, 2, 2, 2, 2, 2, 1, 1, 0, 0, 2, 2, 0, 2, 1, 0, 2, 2, 0, 1, 0, 0, 2, 1, 0, 2, 2, 2, 0, 0, 2, 2, 2, 0, 0, 0, 2, 0, 1, 2, 0, 0, 2, 0, 1, 0, 2, 2, 2, 0, 0, 2, 2, 2, 2, 2, 0, 1, 0, 1, 1, 0, 0, 0, 2, 2, 0, 0, 1, 0, 2, 2, 1, 0, 1, 2, 2, 0, 0, 1, 2, 2, 0, 0, 0, 0, 0, 0, 2, 0, 1, 2, 2, 2, 0, 2, 2, 2, 1, 0, 2, 0, 2, 0, 0, 0, 0, 0, 0, 0, 2, 2, 1, 2, 1, 0, 2, 2, 0, 2, 2, 0, 2, 0, 0, 2, 0, 0, 2, 0, 0, 1, 0, 0, 1, 0, 0, 0, 1, 0, 2, 2, 2, 2, 0, 0, 2, 2, 0, 0, 2, 2, 2, 2, 0, 2, 2, 1, 0, 0, 0, 1, 2, 2, 2, 2, 0, 1, 1, 2, 0, 2, 2, 0, 0, 2, 0, 0, 2, 0, 2, 2, 2, 0, 2, 2, 2, 0, 2, 0, 0, 0, 0, 1, 0, 2, 1, 1, 2, 1, 2, 0, 0, 1, 0, 2, 0, 1, 1, 0, 0, 2, 2, 2, 2, 0, 0, 0, 2, 2, 2, 1, 2, 0, 2, 0, 0, 0, 1, 1, 2, 0, 0, 2, 1, 0, 0, 0, 0, 0, 1, 1, 2, 2, 2, 0, 1, 2, 2, 2, 2, 2, 0, 0, 1, 2, 2, 0, 0, 1, 1, 0, 0, 0, 1, 2, 0, 0, 0, 0, 2, 2, 2, 1, 2, 2, 0, 0, 2, 1, 2, 0, 0, 1, 0, 0, 0, 0, 1, 0, 1, 2, 2, 1, 0, 1, 0, 2, 0, 2, 1, 2, 2, 2, 1, 0, 1, 2, 1, 1, 0, 2, 2, 2, 1, 0, 2, 0, 2, 0, 2, 2, 0, 2, 0, 1, 2, 2, 0, 2, 0, 0, 0, 2, 2, 0, 0, 0, 0, 1, 2, 2, 0, 1, 1, 0, 2, 1, 2, 0, 2, 2, 2, 1, 0, 2, 2, 2, 2, 2, 0, 2, 2, 2, 1, 2, 2, 1, 2, 2, 0, 0, 2, 0, 0, 1, 0, 2, 2, 0, 2, 0, 0, 0, 0, 1, 0, 2, 1, 0, 2, 0, 2, 2, 1, 2, 0, 2, 1, 0, 2, 2, 0, 1, 0, 0, 0, 1, 2, 0, 1, 0, 2, 1, 1, 0, 0, 0, 2, 2, 0, 2, 2, 2, 0, 1, 1, 2, 0, 0, 1, 0, 2, 2, 2, 1, 2, 0, 0, 0, 1, 0, 1, 0, 2, 1, 2, 2, 2, 2, 2, 1, 0, 2, 1, 0, 0, 2, 0, 0, 2, 0, 2, 2, 0, 2, 0, 2, 1, 2, 2, 0, 1, 2, 1, 2, 2, 2, 1, 2, 2, 2, 1, 2, 2, 0, 1, 2, 0, 2, 1, 2, 2, 0, 0, 2, 2, 2, 0, 2, 2, 0, 2, 2, 0, 1, 1, 0, 0, 1, 0, 0, 2, 2, 2, 0, 2, 1, 0, 2, 0, 1, 1, 0, 0, 2, 2, 2, 0, 0, 2, 2, 0, 2, 2, 0, 0, 0, 1, 0, 2, 0, 0, 2, 2, 2, 2, 1, 2, 2, 2, 2, 2, 2, 0, 0, 1, 1, 2, 0, 2, 1, 0, 2, 2, 0, 2, 2, 2, 2, 0, 2, 2, 0, 0, 2, 0, 0, 0, 1, 0, 2, 0, 1, 0, 2, 2, 1, 1, 2, 1, 2, 0, 2, 0, 2, 0, 0, 0, 0, 2, 2, 0, 0, 0, 0, 0, 0, 1, 2, 0, 2, 0, 2, 2, 2, 0, 1, 1, 0, 0, 2, 2, 1, 1, 2, 0, 0, 0, 1, 0, 0, 2, 0, 0, 0, 1, 0, 2, 2, 1, 0, 0, 2, 2, 2, 0, 2, 2, 0, 1, 0, 2, 0, 2, 0, 2, 1, 0, 0, 2, 1, 0, 2, 2, 0, 0, 1, 2, 2, 1, 2, 2, 1, 0, 1, 0, 0, 1, 2, 2, 0, 1, 2, 1, 2, 2, 0, 0, 2, 1, 0, 2, 1, 2, 2, 2, 0, 0, 0, 2, 0, 2, 2, 0, 2, 0, 1, 0, 0, 2, 2, 0, 0, 2, 0, 2, 0, 0, 0, 2, 2, 1, 2, 0, 1, 1, 0, 0, 0, 1, 0, 2, 2, 1, 0, 2, 0, 2, 0, 2, 0, 2, 2, 0, 2, 1, 0, 1, 2, 2, 1, 0, 2, 0, 0, 2, 0, 2, 2, 0, 0, 0, 2, 0, 2, 0, 2, 0, 1, 0, 2, 2, 1, 0, 0, 1, 2, 0, 0, 0, 0, 1, 2, 2, 2, 0, 1, 0, 0, 2, 2, 2, 1, 2, 0, 2, 0, 0, 2, 2, 0, 2, 1, 2, 2, 0, 2, 0, 2, 2, 0, 2, 2, 2, 1, 2, 1, 0, 0, 2, 2, 2, 0, 1, 0, 2, 0, 2, 1, 0, 2, 2, 0, 2, 1, 2, 0, 2, 1, 2, 1, 0, 0, 1, 0, 2, 1, 0, 0, 2, 0, 0, 2, 0, 0, 0, 0, 1, 0, 2, 0, 2, 2, 2, 0, 2, 0, 2, 0, 2, 1, 0, 0, 2, 2, 0, 0, 2, 2, 2, 1, 2, 1, 2, 1, 2, 2, 0, 2, 2, 0, 2, 1, 2, 2, 2, 2, 2, 0, 2, 2, 1, 2, 0, 0, 2, 0, 0, 0, 0, 2, 1, 1, 1, 0, 2, 2, 0, 0, 0, 2, 0, 2, 0, 0, 2, 2, 2, 0, 1, 2, 1, 0, 2, 0, 2, 2, 1, 2, 0, 0, 2, 2, 2, 2, 1, 0, 1, 1, 2, 1, 2, 2, 2, 1, 2, 2, 1, 2, 2, 2, 0, 2, 0, 1, 0, 0, 0, 2, 2, 2, 0, 2, 2, 2, 2, 1, 2, 0, 1, 0, 2, 1, 0, 0, 1, 1, 0, 0, 2, 2, 0, 1, 1, 2, 2, 0, 0, 0, 0, 0, 1, 0, 0, 0, 2, 0, 2, 0, 2, 2, 2, 0, 2, 0, 0, 0, 2, 0, 0, 2, 2, 2, 2, 0, 1, 2, 1, 2, 2, 1, 2, 0, 2, 2, 0, 1, 0, 2, 0, 2, 0, 0, 2, 0, 0, 2, 2, 1, 2, 0, 0, 0, 1, 2, 2, 1, 0, 2, 1, 2, 1, 2, 0, 1, 0, 0, 0, 1, 0, 2, 1, 2, 1, 0, 2, 0, 0, 2, 1, 2, 1, 2, 0, 0, 0, 2, 0, 2, 2, 2, 1, 2, 2, 0, 0, 0, 0, 1, 2, 1, 1, 2, 0, 2, 0, 2, 2, 2, 0, 1, 2, 0, 0, 1, 2, 1, 2, 0, 0, 0, 2, 0, 0, 2, 0, 2, 0, 0, 0, 2, 0, 0, 1, 1, 0, 0, 1, 2, 2, 0, 1, 0, 0, 0, 2, 1, 0, 1, 0, 2, 2, 2, 2, 0, 1, 2, 2, 0, 2, 0, 1, 2, 0, 2, 0, 2, 2, 0, 0, 1, 2, 1, 0, 2, 0, 0, 1, 0, 2, 2, 2, 0, 1, 1, 0, 2, 1, 2, 0, 0, 0, 0, 0, 0, 0, 2, 0, 2, 2, 0, 2, 0, 1, 0, 0, 2, 2, 1, 1, 0, 0, 2, 0, 2, 2, 2, 2, 0, 2, 2, 2, 2, 0, 1, 1, 2, 0, 2, 2, 2, 1, 2, 0, 2, 2, 0, 0, 2, 2, 2, 0, 2, 1, 2, 0, 2, 2, 2, 2, 2, 1, 0, 2, 2, 2, 0, 1, 2, 2, 2, 0, 2, 0, 0, 1, 0, 0, 2, 0, 1, 0, 2, 2, 0, 0, 0, 0, 0, 0, 2, 0, 0, 1, 2, 0, 0, 0, 0, 0, 0, 0, 1, 0, 1, 2, 2, 2, 2, 2, 1, 1, 2, 2, 2, 2, 2, 2, 2, 0, 2, 2, 2, 2, 0, 2, 2, 0, 2, 0, 2, 1, 1, 1, 2, 0, 1, 0, 2, 0, 0, 0, 1, 0, 1, 2, 2, 0, 1, 2, 0, 1, 2, 0, 2, 0, 2, 0, 2, 1, 2, 1, 0, 1, 1, 0, 1, 2, 2, 2, 0, 2, 0, 0, 2, 0, 2, 0, 0, 0, 2, 0, 1, 0, 0, 0, 2, 0, 2, 0, 0, 0, 0, 0, 1, 0, 1, 2, 2, 0, 0, 2, 0, 1, 2, 0, 0, 2, 0, 2, 2, 0, 2, 0, 0, 0, 2, 0, 2, 1, 2, 2, 0, 0, 0, 0, 0, 2, 2, 2, 0, 2, 2, 2, 2, 2, 1, 2, 2, 0, 2, 0, 2, 0, 2, 0, 2, 0, 0, 0, 1, 0, 0, 2, 0, 0, 2, 2, 0, 1, 0, 1, 2, 2, 2, 2, 2, 0, 1, 1, 2, 0, 2, 2, 2, 1, 2, 0, 1, 2, 0, 0, 2, 0, 0, 0, 0, 0, 0, 0, 1, 0, 2, 2, 1, 0, 0, 1, 1, 2, 0, 1, 2, 0, 2, 1, 2, 2, 2, 0, 2, 2, 0, 2, 0, 2, 1, 2, 2, 0, 2, 2, 2, 2, 0, 0, 2, 0, 0, 0, 2, 1, 2, 2, 2, 2, 2, 1, 1, 2, 1, 2, 1, 0, 0, 1, 0, 2, 1, 2, 2, 0, 2, 0, 2, 0, 1, 0, 0, 0, 2, 2, 0, 0, 0, 2, 2, 0, 0, 2, 0, 0, 1, 2, 1, 0, 0, 2, 2, 1, 2, 0, 0, 2, 2, 0, 0, 2, 1, 0, 0, 0, 0, 0, 2, 0, 0, 0, 0, 1, 0, 2, 0, 0, 2, 0, 2, 0, 2, 0, 0, 1, 0, 2, 0, 0, 2, 0, 0, 2, 0, 0, 2, 2, 1, 1, 0, 1, 2, 2, 1, 0, 0, 2, 2, 2, 0, 2, 2, 2, 1, 0, 0, 1, 0, 0, 2, 0, 0, 0, 2, 2, 1, 2, 2, 1, 1, 2, 2, 2, 2, 2, 0, 0, 0, 0, 0, 2, 0, 2, 1, 0, 2, 0, 2, 0, 1, 2, 1, 2, 0, 0, 1, 1, 2, 2, 2, 2, 2, 0, 0, 2, 0, 2, 0, 2, 0, 0, 0, 1, 2, 2, 0, 0, 0, 0, 1, 2, 1, 2, 2, 1, 2, 2, 2, 0, 2, 1, 0, 2, 0, 2, 2, 0, 2, 1, 0, 1, 0, 2, 0, 2, 0, 1, 2, 2, 2, 0, 2, 0, 0, 0, 2, 0, 2, 1, 2, 0, 1, 2, 2, 0, 2, 0, 2, 2, 2, 2, 0, 2, 0, 1, 2, 2, 2, 2, 2, 0, 2, 0, 0, 2, 1, 2, 0, 0, 0, 2, 0, 0, 2, 1, 2, 0, 0, 1, 2, 2, 1, 2, 2, 2, 0, 1, 0, 2, 0, 2, 2, 2, 2, 0, 0, 1, 0, 2, 2, 2, 2, 0, 2, 2, 2, 2, 0, 1, 0, 0, 0, 0, 0, 0, 0, 2, 0, 0, 1, 0, 0, 2, 2, 0, 2, 2, 1, 1, 0, 0, 0, 1, 2, 2, 2, 0, 0, 2, 2, 1, 0, 2, 2, 2, 0, 2, 0, 1, 0, 1, 2, 2, 2, 1, 2, 2, 0, 2, 0, 2, 0, 2, 2, 2, 2, 2, 2, 2, 0, 2, 2, 0, 2, 2, 2, 2, 0, 2, 0, 1, 0, 2, 1, 0, 0, 2, 0, 2, 2, 2, 0, 0, 2, 0, 2, 1, 2, 2, 0, 2, 0, 2, 0, 0, 2, 2, 0, 2, 1, 0, 1, 2, 2, 0, 2, 0, 2, 1, 0, 2, 0, 0, 2, 0, 0, 2, 2, 1, 0, 2, 2, 2, 2, 0, 0, 2, 2, 0, 2, 2, 2, 0, 2, 0, 0, 2, 2, 1, 2, 2, 2, 0, 0, 2, 2, 0, 2, 1, 2, 2, 0, 2, 2, 1, 0, 1, 2, 0, 0, 2, 0, 1, 2, 0, 0, 2, 0, 0, 0, 0, 1, 0, 0, 2, 2, 1, 2, 0, 0, 2, 0, 2, 0, 2, 0, 1, 0, 1, 1, 0, 2, 2, 0, 0, 0, 1, 2, 0, 2, 0, 0, 0, 0, 0, 0, 1, 2, 1, 2, 0, 0, 2, 1, 1, 0, 0, 2, 2, 0, 0, 2, 0, 2, 2, 1, 0, 2, 0, 0, 2, 0, 2, 0, 2, 1, 2, 0, 1, 2, 1, 1, 1, 2, 2, 0, 0, 0, 1, 0, 2, 0, 0, 0, 1, 2, 1, 2, 1, 1, 2, 0, 0, 2, 0, 0, 0, 2, 2, 2, 0, 2, 2, 2, 0, 2, 2, 0, 2, 2, 0, 2, 2, 1, 2, 0, 0, 2, 2, 2, 1, 1, 0, 2, 2, 1, 1, 2, 1, 0, 1, 2, 2, 0, 0, 2, 1, 0, 1, 2, 0, 2, 0, 2, 2, 2, 2, 2, 1, 2, 0, 2, 2, 2, 0, 2, 1, 1, 1, 2, 0, 2, 0, 2, 2, 2, 1, 2, 2, 1, 0, 0, 2, 2, 0, 2, 0, 2, 2, 0, 2, 0, 1, 2, 0, 2, 0, 2, 0, 2, 0, 2, 1, 0, 2, 2, 2, 0, 2, 0, 0, 2, 0, 1, 2, 0, 0, 0, 1, 2, 2, 1, 0, 2, 0, 0, 2, 0, 2, 0, 2, 0, 0, 0, 0, 0, 2, 2, 1, 2, 0, 2, 0, 2, 1, 0, 2, 1, 0, 2, 1, 0, 2, 1, 2, 0, 0, 2, 0, 0, 2, 1, 2, 2, 2, 2, 1, 0, 2, 2, 0, 2, 2, 0, 0, 0, 2, 2, 0, 0, 0, 1, 2, 0, 2, 2, 2, 2, 0, 1, 2, 0, 2, 0, 2, 0, 0, 2, 0, 2, 0, 0, 0, 0, 2, 1, 0, 0, 2, 0, 0, 2, 0, 0, 0, 2, 2, 1, 2, 0, 0, 2, 0, 2, 1, 0, 2, 0, 0, 2, 2, 0, 1, 0, 2, 2, 0, 0, 0, 2, 2, 0, 0, 1, 2, 0, 0, 1, 0, 2, 0, 0, 2, 0, 2, 2, 0, 2, 2, 2, 2, 2, 1, 2, 0, 0, 0, 0, 0, 0, 2, 0, 0, 0, 0, 2, 2, 1, 2, 0, 0, 2, 0, 1, 2, 1, 2, 0, 2, 2, 1, 2, 2, 2, 0, 0, 2, 0, 2, 0, 2, 2, 1, 2, 2, 1, 2, 0, 2, 0, 2, 2, 0, 0, 0, 2, 1, 2, 1, 2, 2, 2, 0, 2, 2, 2, 0, 0, 2, 2, 2, 0, 1, 2, 2, 0, 2, 2, 0, 1, 2, 2, 1, 2, 2, 1, 2, 2, 2, 2, 2, 0, 2, 0, 0, 2, 1, 0, 0, 1, 2, 2, 0, 0, 2, 2, 2, 0, 0, 2, 2, 0, 2, 2, 1, 0, 2, 2, 2, 1, 2, 1, 0, 2, 2, 0, 0, 2, 1, 2, 1, 0, 2, 2, 1, 0, 1, 2, 1, 0, 0, 0, 0, 0, 0, 2, 0, 1, 0, 0, 1, 2, 2, 0, 2, 2, 0, 0, 2, 0, 2, 0, 1, 2, 0, 0, 2, 0, 0, 2, 1, 2, 1, 0, 2, 0, 0, 2, 1, 1, 2, 0, 1, 2, 2, 2, 0, 2, 0, 2, 2, 2, 1, 2, 0, 0, 1, 0, 0, 0, 2, 0, 0, 2, 2, 2, 0, 1, 2, 1, 1, 0, 2, 2, 0, 0, 0, 0, 2, 2, 2, 0, 2, 2, 1, 0, 0, 0, 2, 0, 1, 0, 2, 2, 0, 2, 2, 2, 2, 1, 2, 0, 1, 0, 0, 2, 1, 1, 1, 2, 0, 1, 0, 1, 2, 1, 1, 0, 2, 0, 0, 2, 2, 1, 1, 0, 2, 2, 0, 2, 2, 0, 0, 0, 2, 2, 2, 0, 1, 0, 0, 1, 1, 2, 2, 2, 2, 1, 2, 0, 2, 0, 0, 2, 1, 0, 2, 0, 0, 1, 2, 2, 0, 2, 2, 1, 2, 0, 2, 2, 1, 2, 0, 2, 0, 0, 1, 2, 0, 2, 2, 2, 2, 0, 1, 0, 1, 0, 0, 2, 2, 2, 2, 2, 2, 2, 0, 0, 2, 2, 1, 0, 2, 0, 1, 1, 2, 2, 2, 0, 0, 2, 1, 2, 0, 2, 2, 0, 2, 0, 2, 2, 0, 1, 2, 0, 0, 1, 1, 2, 1, 2, 2, 0, 0, 2, 0, 0, 1, 2, 1, 1, 0, 2, 1, 0, 2, 1, 2, 2, 1, 1, 1, 1, 0, 0, 2, 0, 2, 2, 1, 1, 2, 0, 1, 2, 2, 2, 0, 2, 2, 2, 0, 2, 0, 0, 0, 0, 2, 2, 0, 2, 2, 2, 2, 0, 2, 1, 0, 0, 1, 2, 0, 0, 2, 2, 0, 0, 2, 2, 2, 0, 1, 2, 1, 0, 0, 2, 2, 0, 2, 2, 0, 2, 2, 0, 0, 0, 0, 2, 2, 2, 2, 0, 0, 0, 2, 2, 0, 0, 0, 2, 0, 1, 2, 0, 2, 2, 0, 2, 0, 2, 1, 2, 2, 2, 0, 1, 0, 0, 0, 2, 2, 0, 2, 2, 0, 1, 2, 0, 2, 0, 2, 0, 0, 0, 0, 0, 2, 0, 0, 2, 2, 0, 0, 2, 0, 1, 2, 0, 2, 0, 0, 1, 0, 0, 0, 0, 0, 2, 2, 2, 2, 1, 2, 1, 0, 2, 2, 1, 2, 0, 2, 2, 1, 2, 1, 0, 2, 0, 2, 0, 0, 1, 2, 0, 0, 2, 0, 0, 1, 2, 0, 0, 0, 0, 0, 2, 1, 2, 2, 2, 0, 0, 1, 0, 2, 2, 0, 0, 0, 0, 2, 2, 1, 2, 1, 2, 2, 2, 2, 0, 0, 2, 0, 1, 2, 1, 2, 2, 1, 2, 0, 2, 0, 0, 0, 2, 2, 0, 1, 2, 2, 0, 0, 0, 0, 2, 0, 2, 2, 2, 2, 0, 2, 0, 2, 2, 2, 0, 0, 0, 2, 2, 2, 2, 1, 2, 2, 1, 2, 1, 0, 0, 2, 2, 2, 2, 2, 0, 0, 2, 2, 2, 0, 0, 2, 0, 1, 0, 2, 1, 0, 2, 2, 0, 0, 0, 1, 0, 2, 0, 0, 2, 1, 2, 2, 2, 2, 0, 0, 0, 2, 0, 2, 0, 2, 2, 2, 1, 2, 1, 1, 0, 2, 0, 2, 2, 1, 0, 0, 1, 2, 1, 1, 0, 0, 2, 0, 1, 2, 0, 1, 2, 2, 0, 2, 2, 2, 2, 2, 0, 0, 2, 2, 2, 2, 2, 1, 0, 0, 2, 1, 1, 2, 0, 2, 0, 0, 0, 0, 0, 2, 2, 1, 0, 0, 2, 0, 0, 1, 2, 2, 2, 1, 2, 2, 1, 2, 2, 1, 1, 2, 2, 0, 2, 2, 1, 1, 1, 0, 2, 0, 2, 0, 0, 0, 1, 2, 0, 2, 2, 0, 2, 0, 1, 0, 2, 2, 1, 2, 2, 2, 2, 2, 0, 0, 0, 2, 1, 0, 2, 1, 0, 2, 2, 0, 2, 2, 0, 0, 0, 2, 2, 2, 2, 1, 2, 2, 2, 0, 0, 2, 1, 2, 1, 2, 1, 0, 2, 1, 0, 2, 0, 1, 0, 0, 0, 0, 0, 2, 2, 1, 2, 1, 1, 2, 2, 2, 2, 2, 2, 2, 2, 0, 2, 2, 2, 0, 0, 0, 2, 2, 2, 2, 2, 1, 2, 2, 2, 2, 2, 0, 0, 2, 1, 2, 1, 0, 2, 0, 2, 2, 0, 1, 0, 0, 0, 2, 0, 0, 2, 1, 0, 0, 1, 2, 0, 0, 2, 2, 0, 2, 2, 2, 2, 1, 2, 0, 1, 0, 2, 2, 2, 2, 2, 2, 2, 0, 0, 2, 0, 0, 0, 0, 1, 2, 2, 1, 0, 2, 2, 2, 1, 2, 0, 0, 2, 0, 2, 2, 0, 2, 2, 1, 0, 2, 0, 0, 2, 2, 2, 0, 1, 0, 2, 2, 0, 0, 2, 0, 0, 0, 0, 0, 0, 2, 1, 1, 2, 2, 0, 2, 2, 1, 2, 2, 0, 0, 2, 2, 2, 2, 0, 0, 1, 2, 2, 2, 0, 0, 2, 1, 0, 1, 0, 2, 2, 0, 2, 0, 0, 2, 2, 0, 0, 2, 2, 0, 0, 2, 2, 2, 2, 2, 0, 2, 1, 2, 0, 2, 2, 0, 0, 2, 0, 1, 1, 2, 0, 2, 0, 1, 0, 2, 2, 1, 0, 0, 0, 2, 2, 2, 2, 2, 0, 0, 2, 1, 0, 2, 1, 0, 2, 0, 1, 0, 1, 1, 2, 2, 0, 2, 2, 2, 1, 2, 0, 1, 1, 0, 0, 2, 1, 2, 2, 1, 0, 2, 2, 0, 0, 0, 2, 0, 0, 2, 0, 2, 2, 2, 1, 1, 2, 2, 1, 0, 2, 2, 2, 2, 2, 0, 0, 2, 1, 2, 0, 1, 0, 0, 1, 2, 0, 2, 2, 2, 0, 0, 0, 0, 0, 0, 0, 2, 0, 0, 0, 1, 0, 2, 2, 0, 0, 1, 0, 0, 2, 2, 1, 2, 2, 2, 2, 2, 0, 2, 0, 0, 2, 2, 2, 1, 1, 0, 2, 2, 2, 0, 2, 2, 1, 2, 2, 2, 0, 0, 2, 2, 2, 0, 1, 1, 1, 1, 2, 2, 2, 0, 0, 2, 0, 1, 0, 1, 0, 2, 2, 0, 0, 2, 0, 2, 2, 2, 0, 2, 2, 1, 2, 0, 0, 1, 0, 0, 0, 2, 0, 2, 1, 0, 0, 1, 2, 2, 0, 0, 1, 0, 1, 1, 0, 2, 0, 2, 0, 2, 1, 0, 1, 2, 2, 0, 2, 0, 0, 1, 1, 2, 2, 0, 2, 1, 0, 0, 0, 2, 0, 2, 0, 0, 2, 0, 1, 2, 2, 0, 0, 0, 1, 0, 2, 0, 2, 0, 0, 2, 2, 1, 2, 0, 2, 2, 0, 0, 0, 1, 0, 2, 0, 2, 1, 0, 2, 2, 2, 0, 0, 2, 0, 0, 2, 0, 0, 0, 1, 0, 2, 0, 0, 0, 0, 2, 1, 1, 0, 0, 1, 0, 2, 2, 2, 0, 0, 2, 0, 0, 0, 0, 2, 0, 0, 2, 1, 2, 0, 0, 0, 0, 2, 0, 2, 1, 1, 0, 0, 0, 0, 0, 0, 0, 2, 2, 0, 0, 0, 0, 2, 0, 1, 2, 1, 1, 1, 2, 0, 2, 1, 0, 1, 1, 2, 0, 2, 2, 2, 2, 0, 2, 2, 0, 2, 1, 2, 2, 0, 0, 0, 2, 0, 0, 0, 0, 0, 0, 1, 0, 1, 0, 0, 2, 2, 2, 0, 2, 0, 0, 2, 1, 1, 0, 2, 2, 1, 0, 1, 2, 2, 0, 0, 2, 1, 1, 2, 2, 0, 2, 2, 0, 2, 2, 0, 2, 0, 0, 1, 0, 1, 0, 2, 1, 0, 2, 2, 1, 2, 1, 1, 2, 2, 0, 2, 0, 0, 2, 2, 0, 0, 2, 0, 0, 2, 0, 2, 1, 0, 2, 2, 0, 0, 2, 1, 0, 0, 0, 1, 2, 0, 0, 1, 1, 2, 1, 2, 2, 1, 0, 0, 2, 0, 0, 1, 2, 0, 2, 2, 0, 2, 0, 2, 0, 0, 2, 2, 0, 1, 2, 0, 2, 0, 2, 1, 1, 2, 2, 1, 0, 1, 0, 2, 2, 2, 1, 0, 2, 1, 1, 0, 2, 0, 2, 2, 0, 0, 2, 0, 2, 2, 0, 2, 0, 2, 0, 2, 2, 1, 0, 0, 1, 2, 2, 2, 0, 0, 0, 0, 0, 0, 0, 2, 1, 1, 0, 1, 0, 2, 2, 2, 0, 0, 2, 0, 2, 0, 2, 2, 0, 2, 2, 2, 0, 2, 0, 0, 1, 0, 0, 2, 1, 0, 0, 0, 1, 1, 0, 2, 2, 2, 2, 2, 0, 0, 1, 0, 0, 2, 2, 2, 2, 1, 2, 0, 0, 2, 0, 0, 2, 1, 2, 2, 0, 0, 0, 1, 1, 2, 2, 1, 1, 2, 2, 0, 0, 0, 0, 0, 0, 0, 0, 2, 2, 1, 2, 1, 2, 0, 0, 1, 0, 0, 1, 0, 2, 2, 1, 1, 0, 2, 1, 2, 2, 2, 2, 1, 2, 0, 2, 2, 2, 2, 0, 2, 1, 2, 0, 0, 0, 1, 1, 0, 0, 1, 2, 0, 1, 1, 2, 0, 0, 0, 0, 1, 0, 2, 0, 1, 2, 2, 2, 2, 2, 2, 2, 1, 0, 2, 2, 1, 0, 2, 2, 2, 0, 0, 2, 0, 0, 2, 0, 1, 2, 0, 0, 0, 0, 2, 0, 0, 0, 0, 2, 2, 2, 1, 2, 2, 2, 0, 2, 2, 2, 0, 1, 2, 1, 0, 0, 0, 0, 1, 2, 0, 0, 2, 2, 2, 1, 2, 1, 0, 2, 2, 2, 2, 0, 2, 0, 0, 0, 0, 2, 2, 2, 2, 1, 2, 1, 1, 2, 2, 0, 1, 1, 0, 0, 2, 0, 2, 0, 0, 2, 2, 2, 2, 2, 1, 0, 0, 2, 0, 0, 2, 0, 0, 0, 0, 2, 1, 2, 2, 0, 0, 0, 1, 2, 1, 2, 0, 2, 0, 0, 0, 2, 2, 1, 0, 2, 2, 0, 1, 2, 2, 0, 2, 1, 2, 1, 0, 0, 0, 2, 2, 1, 0, 0, 0, 2, 0, 0, 2, 2, 2, 1, 2, 2, 2, 2, 2, 2, 2, 2, 0, 2, 2, 0, 2, 1, 0, 2, 2, 0, 1, 2, 0, 1, 0, 2, 0, 2, 2, 1, 2, 2, 2, 2, 1, 1, 2, 2, 1, 1, 0, 1, 0, 2, 1, 2, 1, 2, 2, 1, 1, 2, 1, 0, 0, 0, 2, 0, 0, 1, 0, 0, 1, 2, 2, 2, 0, 2, 2, 2, 1, 0, 0, 2, 1, 0, 2, 0, 1, 0, 2, 0, 0, 2, 0, 1, 0, 2, 0, 2, 0, 2, 2, 2, 1, 2, 2, 1, 1, 2, 0, 0, 2, 0, 2, 2, 1, 2, 0, 2, 1, 1, 1, 2, 0, 0, 0, 0, 2, 2, 1, 2, 2, 2, 0, 0, 1, 2, 0, 0, 0, 1, 0, 0, 2, 0, 2, 0, 1, 2, 2, 2, 0, 0, 2, 0, 0, 2, 2, 0, 0, 1, 1, 0, 2, 2, 2, 2, 2, 0, 0, 1, 0, 0, 0, 2, 0, 0, 0, 1, 1, 2, 0, 1, 1, 0, 0, 2, 0, 0, 2, 0, 2, 2, 0, 0, 0, 2, 1, 0, 0, 2, 2, 2, 2, 0, 2, 0, 2, 2, 0, 0, 1, 0, 0, 0, 1, 0, 0, 1, 0, 1, 2, 0, 2, 0, 0, 2, 0, 0, 2, 0, 0, 2, 0, 0, 2, 0, 1, 2, 2, 0, 0, 0, 2, 0, 2, 2, 2, 1, 0, 0, 2, 2, 1, 2, 0, 0, 0, 0, 1, 2, 2, 2, 2, 1, 2, 0, 0, 0, 0, 2, 0, 2, 1, 2, 1, 0, 0, 1, 0, 2, 2, 0, 1, 2, 1, 2, 1, 2, 2, 2, 0, 0, 0, 2, 2, 2, 0, 2, 0, 2, 1, 1, 2, 2, 0, 2, 0, 2, 1, 0, 2, 1, 0, 2, 2, 2, 1, 2, 1, 0, 2, 0, 0, 2, 2, 2, 1, 0, 2, 1, 2, 1, 1, 2, 0, 2, 1, 2, 2, 1, 0, 0, 1, 2, 2, 0, 0, 1, 1, 2, 2, 0, 2, 2, 2, 2, 2, 1, 0, 1, 2, 2, 0, 2, 0, 0, 0, 0, 2, 2, 0, 2, 0, 0, 1, 2, 2, 2, 2, 2, 1, 0, 0, 2, 2, 2, 0, 0, 0, 0, 0, 2, 0, 2, 2, 0, 2, 0, 2, 1, 1, 2, 0, 2, 0, 1, 0, 0, 0, 2, 2, 2, 2, 0, 0, 2, 1, 0, 0, 2, 2, 1, 2, 0, 0, 0, 0, 1, 2, 0, 2, 0, 0, 1, 2, 2, 2, 2, 2, 0, 1, 2, 0, 0, 2, 2, 2, 2, 2, 0, 2, 0, 0, 2, 1, 0, 2, 2, 0, 0, 0, 0, 2, 0, 2, 2, 0, 2, 2, 0, 2, 0, 0, 1, 2, 2, 0, 0, 0, 2, 0, 0, 0, 1, 2, 2, 1, 1, 0, 2, 2, 0, 2, 2, 2, 2, 2, 0, 0, 0, 0, 2, 2, 2, 0, 2, 2, 2, 0, 2, 0, 1, 1, 1, 2, 2, 2, 1, 2, 1, 2, 0, 1, 2, 0, 2, 2, 0, 2, 1, 1, 0, 0, 0, 0, 2, 2, 0, 2, 0, 2, 0, 2, 1, 0, 0, 1, 1, 0, 0, 0, 1, 0, 2, 2, 2, 2, 0, 0, 0, 0, 0, 2, 0, 0, 2, 2, 0, 0, 2, 2, 2, 1, 2, 2, 1, 2, 2, 0, 2, 2, 0, 2, 0, 1, 2, 0, 2, 2, 2, 2, 2, 1, 0, 2, 2, 0, 0, 2, 0, 2, 2, 2, 2, 2, 1, 1, 0, 0, 2, 2, 1, 0, 0, 0, 2, 1, 2, 2, 1, 1, 2, 2, 2, 1, 0, 2, 2, 0, 2, 2, 2, 1, 2, 0, 0, 2, 0, 0, 0, 1, 1, 2, 2, 2, 2, 2, 2, 2, 2, 0, 2, 2, 0, 1, 0, 1, 2, 0, 2, 2, 0, 0, 0, 1, 2, 0, 2, 2, 1, 0, 0, 2, 2, 2, 1, 0, 1, 0, 0, 1, 0, 1, 2, 2, 1, 2, 0, 1, 2, 2, 0, 1, 2, 1, 0, 2, 2, 0, 0, 2, 2, 1, 0, 0, 0, 2, 0, 0, 0, 0, 2, 1, 1, 0, 2, 2, 0, 2, 2, 0, 1, 2, 0, 2, 0, 2, 0, 0, 0, 2, 0, 1, 0, 2, 2, 2, 0, 0, 1, 0, 2, 2, 0, 0, 2, 2, 1, 2, 1, 0, 2, 2, 2, 0, 0, 0, 2, 0, 2, 2, 2, 1, 2, 0, 0, 0, 0, 0, 2, 2, 2, 0, 0, 1, 0, 0, 0, 1, 0, 0, 2, 0, 0, 0, 0, 0, 0, 2, 1, 0, 2, 0, 2, 2, 2, 0, 2, 2, 0, 2, 2, 0, 0, 0, 0, 1, 1, 2, 2, 2, 1, 2, 2, 2, 1, 2, 1, 0, 1, 2, 2, 2, 0, 2, 1, 2, 2, 0, 0, 1, 2, 2, 2, 2, 2, 1, 2, 0, 1, 2, 2, 0, 0, 2, 2, 2, 2, 2, 2, 1, 2, 2, 1, 2, 0, 0, 2, 0, 1, 2, 1, 0, 2, 2, 2, 0, 1, 2, 0, 1, 0, 2, 2, 0, 2, 1, 2, 0, 2, 0, 0, 2, 0, 0, 2, 0, 2, 0, 2, 2, 2, 0, 2, 1, 2, 2, 2, 0, 0, 1, 1, 1, 0, 0, 2, 2, 2, 2, 2, 1, 2, 2, 0, 2, 0, 2, 1, 2, 2, 0, 1, 0, 2, 0, 1, 0, 0, 1, 0, 0, 2, 0, 0, 1, 1, 0, 2, 2, 1, 2, 0, 0, 0, 1, 1, 2, 2, 0, 2, 0, 0, 1, 0, 1, 0, 2, 1, 0, 0, 2, 2, 1, 2, 2, 0, 0, 0, 0, 2, 0, 2, 0, 2, 2, 1, 2, 2, 1, 2, 0, 2, 1, 2, 0, 1, 1, 2, 0, 0, 1, 1, 1, 0, 0, 0, 2, 2, 0, 2, 2, 0, 2, 2, 2, 0, 2, 2, 2, 2, 2, 0, 2, 2, 0, 0, 2, 1, 0, 1, 0, 2, 0, 1, 0, 2, 1, 2, 2, 0, 2, 0, 0, 2, 1, 2, 0, 0, 2, 2, 0, 2, 1, 0, 2, 2, 0, 2, 2, 2, 2, 0, 2, 0, 0, 1, 0, 1, 0, 0, 0, 2, 1, 0, 2, 0, 0, 1, 1, 0, 2, 0, 0, 0, 0, 0, 2, 2, 0, 2, 2, 1, 2, 0, 0, 2, 1, 0, 0, 0, 2, 1, 2, 0, 1, 0, 2, 2, 0, 2, 2, 2, 0, 0, 1, 2, 0, 0, 2, 0, 0, 1, 0, 0, 2, 2, 0, 0, 0, 2, 0, 0, 2, 2, 0, 0, 0, 0, 0, 1, 2, 2, 2, 2, 1, 2, 1, 0, 0, 2, 0, 2, 0, 0, 1, 0, 0, 1, 0, 2, 1, 1, 2, 2, 2, 0, 0, 1, 0, 0, 0, 1, 2, 1, 0, 0, 1, 2, 2, 2, 2, 2, 2, 2, 2, 0, 2, 1, 2, 2, 2, 2, 0, 2, 2, 0, 0, 2, 2, 2, 2, 2, 2, 2, 0, 2, 0, 2, 0, 1, 1, 0, 1, 2, 2, 2, 0, 2, 1, 2, 0, 0, 2, 1, 0, 2, 0, 0, 0, 2, 0, 0, 2, 1, 0, 0, 2, 2, 0, 0, 0, 2, 0, 1, 0, 2, 2, 0, 0, 2, 2, 0, 0, 1, 1, 2, 1, 0, 0, 0, 2, 2, 0, 2, 0, 2, 2, 1, 1, 2, 2, 2, 2, 2, 0, 1, 2, 1, 2, 0, 2, 2, 2, 0, 2, 1, 2, 0, 1, 2, 1, 2, 0, 0, 1, 2, 0, 2, 2, 1, 2, 0, 1, 2, 2, 1, 2, 0, 0, 2, 1, 2, 2, 0, 2, 0, 2, 1, 1, 2, 1, 1, 2, 2, 1, 0, 0, 2, 1, 0, 2, 2, 0, 2, 2, 0, 1, 0, 0, 0, 0, 0, 0, 0, 2, 2, 0, 2, 2, 0, 0, 0, 2, 2, 2, 0, 0, 0, 2, 0, 0, 0, 2, 2, 0, 2, 1, 2, 0, 0, 0, 2, 0, 2, 0, 2, 2, 2, 0, 2, 2, 2, 1, 0, 0, 2, 0, 2, 1, 1, 0, 2, 2, 0, 2, 0, 1, 0, 2, 2, 1, 2, 1, 2, 2, 2, 0, 2, 1, 2, 2, 2, 1, 2, 2, 0, 2, 0, 2, 0, 0, 1, 2, 0, 2, 0, 2, 0, 2, 2, 2, 0, 2, 2, 0, 0, 0, 2, 1, 1, 2, 1, 2, 2, 1, 1, 2, 0, 0, 0, 0, 0, 0, 2, 0, 0, 2, 2, 0, 2, 1, 2, 2, 2, 2, 2, 1, 2, 1, 2, 0, 1, 0, 2, 0, 0, 0, 2, 2, 2, 2, 0, 2, 2, 2, 1, 1, 2, 2, 1, 2, 0, 0, 2, 2, 0, 2, 2, 0, 0, 2, 0, 2, 2, 1, 2, 0, 0, 2, 0, 0, 0, 0, 1, 2, 0, 0, 2, 1, 2, 0, 0, 1, 2, 0, 1, 0, 1, 2, 2, 2, 0, 2, 2, 2, 1, 1, 2, 0, 2, 2, 0, 0, 2, 1, 0, 2, 2, 0, 0, 2, 0, 2, 0, 2, 2, 2, 0, 2, 0, 2, 0, 0, 2, 1, 0, 0, 1, 0, 2, 0, 2, 0, 1, 0, 0, 2, 0, 2, 1, 2, 0, 2, 2, 2, 2, 1, 1, 2, 0, 0, 0, 2, 2, 0, 0, 2, 0, 1, 0, 0, 0, 2, 2, 0, 2, 0, 0, 2, 2, 2, 2, 2, 2, 0, 2, 0, 0, 2, 0, 2, 2, 0, 2, 0, 0, 2, 2, 2, 0, 2, 2, 0, 0, 0, 2, 2, 1, 1, 2, 0, 2, 2, 2, 0, 2, 1, 2, 0, 0, 2, 1, 0, 0, 0, 2, 2, 2, 0, 1, 2, 0, 1, 1, 2, 0, 0, 2, 1, 1, 1, 2, 0, 0, 2, 2, 0, 2, 0, 2, 2, 1, 2, 2, 2, 2, 2, 2, 0, 2, 1, 1, 1, 2, 2, 2, 2, 0, 2, 0, 0, 2, 1, 0, 2, 2, 0, 0, 2, 2, 0, 1, 0, 2, 0, 2, 2, 0, 2, 2, 1, 0, 1, 2, 1, 2, 1, 2, 2, 1, 0, 0, 2, 0, 0, 2, 2, 0, 0, 2, 1, 0, 2, 0, 0, 2, 1, 2, 2, 0, 0, 2, 1, 1, 2, 2, 0, 0, 2, 0, 1, 2, 1, 2, 0, 1, 2, 0, 0, 1, 2, 1, 0, 2, 0, 0, 1, 0, 2, 2, 2, 0, 2, 0, 1, 2, 0, 1, 1, 0, 0, 0, 0, 0, 2, 1, 2, 2, 0, 0, 2, 0, 2, 0, 2, 0, 1, 0, 2, 1, 1, 0, 2, 2, 2, 0, 2, 0, 2, 2, 1, 0, 1, 0, 0, 0, 2, 0, 1, 2, 0, 2, 0, 1, 2, 0, 1, 2, 2, 0, 2, 2, 0, 2, 2, 2, 0, 0, 0, 1, 0, 0, 0, 0, 2, 2, 0, 0, 0, 2, 2, 2, 2, 2, 2, 2, 2, 0, 1, 2, 0, 1, 2, 2, 2, 1, 2, 0, 0, 2, 2, 0, 2, 1, 2, 2, 0, 0, 2, 0, 0, 0, 1, 0, 2, 2, 0, 0, 2, 0, 1, 1, 2, 0, 2, 0, 2, 0, 1, 2, 0, 0, 0, 0, 2, 2, 0, 1, 1, 0, 0, 1, 2, 1, 0, 0, 1, 2, 2, 0, 2, 2, 1, 2, 0, 1, 2, 0, 0, 2, 0, 0, 2, 2, 0, 2, 0, 0, 2, 2, 2, 2, 1, 2, 2, 2, 1, 0, 1, 2, 2, 2, 2, 0, 2, 2, 1, 2, 0, 2, 1, 1, 0, 1, 2, 0, 2, 2, 0, 0, 0, 1, 2, 2, 2, 2, 2, 0, 0, 2, 2, 0, 0, 2, 1, 0, 0, 0, 2, 2, 2, 0, 0, 2, 0, 2, 0, 0, 2, 1, 2, 2, 2, 0, 1, 0, 0, 0, 0, 0, 1, 0, 2, 0, 0, 2, 2, 2, 2, 0, 0, 2, 2, 2, 0, 2, 2, 1, 2, 1, 0, 0, 2, 2, 0, 2, 0, 0, 2, 2, 2, 2, 2, 0, 2, 1, 2, 2, 1, 1, 0, 2, 0, 0, 0, 1, 0, 0, 2, 2, 0, 0, 0, 0, 2, 2, 2, 0, 0, 0, 0, 2, 1, 0, 0, 1, 2, 0, 1, 0, 2, 1, 0, 0, 2, 1, 2, 2, 0, 0, 0, 2, 1, 2, 2, 1, 2, 1, 2, 1, 0, 1, 0, 0, 1, 2, 2, 2, 2, 2, 0, 0, 1, 2, 1, 2, 0, 2, 1, 0, 1, 0, 0, 2, 2, 2, 0, 0, 1, 1, 1, 0, 1, 1, 2, 2, 0, 0, 0, 1, 0, 2, 1, 2, 2, 0, 0, 2, 1, 0, 0, 0, 2, 0, 1, 2, 0, 2, 0, 2, 0, 2, 2, 0, 1, 0, 1, 2, 1, 0, 0, 0, 0, 2, 2, 2, 2, 0, 2, 0, 2, 2, 0, 0, 2, 2, 0, 2, 2, 2, 2, 0, 0, 2, 2, 2, 0, 0, 2, 0, 0, 2, 0, 2, 1, 2, 2, 2, 2, 2, 0, 2, 2, 0, 2, 0, 1, 0, 2, 2, 0, 0, 2, 2, 2, 0, 1, 1, 0, 0, 0, 0, 2, 0, 1, 2, 0, 2, 0, 2, 2, 2, 2, 2, 1, 1, 2, 0, 2, 2, 2, 0, 0, 2, 0, 0, 2, 2, 0, 1, 2, 0, 0, 2, 2, 2, 1, 0, 0, 1, 0, 0, 2, 2, 0, 2, 2, 2, 2, 0, 2, 0, 2, 0, 2, 0, 0, 0, 0, 0, 2, 0, 2, 0, 1, 2, 2, 2, 1, 0, 2, 0, 2, 0, 2, 2, 1, 2, 2, 2, 2, 0, 2, 0, 1, 1, 0, 0, 0, 2, 0, 2, 1, 2, 2, 2, 2, 2, 1, 0, 0, 2, 2, 2, 0, 0, 0, 0, 2, 2, 2, 1, 2, 1, 1, 1, 2, 0, 2, 1, 0, 0, 2, 2, 2, 2, 1, 2, 0, 1, 0, 2, 2, 2, 2, 2, 0, 2, 0, 0, 1, 2, 2, 1, 2, 0, 1, 2, 2, 0, 0, 0, 2, 0, 0, 0, 2, 2, 0, 2, 0, 1, 1, 0, 0, 0, 2, 0, 0, 2, 2, 0, 2, 1, 0, 0, 1, 1, 2, 1, 2, 2, 0, 0, 0, 2, 0, 2, 1, 1, 2, 2, 0, 2, 0, 2, 0, 1, 0, 2, 1, 2, 0, 2, 2, 1, 0, 2, 2, 0, 0, 0, 2, 0, 2, 2, 2, 1, 2, 2, 1, 2, 0, 1, 2, 2, 2, 0, 2, 0, 0, 2, 2, 1, 2, 2, 0, 0, 0, 1, 0, 0, 0, 1, 2, 0, 2, 1, 1, 2, 2, 1, 2, 0, 1, 2, 0, 0, 2, 1, 0, 0, 0, 1, 2, 1, 2, 2, 1, 2, 2, 0, 0, 1, 0, 0, 0, 1, 2, 2, 0, 2, 0, 1, 0, 2, 0, 0, 1, 2, 1, 1, 1, 0, 1, 0, 1, 0, 2, 1, 1, 1, 0, 0, 1, 2, 0, 0, 0, 0, 2, 0, 2, 0, 2, 2, 0, 0, 0, 0, 2, 1, 2, 2, 0, 0, 0, 0, 2, 2, 0, 2, 2, 0, 2, 2, 0, 2, 2, 2, 0, 2, 2, 2, 2, 2, 1, 2, 2, 2, 2, 0, 1, 2, 2, 0, 0, 0, 0, 1, 1, 2, 0, 2, 0, 0, 2, 2, 2, 2, 0, 0, 2, 0, 1, 0, 1, 0, 2, 2, 0, 2, 0, 2, 0, 1, 1, 2, 1, 0, 2, 0, 2, 0, 0, 2, 2, 1, 0, 0, 1, 2, 1, 2, 2, 0, 1, 0, 2, 2, 2, 1, 2, 2, 1, 2, 1, 2, 1, 2, 1, 0, 0, 0, 0, 0, 1, 2, 0, 1, 0, 2, 0, 1, 0, 0, 2, 0, 2, 0, 2, 2, 1, 2, 2, 2, 1, 0, 2, 0, 0, 2, 0, 2, 2, 0, 2, 0, 0, 2, 0, 0, 2, 0, 2, 1, 0, 1, 2, 2, 0, 2, 2, 0, 0, 2, 2, 0, 0, 2, 0, 1, 0, 1, 0, 2, 0, 2, 2, 2, 2, 0, 0, 2, 0, 2, 1, 2, 0, 0, 1, 0, 2, 1, 2, 0, 2, 2, 2, 2, 2, 0, 0, 1, 1, 2, 1, 0, 2, 0, 0, 2, 0, 2, 0, 2, 1, 2, 2, 2, 2, 2, 2, 0, 0, 2, 0, 2, 0, 1, 1, 1, 1, 0, 0, 2, 2, 0, 2, 2, 2, 1, 0, 0, 2, 0, 0, 2, 2, 1, 1, 2, 0, 2, 0, 2, 2, 1, 0, 1, 0, 0, 0, 2, 2, 1, 2, 0, 0, 2, 0, 1, 2, 2, 0, 2, 0, 0, 0, 0, 1, 1, 2, 0, 2, 2, 0, 0, 0, 0, 1, 0, 2, 1, 0, 2, 0, 0, 2, 1, 2, 2, 2, 0, 0, 2, 0, 2, 2, 0, 2, 2, 2, 0, 2, 0, 1, 2, 0, 0, 1, 0, 0, 1, 1, 2, 1, 0, 0, 2, 0, 2, 2, 2, 2, 1, 2, 0, 1, 0, 2, 0, 0, 2, 2, 0, 0, 1, 2, 0, 2, 0, 2, 0, 0, 2, 0, 0, 0, 2, 2, 2, 1, 0, 1, 0, 0, 0, 0, 1, 1, 0, 2, 2, 2, 2, 0, 2, 2, 2, 2, 2, 2, 1, 2, 2, 0, 2, 0, 0, 0, 2, 0, 0, 2, 0, 2, 1, 0, 0, 2, 0, 0, 1, 1, 2, 0, 0, 0, 2, 1, 0, 0, 0, 1, 0, 1, 0, 0, 2, 1, 0, 0, 0, 1, 0, 1, 1, 0, 0, 2, 0, 2, 2, 1, 0, 1, 2, 2, 0, 1, 0, 0, 0, 0, 1, 2, 2, 1, 0, 0, 0, 2, 0, 1, 0, 0, 1, 1, 2, 2, 2, 0, 2, 2, 1, 2, 0, 0, 2, 0, 2, 2, 0, 1, 2, 0, 2, 0, 2, 2, 2, 2, 0, 2, 2, 0, 2, 1, 0, 0, 2, 0, 0, 2, 0, 0, 2, 1, 1, 1, 2, 0, 2, 2, 2, 2, 2, 1, 0, 0, 2, 0, 2, 1, 2, 1, 0, 2, 0, 2, 0, 0, 0, 1, 2, 1, 2, 2, 2, 2, 1, 2, 2, 0, 2, 2, 2, 1, 2, 1, 2, 2, 1, 2, 0, 0, 2, 2, 2, 2, 0, 0, 0, 2, 1, 0, 2, 0, 0, 2, 2, 1, 2, 2, 2, 0, 0, 1, 1, 1, 0, 2, 1, 0, 2, 0, 1, 2, 1, 0, 2, 2, 0, 0, 2, 1, 2, 0, 0, 2, 0, 0, 2, 0, 1, 2, 0, 0, 0, 0, 2, 0, 2, 0, 2, 2, 0, 2, 1, 1, 0, 0, 0, 0, 2, 2, 2, 0, 0, 0, 2, 2, 2, 0, 2, 2, 0, 2, 2, 2, 1, 2, 2, 2, 0, 0, 0, 1, 2, 2, 0, 1, 0, 0, 2, 2, 0, 0, 2, 0, 2, 2, 2, 1, 0, 0, 2, 2, 2, 0, 0, 0, 1, 1, 1, 2, 1, 1, 0, 2, 2, 2, 2, 1, 0, 2, 2, 2, 2, 2, 1, 0, 0, 0, 0, 2, 0, 0, 2, 2, 1, 2, 0, 2, 1, 0, 0, 2, 1, 1, 0, 0, 0, 0, 2, 2, 2, 0, 0, 1, 2, 1, 0, 0, 2, 0, 0, 2, 2, 2, 2, 2, 1, 2, 0, 2, 1, 1, 0, 2, 2, 2, 1, 2, 0, 1, 0, 2, 1, 0, 0, 0, 0, 0, 1, 2, 2, 1, 2, 0, 0, 0, 2, 2, 2, 0, 2, 0, 2, 2, 2, 0, 1, 0, 0, 2, 2, 0, 0, 2, 0, 0, 0, 0, 0, 2, 0, 1, 2, 2, 2, 0, 2, 2, 1, 0, 0, 0, 1, 0, 2, 1, 2, 0, 2, 2, 2, 0, 0, 0, 0, 2, 0, 2, 2, 2, 2, 2, 0, 1, 0, 0, 0, 2, 2, 2, 2, 2, 2, 0, 2, 0, 2, 0, 1, 2, 2, 0, 0, 0, 1, 0, 0, 2, 2, 2, 2, 2, 1, 1, 0, 0, 2, 0, 0, 1, 2, 0, 0, 0, 0, 2, 2, 2, 0, 2, 2, 0, 0, 2, 1, 2, 2, 2, 0, 0, 2, 2, 2, 2, 0, 2, 2, 0, 2, 2, 0, 0, 1, 2, 2, 2, 2, 0, 2, 2, 0, 2, 0, 2, 1, 2, 2, 2, 2, 0, 1, 0, 0, 2, 0, 2, 1, 0, 2, 2, 0, 2, 2, 0, 0, 2, 2, 1, 0, 1, 0, 2, 0, 0, 0, 2, 2, 2, 2, 2, 0, 0, 0, 0, 2, 0, 2, 2, 0, 2, 1, 2, 0, 2, 2, 0, 2, 2, 2, 2, 1, 2, 0, 0, 0, 0, 0, 2, 2, 1, 2, 1, 0, 2, 0, 0, 0, 2, 0, 2, 2, 0, 2, 0, 0, 0, 2, 0, 1, 2, 0, 2, 1, 2, 0, 2, 0, 2, 2, 2, 2, 0, 0, 2, 1, 2, 0, 0, 2, 2, 2, 2, 2, 0, 1, 0, 2, 0, 2, 2, 0, 2, 2, 2, 1, 0, 0, 2, 2, 2, 2, 2, 0, 0, 0, 2, 0, 0, 0, 2, 2, 0, 0, 0, 1, 0, 2, 1, 1, 1, 0, 0, 0, 2, 2, 2, 0, 1, 0, 2, 0, 2, 0, 0, 2, 2, 0, 0, 0, 2, 1, 2, 0, 2, 0, 2, 2, 2, 2, 2, 2, 0, 0, 2, 0, 1, 2, 0, 1, 0, 0, 2, 0, 2, 1, 0, 2, 0, 0, 2, 2, 0, 2, 2, 2, 2, 1, 0, 2, 0, 2, 2, 0, 1, 2, 0, 1, 1, 0, 0, 1, 0, 2, 0, 2, 2, 2, 1, 0, 1, 2, 2, 0, 2, 2, 2, 2, 0, 0, 2, 0, 2, 0, 2, 2, 0, 2, 1, 2, 2, 0, 0, 1, 2, 2, 0, 0, 2, 0, 2, 0, 0, 2, 1, 2, 0, 0, 2, 0, 0, 0, 1, 1, 2, 2, 0, 0, 2, 0, 0, 0, 2, 0, 2, 2, 0, 2, 0, 0, 2, 1, 2, 2, 1, 2, 0, 2, 2, 0, 0, 1, 2, 2, 2, 2, 2, 2, 2, 2, 2, 2, 0, 2, 2, 2, 0, 0, 0, 2, 1, 2, 2, 2, 2, 1, 2, 2, 0, 1, 1, 1, 2, 2, 2, 2, 0, 2, 0, 0, 0, 0, 1, 2, 2, 0, 0, 2, 2, 1, 1, 1, 2, 2, 0, 2, 1, 0, 0, 0, 0, 0, 1, 0, 2, 2, 1, 2, 0, 0, 1, 2, 2, 2, 0, 0, 0, 2, 2, 2, 2, 0, 1, 1, 0, 0, 2, 2, 0, 0, 2, 0, 2, 2, 2, 0, 2, 2, 0, 1, 2, 0, 2, 1, 2, 0, 2, 1, 0, 2, 2, 2, 2, 0, 1, 0, 2, 1, 2, 0, 0, 2, 0, 2, 1, 0, 1, 2, 1, 2, 2, 2, 0, 2, 2, 0, 2, 2, 2, 2, 0, 2, 2, 0, 1, 0, 0, 2, 0, 2, 0, 0, 2, 0, 0, 0, 2, 1, 2, 2, 0, 0, 0, 2, 0, 1, 0, 1, 2, 0, 2, 1, 1, 0, 0, 1, 0, 2, 0, 1, 1, 0, 1, 0, 2, 2, 2, 2, 2, 2, 0, 2, 2, 0, 1, 0, 2, 0, 2, 2, 0, 0, 0, 1, 0, 2, 2, 0, 0, 2, 2, 1, 1, 1, 0, 2, 0, 0, 2, 1, 2, 0, 2, 2, 0, 0, 0, 0, 1, 2, 1, 1, 1, 2, 1, 1, 0, 0, 2, 1, 2, 1, 1, 1, 0, 2, 2, 0, 2, 0, 0, 2, 1, 2, 2, 2, 0, 2, 2, 2, 2, 0, 0, 2, 2, 2, 2, 0, 0, 2, 2, 1, 0, 1, 2, 2, 1, 2, 0, 2, 0, 0, 0, 2, 0, 0, 0, 0, 2, 1, 0, 2, 2, 0, 2, 1, 1, 2, 0, 2, 2, 2, 2, 0, 0, 0, 1, 0, 2, 2, 2, 1, 0, 1, 0, 0, 0, 2, 2, 1, 0, 2, 1, 0, 1, 0, 2, 2, 2, 1, 2, 2, 0, 1, 2, 2, 1, 0, 0, 0, 0, 1, 0, 0, 2, 2, 1, 0, 0, 0, 2, 0, 0, 1, 1, 1, 2, 0, 2, 0, 2, 1, 2, 2, 2, 0, 2, 2, 2, 0, 2, 0, 2, 0, 2, 2, 0, 2, 2, 0, 0, 0, 1, 1, 2, 0, 0, 2, 0, 2, 0, 0, 1, 1, 0, 0, 1, 0, 1, 0, 0, 0, 0, 0, 0, 1, 0, 2, 1, 1, 1, 2, 0, 0, 1, 2, 2, 2, 0, 2, 2, 0, 0, 2, 2, 0, 0, 0, 1, 0, 0, 0, 1, 0, 0, 0, 0, 2, 2, 0, 2, 0, 0, 2, 0, 1, 1, 0, 0, 0, 0, 0, 2, 2, 2, 2, 2, 0, 0, 2, 0, 1, 1, 2, 2, 0, 0, 2, 0, 0, 2, 0, 0, 0, 2, 2, 1, 0, 2, 0, 0, 1, 0, 2, 2, 0, 0, 2, 2, 0, 0, 2, 2, 0, 1, 1, 2, 0, 0, 2, 2, 0, 2, 2, 0, 2, 0, 0, 0, 2, 0, 2, 2, 0, 2, 2, 2, 0, 1, 0, 1, 1, 1, 0, 0, 2, 0, 2, 0, 0, 0, 2, 0, 2, 0, 0, 2, 0, 0, 0, 2, 0, 2, 1, 1, 0, 0, 1, 1, 2, 0, 2, 0, 2, 2, 2, 2, 2, 2, 2, 0, 0, 0, 1, 2, 0, 2, 2, 1, 2, 2, 2, 2, 1, 2, 2, 2, 0, 2, 0, 0, 2, 2, 2, 0, 1, 2, 2, 1, 2, 2, 0, 2, 0, 2, 2, 2, 2, 1, 0, 0, 2, 2, 2, 0, 0, 0, 0, 0, 2, 0, 0, 0, 2, 2, 2, 2, 0, 0, 1, 1, 2, 0, 0, 0, 1, 0, 2, 2, 2, 1, 2, 2, 0, 2, 1, 2, 0, 1, 1, 0, 2, 2, 2, 0, 2, 1, 2, 2, 2, 1, 2, 2, 1, 0, 2, 0, 0, 1, 0, 2, 2, 2, 2, 2, 0, 0, 2, 0, 0, 2, 0, 2, 2, 2, 0, 0, 0, 0, 2, 0, 1, 2, 2, 0, 0, 0, 2, 0, 2, 0, 2, 0, 0, 2, 0, 2, 0, 0, 2, 0, 0, 0, 0, 0, 0, 0, 2, 1, 0, 2, 0, 0, 2, 2, 2, 1, 1, 0, 0, 2, 2, 2, 0, 1, 2, 0, 0, 1, 0, 2, 2, 1, 1, 2, 0, 2, 0, 0, 0, 0, 0, 1, 1, 2, 0, 0, 1, 0, 0, 2, 2, 0, 2, 1, 2, 2, 1, 1, 2, 0, 2, 2, 1, 0, 0, 0, 0, 0, 0, 1, 0, 2, 2, 2, 0, 0, 2, 1, 2, 2, 2, 1, 0, 2, 1, 2, 0, 0, 2, 2, 1, 2, 0, 0, 0, 2, 0, 2, 2, 2, 0, 0, 0, 2, 0, 2, 0, 0, 2, 0, 0, 1, 0, 2, 1, 2, 1, 2, 1, 2, 1, 1, 2, 0, 2, 2, 2, 2, 2, 2, 2, 1, 0, 2, 0, 0, 0, 2, 2, 0, 0, 2, 2, 2, 2, 0, 0, 2, 2, 0, 2, 2, 0, 0, 1, 1, 0, 2, 2, 0, 2, 2, 1, 0, 2, 0, 2, 2, 1, 0, 0, 2, 0, 2, 0, 2, 0, 1, 0, 2, 2, 2, 0, 0, 0, 0, 1, 2, 0, 2, 0, 0, 0, 1, 2, 2, 2, 2, 2, 1, 2, 2, 0, 0, 2, 2, 1, 2, 0, 2, 0, 0, 2, 2, 2, 2, 1, 2, 2, 2, 0, 1, 2, 0, 2, 2, 0, 1, 2, 0, 2, 2, 2, 1, 0, 0, 2, 2, 0, 0, 0, 2, 0, 0, 1, 0, 0, 0, 1, 0, 1, 1, 2, 0, 2, 0, 2, 2, 2, 1, 2, 2, 1, 0, 0, 0, 0, 0, 2, 1, 0, 2, 2, 1, 1, 0, 1, 2, 2, 1, 0, 2, 0, 2, 0, 1, 2, 0, 0, 2, 2, 2, 2, 2, 0, 0, 0, 1, 1, 2, 1, 0, 2, 2, 1, 2, 0, 2, 0, 0, 2, 0, 1, 1, 2, 0, 0, 0, 0, 2, 0, 2, 0, 2, 2, 2, 0, 2, 2, 2, 0, 1, 1, 2, 2, 0, 1, 2, 1, 2, 2, 2, 0, 2, 2, 0, 0, 0, 2, 0, 2, 0, 0, 0, 0, 0, 2, 0, 0, 2, 0, 1, 0, 1, 1, 0, 2, 2, 2, 2, 2, 0, 0, 1, 1, 2, 2, 1, 2, 0, 0, 0, 2, 1, 0, 0, 2, 2, 2, 0, 0, 1, 0, 0, 0, 1, 0, 1, 2, 2, 0, 2, 2, 2, 1, 2, 2, 0, 2, 2, 1, 0, 2, 2, 2, 0, 0, 0, 0, 0, 0, 2, 2, 2, 1, 2, 0, 2, 2, 2, 0, 1, 0, 2, 2, 2, 2, 2, 1, 2, 2, 0, 0, 1, 0, 2, 2, 1, 2, 0, 1, 2, 0, 0, 1, 1, 2, 2, 1, 0, 0, 2, 0, 0, 0, 2, 2, 2, 2, 0, 0, 0, 0, 0, 2, 1, 2, 1, 0, 2, 1, 2, 0, 2, 2, 2, 0, 2, 2, 0, 0, 1, 2, 0, 0, 0, 1, 0, 2, 0, 0, 0, 2, 2, 2, 1, 2, 2, 0, 0, 1, 2, 2, 1, 0, 0, 0, 2, 2, 2, 0, 0, 0, 2, 2, 2, 1, 2, 2, 1, 0, 1, 0, 1, 0, 0, 2, 0, 2, 2, 2, 1, 0, 0, 1, 0, 2, 2, 2, 0, 1, 2, 2, 2, 0, 2, 0, 0, 2, 0, 2, 0, 0, 2, 1, 0, 0, 0, 0, 2, 2, 2, 1, 2, 2, 2, 0, 2, 2, 2, 2, 2, 1, 1, 2, 1, 1, 0, 0, 1, 1, 0, 2, 1, 0, 0, 2, 0, 2, 2, 2, 1, 2, 2, 2, 2, 2, 1, 0, 1, 0, 2, 0, 2, 2, 0, 0, 1, 0, 2, 1, 2, 1, 0, 1, 2, 2, 2, 2, 0, 2, 2, 1, 2, 1, 2, 0, 0, 2, 2, 0, 1, 2, 0, 2, 2, 0, 2, 0, 0, 1, 2, 0, 2, 0, 0, 0, 2, 0, 2, 2, 0, 2, 2, 0, 2, 0, 2, 2, 0, 2, 1, 1, 0, 0, 1, 0, 1, 0, 2, 0, 1, 0, 2, 2, 1, 2, 0, 1, 0, 0, 2, 0, 0, 2, 2, 2, 0, 0, 2, 2, 2, 2, 2, 2, 0, 0, 0, 1, 0, 2, 2, 2, 1, 2, 2, 0, 2, 1, 0, 0, 0, 2, 0, 2, 1, 1, 0, 0, 1, 2, 0, 0, 0, 0, 2, 0, 2, 0, 1, 0, 2, 0, 0, 0, 0, 1, 2, 0, 0, 0, 2, 2, 2, 2, 2, 2, 1, 1, 1, 0, 0, 0, 0, 1, 0, 0, 2, 2, 2, 0, 0, 0, 2, 2, 2, 2, 2, 2, 0, 0, 2, 2, 2, 2, 0, 0, 0, 0, 1, 1, 2, 2, 1, 2, 0, 2, 0, 0, 0, 0, 2, 0, 0, 2, 1, 0, 2, 0, 0, 2, 0, 0, 2, 1, 1, 1, 0, 2, 0, 0, 2, 0, 1, 0, 2, 1, 0, 0, 0, 0, 0, 2, 2, 1, 1, 2, 0, 0, 2, 0, 2, 2, 1, 2, 0, 1, 0, 2, 0, 0, 2, 0, 0, 0, 1, 2, 0, 1, 1, 2, 2, 0, 1, 2, 0, 1, 1, 0, 0, 1, 0, 2, 2, 1, 2, 0, 0, 0, 0, 2, 0, 0, 2, 1, 1, 2, 0, 2, 2, 2, 2, 0, 2, 0, 2, 0, 2, 2, 1, 2, 2, 2, 2, 2, 2, 2, 2, 0, 0, 0, 2, 0, 2, 0, 2, 0, 2, 0, 0, 2, 0, 2, 2, 0, 1, 0, 2, 2, 0, 1, 0, 1, 0, 2, 1, 1, 0, 2, 2, 1, 0, 1, 1, 2, 1, 0, 2, 0, 1, 2, 0, 0, 0, 0, 2, 1, 2, 0, 1, 0, 0, 2, 2, 1, 0, 0, 2, 2, 1, 2, 2, 0, 0, 0, 2, 0, 2, 2, 2, 1, 2, 2, 2, 1, 0, 2, 0, 2, 2, 2, 1, 2, 0, 0, 1, 0, 0, 0, 0, 0, 2, 0, 2, 0, 0, 1, 0, 2, 1, 2, 2, 2, 1, 0, 2, 2, 0, 2, 2, 0, 0, 2, 0, 0, 1, 0, 2, 0, 0, 2, 1, 0, 0, 0, 0, 0, 0, 2, 0, 0, 1, 2, 0, 0, 0, 2, 1, 0, 0, 0, 2, 1, 2, 1, 2, 2, 0, 0, 2, 0, 0, 2, 2, 0, 1, 0, 0, 0, 0, 0, 0, 1, 0, 0, 0, 0, 1, 2, 2, 2, 2, 1, 0, 2, 2, 0, 2, 1, 2, 2, 2, 1, 2, 1, 1, 0, 0, 1, 0, 2, 0, 2, 0, 2, 2, 2, 0, 0, 2, 0, 0, 2, 1, 0, 0, 0, 2, 2, 2, 2, 1, 1, 2, 0, 0, 2, 2, 2, 0, 2, 0, 2, 2, 2, 2, 0, 0, 2, 2, 2, 2, 0, 1, 0, 1, 0, 0, 2, 1, 2, 2, 0, 0, 0, 0, 0, 0, 0, 2, 1, 0, 0, 2, 1, 1, 0, 2, 2, 0, 0, 0, 2, 0, 2, 2, 0, 0, 2, 1, 1, 2, 2, 0, 0, 2, 0, 1, 0, 1, 1, 1, 1, 2, 1, 2, 0, 2, 0, 2, 0, 0, 0, 2, 0, 2, 0, 2, 2, 1, 0, 1, 0, 1, 1, 2, 2, 2, 2, 2, 0, 0, 2, 0, 2, 2, 1, 2, 0, 0, 1, 0, 0, 0, 0, 2, 1, 2, 0, 0, 2, 1, 0, 0, 0, 1, 1, 2, 0, 0, 2, 0, 2, 2, 0, 1, 0, 0, 0, 2, 0, 1, 0, 0, 1, 2, 0, 2, 0, 0, 1, 2, 2, 2, 2, 2, 2, 0, 0, 1, 2, 1, 1, 2, 2, 2, 2, 1, 1, 2, 0, 2, 0, 2, 0, 0, 0, 0, 2, 1, 2, 2, 2, 2, 2, 2, 2, 0, 2, 0, 2, 0, 0, 0, 0, 0, 1, 2, 0, 2, 2, 2, 2, 0, 2, 0, 0, 0, 0, 2, 0, 2, 0, 2, 1, 1, 2, 2, 2, 0, 1, 1, 2, 2, 2, 0, 2, 2, 2, 2, 1, 2, 2, 2, 0, 0, 0, 2, 2, 0, 2, 0, 2, 0, 1, 2, 2, 2, 0, 1, 0, 0, 0, 0, 0, 2, 0, 2, 0, 2, 2, 0, 0, 2, 2, 1, 0, 2, 2, 2, 1, 1, 2, 2, 2, 1, 2, 0, 0, 1, 1, 0, 2, 2, 2, 1, 0, 0, 0, 0, 2, 1, 0, 2, 2, 0, 2, 2, 2, 0, 2, 1, 0, 2, 1, 2, 0, 0, 0, 0, 0, 0, 2, 2, 1, 2, 2, 2, 1, 0, 0, 2, 2, 0, 1, 2, 0, 2, 1, 2, 2, 2, 2, 0, 0, 1, 2, 2, 2, 1, 0, 0, 2, 0, 2, 2, 1, 2, 2, 2, 0, 0, 2, 1, 0, 0, 2, 2, 1, 0, 2, 2, 0, 1, 1, 1, 0, 0, 1, 0, 0, 2, 2, 2, 0, 0, 2, 0, 1, 2, 2, 1, 0, 1, 1, 2, 0, 0, 0, 0, 0, 1, 0, 2, 2, 0, 2, 2, 1, 2, 0, 0, 1, 2, 0, 1, 2, 2, 0, 1, 2, 0, 2, 2, 0, 2, 2, 2, 2, 2, 0, 1, 0, 2, 2, 1, 0, 0, 0, 1, 2, 0, 0, 2, 0, 0, 0, 2, 0, 2, 0, 1, 0, 0, 2, 1, 2, 0, 2, 0, 0, 2, 0, 0, 2, 0, 2, 2, 0, 0, 2, 0, 2, 2, 1, 2, 0, 2, 2, 1, 2, 2, 0, 1, 0, 2, 0, 1, 2, 2, 0, 2, 2, 0, 0, 0, 2, 2, 0, 1, 1, 2, 1, 2, 0, 0, 2, 1, 2, 1, 2, 0, 2, 0, 2, 2, 0, 0, 2, 2, 2, 2, 0, 0, 1, 1, 2, 2, 0, 2, 2, 2, 0, 1, 2, 2, 2, 2, 0, 1, 0, 2, 1, 2, 1, 1, 0, 0, 2, 2, 2, 0, 2, 1, 1, 2, 2, 2, 2, 0, 2, 2, 2, 2, 2, 2, 0, 0, 1, 0, 2, 0, 0, 0, 1, 2, 2, 2, 0, 2, 2, 2, 2, 2, 2, 0, 2, 0, 1, 0, 0, 0, 2, 2, 2, 2, 2, 0, 0, 2, 1, 2, 0, 2, 0, 1, 2, 1, 2, 2, 0, 2, 2, 1, 0, 1, 1, 2, 2, 1, 0, 0, 0, 0, 2, 0, 2, 1, 2, 0, 2, 0, 1, 2, 0, 1, 2, 0, 1, 1, 0, 2, 2, 2, 1, 2, 1, 1, 0, 0, 0, 2, 0, 2, 2, 0, 2, 2, 2, 2, 2, 0, 2, 2, 0, 1, 0, 2, 0, 0, 2, 0, 2, 0, 2, 0, 0, 1, 0, 2, 2, 2, 0, 2, 2, 1, 0, 2, 0, 1, 2, 1, 2, 2, 1, 0, 2, 1, 2, 1, 0, 2, 1, 0, 0, 1, 0, 0, 2, 0, 1, 1, 1, 1, 0, 0, 2, 2, 2, 2, 0, 2, 2, 0, 0, 2, 2, 2, 1, 0, 0, 0, 2, 0, 2, 1, 2, 2, 0, 2, 2, 0, 0, 1, 2, 2, 2, 0, 1, 2, 0, 0, 0, 1, 0, 2, 0, 2, 0, 2, 0, 1, 1, 2, 1, 0, 2, 2, 0, 2, 2, 1, 2, 2, 2, 0, 1, 1, 0, 0, 1, 2, 1, 0, 2, 0, 1, 0, 0, 2, 2, 2, 0, 1, 2, 0, 0, 2, 2, 2, 0, 0, 0, 0, 2, 0, 0, 0, 0, 2, 2, 0, 2, 1, 2, 0, 1, 2, 2, 0, 2, 2, 1, 1, 2, 0, 0, 0, 2, 0, 0, 2, 0, 1, 1, 0, 2, 0, 0, 0, 2, 2, 2, 1, 1, 2, 0, 0, 0, 1, 0, 2, 2, 0, 0, 0, 2, 2, 0, 2, 2, 0, 2, 1, 0, 1, 2, 0, 1, 0, 0, 2, 2, 0, 1, 2, 1, 0, 2, 0, 1, 1, 2, 2, 0, 0, 2, 1, 2, 0, 2, 2, 2, 0, 0, 2, 1, 0, 1, 0, 0, 1, 2, 2, 2, 0, 2, 0, 2, 1, 0, 2, 2, 2, 0, 2, 0, 2, 1, 0, 0, 2, 0, 2, 2, 1, 0, 0, 2, 2, 2, 0, 2, 0, 2, 2, 0, 2, 0, 0, 0, 2, 2, 0, 2, 0, 2, 2, 1, 0, 0, 1, 1, 0, 0, 0, 0, 2, 2, 0, 1, 1, 2, 0, 2, 0, 2, 2, 1, 2, 0, 2, 1, 2, 2, 2, 0, 2, 0, 0, 0, 2, 2, 2, 2, 2, 0, 0, 2, 0, 2, 1, 0, 2, 1, 2, 2, 2, 2, 2, 0, 2, 0, 0, 2, 2, 0, 2, 2, 1, 0, 2, 2, 0, 0, 2, 0, 2, 2, 0, 2, 2, 1, 2, 2, 2, 0, 0, 2, 1, 0, 0, 1, 2, 2, 0, 2, 1, 2, 2, 2, 2, 0, 0, 2, 0, 0, 0, 0, 2, 0, 0, 2, 2, 0, 2, 2, 0, 2, 2, 2, 2, 0, 1, 1, 0, 0, 0, 0, 2, 1, 2, 0, 0, 1, 2, 0, 2, 2, 2, 0, 1, 0, 2, 0, 1, 0, 0, 0, 2, 2, 0, 2, 0, 2, 0, 0, 1, 2, 0, 2, 0, 0, 2, 2, 0, 0, 2, 2, 1, 2, 2, 0, 2, 1, 2, 2, 2, 0, 0, 1, 0, 1, 2, 2, 2, 2, 2, 2, 0, 0, 1, 0, 1, 2, 2, 0, 1, 0, 1, 2, 2, 2, 2, 0, 1, 0, 0, 0, 2, 0, 1, 2, 1, 2, 0, 0, 2, 0, 0, 1, 2, 0, 2, 0, 0, 0, 2, 1, 0, 2, 1, 2, 2, 2, 1, 0, 1, 0, 0, 2, 0, 1, 2, 0, 0, 0, 2, 0, 2, 1, 2, 0, 1, 2, 1, 0, 0, 0, 2, 1, 1, 0, 2, 2, 2, 2, 1, 2, 0, 1, 1, 2, 2, 2, 1, 1, 0, 2, 0, 1, 1, 0, 0, 0, 0, 2, 2, 0, 1, 0, 2, 1, 0, 2, 2, 0, 2, 2, 2, 2, 1, 2, 2, 2, 2, 2, 0, 0, 0, 2, 0, 1, 0, 0, 0, 2, 2, 0, 0, 1, 2, 1, 0, 0, 0, 1, 2, 2, 1, 0, 0, 0, 2, 2, 0, 0, 2, 0, 2, 0, 2, 2, 0, 1, 0, 2, 2, 0, 2, 1, 1, 0, 2, 2, 0, 0, 2, 2, 1, 0, 2, 1, 0, 1, 1, 0, 1, 2, 2, 2, 2, 2, 0, 0, 1, 0, 1, 0, 2, 2, 0, 0, 2, 0, 1, 0, 0, 1, 1, 0, 2, 1, 0, 1, 2, 2, 2, 2, 1, 2, 2, 2, 0, 2, 1, 2, 1, 0, 0, 1, 2, 0, 1, 1, 2, 2, 0, 2, 2, 0, 2, 1, 1, 2, 0, 0, 1, 2, 0, 0, 2, 2, 2, 0, 2, 2, 2, 2, 2, 2, 2, 2, 2, 0, 0, 0, 2, 2, 0, 0, 2, 2, 2, 1, 2, 2, 0, 1, 0, 0, 2, 0, 1, 0, 2, 0, 2, 0, 0, 2, 2, 2, 1, 2, 1, 0, 1, 2, 2, 0, 0, 0, 2, 2, 2, 1, 0, 2, 2, 1, 2, 2, 1, 2, 2, 2, 2, 0, 0, 1, 0, 0, 1, 0, 2, 0, 1, 2, 2, 0, 2, 0, 1, 1, 2, 0, 2, 0, 2, 2, 2, 0, 2, 2, 2, 0, 2, 2, 0, 1, 2, 1, 2, 0, 2, 0, 2, 0, 1, 2, 2, 1, 0, 2, 2, 0, 1, 2, 0, 0, 0, 0, 2, 2, 0, 2, 2, 0, 0, 2, 1, 2, 0, 1, 0, 0, 1, 2, 2, 2, 0, 2, 0, 2, 2, 2, 0, 0, 1, 1, 0, 0, 2, 0, 1, 0, 2, 2, 0, 2, 0, 0, 0, 1, 0, 2, 0, 0, 2, 2, 0, 0, 2, 0, 2, 2, 0, 2, 0, 0, 2, 0, 0, 0, 2, 2, 0, 2, 0, 0, 2, 2, 2, 1, 0, 2, 1, 0, 0, 0, 1, 2, 2, 2, 0, 1, 2, 0, 2, 2, 2, 2, 0, 0, 2, 2, 2, 0, 0, 2, 2, 0, 2, 2, 2, 0, 2, 2, 2, 2, 2, 0, 0, 2, 1, 1, 2, 0, 1, 0, 2, 2, 0, 0, 0, 2, 2, 2, 0, 2, 2, 0, 2, 2, 1, 0, 0, 2, 2, 2, 0, 1, 2, 0, 0, 0, 0, 1, 0, 0, 2, 0, 1, 2, 2, 0, 0, 0, 2, 2, 1, 1, 1, 0, 2, 2, 2, 2, 2, 1, 2, 0, 2, 0, 2, 0, 2, 0, 2, 2, 2, 2, 0, 0, 2, 1, 0, 1, 2, 1, 2, 2, 2, 1, 1, 0, 2, 2, 0, 2, 1, 1, 1, 0, 1, 1, 1, 0, 2, 2, 2, 2, 1, 0, 0, 1, 0, 0, 0, 2, 2, 0, 2, 2, 1, 0, 2, 0, 2, 2, 1, 2, 2, 2, 1, 0, 2, 2, 2, 1, 1, 0, 1, 2, 1, 2, 2, 2, 2, 2, 2, 1, 0, 2, 1, 1, 2, 2, 0, 2, 2, 1, 1, 2, 2, 0, 0, 0, 0, 2, 1, 0, 0, 1, 2, 2, 1, 1, 2, 2, 1, 2, 2, 2, 2, 2, 2, 2, 0, 2, 0, 0, 1, 0, 2, 0, 2, 2, 0, 0, 0, 2, 1, 1, 2, 0, 0, 0, 0, 1, 2, 2, 0, 2, 0, 2, 2, 2, 0, 1, 2, 0, 0, 2, 2, 2, 1, 1, 0, 2, 1, 0, 2, 1, 0, 0, 0, 0, 0, 2, 0, 0, 0, 0, 0, 2, 0, 1, 0, 2, 2, 2, 2, 0, 0, 2, 0, 2, 2, 0, 1, 0, 0, 0, 1, 0, 2, 2, 2, 1, 0, 0, 2, 0, 0, 2, 0, 2, 2, 1, 2, 2, 0, 0, 1, 0, 0, 0, 0, 2, 0, 1, 2, 2, 0, 0, 2, 2, 1, 0, 0, 2, 2, 0, 2, 2, 0, 2, 1, 1, 2, 2, 0, 1, 1, 0, 2, 2, 1, 0, 0, 2, 2, 0, 2, 2, 0, 2, 1, 2, 2, 0, 0, 0, 1, 0, 2, 0, 0, 0, 0, 0, 1, 2, 2, 0, 1, 2, 2, 2, 1, 2, 2, 0, 2, 0, 2, 2, 2, 1, 2, 0, 1, 0, 2, 2, 2, 2, 2, 0, 2, 2, 0, 0, 0, 0, 1, 0, 0, 1, 2, 2, 2, 0, 0, 1, 0, 1, 0, 1, 0, 2, 2, 2, 2, 0, 0, 2, 1, 0, 1, 0, 2, 2, 2, 0, 0, 1, 1, 0, 2, 0, 0, 0, 2, 0, 2, 0, 0, 0, 0, 1, 2, 0, 0, 2, 2, 0, 2, 2, 0, 2, 2, 1, 1, 1, 0, 0, 0, 0, 2, 2, 2, 2, 2, 2, 1, 0, 2, 1, 0, 2, 2, 1, 1, 0, 2, 1, 2, 1, 2, 1, 1, 2, 1, 2, 2, 0, 1, 2, 2, 2, 2, 2, 0, 1, 2, 2, 0, 1, 2, 2, 2, 1, 0, 0, 2, 0, 0, 0, 0, 2, 0, 0, 1, 2, 2, 0, 0, 0, 0, 0, 0, 1, 2, 1, 2, 0, 2, 0, 2, 1, 1, 0, 1, 2, 0, 0, 0, 0, 0, 2, 1, 2, 2, 2, 1, 0, 0, 0, 0, 2, 2, 0, 2, 0, 2, 1, 1, 1, 1, 0, 0, 2, 0, 0, 2, 2, 2, 0, 0, 0, 0, 0, 0, 0, 2, 0, 2, 1, 0, 2, 2, 1, 2, 0, 2, 0, 1, 0, 2, 0, 1, 0, 1, 1, 1, 2, 2, 0, 0, 2, 2, 1, 2, 0, 2, 2, 2, 2, 1, 0, 2, 2, 0, 2, 0, 0, 0, 0, 0, 2, 2, 0, 2, 0, 2, 2, 2, 0, 0, 0, 1, 0, 1, 2, 1, 0, 1, 0, 1, 2, 2, 1, 2, 2, 2, 2, 1, 2, 0, 0, 2, 2, 2, 0, 2, 2, 0, 0, 2, 2, 0, 2, 2, 1, 2, 2, 0, 2, 0, 1, 0, 0, 0, 1, 0, 0, 0, 2, 1, 2, 2, 2, 0, 1, 0, 2, 2, 2, 2, 2, 0, 2, 0, 0, 1, 2, 0, 2, 2, 0, 0, 0, 0, 2, 2, 2, 2, 1, 2, 2, 0, 0, 2, 1, 0, 2, 2, 0, 0, 1, 0, 1, 2, 1, 0, 2, 2, 0, 1, 1, 2, 0, 0, 0, 0, 0, 0, 2, 0, 0, 2, 1, 0, 2, 2, 0, 2, 2, 2, 2, 2, 1, 2, 0, 2, 2, 2, 2, 2, 1, 0, 1, 0, 1, 0, 1, 2, 0, 2, 1, 2, 2, 0, 1, 0, 1, 2, 0, 0, 0, 2, 2, 0, 0, 2, 0, 1, 1, 2, 2, 2, 2, 1, 0, 0, 2, 2, 2, 0, 0, 2, 2, 0, 2, 1, 0, 0, 1, 0, 2, 0, 2, 0, 2, 0, 0, 2, 2, 1, 2, 0, 2, 0, 1, 0, 2, 0, 2, 2, 2, 2, 2, 2, 2, 2, 0, 2, 2, 1, 2, 0, 0, 1, 0, 0, 2, 2, 0, 1, 0, 1, 0, 1, 0, 1, 2, 2, 0, 0, 0, 2, 0, 0, 2, 2, 2, 2, 2, 0, 0, 0, 2, 2, 2, 2, 0, 2, 1, 2, 1, 2, 2, 2, 0, 1, 1, 0, 1, 0, 1, 1, 2, 0, 0, 2, 0, 2, 0, 2, 2, 0, 2, 2, 0, 2, 2, 2, 1, 2, 2, 2, 2, 2, 2, 2, 2, 0, 2, 2, 2, 0, 2, 0, 0, 2, 2, 2, 0, 2, 2, 1, 2, 2, 2, 2, 1, 0, 2, 0, 0, 2, 0, 2, 2, 2, 2, 2, 0, 1, 1, 0, 2, 0, 2, 2, 0, 2, 0, 0, 2, 2, 0, 0, 0, 1, 2, 1, 0, 0, 0, 0, 0, 0, 2, 0, 2, 0, 2, 2, 2, 2, 2, 0, 2, 2, 1, 0, 2, 2, 0, 0, 1, 2, 2, 0, 0, 2, 2, 2, 2, 0, 1, 2, 1, 2, 1, 0, 2, 0, 2, 1, 0, 0, 2, 2, 1, 2, 2, 2, 0, 0, 2, 2, 1, 2, 0, 2, 0, 2, 0, 0, 2, 0, 1, 0, 2, 2, 2, 1, 2, 2, 2, 0, 0, 2, 2, 0, 2, 0, 1, 2, 1, 2, 0, 2, 2, 0, 0, 2, 1, 0, 0, 2, 2, 0, 2, 1, 1, 0, 2, 0, 0, 2, 1, 0, 0, 2, 2, 0, 2, 2, 2, 2, 2, 0, 2, 2, 0, 0, 2, 1, 1, 0, 0, 0, 2, 1, 0, 2, 2, 2, 0, 2, 0, 0, 0, 2, 1, 0, 1, 0, 2, 0, 1, 0, 2, 1, 0, 0, 1, 2, 2, 2, 0, 2, 2, 2, 2, 2, 2, 2, 2, 0, 0, 2, 0, 0, 2, 2, 1, 2, 2, 0, 0, 0, 0, 2, 2, 1, 0, 2, 2, 2, 0, 0, 2, 2, 0, 1, 2, 0, 1, 0, 0, 0, 2, 0, 2, 0, 2, 1, 0, 2, 2, 2, 0, 0, 0, 2, 2, 0, 0, 2, 2, 1, 0, 1, 1, 2, 0, 0, 2, 2, 0, 0, 2, 2, 0, 2, 0, 2, 0, 0, 1, 2, 0, 2, 0, 0, 2, 0, 2, 2, 2, 2, 1, 1, 0, 2, 1, 2, 1, 1, 2, 0, 1, 2, 0, 2, 2, 0, 0, 0, 2, 0, 2, 2, 2, 2, 1, 0, 2, 0, 2, 0, 2, 2, 2, 2, 2, 1, 1, 0, 0, 2, 2, 0, 0, 2, 2, 2, 1, 2, 2, 2, 0, 0, 2, 0, 2, 2, 1, 2, 0, 0, 0, 2, 2, 0, 1, 2, 1, 2, 0, 2, 0, 0, 0, 0, 0, 1, 0, 2, 2, 2, 0, 2, 0, 0, 0, 1, 0, 0, 1, 0, 0, 2, 0, 0, 0, 0, 2, 2, 2, 2, 1, 0, 0, 0, 2, 2, 2, 0, 0, 0, 1, 2, 2, 1, 2, 0, 0, 0, 2, 2, 2, 0, 2, 2, 0, 2, 0, 1, 0, 0, 1, 0, 2, 0, 0, 1, 0, 2, 2, 2, 2, 2, 1, 0, 0, 0, 1, 2, 0, 1, 2, 0, 0, 2, 2, 0, 2, 2, 0, 1, 0, 2, 0, 2, 0, 2, 2, 0, 2, 2, 0, 2, 2, 1, 2, 2, 2, 2, 0, 2, 2, 1, 2, 2, 2, 0, 2, 0, 0, 0, 0, 2, 0, 1, 2, 0, 0, 0, 2, 2, 0, 0, 2, 0, 2, 0, 1, 2, 2, 0, 2, 0, 0, 2, 2, 1, 1, 2, 1, 2, 0, 1, 0, 0, 0, 0, 1, 0, 0, 1, 2, 0, 1, 2, 0, 2, 0, 0, 0, 1, 2, 1, 0, 2, 0, 1, 0, 0, 2, 2, 0, 1, 0, 1, 0, 2, 0, 2, 0, 2, 0, 2, 0, 2, 2, 0, 2, 2, 0, 2, 0, 0, 2, 2, 1, 2, 0, 1, 0, 0, 0, 0, 2, 0, 2, 0, 0, 2, 2, 0, 1, 0, 2, 2, 2, 0, 2, 2, 1, 0, 0, 0, 1, 2, 2, 2, 2, 2, 0, 1, 2, 2, 2, 0, 0, 2, 2, 0, 2, 2, 1, 0, 1, 1, 0, 2, 2, 2, 2, 1, 0, 2, 0, 0, 2, 0, 0, 2, 2, 2, 0, 2, 0, 0, 0, 2, 2, 0, 2, 2, 2, 1, 2, 0, 2, 2, 0, 2, 0, 2, 2, 2, 2, 2, 2, 0, 2, 0, 0, 2, 2, 2, 2, 2, 2, 1, 1, 2, 0, 0, 2, 0, 1, 0, 0, 2, 0, 2, 0, 1, 2, 2, 2, 1, 1, 2, 0, 0, 0, 1, 1, 0, 2, 2, 2, 0, 0, 0, 2, 0, 1, 1, 0, 0, 0, 2, 2, 0, 0, 0, 2, 2, 0, 0, 2, 0, 0, 0, 1, 1, 2, 1, 2, 2, 0, 0, 2, 2, 0, 1, 2, 2, 1, 0, 2, 2, 0, 2, 1, 2, 2, 0, 0, 2, 1, 0, 2, 2, 2, 2, 2, 2, 2, 0, 2, 0, 0, 0, 2, 2, 1, 2, 2, 1, 0, 0, 0, 2, 2, 2, 1, 0, 2, 2, 2, 0, 2, 1, 2, 0, 2, 2, 0, 2, 0, 2, 0, 0, 0, 1, 0, 2, 2, 2, 0, 1, 2, 0, 2, 1, 1, 0, 0, 0, 2, 1, 2, 0, 2, 2, 0, 1, 2, 0, 1, 2, 2, 1, 1, 1, 2, 0, 2, 0, 2, 2, 0, 0, 1, 2, 2, 1, 0, 2, 0, 1, 0, 0, 2, 2, 2, 2, 0, 0, 0, 1, 1, 2, 1, 2, 1, 2, 0, 0, 2, 2, 0, 2, 2, 2, 0, 1, 1, 2, 1, 0, 0, 1, 0, 1, 0, 2, 0, 0, 1, 1, 2, 1, 2, 0, 0, 0, 0, 1, 0, 1, 2, 2, 2, 1, 2, 2, 0, 2, 0, 2, 2, 0, 0, 2, 1, 0, 0, 2, 0, 1, 2, 2, 0, 1, 2, 0, 2, 1, 2, 2, 1, 1, 0, 0, 1, 2, 0, 0, 0, 2, 2, 2, 2, 0, 0, 0, 2, 0, 2, 2, 0, 0, 2, 2, 2, 0, 0, 2, 0, 0, 0, 0, 2, 2, 2, 0, 0, 1, 0, 2, 0, 1, 2, 0, 2, 0, 0, 2, 2, 2, 2, 2, 2, 2, 0, 2, 2, 0, 0, 0, 0, 0, 2, 2, 2, 0, 2, 1, 0, 1, 1, 0, 0, 2, 2, 2, 2, 1, 0, 0, 2, 0, 0, 2, 0, 0, 0, 0, 0, 2, 2, 0, 2, 2, 2, 2, 0, 2, 1, 2, 0, 0, 2, 2, 1, 0, 0, 1, 1, 0, 1, 2, 2, 0, 1, 2, 0, 1, 2, 2, 2, 2, 2, 1, 1, 0, 2, 0, 0, 0, 2, 0, 2, 0, 2, 2, 0, 1, 2, 1, 0, 1, 1, 0, 2, 1, 0, 0, 2, 0, 0, 2, 0, 1, 2, 1, 0, 0, 2, 2, 1, 0, 0, 2, 1, 2, 0, 2, 2, 2, 2, 2, 1, 1, 0, 2, 1, 0, 2, 1, 0, 2, 2, 1, 0, 2, 2, 1, 0, 0, 0, 2, 2, 1, 0, 2, 2, 1, 0, 2, 2, 0, 2, 2, 2, 0, 2, 2, 0, 1, 1, 1, 1, 1, 2, 2, 1, 0, 0, 1, 2, 1, 2, 2, 0, 0, 1, 1, 0, 2, 2, 2, 0, 0, 0, 2, 2, 0, 0, 2, 2, 0, 0, 0, 2, 1, 2, 0, 0, 2, 0, 0, 2, 0, 0, 0, 0, 2, 0, 2, 1, 0, 0, 0, 2, 0, 0, 1, 2, 0, 0, 0, 0, 0, 2, 1, 2, 1, 0, 2, 0, 0, 0, 2, 0, 2, 2, 0, 2, 0, 0, 0, 1, 2, 0, 2, 1, 2, 2, 2, 2, 1, 0, 2, 2, 2, 2, 0, 2, 0, 2, 0, 0, 1, 2, 2, 2, 2, 0, 2, 2, 0, 2, 2, 0, 2, 0, 2, 2, 2, 0, 2, 1, 0, 0, 0, 0, 2, 2, 2, 0, 2, 1, 0, 2, 2, 0, 2, 2, 0, 2, 2, 1, 2, 0, 0, 1, 0, 1, 0, 2, 2, 0, 2, 2, 0, 0, 0, 0, 0, 1, 1, 2, 0, 2, 1, 0, 2, 2, 2, 0, 0, 2, 0, 2, 2, 1, 0, 2, 2, 0, 0, 2, 2, 0, 1, 0, 2, 0, 0, 2, 0, 2, 2, 0, 0, 2, 2, 2, 0, 0, 0, 2, 1, 0, 0, 2, 2, 2, 1, 1, 0, 0, 0, 0, 0, 0, 0, 2, 1, 0, 2, 2, 1, 1, 0, 1, 0, 2, 2, 2, 2, 0, 0, 2, 2, 0, 0, 0, 2, 0, 1, 0, 0, 2, 1, 2, 2, 2, 0, 2, 0, 2, 2, 1, 2, 0, 0, 0, 2, 2, 0, 2, 0, 2, 1, 0, 1, 2, 2, 0, 0, 1, 0, 0, 2, 2, 0, 2, 2, 2, 2, 2, 0, 0, 0, 0, 0, 0, 2, 2, 2, 2, 0, 2, 2, 2, 2, 2, 2, 2, 2, 2, 2, 1, 2, 0, 2, 1, 1, 0, 1, 2, 0, 2, 2, 2, 2, 2, 2, 2, 2, 1, 0, 0, 2, 2, 2, 1, 0, 1, 2, 0, 0, 0, 2, 1, 1, 2, 2, 2, 2, 2, 2, 2, 2, 2, 0, 2, 2, 2, 1, 0, 0, 2, 2, 2, 0, 2, 0, 2, 0, 2, 2, 1, 1, 2, 2, 1, 1, 0, 2, 0, 2, 1, 2, 0, 0, 2, 2, 1, 0, 2, 2, 2, 2, 0, 0, 0, 1, 2, 2, 0, 2, 2, 0, 1, 0, 1, 0, 0, 2, 2, 0, 2, 2, 0, 2, 1, 0, 0, 0, 2, 0, 0, 2, 2, 0, 0, 0, 2, 2, 0, 0, 2, 0, 1, 1, 0, 2, 2, 2, 2, 0, 0, 2, 2, 0, 2, 2, 0, 1, 2, 1, 0, 1, 0, 0, 0, 1, 1, 1, 0, 1, 2, 0, 2, 1, 2, 0, 0, 2, 0, 0, 0, 2, 2, 2, 0, 2, 1, 2, 2, 1, 0, 2, 0, 2, 0, 2, 2, 1, 1, 0, 0, 1, 1, 0, 0, 2, 2, 1, 2, 0, 2, 2, 2, 2, 2, 0, 0, 2, 2, 0, 0, 0, 1, 2, 2, 0, 0, 0, 1, 0, 0, 2, 0, 0, 1, 1, 0, 2, 0, 2, 0, 2, 2, 1, 0, 0, 2, 2, 0, 0, 2, 0, 2, 0, 2, 0, 0, 1, 1, 1, 0, 0, 2, 2, 2, 2, 0, 2, 0, 0, 2, 1, 2, 2, 2, 2, 0, 2, 0, 2, 2, 0, 2, 1, 2, 0, 2, 2, 0, 1, 1, 1, 2, 2, 1, 0, 0, 1, 0, 2, 1, 0, 2, 0, 0, 0, 0, 0, 2, 0, 0, 2, 0, 1, 2, 2, 2, 0, 0, 2, 1, 0, 2, 0, 0, 2, 2, 2, 0, 2, 2, 2, 0, 1, 0, 1, 2, 2, 2, 2, 1, 0, 1, 1, 1, 2, 1, 0, 1, 2, 2, 1, 0, 1, 1, 0, 0, 1, 2, 0, 2, 2, 0, 2, 0, 0, 0, 2, 0, 2, 0, 1, 2, 2, 2, 2, 0, 0, 2, 2, 0, 0, 1, 0, 2, 1, 0, 2, 0, 0, 2, 2, 2, 0, 0, 2, 2, 0, 0, 0, 1, 1, 2, 2, 2, 2, 2, 2, 2, 1, 0, 2, 0, 2, 2, 2, 2, 2, 2, 2, 2, 0, 2, 2, 2, 1, 2, 0, 2, 0, 1, 0, 2, 0, 1, 2, 2, 0, 0, 2, 2, 2, 2, 2, 1, 0, 1, 1, 0, 1, 1, 0, 0, 2, 0, 1, 2, 0, 2, 0, 2, 2, 0, 2, 1, 2, 2, 2, 2, 2, 0, 2, 2, 0, 0, 2, 2, 0, 2, 0, 2, 1, 0, 1, 1, 2, 2, 1, 2, 2, 2, 2, 2, 2, 0, 0, 0, 0, 2, 0, 1, 1, 2, 0, 2, 0, 2, 2, 0, 0, 2, 0, 2, 1, 2, 0, 0, 2, 1, 2, 0, 2, 1, 2, 2, 0, 0, 0, 0, 2, 0, 2, 0, 0, 2, 0, 2, 2, 0, 2, 2, 0, 2, 2, 2, 2, 2, 0, 1, 2, 0, 2, 2, 2, 0, 2, 2, 0, 0, 0, 2, 0, 2, 0, 2, 0, 2, 1, 2, 2, 2, 2, 0, 0, 2, 2, 2, 1, 2, 2, 2, 0, 2, 0, 2, 2, 0, 0, 0, 2, 2, 2, 0, 2, 1, 0, 2, 2, 2, 2, 0, 1, 2, 2, 0, 0, 1, 0, 2, 1, 1, 2, 0, 0, 1, 1, 1, 2, 2, 0, 2, 2, 0, 0, 1, 2, 0, 2, 2, 0, 2, 2, 2, 0, 2, 0, 0, 1, 2, 2, 0, 1, 2, 2, 1, 2, 0, 2, 0, 0, 0, 0, 1, 2, 2, 1, 2, 0, 1, 2, 0, 0, 0, 0, 1, 0, 0, 0, 0, 0, 2, 0, 2, 0, 2, 2, 0, 2, 2, 0, 2, 0, 0, 2, 1, 0, 0, 1, 2, 0, 0, 2, 2, 0, 2, 2, 0, 2, 2, 1, 1, 0, 1, 2, 2, 0, 2, 0, 2, 2, 1, 2, 2, 2, 0, 0, 2, 0, 2, 1, 0, 0, 0, 1, 1, 0, 0, 0, 0, 0, 0, 2, 0, 1, 1, 0, 0, 0, 1, 0, 0, 0, 2, 2, 1, 2, 1, 0, 2, 2, 1, 0, 0, 0, 2, 2, 1, 0, 2, 0, 2, 0, 1, 0, 2, 1, 2, 2, 0, 2, 1, 1, 2, 0, 1, 1, 0, 0, 0, 0, 2, 1, 2, 0, 0, 1, 2, 1, 2, 0, 2, 2, 0, 0, 2, 2, 0, 1, 2, 0, 2, 0, 2, 2, 2, 2, 2, 1, 0, 2, 0, 2, 0, 1, 2, 2, 0, 2, 2, 0, 0, 2, 0, 0, 2, 1, 2, 0, 0, 2, 2, 2, 1, 0, 0, 0, 0, 0, 2, 0, 2, 0, 0, 2, 1, 0, 0, 0, 0, 0, 2, 2, 0, 1, 0, 2, 2, 0, 2, 0, 2, 0, 2, 2, 0, 1, 1, 0, 2, 1, 0, 2, 0, 1, 0, 2, 0, 0, 2, 2, 0, 0, 0, 0, 0, 2, 0, 1, 2, 0, 1, 2, 2, 1, 2, 2, 1, 1, 1, 0, 1, 1, 2, 1, 0, 1, 2, 1, 0, 0, 2, 1, 2, 1, 1, 0, 0, 0, 0, 1, 0, 1, 2, 0, 0, 2, 1, 1, 0, 0, 0, 0, 2, 2, 2, 0, 0, 0, 2, 2, 0, 2, 0, 2, 0, 0, 2, 0, 1, 0, 0, 0, 0, 0, 0, 2, 2, 2, 0, 1, 2, 1, 0, 2, 2, 0, 2, 0, 0, 2, 0, 0, 0, 2, 1, 0, 1, 2, 2, 0, 1, 0, 2, 0, 2, 2, 1, 0, 2, 2, 2, 2, 2, 1, 0, 2, 2, 2, 2, 2, 2, 1, 0, 0, 1, 0, 0, 2, 1, 2, 1, 0, 0, 1, 2, 2, 2, 0, 1, 2, 2, 0, 1, 2, 1, 1, 0, 0, 1, 0, 2, 0, 2, 0, 2, 0, 2, 0, 1, 2, 2, 2, 2, 0, 0, 2, 2, 2, 0, 0, 0, 0, 0, 2, 0, 2, 2, 1, 0, 1, 0, 0, 2, 0, 0, 1, 2, 0, 0, 2, 0, 1, 0, 0, 2, 0, 0, 0, 0, 2, 2, 0, 2, 2, 1, 2, 0, 0, 0, 1, 0, 2, 0, 2, 0, 2, 2, 0, 0, 0, 2, 2, 2, 2, 2, 2, 2, 1, 0, 2, 1, 2, 2, 1, 0, 2, 2, 1, 0, 0, 0, 2, 0, 0, 2, 0, 1, 1, 0, 2, 2, 0, 0, 0, 0, 1, 2, 1, 2, 1, 0, 1, 0, 2, 2, 1, 0, 0, 0, 1, 0, 2, 0, 0, 1, 2, 2, 0, 2, 2, 2, 0, 0, 0, 0, 2, 0, 1, 2, 2, 0, 2, 2, 2, 2, 2, 0, 2, 0, 2, 2, 2, 2, 0, 2, 0, 1, 2, 2, 2, 0, 2, 0, 0, 1, 0, 0, 2, 0, 2, 0, 2, 0, 0, 0, 2, 1, 0, 0, 1, 1, 2, 0, 0, 2, 1, 2, 0, 0, 1, 0, 2, 2, 2, 1, 0, 0, 2, 0, 2, 2, 2, 1, 2, 2, 1, 0, 0, 0, 0, 1, 1, 2, 2, 0, 2, 0, 2, 0, 2, 2, 0, 2, 0, 0, 2, 2, 1, 0, 2, 0, 0, 2, 0, 2, 0, 1, 1, 2, 2, 2, 0, 2, 2, 1, 2, 0, 2, 2, 0, 2, 2, 2, 0, 1, 2, 0, 0, 0, 2, 2, 2, 0, 2, 0, 2, 2, 0, 2, 2, 0, 0, 2, 1, 2, 2, 0, 1, 0, 1, 0, 2, 0, 0, 0, 1, 2, 2, 0, 0, 1, 0, 0, 0, 2, 2, 2, 2, 0, 1, 2, 0, 2, 2, 2, 0, 0, 0, 0, 2, 0, 1, 0, 0, 0, 0, 1, 0, 0, 0, 0, 1, 2, 1, 2, 2, 2, 2, 2, 0, 0, 0, 1, 2, 2, 2, 1, 0, 1, 0, 0, 0, 0, 1, 2, 1, 2, 2, 1, 0, 1, 2, 1, 1, 2, 2, 0, 2, 2, 0, 2, 1, 2, 0, 0, 2, 0, 0, 2, 2, 2, 0, 2, 0, 2, 0, 0, 2, 0, 2, 2, 2, 2, 2, 1, 2, 1, 2, 2, 0, 1, 0, 1, 2, 1, 2, 1, 0, 0, 0, 2, 0, 2, 1, 0, 0, 2, 2, 2, 2, 2, 1, 1, 1, 2, 0, 1, 0, 2, 0, 2, 0, 2, 2, 2, 0, 1, 2, 0, 2, 2, 1, 2, 0, 0, 0, 2, 1, 0, 2, 0, 1, 2, 0, 2, 2, 2, 0, 2, 2, 0, 2, 1, 2, 0, 2, 2, 0, 1, 1, 2, 0, 1, 2, 0, 2, 0, 0, 2, 2, 0, 2, 0, 2, 2, 0, 2, 0, 2, 2, 0, 2, 0, 1, 0, 0, 2, 0, 2, 2, 1, 2, 1, 0, 2, 0, 2, 2, 2, 2, 1, 2, 1, 2, 2, 0, 1, 0, 2, 2, 2, 0, 2, 2, 2, 2, 0, 2, 0, 1, 0, 0, 1, 0, 1, 0, 2, 2, 2, 2, 0, 2, 2, 2, 2, 2, 1, 1, 2, 0, 1, 2, 0, 2, 0, 2, 2, 0, 2, 2, 1, 2, 1, 0, 2, 1, 0, 2, 1, 0, 0, 2, 0, 2, 0, 1, 2, 2, 2, 2, 2, 2, 0, 1, 1, 2, 2, 0, 0, 0, 2, 1, 2, 0, 0, 0, 2, 0, 0, 0, 1, 1, 2, 2, 2, 1, 0, 1, 2, 2, 2, 0, 2, 1, 1, 0, 0, 0, 1, 0, 0, 2, 2, 0, 0, 1, 0, 2, 2, 2, 2, 1, 2, 0, 1, 2, 0, 1, 2, 2, 2, 1, 2, 0, 0, 1, 2, 2, 0, 0, 0, 0, 2, 0, 2, 2, 0, 0, 0, 2, 2, 0, 0, 2, 1, 1, 1, 2, 2, 2, 2, 1, 0, 2, 0, 2, 0, 0, 0, 0, 1, 2, 2, 2, 0, 2, 1, 1, 0, 2, 2, 0, 0, 2, 1, 2, 1, 0, 2, 0, 0, 0, 0, 2, 0, 1, 2, 0, 0, 0, 2, 2, 2, 2, 2, 2, 2, 0, 0, 1, 1, 1, 0, 2, 0, 0, 0, 1, 2, 2, 0, 1, 2, 0, 2, 2, 2, 1, 1, 1, 0, 2, 2, 0, 0, 0, 2, 2, 1, 0, 2, 0, 0, 2, 0, 2, 1, 2, 0, 0, 0, 1, 0, 1, 2, 0, 0, 2, 0, 0, 2, 0, 0, 0, 0, 2, 2, 2, 1, 2, 1, 0, 0, 2, 1, 2, 1, 0, 2, 0, 2, 0, 1, 0, 0, 2, 2, 1, 2, 2, 2, 0, 0, 0, 2, 2, 2, 2, 0, 0, 2, 2, 0, 0, 0, 0, 0, 2, 0, 0, 2, 2, 2, 0, 0, 0, 2, 2, 2, 0, 1, 0, 2, 0, 2, 2, 2, 0, 2, 0, 2, 0, 2, 2, 2, 0, 2, 2, 0, 0, 0, 2, 0, 0, 0, 0, 0, 2, 0, 0, 0, 0, 0, 2, 2, 0, 0, 2, 2, 1, 0, 2, 1, 0, 0, 0, 1, 2, 2, 0, 0, 2, 1, 0, 2, 2, 0, 2, 0, 0, 0, 2, 2, 2, 0, 0, 2, 0, 2, 0, 2, 0, 2, 2, 2, 2, 2, 0, 0, 2, 0, 2, 0, 2, 1, 2, 2, 0, 1, 2, 0, 0, 2, 2, 2, 1, 0, 0, 2, 2, 0, 1, 2, 0, 0, 2, 2, 0, 0, 1, 2, 1, 0, 0, 2, 2, 0, 0, 0, 2, 0, 2, 1, 1, 2, 0, 2, 1, 0, 0, 0, 0, 0, 0, 0, 1, 0, 2, 1, 0, 2, 1, 2, 2, 1, 0, 0, 2, 1, 0, 0, 2, 0, 0, 2, 0, 2, 2, 2, 2, 0, 2, 0, 0, 2, 0, 0, 0, 0, 2, 0, 0, 0, 0, 1, 2, 2, 2, 2, 1, 2, 2, 2, 0, 2, 2, 1, 2, 1, 2, 0, 2, 0, 2, 1, 2, 2, 2, 2, 0, 1, 1, 2, 1, 0, 0, 0, 0, 0, 0, 0, 0, 0, 2, 2, 2, 1, 0, 1, 2, 2, 2, 2, 0, 2, 1, 0, 2, 2, 0, 0, 2, 1, 2, 0, 2, 1, 2, 2, 2, 0, 0, 1, 0, 1, 0, 2, 1, 2, 2, 2, 2, 1, 0, 0, 2, 2, 1, 0, 0, 2, 0, 1, 1, 1, 0, 1, 2, 0, 1, 0, 2, 2, 2, 1, 2, 2, 0, 1, 0, 0, 0, 2, 0, 0, 1, 0, 0, 0, 0, 2, 0, 2, 1, 1, 2, 0, 1, 0, 0, 2, 0, 1, 2, 2, 0, 2, 1, 2, 2, 2, 0, 0, 2, 2, 0, 0, 2, 2, 2, 2, 2, 0, 0, 0, 0, 2, 0, 0, 0, 0, 2, 0, 0, 1, 1, 2, 2, 2, 1, 2, 2, 2, 0, 2, 2, 2, 1, 0, 2, 0, 2, 1, 2, 1, 2, 2, 2, 0, 2, 2, 0, 2, 1, 2, 2, 0, 2, 2, 0, 0, 2, 0, 2, 0, 2, 0, 0, 0, 1, 2, 2, 0, 0, 0, 2, 0, 1, 2, 0, 2, 2, 2, 2, 1, 1, 0, 2, 0, 0, 2, 0, 0, 2, 2, 0, 2, 2, 2, 2, 2, 2, 2, 2, 0, 1, 0, 2, 1, 0, 2, 1, 2, 0, 2, 0, 1, 0, 0, 1, 1, 0, 2, 0, 2, 1, 0, 2, 0, 1, 2, 2, 2, 0, 0, 1, 0, 1, 1, 0, 2, 2, 0, 2, 0, 1, 0, 2, 2, 0, 2, 2, 0, 2, 0, 1, 2, 0, 0, 2, 1, 1, 2, 0, 0, 2, 0, 2, 1, 2, 0, 1, 0, 2, 2, 0, 0, 2, 0, 2, 2, 0, 2, 1, 0, 2, 2, 2, 0, 2, 2, 2, 2, 2, 2, 0, 2, 0, 2, 0, 0, 0, 0, 0, 1, 1, 1, 2, 1, 2, 0, 0, 0, 2, 2, 1, 0, 0, 1, 1, 2, 0, 2, 2, 2, 2, 0, 2, 2, 0, 2, 0, 2, 0, 1, 0, 2, 0, 0, 2, 0, 0, 0, 0, 0, 2, 0, 0, 0, 0, 0, 0, 0, 2, 0, 0, 2, 1, 2, 0, 1, 0, 0, 2, 0, 0, 1, 2, 2, 2, 1, 0, 0, 2, 2, 2, 2, 0, 0, 2, 2, 0, 2, 1, 0, 2, 2, 0, 2, 0, 0, 1, 0, 1, 0, 2, 1, 1, 0, 0, 0, 2, 2, 1, 0, 2, 2, 1, 2, 0, 2, 0, 0, 2, 0, 0, 0, 2, 1, 0, 0, 1, 2, 2, 0, 0, 0, 1, 2, 0, 1, 2, 0, 0, 1, 0, 2, 0, 1, 1, 2, 0, 1, 2, 0, 2, 1, 2, 2, 2, 2, 1, 1, 0, 2, 2, 1, 2, 0, 0, 1, 1, 0, 2, 0, 2, 0, 2, 1, 0, 1, 1, 2, 1, 0, 2, 2, 2, 0, 0, 0, 0, 2, 0, 2, 0, 2, 1, 0, 2, 1, 1, 1, 2, 2, 1, 0, 1, 0, 1, 1, 1, 0, 2, 2, 0, 1, 2, 0, 2, 2, 0, 2, 2, 2, 2, 2, 2, 0, 2, 1, 1, 2, 0, 0, 1, 2, 0, 0, 0, 2, 0, 1, 0, 0, 2, 0, 1, 0, 2, 2, 2, 0, 2, 1, 2, 2, 2, 1, 0, 0, 0, 0, 0, 2, 1, 1, 0, 1, 0, 2, 1, 0, 2, 0, 0, 2, 0, 0, 0, 2, 2, 1, 2, 2, 0, 0, 2, 2, 2, 0, 0, 0, 2, 0, 2, 0, 0, 2, 0, 1, 0, 0, 2, 1, 0, 2, 2, 2, 2, 0, 0, 2, 2, 0, 0, 2, 2, 2, 2, 0, 0, 2, 0, 1, 2, 2, 0, 0, 0, 2, 2, 0, 0, 2, 0, 1, 2, 0, 2, 0, 2, 1, 0, 0, 0, 1, 0, 2, 0, 0, 2, 0, 0, 2, 0, 2, 2, 1, 1, 2, 0, 0, 0, 0, 0, 0, 1, 0, 2, 0, 2, 0, 2, 2, 1, 2, 1, 2, 2, 2, 2, 2, 1, 0, 0, 1, 0, 0, 1, 2, 0, 2, 0, 0, 2, 2, 1, 2, 0, 0, 1, 0, 1, 2, 1, 0, 2, 2, 0, 1, 0, 0, 1, 1, 2, 0, 1, 0, 2, 2, 0, 2, 1, 2, 2, 2, 0, 0, 0, 2, 2, 1, 2, 1, 0, 1, 0, 0, 2, 2, 2, 2, 0, 1, 2, 0, 0, 0, 2, 0, 0, 1, 0, 2, 2, 2, 2, 1, 0, 0, 0, 1, 1, 2, 1, 1, 0, 2, 2, 2, 0, 2, 2, 0, 0, 1, 0, 0, 2, 2, 0, 0, 2, 2, 0, 1, 0, 0, 2, 2, 2, 1, 2, 2, 0, 1, 0, 0, 2, 2, 2, 2, 2, 0, 0, 1, 0, 0, 1, 1, 0, 2, 0, 1, 2, 2, 2, 0, 0, 2, 2, 0, 1, 2, 0, 1, 0, 2, 2, 0, 2, 0, 2, 1, 2, 0, 2, 0, 2, 2, 2, 0, 2, 1, 1, 2, 0, 1, 2, 0, 2, 0, 0, 2, 0, 1, 2, 0, 2, 2, 0, 0, 2, 0, 2, 2, 2, 2, 0, 2, 0, 0, 0, 2, 0, 2, 1, 0, 1, 0, 0, 1, 0, 1, 0, 1, 0, 2, 0, 1, 0, 2, 0, 0, 2, 2, 2, 0, 1, 2, 2, 2, 2, 0, 0, 2, 2, 2, 1, 0, 0, 1, 0, 0, 1, 0, 0, 2, 2, 0, 2, 2, 0, 2, 2, 2, 0, 2, 2, 2, 0, 0, 2, 2, 2, 0, 2, 2, 2, 0, 2, 0, 2, 0, 2, 1, 2, 0, 0, 2, 2, 2, 1, 2, 2, 2, 0, 1, 1, 0, 0, 1, 1, 0, 0, 0, 2, 0, 2, 2, 1, 2, 2, 0, 0, 0, 0, 0, 2, 0, 0, 0, 1, 2, 0, 1, 2, 0, 1, 0, 2, 0, 2, 2, 1, 0, 0, 0, 1, 0, 0, 1, 2, 2, 2, 2, 2, 2, 0, 2, 0, 0, 2, 2, 1, 1, 0, 0, 0, 2, 0, 2, 2, 0, 1, 1, 2, 0, 0, 2, 2, 0, 1, 0, 2, 2, 0, 0, 0, 0, 0, 1, 0, 2, 2, 0, 0, 2, 2, 2, 2, 2, 0, 0, 0, 2, 2, 1, 2, 0, 2, 0, 0, 0, 0, 0, 1, 0, 0, 0, 0, 1, 0, 1, 0, 2, 2, 0, 2, 2, 0, 0, 2, 0, 1, 2, 1, 1, 2, 2, 0, 2, 2, 1, 1, 1, 2, 0, 2, 1, 2, 1, 1, 2, 2, 0, 1, 2, 0, 2, 0, 0, 0, 0, 0, 1, 2, 2, 2, 2, 0, 0, 2, 0, 2, 2, 1, 0, 0, 2, 0, 2, 1, 0, 2, 1, 2, 0, 2, 0, 2, 2, 0, 2, 0, 1, 2, 2, 1, 2, 0, 1, 0, 2, 0, 2, 1, 2, 1, 0, 2, 0, 0, 2, 2, 1, 0, 0, 2, 0, 1, 1, 0, 0, 2, 1, 2, 1, 0, 2, 2, 2, 1, 0, 2, 0, 1, 0, 1, 2, 0, 2, 0, 2, 2, 2, 0, 2, 2, 0, 2, 2, 0, 2, 2, 0, 0, 2, 1, 1, 0, 0, 2, 2, 2, 2, 0, 0, 2, 2, 2, 0, 0, 0, 0, 0, 0, 2, 2, 0, 0, 1, 0, 1, 0, 2, 2, 2, 2, 0, 2, 2, 2, 2, 0, 2, 2, 1, 0, 1, 1, 2, 0, 2, 0, 1, 2, 2, 0, 2, 0, 2, 0, 1, 2, 1, 1, 0, 2, 2, 2, 0, 1, 0, 0, 0, 2, 0, 1, 2, 1, 2, 2, 2, 2, 1, 1, 2, 0, 1, 0, 1, 0, 1, 2, 2, 0, 2, 0, 2, 2, 0, 0, 2, 1, 0, 1, 0, 0, 2, 0, 2, 2, 2, 0, 2, 0, 0, 2, 0, 0, 2, 2, 2, 0, 1, 0, 0, 1, 0, 2, 2, 1, 0, 2, 1, 0, 1, 2, 1, 1, 2, 0, 2, 0, 2, 2, 0, 2, 2, 0, 2, 1, 1, 2, 2, 2, 1, 2, 1, 1, 2, 0, 2, 0, 2, 2, 2, 2, 0, 2, 0, 0, 0, 2, 1, 0, 2, 2, 0, 2, 2, 1, 2, 0, 0, 0, 1, 2, 0, 2, 1, 0, 0, 0, 0, 0, 2, 2, 1, 1, 2, 2, 0, 1, 0, 1, 0, 2, 1, 2, 2, 2, 1, 2, 2, 2, 2, 0, 0, 0, 2, 0, 0, 1, 2, 0, 0, 0, 0, 1, 1, 0, 1, 0, 2, 0, 2, 0, 1, 0, 2, 2, 2, 2, 0, 2, 1, 1, 2, 2, 0, 0, 1, 1, 1, 0, 0, 2, 0, 1, 0, 0, 2, 0, 0, 1, 2, 2, 1, 1, 0, 2, 0, 2, 2, 1, 1, 2, 2, 2, 2, 2, 0, 0, 0, 0, 2, 1, 2, 2, 2, 0, 0, 2, 0, 2, 2, 2, 0, 0, 2, 0, 2, 1, 0, 2, 2, 2, 0, 0, 0, 2, 0, 0, 2, 0, 1, 0, 0, 0, 2, 1, 2, 0, 0, 0, 2, 2, 0, 1, 2, 0, 2, 1, 0, 0, 2, 1, 1, 2, 2, 2, 1, 0, 1, 2, 0, 2, 2, 2, 1, 0, 1, 2, 2, 0, 0, 0, 1, 1, 2, 1, 0, 2, 0, 2, 0, 2, 2, 2, 0, 1, 1, 0, 0, 1, 2, 0, 2, 2, 0, 0, 0, 0, 2, 2, 0, 0, 2, 2, 0, 2, 0, 0, 0, 0, 2, 2, 2, 2, 2, 2, 1, 0, 2, 0, 0, 2, 1, 2, 0, 1, 2, 1, 2, 0, 1, 1, 1, 2, 2, 2, 0, 2, 0, 0, 2, 1, 0, 2, 2, 0, 2, 2, 0, 2, 0, 2, 0, 2, 0, 2, 0, 0, 0, 2, 2, 0, 2, 0, 0, 0, 1, 0, 2, 2, 0, 0, 1, 2, 2, 0, 1, 0, 0, 0, 0, 2, 0, 2, 2, 2, 0, 0, 1, 0, 2, 1, 0, 1, 0, 2, 2, 2, 1, 1, 2, 2, 2, 2, 0, 0, 2, 0, 2, 1, 2, 1, 1, 0, 0, 0, 2, 2, 0, 0, 0, 1, 2, 1, 1, 1, 0, 0, 0, 2, 0, 2, 2, 0, 2, 0, 2, 1, 2, 0, 0, 2, 2, 2, 2, 0, 1, 2, 1, 2, 2, 0, 1, 0, 1, 2, 2, 1, 1, 1, 0, 2, 0, 2, 0, 0, 0, 2, 1, 2, 1, 0, 0, 2, 0, 0, 1, 0, 2, 2, 2, 2, 0, 0, 1, 2, 0, 0, 1, 2, 2, 0, 0, 1, 2, 0, 2, 2, 1, 0, 1, 2, 2, 1, 0, 2, 0, 1, 2, 0, 2, 0, 0, 2, 2, 1, 2, 2, 2, 2, 2, 2, 1, 2, 2, 0, 2, 0, 0, 0, 1, 2, 1, 2, 0, 1, 2, 2, 0, 2, 1, 0, 2, 1, 0, 0, 2, 2, 0, 0, 0, 2, 0, 1, 1, 1, 0, 2, 2, 2, 2, 0, 1, 1, 2, 1, 1, 0, 2, 0, 2, 2, 2, 0, 0, 1, 0, 0, 0, 0, 2, 2, 0, 0, 0, 2, 0, 0, 2, 2, 2, 0, 2, 2, 2, 0, 0, 2, 2, 2, 0, 0, 0, 2, 2, 2, 0, 1, 0, 0, 2, 2, 0, 2, 2, 1, 2, 1, 2, 0, 2, 0, 0, 2, 2, 2, 0, 2, 2, 0, 2, 1, 1, 0, 0, 0, 2, 0, 2, 1, 0, 2, 2, 2, 2, 2, 1, 0, 0, 0, 0, 2, 2, 2, 1, 2, 2, 0, 2, 2, 0, 1, 2, 1, 2, 2, 2, 2, 2, 2, 2, 2, 1, 2, 0, 0, 2, 2, 0, 2, 1, 1, 2, 1, 1, 2, 2, 2, 0, 1, 0, 0, 0, 0, 0, 0, 0, 2, 0, 0, 0, 2, 0, 0, 1, 0, 0, 0, 2, 2, 2, 0, 0, 0, 2, 2, 2, 0, 0, 2, 2, 0, 1, 2, 2, 0, 2, 0, 0, 2, 0, 0, 2, 0, 2, 2, 0, 2, 2, 0, 1, 0, 2, 0, 2, 1, 0, 2, 2, 2, 2, 0, 0, 2, 2, 0, 0, 0, 2, 1, 0, 0, 1, 2, 2, 2, 0, 0, 2, 0, 2, 0, 0, 2, 0, 1, 0, 2, 1, 2, 0, 2, 2, 2, 1, 2, 0, 2, 2, 2, 0, 0, 0, 2, 2, 0, 1, 0, 0, 2, 0, 0, 2, 1, 2, 2, 2, 0, 2, 2, 0, 2, 0, 1, 2, 2, 2, 2, 0, 2, 1, 1, 0, 0, 1, 2, 2, 2, 2, 2, 2, 0, 2, 0, 2, 2, 2, 2, 2, 0, 0, 0, 1, 2, 2, 2, 2, 1, 1, 1, 2, 0, 0, 2, 0, 1, 2, 0, 0, 1, 2, 1, 0, 0, 0, 0, 0, 0, 0, 1, 1, 0, 2, 2, 2, 1, 2, 1, 1, 2, 2, 1, 0, 2, 2, 0, 0, 2, 1, 2, 2, 0, 0, 0, 1, 2, 2, 0, 2, 0, 0, 0, 1, 2, 2, 0, 2, 2, 2, 2, 2, 2, 2, 2, 0, 2, 1, 2, 0, 2, 1, 1, 2, 1, 0, 1, 2, 1, 2, 0, 2, 0, 2, 0, 2, 1, 1, 2, 2, 2, 0, 1, 2, 2, 2, 1, 2, 0, 1, 2, 2, 2, 1, 0, 0, 2, 1, 2, 0, 0, 0, 1, 1, 0, 0, 2, 1, 0, 2, 2, 2, 2, 0, 0, 0, 0, 1, 0, 1, 0, 2, 0, 1, 0, 0, 1, 0, 2, 2, 1, 0, 0, 0, 2, 2, 0, 2, 0, 0, 0, 2, 1, 0, 2, 2, 0, 2, 0, 2, 0, 0, 2, 0, 1, 2, 2, 0, 2, 1, 2, 0, 0, 0, 1, 0, 2, 2, 2, 2, 2, 0, 2, 1, 0, 0, 2, 2, 2, 2, 2, 0, 2, 2, 1, 2, 2, 1, 1, 0, 1, 2, 2, 0, 0, 0, 0, 2, 2, 2, 0, 1, 0, 1, 2, 2, 0, 2, 2, 0, 0, 1, 2, 0, 1, 0, 1, 1, 2, 1, 1, 0, 1, 2, 2, 2, 2, 0, 0, 1, 2, 2, 1, 0, 0, 0, 2, 2, 0, 2, 0, 2, 0, 1, 0, 1, 2, 2, 0, 0, 2, 2, 2, 2, 2, 0, 2, 1, 0, 0, 0, 2, 2, 2, 2, 2, 2, 2, 0, 0, 1, 2, 2, 0, 2, 2, 0, 0, 0, 0, 2, 2, 1, 2, 1, 0, 2, 2, 2, 1, 1, 1, 2, 1, 2, 2, 0, 0, 1, 0, 0, 1, 1, 2, 0, 0, 0, 0, 2, 0, 2, 0, 1, 2, 2, 2, 1, 2, 0, 2, 2, 2, 0, 0, 0, 1, 1, 0, 1, 2, 0, 2, 0, 2, 2, 0, 1, 1, 2, 0, 0, 2, 1, 0, 0, 0, 0, 2, 2, 2, 1, 2, 0, 0, 1, 2, 2, 0, 0, 0, 1, 2, 2, 0, 2, 1, 0, 0, 2, 0, 1, 0, 2, 2, 0, 0, 0, 0, 0, 0, 1, 2, 2, 2, 2, 0, 1, 2, 1, 2, 0, 0, 0, 2, 1, 0, 1, 2, 0, 0, 0, 2, 0, 2, 1, 2, 0, 2, 0, 2, 2, 0, 0, 2, 0, 2, 0, 2, 1, 2, 2, 1, 2, 2, 2, 0, 2, 2, 0, 2, 2, 1, 0, 2, 0, 0, 2, 1, 2, 0, 0, 2, 0, 2, 2, 0, 1, 2, 2, 2, 2, 2, 2, 2, 0, 0, 2, 0, 0, 0, 0, 1, 2, 2, 0, 2, 1, 2, 2, 2, 1, 0, 0, 2, 1, 2, 2, 1, 0, 2, 2, 1, 2, 2, 2, 2, 0, 2, 0, 0, 2, 2, 2, 1, 0, 0, 2, 1, 0, 0, 2, 2, 0, 2, 0, 2, 0, 2, 0, 2, 2, 2, 1, 2, 2, 2, 2, 0, 1, 1, 2, 0, 0, 2, 2, 0, 1, 1, 0, 2, 2, 0, 2, 1, 0, 2, 0, 2, 2, 2, 2, 1, 2, 0, 2, 1, 1, 2, 1, 2, 1, 2, 0, 2, 2, 2, 2, 2, 2, 2, 2, 0, 2, 2, 0, 0, 2, 2, 2, 1, 0, 0, 0, 0, 2, 2, 2, 2, 2, 2, 0, 1, 2, 2, 2, 1, 2, 0, 1, 0, 2, 2, 0, 2, 2, 1, 1, 0, 2, 0, 2, 1, 2, 2, 1, 2, 2, 2, 0, 2, 0, 2, 2, 0, 0, 1, 2, 0, 1, 2, 2, 2, 0, 0, 1, 2, 1, 2, 2, 2, 2, 1, 1, 2, 0, 2, 2, 1, 0, 2, 2, 1, 2, 2, 0, 2, 2, 2, 0, 0, 0, 2, 2, 0, 2, 2, 0, 2, 1, 2, 2, 1, 2, 2, 0, 0, 1, 1, 1, 1, 2, 0, 2, 2, 0, 1, 2, 0, 2, 0, 0, 2, 2, 1, 0, 1, 2, 2, 2, 0, 0, 2, 2, 1, 2, 2, 0, 1, 2, 2, 2, 0, 2, 0, 2, 2, 0, 2, 0, 1, 2, 0, 0, 1, 2, 2, 0, 0, 1, 2, 0, 0, 1, 2, 0, 2, 0, 2, 2, 2, 1, 0, 2, 0, 0, 0, 2, 0, 1, 0, 0, 2, 2, 2, 2, 2, 0, 2, 2, 0, 2, 0, 2, 2, 1, 2, 1, 1, 1, 2, 1, 2, 1, 0, 2, 2, 2, 2, 0, 0, 2, 2, 0, 2, 2, 2, 1, 0, 1, 1, 2, 0, 2, 0, 2, 1, 0, 0, 2, 2, 1, 2, 2, 2, 2, 1, 0, 2, 2, 0, 0, 1, 0, 0, 1, 2, 1, 2, 1, 1, 0, 2, 0, 2, 2, 2, 0, 2, 2, 1, 1, 1, 2, 0, 2, 2, 2, 2, 2, 2, 0, 0, 0, 2, 0, 2, 1, 1, 0, 2, 0, 1, 1, 2, 2, 2, 0, 1, 0, 2, 0, 2, 2, 0, 0, 2, 0, 2, 2, 0, 2, 0, 0, 0, 2, 0, 2, 2, 2, 0, 0, 1, 2, 2, 0, 2, 2, 0, 1, 1, 1, 0, 2, 0, 0, 0, 2, 2, 2, 2, 2, 0, 2, 1, 0, 2, 2, 2, 1, 0, 1, 2, 2, 0, 0, 2, 1, 0, 0, 1, 2, 0, 0, 1, 0, 0, 1, 0, 0, 0, 2, 1, 2, 2, 0, 0, 0, 2, 2, 1, 1, 2, 2, 0, 2, 1, 0, 0, 2, 1, 0, 1, 2, 0, 2, 2, 2, 0, 0, 2, 2, 2, 0, 2, 0, 0, 0, 0, 2, 1, 2, 1, 1, 1, 0, 0, 2, 2, 2, 2, 2, 1, 1, 1, 1, 1, 1, 1, 0, 1, 2, 2, 0, 0, 2, 0, 1, 2, 2, 1, 2, 1, 2, 0, 2, 1, 2, 1, 2, 2, 0, 0, 2, 1, 2, 0, 0, 0, 2, 2, 0, 2, 2, 0, 1, 2, 1, 1, 2, 1, 2, 1, 0, 2, 2, 2, 2, 2, 1, 1, 1, 1, 0, 2, 0, 2, 0, 2, 1, 2, 2, 0, 2, 0, 2, 2, 2, 2, 1, 2, 2, 0, 2, 0, 2, 2, 2, 0, 1, 0, 0, 2, 2, 1, 1, 2, 0, 0, 2, 0, 0, 0, 0, 0, 2, 2, 0, 2, 0, 0, 0, 0, 2, 2, 2, 0, 0, 2, 2, 0, 0, 2, 0, 2, 2, 1, 2, 2, 0, 2, 0, 2, 0, 2, 2, 0, 2, 2, 2, 2, 2, 2, 0, 0, 1, 2, 1, 2, 1, 0, 2, 0, 1, 2, 0, 0, 2, 2, 0, 0, 2, 2, 2, 1, 2, 0, 2, 2, 1, 1, 1, 0, 0, 2, 0, 2, 1, 1, 2, 0, 0, 1, 0, 2, 0, 1, 2, 1, 0, 2, 0, 2, 2, 0, 0, 1, 2, 2, 2, 2, 2, 0, 2, 0, 2, 0, 0, 0, 0, 2, 2, 2, 1, 1, 0, 1, 1, 2, 0, 0, 2, 2, 1, 1, 0, 0, 2, 2, 2, 2, 0, 2, 0, 2, 2, 1, 0, 2, 2, 2, 0, 2, 0, 0, 0, 1, 2, 2, 0, 2, 2, 1, 0, 2, 0, 0, 2, 0, 0, 0, 0, 0, 2, 1, 2, 0, 0, 2, 2, 2, 2, 0, 0, 0, 0, 1, 1, 2, 2, 2, 2, 2, 0, 2, 1, 0, 2, 1, 0, 2, 1, 1, 0, 2, 2, 2, 1, 2, 2, 1, 0, 2, 1, 0, 1, 1, 1, 0, 2, 1, 2, 0, 2, 0, 0, 0, 1, 2, 0, 2, 0, 2, 2, 0, 0, 2, 2, 2, 0, 0, 0, 2, 1, 2, 0, 0, 2, 1, 0, 0, 0, 2, 2, 2, 2, 2, 0, 0, 2, 2, 2, 0, 0, 1, 0, 0, 2, 0, 2, 0, 2, 2, 2, 1, 1, 0, 0, 0, 0, 2, 0, 1, 2, 0, 2, 2, 0, 2, 2, 2, 2, 1, 2, 0, 1, 2, 2, 0, 2, 2, 0, 0, 0, 2, 0, 2, 1, 1, 0, 2, 1, 0, 2, 0, 1, 2, 1, 2, 1, 0, 0, 1, 0, 2, 2, 1, 2, 0, 0, 2, 0, 2, 2, 2, 0, 0, 1, 0, 0, 0, 0, 0, 2, 2, 2, 2, 0, 2, 1, 2, 0, 2, 0, 0, 0, 2, 1, 2, 2, 1, 0, 2, 2, 2, 0, 2, 2, 0, 0, 2, 2, 2, 2, 1, 0, 0, 0, 0, 0, 2, 0, 2, 2, 0, 2, 2, 1, 1, 1, 2, 0, 2, 1, 2, 0, 0, 0, 2, 2, 0, 2, 1, 2, 2, 0, 0, 0, 0, 2, 0, 2, 2, 2, 0, 1, 1, 0, 2, 0, 0, 0, 0, 0, 0, 0, 0, 2, 0, 2, 0, 2, 2, 0, 1, 2, 2, 0, 2, 2, 1, 2, 0, 1, 2, 2, 0, 0, 0, 0, 0, 0, 1, 0, 0, 0, 0, 2, 2, 1, 2, 0, 1, 0, 1, 1, 2, 2, 1, 0, 0, 2, 2, 2, 1, 0, 2, 1, 2, 0, 1, 0, 0, 0, 1, 2, 2, 0, 2, 0, 2, 2, 1, 2, 2, 1, 0, 1, 0, 0, 0, 0, 2, 2, 2, 2, 0, 0, 0, 2, 0, 2, 2, 0, 0, 0, 0, 0, 2, 0, 0, 1, 2, 2, 2, 2, 1, 0, 2, 1, 2, 0, 0, 1, 0, 2, 0, 1, 0, 0, 0, 1, 0, 2, 2, 2, 0, 1, 2, 0, 1, 1, 2, 2, 0, 2, 0, 0, 1, 2, 1, 1, 0, 2, 0, 0, 2, 0, 2, 2, 2, 1, 0, 1, 0, 0, 1, 1, 0, 2, 2, 0, 2, 2, 1, 2, 2, 0, 2, 1, 1, 0, 2, 0, 0, 2, 0, 0, 2, 2, 0, 0, 2, 2, 0, 2, 2, 2, 0, 2, 2, 0, 0, 1, 2, 2, 0, 2, 0, 0, 0, 0, 2, 0, 2, 2, 2, 0, 0, 0, 2, 0, 0, 0, 0, 1, 2, 2, 2, 1, 2, 1, 0, 0, 0, 0, 1, 0, 0, 2, 2, 2, 2, 2, 2, 0, 0, 2, 0, 0, 0, 2, 2, 1, 2, 0, 0, 0, 0, 1, 2, 2, 2, 0, 1, 1, 0, 0, 2, 2, 1, 1, 2, 2, 0, 0, 0, 2, 2, 2, 0, 2, 0, 2, 0, 0, 2, 2, 0, 2, 0, 1, 2, 2, 0, 2, 2, 2, 0, 0, 2, 0, 1, 2, 0, 2, 1, 1, 2, 2, 1, 0, 2, 0, 0, 2, 2, 0, 2, 2, 2, 1, 2, 2, 0, 0, 1, 2, 2, 0, 0, 2, 2, 0, 1, 2, 0, 2, 2, 2, 0, 2, 0, 0, 2, 1, 2, 0, 1, 0, 1, 2, 0, 2, 2, 0, 0, 2, 0, 1, 2, 0, 2, 2, 1, 2, 1, 2, 2, 0, 0, 2, 2, 2, 2, 0, 0, 2, 2, 2, 0, 0, 0, 1, 2, 2, 2, 0, 0, 2, 0, 2, 2, 0, 2, 2, 0, 0, 0, 1, 2, 1, 0, 0, 2, 0, 0, 0, 1, 2, 2, 0, 2, 0, 2, 1, 1, 0, 1, 1, 2, 2, 0, 2, 2, 2, 0, 2, 2, 1, 2, 0, 0, 2, 1, 2, 0, 0, 0, 2, 1, 2, 2, 0, 2, 0, 2, 2, 2, 0, 0, 2, 2, 1, 0, 0, 2, 2, 2, 0, 0, 1, 2, 0, 2, 0, 0, 0, 1, 2, 2, 0, 1, 0, 1, 0, 0, 0, 2, 0, 0, 2, 0, 0, 0, 0, 2, 2, 2, 2, 1, 2, 2, 2, 0, 0, 2, 2, 0, 2, 1, 0, 0, 1, 1, 2, 2, 2, 0, 2, 0, 2, 1, 2, 0, 0, 2, 0, 2, 2, 0, 0, 2, 0, 2, 2, 2, 0, 0, 2, 2, 2, 2, 2, 2, 0, 2, 0, 1, 0, 0, 0, 0, 0, 1, 2, 0, 0, 0, 0, 0, 2, 0, 2, 0, 1, 2, 0, 1, 2, 0, 2, 0, 0, 2, 0, 0, 2, 0, 2, 0, 2, 0, 2, 1, 2, 2, 2, 0, 2, 0, 1, 0, 0, 2, 2, 0, 0, 0, 2, 2, 0, 1, 2, 0, 0, 0, 2, 2, 2, 0, 2, 1, 1, 1, 1, 2, 2, 2, 0, 2, 0, 2, 0, 2, 1, 0, 2, 2, 2, 1, 2, 2, 2, 1, 2, 2, 0, 2, 0, 2, 2, 2, 0, 0, 2, 2, 2, 0, 2, 2, 0, 0, 2, 2, 1, 0, 1, 1, 2, 0, 2, 1, 2, 0, 2, 2, 2, 0, 2, 0, 1, 2, 2, 0, 0, 0, 2, 0, 2, 0, 2, 0, 1, 1, 0, 2, 2, 0, 2, 2, 1, 1, 2, 0, 0, 0, 1, 2, 2, 1, 0, 2, 2, 1, 0, 1, 1, 1, 0, 2, 0, 2, 1, 0, 1, 2, 2, 2, 2, 0, 2, 1, 1, 2, 0, 2, 2, 2, 0, 0, 0, 0, 0, 2, 0, 2, 2, 2, 1, 0, 0, 0, 2, 2, 0, 2, 2, 2, 0, 2, 2, 1, 2, 0, 0, 2, 2, 1, 2, 0, 0, 2, 2, 2, 0, 0, 2, 2, 2, 2, 2, 0, 2, 2, 1, 0, 2, 2, 2, 2, 2, 1, 2, 0, 1, 1, 1, 2, 0, 0, 2, 1, 2, 2, 2, 0, 0, 0, 2, 1, 2, 1, 2, 0, 0, 0, 2, 0, 2, 0, 0, 0, 1, 1, 1, 0, 2, 1, 0, 2, 0, 0, 0, 2, 2, 2, 2, 1, 0, 0, 0, 0, 2, 0, 2, 2, 1, 2, 2, 1, 2, 2, 0, 0, 1, 0, 0, 0, 0, 2, 0, 2, 2, 1, 0, 1, 2, 2, 2, 2, 2, 0, 2, 2, 2, 0, 2, 2, 2, 2, 0, 0, 0, 0, 2, 0, 2, 2, 1, 0, 0, 0, 1, 0, 2, 0, 1, 1, 0, 0, 0, 0, 2, 0, 2, 0, 2, 1, 2, 0, 0, 0, 2, 0, 0, 2, 0, 0, 1, 0, 2, 0, 1, 2, 1, 1, 2, 0, 1, 0, 1, 1, 0, 1, 2, 0, 2, 0, 0, 0, 2, 0, 2, 1, 0, 2, 2, 2, 1, 1, 1, 2, 2, 2, 2, 0, 0, 0, 0, 2, 2, 0, 1, 1, 2, 1, 1, 0, 0, 0, 2, 1, 1, 1, 2, 2, 0, 2, 2, 0, 2, 2, 0, 2, 2, 0, 2, 1, 2, 2, 0, 0, 2, 2, 2, 0, 1, 0, 0, 0, 2, 2, 0, 0, 0, 2, 0, 2, 0, 2, 1, 1, 1, 0, 1, 1, 0, 2, 1, 0, 2, 1, 2, 0, 0, 0, 0, 1, 0, 1, 0, 2, 2, 2, 2, 1, 0, 2, 2, 0, 2, 2, 0, 0, 2, 1, 1, 2, 2, 1, 1, 2, 1, 0, 1, 0, 2, 2, 2, 0, 0, 2, 0, 0, 0, 1, 0, 1, 0, 2, 0, 0, 1, 1, 1, 2, 2, 2, 1, 0, 2, 2, 0, 0, 2, 2, 2, 2, 0, 0, 0, 0, 1, 2, 2, 2, 1, 0, 1, 1, 2, 1, 2, 2, 0, 2, 2, 0, 0, 0, 2, 1, 2, 2, 0, 2, 2, 2, 0, 1, 1, 1, 0, 2, 0, 2, 2, 0, 1, 1, 0, 2, 1, 2, 0, 2, 0, 1, 0, 2, 2, 0, 1, 2, 2, 2, 2, 0, 2, 1, 0, 2, 0, 0, 1, 0, 0, 2, 2, 0, 0, 0, 2, 2, 0, 2, 2, 2, 0, 0, 2, 0, 1, 2, 2, 2, 1, 2, 0, 2, 0, 1, 1, 2, 2, 0, 2, 1, 2, 2, 0, 0, 2, 2, 2, 1, 0, 2, 2, 0, 2, 2, 2, 0, 2, 2, 2, 2, 0, 2, 2, 0, 2, 2, 2, 0, 2, 2, 2, 0, 0, 0, 2, 1, 0, 0, 2, 2, 0, 1, 0, 2, 2, 0, 2, 1, 2, 0, 2, 2, 0, 2, 0, 1, 2, 2, 1, 2, 1, 2, 0, 2, 1, 2, 0, 1, 2, 2, 0, 2, 1, 0, 1, 2, 2, 0, 2, 0, 2, 1, 0, 0, 0, 0, 0, 2, 0, 2, 2, 1, 1, 1, 2, 2, 1, 2, 0, 0, 1, 0, 2, 2, 2, 1, 0, 2, 0, 2, 1, 2, 0, 0, 0, 2, 1, 2, 1, 1, 2, 0, 0, 2, 2, 1, 2, 1, 2, 0, 0, 2, 2, 0, 2, 0, 2, 0, 0, 2, 2, 1, 1, 2, 2, 2, 2, 2, 1, 0, 0, 2, 0, 1, 2, 1, 2, 2, 0, 2, 2, 0, 2, 1, 0, 2, 1, 0, 2, 0, 1, 1, 1, 0, 1, 1, 0, 1, 2, 0, 2, 2, 1, 2, 0, 2, 0, 0, 2, 2, 1, 0, 0, 2, 2, 2, 2, 2, 1, 2, 2, 1, 1, 2, 2, 0, 0, 1, 2, 0, 2, 1, 2, 2, 0, 2, 2, 0, 2, 0, 0, 1, 2, 1, 2, 0, 2, 0, 2, 0, 2, 0, 2, 0, 0, 0, 1, 0, 0, 2, 0, 2, 0, 0, 0, 2, 2, 0, 2, 2, 1, 0, 0, 2, 2, 2, 2, 0, 1, 0, 1, 1, 1, 2, 0, 0, 0, 1, 0, 0, 0, 0, 0, 0, 1, 2, 2, 2, 2, 2, 2, 2, 0, 1, 0, 2, 2, 0, 0, 2, 2, 2, 2, 0, 0, 2, 1, 0, 0, 1, 2, 0, 0, 0, 1, 2, 0, 2, 1, 2, 0, 0, 1, 2, 2, 1, 2, 2, 1, 2, 0, 2, 1, 0, 0, 0, 0, 2, 2, 2, 1, 2, 2, 0, 0, 0, 0, 1, 2, 0, 0, 0, 2, 2, 1, 2, 2, 2, 0, 0, 1, 1, 1, 1, 0, 2, 1, 2, 2, 0, 1, 2, 2, 0, 1, 0, 2, 1, 2, 2, 2, 2, 2, 2, 0, 0, 2, 0, 0, 2, 2, 0, 1, 0, 2, 2, 2, 0, 2, 0, 0, 1, 2, 0, 1, 2, 2, 1, 0, 2, 2, 2, 0, 2, 2, 2, 2, 2, 2, 1, 2, 2, 0, 2, 0, 2, 2, 2, 0, 2, 0, 2, 1, 0, 0, 0, 2, 1, 0, 2, 2, 2, 1, 2, 0, 0, 2, 0, 1, 2, 2, 2, 0, 2, 2, 0, 2, 0, 1, 0, 0, 0, 2, 0, 2, 2, 0, 2, 0, 0, 0, 1, 2, 2, 2, 2, 2, 2, 0, 0, 2, 2, 0, 1, 0, 0, 1, 2, 1, 2, 2, 0, 1, 0, 0, 1, 2, 2, 0, 2, 0, 0, 0, 2, 0, 0, 2, 2, 0, 2, 2, 2, 2, 0, 0, 2, 2, 0, 0, 1, 2, 1, 0, 0, 2, 2, 2, 0, 2, 1, 2, 2, 0, 2, 0, 1, 0, 2, 1, 2, 1, 1, 0, 2, 2, 1, 2, 2, 1, 0, 2, 0, 0, 0, 2, 0, 2, 0, 2, 1, 0, 0, 2, 2, 2, 0, 2, 2, 1, 2, 0, 0, 0, 2, 0, 0, 0, 1, 2, 2, 0, 0, 1, 2, 0, 2, 2, 2, 0, 2, 0, 0, 0, 2, 2, 0, 0, 0, 2, 2, 0, 2, 2, 0, 0, 2, 1, 0, 1, 2, 1, 2, 1, 2, 0, 2, 1, 2, 0, 0, 0, 1, 0, 2, 2, 2, 0, 1, 2, 0, 0, 0, 0, 2, 2, 2, 0, 0, 2, 2, 0, 0, 1, 0, 2, 0, 0, 2, 0, 0, 1, 2, 1, 2, 2, 2, 2, 1, 1, 0, 2, 2, 2, 2, 0, 0, 0, 1, 1, 0, 2, 2, 0, 0, 2, 2, 0, 1, 0, 2, 0, 0, 1, 2, 0, 2, 0, 2, 2, 2, 0, 1, 0, 0, 2, 1, 0, 0, 2, 0, 2, 2, 2, 0, 2, 1, 2, 0, 2, 2, 2, 2, 2, 2, 0, 0, 1, 0, 0, 0, 2, 2, 2, 0, 0, 0, 1, 2, 0, 1, 0, 0, 2, 2, 0, 2, 2, 0, 1, 0, 1, 1, 1, 2, 2, 2, 2, 0, 2, 0, 1, 0, 0, 2, 0, 2, 0, 1, 2, 0, 0, 0, 0, 0, 0, 2, 0, 0, 0, 2, 2, 1, 2, 0, 0, 2, 2, 0, 1, 0, 2, 0, 0, 0, 0, 0, 2, 1, 2, 2, 0, 0, 0, 2, 1, 1, 2, 0, 2, 2, 2, 2, 1, 0, 2, 1, 1, 0, 0, 0, 2, 0, 2, 1, 2, 2, 1, 2, 0, 0, 0, 2, 0, 2, 2, 1, 1, 0, 2, 0, 2, 0, 0, 2, 2, 2, 0, 2, 0, 1, 1, 2, 2, 0, 1, 2, 2, 2, 0, 0, 0, 2, 2, 0, 0, 0, 2, 1, 0, 2, 2, 2, 0, 0, 2, 2, 2, 0, 1, 2, 2, 2, 2, 0, 2, 0, 2, 0, 2, 0, 2, 0, 0, 0, 0, 0, 2, 0, 2, 2, 1, 2, 0, 1, 2, 2, 0, 0, 2, 2, 2, 1, 2, 1, 1, 2, 1, 0, 2, 2, 0, 2, 2, 0, 2, 0, 2, 0, 1, 1, 2, 2, 2, 0, 2, 0, 1, 0, 0, 0, 2, 0, 1, 2, 2, 2, 0, 2, 2, 1, 0, 2, 2, 2, 2, 1, 2, 1, 1, 1, 1, 1, 2, 0, 2, 2, 1, 2, 1, 1, 0, 0, 2, 2, 1, 2, 2, 2, 0, 1, 0, 0, 2, 0, 2, 1, 2, 2, 2, 1, 2, 2, 2, 2, 1, 0, 0, 2, 0, 2, 0, 2, 0, 2, 2, 2, 2, 0, 2, 1, 0, 0, 0, 2, 0, 1, 2, 1, 0, 0, 2, 2, 2, 2, 2, 0, 1, 2, 0, 0, 2, 0, 2, 0, 2, 2, 2, 2, 2, 0, 0, 0, 0, 2, 2, 2, 0, 0, 0, 2, 2, 2, 2, 2, 1, 1, 1, 0, 0, 2, 2, 1, 0, 2, 1, 2, 0, 2, 2, 0, 2, 2, 0, 0, 1, 1, 0, 0, 2, 2, 2, 0, 2, 2, 0, 2, 1, 2, 0, 2, 0, 2, 1, 0, 0, 0, 2, 2, 2, 0, 2, 1, 2, 1, 0, 2, 0, 2, 0, 2, 2, 2, 0, 2, 2, 2, 2, 2, 2, 2, 2, 1, 0, 2, 2, 2, 0, 2, 2, 0, 2, 0, 1, 2, 1, 2, 0, 2, 2, 0, 2, 0, 0, 2, 2, 1, 1, 2, 1, 2, 2, 1, 0, 1, 2, 0, 0, 0, 0, 0, 0, 0, 2, 2, 2, 2, 2, 0, 0, 0, 0, 1, 0, 0, 2, 1, 1, 2, 0, 0, 1, 0, 2, 1, 1, 2, 1, 2, 2, 2, 2, 2, 0, 2, 0, 0, 0, 2, 2, 0, 0, 0, 0, 2, 2, 1, 2, 2, 2, 1, 0, 2, 0, 2, 0, 0, 2, 0, 0, 0, 0, 0, 1, 2, 0, 2, 2, 2, 1, 1, 0, 1, 0, 2, 2, 2, 2, 2, 0, 2, 0, 2, 2, 2, 0, 2, 2, 0, 2, 0, 1, 1, 2, 2, 2, 2, 0, 2, 1, 0, 0, 0, 1, 0, 0, 0, 0, 1, 2, 0, 0, 2, 2, 2, 0, 1, 0, 0, 0, 1, 2, 1, 0, 0, 1, 0, 2, 2, 0, 2, 0, 0, 1, 2, 0, 1, 0, 1, 2, 1, 2, 1, 1, 2, 0, 0, 1, 2, 0, 1, 2, 0, 2, 2, 2, 0, 1, 0, 2, 2, 2, 0, 2, 2, 2, 2, 0, 0, 0, 0, 0, 2, 0, 2, 1, 0, 1, 2, 2, 2, 0, 0, 2, 2, 2, 1, 0, 1, 0, 0, 0, 2, 1, 0, 2, 0, 2, 2, 2, 2, 0, 2, 2, 2, 2, 0, 0, 0, 2, 2, 2, 2, 0, 2, 0, 1, 2, 1, 2, 2, 1, 2, 0, 2, 2, 0, 2, 2, 0, 2, 2, 0, 0, 2, 2, 1, 2, 1, 2, 0, 2, 2, 1, 2, 0, 2, 0, 2, 0, 0, 2, 0, 1, 2, 0, 0, 2, 0, 0, 0, 2, 0, 2, 2, 0, 0, 0, 0, 1, 2, 2, 0, 1, 1, 2, 0, 1, 2, 2, 0, 0, 0, 2, 0, 2, 2, 2, 0, 0, 0, 1, 2, 0, 0, 0, 2, 0, 0, 2, 1, 0, 2, 2, 0, 1, 0, 0, 2, 2, 1, 2, 0, 0, 2, 0, 0, 2, 1, 0, 1, 2, 0, 0, 0, 2, 1, 0, 2, 2, 0, 0, 2, 2, 1, 0, 0, 2, 0, 1, 2, 2, 2, 2, 2, 0, 2, 2, 0, 1, 2, 1, 2, 0, 2, 0, 2, 0, 0, 2, 1, 0, 2, 2, 0, 0, 0, 0, 2, 0, 1, 1, 2, 0, 1, 1, 2, 2, 1, 1, 2, 2, 1, 2, 0, 0, 0, 2, 0, 2, 0, 2, 2, 2, 1, 2, 2, 0, 2, 2, 1, 0, 2, 0, 0, 0, 0, 1, 0, 0, 2, 1, 0, 1, 1, 1, 1, 2, 0, 1, 2, 0, 0, 0, 0, 2, 2, 2, 2, 0, 0, 0, 2, 2, 0, 2, 2, 1, 0, 2, 1, 0, 1, 2, 0, 2, 0, 0, 0, 1, 2, 1, 0, 2, 0, 0, 0, 2, 2, 2, 2, 1, 2, 1, 0, 2, 1, 0, 2, 0, 2, 0, 0, 2, 0, 2, 2, 1, 1, 2, 2, 2, 2, 2, 2, 0, 2, 2, 0, 0, 2, 1, 0, 0, 2, 2, 2, 0, 0, 0, 2, 0, 0, 2, 1, 2, 0, 2, 2, 2, 2, 1, 2, 2, 2, 0, 1, 0, 2, 2, 2, 1, 1, 2, 1, 0, 2, 0, 2, 0, 1, 1, 2, 0, 0, 0, 1, 0, 2, 2, 0, 0, 2, 2, 2, 0, 2, 1, 2, 2, 1, 2, 2, 0, 2, 0, 1, 2, 0, 0, 0, 2, 2, 2, 2, 0, 1, 1, 1, 2, 2, 1, 1, 1, 0, 2, 0, 0, 2, 0, 0, 0, 0, 0, 2, 1, 0, 0, 1, 2, 2, 1, 0, 0, 0, 0, 2, 2, 2, 0, 2, 2, 0, 2, 0, 0, 2, 0, 1, 0, 1, 2, 0, 0, 1, 0, 1, 2, 2, 2, 0, 2, 2, 2, 0, 2, 1, 2, 2, 0, 1, 2, 2, 0, 1, 2, 2, 1, 0, 2, 0, 0, 2, 2, 2, 0, 2, 0, 0, 2, 2, 1, 1, 1, 0, 0, 2, 0, 0, 0, 1, 0, 0, 2, 2, 2, 0, 2, 2, 2, 2, 0, 2, 0, 0, 0, 0, 0, 2, 1, 1, 2, 0, 2, 1, 0, 0, 2, 0, 2, 2, 2, 0, 2, 2, 1, 2, 1, 0, 2, 1, 0, 2, 2, 1, 0, 0, 0, 1, 2, 0, 2, 2, 2, 0, 1, 0, 0, 1, 0, 1, 2, 0, 2, 1, 0, 0, 0, 2, 2, 0, 0, 0, 2, 2, 0, 0, 2, 1, 2, 2, 0, 0, 0, 1, 0, 0, 1, 1, 0, 1, 0, 2, 2, 2, 0, 1, 2, 0, 0, 1, 0, 2, 2, 2, 0, 2, 0, 0, 0, 0, 2, 2, 2, 0, 2, 0, 2, 2, 2, 2, 1, 1, 0, 2, 0, 2, 2, 2, 0, 1, 2, 2, 2, 1, 0, 2, 0, 1, 2, 2, 1, 2, 2, 2, 2, 0, 0, 0, 2, 1, 2, 2, 1, 2, 0, 2, 2, 2, 0, 1, 0, 1, 0, 2, 0, 0, 2, 2, 2, 0, 2, 0, 2, 0, 0, 2, 1, 0, 0, 0, 2, 2, 1, 2, 1, 0, 2, 2, 0, 2, 2, 2, 2, 0, 2, 1, 1, 2, 0, 1, 2, 2, 1, 0, 0, 2, 2, 0, 1, 2, 1, 0, 0, 0, 1, 0, 0, 2, 2, 0, 2, 0, 2, 2, 0, 0, 2, 2, 1, 2, 0, 2, 0, 1, 2, 0, 0, 2, 2, 0, 2, 1, 0, 0, 2, 1, 0, 2, 0, 2, 0, 0, 0, 0, 2, 2, 0, 0, 2, 2, 1, 0, 0, 2, 0, 1, 2, 0, 0, 0, 2, 2, 0, 0, 2, 1, 2, 2, 2, 0, 0, 2, 2, 2, 0, 0, 0, 2, 2, 1, 1, 2, 2, 0, 1, 1, 0, 0, 2, 1, 2, 2, 2, 2, 0, 2, 0, 0, 1, 2, 2, 2, 2, 0, 2, 0, 0, 2, 2, 0, 0, 2, 2, 0, 2, 2, 2, 0, 0, 2, 2, 2, 2, 0, 2, 0, 2, 2, 2, 2, 1, 2, 2, 2, 1, 2, 2, 2, 2, 2, 1, 2, 1, 1, 0, 2, 1, 2, 2, 2, 2, 2, 0, 2, 2, 2, 2, 0, 0, 0, 2, 2, 1, 0, 2, 2, 2, 0, 2, 2, 0, 2, 0, 0, 0, 0, 2, 0, 2, 1, 0, 0, 0, 1, 1, 0, 2, 2, 1, 2, 0, 1, 2, 1, 1, 0, 0, 0, 1, 0, 2, 2, 2, 0, 2, 2, 0, 0, 0, 1, 2, 2, 2, 2, 0, 2, 0, 0, 2, 2, 2, 2, 0, 1, 2, 0, 2, 0, 2, 2, 2, 0, 0, 2, 1, 1, 2, 2, 0, 1, 2, 2, 2, 0, 0, 1, 2, 1, 1, 1, 1, 2, 0, 2, 2, 2, 2, 2, 2, 0, 0, 1, 0, 0, 0, 1, 2, 1, 2, 0, 0, 2, 0, 2, 2, 2, 2, 0, 2, 2, 2, 1, 0, 1, 2, 2, 2, 2, 0, 2, 0, 1, 0, 0, 0, 2, 0, 0, 0, 2, 0, 2, 2, 2, 0, 0, 0, 2, 2, 2, 2, 0, 0, 1, 1, 1, 0, 2, 0, 2, 1, 0, 2, 2, 0, 2, 2, 0, 0, 2, 0, 1, 1, 2, 0, 2, 0, 0, 2, 0, 1, 2, 1, 0, 0, 0, 0, 2, 2, 1, 0, 2, 0, 0, 2, 2, 0, 1, 2, 0, 2, 0, 2, 2, 0, 0, 1, 0, 2, 2, 1, 2, 1, 0, 0, 2, 0, 0, 0, 2, 2, 2, 0, 0, 2, 0, 2, 1, 2, 0, 0, 0, 1, 2, 2, 0, 0, 0, 2, 2, 2, 1, 0, 2, 2, 0, 0, 0, 2, 0, 0, 2, 2, 2, 2, 0, 2, 2, 0, 1, 1, 1, 1, 0, 1, 0, 1, 2, 2, 2, 1, 2, 0, 2, 1, 1, 2, 0, 0, 2, 2, 2, 2, 2, 2, 0, 0, 2, 2, 1, 0, 0, 0, 0, 2, 0, 0, 0, 2, 2, 0, 1, 0, 0, 1, 2, 2, 0, 0, 0, 1, 0, 2, 0, 2, 2, 0, 0, 1, 0, 2, 0, 2, 0, 1, 2, 0, 1, 2, 0, 0, 0, 0, 1, 2, 2, 2, 0, 1, 0, 0, 0, 1, 0, 1, 0, 2, 2, 0, 0, 0, 0, 1, 1, 2, 1, 1, 0, 2, 2, 2, 0, 0, 1, 0, 1, 0, 2, 2, 2, 0, 2, 0, 1, 0, 1, 0, 0, 1, 1, 2, 2, 2, 1, 2, 2, 0, 2, 0, 2, 2, 2, 2, 0, 0, 2, 0, 2, 2, 2, 0, 2, 0, 0, 1, 2, 2, 0, 2, 2, 2, 0, 0, 2, 2, 0, 0, 2, 0, 0, 2, 2, 1, 1, 2, 2, 2, 0, 1, 0, 0, 1, 2, 0, 0, 0, 0, 0, 1, 2, 2, 0, 0, 0, 0, 0, 2, 2, 2, 2, 2, 2, 2, 0, 0, 2, 1, 1, 0, 0, 1, 2, 1, 2, 1, 0, 2, 2, 0, 2, 1, 1, 1, 1, 0, 0, 2, 1, 0, 0, 2, 0, 0, 2, 0, 0, 2, 0, 0, 0, 2, 0, 2, 1, 0, 2, 1, 2, 1, 1, 0, 2, 1, 0, 2, 2, 1, 2, 0, 0, 0, 0, 2, 2, 1, 0, 2, 0, 2, 0, 2, 2, 0, 2, 0, 2, 2, 2, 1, 0, 2, 0, 0, 2, 1, 0, 2, 0, 0, 0, 2, 0, 2, 0, 2, 0, 1, 0, 0, 0, 0, 2, 2, 0, 0, 2, 0, 2, 1, 2, 1, 0, 2, 0, 2, 0, 2, 1, 2, 0, 1, 0, 1, 0, 2, 2, 2, 2, 2, 2, 0, 2, 2, 2, 2, 0, 1, 2, 2, 1, 0, 0, 1, 1, 0, 1, 0, 2, 2, 2, 0, 2, 0, 1, 1, 2, 2, 2, 1, 2, 1, 0, 2, 0, 0, 2, 2, 2, 0, 2, 1, 0, 2, 0, 1, 2, 1, 2, 1, 2, 0, 1, 1, 0, 1, 2, 1, 0, 2, 2, 0, 0, 0, 2, 1, 0, 2, 0, 0, 0, 2, 0, 0, 2, 0, 2, 0, 0, 0, 2, 2, 2, 0, 1, 2, 0, 0, 2, 0, 2, 2, 2, 2, 1, 1, 0, 0, 1, 2, 2, 2, 0, 2, 0, 0, 2, 2, 0, 2, 2, 2, 0, 1, 0, 0, 2, 0, 0, 0, 0, 2, 0, 0, 2, 1, 2, 2, 0, 1, 2, 2, 0, 2, 2, 2, 0, 2, 2, 1, 2, 2, 2, 2, 2, 2, 1, 0, 2, 0, 2, 2, 2, 0, 0, 2, 0, 2, 0, 2, 0, 2, 2, 0, 2, 2, 0, 2, 2, 0, 1, 2, 1, 0, 2, 2, 2, 0, 0, 2, 2, 2, 2, 0, 2, 0, 0, 2, 2, 0, 0, 0, 0, 2, 1, 2, 0, 0, 2, 2, 0, 2, 0, 0, 2, 2, 0, 0, 1, 2, 1, 0, 2, 2, 2, 0, 2, 2, 2, 0, 2, 2, 2, 0, 2, 1, 0, 2, 0, 2, 0, 1, 2, 1, 0, 2, 1, 0, 2, 1, 2, 0, 2, 2, 0, 2, 0, 2, 2, 2, 2, 2, 2, 2, 0, 0, 2, 2, 2, 0, 0, 2, 0, 2, 2, 1, 1, 2, 2, 1, 0, 2, 2, 0, 0, 2, 0, 0, 1, 0, 1, 2, 2, 2, 1, 1, 2, 2, 2, 0, 0, 2, 2, 2, 0, 0, 0, 0, 1, 0, 0, 2, 0, 0, 0, 2, 2, 2, 1, 2, 0, 0, 0, 0, 2, 0, 0, 0, 0, 0, 1, 1, 2, 2, 2, 2, 0, 1, 1, 0, 0, 1, 1, 2, 0, 2, 2, 2, 2, 0, 2, 0, 2, 2, 2, 1, 2, 1, 2, 2, 0, 2, 0, 0, 0, 1, 2, 2, 2, 2, 1, 0, 1, 2, 0, 0, 1, 0, 2, 0, 0, 1, 0, 1, 2, 2, 0, 1, 1, 0, 0, 1, 1, 2, 2, 2, 2, 0, 2, 0, 1, 2, 1, 0, 2, 2, 2, 2, 0, 2, 2, 1, 2, 2, 2, 2, 2, 2, 0, 0, 0, 0, 2, 0, 1, 0, 2, 1, 2, 0, 0, 0, 2, 2, 1, 2, 0, 1, 2, 0, 2, 0, 2, 2, 2, 2, 2, 2, 0, 0, 2, 0, 0, 2, 1, 2, 0, 1, 2, 2, 1, 0, 2, 2, 1, 1, 0, 2, 2, 2, 0, 0, 2, 0, 0, 1, 0, 2, 2, 1, 0, 2, 1, 0, 0, 2, 1, 1, 2, 0, 0, 0, 0, 2, 2, 2, 0, 2, 2, 0, 0, 0, 0, 0, 2, 0, 0, 0, 2, 0, 2, 1, 1, 2, 2, 2, 1, 2, 2, 0, 2, 0, 2, 1, 0, 0, 0, 0, 2, 1, 0, 1, 2, 0, 1, 2, 2, 2, 2, 1, 1, 0, 0, 1, 0, 0, 2, 0, 2, 1, 0, 2, 0, 0, 0, 2, 2, 1, 0, 2, 2, 0, 2, 2, 2, 2, 2, 0, 0, 1, 0, 0, 2, 0, 2, 0, 0, 1, 2, 0, 0, 0, 0, 0, 0, 0, 0, 0, 0, 1, 0, 0, 0, 0, 2, 0, 2, 2, 2, 0, 2, 0, 2, 2, 0, 2, 0, 2, 2, 0, 0, 2, 0, 0, 2, 2, 2, 2, 0, 0, 0, 2, 2, 0, 0, 0, 2, 2, 1, 0, 2, 1, 2, 0, 1, 2, 1, 0, 1, 1, 0, 1, 2, 2, 1, 0, 2, 0, 2, 0, 0, 1, 2, 2, 1, 0, 0, 2, 0, 0, 1, 2, 0, 2, 0, 2, 0, 2, 0, 0, 0, 0, 1, 0, 0, 0, 0, 2, 0, 2, 2, 2, 2, 2, 1, 0, 0, 0, 0, 2, 2, 1, 0, 0, 2, 0, 2, 2, 2, 1, 2, 2, 2, 2, 2, 2, 0, 0, 2, 1, 2, 0, 1, 0, 1, 2, 0, 2, 2, 2, 2, 2, 2, 2, 2, 0, 2, 2, 1, 2, 0, 2, 2, 1, 0, 0, 2, 2, 0, 2, 2, 0, 0, 2, 0, 0, 0, 1, 0, 0, 2, 0, 2, 2, 0, 0, 1, 2, 0, 2, 2, 2, 2, 2, 2, 2, 2, 2, 0, 0, 2, 2, 0, 1, 1, 2, 2, 2, 1, 0, 2, 2, 0, 0, 2, 0, 2, 2, 1, 2, 2, 2, 2, 0, 2, 2, 2, 2, 0, 2, 2, 0, 0, 2, 0, 2, 0, 0, 2, 2, 2, 1, 2, 1, 0, 2, 1, 2, 2, 1, 1, 0, 0, 2, 2, 2, 2, 0, 1, 2, 2, 2, 0, 2, 0, 2, 0, 1, 0, 1, 0, 2, 0, 2, 0, 2, 1, 0, 0, 2, 0, 1, 2, 1, 2, 0, 1, 0, 0, 1, 2, 1, 2, 1, 2, 0, 1, 1, 1, 2, 2, 1, 2, 2, 2, 2, 0, 0, 2, 1, 2, 0, 1, 0, 2, 2, 2, 2, 1, 2, 1, 2, 0, 0, 0, 2, 2, 2, 2, 0, 2, 0, 0, 0, 1, 2, 2, 2, 0, 2, 2, 2, 0, 0, 2, 2, 1, 2, 0, 1, 0, 0, 0, 0, 0, 2, 2, 0, 2, 1, 0, 0, 1, 2, 1, 2, 0, 2, 0, 0, 2, 2, 2, 2, 0, 0, 2, 2, 0, 0, 0, 0, 0, 0, 0, 0, 2, 2, 0, 1, 2, 1, 2, 0, 2, 2, 0, 0, 1, 2, 2, 0, 0, 0, 0, 0, 0, 0, 0, 2, 2, 0, 0, 2, 1, 1, 0, 2, 2, 0, 0, 1, 0, 2, 1, 0, 2, 2, 2, 2, 1, 1, 0, 2, 2, 0, 1, 0, 1, 0, 0, 0, 0, 1, 2, 2, 0, 2, 2, 2, 1, 0, 1, 2, 1, 0, 2, 0, 2, 2, 1, 2, 2, 0, 0, 2, 0, 2, 2, 0, 2, 2, 0, 1, 2, 2, 2, 2, 1, 2, 0, 0, 1, 2, 0, 1, 2, 0, 0, 0, 0, 2, 2, 0, 2, 1, 1, 1, 2, 1, 2, 1, 0, 2, 0, 2, 1, 0, 1, 1, 0, 2, 1, 0, 0, 2, 2, 0, 2, 0, 2, 2, 2, 2, 0, 0, 2, 2, 0, 2, 0, 0, 0, 2, 2, 2, 2, 2, 2, 2, 2, 1, 2, 0, 0, 2, 2, 2, 2, 2, 2, 1, 0, 2, 0, 2, 2, 0, 0, 0, 0, 1, 2, 0, 2, 2, 2, 0, 2, 2, 0, 0, 2, 1, 0, 0, 2, 0, 2, 1, 2, 2, 0, 2, 1, 2, 2, 2, 1, 0, 0, 0, 0, 2, 2, 1, 0, 2, 0, 2, 0, 2, 0, 2, 0, 1, 0, 1, 2, 1, 2, 2, 1, 0, 1, 1, 2, 2, 2, 0, 2, 0, 0, 0, 2, 2, 2, 0, 0, 1, 2, 0, 2, 2, 2, 0, 0, 0, 0, 0, 0, 0, 0, 2, 0, 1, 2, 2, 1, 0, 0, 0, 2, 2, 0, 0, 1, 1, 1, 1, 2, 0, 0, 1, 2, 2, 1, 2, 2, 1, 1, 0, 2, 2, 2, 2, 2, 2, 0, 2, 2, 2, 2, 0, 2, 0, 2, 2, 0, 2, 0, 0, 1, 1, 1, 0, 0, 2, 0, 1, 1, 0, 0, 2, 2, 2, 2, 2, 0, 0, 0, 1, 2, 2, 0, 2, 1, 2, 0, 2, 2, 2, 1, 2, 2, 2, 0, 2, 1, 2, 1, 0, 1, 2, 0, 1, 2, 2, 0, 0, 0, 0, 2, 2, 0, 2, 1, 1, 2, 2, 0, 2, 0, 1, 1, 2, 0, 1, 0, 0, 1, 2, 2, 2, 2, 0, 1, 2, 0, 2, 0, 2, 1, 2, 0, 2, 2, 0, 2, 1, 2, 0, 1, 2, 2, 0, 2, 0, 0, 2, 2, 2, 0, 0, 0, 2, 2, 0, 2, 0, 0, 2, 2, 2, 2, 2, 2, 2, 0, 2, 2, 2, 1, 0, 0, 2, 0, 1, 2, 2, 1, 1, 2, 1, 1, 1, 1, 0, 2, 0, 2, 0, 1, 2, 1, 1, 0, 2, 0, 2, 0, 2, 0, 2, 2, 1, 0, 2, 2, 2, 2, 2, 2, 2, 0, 1, 0, 2, 2, 2, 0, 0, 2, 2, 1, 2, 2, 2, 1, 0, 0, 0, 2, 0, 2, 0, 2, 2, 2, 2, 0, 1, 0, 2, 0, 2, 1, 2, 2, 2, 0, 1, 0, 2, 0, 2, 0, 0, 0, 2, 2, 2, 0, 1, 0, 0, 0, 0, 1, 0, 0, 0, 0, 2, 2, 0, 0, 2, 2, 1, 2, 2, 2, 0, 0, 2, 0, 2, 0, 1, 1, 0, 1, 0, 1, 2, 2, 0, 2, 0, 0, 0, 2, 2, 0, 0, 1, 0, 2, 0, 2, 0, 2, 1, 2, 2, 0, 2, 2, 2, 0, 0, 0, 0, 1, 0, 2, 2, 0, 0, 0, 1, 2, 2, 0, 2, 2, 2, 2, 2, 2, 0, 2, 2, 1, 0, 2, 0, 1, 0, 0, 0, 2, 1, 0, 2, 1, 2, 2, 1, 0, 2, 0, 2, 0, 0, 0, 0, 0, 0, 0, 0, 2, 1, 0, 2, 1, 2, 1, 1, 2, 1, 2, 2, 0, 1, 0, 0, 0, 2, 0, 0, 0, 0, 1, 2, 1, 0, 0, 0, 2, 1, 0, 1, 1, 2, 1, 0, 2, 0, 2, 0, 0, 1, 2, 1, 2, 2, 0, 0, 1, 1, 2, 2, 0, 2, 0, 0, 1, 1, 0, 2, 2, 0, 0, 2, 1, 1, 1, 0, 0, 0, 2, 2, 2, 2, 2, 0, 0, 0, 0, 0, 2, 2, 0, 2, 0, 0, 0, 1, 2, 2, 2, 2, 0, 1, 1, 2, 2, 0, 2, 2, 2, 0, 0, 0, 0, 1, 0, 2, 2, 0, 0, 0, 0, 0, 2, 0, 0, 2, 0, 2, 1, 2, 2, 2, 0, 2, 2, 2, 2, 2, 2, 1, 2, 2, 0, 1, 0, 2, 1, 2, 2, 0, 2, 2, 0, 0, 2, 0, 2, 0, 2, 2, 0, 2, 0, 2, 0, 1, 2, 1, 2, 2, 2, 2, 2, 2, 2, 1, 2, 2, 2, 1, 1, 0, 0, 2, 2, 0, 2, 0, 2, 1, 2, 1, 0, 2, 2, 0, 0, 0, 0, 0, 0, 1, 1, 2, 1, 2, 2, 0, 2, 2, 0, 1, 0, 2, 0, 1, 2, 0, 1, 2, 0, 2, 2, 2, 0, 0, 2, 2, 2, 2, 2, 2, 2, 2, 0, 0, 2, 2, 1, 0, 0, 2, 2, 2, 2, 1, 2, 2, 2, 0, 2, 0, 2, 2, 0, 0, 2, 0, 0, 2, 0, 0, 0, 0, 0, 0, 0, 0, 2, 0, 2, 0, 2, 1, 2, 1, 2, 0, 0, 1, 0, 0, 0, 2, 1, 1, 0, 1, 0, 2, 2, 2, 0, 1, 2, 2, 2, 1, 0, 1, 0, 2, 0, 2, 1, 0, 2, 2, 2, 2, 1, 0, 0, 2, 0, 2, 1, 1, 2, 1, 0, 1, 0, 2, 2, 2, 1, 2, 2, 2, 2, 0, 2, 2, 1, 0, 0, 2, 2, 2, 0, 2, 2, 0, 2, 0, 0, 0, 0, 1, 2, 2, 2, 0, 2, 2, 2, 0, 1, 1, 0, 0, 0, 1, 2, 0, 0, 2, 2, 0, 0, 1, 1, 0, 2, 2, 0, 0, 1, 2, 0, 0, 0, 2, 0, 0, 1, 0, 1, 0, 1, 0, 1, 1, 2, 2, 0, 2, 1, 0, 2, 1, 0, 2, 0, 2, 1, 2, 2, 2, 1, 2, 2, 0, 2, 2, 0, 0, 2, 0, 0, 2, 0, 2, 2, 0, 0, 2, 0, 0, 2, 2, 0, 2, 2, 2, 0, 0, 0, 0, 2, 0, 2, 2, 1, 2, 1, 2, 2, 2, 0, 0, 2, 2, 2, 1, 1, 0, 2, 1, 0, 1, 2, 0, 1, 2, 2, 0, 2, 2, 2, 2, 2, 2, 1, 0, 2, 1, 1, 0, 0, 2, 1, 2, 2, 2, 0, 2, 2, 0, 1, 2, 2, 0, 1, 0, 2, 2, 2, 0, 2, 2, 0, 2, 1, 2, 2, 2, 0, 0, 2, 2, 0, 1, 2, 0, 2, 2, 1, 2, 0, 0, 2, 2, 2, 1, 0, 0, 1, 0, 0, 2, 2, 0, 1, 0, 2, 2, 1, 2, 0, 0, 2, 0, 1, 2, 0, 2, 0, 0, 2, 2, 1, 2, 2, 0, 2, 2, 0, 2, 0, 1, 1, 2, 0, 0, 0, 2, 0, 2, 1, 2, 0, 0, 0, 0, 1, 1, 0, 2, 0, 2, 0, 0, 1, 2, 2, 2, 2, 0, 2, 2, 0, 0, 0, 1, 2, 0, 1, 1, 2, 0, 2, 0, 0, 0, 0, 2, 2, 0, 1, 2, 2, 0, 0, 0, 2, 0, 0, 2, 2, 0, 1, 0, 1, 2, 1, 0, 0, 0, 2, 0, 1, 2, 1, 2, 2, 0, 2, 0, 2, 1, 2, 1, 2, 0, 1, 2, 2, 2, 0, 2, 2, 2, 0, 1, 0, 0, 2, 0, 1, 2, 2, 2, 2, 1, 2, 2, 0, 0, 2, 1, 0, 0, 0, 1, 2, 1, 2, 2, 2, 2, 2, 2, 2, 2, 0, 1, 0, 1, 2, 0, 1, 2, 2, 1, 1, 2, 2, 0, 0, 0, 1, 1, 2, 0, 2, 0, 2, 2, 1, 1, 2, 0, 2, 1, 1, 0, 2, 2, 2, 0, 0, 2, 0, 0, 0, 2, 0, 0, 2, 2, 2, 0, 0, 0, 0, 2, 0, 0, 2, 1, 2, 2, 2, 0, 2, 0, 2, 2, 0, 2, 2, 1, 1, 2, 1, 2, 2, 1, 0, 0, 1, 2, 2, 2, 0, 2, 2, 1, 0, 2, 2, 1, 0, 0, 2, 0, 2, 2, 0, 2, 0, 2, 0, 1, 2, 0, 2, 0, 1, 2, 0, 2, 2, 0, 2, 2, 0, 2, 1, 0, 1, 1, 2, 1, 2, 1, 2, 2, 0, 0, 0, 0, 1, 0, 2, 0, 2, 2, 0, 0, 1, 0, 0, 1, 2, 0, 2, 1, 0, 2, 0, 1, 2, 0, 2, 1, 2, 0, 2, 1, 0, 0, 0, 0, 0, 1, 1, 2, 0, 2, 1, 2, 0, 1, 2, 0, 0, 2, 2, 0, 2, 0, 2, 2, 0, 2, 0, 1, 1, 2, 2, 0, 1, 1, 0, 2, 1, 0, 0, 1, 2, 0, 2, 0, 2, 2, 2, 0, 2, 2, 0, 1, 0, 0, 2, 0, 2, 0, 0, 1, 0, 2, 2, 0, 2, 0, 0, 2, 0, 1, 2, 0, 1, 1, 0, 2, 0, 1, 0, 0, 0, 0, 2, 2, 2, 2, 0, 0, 2, 0, 0, 2, 1, 1, 1, 1, 0, 0, 0, 0, 0, 0, 2, 2, 0, 1, 2, 0, 2, 0, 2, 0, 2, 2, 0, 1, 2, 2, 0, 0, 0, 0, 1, 0, 2, 1, 1, 0, 2, 0, 2, 2, 0, 2, 1, 2, 2, 2, 1, 1, 0, 0, 2, 1, 2, 2, 0, 0, 1, 2, 0, 0, 0, 2, 0, 2, 0, 1, 0, 2, 2, 2, 0, 2, 0, 2, 1, 0, 0, 0, 0, 2, 2, 2, 2, 1, 1, 2, 0, 0, 2, 2, 0, 2, 2, 2, 0, 2, 0, 0, 2, 2, 0, 1, 2, 2, 1, 2, 2, 2, 2, 2, 2, 2, 2, 0, 0, 0, 2, 2, 0, 2, 2, 2, 0, 0, 0, 2, 0, 2, 0, 1, 2, 1, 0, 2, 0, 2, 2, 0, 0, 0, 0, 1, 2, 1, 2, 2, 2, 1, 1, 2, 0, 2, 2, 0, 0, 2, 0, 2, 2, 0, 1, 0, 1, 1, 2, 0, 0, 0, 1, 1, 2, 2, 2, 0, 2, 2, 2, 2, 0, 0, 2, 1, 2, 0, 2, 0, 0, 2, 2, 2, 0, 2, 0, 0, 2, 0, 2, 1, 2, 2, 0, 1, 0, 1, 1, 0, 2, 0, 2, 1, 2, 2, 0, 2, 2, 2, 0, 2, 2, 0, 0, 0, 0, 2, 0, 2, 1, 0, 0, 2, 2, 2, 0, 0, 2, 0, 2, 1, 2, 2, 0, 2, 2, 0, 0, 0, 2, 1, 0, 2, 2, 0, 2, 0, 2, 1, 0, 2, 0, 0, 1, 2, 1, 2, 2, 1, 2, 2, 2, 2, 0, 0, 0, 2, 1, 1, 1, 2, 2, 2, 2, 2, 1, 1, 2, 0, 2, 0, 2, 0, 1, 2, 2, 2, 2, 0, 1, 1, 2, 2, 1, 0, 2, 2, 1, 2, 1, 2, 1, 2, 2, 2, 2, 2, 2, 2, 2, 0, 0, 2, 1, 1, 2, 2, 1, 0, 2, 0, 2, 1, 0, 0, 0, 2, 2, 1, 0, 0, 0, 0, 2, 0, 0, 0, 2, 2, 0, 2, 2, 2, 2, 2, 1, 1, 2, 0, 0, 2, 0, 2, 0, 0, 1, 2, 0, 0, 1, 0, 2, 1, 2, 1, 0, 2, 0, 0, 1, 2, 2, 2, 2, 2, 2, 1, 1, 0, 2, 0, 0, 1, 0, 0, 2, 2, 0, 2, 0, 2, 0, 1, 0, 0, 0, 0, 1, 0, 2, 2, 1, 0, 0, 0, 2, 2, 2, 0, 2, 1, 2, 1, 0, 2, 2, 2, 1, 2, 2, 2, 1, 1, 2, 0, 1, 2, 2, 2, 1, 0, 1, 0, 0, 2, 0, 0, 1, 1, 1, 2, 0, 0, 2, 0, 2, 1, 0, 2, 2, 0, 1, 2, 1, 2, 1, 2, 0, 2, 1, 0, 0, 0, 2, 0, 1, 2, 1, 2, 0, 1, 2, 1, 1, 0, 1, 2, 0, 2, 0, 0, 2, 2, 0, 2, 0, 1, 1, 1, 2, 0, 1, 0, 0, 2, 0, 2, 0, 1, 0, 1, 0, 0, 0, 1, 2, 0, 2, 2, 1, 2, 0, 0, 0, 1, 1, 0, 0, 2, 1, 0, 0, 0, 2, 2, 0, 2, 0, 2, 0, 0, 0, 2, 2, 1, 0, 2, 2, 1, 1, 2, 2, 2, 1, 1, 2, 1, 2, 2, 0, 0, 2, 2, 2, 1, 0, 0, 2, 0, 1, 2, 2, 0, 0, 0, 0, 1, 0, 2, 2, 0, 2, 0, 0, 0, 1, 0, 0, 0, 2, 1, 0, 2, 0, 2, 2, 2, 0, 1, 0, 0, 2, 0, 1, 1, 2, 0, 0, 2, 0, 2, 1, 2, 1, 1, 0, 2, 2, 2, 0, 0, 0, 2, 1, 1, 2, 0, 0, 2, 2, 2, 2, 0, 2, 2, 0, 0, 2, 0, 2, 2, 2, 0, 1, 0, 0, 1, 2, 1, 0, 0, 2, 0, 2, 0, 1, 1, 0, 0, 0, 1, 2, 2, 0, 2, 0, 2, 2, 1, 0, 2, 2, 1, 2, 0, 0, 0, 0, 0, 0, 0, 0, 2, 0, 2, 2, 2, 2, 0, 0, 0, 1, 0, 2, 0, 0, 2, 2, 2, 1, 0, 0, 0, 2, 0, 1, 2, 1, 0, 1, 2, 0, 1, 0, 0, 1, 2, 0, 0, 2, 0, 2, 2, 2, 0, 0, 0, 2, 0, 2, 2, 2, 0, 2, 1, 2, 2, 2, 1, 2, 2, 1, 2, 0, 2, 2, 0, 1, 2, 2, 2, 2, 0, 0, 1, 2, 0, 0, 0, 1, 1, 2, 2, 2, 0, 2, 2, 2, 2, 2, 2, 2, 2, 2, 2, 2, 1, 2, 1, 0, 0, 0, 1, 2, 1, 1, 0, 2, 1, 2, 1, 0, 2, 0, 2, 0, 0, 0, 0, 0, 2, 1, 2, 2, 2, 2, 0, 1, 1, 0, 1, 2, 0, 0, 2, 1, 2, 2, 2, 2, 2, 0, 0, 0, 0, 0, 0, 2, 0, 2, 0, 0, 2, 2, 2, 2, 0, 1, 0, 1, 0, 1, 2, 1, 2, 2, 2, 0, 2, 0, 2, 1, 2, 1, 1, 0, 0, 0, 1, 0, 0, 2, 0, 2, 2, 1, 0, 2, 2, 2, 2, 2, 2, 1, 2, 0, 0, 2, 0, 0, 0, 0, 0, 2, 2, 2, 2, 2, 0, 1, 2, 2, 0, 0, 0, 1, 0, 0, 2, 2, 2, 2, 0, 2, 0, 0, 0, 0, 1, 0, 2, 0, 2, 0, 0, 2, 2, 1, 2, 1, 0, 2, 0, 2, 2, 2, 2, 2, 0, 2, 2, 1, 0, 0, 1, 2, 0, 2, 2, 0, 2, 0, 0, 2, 1, 0, 0, 1, 0, 2, 2, 2, 2, 0, 2, 0, 0, 2, 0, 2, 2, 1, 2, 1, 2, 0, 0, 0, 2, 0, 0, 2, 2, 1, 2, 2, 2, 0, 2, 0, 0, 2, 0, 0, 0, 0, 1, 0, 1, 2, 1, 2, 0, 0, 2, 1, 0, 0, 0, 1, 0, 2, 0, 1, 2, 1, 0, 2, 2, 0, 1, 0, 0, 2, 0, 2, 0, 0, 0, 2, 1, 1, 2, 0, 0, 2, 0, 0, 0, 0, 0, 2, 0, 2, 1, 0, 2, 0, 2, 2, 0, 2, 0, 2, 0, 2, 2, 0, 2, 2, 0, 2, 0, 2, 2, 2, 2, 2, 0, 2, 1, 1, 0, 0, 0, 0, 0, 1, 1, 0, 2, 2, 0, 2, 2, 2, 2, 2, 0, 2, 2, 2, 2, 2, 2, 1, 0, 2, 2, 0, 2, 0, 0, 2, 2, 2, 2, 2, 0, 1, 0, 2, 0, 1, 2, 0, 1, 0, 1, 1, 0, 2, 0, 1, 0, 2, 0, 0, 0, 2, 1, 1, 2, 0, 2, 0, 1, 1, 0, 1, 2, 0, 0, 0, 2, 1, 2, 1, 0, 2, 0, 2, 2, 2, 2, 1, 0, 2, 2, 2, 1, 2, 2, 0, 0, 2, 2, 0, 2, 0, 0, 0, 2, 1, 2, 2, 1, 2, 0, 2, 0, 1, 2, 1, 0, 2, 0, 0, 2, 0, 1, 0, 0, 0, 0, 0, 2, 0, 0, 0, 0, 1, 0, 0, 2, 1, 0, 2, 0, 2, 1, 0, 2, 0, 0, 2, 0, 1, 0, 2, 1, 2, 1, 2, 0, 0, 2, 2, 2, 2, 1, 2, 0, 2, 2, 0, 2, 1, 0, 2, 2, 2, 0, 1, 2, 2, 2, 2, 0, 0, 2, 1, 0, 1, 0, 2, 2, 2, 2, 0, 0, 2, 2, 0, 0, 2, 2, 1, 1, 0, 0, 0, 2, 2, 1, 1, 0, 2, 0, 2, 2, 2, 2, 1, 2, 2, 2, 0, 2, 0, 2, 0, 0, 0, 2, 2, 0, 2, 0, 0, 0, 1, 2, 2, 2, 2, 1, 2, 2, 0, 2, 2, 1, 2, 2, 2, 1, 0, 0, 0, 2, 0, 0, 0, 2, 2, 0, 2, 0, 0, 2, 1, 2, 2, 2, 2, 1, 0, 0, 2, 2, 0, 2, 1, 0, 1, 0, 1, 0, 1, 0, 0, 0, 0, 1, 2, 0, 2, 0, 2, 2, 1, 2, 1, 2, 2, 1, 0, 1, 1, 2, 2, 1, 2, 2, 2, 1, 2, 1, 2, 2, 2, 0, 2, 0, 0, 0, 1, 2, 0, 0, 1, 1, 0, 1, 2, 0, 2, 0, 2, 2, 2, 1, 0, 2, 2, 2, 1, 2, 0, 0, 1, 2, 0, 2, 1, 2, 2, 0, 2, 0, 0, 1, 2, 1, 2, 0, 2, 2, 2, 2, 2, 0, 0, 0, 0, 1, 0, 0, 2, 1, 2, 2, 2, 2, 2, 2, 2, 0, 0, 0, 2, 2, 0, 0, 0, 1, 2, 2, 0, 2, 0, 0, 2, 2, 0, 0, 2, 2, 2, 1, 1, 0, 0, 2, 0, 1, 2, 2, 1, 2, 0, 2, 2, 0, 1, 2, 0, 2, 2, 2, 2, 1, 0, 0, 2, 2, 0, 0, 1, 2, 0, 2, 0, 1, 0, 1, 0, 0, 0, 2, 2, 2, 0, 2, 0, 0, 2, 2, 2, 0, 0, 0, 2, 2, 0, 0, 2, 2, 1, 2, 0, 0, 2, 2, 0, 1, 1, 2, 0, 0, 2, 0, 0, 2, 0, 1, 1, 2, 0, 2, 2, 1, 1, 0, 0, 2, 2, 0, 2, 2, 2, 2, 0, 2, 2, 0, 1, 2, 2, 2, 0, 2, 0, 2, 1, 2, 1, 2, 1, 2, 2, 2, 2, 0, 2, 0, 0, 1, 2, 2, 1, 2, 0, 0, 2, 0, 1, 0, 2, 0, 2, 1, 0, 2, 2, 0, 0, 2, 0, 2, 2, 2, 0, 1, 1, 1, 1, 2, 0, 0, 2, 0, 0, 2, 0, 1, 2, 0, 0, 2, 1, 0, 0, 1, 1, 0, 1, 0, 2, 2, 2, 2, 0, 0, 2, 1, 2, 2, 2, 0, 1, 1, 2, 2, 2, 1, 2, 2, 0, 2, 1, 0, 2, 0, 2, 1, 0, 2, 0, 2, 2, 1, 2, 0, 2, 0, 2, 0, 2, 0, 0, 2, 0, 1, 0, 0, 1, 1, 0, 0, 2, 2, 2, 1, 2, 0, 1, 2, 0, 0, 2, 0, 2, 2, 2, 0, 2, 0, 0, 0, 0, 2, 0, 2, 0, 2, 0, 2, 1, 2, 0, 2, 2, 1, 0, 2, 1, 0, 0, 1, 0, 2, 2, 2, 2, 1, 2, 0, 1, 1, 0, 0, 2, 2, 1, 2, 2, 1, 1, 2, 2, 2, 2, 2, 2, 1, 1, 2, 2, 2, 2, 2, 2, 2, 2, 0, 0, 0, 0, 0, 2, 0, 0, 2, 2, 0, 0, 0, 0, 2, 0, 0, 2, 0, 1, 2, 0, 2, 2, 2, 2, 1, 0, 0, 2, 0, 2, 2, 0, 1, 0, 0, 1, 2, 1, 2, 2, 2, 2, 2, 0, 1, 1, 0, 0, 0, 1, 0, 1, 2, 2, 1, 0, 0, 2, 0, 2, 2, 2, 1, 0, 1, 2, 0, 1, 2, 0, 0, 0, 1, 0, 0, 1, 2, 0, 0, 2, 1, 2, 1, 0, 0, 2, 2, 0, 0, 2, 2, 1, 2, 2, 2, 0, 0, 2, 0, 1, 1, 2, 0, 2, 0, 2, 2, 0, 0, 0, 0, 2, 2, 0, 2, 0, 1, 0, 0, 0, 1, 2, 2, 2, 0, 1, 2, 1, 0, 0, 2, 0, 2, 1, 2, 1, 2, 0, 0, 2, 0, 0, 0, 2, 0, 1, 2, 2, 2, 0, 2, 2, 1, 2, 2, 2, 2, 0, 2, 0, 2, 2, 2, 0, 2, 2, 2, 2, 0, 0, 0, 2, 2, 1, 0, 2, 1, 0, 0, 1, 0, 2, 2, 2, 2, 0, 2, 2, 2, 0, 1, 2, 2, 2, 2, 0, 1, 1, 1, 0, 0, 0, 2, 0, 2, 2, 2, 1, 0, 2, 1, 0, 1, 2, 2, 0, 2, 1, 0, 0, 2, 0, 0, 0, 0, 0, 0, 0, 0, 1, 0, 0, 0, 2, 2, 0, 1, 2, 0, 0, 2, 2, 2, 1, 0, 0, 2, 0, 0, 2, 0, 1, 2, 1, 0, 0, 0, 0, 2, 0, 2, 2, 0, 1, 1, 2, 0, 2, 1, 2, 2, 2, 0, 0, 0, 0, 0, 2, 1, 0, 2, 0, 2, 1, 1, 0, 2, 0, 0, 0, 2, 0, 2, 2, 1, 2, 0, 0, 2, 1, 2, 0, 2, 0, 2, 0, 2, 2, 0, 2, 2, 2, 2, 0, 0, 0, 0, 1, 0, 0, 0, 2, 1, 1, 0, 1, 2, 2, 0, 0, 0, 0, 2, 1, 2, 2, 0, 0, 1, 1, 0, 0, 0, 0, 2, 2, 0, 2, 2, 1, 2, 0, 0, 0, 0, 0, 2, 0, 2, 1, 0, 2, 2, 2, 2, 0, 2, 0, 2, 0, 0, 1, 2, 1, 0, 1, 2, 2, 0, 1, 0, 2, 1, 0, 0, 0, 2, 2, 1, 0, 2, 1, 0, 0, 0, 1, 1, 0, 2, 2, 1, 1, 2, 2, 2, 0, 2, 2, 0, 0, 1, 2, 2, 0, 2, 2, 2, 0, 1, 0, 0, 0, 1, 1, 0, 1, 2, 2, 0, 0, 0, 1, 2, 1, 2, 2, 0, 0, 2, 2, 0, 2, 0, 0, 0, 2, 2, 0, 0, 0, 0, 0, 1, 2, 1, 0, 2, 2, 2, 1, 2, 2, 1, 2, 2, 1, 2, 0, 1, 0, 0, 2, 0, 2, 0, 0, 0, 2, 0, 0, 2, 0, 0, 2, 2, 2, 2, 2, 0, 2, 2, 2, 0, 2, 1, 0, 2, 0, 2, 2, 2, 0, 2, 0, 1, 0, 0, 2, 1, 2, 1, 2, 2, 1, 0, 2, 1, 0, 2, 0, 0, 2, 2, 1, 2, 0, 0, 0, 1, 2, 2, 1, 0, 0, 1, 0, 0, 1, 0, 2, 2, 2, 2, 0, 2, 2, 1, 0, 0, 1, 1, 2, 1, 1, 2, 2, 2, 0, 0, 2, 1, 0, 1, 2, 0, 2, 2, 2, 0, 0, 0, 2, 1, 0, 2, 2, 2, 0, 0, 0, 1, 0, 0, 2, 1, 2, 2, 1, 2, 2, 2, 2, 0, 2, 0, 1, 0, 0, 1, 1, 0, 1, 2, 2, 2, 0, 2, 2, 0, 2, 0, 2, 1, 2, 0, 0, 2, 2, 1, 2, 0, 0, 2, 0, 1, 2, 2, 0, 1, 0, 0, 1, 0, 0, 0, 0, 2, 0, 2, 0, 2, 0, 0, 1, 0, 0, 0, 2, 1, 2, 2, 0, 2, 2, 0, 2, 2, 2, 0, 2, 0, 0, 2, 2, 2, 2, 2, 2, 2, 0, 2, 0, 2, 2, 0, 0, 0, 0, 2, 1, 0, 2, 2, 2, 2, 0, 2, 2, 2, 0, 2, 2, 0, 1, 2, 2, 0, 1, 1, 0, 2, 2, 0, 1, 2, 0, 2, 2, 2, 2, 0, 2, 2, 0, 0, 1, 0, 2, 2, 0, 1, 2, 2, 1, 0, 2, 0, 1, 0, 0, 1, 0, 0, 2, 2, 1, 0, 0, 0, 1, 0, 1, 0, 2, 0, 2, 1, 2, 2, 2, 0, 2, 0, 0, 0, 0, 2, 2, 2, 2, 0, 2, 0, 1, 2, 0, 0, 2, 2, 1, 2, 0, 2, 0, 0, 0, 0, 0, 1, 0, 2, 0, 2, 2, 2, 1, 2, 1, 2, 0, 2, 2, 0, 0, 2, 0, 2, 0, 2, 2, 1, 0, 0, 2, 0, 1, 2, 1, 0, 0, 1, 0, 1, 0, 0, 1, 2, 2, 2, 2, 0, 0, 0, 2, 0, 1, 0, 2, 2, 0, 2, 0, 0, 0, 2, 1, 1, 2, 0, 0, 0, 2, 0, 2, 0, 0, 0, 0, 2, 0, 0, 1, 2, 0, 1, 2, 1, 0, 0, 2, 2, 0, 2, 1, 0, 0, 0, 2, 0, 0, 2, 2, 2, 0, 0, 0, 2, 1, 0, 2, 1, 0, 2, 2, 2, 2, 2, 2, 1, 0, 2, 2, 0, 2, 0, 0, 1, 2, 2, 0, 0, 2, 0, 2, 1, 2, 1, 2, 0, 0, 0, 2, 0, 0, 2, 2, 2, 2, 0, 1, 0, 1, 2, 2, 2, 2, 2, 1, 2, 0, 0, 2, 2, 2, 2, 0, 1, 0, 2, 2, 1, 0, 2, 0, 0, 0, 0, 0, 2, 2, 0, 0, 0, 1, 0, 2, 1, 0, 2, 2, 1, 2, 0, 0, 0, 2, 2, 2, 2, 0, 0, 1, 0, 0, 2, 0, 2, 2, 0, 0, 0, 2, 2, 0, 0, 1, 0, 2, 0, 2, 1, 0, 2, 0, 2, 0, 1, 2, 1, 2, 2, 0, 2, 1, 2, 0, 2, 1, 0, 2, 0, 0, 0, 1, 1, 2, 1, 0, 0, 2, 2, 0, 0, 1, 0, 0, 2, 2, 1, 2, 0, 2, 0, 1, 1, 2, 2, 0, 2, 0, 1, 0, 0, 2, 2, 2, 1, 2, 2, 2, 1, 2, 0, 2, 2, 2, 2, 0, 1, 2, 2, 2, 2, 2, 0, 0, 0, 1, 1, 2, 1, 1, 2, 1, 2, 0, 0, 0, 2, 0, 2, 2, 2, 0, 2, 1, 2, 2, 2, 2, 1, 2, 0, 1, 2, 0, 0, 1, 1, 2, 2, 0, 2, 0, 1, 1, 2, 2, 0, 1, 0, 2, 0, 2, 0, 0, 0, 0, 0, 0, 0, 2, 2, 0, 2, 0, 0, 2, 1, 2, 0, 0, 2, 2, 2, 2, 0, 1, 0, 1, 1, 0, 0, 0, 2, 0, 2, 0, 0, 0, 0, 0, 0, 2, 0, 0, 2, 2, 2, 2, 0, 0, 1, 2, 1, 2, 0, 2, 2, 1, 2, 0, 0, 2, 0, 0, 0, 0, 0, 0, 2, 1, 2, 1, 1, 1, 2, 2, 0, 2, 2, 0, 2, 0, 2, 0, 1, 1, 0, 0, 0, 0, 0, 1, 1, 0, 0, 0, 2, 1, 2, 2, 2, 2, 0, 2, 2, 0, 2, 0, 2, 0, 1, 2, 0, 0, 2, 0, 1, 1, 0, 2, 1, 2, 1, 1, 2, 2, 0, 0, 2, 2, 2, 1, 2, 0, 0, 0, 0, 2, 2, 0, 2, 1, 0, 2, 0, 0, 2, 2, 0, 0, 0, 0, 0, 0, 1, 2, 0, 0, 2, 2, 2, 0, 2, 1, 2, 2, 0, 2, 2, 0, 2, 2, 2, 1, 1, 2, 0, 2, 0, 2, 0, 1, 0, 0, 0, 1, 0, 2, 2, 2, 1, 1, 0, 0, 0, 0, 0, 1, 2, 1, 0, 0, 2, 2, 2, 2, 1, 2, 2, 0, 2, 2, 1, 2, 2, 0, 2, 2, 0, 0, 0, 2, 2, 2, 2, 2, 0, 0, 0, 2, 0, 2, 0, 0, 2, 0, 2, 2, 1, 2, 0, 0, 1, 2, 2, 2, 0, 0, 1, 1, 1, 0, 1, 2, 2, 1, 2, 0, 2, 2, 1, 1, 0, 0, 0, 0, 0, 0, 0, 0, 0, 2, 0, 2, 2, 1, 0, 0, 0, 0, 0, 0, 1, 1, 2, 0, 0, 2, 0, 0, 0, 0, 0, 2, 0, 0, 2, 2, 0, 2, 2, 0, 1, 0, 2, 1, 0, 0, 1, 1, 1, 2, 2, 0, 0, 1, 0, 2, 2, 2, 2, 0, 0, 0, 2, 2, 2, 0, 2, 2, 0, 2, 0, 2, 1, 0, 2, 2, 0, 2, 1, 2, 2, 2, 0, 0, 1, 2, 2, 0, 0, 1, 2, 0, 0, 2, 0, 0, 0, 0, 0, 0, 2, 0, 2, 2, 0, 1, 1, 0, 2, 2, 2, 2, 2, 1, 0, 0, 0, 0, 2, 1, 0, 2, 2, 0, 2, 0, 0, 1, 0, 2, 0, 0, 2, 2, 0, 0, 0, 1, 0, 2, 1, 2, 2, 2, 2, 2, 0, 2, 0, 2, 1, 0, 1, 0, 2, 2, 2, 1, 0, 2, 2, 0, 0, 2, 2, 0, 2, 0, 0, 0, 2, 2, 2, 0, 1, 2, 2, 1, 2, 2, 1, 2, 2, 1, 0, 2, 0, 0, 2, 1, 0, 0, 0, 2, 0, 0, 1, 0, 1, 0, 0, 2, 1, 1, 0, 2, 2, 1, 1, 2, 1, 2, 1, 0, 2, 2, 2, 2, 0, 0, 2, 1, 1, 2, 0, 0, 1, 0, 1, 1, 0, 2, 0, 0, 2, 0, 1, 2, 0, 1, 1, 2, 2, 0, 0, 0, 0, 0, 2, 2, 0, 1, 2, 2, 2, 2, 0, 2, 2, 2, 2, 2, 1, 0, 2, 1, 0, 2, 1, 0, 2, 2, 1, 1, 0, 0, 1, 2, 0, 2, 1, 0, 2, 0, 1, 0, 2, 0, 0, 2, 0, 1, 0, 2, 2, 0, 2, 2, 1, 0, 0, 0, 2, 1, 1, 1, 0, 1, 2, 0, 2, 2, 0, 1, 2, 1, 1, 1, 0, 0, 0, 1, 2, 2, 2, 0, 2, 2, 0, 2, 1, 1, 2, 0, 1, 0, 0, 2, 1, 1, 0, 0, 0, 1, 0, 0, 1, 2, 2, 2, 0, 2, 1, 1, 1, 0, 2, 2, 0, 2, 2, 0, 2, 0, 2, 0, 2, 0, 0, 0, 0, 0, 2, 1, 2, 0, 2, 0, 2, 2, 0, 1, 0, 2, 2, 2, 0, 2, 2, 2, 1, 2, 2, 0, 1, 0, 1, 2, 1, 2, 1, 0, 2, 2, 0, 1, 0, 0, 2, 0, 2, 0, 2, 0, 2, 0, 0, 2, 2, 0, 2, 0, 2, 0, 2, 0, 2, 2, 2, 2, 2, 1, 1, 1, 2, 2, 1, 0, 2, 2, 2, 0, 1, 0, 2, 2, 2, 2, 0, 1, 2, 2, 0, 0, 0, 0, 2, 2, 2, 0, 0, 0, 2, 2, 2, 1, 2, 2, 2, 0, 0, 0, 0, 2, 2, 1, 0, 2, 2, 2, 2, 2, 0, 1, 0, 2, 2, 0, 2, 1, 2, 0, 2, 2, 2, 0, 0, 2, 1, 2, 2, 2, 2, 2, 0, 2, 0, 1, 0, 1, 0, 1, 0, 0, 1, 1, 1, 2, 1, 0, 0, 2, 0, 2, 2, 1, 0, 0, 0, 0, 2, 2, 0, 2, 0, 0, 2, 2, 2, 2, 2, 2, 0, 2, 2, 0, 2, 1, 0, 2, 0, 1, 2, 2, 0, 2, 0, 2, 0, 2, 2, 1, 0, 0, 0, 0, 1, 2, 2, 0, 0, 2, 0, 2, 0, 1, 0, 0, 1, 0, 2, 0, 2, 2, 2, 2, 0, 1, 0, 1, 0, 0, 0, 2, 2, 0, 2, 0, 0, 2, 1, 0, 0, 1, 1, 2, 2, 1, 2, 0, 0, 1, 1, 1, 1, 2, 2, 1, 1, 2, 2, 2, 1, 0, 0, 2, 0, 0, 1, 2, 1, 2, 1, 0, 0, 0, 2, 2, 0, 2, 0, 1, 2, 2, 1, 0, 0, 0, 0, 0, 2, 0, 1, 0, 1, 0, 2, 2, 0, 2, 1, 2, 2, 0, 1, 0, 0, 0, 0, 2, 0, 2, 0, 0, 0, 2, 1, 2, 0, 2, 2, 2, 1, 1, 1, 2, 1, 2, 1, 1, 2, 0, 2, 1, 2, 0, 1, 0, 0, 1, 2, 0, 1, 2, 0, 2, 2, 0, 2, 2, 2, 0, 2, 0, 1, 0, 2, 2, 0, 2, 2, 2, 2, 0, 2, 1, 0, 2, 0, 2, 0, 0, 2, 2, 2, 2, 2, 1, 0, 2, 1, 1, 0, 2, 2, 2, 1, 0, 0, 2, 1, 2, 0, 0, 2, 0, 0, 1, 2, 1, 0, 0, 2, 1, 0, 1, 2, 0, 2, 2, 0, 2, 2, 2, 0, 2, 2, 2, 2, 1, 0, 0, 0, 2, 0, 2, 0, 1, 2, 2, 2, 0, 2, 0, 0, 1, 1, 2, 2, 0, 2, 1, 2, 2, 2, 1, 1, 2, 2, 0, 1, 2, 0, 2, 0, 0, 2, 0, 2, 0, 2, 0, 0, 2, 0, 2, 2, 1, 1, 0, 2, 1, 2, 2, 0, 0, 0, 0, 2, 2, 2, 2, 1, 0, 2, 2, 2, 0, 0, 0, 2, 2, 0, 2, 1, 0, 2, 2, 2, 2, 1, 0, 0, 0, 2, 1, 0, 2, 1, 2, 0, 0, 2, 0, 1, 0, 2, 1, 1, 0, 0, 0, 2, 2, 2, 0, 2, 2, 0, 2, 2, 2, 0, 0, 1, 2, 1, 0, 0, 2, 1, 1, 2, 0, 2, 1, 2, 0, 0, 0, 1, 2, 2, 2, 0, 2, 0, 2, 2, 1, 2, 2, 2, 2, 2, 2, 0, 2, 1, 2, 2, 0, 2, 2, 0, 0, 0, 2, 0, 0, 0, 2, 1, 1, 2, 0, 2, 0, 2, 2, 0, 2, 2, 2, 0, 2, 0, 0, 0, 2, 2, 2, 2, 2, 2, 2, 1, 1, 1, 2, 0, 2, 0, 0, 0, 1, 0, 2, 0, 1, 0, 2, 2, 2, 2, 2, 0, 1, 0, 2, 1, 0, 0, 2, 2, 2, 0, 0, 2, 0, 2, 2, 0, 2, 2, 2, 2, 0, 2, 0, 0, 2, 0, 0, 2, 1, 2, 2, 1, 2, 2, 1, 0, 0, 0, 2, 2, 2, 0, 2, 2, 0, 0, 0, 0, 0, 1, 2, 2, 2, 2, 1, 1, 0, 2, 0, 0, 0, 2, 1, 2, 0, 0, 0, 2, 2, 0, 2, 2, 2, 0, 2, 2, 2, 0, 0, 0, 0, 0, 1, 0, 0, 1, 0, 0, 0, 2, 2, 2, 0, 0, 0, 1, 1, 2, 0, 0, 2, 1, 0, 2, 0, 1, 0, 1, 0, 1, 2, 1, 0, 2, 0, 2, 0, 0, 2, 0, 2, 2, 2, 0, 0, 1, 2, 2, 2, 0, 1, 0, 2, 1, 2, 1, 1, 2, 1, 2, 1, 2, 2, 2, 0, 0, 0, 0, 2, 0, 0, 0, 1, 0, 2, 2, 1, 2, 0, 1, 0, 2, 0, 2, 2, 0, 2, 0, 2, 2, 0, 0, 2, 2, 0, 0, 2, 0, 2, 2, 2, 1, 1, 2, 2, 2, 0, 2, 0, 2, 0, 0, 1, 0, 1, 0, 0, 0, 2, 0, 1, 2, 2, 2, 2, 0, 0, 2, 2, 2, 0, 0, 0, 2, 0, 1, 0, 0, 2, 0, 1, 2, 2, 2, 2, 0, 0, 0, 0, 0, 1, 0, 2, 1, 2, 2, 2, 2, 2, 2, 2, 2, 1, 2, 1, 0, 2, 0, 1, 2, 2, 2, 2, 0, 0, 2, 2, 1, 2, 2, 1, 2, 0, 2, 2, 0, 2, 2, 2, 2, 2, 1, 2, 0, 0, 2, 0, 2, 2, 0, 2, 1, 0, 2, 2, 0, 2, 0, 1, 1, 0, 0, 2, 0, 0, 1, 2, 0, 2, 2, 2, 0, 0, 2, 2, 0, 0, 0, 0, 0, 0, 2, 0, 0, 2, 1, 1, 0, 2, 2, 2, 2, 2, 2, 2, 2, 0, 0, 2, 0, 2, 0, 0, 0, 2, 2, 0, 1, 1, 0, 1, 2, 2, 0, 0, 1, 2, 0, 0, 2, 2, 0, 1, 1, 2, 0, 0, 0, 2, 2, 1, 0, 0, 0, 2, 1, 1, 0, 0, 0, 2, 0, 0, 2, 2, 0, 2, 2, 0, 0, 2, 0, 0, 2, 1, 2, 2, 2, 2, 2, 2, 2, 0, 2, 2, 0, 1, 2, 0, 2, 0, 0, 2, 2, 2, 2, 2, 2, 2, 0, 0, 0, 0, 0, 2, 2, 2, 2, 1, 2, 0, 2, 1, 1, 1, 0, 2, 1, 2, 2, 1, 0, 1, 0, 2, 0, 0, 2, 0, 2, 2, 0, 1, 2, 1, 2, 2, 2, 0, 0, 0, 2, 1, 2, 0, 0, 2, 0, 2, 0, 0, 0, 2, 2, 2, 1, 0, 2, 2, 1, 1, 1, 0, 2, 2, 1, 2, 0, 2, 2, 2, 2, 2, 0, 1, 0, 2, 2, 1, 2, 0, 0, 2, 2, 0, 2, 1, 2, 2, 1, 2, 2, 1, 1, 2, 0, 2, 2, 1, 1, 2, 2, 2, 0, 2, 2, 2, 2, 0, 0, 1, 2, 0, 2, 0, 1, 2, 0, 2, 1, 0, 0, 2, 1, 2, 2, 0, 1, 0, 2, 1, 0, 0, 2, 2, 0, 2, 2, 2, 2, 2, 0, 0, 2, 0, 0, 2, 2, 2, 0, 2, 0, 2, 0, 0, 2, 2, 1, 2, 0, 2, 0, 1, 2, 2, 2, 2, 0, 0, 0, 0, 0, 0, 0, 1, 1, 0, 2, 2, 0, 2, 2, 2, 2, 0, 0, 2, 2, 0, 0, 0, 0, 1, 2, 0, 0, 1, 1, 0, 0, 2, 2, 2, 0, 0, 2, 2, 1, 0, 0, 0, 0, 0, 0, 0, 0, 0, 2, 2, 1, 2, 0, 1, 2, 2, 2, 2, 1, 2, 2, 2, 1, 2, 1, 2, 0, 2, 1, 0, 2, 0, 2, 1, 1, 1, 1, 0, 0, 2, 1, 0, 0, 1, 0, 0, 1, 0, 2, 0, 0, 1, 0, 0, 2, 2, 2, 0, 0, 0, 2, 2, 2, 0, 0, 0, 2, 2, 0, 2, 0, 2, 2, 0, 2, 2, 1, 0, 2, 2, 2, 2, 0, 2, 2, 2, 0, 0, 0, 0, 1, 0, 2, 0, 2, 0, 0, 2, 0, 2, 1, 0, 0, 2, 2, 2, 0, 2, 0, 2, 0, 0, 0, 2, 2, 2, 2, 1, 2, 0, 2, 0, 0, 2, 0, 2, 2, 0, 1, 1, 0, 2, 1, 2, 0, 1, 1, 2, 0, 1, 2, 2, 2, 0, 2, 2, 0, 2, 0, 2, 2, 1, 2, 0, 0, 1, 0, 2, 2, 1, 2, 0, 2, 0, 1, 0, 0, 2, 0, 2, 0, 1, 2, 2, 0, 1, 2, 0, 2, 0, 2, 2, 0, 1, 2, 0, 1, 2, 0, 2, 0, 2, 0, 2, 2, 2, 1, 2, 1, 0, 0, 2, 0, 0, 0, 2, 2, 2, 0, 0, 0, 0, 2, 1, 1, 2, 1, 0, 0, 2, 0, 2, 2, 0, 2, 1, 2, 2, 2, 0, 0, 2, 0, 0, 2, 0, 2, 0, 0, 0, 0, 2, 1, 1, 0, 0, 0, 0, 0, 1, 0, 1, 2, 2, 0, 0, 0, 2, 2, 0, 1, 2, 2, 1, 0, 1, 2, 0, 2, 2, 0, 2, 0, 1, 0, 2, 0, 0, 0, 2, 1, 2, 2, 2, 0, 0, 2, 2, 2, 1, 2, 1, 1, 0, 2, 1, 2, 1, 2, 2, 0, 2, 1, 2, 0, 2, 0, 1, 1, 2, 2, 0, 0, 0, 1, 2, 2, 0, 0, 2, 2, 2, 0, 0, 1, 1, 2, 0, 2, 2, 2, 1, 0, 0, 0, 0, 2, 2, 2, 2, 0, 2, 1, 2, 2, 0, 2, 2, 0, 0, 0, 2, 0, 1, 1, 2, 2, 2, 1, 2, 0, 2, 0, 0, 2, 0, 1, 0, 0, 0, 2, 1, 2, 0, 2, 0, 0, 2, 0, 0, 2, 0, 0, 2, 1, 1, 1, 0, 0, 2, 0, 2, 0, 1, 2, 0, 1, 2, 0, 2, 0, 0, 1, 2, 0, 2, 0, 2, 2, 1, 2, 2, 0, 2, 0, 0, 2, 0, 0, 2, 2, 2, 0, 0, 0, 0, 2, 0, 2, 2, 2, 0, 0, 1, 0, 2, 0, 2, 0, 0, 2, 0, 1, 2, 2, 1, 2, 2, 2, 2, 1, 1, 2, 0, 0, 2, 0, 2, 1, 2, 2, 0, 2, 1, 0, 2, 0, 2, 0, 1, 2, 0, 0, 0, 0, 1, 2, 0, 1, 1, 1, 2, 1, 1, 2, 2, 2, 2, 2, 2, 0, 2, 2, 0, 0, 2, 2, 2, 2, 2, 0, 1, 2, 2, 2, 2, 2, 0, 0, 0, 0, 0, 2, 0, 2, 0, 0, 1, 2, 0, 0, 2, 1, 0, 2, 2, 0, 2, 2, 0, 0, 2, 0, 0, 0, 0, 1, 1, 0, 2, 1, 0, 0, 2, 2, 2, 0, 0, 2, 2, 2, 2, 2, 1, 2, 2, 0, 2, 0, 2, 1, 0, 0, 1, 0, 0, 2, 0, 0, 1, 0, 2, 1, 2, 0, 1, 0, 2, 0, 2, 0, 0, 2, 0, 2, 2, 2, 0, 2, 2, 0, 0, 1, 0, 0, 0, 1, 2, 0, 1, 1, 0, 1, 2, 0, 0, 2, 2, 0, 2, 1, 2, 2, 0, 0, 2, 0, 0, 2, 2, 1, 2, 0, 0, 0, 1, 0, 1, 2, 1, 0, 0, 2, 2, 0, 1, 2, 0, 2, 2, 0, 0, 0, 2, 2, 2, 0, 0, 2, 0, 0, 1, 0, 2, 1, 2, 2, 2, 1, 0, 0, 2, 0, 2, 2, 1, 2, 0, 0, 2, 1, 0, 0, 2, 2, 0, 2, 2, 2, 0, 0, 1, 2, 2, 0, 2, 1, 2, 2, 0, 2, 0, 0, 2, 2, 1, 0, 2, 0, 2, 1, 0, 2, 1, 0, 0, 0, 0, 0, 2, 2, 0, 2, 2, 0, 2, 0, 1, 2, 1, 0, 2, 2, 0, 0, 1, 2, 2, 2, 0, 0, 2, 1, 0, 0, 0, 2, 2, 0, 2, 0, 1, 0, 2, 2, 2, 0, 0, 2, 2, 2, 0, 0, 2, 2, 1, 1, 1, 2, 0, 2, 2, 2, 0, 2, 1, 0, 0, 0, 1, 0, 1, 2, 2, 0, 2, 2, 0, 2, 2, 2, 0, 2, 2, 2, 2, 2, 2, 0, 1, 0, 2, 2, 1, 0, 1, 2, 2, 1, 0, 2, 2, 2, 0, 0, 0, 2, 2, 0, 2, 0, 2, 2, 0, 0, 1, 2, 2, 0, 0, 2, 2, 2, 2, 2, 0, 0, 2, 1, 2, 2, 0, 0, 2, 0, 0, 2, 1, 0, 0, 0, 1, 2, 2, 2, 2, 0, 0, 0, 0, 2, 2, 2, 0, 0, 1, 1, 0, 0, 2, 0, 0, 2, 0, 2, 2, 1, 0, 1, 2, 0, 2, 2, 1, 2, 2, 1, 0, 0, 2, 0, 1, 2, 0, 2, 1, 1, 2, 0, 2, 0, 2, 0, 0, 0, 0, 2, 0, 2, 1, 0, 2, 2, 2, 0, 2, 0, 2, 0, 1, 2, 1, 0, 0, 2, 0, 1, 0, 0, 1, 1, 0, 1, 2, 1, 0, 1, 0, 2, 2, 2, 2, 2, 0, 2, 2, 0, 2, 2, 1, 2, 1, 0, 0, 0, 2, 2, 2, 2, 0, 0, 1, 0, 2, 2, 1, 0, 1, 0, 1, 1, 0, 0, 2, 0, 2, 1, 0, 0, 0, 0, 2, 0, 1, 2, 0, 1, 1, 2, 0, 0, 1, 1, 1, 2, 2, 2, 2, 2, 0, 0, 0, 2, 0, 0, 2, 0, 1, 2, 2, 0, 0, 1, 0, 2, 0, 1, 2, 0, 2, 1, 0, 1, 1, 1, 2, 0, 2, 0, 1, 0, 2, 0, 0, 2, 2, 2, 2, 0, 2, 0, 1, 2, 1, 0, 2, 2, 2, 1, 0, 0, 2, 1, 0, 0, 2, 2, 2, 2, 2, 2, 0, 2, 2, 1, 0, 0, 2, 0, 1, 2, 2, 0, 2, 2, 1, 0, 2, 1, 0, 2, 1, 0, 2, 0, 2, 2, 1, 2, 2, 2, 0, 0, 2, 2, 0, 0, 1, 2, 0, 0, 0, 2, 0, 1, 0, 0, 2, 2, 2, 0, 0, 0, 2, 1, 0, 0, 2, 2, 0, 2, 0, 2, 0, 2, 0, 1, 1, 2, 1, 1, 0, 2, 2, 0, 2, 0, 2, 0, 0, 2, 2, 2, 0, 0, 0, 0, 2, 2, 0, 0, 2, 2, 2, 2, 2, 0, 1, 2, 2, 0, 1, 2, 2, 2, 0, 2, 2, 0, 2, 0, 0, 2, 2, 2, 0, 2, 2, 2, 1, 1, 0, 0, 2, 0, 0, 1, 2, 1, 1, 1, 2, 2, 2, 2, 2, 2, 1, 2, 2, 2, 0, 2, 2, 0, 0, 2, 0, 0, 0, 2, 0, 1, 2, 1, 2, 0, 1, 0, 0, 0, 2, 2, 0, 0, 0, 0, 0, 2, 2, 0, 2, 1, 1, 0, 0, 0, 0, 0, 2, 1, 1, 2, 2, 0, 2, 0, 0, 0, 2, 0, 1, 2, 0, 1, 0, 2, 0, 0, 0, 2, 2, 2, 2, 0, 2, 2, 0, 0, 0, 2, 1, 2, 2, 2, 0, 0, 1, 0, 2, 0, 1, 1, 2, 0, 1, 2, 0, 2, 0, 1, 2, 0, 0, 0, 0, 2, 2, 2, 2, 2, 2, 0, 0, 0, 0, 0, 1, 0, 2, 2, 2, 0, 0, 0, 0, 0, 0, 0, 1, 2, 1, 0, 2, 0, 2, 0, 0, 0, 0, 0, 1, 0, 2, 0, 2, 0, 0, 0, 2, 2, 0, 2, 2, 1, 2, 2, 1, 2, 0, 2, 1, 0, 2, 0, 0, 1, 1, 1, 1, 2, 2, 0, 0, 2, 0, 2, 2, 2, 2, 0, 0, 0, 0, 0, 2, 2, 2, 1, 2, 2, 2, 2, 2, 2, 2, 0, 1, 2, 0, 0, 1, 0, 0, 0, 2, 0, 0, 2, 0, 0, 1, 0, 2, 2, 2, 0, 2, 0, 0, 0, 2, 2, 2, 0, 0, 0, 2, 2, 2, 0, 0, 2, 1, 1, 2, 2, 0, 1, 0, 1, 0, 1, 2, 0, 0, 0, 0, 0, 1, 0, 2, 1, 2, 1, 2, 2, 0, 1, 2, 2, 0, 0, 0, 2, 2, 1, 1, 2, 2, 0, 2, 0, 1, 2, 1, 2, 1, 0, 2, 0, 2, 2, 0, 2, 0, 0, 2, 0, 2, 1, 1, 0, 0, 2, 0, 2, 2, 1, 0, 2, 2, 0, 0, 1, 1, 0, 0, 1, 0, 2, 2, 2, 1, 0, 2, 0, 2, 2, 0, 1, 2, 0, 0, 0, 0, 2, 2, 2, 1, 2, 2, 2, 0, 2, 2, 2, 1, 2, 2, 2, 0, 2, 0, 0, 2, 0, 1, 1, 0, 2, 0, 0, 2, 2, 2, 0, 2, 2, 0, 0, 2, 1, 0, 1, 2, 1, 2, 0, 0, 2, 2, 0, 2, 1, 1, 0, 2, 0, 2, 2, 0, 0, 2, 1, 2, 2, 0, 0, 2, 0, 2, 1, 0, 2, 0, 0, 0, 2, 0, 0, 0, 2, 2, 0, 0, 1, 1, 0, 2, 0, 2, 0, 0, 1, 0, 0, 0, 2, 1, 2, 2, 0, 1, 2, 0, 0, 2, 2, 0, 2, 2, 0, 0, 2, 2, 2, 2, 0, 0, 2, 0, 0, 2, 0, 2, 0, 0, 2, 0, 1, 2, 0, 1, 0, 0, 2, 0, 2, 2, 0, 0, 0, 2, 2, 2, 0, 2, 0, 1, 2, 2, 2, 0, 0, 0, 2, 2, 1, 1, 2, 2, 2, 2, 2, 2, 0, 1, 0, 0, 2, 0, 0, 0, 0, 2, 0, 2, 0, 2, 1, 0, 0, 2, 0, 2, 1, 1, 0, 0, 0, 2, 2, 0, 2, 2, 0, 2, 0, 1, 2, 2, 2, 1, 0, 1, 2, 1, 2, 0, 2, 2, 0, 2, 2, 2, 1, 2, 1, 0, 0, 2, 1, 2, 1, 2, 0, 0, 2, 2, 2, 2, 0, 0, 0, 2, 1, 0, 0, 0, 0, 2, 0, 2, 2, 2, 0, 0, 2, 0, 2, 1, 0, 0, 2, 0, 2, 2, 0, 2, 1, 1, 2, 2, 0, 2, 0, 0, 0, 2, 0, 0, 1, 1, 0, 2, 2, 2, 2, 2, 0, 0, 2, 2, 1, 2, 2, 0, 0, 2, 1, 2, 0, 2, 0, 2, 0, 0, 0, 0, 0, 0, 1, 0, 0, 2, 2, 2, 2, 0, 0, 0, 2, 0, 2, 2, 0, 1, 0, 2, 1, 0, 2, 1, 2, 1, 2, 2, 0, 2, 1, 0, 2, 2, 0, 2, 1, 1, 1, 2, 1, 1, 1, 2, 2, 0, 0, 1, 2, 0, 2, 1, 2, 2, 2, 0, 0, 1, 2, 0, 1, 0, 0, 0, 2, 0, 0, 1, 0, 2, 2, 1, 0, 2, 2, 0, 2, 2, 1, 1, 2, 1, 0, 1, 1, 1, 0, 0, 0, 1, 2, 2, 2, 0, 0, 2, 1, 0, 0, 2, 0, 2, 2, 2, 2, 0, 0, 2, 0, 0, 1, 0, 0, 2, 2, 2, 2, 0, 1, 2, 2, 1, 2, 2, 1, 0, 2, 1, 1, 1, 2, 1, 1, 2, 0, 0, 2, 1, 2, 1, 0, 0, 0, 2, 0, 0, 2, 2, 1, 0, 2, 2, 1, 1, 2, 0, 2, 2, 2, 2, 1, 2, 2, 0, 2, 2, 0, 0, 0, 2, 2, 0, 2, 0, 2, 2, 1, 1, 0, 2, 0, 1, 2, 0, 1, 2, 0, 2, 2, 2, 2, 2, 0, 2, 2, 2, 0, 2, 2, 2, 2, 2, 2, 0, 0, 0, 0, 2, 0, 1, 2, 2, 0, 2, 2, 2, 0, 0, 0, 2, 0, 1, 2, 0, 2, 1, 0, 0, 2, 0, 1, 0, 0, 0, 1, 2, 0, 2, 2, 0, 2, 2, 2, 1, 2, 1, 2, 2, 0, 2, 0, 0, 0, 2, 0, 0, 0, 0, 2, 2, 1, 2, 0, 2, 0, 1, 0, 2, 1, 2, 2, 1, 1, 2, 0, 0, 0, 2, 2, 0, 0, 1, 2, 2, 1, 2, 2, 0, 0, 2, 1, 0, 0, 2, 2, 2, 1, 0, 0, 2, 1, 2, 0, 2, 0, 2, 0, 0, 2, 0, 2, 0, 2, 0, 2, 0, 2, 0, 2, 2, 2, 0, 0, 0, 0, 1, 0, 1, 2, 1, 2, 2, 0, 0, 0, 2, 0, 0, 0, 0, 0, 2, 2, 0, 1, 2, 2, 2, 1, 2, 1, 2, 2, 2, 0, 0, 2, 0, 0, 2, 0, 2, 2, 0, 2, 2, 2, 2, 0, 2, 0, 2, 1, 2, 0, 2, 2, 2, 2, 1, 2, 2, 2, 0, 2, 2, 0, 2, 2, 1, 2, 1, 0, 0, 0, 0, 2, 0, 2, 1, 0, 0, 0, 1, 2, 2, 2, 2, 0, 1, 2, 0, 2, 2, 1, 0, 2, 2, 0, 0, 2, 2, 0, 2, 0, 1, 0, 2, 0, 2, 0, 2, 0, 0, 2, 2, 0, 0, 0, 2, 2, 1, 2, 1, 0, 0, 0, 2, 0, 0, 0, 2, 2, 2, 2, 0, 2, 2, 0, 0, 0, 0, 2, 2, 2, 1, 2, 2, 2, 2, 1, 0, 1, 0, 0, 0, 1, 2, 2, 2, 2, 1, 0, 0, 0, 0, 2, 0, 1, 2, 1, 1, 0, 2, 2, 0, 2, 1, 2, 2, 2, 2, 2, 2, 0, 2, 2, 0, 1, 0, 0, 1, 0, 0, 0, 0, 1, 2, 2, 2, 2, 0, 0, 2, 2, 2, 0, 0, 1, 2, 2, 0, 0, 1, 2, 2, 2, 2, 0, 1, 2, 0, 1, 2, 2, 0, 2, 1, 0, 2, 2, 2, 2, 1, 2, 2, 0, 1, 2, 1, 0, 0, 0, 1, 2, 2, 0, 1, 2, 0, 2, 2, 0, 2, 2, 0, 2, 0, 2, 1, 1, 2, 1, 2, 1, 1, 2, 0, 2, 2, 0, 2, 0, 0, 0, 0, 1, 0, 2, 0, 2, 1, 0, 1, 2, 0, 2, 0, 1, 2, 1, 1, 0, 2, 2, 0, 1, 0, 2, 0, 2, 1, 2, 0, 2, 2, 2, 1, 2, 2, 0, 0, 0, 0, 2, 0, 2, 1, 2, 2, 2, 2, 0, 2, 2, 1, 0, 0, 2, 2, 2, 2, 1, 0, 1, 1, 2, 2, 0, 1, 2, 2, 2, 1, 0, 2, 2, 1, 2, 0, 0, 2, 2, 2, 2, 0, 0, 0, 0, 2, 0, 0, 2, 0, 0, 0, 0, 0, 0, 2, 1, 1, 0, 1, 0, 0, 2, 2, 2, 0, 0, 0, 1, 0, 0, 1, 0, 0, 1, 2, 1, 1, 2, 2, 0, 2, 2, 0, 1, 1, 0, 1, 2, 0, 0, 0, 1, 0, 2, 2, 0, 2, 2, 0, 0, 0, 2, 2, 0, 2, 2, 0, 0, 2, 0, 0, 2, 2, 2, 0, 1, 2, 0, 2, 1, 2, 0, 0, 0, 1, 1, 0, 0, 0, 0, 0, 2, 0, 2, 0, 0, 2, 2, 0, 0, 2, 2, 1, 1, 0, 0, 2, 1, 2, 1, 2, 1, 0, 2, 1, 0, 1, 0, 1, 2, 2, 0, 0, 1, 0, 2, 0, 2, 0, 1, 0, 2, 2, 2, 2, 2, 1, 0, 0, 2, 1, 1, 0, 2, 1, 0, 2, 0, 1, 2, 2, 2, 0, 2, 0, 0, 2, 0, 1, 2, 0, 2, 2, 1, 1, 0, 2, 0, 0, 2, 0, 2, 0, 1, 1, 2, 0, 2, 0, 1, 0, 1, 2, 2, 2, 2, 0, 1, 2, 1, 0, 2, 0, 1, 2, 2, 2, 2, 0, 0, 1, 0, 1, 2, 2, 2, 1, 2, 0, 0, 1, 2, 2, 0, 1, 2, 0, 0, 2, 1, 0, 0, 2, 2, 2, 2, 2, 2, 2, 0, 0, 2, 1, 0, 2, 0, 2, 0, 2, 2, 1, 0, 0, 2, 2, 1, 0, 2, 2, 2, 0, 0, 2, 2, 2, 2, 1, 2, 2, 1, 0, 1, 1, 1, 2, 0, 0, 1, 2, 2, 0, 0, 0, 2, 0, 2, 2, 2, 2, 0, 0, 0, 2, 2, 0, 0, 1, 2, 2, 1, 0, 2, 0, 0, 0, 1, 0, 1, 1, 2, 0, 0, 2, 0, 1, 0, 0, 2, 0, 0, 0, 0, 2, 2, 2, 2, 0, 2, 0, 0, 0, 2, 2, 2, 2, 1, 0, 0, 0, 1, 0, 0, 2, 2, 0, 0, 0, 0, 2, 0, 2, 0, 0, 2, 2, 1, 2, 0, 0, 0, 2, 0, 0, 0, 0, 1, 0, 0, 2, 2, 1, 1, 1, 2, 2, 0, 0, 0, 1, 0, 0, 1, 0, 2, 2, 0, 0, 2, 0, 0, 2, 0, 2, 2, 1, 0, 0, 0, 2, 2, 0, 0, 2, 2, 1, 1, 2, 1, 0, 2, 0, 1, 2, 0, 2, 0, 0, 0, 2, 0, 0, 0, 1, 0, 2, 1, 0, 0, 2, 2, 0, 1, 2, 0, 0, 0, 0, 0, 0, 2, 0, 2, 1, 2, 2, 2, 0, 0, 0, 2, 0, 0, 2, 0, 2, 2, 2, 0, 2, 0, 2, 2, 2, 2, 2, 0, 1, 0, 0, 2, 2, 1, 0, 0, 2, 2, 1, 1, 0, 2, 2, 0, 1, 0, 0, 1, 0, 0, 1, 2, 2, 0, 2, 2, 2, 1, 0, 2, 2, 0, 2, 2, 0, 2, 2, 2, 2, 1, 1, 2, 0, 2, 2, 0, 0, 0, 0, 0, 0, 0, 2, 2, 2, 0, 2, 2, 2, 2, 2, 2, 1, 2, 2, 0, 2, 0, 1, 0, 2, 2, 2, 2, 2, 0, 1, 2, 2, 1, 0, 0, 2, 2, 0, 0, 1, 2, 0, 2, 0, 2, 2, 0, 2, 2, 0, 2, 1, 2, 2, 0, 0, 0, 2, 2, 0, 2, 2, 2, 0, 1, 0, 0, 2, 0, 0, 0, 0, 2, 0, 2, 2, 1, 1, 2, 2, 0, 2, 1, 1, 0, 0, 0, 1, 2, 1, 2, 2, 2, 0, 0, 2, 0, 1, 2, 1, 0, 2, 2, 1, 2, 2, 2, 2, 0, 1, 1, 2, 0, 2, 0, 2, 2, 1, 0, 1, 0, 0, 0, 1, 0, 1, 0, 2, 2, 0, 2, 0, 1, 0, 2, 0, 0, 0, 2, 2, 1, 2, 2, 0, 2, 0, 2, 0, 2, 0, 0, 0, 2, 1, 0, 1, 0, 0, 1, 2, 2, 2, 2, 0, 2, 1, 2, 2, 0, 1, 0, 2, 0, 0, 2, 2, 0, 1, 1, 1, 0, 2, 0, 1, 2, 2, 0, 0, 2, 0, 2, 1, 0, 2, 0, 0, 1, 0, 0, 2, 0, 2, 2, 0, 0, 2, 0, 2, 0, 1, 2, 2, 0, 2, 0, 2, 1, 1, 0, 1, 2, 2, 2, 2, 0, 2, 2, 0, 2, 2, 2, 0, 1, 2, 2, 2, 2, 0, 0, 2, 2, 2, 1, 0, 2, 0, 2, 2, 0, 2, 0, 2, 2, 0, 2, 0, 2, 2, 1, 0, 1, 2, 0, 1, 2, 0, 2, 2, 2, 2, 2, 0, 2, 2, 0, 0, 0, 0, 0, 2, 0, 0, 1, 1, 1, 0, 0, 0, 0, 2, 0, 1, 0, 2, 0, 0, 2, 2, 1, 0, 1, 0, 0, 1, 0, 0, 0, 0, 1, 2, 0, 2, 2, 2, 0, 2, 0, 2, 0, 0, 0, 2, 0, 0, 2, 2, 2, 0, 2, 2, 0, 2, 2, 2, 2, 2, 2, 1, 0, 0, 2, 0, 2, 1, 0, 2, 2, 0, 0, 2, 2, 2, 2, 0, 0, 2, 0, 0, 0, 2, 2, 0, 0, 0, 0, 0, 2, 0, 0, 0, 2, 0, 1, 0, 2, 2, 1, 1, 0, 0, 1, 2, 2, 2, 0, 0, 2, 1, 2, 2, 0, 0, 0, 2, 2, 2, 2, 2, 0, 0, 2, 1, 2, 0, 2, 2, 2, 2, 1, 0, 0, 2, 2, 2, 0, 0, 2, 0, 2, 0, 0, 2, 0, 1, 0, 0, 2, 0, 0, 0, 0, 2, 0, 0, 2, 2, 0, 2, 2, 0, 1, 2, 2, 0, 0, 0, 2, 0, 0, 2, 2, 2, 1, 0, 2, 2, 2, 0, 0, 2, 1, 2, 2, 2, 2, 2, 2, 2, 0, 1, 0, 0, 0, 0, 1, 2, 0, 0, 2, 2, 0, 2, 2, 2, 2, 0, 2, 1, 0, 0, 2, 2, 0, 2, 2, 0, 2, 0, 2, 0, 2, 2, 0, 1, 2, 0, 1, 0, 0, 1, 2, 0, 2, 2, 1, 2, 0, 0, 2, 0, 0, 0, 2, 2, 2, 1, 1, 2, 2, 2, 0, 2, 1, 0, 1, 0, 2, 0, 2, 0, 0, 0, 0, 1, 1, 2, 0, 2, 2, 2, 1, 0, 1, 2, 2, 1, 2, 0, 2, 2, 0, 1, 1, 0, 0, 0, 2, 1, 0, 0, 2, 2, 2, 0, 0, 2, 1, 0, 1, 2, 2, 0, 0, 0, 2, 2, 0, 2, 2, 2, 0, 1, 0, 2, 2, 2, 0, 0, 2, 2, 2, 1, 2, 0, 0, 2, 0, 1, 2, 1, 0, 1, 0, 0, 2, 0, 2, 2, 0, 1, 0, 1, 2, 2, 1, 0, 2, 1, 0, 2, 2, 1, 0, 2, 0, 2, 1, 2, 0, 2, 0, 2, 2, 0, 2, 2, 2, 0, 2, 0, 2, 2, 0, 0, 2, 0, 0, 0, 0, 2, 2, 2, 1, 0, 0, 0, 2, 2, 2, 2, 2, 2, 2, 2, 0, 1, 2, 2, 1, 0, 0, 2, 2, 2, 0, 2, 0, 2, 2, 0, 0, 0, 2, 2, 2, 0, 2, 2, 0, 2, 2, 2, 0, 0, 2, 0, 0, 0, 0, 2, 2, 2, 2, 2, 1, 2, 0, 0, 2, 2, 0, 2, 0, 1, 0, 0, 2, 1, 2, 0, 2, 0, 2, 1, 2, 2, 0, 0, 2, 2, 0, 0, 0, 2, 0, 2, 1, 0, 2, 0, 0, 0, 1, 2, 2, 2, 0, 2, 2, 2, 2, 1, 2, 2, 2, 2, 0, 0, 2, 2, 1, 0, 2, 0, 2, 0, 2, 2, 2, 0, 1, 0, 0, 0, 0, 0, 0, 0, 2, 2, 2, 2, 0, 2, 0, 0, 1, 1, 2, 1, 1, 0, 2, 1, 2, 2, 0, 0, 0, 0, 1, 0, 2, 0, 2, 2, 1, 2, 0, 0, 2, 0, 1, 0, 2, 2, 1, 0, 2, 0, 2, 2, 0, 0, 2, 1, 2, 0, 1, 0, 1, 2, 2, 2, 1, 2, 1, 0, 2, 0, 2, 2, 0, 2, 1, 0, 2, 0, 2, 2, 0, 0, 2, 2, 0, 0, 1, 2, 2, 0, 0, 2, 0, 2, 2, 0, 2, 2, 1, 1, 0, 1, 2, 0, 0, 1, 2, 2, 2, 0, 0, 1, 2, 0, 2, 0, 1, 1, 0, 0, 1, 0, 0, 2, 1, 1, 2, 0, 2, 0, 2, 2, 0, 1, 1, 0, 0, 0, 2, 2, 2, 0, 2, 0, 0, 1, 0, 1, 0, 1, 0, 2, 0, 2, 2, 0, 1, 2, 0, 0, 1, 0, 2, 0, 2, 2, 2, 0, 0, 2, 2, 0, 2, 2, 2, 0, 0, 0, 2, 1, 2, 2, 1, 0, 0, 0, 0, 2, 0, 0, 2, 2, 0, 1, 0, 2, 0, 2, 2, 2, 2, 2, 2, 1, 0, 2, 1, 1, 0, 2, 0, 0, 0, 2, 1, 0, 0, 2, 0, 0, 2, 2, 0, 0, 2, 1, 1, 0, 0, 0, 0, 0, 2, 2, 2, 2, 2, 0, 2, 2, 2, 2, 2, 0, 2, 2, 0, 1, 2, 1, 2, 2, 2, 0, 2, 2, 0, 2, 2, 0, 0, 2, 2, 2, 2, 0, 0, 0, 0, 0, 2, 2, 2, 1, 2, 2, 1, 2, 1, 0, 1, 1, 1, 2, 2, 0, 1, 2, 2, 2, 0, 1, 0, 1, 2, 0, 2, 2, 2, 1, 0, 2, 0, 0, 0, 2, 0, 0, 1, 2, 1, 0, 0, 1, 1, 2, 2, 1, 0, 2, 0, 0, 2, 0, 0, 1, 0, 2, 1, 0, 2, 1, 2, 0, 0, 0, 0, 0, 2, 2, 1, 2, 2, 0, 0, 1, 2, 0, 2, 0, 0, 0, 2, 1, 0, 2, 2, 2, 0, 1, 2, 2, 2, 2, 1, 1, 2, 0, 2, 0, 2, 0, 0, 1, 0, 2, 0, 1, 2, 0, 1, 2, 1, 2, 2, 2, 2, 2, 2, 0, 0, 0, 2, 0, 1, 2, 0, 2, 0, 2, 1, 0, 2, 0, 1, 0, 0, 0, 1, 1, 0, 0, 1, 0, 2, 1, 0, 2, 1, 0, 2, 2, 0, 0, 1, 2, 2, 2, 1, 2, 0, 0, 2, 2, 2, 2, 0, 2, 0, 2, 0, 2, 0, 0, 0, 2, 2, 0, 2, 2, 1, 2, 2, 0, 0, 2, 0, 0, 1, 2, 0, 0, 0, 0, 0, 0, 0, 2, 2, 2, 1, 1, 0, 1, 1, 0, 2, 1, 0, 1, 0, 1, 2, 1, 2, 0, 2, 0, 1, 0, 0, 2, 1, 1, 2, 2, 2, 0, 0, 0, 2, 0, 2, 1, 2, 2, 2, 0, 2, 0, 0, 2, 0, 2, 1, 2, 2, 2, 0, 0, 2, 0, 2, 0, 2, 2, 0, 2, 0, 0, 2, 2, 0, 2, 0, 0, 0, 2, 2, 2, 0, 2, 0, 2, 2, 2, 0, 0, 2, 0, 2, 2, 0, 1, 2, 1, 0, 2, 0, 2, 2, 0, 2, 0, 0, 0, 0, 1, 2, 0, 2, 1, 2, 2, 0, 0, 0, 0, 2, 0, 2, 1, 2, 1, 0, 1, 0, 0, 2, 2, 2, 2, 0, 2, 0, 0, 2, 0, 2, 2, 2, 2, 0, 2, 0, 2, 0, 1, 1, 2, 2, 2, 0, 0, 2, 2, 0, 1, 2, 2, 1, 2, 2, 2, 2, 0, 2, 1, 1, 1, 0, 1, 0, 2, 1, 2, 2, 1, 1, 2, 0, 2, 2, 0, 2, 0, 2, 0, 0, 0, 1, 0, 1, 1, 1, 0, 1, 0, 1, 0, 0, 0, 0, 2, 2, 2, 2, 0, 2, 2, 2, 2, 0, 2, 2, 0, 2, 0, 1, 1, 1, 2, 0, 0, 0, 1, 2, 0, 0, 0, 2, 2, 2, 1, 1, 0, 2, 0, 0, 0, 1, 0, 0, 2, 0, 2, 2, 2, 0, 2, 2, 2, 0, 0, 0, 2, 2, 2, 0, 2, 2, 0, 0, 2, 0, 0, 0, 2, 1, 0, 2, 2, 0, 2, 1, 0, 0, 0, 1, 2, 1, 1, 0, 0, 0, 0, 2, 2, 0, 0, 2, 2, 1, 2, 0, 2, 1, 2, 0, 0, 0, 0, 2, 1, 0, 2, 0, 0, 2, 0, 0, 2, 1, 0, 1, 2, 0, 0, 0, 2, 0, 1, 1, 2, 0, 1, 2, 2, 0, 1, 0, 2, 1, 0, 0, 2, 0, 2, 0, 2, 0, 1, 2, 0, 2, 1, 0, 0, 0, 0, 0, 2, 0, 0, 0, 0, 0, 0, 2, 0, 2, 0, 0, 0, 1, 2, 1, 2, 2, 2, 1, 0, 1, 0, 2, 2, 1, 1, 2, 0, 0, 1, 0, 0, 0, 0, 0, 0, 0, 2, 0, 2, 0, 1, 2, 2, 0, 1, 2, 2, 0, 2, 2, 0, 0, 0, 0, 0, 0, 1, 0, 1, 0, 2, 0, 0, 2, 2, 0, 2, 0, 2, 2, 0, 0, 0, 2, 2, 0, 2, 0, 0, 2, 2, 0, 2, 0, 1, 1, 1, 0, 2, 0, 1, 0, 1, 1, 2, 1, 0, 0, 2, 1, 0, 1, 1, 2, 2, 2, 0, 1, 0, 2, 1, 0, 2, 2, 2, 1, 0, 2, 2, 1, 2, 2, 2, 0, 1, 2, 1, 2, 2, 2, 0, 2, 0, 2, 2, 2, 2, 0, 2, 2, 0, 2, 1, 2, 0, 0, 0, 1, 2, 1, 2, 2, 0, 0, 2, 2, 2, 0, 2, 0, 2, 2, 2, 2, 2, 2, 2, 2, 2, 2, 0, 0, 0, 2, 0, 0, 2, 1, 0, 0, 1, 2, 2, 2, 2, 2, 0, 2, 2, 2, 1, 1, 2, 0, 2, 0, 0, 2, 2, 0, 0, 0, 0, 2, 2, 2, 2, 0, 1, 2, 0, 1, 2, 0, 1, 0, 1, 1, 2, 2, 0, 0, 2, 2, 0, 0, 1, 2, 0, 2, 2, 2, 1, 2, 0, 1, 2, 1, 1, 0, 0, 2, 1, 0, 0, 0, 2, 2, 2, 0, 2, 2, 2, 2, 0, 2, 1, 1, 0, 2, 1, 2, 1, 2, 2, 2, 2, 0, 2, 2, 0, 2, 2, 0, 2, 2, 0, 0, 2, 2, 1, 0, 2, 0, 0, 2, 2, 0, 0, 0, 2, 2, 0, 1, 0, 0, 0, 0, 0, 0, 2, 0, 2, 2, 2, 0, 0, 2, 1, 2, 2, 0, 1, 2, 0, 0, 0, 2, 1, 1, 1, 2, 2, 0, 2, 1, 0, 2, 0, 2, 2, 0, 2, 2, 0, 2, 1, 1, 0, 0, 0, 1, 0, 2, 0, 2, 0, 0, 1, 1, 2, 0, 1, 0, 0, 2, 2, 1, 1, 2, 0, 0, 2, 2, 0, 2, 0, 0, 2, 2, 0, 0, 2, 1, 1, 0, 2, 1, 2, 0, 0, 2, 1, 2, 0, 1, 2, 1, 2, 0, 0, 2, 0, 0, 2, 2, 0, 2, 2, 0, 2, 2, 2, 0, 1, 2, 2, 0, 0, 0, 0, 2, 1, 0, 2, 1, 0, 1, 0, 0, 1, 2, 0, 0, 0, 0, 2, 1, 1, 0, 1, 0, 0, 2, 2, 0, 0, 0, 2, 1, 2, 2, 2, 2, 2, 2, 2, 0, 2, 2, 0, 1, 0, 0, 1, 2, 2, 2, 1, 0, 2, 0, 2, 2, 0, 2, 2, 1, 2, 0, 1, 2, 0, 0, 0, 1, 2, 1, 2, 0, 2, 1, 0, 0, 0, 2, 2, 2, 1, 2, 0, 2, 0, 2, 2, 2, 0, 0, 0, 0, 2, 0, 1, 1, 0, 0, 2, 0, 2, 0, 2, 2, 0, 0, 2, 2, 2, 0, 0, 0, 2, 2, 2, 2, 2, 0, 0, 1, 0, 2, 2, 0, 0, 0, 0, 0, 2, 2, 2, 0, 0, 0, 1, 2, 2, 2, 2, 1, 2, 0, 0, 0, 0, 0, 2, 2, 2, 0, 2, 2, 0, 1, 2, 2, 2, 0, 2, 0, 0, 1, 2, 1, 1, 0, 2, 0, 0, 2, 2, 2, 0, 2, 0, 1, 2, 0, 0, 0, 0, 2, 2, 2, 0, 2, 2, 2, 1, 2, 1, 0, 2, 2, 0, 2, 1, 0, 2, 2, 2, 0, 1, 1, 2, 2, 0, 1, 0, 2, 2, 0, 2, 2, 2, 2, 2, 2, 0, 1, 0, 0, 2, 0, 2, 2, 2, 2, 0, 0, 0, 1, 0, 2, 0, 0, 0, 2, 2, 0, 1, 0, 0, 0, 0, 2, 2, 0, 2, 0, 2, 1, 1, 0, 0, 2, 2, 2, 0, 2, 1, 2, 0, 2, 2, 1, 0, 0, 0, 2, 1, 1, 2, 1, 2, 2, 2, 1, 0, 2, 0, 0, 1, 0, 2, 2, 0, 0, 2, 0, 1, 2, 2, 2, 2, 2, 0, 2, 2, 2, 0, 1, 2, 2, 2, 2, 1, 2, 0, 1, 0, 2, 0, 0, 2, 2, 0, 0, 0, 1, 2, 1, 0, 2, 0, 0, 0, 1, 0, 2, 0, 2, 1, 2, 0, 0, 2, 2, 0, 1, 2, 0, 0, 2, 1, 2, 2, 1, 0, 2, 0, 2, 0, 2, 2, 1, 2, 2, 2, 1, 2, 2, 1, 2, 0, 2, 2, 2, 2, 2, 2, 2, 2, 2, 0, 1, 0, 2, 0, 0, 2, 2, 0, 1, 0, 2, 1, 2, 2, 0, 0, 0, 2, 2, 0, 2, 2, 2, 2, 1, 2, 1, 2, 2, 0, 1, 0, 2, 0, 2, 2, 0, 0, 2, 0, 0, 1, 0, 0, 1, 0, 0, 0, 0, 0, 2, 1, 2, 1, 2, 0, 2, 2, 2, 0, 2, 2, 0, 0, 1, 2, 0, 1, 0, 1, 0, 0, 2, 0, 0, 0, 2, 0, 2, 2, 1, 0, 2, 2, 1, 0, 1, 0, 1, 0, 0, 2, 0, 2, 2, 2, 2, 2, 2, 2, 2, 2, 2, 0, 0, 2, 0, 1, 2, 0, 1, 0, 2, 0, 0, 2, 1, 0, 1, 0, 2, 2, 1, 0, 0, 0, 2, 1, 0, 2, 0, 1, 2, 0, 2, 2, 1, 0, 1, 0, 1, 1, 2, 1, 0, 2, 0, 1, 1, 2, 0, 2, 2, 0, 0, 1, 2, 2, 0, 2, 0, 0, 0, 0, 2, 1, 2, 0, 2, 2, 2, 2, 0, 2, 1, 2, 0, 1, 0, 0, 1, 1, 0, 0, 1, 2, 0, 2, 2, 2, 2, 1, 2, 1, 0, 1, 2, 1, 0, 0, 2, 0, 0, 2, 2, 0, 0, 2, 2, 2, 0, 2, 2, 0, 0, 0, 2, 2, 2, 2, 2, 2, 2, 0, 0, 2, 1, 2, 2, 0, 2, 2, 0, 2, 0, 2, 1, 2, 0, 1, 2, 1, 2, 2, 0, 2, 0, 2, 1, 2, 0, 0, 0, 1, 0, 1, 2, 2, 2, 1, 0, 1, 0, 1, 2, 0, 0, 2, 2, 0, 1, 0, 1, 2, 0, 2, 0, 2, 2, 1, 2, 2, 1, 2, 2, 0, 1, 0, 0, 1, 1, 0, 0, 2, 2, 0, 0, 1, 2, 2, 2, 2, 2, 0, 0, 1, 0, 1, 2, 0, 0, 2, 2, 0, 2, 2, 2, 0, 2, 2, 2, 2, 0, 0, 2, 0, 0, 0, 0, 0, 2, 2, 0, 2, 0, 2, 0, 0, 0, 1, 0, 1, 2, 2, 0, 2, 2, 0, 0, 0, 2, 1, 0, 2, 2, 0, 2, 2, 0, 0, 2, 1, 2, 1, 0, 1, 2, 2, 2, 2, 1, 2, 2, 1, 2, 0, 2, 1, 2, 2, 2, 0, 2, 1, 2, 2, 2, 2, 2, 0, 1, 2, 1, 0, 0, 2, 2, 0, 2, 1, 2, 2, 2, 0, 0, 0, 1, 0, 2, 0, 0, 0, 1, 2, 0, 2, 1, 2, 0, 2, 1, 0, 2, 2, 0, 0, 0, 2, 1, 2, 1, 2, 2, 0, 2, 2, 0, 0, 2, 0, 2, 1, 0, 1, 2, 2, 2, 2, 0, 2, 1, 0, 2, 0, 0, 2, 1, 0, 2, 2, 0, 2, 2, 0, 1, 2, 2, 0, 2, 2, 0, 0, 2, 2, 2, 2, 2, 2, 0, 2, 2, 2, 2, 0, 2, 2, 1, 2, 2, 2, 0, 2, 0, 0, 1, 0, 2, 2, 0, 0, 0, 2, 2, 0, 1, 2, 2, 2, 2, 0, 0, 1, 0, 0, 0, 0, 2, 2, 2, 1, 0, 2, 0, 2, 2, 2, 2, 0, 2, 2, 0, 1, 0, 0, 0, 0, 2, 1, 2, 2, 0, 1, 0, 1, 2, 0, 2, 0, 2, 2, 0, 2, 0, 0, 2, 2, 0, 0, 0, 2, 1, 2, 2, 2, 1, 1, 2, 0, 2, 2, 2, 0, 0, 2, 0, 1, 0, 2, 0, 1, 2, 2, 2, 2, 2, 2, 1, 1, 2, 2, 0, 0, 2, 1, 2, 2, 0, 0, 0, 0, 2, 1, 2, 1, 0, 0, 2, 0, 2, 2, 2, 1, 1, 2, 0, 2, 2, 2, 2, 0, 0, 2, 0, 2, 0, 0, 2, 0, 1, 0, 2, 2, 2, 2, 0, 0, 1, 0, 2, 2, 1, 0, 0, 2, 0, 0, 2, 2, 1, 2, 0, 2, 2, 0, 0, 1, 2, 0, 2, 2, 0, 0, 0, 0, 2, 0, 2, 2, 2, 0, 0, 2, 0, 0, 2, 1, 1, 0, 0, 0, 0, 2, 1, 1, 2, 0, 0, 2, 2, 2, 2, 0, 1, 0, 0, 1, 0, 0, 2, 2, 0, 2, 1, 1, 0, 0, 2, 1, 2, 0, 0, 2, 2, 2, 2, 2, 0, 2, 2, 2, 2, 0, 2, 0, 2, 0, 1, 2, 2, 1, 2, 0, 0, 2, 0, 2, 1, 0, 2, 2, 1, 0, 0, 0, 2, 0, 0, 1, 0, 1, 0, 2, 2, 0, 2, 2, 0, 1, 0, 0, 0, 0, 0, 1, 1, 2, 0, 0, 0, 2, 1, 2, 0, 0, 2, 0, 1, 1, 2, 0, 0, 0, 0, 2, 2, 0, 0, 0, 0, 1, 1, 2, 0, 0, 2, 0, 1, 0, 2, 2, 2, 2, 2, 1, 2, 2, 2, 1, 2, 0, 0, 2, 2, 2, 2, 1, 1, 2, 2, 2, 0, 0, 2, 0, 1, 0, 2, 2, 2, 0, 1, 2, 1, 2, 2, 2, 0, 0, 2, 2, 2, 0, 0, 0, 2, 2, 2, 2, 0, 2, 0, 0, 0, 0, 1, 0, 0, 2, 0, 2, 2, 2, 2, 1, 0, 0, 0, 2, 2, 1, 0, 1, 0, 0, 1, 0, 0, 0, 2, 2, 0, 2, 2, 1, 2, 1, 2, 1, 2, 0, 1, 2, 0, 2, 1, 2, 0, 2, 2, 2, 2, 2, 0, 2, 2, 2, 1, 2, 0, 0, 2, 0, 2, 0, 0, 2, 2, 2, 2, 2, 0, 2, 2, 2, 0, 2, 0, 0, 2, 2, 0, 1, 0, 1, 2, 2, 0, 2, 0, 2, 2, 2, 2, 2, 0, 2, 0, 2, 1, 2, 2, 0, 0, 2, 2, 1, 2, 1, 2, 2, 1, 0, 2, 0, 0, 2, 0, 2, 0, 2, 2, 1, 2, 2, 2, 2, 1, 2, 0, 2, 2, 0, 2, 0, 2, 2, 2, 0, 2, 2, 0, 2, 0, 0, 0, 0, 0, 2, 0, 2, 2, 0, 0, 2, 2, 1, 0, 2, 2, 2, 2, 0, 0, 0, 1, 2, 0, 0, 1, 0, 2, 2, 1, 2, 2, 2, 0, 1, 0, 0, 2, 0, 2, 2, 2, 0, 1, 1, 2, 2, 2, 0, 0, 0, 0, 2, 0, 0, 2, 0, 0, 2, 0, 2, 0, 0, 2, 2, 0, 2, 2, 2, 0, 0, 0, 2, 2, 2, 0, 0, 0, 2, 2, 2, 0, 1, 2, 2, 0, 2, 2, 2, 2, 2, 1, 0, 2, 2, 2, 0, 0, 2, 0, 2, 1, 1, 1, 0, 0, 2, 2, 1, 2, 1, 0, 1, 1, 2, 2, 0, 0, 2, 0, 0, 0, 1, 0, 0, 2, 0, 0, 2, 0, 0, 0, 0, 2, 0, 0, 0, 0, 2, 1, 0, 0, 2, 2, 2, 2, 1, 2, 2, 2, 1, 0, 1, 2, 2, 0, 2, 2, 2, 2, 2, 1, 2, 2, 1, 0, 1, 2, 2, 1, 0, 2, 2, 2, 2, 1, 2, 0, 0, 1, 0, 0, 2, 2, 2, 1, 0, 2, 0, 2, 0, 0, 0, 0, 2, 0, 1, 2, 2, 2, 0, 2, 2, 2, 1, 2, 1, 1, 2, 2, 0, 2, 0, 2, 2, 1, 2, 2, 2, 0, 0, 2, 0, 0, 2, 2, 1, 0, 2, 0, 1, 1, 0, 0, 0, 2, 2, 2, 0, 2, 0, 1, 1, 2, 2, 1, 0, 2, 1, 2, 0, 2, 1, 1, 1, 2, 0, 1, 2, 1, 0, 2, 2, 2, 2, 2, 1, 0, 2, 2, 0, 0, 2, 1, 2, 1, 2, 1, 0, 0, 1, 0, 2, 0, 0, 0, 2, 2, 2, 2, 2, 2, 1, 0, 1, 0, 2, 2, 2, 2, 2, 0, 2, 2, 0, 0, 1, 1, 0, 2, 0, 2, 0, 2, 0, 0, 0, 0, 2, 2, 2, 2, 2, 0, 0, 2, 0, 0, 2, 2, 0, 2, 2, 0, 0, 2, 2, 2, 0, 1, 2, 1, 1, 1, 2, 2, 2, 2, 2, 0, 0, 2, 0, 2, 2, 2, 0, 1, 2, 2, 0, 2, 2, 0, 2, 0, 2, 2, 0, 1, 2, 1, 0, 2, 1, 1, 2, 1, 0, 2, 2, 0, 2, 0, 1, 0, 0, 0, 0, 2, 0, 2, 2, 0, 2, 0, 2, 1, 0, 0, 2, 2, 1, 0, 0, 2, 0, 1, 0, 1, 2, 2, 2, 2, 0, 0, 0, 2, 2, 0, 0, 0, 2, 0, 2, 2, 0, 1, 2, 2, 0, 0, 2, 1, 2, 0, 2, 2, 0, 2, 1, 0, 0, 1, 1, 0, 2, 0, 0, 0, 2, 2, 0, 0, 0, 2, 1, 0, 0, 0, 0, 2, 2, 2, 0, 2, 2, 1, 1, 0, 2, 0, 0, 0, 0, 2, 2, 0, 0, 1, 0, 0, 0, 0, 2, 0, 2, 0, 2, 2, 1, 0, 2, 2, 0, 2, 2, 1, 1, 2, 2, 1, 2, 0, 0, 0, 1, 0, 0, 0, 0, 2, 0, 2, 2, 2, 0, 0, 2, 0, 2, 0, 1, 0, 2, 0, 2, 0, 0, 0, 2, 1, 1, 0, 2, 0, 0, 0, 0, 0, 2, 1, 2, 2, 0, 0, 0, 0, 0, 2, 0, 2, 2, 1, 2, 1, 2, 0, 1, 2, 0, 1, 0, 0, 2, 1, 2, 0, 2, 0, 2, 0, 2, 2, 0, 0, 2, 0, 1, 1, 2, 2, 0, 2, 2, 0, 1, 1, 0, 0, 2, 2, 0, 0, 2, 2, 2, 1, 1, 2, 1, 2, 0, 1, 2, 2, 0, 2, 0, 0, 0, 0, 2, 0, 1, 0, 2, 2, 0, 0, 0, 1, 0, 2, 0, 1, 2, 1, 0, 1, 0, 1, 0, 2, 0, 0, 0, 0, 0, 0, 2, 1, 2, 0, 2, 0, 0, 2, 2, 1, 0, 2, 2, 0, 0, 2, 2, 1, 1, 2, 0, 0, 0, 2, 1, 2, 0, 2, 2, 2, 0, 0, 0, 2, 1, 0, 2, 2, 0, 2, 0, 2, 2, 2, 2, 0, 1, 0, 2, 2, 2, 0, 2, 1, 2, 0, 2, 2, 0, 1, 2, 0, 0, 0, 1, 0, 0, 0, 1, 1, 2, 2, 2, 0, 0, 1, 0, 2, 1, 1, 0, 1, 0, 0, 2, 1, 0, 2, 2, 0, 1, 1, 1, 2, 1, 2, 1, 2, 2, 2, 0, 2, 0, 1, 2, 0, 0, 2, 0, 1, 2, 0, 2, 2, 1, 2, 2, 1, 0, 2, 0, 2, 2, 2, 0, 2, 2, 2, 0, 0, 0, 2, 2, 1, 0, 2, 0, 0, 0, 0, 0, 2, 0, 0, 0, 0, 1, 2, 1, 1, 2, 0, 0, 1, 2, 1, 2, 2, 0, 0, 1, 2, 0, 1, 2, 2, 0, 2, 1, 2, 0, 0, 0, 0, 2, 2, 2, 2, 2, 0, 0, 0, 0, 2, 0, 0, 0, 0, 1, 0, 2, 2, 0, 0, 0, 2, 2, 2, 0, 0, 0, 2, 0, 2, 0, 1, 2, 2, 2, 0, 1, 2, 0, 0, 2, 0, 1, 0, 0, 0, 2, 0, 0, 0, 0, 1, 0, 2, 2, 0, 2, 0, 2, 2, 0, 2, 2, 2, 2, 0, 0, 0, 0, 0, 2, 0, 2, 0, 0, 2, 2, 1, 0, 2, 0, 2, 0, 0, 2, 2, 0, 0, 0, 0, 0, 0, 1, 0, 0, 0, 0, 1, 2, 0, 1, 0, 0, 0, 0, 2, 1, 2, 2, 2, 0, 2, 0, 2, 1, 2, 0, 2, 0, 1, 1, 1, 2, 0, 0, 1, 2, 0, 0, 0, 2, 2, 0, 2, 0, 2, 0, 1, 0, 0, 0, 1, 0, 1, 0, 0, 2, 1, 2, 2, 0, 0, 2, 0, 0, 2, 2, 2, 0, 2, 2, 2, 1, 1, 2, 0, 2, 0, 0, 0, 0, 0, 2, 0, 2, 1, 1, 0, 2, 0, 2, 0, 2, 0, 1, 1, 0, 2, 0, 2, 2, 0, 1, 1, 2, 0, 0, 2, 1, 2, 0, 0, 0, 2, 0, 1, 2, 2, 0, 0, 2, 2, 0, 0, 0, 0, 0, 2, 2, 2, 0, 1, 2, 2, 0, 2, 0, 2, 2, 0, 2, 0, 2, 2, 0, 2, 1, 0, 2, 0, 0, 2, 1, 0, 2, 2, 0, 2, 0, 2, 2, 0, 1, 0, 0, 1, 1, 0, 0, 2, 2, 2, 2, 1, 0, 2, 0, 0, 1, 2, 1, 1, 0, 2, 2, 0, 2, 0, 1, 2, 2, 0, 2, 2, 0, 0, 0, 2, 0, 2, 2, 1, 1, 2, 2, 2, 0, 0, 1, 1, 0, 2, 2, 1, 0, 0, 2, 0, 2, 0, 0, 0, 2, 2, 2, 1, 0, 2, 1, 0, 2, 0, 2, 2, 2, 1, 0, 0, 1, 0, 2, 2, 0, 2, 1, 0, 0, 1, 0, 0, 2, 0, 0, 0, 0, 0, 0, 0, 2, 1, 0, 0, 2, 0, 0, 1, 2, 2, 0, 2, 2, 0, 2, 2, 2, 1, 2, 1, 2, 0, 2, 2, 1, 1, 2, 0, 2, 0, 0, 1, 2, 0, 0, 0, 2, 2, 1, 2, 0, 1, 1, 0, 0, 1, 0, 2, 2, 2, 2, 2, 2, 2, 2, 0, 2, 1, 0, 2, 1, 0, 2, 0, 2, 1, 2, 2, 2, 2, 2, 1, 0, 1, 2, 2, 1, 1, 2, 2, 2, 0, 0, 2, 0, 0, 2, 2, 2, 2, 2, 1, 2, 0, 1, 2, 2, 0, 2, 0, 0, 2, 2, 0, 2, 1, 1, 2, 1, 0, 2, 2, 2, 0, 2, 2, 0, 2, 2, 2, 1, 0, 2, 0, 2, 0, 2, 0, 1, 0, 1, 0, 0, 2, 0, 2, 0, 2, 2, 2, 1, 1, 0, 0, 2, 2, 2, 0, 2, 1, 2, 0, 0, 2, 0, 2, 2, 2, 2, 2, 0, 2, 2, 0, 1, 0, 2, 2, 2, 2, 2, 2, 0, 2, 0, 0, 1, 2, 0, 0, 2, 0, 1, 0, 2, 1, 0, 0, 0, 2, 2, 2, 2, 2, 1, 0, 2, 1, 0, 0, 0, 2, 2, 2, 2, 0, 1, 0, 2, 1, 1, 2, 0, 0, 1, 0, 2, 2, 2, 0, 2, 0, 0, 2, 0, 0, 0, 2, 1, 2, 0, 1, 0, 2, 0, 0, 1, 1, 1, 1, 2, 2, 0, 0, 1, 0, 2, 0, 2, 2, 2, 2, 2, 2, 2, 2, 0, 0, 2, 1, 2, 0, 0, 1, 1, 1, 1, 0, 0, 0, 2, 2, 2, 0, 2, 2, 1, 2, 0, 0, 0, 1, 2, 2, 2, 1, 0, 0, 1, 2, 2, 2, 0, 0, 0, 0, 0, 2, 2, 2, 2, 0, 0, 2, 0, 2, 2, 1, 1, 1, 1, 1, 2, 2, 2, 2, 0, 1, 2, 2, 2, 0, 0, 0, 2, 2, 0, 1, 0, 0, 2, 0, 0, 2, 2, 2, 0, 0, 2, 2, 1, 0, 0, 1, 2, 1, 0, 2, 0, 2, 2, 0, 1, 0, 1, 0, 0, 0, 2, 0, 2, 0, 1, 2, 0, 0, 0, 0, 0, 2, 2, 2, 1, 1, 0, 0, 0, 0, 1, 2, 2, 0, 2, 0, 0, 2, 0, 2, 2, 2, 0, 2, 2, 2, 0, 2, 0, 1, 1, 0, 2, 0, 0, 0, 2, 0, 0, 2, 2, 2, 0, 2, 2, 2, 0, 0, 0, 0, 2, 2, 2, 0, 2, 2, 0, 2, 2, 0, 0, 2, 2, 0, 1, 2, 0, 0, 2, 2, 2, 0, 2, 0, 2, 1, 0, 2, 2, 0, 2, 2, 0, 0, 1, 0, 2, 2, 2, 2, 2, 0, 2, 2, 1, 2, 2, 2, 2, 0, 1, 2, 2, 2, 2, 2, 0, 0, 0, 2, 0, 0, 2, 1, 2, 0, 0, 0, 2, 0, 1, 0, 0, 2, 0, 0, 0, 2, 0, 2, 0, 0, 0, 2, 2, 0, 2, 0, 0, 0, 2, 0, 2, 0, 0, 1, 2, 2, 2, 1, 0, 0, 2, 1, 2, 0, 0, 2, 2, 0, 2, 0, 2, 2, 2, 0, 0, 2, 1, 1, 0, 1, 1, 2, 2, 2, 2, 0, 0, 2, 0, 2, 1, 0, 2, 0, 2, 2, 0, 1, 0, 2, 2, 2, 1, 1, 1, 2, 0, 2, 1, 0, 0, 0, 0, 0, 1, 2, 0, 0, 2, 0, 2, 1, 2, 2, 1, 1, 0, 0, 0, 0, 1, 0, 0, 2, 2, 0, 0, 2, 0, 0, 1, 1, 2, 1, 0, 0, 0, 0, 2, 2, 2, 1, 1, 1, 0, 0, 0, 0, 2, 0, 0, 0, 0, 0, 2, 2, 0, 2, 0, 2, 2, 2, 0, 2, 2, 0, 2, 0, 2, 0, 0, 2, 2, 0, 1, 0, 2, 0, 1, 0, 2, 0, 2, 2, 2, 0, 2, 2, 2, 2, 0, 2, 1, 0, 0, 0, 2, 1, 2, 2, 2, 0, 0, 2, 2, 2, 2, 1, 2, 2, 2, 0, 1, 2, 2, 0, 2, 2, 0, 2, 2, 2, 1, 0, 2, 0, 1, 2, 2, 1, 2, 2, 1, 0, 1, 0, 2, 1, 2, 2, 0, 2, 1, 2, 1, 2, 1, 1, 2, 1, 1, 0, 2, 1, 2, 0, 0, 0, 2, 2, 0, 2, 2, 1, 2, 2, 2, 2, 2, 2, 2, 2, 0, 2, 1, 0, 0, 1, 1, 0, 2, 2, 1, 2, 1, 2, 1, 1, 0, 1, 2, 0, 2, 0, 2, 2, 2, 0, 0, 0, 2, 0, 1, 1, 1, 1, 0, 2, 2, 2, 1, 2, 1, 0, 1, 0, 1, 0, 2, 2, 0, 0, 2, 1, 2, 2, 1, 1, 2, 0, 2, 0, 0, 0, 2, 0, 0, 1, 2, 2, 2, 1, 0, 2, 2, 0, 2, 1, 2, 2, 2, 1, 0, 2, 0, 2, 2, 2, 0, 2, 0, 2, 2, 0, 0, 0, 0, 1, 0, 0, 1, 1, 2, 0, 2, 0, 0, 1, 0, 0, 1, 0, 2, 2, 0, 1, 2, 0, 1, 0, 2, 1, 2, 1, 2, 2, 2, 1, 2, 2, 2, 0, 2, 2, 0, 1, 2, 2, 2, 2, 1, 2, 2, 2, 2, 2, 0, 2, 2, 2, 2, 2, 0, 2, 2, 0, 2, 2, 0, 2, 0, 2, 0, 0, 2, 0, 0, 0, 2, 0, 2, 0, 0, 2, 2, 2, 2, 0, 2, 2, 2, 0, 1, 2, 2, 0, 2, 0, 2, 2, 2, 2, 0, 2, 2, 2, 2, 2, 2, 2, 0, 1, 2, 2, 2, 2, 1, 2, 2, 2, 0, 0, 0, 1, 0, 1, 0, 2, 2, 1, 0, 2, 0, 2, 0, 2, 2, 0, 0, 0, 0, 0, 0, 1, 2, 2, 0, 2, 0, 2, 0, 1, 1, 0, 2, 0, 2, 0, 2, 2, 0, 2, 2, 2, 0, 0, 2, 2, 0, 2, 0, 2, 2, 0, 2, 2, 2, 2, 0, 0, 1, 1, 2, 2, 0, 0, 2, 1, 1, 2, 2, 1, 2, 1, 0, 0, 0, 0, 0, 2, 0, 1, 0, 0, 2, 1, 2, 2, 2, 0, 0, 0, 0, 1, 2, 0, 0, 2, 0, 1, 2, 2, 0, 0, 2, 2, 0, 1, 0, 2, 2, 2, 2, 2, 1, 0, 2, 0, 0, 1, 0, 2, 1, 2, 1, 2, 2, 0, 2, 0, 2, 0, 0, 0, 0, 2, 1, 0, 2, 2, 2, 2, 0, 2, 2, 2, 2, 0, 0, 1, 0, 0, 2, 1, 2, 2, 2, 2, 0, 2, 2, 0, 2, 0, 0, 2, 2, 2, 2, 2, 0, 2, 2, 0, 0, 0, 2, 2, 0, 0, 0, 0, 0, 2, 0, 0, 1, 2, 2, 2, 2, 2, 2, 2, 2, 0, 0, 2, 2, 2, 0, 2, 2, 0, 2, 2, 0, 2, 2, 0, 2, 1, 2, 0, 0, 2, 2, 0, 2, 0, 0, 2, 2, 2, 0, 0, 0, 2, 2, 2, 1, 0, 0, 0, 2, 2, 2, 0, 2, 0, 0, 0, 2, 2, 2, 2, 2, 0, 2, 2, 2, 0, 2, 2, 0, 1, 0, 2, 2, 0, 2, 0, 2, 2, 1, 2, 2, 2, 1, 0, 0, 2, 0, 2, 0, 0, 0, 0, 2, 2, 0, 0, 0, 0, 2, 2, 0, 2, 0, 0, 2, 1, 0, 2, 1, 2, 1, 2, 2, 0, 0, 0, 2, 1, 0, 2, 1, 2, 0, 0, 0, 0, 0, 0, 1, 2, 1, 1, 2, 2, 1, 0, 2, 2, 2, 0, 0, 0, 2, 0, 0, 0, 0, 2, 1, 2, 0, 0, 2, 0, 2, 2, 0, 0, 0, 0, 0, 2, 0, 0, 0, 2, 1, 0, 0, 2, 0, 0, 0, 1, 0, 0, 1, 2, 1, 2, 2, 0, 2, 1, 0, 2, 2, 2, 2, 2, 0, 0, 0, 1, 1, 2, 2, 2, 0, 0, 0, 2, 2, 2, 2, 0, 1, 1, 0, 0, 1, 0, 0, 1, 0, 0, 2, 0, 0, 0, 0, 2, 0, 1, 2, 2, 2, 0, 0, 0, 0, 2, 0, 0, 0, 2, 0, 0, 2, 2, 2, 0, 2, 1, 0, 0, 2, 2, 2, 0, 0, 2, 0, 1, 1, 2, 0, 0, 1, 2, 1, 0, 0, 0, 0, 0, 2, 1, 0, 0, 0, 0, 2, 0, 0, 1, 1, 0, 0, 2, 2, 2, 0, 2, 1, 0, 1, 0, 2, 1, 1, 2, 0, 2, 0, 2, 2, 2, 2, 0, 0, 2, 2, 0, 0, 0, 2, 2, 0, 0, 0, 1, 2, 0, 0, 2, 2, 2, 0, 2, 0, 2, 2, 2, 1, 2, 0, 2, 2, 2, 1, 0, 1, 2, 2, 0, 2, 2, 0, 0, 2, 0, 0, 0, 2, 0, 0, 2, 0, 0, 2, 2, 2, 2, 0, 0, 2, 1, 2, 0, 2, 2, 2, 1, 1, 0, 0, 2, 1, 2, 0, 1, 1, 0, 1, 1, 2, 0, 0, 2, 0, 2, 0, 2, 2, 2, 2, 0, 0, 0, 2, 0, 2, 2, 2, 2, 0, 1, 2, 0, 2, 0, 0, 2, 1, 0, 2, 0, 2, 0, 1, 2, 0, 2, 0, 0, 0, 2, 2, 0, 2, 2, 1, 0, 2, 0, 1, 2, 0, 0, 1, 0, 2, 2, 2, 0, 0, 2, 2, 2, 0, 0, 0, 1, 0, 1, 0, 0, 0, 0, 2, 0, 1, 2, 1, 2, 2, 0, 0, 1, 2, 2, 1, 1, 0, 2, 2, 0, 0, 0, 2, 2, 1, 0, 0, 1, 2, 0, 0, 2, 0, 0, 2, 0, 2, 2, 0, 2, 0, 0, 1, 0, 2, 2, 2, 0, 2, 1, 2, 1, 2, 2, 0, 2, 0, 0, 2, 0, 1, 0, 2, 2, 1, 0, 2, 1, 0, 1, 0, 2, 0, 0, 2, 1, 0, 2, 0, 2, 0, 0, 1, 2, 2, 0, 2, 0, 1, 2, 0, 2, 0, 0, 1, 0, 0, 1, 0, 2, 2, 2, 2, 2, 2, 0, 0, 2, 1, 2, 1, 0, 2, 0, 2, 2, 2, 0, 2, 2, 1, 2, 1, 0, 2, 0, 0, 1, 2, 1, 0, 0, 0, 0, 0, 0, 0, 2, 0, 2, 0, 2, 2, 0, 0, 0, 2, 0, 2, 2, 0, 0, 0, 2, 1, 1, 1, 0, 2, 2, 0, 0, 0, 0, 0, 0, 0, 1, 0, 0, 2, 1, 1, 1, 0, 2, 2, 2, 0, 2, 0, 2, 2, 2, 0, 1, 2, 0, 2, 0, 2, 0, 2, 2, 2, 2, 2, 0, 2, 2, 2, 0, 2, 2, 0, 2, 2, 1, 2, 1, 2, 2, 2, 2, 0, 0, 2, 2, 2, 0, 2, 1, 0, 2, 0, 1, 2, 2, 2, 2, 0, 2, 1, 0, 1, 2, 2, 1, 2, 2, 2, 0, 1, 1, 0, 0, 2, 0, 2, 2, 2, 2, 2, 2, 2, 0, 0, 2, 2, 2, 0, 2, 2, 2, 2, 0, 0, 1, 2, 2, 2, 0, 2, 2, 2, 2, 2, 2, 2, 0, 0, 2, 0, 1, 2, 1, 0, 1, 1, 0, 0, 0, 1, 2, 2, 2, 1, 0, 2, 0, 1, 0, 2, 2, 1, 0, 1, 0, 0, 2, 2, 2, 1, 1, 2, 0, 1, 0, 1, 2, 1, 0, 1, 0, 2, 0, 2, 1, 0, 0, 0, 2, 2, 2, 0, 2, 1, 1, 0, 0, 2, 0, 2, 2, 0, 2, 1, 0, 0, 2, 2, 1, 1, 1, 0, 2, 1, 2, 2, 2, 1, 0, 2, 0, 0, 2, 2, 2, 2, 0, 1, 1, 0, 2, 0, 2, 2, 0, 2, 1, 2, 2, 2, 0, 2, 0, 2, 0, 0, 2, 0, 2, 0, 1, 2, 1, 2, 2, 1, 2, 2, 0, 2, 2, 2, 0, 0, 2, 0, 2, 2, 2, 0, 1, 0, 0, 0, 2, 0, 2, 1, 0, 1, 0, 1, 2, 1, 2, 1, 0, 2, 2, 0, 0, 0, 2, 2, 0, 2, 0, 2, 0, 2, 0, 1, 0, 1, 2, 0, 2, 0, 2, 0, 0, 2, 0, 1, 0, 0, 0, 2, 1, 2, 1, 2, 2, 2, 0, 0, 0, 0, 0, 2, 0, 2, 0, 2, 1, 2, 2, 2, 2, 2, 0, 0, 0, 1, 2, 2, 2, 1, 1, 2, 0, 0, 0, 0, 0, 2, 1, 0, 1, 1, 0, 2, 1, 0, 0, 1, 2, 0, 2, 2, 0, 0, 0, 0, 0, 2, 0, 2, 2, 2, 0, 0, 0, 2, 0, 2, 0, 2, 2, 1, 0, 0, 1, 1, 0, 2, 0, 2, 1, 1, 2, 1, 0, 2, 1, 2, 1, 0, 2, 1, 2, 2, 1, 0, 2, 0, 2, 0, 0, 2, 0, 2, 0, 2, 1, 0, 2, 0, 2, 0, 0, 2, 0, 2, 0, 0, 2, 1, 2, 1, 2, 0, 2, 0, 0, 2, 1, 0, 0, 0, 1, 2, 0, 0, 2, 1, 0, 0, 1, 2, 2, 2, 0, 2, 2, 1, 0, 2, 1, 2, 0, 2, 2, 1, 1, 2, 0, 1, 2, 0, 1, 0, 1, 0, 2, 0, 0, 0, 2, 2, 0, 0, 2, 2, 1, 0, 0, 0, 2, 2, 0, 2, 2, 0, 0, 0, 0, 2, 0, 2, 2, 0, 2, 2, 2, 1, 1, 2, 2, 1, 0, 2, 1, 0, 2, 0, 2, 2, 2, 2, 0, 2, 0, 2, 0, 0, 0, 2, 0, 2, 1, 2, 2, 2, 2, 1, 0, 0, 2, 0, 2, 0, 0, 1, 0, 2, 2, 0, 2, 1, 0, 1, 1, 0, 1, 2, 1, 2, 2, 0, 2, 2, 0, 1, 2, 2, 0, 0, 0, 0, 2, 2, 2, 0, 2, 0, 1, 2, 2, 2, 1, 2, 0, 1, 1, 2, 2, 1, 1, 0, 0, 0, 0, 2, 2, 0, 0, 0, 1, 0, 2, 2, 0, 2, 0, 1, 1, 0, 0, 0, 0, 2, 0, 0, 2, 2, 1, 2, 0, 0, 1, 2, 0, 0, 0, 2, 1, 2, 1, 0, 2, 0, 1, 2, 1, 0, 2, 0, 2, 2, 2, 0, 0, 2, 0, 2, 1, 0, 2, 1, 2, 2, 2, 2, 1, 0, 2, 2, 2, 0, 2, 0, 2, 0, 2, 2, 0, 2, 0, 2, 0, 0, 2, 0, 2, 2, 0, 1, 0, 0, 2, 0, 0, 1, 2, 1, 0, 0, 2, 2, 2, 0, 0, 2, 0, 0, 1, 2, 0, 1, 0, 0, 1, 1, 0, 0, 2, 2, 0, 0, 2, 2, 0, 1, 1, 0, 0, 0, 2, 1, 2, 0, 0, 0, 1, 2, 0, 2, 2, 0, 2, 2, 2, 0, 2, 0, 0, 0, 1, 0, 2, 2, 0, 2, 1, 0, 1, 1, 2, 2, 2, 0, 0, 1, 2, 2, 2, 0, 2, 0, 2, 0, 2, 2, 2, 0, 0, 0, 2, 0, 2, 2, 0, 1, 0, 0, 0, 0, 0, 2, 2, 2, 1, 1, 0, 2, 2, 1, 0, 0, 2, 0, 2, 1, 0, 2, 1, 2, 0, 0, 2, 1, 1, 2, 0, 1, 2, 2, 2, 0, 0, 2, 0, 2, 0, 2, 2, 1, 2, 2, 2, 0, 2, 0, 0, 2, 2, 2, 0, 2, 1, 2, 2, 0, 0, 1, 2, 2, 2, 2, 0, 2, 1, 0, 2, 0, 0, 2, 2, 2, 2, 0, 0, 2, 2, 1, 2, 1, 1, 2, 1, 0, 0, 1, 1, 1, 2, 2, 0, 0, 0, 0, 2, 1, 0, 0, 0, 2, 1, 0, 0, 0, 0, 2, 0, 2, 1, 2, 0, 2, 1, 0, 0, 2, 1, 0, 0, 1, 0, 1, 2, 2, 0, 2, 2, 2, 2, 0, 2, 1, 0, 0, 2, 1, 0, 2, 0, 0, 2, 1, 1, 0, 2, 0, 2, 2, 0, 1, 1, 2, 0, 2, 1, 0, 2, 2, 2, 0, 0, 0, 2, 1, 0, 0, 0, 1, 1, 2, 2, 1, 2, 2, 2, 0, 2, 0, 2, 2, 2, 2, 2, 0, 0, 2, 0, 1, 2, 2, 1, 1, 2, 0, 0, 0, 2, 0, 2, 1, 0, 2, 2, 1, 0, 2, 1, 0, 2, 0, 1, 2, 1, 2, 1, 0, 1, 2, 2, 1, 0, 0, 0, 1, 1, 2, 2, 2, 2, 2, 0, 1, 2, 0, 0, 0, 1, 2, 2, 0, 2, 0, 1, 2, 2, 2, 0, 0, 0, 2, 0, 0, 0, 2, 0, 0, 0, 0, 1, 2, 0, 0, 0, 0, 2, 2, 2, 2, 2, 2, 1, 2, 2, 1, 2, 1, 2, 2, 2, 1, 2, 0, 2, 2, 2, 2, 2, 2, 2, 2, 1, 2, 2, 1, 0, 2, 2, 0, 2, 0, 0, 0, 2, 2, 2, 2, 0, 2, 0, 0, 2, 1, 1, 2, 0, 0, 2, 2, 2, 2, 1, 2, 1, 1, 2, 0, 0, 2, 2, 0, 1, 2, 0, 2, 0, 0, 2, 1, 2, 1, 2, 1, 2, 0, 2, 0, 0, 1, 2, 0, 0, 1, 0, 2, 0, 0, 2, 2, 0, 2, 0, 2, 2, 0, 0, 0, 0, 1, 1, 0, 2, 2, 0, 2, 2, 0, 0, 0, 0, 0, 2, 0, 0, 2, 2, 1, 0, 2, 1, 2, 2, 0, 1, 2, 0, 0, 0, 0, 0, 1, 2, 2, 2, 2, 0, 2, 2, 2, 0, 0, 0, 2, 0, 0, 2, 0, 0, 2, 1, 1, 0, 2, 2, 1, 2, 2, 1, 2, 0, 0, 2, 2, 0, 0, 1, 1, 2, 2, 2, 1, 0, 2, 2, 0, 0, 0, 0, 1, 0, 2, 0, 2, 2, 0, 0, 0, 2, 2, 0, 0, 1, 1, 0, 0, 2, 1, 2, 2, 0, 2, 1, 0, 0, 0, 0, 0, 1, 0, 2, 0, 2, 2, 2, 0, 0, 0, 2, 2, 0, 0, 2, 1, 2, 2, 0, 2, 0, 2, 2, 0, 2, 0, 1, 2, 2, 0, 0, 0, 2, 0, 2, 2, 0, 1, 0, 2, 2, 0, 0, 0, 1, 0, 0, 2, 1, 2, 1, 2, 1, 0, 0, 0, 2, 1, 0, 2, 2, 2, 0, 2, 1, 2, 0, 2, 2, 1, 0, 2, 2, 2, 0, 0, 0, 2, 2, 2, 1, 2, 2, 2, 2, 2, 1, 1, 2, 1, 0, 2, 0, 0, 0, 0, 2, 2, 2, 0, 2, 2, 0, 0, 2, 2, 1, 0, 0, 0, 1, 2, 1, 0, 0, 2, 0, 0, 2, 2, 2, 2, 0, 1, 2, 1, 0, 0, 0, 1, 2, 0, 2, 2, 1, 0, 0, 0, 2, 0, 0, 2, 2, 2, 0, 0, 1, 2, 2, 2, 1, 2, 2, 2, 0, 0, 0, 1, 2, 2, 0, 2, 0, 2, 2, 0, 2, 0, 0, 2, 0, 0, 0, 2, 0, 2, 0, 0, 2, 2, 2, 0, 0, 2, 0, 2, 2, 0, 1, 2, 2, 2, 2, 0, 0, 0, 0, 2, 2, 0, 0, 2, 1, 0, 0, 0, 0, 0, 1, 2, 2, 0, 2, 0, 2, 0, 2, 0, 0, 1, 1, 0, 1, 1, 0, 0, 2, 2, 0, 2, 1, 1, 2, 2, 2, 0, 2, 2, 0, 0, 1, 1, 2, 0, 2, 0, 0, 2, 2, 2, 2, 0, 2, 0, 0, 1, 2, 1, 1, 2, 2, 2, 2, 1, 0, 2, 1, 0, 1, 0, 2, 2, 2, 0, 2, 2, 0, 0, 0, 0, 0, 2, 0, 0, 0, 2, 2, 2, 2, 1, 2, 0, 0, 0, 2, 0, 2, 1, 2, 2, 2, 2, 0, 0, 1, 0, 1, 0, 0, 0, 0, 1, 2, 0, 0, 2, 2, 2, 1, 1, 0, 0, 1, 0, 1, 0, 2, 2, 1, 0, 0, 0, 0, 1, 2, 1, 2, 2, 2, 2, 1, 2, 0, 0, 2, 2, 0, 1, 0, 0, 2, 0, 0, 2, 0, 0, 2, 2, 1, 2, 2, 2, 0, 2, 0, 2, 0, 2, 0, 0, 2, 0, 0, 2, 2, 1, 0, 2, 2, 1, 2, 2, 1, 0, 0, 1, 0, 2, 0, 0, 0, 2, 0, 1, 0, 0, 2, 0, 0, 0, 2, 0, 2, 0, 0, 2, 2, 0, 2, 0, 1, 2, 1, 1, 2, 2, 0, 0, 2, 0, 2, 0, 0, 0, 0, 0, 0, 2, 1, 2, 2, 2, 1, 2, 2, 2, 1, 1, 0, 0, 2, 1, 1, 0, 0, 0, 2, 0, 2, 0, 2, 2, 1, 2, 2, 2, 2, 2, 0, 1, 1, 2, 1, 2, 0, 1, 0, 2, 1, 0, 1, 0, 2, 0, 2, 2, 2, 0, 0, 0, 2, 0, 2, 0, 2, 2, 2, 0, 2, 0, 2, 1, 2, 0, 0, 0, 2, 1, 2, 0, 0, 0, 2, 1, 1, 0, 2, 0, 0, 2, 1, 0, 0, 2, 2, 2, 0, 0, 1, 0, 2, 2, 0, 2, 0, 0, 1, 2, 2, 0, 0, 2, 1, 2, 2, 1, 2, 0, 2, 2, 2, 0, 0, 0, 0, 0, 2, 1, 2, 2, 1, 0, 0, 1, 2, 0, 2, 1, 2, 0, 1, 0, 0, 0, 2, 2, 2, 2, 0, 2, 2, 1, 0, 2, 2, 2, 2, 0, 2, 2, 2, 1, 2, 0, 2, 1, 0, 1, 2, 2, 0, 0, 1, 2, 2, 0, 0, 0, 0, 2, 2, 1, 1, 1, 0, 2, 2, 2, 1, 2, 1, 1, 0, 2, 2, 2, 2, 2, 0, 0, 0, 0, 0, 1, 1, 0, 0, 2, 0, 0, 1, 0, 2, 1, 0, 2, 1, 0, 0, 2, 2, 0, 2, 2, 0, 0, 2, 0, 0, 2, 0, 0, 2, 2, 0, 0, 2, 1, 0, 1, 1, 0, 0, 0, 2, 2, 2, 1, 2, 2, 2, 2, 2, 1, 0, 2, 2, 1, 2, 1, 0, 1, 0, 2, 0, 1, 0, 0, 1, 0, 2, 0, 0, 2, 2, 1, 2, 0, 2, 0, 0, 0, 2, 0, 2, 2, 0, 2, 0, 0, 0, 0, 2, 0, 0, 0, 0, 2, 0, 2, 0, 1, 0, 2, 0, 2, 1, 2, 2, 2, 2, 2, 0, 0, 2, 0, 0, 1, 1, 1, 0, 0, 0, 2, 2, 2, 2, 1, 2, 0, 0, 1, 0, 0, 1, 2, 2, 0, 2, 2, 2, 2, 0, 0, 2, 2, 1, 0, 0, 1, 0, 2, 2, 0, 2, 0, 0, 1, 0, 2, 0, 0, 1, 1, 2, 2, 0, 2, 2, 0, 2, 1, 0, 2, 0, 2, 1, 2, 2, 2, 2, 0, 2, 2, 2, 0, 0, 0, 0, 0, 0, 0, 1, 1, 1, 2, 2, 1, 0, 0, 0, 1, 1, 1, 0, 2, 0, 0, 2, 0, 0, 0, 2, 1, 2, 0, 0, 2, 0, 1, 0, 0, 2, 2, 1, 2, 0, 2, 2, 2, 0, 0, 2, 2, 2, 0, 0, 1, 2, 2, 2, 2, 2, 1, 0, 2, 0, 2, 0, 2, 2, 0, 2, 0, 0, 2, 2, 1, 0, 0, 2, 2, 1, 1, 2, 0, 2, 2, 2, 0, 0, 2, 2, 0, 2, 2, 0, 2, 1, 2, 2, 1, 2, 1, 0, 1, 0, 1, 2, 2, 1, 1, 0, 2, 0, 2, 1, 0, 1, 0, 2, 1, 0, 0, 2, 0, 0, 2, 2, 2, 0, 2, 1, 0, 1, 2, 2, 2, 0, 1, 0, 1, 2, 2, 2, 2, 2, 0, 0, 0, 0, 2, 0, 2, 0, 0, 0]\n"
     ]
    }
   ],
   "source": [
    "# Students should write code here\n",
    "distances = all_dist\n",
    "print len(distances)\n",
    "closest_cluster = list()\n",
    "for i in range(len(distances)):\n",
    "    closest_cluster.append(np.argmin(distances[i]))\n",
    "\n",
    "print closest_cluster"
   ]
  },
  {
   "cell_type": "code",
   "execution_count": 13,
   "metadata": {
    "collapsed": false
   },
   "outputs": [
    {
     "name": "stdout",
     "output_type": "stream",
     "text": [
      "Pass\n"
     ]
    }
   ],
   "source": [
    "'''Test cell'''\n",
    "reference = [list(row).index(min(row)) for row in distances]\n",
    "if np.allclose(closest_cluster, reference):\n",
    "    print('Pass')\n",
    "else:\n",
    "    print('Check your code again')"
   ]
  },
  {
   "cell_type": "markdown",
   "metadata": {},
   "source": [
    "**Checkpoint:** Let's put these steps together.  First, initialize three centroids with the first 3 rows of `tf_idf`. Then, compute distances from each of the centroids to all data points in `tf_idf`. Finally, use these distance calculations to compute cluster assignments and assign them to `cluster_assignment`."
   ]
  },
  {
   "cell_type": "code",
   "execution_count": 45,
   "metadata": {
    "collapsed": true
   },
   "outputs": [],
   "source": [
    "# Students should write code here\n",
    "centroids = tf_idf[0:3,:]\n",
    "distances = pairwise_distances(tf_idf, centroids, metric='euclidean')\n",
    "cluster_assignment = []\n",
    "for i in range(len(distances)):\n",
    "    cluster_assignment.append(np.argmin(distances[i]))\n"
   ]
  },
  {
   "cell_type": "code",
   "execution_count": 46,
   "metadata": {
    "collapsed": false
   },
   "outputs": [
    {
     "name": "stdout",
     "output_type": "stream",
     "text": [
      "Pass\n"
     ]
    }
   ],
   "source": [
    "if len(cluster_assignment)==59071 and \\\n",
    "   np.array_equal(np.bincount(cluster_assignment), np.array([23061, 10086, 25924])):\n",
    "    print('Pass') # count number of data points for each cluster\n",
    "else:\n",
    "    print('Check your code again.')"
   ]
  },
  {
   "cell_type": "markdown",
   "metadata": {},
   "source": [
    "Now we are ready to fill in the blanks in this function:"
   ]
  },
  {
   "cell_type": "code",
   "execution_count": 47,
   "metadata": {
    "collapsed": false
   },
   "outputs": [],
   "source": [
    "def assign_clusters(data, centroids):\n",
    "    \n",
    "    # Compute distances between each data point and the set of centroids:\n",
    "    # Fill in the blank (RHS only)\n",
    "    distances_from_centroids = pairwise_distances(data, centroids, metric='euclidean')\n",
    "    \n",
    "    # Compute cluster assignments for each data point:\n",
    "    # Fill in the blank (RHS only)\n",
    "    cluster_assignment = []\n",
    "    for i in range(len(distances_from_centroids)):\n",
    "        cluster_assignment.append(np.argmin(distances_from_centroids[i]))\n",
    "\n",
    "\n",
    "    \n",
    "    return cluster_assignment"
   ]
  },
  {
   "cell_type": "markdown",
   "metadata": {},
   "source": [
    "**Checkpoint**. For the last time, let us check if Step 1 was implemented correctly. With rows 0, 2, 4, and 6 of `tf_idf` as an initial set of centroids, we assign cluster labels to rows 0, 10, 20, ..., and 90 of `tf_idf`. The resulting cluster labels should be `[0, 1, 1, 0, 0, 2, 0, 2, 2, 1]`."
   ]
  },
  {
   "cell_type": "code",
   "execution_count": 48,
   "metadata": {
    "collapsed": false
   },
   "outputs": [
    {
     "name": "stdout",
     "output_type": "stream",
     "text": [
      "Pass\n"
     ]
    }
   ],
   "source": [
    "if np.allclose(assign_clusters(tf_idf[0:100:10], tf_idf[0:8:2]), np.array([0, 1, 1, 0, 0, 2, 0, 2, 2, 1])):\n",
    "    print('Pass')\n",
    "else:\n",
    "    print('Check your code again.')"
   ]
  },
  {
   "cell_type": "markdown",
   "metadata": {},
   "source": [
    "### Revising clusters"
   ]
  },
  {
   "cell_type": "markdown",
   "metadata": {},
   "source": [
    "Let's turn to Step 2, where we compute the new centroids given the cluster assignments. "
   ]
  },
  {
   "cell_type": "markdown",
   "metadata": {},
   "source": [
    "SciPy and NumPy arrays allow for filtering via Boolean masks. For instance, we filter all data points that are assigned to cluster 0 by writing\n",
    "```\n",
    "data[cluster_assignment==0,:]\n",
    "```"
   ]
  },
  {
   "cell_type": "markdown",
   "metadata": {},
   "source": [
    "To develop intuition about filtering, let's look at a toy example consisting of 3 data points and 2 clusters."
   ]
  },
  {
   "cell_type": "code",
   "execution_count": 49,
   "metadata": {
    "collapsed": false
   },
   "outputs": [],
   "source": [
    "data = np.array([[1., 2., 0.],\n",
    "                 [0., 0., 0.],\n",
    "                 [2., 2., 0.]])\n",
    "centroids = np.array([[0.5, 0.5, 0.],\n",
    "                      [0., -0.5, 0.]])"
   ]
  },
  {
   "cell_type": "markdown",
   "metadata": {},
   "source": [
    "Let's assign these data points to the closest centroid."
   ]
  },
  {
   "cell_type": "code",
   "execution_count": 50,
   "metadata": {
    "collapsed": false
   },
   "outputs": [
    {
     "name": "stdout",
     "output_type": "stream",
     "text": [
      "[0, 1, 0]\n"
     ]
    }
   ],
   "source": [
    "cluster_assignment = assign_clusters(data, centroids)\n",
    "print cluster_assignment"
   ]
  },
  {
   "cell_type": "markdown",
   "metadata": {},
   "source": [
    "The expression `cluster_assignment==1` gives a list of Booleans that says whether each data point is assigned to cluster 1 or not:"
   ]
  },
  {
   "cell_type": "code",
   "execution_count": 51,
   "metadata": {
    "collapsed": false
   },
   "outputs": [
    {
     "name": "stdout",
     "output_type": "stream",
     "text": [
      "[]\n"
     ]
    }
   ],
   "source": [
    "cluster_assignment==1\n",
    "print data[cluster_assignment == 1,:]"
   ]
  },
  {
   "cell_type": "markdown",
   "metadata": {},
   "source": [
    "Likewise for cluster 0:"
   ]
  },
  {
   "cell_type": "code",
   "execution_count": 52,
   "metadata": {
    "collapsed": false
   },
   "outputs": [
    {
     "data": {
      "text/plain": [
       "False"
      ]
     },
     "execution_count": 52,
     "metadata": {},
     "output_type": "execute_result"
    }
   ],
   "source": [
    "cluster_assignment==0"
   ]
  },
  {
   "cell_type": "markdown",
   "metadata": {},
   "source": [
    "In lieu of indices, we can put in the list of Booleans to pick and choose rows. Only the rows that correspond to a `True` entry will be retained.\n",
    "\n",
    "First, let's look at the data points (i.e., their values) assigned to cluster 1:"
   ]
  },
  {
   "cell_type": "code",
   "execution_count": 53,
   "metadata": {
    "collapsed": false
   },
   "outputs": [
    {
     "data": {
      "text/plain": [
       "array([], shape=(0, 3, 3), dtype=float64)"
      ]
     },
     "execution_count": 53,
     "metadata": {},
     "output_type": "execute_result"
    }
   ],
   "source": [
    "data[cluster_assignment==1]"
   ]
  },
  {
   "cell_type": "markdown",
   "metadata": {},
   "source": [
    "This makes sense since [0 0 0] is closer to [0 -0.5 0] than to [0.5 0.5 0].\n",
    "\n",
    "Now let's look at the data points assigned to cluster 0:"
   ]
  },
  {
   "cell_type": "code",
   "execution_count": 54,
   "metadata": {
    "collapsed": false
   },
   "outputs": [
    {
     "data": {
      "text/plain": [
       "array([], shape=(0, 3, 3), dtype=float64)"
      ]
     },
     "execution_count": 54,
     "metadata": {},
     "output_type": "execute_result"
    }
   ],
   "source": [
    "data[cluster_assignment==0]"
   ]
  },
  {
   "cell_type": "markdown",
   "metadata": {},
   "source": [
    "Again, this makes sense since these values are each closer to [0.5 0.5 0] than to [0 -0.5 0].\n",
    "\n",
    "Given all the data points in a cluster, it only remains to compute the mean. Use [np.mean()](http://docs.scipy.org/doc/numpy-1.10.0/reference/generated/numpy.mean.html). By default, the function averages all elements in a 2D array. To compute row-wise or column-wise means, add the `axis` argument. See the linked documentation for details. \n",
    "\n",
    "Use this function to average the data points in cluster 0:"
   ]
  },
  {
   "cell_type": "code",
   "execution_count": 55,
   "metadata": {
    "collapsed": false
   },
   "outputs": [
    {
     "name": "stderr",
     "output_type": "stream",
     "text": [
      "/Users/admin/anaconda/envs/gl-env/lib/python2.7/site-packages/ipykernel/__main__.py:1: RuntimeWarning: Mean of empty slice.\n",
      "  if __name__ == '__main__':\n"
     ]
    },
    {
     "data": {
      "text/plain": [
       "array([[ nan,  nan,  nan],\n",
       "       [ nan,  nan,  nan],\n",
       "       [ nan,  nan,  nan]])"
      ]
     },
     "execution_count": 55,
     "metadata": {},
     "output_type": "execute_result"
    }
   ],
   "source": [
    "data[cluster_assignment==0].mean(axis=0)"
   ]
  },
  {
   "cell_type": "markdown",
   "metadata": {},
   "source": [
    "We are now ready to complete this function:"
   ]
  },
  {
   "cell_type": "code",
   "execution_count": 56,
   "metadata": {
    "collapsed": true
   },
   "outputs": [],
   "source": [
    "def revise_centroids(data, k, cluster_assignment):\n",
    "    new_centroids = []\n",
    "    for i in xrange(k):\n",
    "        # Select all data points that belong to cluster i. Fill in the blank (RHS only)\n",
    "        member_data_points = data[cluster_assignment == i,:]\n",
    "        # Compute the mean of the data points. Fill in the blank (RHS only)\n",
    "        centroid = member_data_points.mean(axis = 0)\n",
    "        \n",
    "        # Convert numpy.matrix type to numpy.ndarray type\n",
    "        centroid = centroid.A1\n",
    "        new_centroids.append(centroid)\n",
    "    new_centroids = np.array(new_centroids)\n",
    "    \n",
    "    return new_centroids"
   ]
  },
  {
   "cell_type": "markdown",
   "metadata": {},
   "source": [
    "**Checkpoint**. Let's check our Step 2 implementation. Letting rows 0, 10, ..., 90 of `tf_idf` as the data points and the cluster labels `[0, 1, 1, 0, 0, 2, 0, 2, 2, 1]`, we compute the next set of centroids. Each centroid is given by the average of all member data points in corresponding cluster."
   ]
  },
  {
   "cell_type": "code",
   "execution_count": 57,
   "metadata": {
    "collapsed": false
   },
   "outputs": [
    {
     "name": "stdout",
     "output_type": "stream",
     "text": [
      "Pass\n"
     ]
    }
   ],
   "source": [
    "result = revise_centroids(tf_idf[0:100:10], 3, np.array([0, 1, 1, 0, 0, 2, 0, 2, 2, 1]))\n",
    "if np.allclose(result[0], np.mean(tf_idf[[0,30,40,60]].toarray(), axis=0)) and \\\n",
    "   np.allclose(result[1], np.mean(tf_idf[[10,20,90]].toarray(), axis=0))   and \\\n",
    "   np.allclose(result[2], np.mean(tf_idf[[50,70,80]].toarray(), axis=0)):\n",
    "    print('Pass')\n",
    "else:\n",
    "    print('Check your code')"
   ]
  },
  {
   "cell_type": "markdown",
   "metadata": {},
   "source": [
    "### Assessing convergence"
   ]
  },
  {
   "cell_type": "markdown",
   "metadata": {},
   "source": [
    "How can we tell if the k-means algorithm is converging? We can look at the cluster assignments and see if they stabilize over time. In fact, we'll be running the algorithm until the cluster assignments stop changing at all. To be extra safe, and to assess the clustering performance, we'll be looking at an additional criteria: the sum of all squared distances between data points and centroids. This is defined as\n",
    "$$\n",
    "J(\\mathcal{Z},\\mu) = \\sum_{j=1}^k \\sum_{i:z_i = j} \\|\\mathbf{x}_i - \\mu_j\\|^2.\n",
    "$$\n",
    "The smaller the distances, the more homogeneous the clusters are. In other words, we'd like to have \"tight\" clusters."
   ]
  },
  {
   "cell_type": "code",
   "execution_count": 58,
   "metadata": {
    "collapsed": true
   },
   "outputs": [],
   "source": [
    "def compute_heterogeneity(data, k, centroids, cluster_assignment):\n",
    "    \n",
    "    heterogeneity = 0.0\n",
    "    for i in xrange(k):\n",
    "        \n",
    "        # Select all data points that belong to cluster i. Fill in the blank (RHS only)\n",
    "        member_data_points = data[cluster_assignment==i, :]\n",
    "        \n",
    "        if member_data_points.shape[0] > 0: # check if i-th cluster is non-empty\n",
    "            # Compute distances from centroid to data points (RHS only)\n",
    "            distances = pairwise_distances(member_data_points, [centroids[i]], metric='euclidean')\n",
    "            squared_distances = distances**2\n",
    "            heterogeneity += np.sum(squared_distances)\n",
    "        \n",
    "    return heterogeneity"
   ]
  },
  {
   "cell_type": "markdown",
   "metadata": {},
   "source": [
    "Let's compute the cluster heterogeneity for the 2-cluster example we've been considering based on our current cluster assignments and centroids."
   ]
  },
  {
   "cell_type": "code",
   "execution_count": 59,
   "metadata": {
    "collapsed": false
   },
   "outputs": [
    {
     "data": {
      "text/plain": [
       "0.0"
      ]
     },
     "execution_count": 59,
     "metadata": {},
     "output_type": "execute_result"
    }
   ],
   "source": [
    "compute_heterogeneity(data, 2, centroids, cluster_assignment)"
   ]
  },
  {
   "cell_type": "markdown",
   "metadata": {},
   "source": [
    "### Combining into a single function"
   ]
  },
  {
   "cell_type": "markdown",
   "metadata": {},
   "source": [
    "Once the two k-means steps have been implemented, as well as our heterogeneity metric we wish to monitor, it is only a matter of putting these functions together to write a k-means algorithm that\n",
    "\n",
    "* Repeatedly performs Steps 1 and 2\n",
    "* Tracks convergence metrics\n",
    "* Stops if either no assignment changed or we reach a certain number of iterations."
   ]
  },
  {
   "cell_type": "code",
   "execution_count": 40,
   "metadata": {
    "collapsed": false
   },
   "outputs": [],
   "source": [
    "# Fill in the blanks\n",
    "def kmeans(data, k, initial_centroids, maxiter, record_heterogeneity=None, verbose=False):\n",
    "    '''This function runs k-means on given data and initial set of centroids.\n",
    "       maxiter: maximum number of iterations to run.\n",
    "       record_heterogeneity: (optional) a list, to store the history of heterogeneity as function of iterations\n",
    "                             if None, do not store the history.\n",
    "       verbose: if True, print how many data points changed their cluster labels in each iteration'''\n",
    "    centroids = initial_centroids[:]\n",
    "    prev_cluster_assignment = None\n",
    "    \n",
    "    for itr in xrange(maxiter):        \n",
    "        if verbose:\n",
    "            print(itr)\n",
    "        \n",
    "        # 1. Make cluster assignments using nearest centroids\n",
    "        # YOUR CODE HERE\n",
    "        cluster_assignment = assign_clusters(data, centroids)\n",
    "            \n",
    "        # 2. Compute a new centroid for each of the k clusters, averaging all data points assigned to that cluster.\n",
    "        # YOUR CODE HERE\n",
    "        centroids = revise_centroids(data, k, cluster_assignment)\n",
    "            \n",
    "        # Check for convergence: if none of the assignments changed, stop\n",
    "        if prev_cluster_assignment is not None and ((prev_cluster_assignment) ==(cluster_assignment)):\n",
    "            break\n",
    "        \n",
    "        # Print number of new assignments \n",
    "        if prev_cluster_assignment is not None:\n",
    "            num_changed = np.sum(prev_cluster_assignment!=cluster_assignment)\n",
    "            if verbose:\n",
    "                print('    {0:5d} elements changed their cluster assignment.'.format(num_changed))   \n",
    "        \n",
    "        # Record heterogeneity convergence metric\n",
    "        if record_heterogeneity is not None:\n",
    "            # YOUR CODE HERE\n",
    "            score = compute_heterogeneity(data, k, centroids, cluster_assignment)\n",
    "            record_heterogeneity.append(score)\n",
    "        \n",
    "        prev_cluster_assignment = cluster_assignment[:]\n",
    "        \n",
    "    return centroids, cluster_assignment"
   ]
  },
  {
   "cell_type": "markdown",
   "metadata": {},
   "source": [
    "## Plotting convergence metric"
   ]
  },
  {
   "cell_type": "markdown",
   "metadata": {},
   "source": [
    "We can use the above function to plot the convergence metric across iterations."
   ]
  },
  {
   "cell_type": "code",
   "execution_count": 41,
   "metadata": {
    "collapsed": false
   },
   "outputs": [],
   "source": [
    "def plot_heterogeneity(heterogeneity, k):\n",
    "    plt.figure(figsize=(7,4))\n",
    "    plt.plot(heterogeneity, linewidth=4)\n",
    "    plt.xlabel('# Iterations')\n",
    "    plt.ylabel('Heterogeneity')\n",
    "    plt.title('Heterogeneity of clustering over time, K={0:d}'.format(k))\n",
    "    plt.rcParams.update({'font.size': 16})\n",
    "    plt.tight_layout()"
   ]
  },
  {
   "cell_type": "markdown",
   "metadata": {},
   "source": [
    "Let's consider running k-means with K=3 clusters for a maximum of 400 iterations, recording cluster heterogeneity at every step.  Then, let's plot the heterogeneity over iterations using the plotting function above."
   ]
  },
  {
   "cell_type": "code",
   "execution_count": 43,
   "metadata": {
    "collapsed": false,
    "scrolled": true
   },
   "outputs": [
    {
     "name": "stdout",
     "output_type": "stream",
     "text": [
      "0\n",
      "1\n",
      "        1 elements changed their cluster assignment.\n",
      "2\n"
     ]
    },
    {
     "data": {
      "text/plain": [
       "list"
      ]
     },
     "execution_count": 43,
     "metadata": {},
     "output_type": "execute_result"
    },
    {
     "data": {
      "image/png": "[encoded data removed]",
      "text/plain": [
       "<matplotlib.figure.Figure at 0x12dcf2b50>"
      ]
     },
     "metadata": {},
     "output_type": "display_data"
    }
   ],
   "source": [
    "k = 3\n",
    "heterogeneity = []\n",
    "initial_centroids = get_initial_centroids(tf_idf, k, seed=0)\n",
    "centroids, cluster_assignment = kmeans(tf_idf, k, initial_centroids, maxiter=400,\n",
    "                                       record_heterogeneity=heterogeneity, verbose=True)\n",
    "plot_heterogeneity(heterogeneity, k)\n",
    "type(cluster_assignment)"
   ]
  },
  {
   "cell_type": "code",
   "execution_count": 59,
   "metadata": {
    "collapsed": false
   },
   "outputs": [
    {
     "name": "stdout",
     "output_type": "stream",
     "text": [
      "[59071]\n",
      "[[  0.00000000e+00   0.00000000e+00   0.00000000e+00 ...,   1.61305464e-04\n",
      "    3.83085501e-05   3.52499352e-05]\n",
      " [  0.00000000e+00   0.00000000e+00   0.00000000e+00 ...,   1.61305464e-04\n",
      "    3.83085501e-05   3.52499352e-05]\n",
      " [  0.00000000e+00   0.00000000e+00   0.00000000e+00 ...,   1.61305464e-04\n",
      "    3.83085501e-05   3.52499352e-05]]\n"
     ]
    }
   ],
   "source": [
    "print np.bincount(cluster_assignment)\n",
    "print centroids"
   ]
  },
  {
   "cell_type": "markdown",
   "metadata": {},
   "source": [
    "**Quiz Question**. (True/False) The clustering objective (heterogeneity) is non-increasing for this example."
   ]
  },
  {
   "cell_type": "markdown",
   "metadata": {},
   "source": [
    "**Quiz Question**. Let's step back from this particular example. If the clustering objective (heterogeneity) would ever increase when running k-means, that would indicate: (choose one)\n",
    "\n",
    "1. k-means algorithm got stuck in a bad local minimum\n",
    "2. There is a bug in the k-means code\n",
    "3. All data points consist of exact duplicates\n",
    "4. Nothing is wrong. The objective should generally go down sooner or later."
   ]
  },
  {
   "cell_type": "markdown",
   "metadata": {},
   "source": [
    "**Quiz Question**. Which of the cluster contains the greatest number of data points in the end? Hint: Use [`np.bincount()`](http://docs.scipy.org/doc/numpy-1.11.0/reference/generated/numpy.bincount.html) to count occurrences of each cluster label.\n",
    " 1. Cluster #0\n",
    " 2. Cluster #1\n",
    " 3. Cluster #2"
   ]
  },
  {
   "cell_type": "markdown",
   "metadata": {},
   "source": [
    "## Beware of local maxima"
   ]
  },
  {
   "cell_type": "markdown",
   "metadata": {},
   "source": [
    "One weakness of k-means is that it tends to get stuck in a local minimum. To see this, let us run k-means multiple times, with different initial centroids created using different random seeds.\n",
    "\n",
    "**Note:** Again, in practice, you should set different seeds for every run. We give you a list of seeds for this assignment so that everyone gets the same answer.\n",
    "\n",
    "This may take several minutes to run."
   ]
  },
  {
   "cell_type": "code",
   "execution_count": 60,
   "metadata": {
    "collapsed": false,
    "scrolled": false
   },
   "outputs": [
    {
     "name": "stdout",
     "output_type": "stream",
     "text": [
      "seed=000000, heterogeneity=0.00000\n",
      "seed=020000, heterogeneity=0.00000\n",
      "seed=040000, heterogeneity=0.00000\n",
      "seed=060000, heterogeneity=0.00000\n",
      "seed=080000, heterogeneity=0.00000\n",
      "seed=100000, heterogeneity=0.00000\n",
      "seed=120000, heterogeneity=0.00000\n",
      "7.7112929821\n"
     ]
    }
   ],
   "source": [
    "k = 10\n",
    "heterogeneity = {}\n",
    "import time\n",
    "start = time.time()\n",
    "for seed in [0, 20000, 40000, 60000, 80000, 100000, 120000]:\n",
    "    initial_centroids = get_initial_centroids(tf_idf, k, seed)\n",
    "    centroids, cluster_assignment = kmeans(tf_idf, k, initial_centroids, maxiter=400,\n",
    "                                           record_heterogeneity=None, verbose=False)\n",
    "    # To save time, compute heterogeneity only once in the end\n",
    "    heterogeneity[seed] = compute_heterogeneity(tf_idf, k, centroids, cluster_assignment)\n",
    "    print('seed={0:06d}, heterogeneity={1:.5f}'.format(seed, heterogeneity[seed]))\n",
    "    sys.stdout.flush()\n",
    "end = time.time()\n",
    "print(end-start)"
   ]
  },
  {
   "cell_type": "markdown",
   "metadata": {},
   "source": [
    "Notice the variation in heterogeneity for different initializations. This indicates that k-means sometimes gets stuck at a bad local minimum."
   ]
  },
  {
   "cell_type": "markdown",
   "metadata": {},
   "source": [
    "**Quiz Question**. Another way to capture the effect of changing initialization is to look at the distribution of cluster assignments. Add a line to the code above to compute the size (# of member data points) of clusters for each run of k-means. Look at the size of the largest cluster (most # of member data points) across multiple runs, with seeds 0, 20000, ..., 120000. How much does this measure vary across the runs? What is the minimum and maximum values this quantity takes?"
   ]
  },
  {
   "cell_type": "markdown",
   "metadata": {},
   "source": [
    "One effective way to counter this tendency is to use **k-means++** to provide a smart initialization. This method tries to spread out the initial set of centroids so that they are not too close together. It is known to improve the quality of local optima and lower average runtime."
   ]
  },
  {
   "cell_type": "code",
   "execution_count": 61,
   "metadata": {
    "collapsed": true
   },
   "outputs": [],
   "source": [
    "def smart_initialize(data, k, seed=None):\n",
    "    '''Use k-means++ to initialize a good set of centroids'''\n",
    "    if seed is not None: # useful for obtaining consistent results\n",
    "        np.random.seed(seed)\n",
    "    centroids = np.zeros((k, data.shape[1]))\n",
    "    \n",
    "    # Randomly choose the first centroid.\n",
    "    # Since we have no prior knowledge, choose uniformly at random\n",
    "    idx = np.random.randint(data.shape[0])\n",
    "    centroids[0] = data[idx,:].toarray()\n",
    "    # Compute distances from the first centroid chosen to all the other data points\n",
    "    squared_distances = pairwise_distances(data, centroids[0:1], metric='euclidean').flatten()**2\n",
    "    \n",
    "    for i in xrange(1, k):\n",
    "        # Choose the next centroid randomly, so that the probability for each data point to be chosen\n",
    "        # is directly proportional to its squared distance from the nearest centroid.\n",
    "        # Roughtly speaking, a new centroid should be as far as from ohter centroids as possible.\n",
    "        idx = np.random.choice(data.shape[0], 1, p=squared_distances/sum(squared_distances))\n",
    "        centroids[i] = data[idx,:].toarray()\n",
    "        # Now compute distances from the centroids to all data points\n",
    "        squared_distances = np.min(pairwise_distances(data, centroids[0:i+1], metric='euclidean')**2,axis=1)\n",
    "    \n",
    "    return centroids"
   ]
  },
  {
   "cell_type": "markdown",
   "metadata": {},
   "source": [
    "Let's now rerun k-means with 10 clusters using the same set of seeds, but always using k-means++ to initialize the algorithm.\n",
    "\n",
    "This may take several minutes to run."
   ]
  },
  {
   "cell_type": "code",
   "execution_count": 62,
   "metadata": {
    "collapsed": false
   },
   "outputs": [
    {
     "name": "stdout",
     "output_type": "stream",
     "text": [
      "seed=000000, heterogeneity=0.00000\n",
      "seed=020000, heterogeneity=0.00000\n",
      "seed=040000, heterogeneity=0.00000\n",
      "seed=060000, heterogeneity=0.00000\n",
      "seed=080000, heterogeneity=0.00000\n",
      "seed=100000, heterogeneity=0.00000\n",
      "seed=120000, heterogeneity=0.00000\n",
      "17.348772049\n"
     ]
    }
   ],
   "source": [
    "k = 10\n",
    "heterogeneity_smart = {}\n",
    "start = time.time()\n",
    "for seed in [0, 20000, 40000, 60000, 80000, 100000, 120000]:\n",
    "    initial_centroids = smart_initialize(tf_idf, k, seed)\n",
    "    centroids, cluster_assignment = kmeans(tf_idf, k, initial_centroids, maxiter=400,\n",
    "                                           record_heterogeneity=None, verbose=False)\n",
    "    # To save time, compute heterogeneity only once in the end\n",
    "    heterogeneity_smart[seed] = compute_heterogeneity(tf_idf, k, centroids, cluster_assignment)\n",
    "    print('seed={0:06d}, heterogeneity={1:.5f}'.format(seed, heterogeneity_smart[seed]))\n",
    "    sys.stdout.flush()\n",
    "end = time.time()\n",
    "print(end-start)"
   ]
  },
  {
   "cell_type": "markdown",
   "metadata": {},
   "source": [
    "Let's compare the set of cluster heterogeneities we got from our 7 restarts of k-means using random initialization compared to the 7 restarts of k-means using k-means++ as a smart initialization.\n",
    "\n",
    "The following code produces a [box plot](http://matplotlib.org/api/pyplot_api.html) for each of these methods, indicating the spread of values produced by each method."
   ]
  },
  {
   "cell_type": "code",
   "execution_count": 63,
   "metadata": {
    "collapsed": false
   },
   "outputs": [
    {
     "data": {
      "image/png": "[encoded data removed]",
      "text/plain": [
       "<matplotlib.figure.Figure at 0x12ad81490>"
      ]
     },
     "metadata": {},
     "output_type": "display_data"
    }
   ],
   "source": [
    "plt.figure(figsize=(8,5))\n",
    "plt.boxplot([heterogeneity.values(), heterogeneity_smart.values()], vert=False)\n",
    "plt.yticks([1, 2], ['k-means', 'k-means++'])\n",
    "plt.rcParams.update({'font.size': 16})\n",
    "plt.tight_layout()"
   ]
  },
  {
   "cell_type": "markdown",
   "metadata": {},
   "source": [
    "A few things to notice from the box plot:\n",
    "* On average, k-means++ produces a better clustering than Random initialization.\n",
    "* Variation in clustering quality is smaller for k-means++."
   ]
  },
  {
   "cell_type": "markdown",
   "metadata": {},
   "source": [
    "**In general, you should run k-means at least a few times with different initializations and then return the run resulting in the lowest heterogeneity.** Let us write a function that runs k-means multiple times and picks the best run that minimizes heterogeneity. The function accepts an optional list of seed values to be used for the multiple runs; if no such list is provided, the current UTC time is used as seed values."
   ]
  },
  {
   "cell_type": "code",
   "execution_count": null,
   "metadata": {
    "collapsed": true
   },
   "outputs": [],
   "source": [
    "def kmeans_multiple_runs(data, k, maxiter, num_runs, seed_list=None, verbose=False):\n",
    "    heterogeneity = {}\n",
    "    \n",
    "    min_heterogeneity_achieved = float('inf')\n",
    "    best_seed = None\n",
    "    final_centroids = None\n",
    "    final_cluster_assignment = None\n",
    "    \n",
    "    for i in xrange(num_runs):\n",
    "        \n",
    "        # Use UTC time if no seeds are provided \n",
    "        if seed_list is not None: \n",
    "            seed = seed_list[i]\n",
    "            np.random.seed(seed)\n",
    "        else: \n",
    "            seed = int(time.time())\n",
    "            np.random.seed(seed)\n",
    "        \n",
    "        # Use k-means++ initialization\n",
    "        # YOUR CODE HERE\n",
    "        initial_centroids = ...\n",
    "        \n",
    "        # Run k-means\n",
    "        # YOUR CODE HERE\n",
    "        centroids, cluster_assignment = ...\n",
    "        \n",
    "        # To save time, compute heterogeneity only once in the end\n",
    "        # YOUR CODE HERE\n",
    "        heterogeneity[seed] = ...\n",
    "        \n",
    "        if verbose:\n",
    "            print('seed={0:06d}, heterogeneity={1:.5f}'.format(seed, heterogeneity[seed]))\n",
    "            sys.stdout.flush()\n",
    "        \n",
    "        # if current measurement of heterogeneity is lower than previously seen,\n",
    "        # update the minimum record of heterogeneity.\n",
    "        if heterogeneity[seed] < min_heterogeneity_achieved:\n",
    "            min_heterogeneity_achieved = heterogeneity[seed]\n",
    "            best_seed = seed\n",
    "            final_centroids = centroids\n",
    "            final_cluster_assignment = cluster_assignment\n",
    "    \n",
    "    # Return the centroids and cluster assignments that minimize heterogeneity.\n",
    "    return final_centroids, final_cluster_assignment"
   ]
  },
  {
   "cell_type": "markdown",
   "metadata": {},
   "source": [
    "## How to choose K"
   ]
  },
  {
   "cell_type": "markdown",
   "metadata": {},
   "source": [
    "Since we are measuring the tightness of the clusters, a higher value of K reduces the possible heterogeneity metric by definition.  For example, if we have N data points and set K=N clusters, then we could have 0 cluster heterogeneity by setting the N centroids equal to the values of the N data points. (Note: Not all runs for larger K will result in lower heterogeneity than a single run with smaller K due to local optima.)  Let's explore this general trend for ourselves by performing the following analysis."
   ]
  },
  {
   "cell_type": "markdown",
   "metadata": {},
   "source": [
    "Use the `kmeans_multiple_runs` function to run k-means with five different values of K.  For each K, use k-means++ and multiple runs to pick the best solution.  In what follows, we consider K=2,10,25,50,100 and 7 restarts for each setting.\n",
    "\n",
    "**IMPORTANT: The code block below will take about one hour to finish. We highly suggest that you use the arrays that we have computed for you.**\n",
    "\n",
    "Side note: In practice, a good implementation of k-means would utilize parallelism to run multiple runs of k-means at once. For an example, see [scikit-learn's KMeans](http://scikit-learn.org/stable/modules/generated/sklearn.cluster.KMeans.html)."
   ]
  },
  {
   "cell_type": "code",
   "execution_count": null,
   "metadata": {
    "collapsed": false,
    "scrolled": false
   },
   "outputs": [],
   "source": [
    "#def plot_k_vs_heterogeneity(k_values, heterogeneity_values):\n",
    "#    plt.figure(figsize=(7,4))\n",
    "#    plt.plot(k_values, heterogeneity_values, linewidth=4)\n",
    "#    plt.xlabel('K')\n",
    "#    plt.ylabel('Heterogeneity')\n",
    "#    plt.title('K vs. Heterogeneity')\n",
    "#    plt.rcParams.update({'font.size': 16})\n",
    "#    plt.tight_layout()\n",
    "\n",
    "#start = time.time()\n",
    "#centroids = {}\n",
    "#cluster_assignment = {}\n",
    "#heterogeneity_values = []\n",
    "#k_list = [2, 10, 25, 50, 100]\n",
    "#seed_list = [0, 20000, 40000, 60000, 80000, 100000, 120000]\n",
    "\n",
    "#for k in k_list:\n",
    "#    heterogeneity = []\n",
    "#    centroids[k], cluster_assignment[k] = kmeans_multiple_runs(tf_idf, k, maxiter=400,\n",
    "#                                                               num_runs=len(seed_list),\n",
    "#                                                               seed_list=seed_list,\n",
    "#                                                               verbose=True)\n",
    "#    score = compute_heterogeneity(tf_idf, k, centroids[k], cluster_assignment[k])\n",
    "#    heterogeneity_values.append(score)\n",
    "\n",
    "#plot_k_vs_heterogeneity(k_list, heterogeneity_values)\n",
    "\n",
    "#end = time.time()\n",
    "#print(end-start)"
   ]
  },
  {
   "cell_type": "markdown",
   "metadata": {},
   "source": [
    "To use the pre-computed NumPy arrays, first download kmeans-arrays.npz as mentioned in the reading for this assignment and load them with the following code.  Make sure the downloaded file is in the same directory as this notebook."
   ]
  },
  {
   "cell_type": "code",
   "execution_count": null,
   "metadata": {
    "collapsed": false
   },
   "outputs": [],
   "source": [
    "def plot_k_vs_heterogeneity(k_values, heterogeneity_values):\n",
    "    plt.figure(figsize=(7,4))\n",
    "    plt.plot(k_values, heterogeneity_values, linewidth=4)\n",
    "    plt.xlabel('K')\n",
    "    plt.ylabel('Heterogeneity')\n",
    "    plt.title('K vs. Heterogeneity')\n",
    "    plt.rcParams.update({'font.size': 16})\n",
    "    plt.tight_layout()\n",
    "\n",
    "filename = 'kmeans-arrays.npz'\n",
    "\n",
    "heterogeneity_values = []\n",
    "k_list = [2, 10, 25, 50, 100]\n",
    "\n",
    "if os.path.exists(filename):\n",
    "    arrays = np.load(filename)\n",
    "    centroids = {}\n",
    "    cluster_assignment = {}\n",
    "    for k in k_list:\n",
    "        print k\n",
    "        sys.stdout.flush()\n",
    "        '''To save memory space, do not load the arrays from the file right away. We use\n",
    "           a technique known as lazy evaluation, where some expressions are not evaluated\n",
    "           until later. Any expression appearing inside a lambda function doesn't get\n",
    "           evaluated until the function is called.\n",
    "           Lazy evaluation is extremely important in memory-constrained setting, such as\n",
    "           an Amazon EC2 t2.micro instance.'''\n",
    "        centroids[k] = lambda k=k: arrays['centroids_{0:d}'.format(k)]\n",
    "        cluster_assignment[k] = lambda k=k: arrays['cluster_assignment_{0:d}'.format(k)]\n",
    "        score = compute_heterogeneity(tf_idf, k, centroids[k](), cluster_assignment[k]())\n",
    "        heterogeneity_values.append(score)\n",
    "    \n",
    "    plot_k_vs_heterogeneity(k_list, heterogeneity_values)\n",
    "\n",
    "else:\n",
    "    print('File not found. Skipping.')"
   ]
  },
  {
   "cell_type": "markdown",
   "metadata": {},
   "source": [
    "In the above plot we show that heterogeneity goes down as we increase the number of clusters. Does this mean we should always favor a higher K? **Not at all!** As we will see in the following section, setting K too high may end up separating data points that are actually pretty alike. At the extreme, we can set individual data points to be their own clusters (K=N) and achieve zero heterogeneity, but separating each data point into its own cluster is hardly a desirable outcome. In the following section, we will learn how to detect a K set \"too large\"."
   ]
  },
  {
   "cell_type": "markdown",
   "metadata": {},
   "source": [
    "## Visualize clusters of documents"
   ]
  },
  {
   "cell_type": "markdown",
   "metadata": {},
   "source": [
    "Let's start visualizing some clustering results to see if we think the clustering makes sense.  We can use such visualizations to help us assess whether we have set K too large or too small for a given application.  Following the theme of this course, we will judge whether the clustering makes sense in the context of document analysis.\n",
    "\n",
    "What are we looking for in a good clustering of documents?\n",
    "* Documents in the same cluster should be similar.\n",
    "* Documents from different clusters should be less similar.\n",
    "\n",
    "So a bad clustering exhibits either of two symptoms:\n",
    "* Documents in a cluster have mixed content.\n",
    "* Documents with similar content are divided up and put into different clusters.\n",
    "\n",
    "To help visualize the clustering, we do the following:\n",
    "* Fetch nearest neighbors of each centroid from the set of documents assigned to that cluster. We will consider these documents as being representative of the cluster.\n",
    "* Print titles and first sentences of those nearest neighbors.\n",
    "* Print top 5 words that have highest tf-idf weights in each centroid."
   ]
  },
  {
   "cell_type": "code",
   "execution_count": null,
   "metadata": {
    "collapsed": true
   },
   "outputs": [],
   "source": [
    "def visualize_document_clusters(wiki, tf_idf, centroids, cluster_assignment, k, map_index_to_word, display_content=True):\n",
    "    '''wiki: original dataframe\n",
    "       tf_idf: data matrix, sparse matrix format\n",
    "       map_index_to_word: SFrame specifying the mapping betweeen words and column indices\n",
    "       display_content: if True, display 8 nearest neighbors of each centroid'''\n",
    "    \n",
    "    print('==========================================================')\n",
    "\n",
    "    # Visualize each cluster c\n",
    "    for c in xrange(k):\n",
    "        # Cluster heading\n",
    "        print('Cluster {0:d}    '.format(c)),\n",
    "        # Print top 5 words with largest TF-IDF weights in the cluster\n",
    "        idx = centroids[c].argsort()[::-1]\n",
    "        for i in xrange(5): # Print each word along with the TF-IDF weight\n",
    "            print('{0:s}:{1:.3f}'.format(map_index_to_word['category'][idx[i]], centroids[c,idx[i]])),\n",
    "        print('')\n",
    "        \n",
    "        if display_content:\n",
    "            # Compute distances from the centroid to all data points in the cluster,\n",
    "            # and compute nearest neighbors of the centroids within the cluster.\n",
    "            distances = pairwise_distances(tf_idf, centroids[c].reshape(1, -1), metric='euclidean').flatten()\n",
    "            distances[cluster_assignment!=c] = float('inf') # remove non-members from consideration\n",
    "            nearest_neighbors = distances.argsort()\n",
    "            # For 8 nearest neighbors, print the title as well as first 180 characters of text.\n",
    "            # Wrap the text at 80-character mark.\n",
    "            for i in xrange(8):\n",
    "                text = ' '.join(wiki[nearest_neighbors[i]]['text'].split(None, 25)[0:25])\n",
    "                print('\\n* {0:50s} {1:.5f}\\n  {2:s}\\n  {3:s}'.format(wiki[nearest_neighbors[i]]['name'],\n",
    "                    distances[nearest_neighbors[i]], text[:90], text[90:180] if len(text) > 90 else ''))\n",
    "        print('==========================================================')"
   ]
  },
  {
   "cell_type": "markdown",
   "metadata": {},
   "source": [
    "Let us first look at the 2 cluster case (K=2)."
   ]
  },
  {
   "cell_type": "code",
   "execution_count": null,
   "metadata": {
    "collapsed": false
   },
   "outputs": [],
   "source": [
    "'''Notice the extra pairs of parentheses for centroids and cluster_assignment.\n",
    "   The centroid and cluster_assignment are still inside the npz file,\n",
    "   and we need to explicitly indicate when to load them into memory.'''\n",
    "visualize_document_clusters(wiki, tf_idf, centroids[2](), cluster_assignment[2](), 2, map_index_to_word)"
   ]
  },
  {
   "cell_type": "markdown",
   "metadata": {},
   "source": [
    "Both clusters have mixed content, although cluster 1 is much purer than cluster 0:\n",
    "* Cluster 0: artists, songwriters, professors, politicians, writers, etc.\n",
    "* Cluster 1: baseball players, hockey players, soccer (association football) players, etc.\n",
    "\n",
    "Top words of cluster 1 are all related to sports, whereas top words of cluster 0 show no clear pattern.\n",
    "\n",
    "Roughly speaking, the entire dataset was divided into athletes and non-athletes. It would be better if we sub-divided non-atheletes into more categories. So let us use more clusters. How about `K=10`?"
   ]
  },
  {
   "cell_type": "code",
   "execution_count": null,
   "metadata": {
    "collapsed": false,
    "scrolled": true
   },
   "outputs": [],
   "source": [
    "k = 10\n",
    "visualize_document_clusters(wiki, tf_idf, centroids[k](), cluster_assignment[k](), k, map_index_to_word)"
   ]
  },
  {
   "cell_type": "markdown",
   "metadata": {},
   "source": [
    "Clusters 0, 1, and 5 appear to be still mixed, but others are quite consistent in content.\n",
    "* Cluster 0: artists, actors, film directors, playwrights\n",
    "* Cluster 1: soccer (association football) players, rugby players\n",
    "* Cluster 2: track and field athletes\n",
    "* Cluster 3: baseball players\n",
    "* Cluster 4: professors, researchers, scholars\n",
    "* Cluster 5: Austrailian rules football players, American football players\n",
    "* Cluster 6: female figures from various fields\n",
    "* Cluster 7: composers, songwriters, singers, music producers\n",
    "* Cluster 8: ice hockey players\n",
    "* Cluster 9: politicians\n",
    "\n",
    "Clusters are now more pure, but some are qualitatively \"bigger\" than others. For instance, the category of scholars is more general than the category of baseball players. Increasing the number of clusters may split larger clusters. Another way to look at the size of the clusters is to count the number of articles in each cluster."
   ]
  },
  {
   "cell_type": "code",
   "execution_count": null,
   "metadata": {
    "collapsed": false
   },
   "outputs": [],
   "source": [
    "np.bincount(cluster_assignment[10]())"
   ]
  },
  {
   "cell_type": "markdown",
   "metadata": {},
   "source": [
    "**Quiz Question**. Which of the 10 clusters above contains the greatest number of articles?\n",
    "\n",
    "1. Cluster 0: artists, actors, film directors, playwrights\n",
    "2. Cluster 4: professors, researchers, scholars\n",
    "3. Cluster 5: Austrailian rules football players, American football players\n",
    "4. Cluster 7: composers, songwriters, singers, music producers\n",
    "5. Cluster 9: politicians"
   ]
  },
  {
   "cell_type": "markdown",
   "metadata": {},
   "source": [
    "**Quiz Question**. Which of the 10 clusters contains the least number of articles?\n",
    "\n",
    "1. Cluster 1: soccer (association football) players, rugby players\n",
    "2. Cluster 3: baseball players\n",
    "3. Cluster 6: female figures from various fields\n",
    "4. Cluster 7: composers, songwriters, singers, music producers\n",
    "5. Cluster 8: ice hockey players"
   ]
  },
  {
   "cell_type": "markdown",
   "metadata": {},
   "source": [
    "There appears to be at least some connection between the topical consistency of a cluster and the number of its member data points."
   ]
  },
  {
   "cell_type": "markdown",
   "metadata": {},
   "source": [
    "Let us visualize the case for K=25. For the sake of brevity, we do not print the content of documents. It turns out that the top words with highest TF-IDF weights in each cluster are representative of the cluster."
   ]
  },
  {
   "cell_type": "code",
   "execution_count": null,
   "metadata": {
    "collapsed": false,
    "scrolled": false
   },
   "outputs": [],
   "source": [
    "visualize_document_clusters(wiki, tf_idf, centroids[25](), cluster_assignment[25](), 25,\n",
    "                            map_index_to_word, display_content=False) # turn off text for brevity"
   ]
  },
  {
   "cell_type": "markdown",
   "metadata": {
    "collapsed": true
   },
   "source": [
    "Looking at the representative examples and top words, we classify each cluster as follows. Notice the bolded items, which indicate the appearance of a new theme.\n",
    "* Cluster 0: **lawyers, judges, legal scholars**\n",
    "* Cluster 1: **professors, researchers, scholars (natural and health sciences)**\n",
    "* Cluster 2: ice hockey players\n",
    "* Cluster 3: politicans\n",
    "* Cluster 4: **government officials**\n",
    "* Cluster 5: politicans\n",
    "* Cluster 6: **professors, researchers, scholars (social sciences and humanities)**\n",
    "* Cluster 7: Canadian politicians\n",
    "* Cluster 8: **car racers**\n",
    "* Cluster 9: **economists**\n",
    "* Cluster 10: track and field athletes\n",
    "* Cluster 11: females from various fields\n",
    "* Cluster 12: (mixed; no clear theme)\n",
    "* Cluster 13: baseball players\n",
    "* Cluster 14: **painters, sculptors, artists**\n",
    "* Cluster 15: Austrailian rules football players, American football players\n",
    "* Cluster 16: **musicians, composers**\n",
    "* Cluster 17: soccer (association football) players, rugby players\n",
    "* Cluster 18: **poets**\n",
    "* Cluster 19: **film directors, playwrights**\n",
    "* Cluster 20: **songwriters, singers, music producers**\n",
    "* Cluster 21: **generals of U.S. Air Force**\n",
    "* Cluster 22: **music directors, conductors**\n",
    "* Cluster 23: **basketball players**\n",
    "* Cluster 24: **golf players**\n",
    "\n",
    "Indeed, increasing K achieved the desired effect of breaking up large clusters.  Depending on the application, this may or may not be preferable to the K=10 analysis.\n",
    "\n",
    "Let's take it to the extreme and set K=100. We have a suspicion that this value is too large. Let us look at the top words from each cluster:"
   ]
  },
  {
   "cell_type": "code",
   "execution_count": null,
   "metadata": {
    "collapsed": false,
    "scrolled": false
   },
   "outputs": [],
   "source": [
    "k=100\n",
    "visualize_document_clusters(wiki, tf_idf, centroids[k](), cluster_assignment[k](), k,\n",
    "                            map_index_to_word, display_content=False)\n",
    "# turn off text for brevity -- turn it on if you are curious ;)"
   ]
  },
  {
   "cell_type": "markdown",
   "metadata": {},
   "source": [
    "The class of soccer (association football) players has been broken into two clusters (44 and 45). Same goes for Austrialian rules football players (clusters 26 and 48). The class of baseball players have been also broken into two clusters (16 and 91).\n",
    "\n",
    "**A high value of K encourages pure clusters, but we cannot keep increasing K. For large enough K, related documents end up going to different clusters.**\n",
    "\n",
    "That said, the result for K=100 is not entirely bad. After all, it gives us separate clusters for such categories as Brazil, wrestling, computer science and the Mormon Church. If we set K somewhere between 25 and 100, we should be able to avoid breaking up clusters while discovering new ones.\n",
    "\n",
    "Also, we should ask ourselves how much **granularity** we want in our clustering. If we wanted a rough sketch of Wikipedia, we don't want too detailed clusters. On the other hand, having many clusters can be valuable when we are zooming into a certain part of Wikipedia.\n",
    "\n",
    "**There is no golden rule for choosing K. It all depends on the particular application and domain we are in.**\n",
    "\n",
    "Another heuristic people use that does not rely on so much visualization, which can be hard in many applications (including here!) is as follows.  Track heterogeneity versus K and look for the \"elbow\" of the curve where the heterogeneity decrease rapidly before this value of K, but then only gradually for larger values of K.  This naturally trades off between trying to minimize heterogeneity, but reduce model complexity.  In the heterogeneity versus K plot made above, we did not yet really see a flattening out of the heterogeneity, which might indicate that indeed K=100 is \"reasonable\" and we only see real overfitting for larger values of K (which are even harder to visualize using the methods we attempted above.)"
   ]
  },
  {
   "cell_type": "markdown",
   "metadata": {
    "collapsed": true
   },
   "source": [
    "**Quiz Question**. Another sign of too large K is having lots of small clusters. Look at the distribution of cluster sizes (by number of member data points). How many of the 100 clusters have fewer than 236 articles, i.e. 0.4% of the dataset?\n",
    "\n",
    "Hint: Use `cluster_assignment[100]()`, with the extra pair of parentheses for delayed loading."
   ]
  },
  {
   "cell_type": "markdown",
   "metadata": {},
   "source": [
    "### Takeaway\n",
    "\n",
    "Keep in mind though that tiny clusters aren't necessarily bad. A tiny cluster of documents that really look like each others is definitely preferable to a medium-sized cluster of documents with mixed content. However, having too few articles in a cluster may cause overfitting by reading too much into a limited pool of training data."
   ]
  }
 ],
 "metadata": {
  "kernelspec": {
   "display_name": "Python 2",
   "language": "python",
   "name": "python2"
  },
  "language_info": {
   "codemirror_mode": {
    "name": "ipython",
    "version": 2
   },
   "file_extension": ".py",
   "mimetype": "text/x-python",
   "name": "python",
   "nbconvert_exporter": "python",
   "pygments_lexer": "ipython2",
   "version": "2.7.11"
  }
 },
 "nbformat": 4,
 "nbformat_minor": 0
}
